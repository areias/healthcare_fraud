{
 "cells": [
  {
   "cell_type": "markdown",
   "id": "d948c66b",
   "metadata": {},
   "source": [
    "## Health Insurance Fraud"
   ]
  },
  {
   "cell_type": "markdown",
   "id": "dfa5ceb6",
   "metadata": {},
   "source": [
    "![](schema_draft_3.png)"
   ]
  },
  {
   "cell_type": "code",
   "execution_count": 1,
   "id": "b6c584f6",
   "metadata": {},
   "outputs": [],
   "source": [
    "from py2neo import Graph, Node\n",
    "db = Graph(scheme=\"bolt\", host=\"localhost\", port=7687, secure=False, \n",
    "                auth=('neo4j', 'test'))\n",
    "#db.delete_all()"
   ]
  },
  {
   "cell_type": "code",
   "execution_count": 2,
   "id": "87a5f4f7",
   "metadata": {},
   "outputs": [],
   "source": [
    "import pandas as pd\n"
   ]
  },
  {
   "cell_type": "code",
   "execution_count": 3,
   "id": "4ca253da",
   "metadata": {},
   "outputs": [
    {
     "name": "stdout",
     "output_type": "stream",
     "text": [
      " Le volume dans le lecteur C nâ€™a pas de nom.\n",
      " Le numÃ©ro de sÃ©rie du volume est EE44-8BAE\n",
      "\n",
      " RÃ©pertoire de C:\\Users\\LENOVO\\Documents\\GitHub\\healthcare_fraud\\data\n",
      "\n",
      "14/12/2021  10:13    <DIR>          .\n",
      "14/12/2021  10:13    <DIR>          ..\n",
      "23/10/2019  08:12         5Â 325Â 982 Test_Beneficiarydata-1542969243754.csv\n",
      "23/10/2019  08:12         2Â 020Â 712 Test_Inpatientdata-1542969243754.csv\n",
      "23/10/2019  08:12        18Â 806Â 934 Test_Outpatientdata-1542969243754.csv\n",
      "23/10/2019  08:12            14Â 894 Test-1542969243754.csv\n",
      "23/10/2019  08:12        11Â 444Â 821 Train_Beneficiarydata-1542865627584.csv\n",
      "23/10/2019  08:12         8Â 572Â 555 Train_Inpatientdata-1542865627584.csv\n",
      "23/10/2019  08:12        77Â 391Â 090 Train_Outpatientdata-1542865627584.csv\n",
      "23/10/2019  08:12            87Â 094 Train-1542865627584.csv\n",
      "               8 fichier(s)      123Â 664Â 082 octets\n",
      "               2 RÃ©p(s)  399Â 197Â 986Â 816 octets libres\n"
     ]
    }
   ],
   "source": [
    "%ls data"
   ]
  },
  {
   "cell_type": "code",
   "execution_count": 4,
   "id": "bd701ab0",
   "metadata": {},
   "outputs": [],
   "source": [
    "df=pd.read_csv(\"data/Train_Beneficiarydata-1542865627584.csv\")"
   ]
  },
  {
   "cell_type": "code",
   "execution_count": 5,
   "id": "c5f733b2",
   "metadata": {},
   "outputs": [
    {
     "data": {
      "text/plain": [
       "Index(['BeneID', 'DOB', 'DOD', 'Gender', 'Race', 'RenalDiseaseIndicator',\n",
       "       'State', 'County', 'NoOfMonths_PartACov', 'NoOfMonths_PartBCov',\n",
       "       'ChronicCond_Alzheimer', 'ChronicCond_Heartfailure',\n",
       "       'ChronicCond_KidneyDisease', 'ChronicCond_Cancer',\n",
       "       'ChronicCond_ObstrPulmonary', 'ChronicCond_Depression',\n",
       "       'ChronicCond_Diabetes', 'ChronicCond_IschemicHeart',\n",
       "       'ChronicCond_Osteoporasis', 'ChronicCond_rheumatoidarthritis',\n",
       "       'ChronicCond_stroke', 'IPAnnualReimbursementAmt',\n",
       "       'IPAnnualDeductibleAmt', 'OPAnnualReimbursementAmt',\n",
       "       'OPAnnualDeductibleAmt'],\n",
       "      dtype='object')"
      ]
     },
     "execution_count": 5,
     "metadata": {},
     "output_type": "execute_result"
    }
   ],
   "source": [
    "df.columns"
   ]
  },
  {
   "cell_type": "code",
   "execution_count": 6,
   "id": "7d61a9af",
   "metadata": {},
   "outputs": [
    {
     "data": {
      "text/html": [
       "<div>\n",
       "<style scoped>\n",
       "    .dataframe tbody tr th:only-of-type {\n",
       "        vertical-align: middle;\n",
       "    }\n",
       "\n",
       "    .dataframe tbody tr th {\n",
       "        vertical-align: top;\n",
       "    }\n",
       "\n",
       "    .dataframe thead th {\n",
       "        text-align: right;\n",
       "    }\n",
       "</style>\n",
       "<table border=\"1\" class=\"dataframe\">\n",
       "  <thead>\n",
       "    <tr style=\"text-align: right;\">\n",
       "      <th></th>\n",
       "      <th>BeneID</th>\n",
       "      <th>DOB</th>\n",
       "      <th>DOD</th>\n",
       "      <th>Gender</th>\n",
       "      <th>Race</th>\n",
       "      <th>RenalDiseaseIndicator</th>\n",
       "      <th>State</th>\n",
       "      <th>County</th>\n",
       "      <th>NoOfMonths_PartACov</th>\n",
       "      <th>NoOfMonths_PartBCov</th>\n",
       "      <th>...</th>\n",
       "      <th>ChronicCond_Depression</th>\n",
       "      <th>ChronicCond_Diabetes</th>\n",
       "      <th>ChronicCond_IschemicHeart</th>\n",
       "      <th>ChronicCond_Osteoporasis</th>\n",
       "      <th>ChronicCond_rheumatoidarthritis</th>\n",
       "      <th>ChronicCond_stroke</th>\n",
       "      <th>IPAnnualReimbursementAmt</th>\n",
       "      <th>IPAnnualDeductibleAmt</th>\n",
       "      <th>OPAnnualReimbursementAmt</th>\n",
       "      <th>OPAnnualDeductibleAmt</th>\n",
       "    </tr>\n",
       "  </thead>\n",
       "  <tbody>\n",
       "    <tr>\n",
       "      <th>0</th>\n",
       "      <td>BENE11001</td>\n",
       "      <td>1943-01-01</td>\n",
       "      <td>NaN</td>\n",
       "      <td>1</td>\n",
       "      <td>1</td>\n",
       "      <td>0</td>\n",
       "      <td>39</td>\n",
       "      <td>230</td>\n",
       "      <td>12</td>\n",
       "      <td>12</td>\n",
       "      <td>...</td>\n",
       "      <td>1</td>\n",
       "      <td>1</td>\n",
       "      <td>1</td>\n",
       "      <td>2</td>\n",
       "      <td>1</td>\n",
       "      <td>1</td>\n",
       "      <td>36000</td>\n",
       "      <td>3204</td>\n",
       "      <td>60</td>\n",
       "      <td>70</td>\n",
       "    </tr>\n",
       "    <tr>\n",
       "      <th>1</th>\n",
       "      <td>BENE11002</td>\n",
       "      <td>1936-09-01</td>\n",
       "      <td>NaN</td>\n",
       "      <td>2</td>\n",
       "      <td>1</td>\n",
       "      <td>0</td>\n",
       "      <td>39</td>\n",
       "      <td>280</td>\n",
       "      <td>12</td>\n",
       "      <td>12</td>\n",
       "      <td>...</td>\n",
       "      <td>2</td>\n",
       "      <td>2</td>\n",
       "      <td>2</td>\n",
       "      <td>2</td>\n",
       "      <td>2</td>\n",
       "      <td>2</td>\n",
       "      <td>0</td>\n",
       "      <td>0</td>\n",
       "      <td>30</td>\n",
       "      <td>50</td>\n",
       "    </tr>\n",
       "    <tr>\n",
       "      <th>2</th>\n",
       "      <td>BENE11003</td>\n",
       "      <td>1936-08-01</td>\n",
       "      <td>NaN</td>\n",
       "      <td>1</td>\n",
       "      <td>1</td>\n",
       "      <td>0</td>\n",
       "      <td>52</td>\n",
       "      <td>590</td>\n",
       "      <td>12</td>\n",
       "      <td>12</td>\n",
       "      <td>...</td>\n",
       "      <td>2</td>\n",
       "      <td>2</td>\n",
       "      <td>1</td>\n",
       "      <td>2</td>\n",
       "      <td>2</td>\n",
       "      <td>2</td>\n",
       "      <td>0</td>\n",
       "      <td>0</td>\n",
       "      <td>90</td>\n",
       "      <td>40</td>\n",
       "    </tr>\n",
       "    <tr>\n",
       "      <th>3</th>\n",
       "      <td>BENE11004</td>\n",
       "      <td>1922-07-01</td>\n",
       "      <td>NaN</td>\n",
       "      <td>1</td>\n",
       "      <td>1</td>\n",
       "      <td>0</td>\n",
       "      <td>39</td>\n",
       "      <td>270</td>\n",
       "      <td>12</td>\n",
       "      <td>12</td>\n",
       "      <td>...</td>\n",
       "      <td>2</td>\n",
       "      <td>1</td>\n",
       "      <td>1</td>\n",
       "      <td>1</td>\n",
       "      <td>1</td>\n",
       "      <td>2</td>\n",
       "      <td>0</td>\n",
       "      <td>0</td>\n",
       "      <td>1810</td>\n",
       "      <td>760</td>\n",
       "    </tr>\n",
       "    <tr>\n",
       "      <th>4</th>\n",
       "      <td>BENE11005</td>\n",
       "      <td>1935-09-01</td>\n",
       "      <td>NaN</td>\n",
       "      <td>1</td>\n",
       "      <td>1</td>\n",
       "      <td>0</td>\n",
       "      <td>24</td>\n",
       "      <td>680</td>\n",
       "      <td>12</td>\n",
       "      <td>12</td>\n",
       "      <td>...</td>\n",
       "      <td>2</td>\n",
       "      <td>1</td>\n",
       "      <td>2</td>\n",
       "      <td>2</td>\n",
       "      <td>2</td>\n",
       "      <td>2</td>\n",
       "      <td>0</td>\n",
       "      <td>0</td>\n",
       "      <td>1790</td>\n",
       "      <td>1200</td>\n",
       "    </tr>\n",
       "  </tbody>\n",
       "</table>\n",
       "<p>5 rows × 25 columns</p>\n",
       "</div>"
      ],
      "text/plain": [
       "      BeneID         DOB  DOD  Gender  Race RenalDiseaseIndicator  State  \\\n",
       "0  BENE11001  1943-01-01  NaN       1     1                     0     39   \n",
       "1  BENE11002  1936-09-01  NaN       2     1                     0     39   \n",
       "2  BENE11003  1936-08-01  NaN       1     1                     0     52   \n",
       "3  BENE11004  1922-07-01  NaN       1     1                     0     39   \n",
       "4  BENE11005  1935-09-01  NaN       1     1                     0     24   \n",
       "\n",
       "   County  NoOfMonths_PartACov  NoOfMonths_PartBCov  ...  \\\n",
       "0     230                   12                   12  ...   \n",
       "1     280                   12                   12  ...   \n",
       "2     590                   12                   12  ...   \n",
       "3     270                   12                   12  ...   \n",
       "4     680                   12                   12  ...   \n",
       "\n",
       "   ChronicCond_Depression  ChronicCond_Diabetes  ChronicCond_IschemicHeart  \\\n",
       "0                       1                     1                          1   \n",
       "1                       2                     2                          2   \n",
       "2                       2                     2                          1   \n",
       "3                       2                     1                          1   \n",
       "4                       2                     1                          2   \n",
       "\n",
       "   ChronicCond_Osteoporasis  ChronicCond_rheumatoidarthritis  \\\n",
       "0                         2                                1   \n",
       "1                         2                                2   \n",
       "2                         2                                2   \n",
       "3                         1                                1   \n",
       "4                         2                                2   \n",
       "\n",
       "   ChronicCond_stroke  IPAnnualReimbursementAmt  IPAnnualDeductibleAmt  \\\n",
       "0                   1                     36000                   3204   \n",
       "1                   2                         0                      0   \n",
       "2                   2                         0                      0   \n",
       "3                   2                         0                      0   \n",
       "4                   2                         0                      0   \n",
       "\n",
       "   OPAnnualReimbursementAmt  OPAnnualDeductibleAmt  \n",
       "0                        60                     70  \n",
       "1                        30                     50  \n",
       "2                        90                     40  \n",
       "3                      1810                    760  \n",
       "4                      1790                   1200  \n",
       "\n",
       "[5 rows x 25 columns]"
      ]
     },
     "execution_count": 6,
     "metadata": {},
     "output_type": "execute_result"
    }
   ],
   "source": [
    "df.head()"
   ]
  },
  {
   "cell_type": "markdown",
   "id": "36d90d0f",
   "metadata": {},
   "source": [
    "## Beneficiary nodes\n"
   ]
  },
  {
   "cell_type": "code",
   "execution_count": 7,
   "id": "c37a69ea",
   "metadata": {},
   "outputs": [
    {
     "data": {
      "text/plain": [
       "['BENE11001', 'BENE11002', 'BENE11003']"
      ]
     },
     "execution_count": 7,
     "metadata": {},
     "output_type": "execute_result"
    }
   ],
   "source": [
    "beneficiaries = list(df.BeneID.unique())\n",
    "beneficiaries[:3]"
   ]
  },
  {
   "cell_type": "code",
   "execution_count": 8,
   "id": "64c9084c",
   "metadata": {},
   "outputs": [
    {
     "data": {
      "text/plain": [
       "138556"
      ]
     },
     "execution_count": 8,
     "metadata": {},
     "output_type": "execute_result"
    }
   ],
   "source": [
    "len(beneficiaries)"
   ]
  },
  {
   "cell_type": "code",
   "execution_count": 9,
   "id": "6bf9207a",
   "metadata": {},
   "outputs": [],
   "source": [
    "bens = [{'idx': x} for x in beneficiaries]"
   ]
  },
  {
   "cell_type": "code",
   "execution_count": 38,
   "id": "870081f7",
   "metadata": {},
   "outputs": [
    {
     "data": {
      "text/plain": [
       "[{'idx': 'BENE11001'}, {'idx': 'BENE11002'}, {'idx': 'BENE11003'}]"
      ]
     },
     "execution_count": 38,
     "metadata": {},
     "output_type": "execute_result"
    }
   ],
   "source": [
    "bens[:3]"
   ]
  },
  {
   "cell_type": "code",
   "execution_count": 39,
   "id": "da278045",
   "metadata": {},
   "outputs": [],
   "source": [
    "# set constraint on beneficiary node that idx is unique\n",
    "query=\"\"\"CREATE CONSTRAINT ON (n:Beneficiary) ASSERT n.idx IS UNIQUE\"\"\""
   ]
  },
  {
   "cell_type": "code",
   "execution_count": null,
   "id": "84974fc6",
   "metadata": {},
   "outputs": [],
   "source": [
    "db.run(query)"
   ]
  },
  {
   "cell_type": "code",
   "execution_count": 41,
   "id": "4500c46f",
   "metadata": {},
   "outputs": [
    {
     "data": {
      "text/html": [
       "(No data)"
      ],
      "text/plain": [
       "(No data)"
      ]
     },
     "execution_count": 41,
     "metadata": {},
     "output_type": "execute_result"
    }
   ],
   "source": [
    "query = \"\"\"\n",
    "    UNWIND $bens AS ben\n",
    "    MERGE (b:Beneficiary {idx: ben.idx})\n",
    "        \"\"\"\n",
    "db.run(query, {\"bens\":bens})"
   ]
  },
  {
   "cell_type": "markdown",
   "id": "3cc24116",
   "metadata": {},
   "source": [
    "## Provider nodes"
   ]
  },
  {
   "cell_type": "code",
   "execution_count": 6,
   "id": "80699e48",
   "metadata": {},
   "outputs": [],
   "source": [
    "df_in = pd.read_csv(\"data/Train_Inpatientdata-1542865627584.csv\")"
   ]
  },
  {
   "cell_type": "code",
   "execution_count": 7,
   "id": "75bb5940",
   "metadata": {},
   "outputs": [
    {
     "data": {
      "text/plain": [
       "Index(['BeneID', 'ClaimID', 'ClaimStartDt', 'ClaimEndDt', 'Provider',\n",
       "       'InscClaimAmtReimbursed', 'AttendingPhysician', 'OperatingPhysician',\n",
       "       'OtherPhysician', 'AdmissionDt', 'ClmAdmitDiagnosisCode',\n",
       "       'DeductibleAmtPaid', 'DischargeDt', 'DiagnosisGroupCode',\n",
       "       'ClmDiagnosisCode_1', 'ClmDiagnosisCode_2', 'ClmDiagnosisCode_3',\n",
       "       'ClmDiagnosisCode_4', 'ClmDiagnosisCode_5', 'ClmDiagnosisCode_6',\n",
       "       'ClmDiagnosisCode_7', 'ClmDiagnosisCode_8', 'ClmDiagnosisCode_9',\n",
       "       'ClmDiagnosisCode_10', 'ClmProcedureCode_1', 'ClmProcedureCode_2',\n",
       "       'ClmProcedureCode_3', 'ClmProcedureCode_4', 'ClmProcedureCode_5',\n",
       "       'ClmProcedureCode_6'],\n",
       "      dtype='object')"
      ]
     },
     "execution_count": 7,
     "metadata": {},
     "output_type": "execute_result"
    }
   ],
   "source": [
    "df_in.columns"
   ]
  },
  {
   "cell_type": "code",
   "execution_count": 8,
   "id": "f7edf6f8",
   "metadata": {},
   "outputs": [],
   "source": [
    "df_out = pd.read_csv(\"data/Train_Outpatientdata-1542865627584.csv\")"
   ]
  },
  {
   "cell_type": "code",
   "execution_count": 9,
   "id": "2474c63a",
   "metadata": {},
   "outputs": [
    {
     "data": {
      "text/plain": [
       "Index(['BeneID', 'ClaimID', 'ClaimStartDt', 'ClaimEndDt', 'Provider',\n",
       "       'InscClaimAmtReimbursed', 'AttendingPhysician', 'OperatingPhysician',\n",
       "       'OtherPhysician', 'ClmDiagnosisCode_1', 'ClmDiagnosisCode_2',\n",
       "       'ClmDiagnosisCode_3', 'ClmDiagnosisCode_4', 'ClmDiagnosisCode_5',\n",
       "       'ClmDiagnosisCode_6', 'ClmDiagnosisCode_7', 'ClmDiagnosisCode_8',\n",
       "       'ClmDiagnosisCode_9', 'ClmDiagnosisCode_10', 'ClmProcedureCode_1',\n",
       "       'ClmProcedureCode_2', 'ClmProcedureCode_3', 'ClmProcedureCode_4',\n",
       "       'ClmProcedureCode_5', 'ClmProcedureCode_6', 'DeductibleAmtPaid',\n",
       "       'ClmAdmitDiagnosisCode'],\n",
       "      dtype='object')"
      ]
     },
     "execution_count": 9,
     "metadata": {},
     "output_type": "execute_result"
    }
   ],
   "source": [
    "df_out.columns"
   ]
  },
  {
   "cell_type": "code",
   "execution_count": 14,
   "id": "5b5e1565",
   "metadata": {},
   "outputs": [],
   "source": [
    "providers = list(set(list(df_in.Provider.unique()) + list(df_out.Provider.unique())))"
   ]
  },
  {
   "cell_type": "code",
   "execution_count": 19,
   "id": "c9e346b3",
   "metadata": {},
   "outputs": [
    {
     "data": {
      "text/plain": [
       "5410"
      ]
     },
     "execution_count": 19,
     "metadata": {},
     "output_type": "execute_result"
    }
   ],
   "source": [
    "len(providers)"
   ]
  },
  {
   "cell_type": "code",
   "execution_count": 20,
   "id": "e2401410",
   "metadata": {},
   "outputs": [
    {
     "data": {
      "text/plain": [
       "['PRV57088', 'PRV57251', 'PRV56718', 'PRV53015']"
      ]
     },
     "execution_count": 20,
     "metadata": {},
     "output_type": "execute_result"
    }
   ],
   "source": [
    "providers[:4]"
   ]
  },
  {
   "cell_type": "code",
   "execution_count": 21,
   "id": "9a6c4de5",
   "metadata": {},
   "outputs": [],
   "source": [
    "provs=[{\"idx\": x} for x in providers]"
   ]
  },
  {
   "cell_type": "code",
   "execution_count": 22,
   "id": "9f2769de",
   "metadata": {},
   "outputs": [],
   "source": [
    "# set constraint on beneficiary node that idx is unique\n",
    "query=\"\"\"CREATE CONSTRAINT ON (n:Provider) ASSERT n.idx IS UNIQUE\"\"\""
   ]
  },
  {
   "cell_type": "code",
   "execution_count": 23,
   "id": "8194d189",
   "metadata": {},
   "outputs": [
    {
     "data": {
      "text/html": [
       "(No data)"
      ],
      "text/plain": [
       "(No data)"
      ]
     },
     "execution_count": 23,
     "metadata": {},
     "output_type": "execute_result"
    }
   ],
   "source": [
    "db.run(query)"
   ]
  },
  {
   "cell_type": "code",
   "execution_count": 24,
   "id": "c28c0e5d",
   "metadata": {},
   "outputs": [
    {
     "data": {
      "text/html": [
       "(No data)"
      ],
      "text/plain": [
       "(No data)"
      ]
     },
     "execution_count": 24,
     "metadata": {},
     "output_type": "execute_result"
    }
   ],
   "source": [
    "query = \"\"\"\n",
    "    UNWIND $provs AS prov\n",
    "    MERGE (b:Provider {idx: prov.idx})\n",
    "        \"\"\"\n",
    "db.run(query, {\"provs\":provs})"
   ]
  },
  {
   "cell_type": "markdown",
   "id": "32db80bd",
   "metadata": {},
   "source": [
    "## (Provider)-[:HAS_BENEFICIARY]->(Beneficiary)"
   ]
  },
  {
   "cell_type": "code",
   "execution_count": 10,
   "id": "a388cd8b",
   "metadata": {},
   "outputs": [],
   "source": [
    "df_in[\"type\"]=\"Inpatient\""
   ]
  },
  {
   "cell_type": "code",
   "execution_count": 11,
   "id": "e4b0f944",
   "metadata": {},
   "outputs": [],
   "source": [
    "df_out['type']=\"Outpatient\""
   ]
  },
  {
   "cell_type": "code",
   "execution_count": 12,
   "id": "e894e4ca",
   "metadata": {},
   "outputs": [],
   "source": [
    "df_all=df_in.append(df_out)"
   ]
  },
  {
   "cell_type": "code",
   "execution_count": 28,
   "id": "58c2b443",
   "metadata": {},
   "outputs": [
    {
     "data": {
      "text/plain": [
       "558211"
      ]
     },
     "execution_count": 28,
     "metadata": {},
     "output_type": "execute_result"
    }
   ],
   "source": [
    "len(df_all)"
   ]
  },
  {
   "cell_type": "code",
   "execution_count": 29,
   "id": "82117903",
   "metadata": {},
   "outputs": [
    {
     "data": {
      "text/plain": [
       "Outpatient    517737\n",
       "Inpatient      40474\n",
       "Name: type, dtype: int64"
      ]
     },
     "execution_count": 29,
     "metadata": {},
     "output_type": "execute_result"
    }
   ],
   "source": [
    "df_all.type.value_counts()"
   ]
  },
  {
   "cell_type": "code",
   "execution_count": 30,
   "id": "975545f4",
   "metadata": {},
   "outputs": [
    {
     "data": {
      "text/plain": [
       "40474"
      ]
     },
     "execution_count": 30,
     "metadata": {},
     "output_type": "execute_result"
    }
   ],
   "source": [
    "len(df_in)"
   ]
  },
  {
   "cell_type": "code",
   "execution_count": 31,
   "id": "4c47b83f",
   "metadata": {},
   "outputs": [
    {
     "data": {
      "text/plain": [
       "517737"
      ]
     },
     "execution_count": 31,
     "metadata": {},
     "output_type": "execute_result"
    }
   ],
   "source": [
    "len(df_out)"
   ]
  },
  {
   "cell_type": "code",
   "execution_count": 23,
   "id": "c23948f3",
   "metadata": {},
   "outputs": [],
   "source": [
    "grp=df_all.groupby(['Provider','BeneID'])['ClaimID'].count()"
   ]
  },
  {
   "cell_type": "code",
   "execution_count": 24,
   "id": "ec8cfcbd",
   "metadata": {},
   "outputs": [],
   "source": [
    "grp=grp.reset_index()\n"
   ]
  },
  {
   "cell_type": "code",
   "execution_count": 25,
   "id": "76b86ea5",
   "metadata": {},
   "outputs": [
    {
     "data": {
      "text/html": [
       "<div>\n",
       "<style scoped>\n",
       "    .dataframe tbody tr th:only-of-type {\n",
       "        vertical-align: middle;\n",
       "    }\n",
       "\n",
       "    .dataframe tbody tr th {\n",
       "        vertical-align: top;\n",
       "    }\n",
       "\n",
       "    .dataframe thead th {\n",
       "        text-align: right;\n",
       "    }\n",
       "</style>\n",
       "<table border=\"1\" class=\"dataframe\">\n",
       "  <thead>\n",
       "    <tr style=\"text-align: right;\">\n",
       "      <th></th>\n",
       "      <th>Provider</th>\n",
       "      <th>BeneID</th>\n",
       "      <th>ClaimID</th>\n",
       "    </tr>\n",
       "  </thead>\n",
       "  <tbody>\n",
       "    <tr>\n",
       "      <th>0</th>\n",
       "      <td>PRV51001</td>\n",
       "      <td>BENE102690</td>\n",
       "      <td>1</td>\n",
       "    </tr>\n",
       "    <tr>\n",
       "      <th>1</th>\n",
       "      <td>PRV51001</td>\n",
       "      <td>BENE106078</td>\n",
       "      <td>1</td>\n",
       "    </tr>\n",
       "    <tr>\n",
       "      <th>2</th>\n",
       "      <td>PRV51001</td>\n",
       "      <td>BENE11727</td>\n",
       "      <td>1</td>\n",
       "    </tr>\n",
       "    <tr>\n",
       "      <th>3</th>\n",
       "      <td>PRV51001</td>\n",
       "      <td>BENE123416</td>\n",
       "      <td>1</td>\n",
       "    </tr>\n",
       "    <tr>\n",
       "      <th>4</th>\n",
       "      <td>PRV51001</td>\n",
       "      <td>BENE126477</td>\n",
       "      <td>1</td>\n",
       "    </tr>\n",
       "  </tbody>\n",
       "</table>\n",
       "</div>"
      ],
      "text/plain": [
       "   Provider      BeneID  ClaimID\n",
       "0  PRV51001  BENE102690        1\n",
       "1  PRV51001  BENE106078        1\n",
       "2  PRV51001   BENE11727        1\n",
       "3  PRV51001  BENE123416        1\n",
       "4  PRV51001  BENE126477        1"
      ]
     },
     "execution_count": 25,
     "metadata": {},
     "output_type": "execute_result"
    }
   ],
   "source": [
    "grp.head()"
   ]
  },
  {
   "cell_type": "code",
   "execution_count": 35,
   "id": "9ff6438f",
   "metadata": {},
   "outputs": [
    {
     "data": {
      "text/plain": [
       "1     274312\n",
       "2      46849\n",
       "3      18330\n",
       "4       9347\n",
       "5       5303\n",
       "6       3255\n",
       "7       2105\n",
       "8       1350\n",
       "9        888\n",
       "10       566\n",
       "11       379\n",
       "12       222\n",
       "13       143\n",
       "14        92\n",
       "15        61\n",
       "16        41\n",
       "17        26\n",
       "18        15\n",
       "19         8\n",
       "20         3\n",
       "21         2\n",
       "23         2\n",
       "28         1\n",
       "Name: ClaimID, dtype: int64"
      ]
     },
     "execution_count": 35,
     "metadata": {},
     "output_type": "execute_result"
    }
   ],
   "source": [
    "grp['ClaimID'].value_counts()"
   ]
  },
  {
   "cell_type": "code",
   "execution_count": 36,
   "id": "e2c2c737",
   "metadata": {},
   "outputs": [],
   "source": [
    "rels = [{'origin':x[1]['Provider'],\n",
    "       'target': x[1]['BeneID']} for x in grp.iterrows()]"
   ]
  },
  {
   "cell_type": "code",
   "execution_count": 37,
   "id": "37a6cc33",
   "metadata": {},
   "outputs": [
    {
     "data": {
      "text/plain": [
       "363300"
      ]
     },
     "execution_count": 37,
     "metadata": {},
     "output_type": "execute_result"
    }
   ],
   "source": [
    "len(rels)"
   ]
  },
  {
   "cell_type": "code",
   "execution_count": 38,
   "id": "8ff4d627",
   "metadata": {},
   "outputs": [
    {
     "data": {
      "text/html": [
       "(No data)"
      ],
      "text/plain": [
       "(No data)"
      ]
     },
     "execution_count": 38,
     "metadata": {},
     "output_type": "execute_result"
    }
   ],
   "source": [
    "query = \"\"\"\n",
    "    UNWIND $rels AS rel\n",
    "    MATCH (e1:Provider {idx: rel.origin})\n",
    "    MATCH (e2:Beneficiary {idx: rel.target}) \n",
    "    MERGE (e1)-[m:HAS_BENEFICIARY]->(e2)\"\"\"\n",
    "\n",
    "db.run(query, {\"rels\":rels})"
   ]
  },
  {
   "cell_type": "markdown",
   "id": "f44e54a9",
   "metadata": {},
   "source": [
    "## Race nodes"
   ]
  },
  {
   "cell_type": "code",
   "execution_count": 39,
   "id": "f12b1f7b",
   "metadata": {},
   "outputs": [],
   "source": [
    "races= list(df.Race.unique())"
   ]
  },
  {
   "cell_type": "code",
   "execution_count": 40,
   "id": "3e8a1713",
   "metadata": {},
   "outputs": [
    {
     "data": {
      "text/plain": [
       "[1, 2, 3, 5]"
      ]
     },
     "execution_count": 40,
     "metadata": {},
     "output_type": "execute_result"
    }
   ],
   "source": [
    "races"
   ]
  },
  {
   "cell_type": "code",
   "execution_count": 41,
   "id": "7ab10e84",
   "metadata": {},
   "outputs": [],
   "source": [
    "rs = [{\"race\": int(x),\n",
    "     \"idx\": i}  for (i,x) in enumerate(races)]"
   ]
  },
  {
   "cell_type": "code",
   "execution_count": 42,
   "id": "586fd9ad",
   "metadata": {},
   "outputs": [
    {
     "data": {
      "text/plain": [
       "[{'race': 1, 'idx': 0},\n",
       " {'race': 2, 'idx': 1},\n",
       " {'race': 3, 'idx': 2},\n",
       " {'race': 5, 'idx': 3}]"
      ]
     },
     "execution_count": 42,
     "metadata": {},
     "output_type": "execute_result"
    }
   ],
   "source": [
    "rs"
   ]
  },
  {
   "cell_type": "code",
   "execution_count": 43,
   "id": "6cccfa96",
   "metadata": {},
   "outputs": [],
   "source": [
    "query=\"\"\" CREATE CONSTRAINT ON (r:Race) ASSERT r.idx is UNIQUE \"\"\""
   ]
  },
  {
   "cell_type": "code",
   "execution_count": 44,
   "id": "6d804952",
   "metadata": {},
   "outputs": [
    {
     "data": {
      "text/html": [
       "(No data)"
      ],
      "text/plain": [
       "(No data)"
      ]
     },
     "execution_count": 44,
     "metadata": {},
     "output_type": "execute_result"
    }
   ],
   "source": [
    "db.run(query)"
   ]
  },
  {
   "cell_type": "code",
   "execution_count": 45,
   "id": "e45ba5b5",
   "metadata": {},
   "outputs": [
    {
     "data": {
      "text/html": [
       "(No data)"
      ],
      "text/plain": [
       "(No data)"
      ]
     },
     "execution_count": 45,
     "metadata": {},
     "output_type": "execute_result"
    }
   ],
   "source": [
    "query = \"\"\"\n",
    "    UNWIND $rs AS r\n",
    "    MERGE (b:Race {idx: r.idx, race: r.race})\n",
    "        \"\"\"\n",
    "db.run(query, {\"rs\":rs})"
   ]
  },
  {
   "cell_type": "code",
   "execution_count": 46,
   "id": "26ef4d77",
   "metadata": {},
   "outputs": [
    {
     "data": {
      "text/html": [
       "<table><tr><th>r</th></tr><tr><td style=\"text-align:left\">(_143966:Race {idx: 0, race: 1})</td></tr><tr><td style=\"text-align:left\">(_143967:Race {idx: 1, race: 2})</td></tr><tr><td style=\"text-align:left\">(_143968:Race {idx: 2, race: 3})</td></tr><tr><td style=\"text-align:left\">(_143969:Race {idx: 3, race: 5})</td></tr></table>"
      ],
      "text/plain": [
       " r                                \n",
       "----------------------------------\n",
       " (_143966:Race {idx: 0, race: 1}) \n",
       " (_143967:Race {idx: 1, race: 2}) \n",
       " (_143968:Race {idx: 2, race: 3}) \n",
       " (_143969:Race {idx: 3, race: 5}) "
      ]
     },
     "execution_count": 46,
     "metadata": {},
     "output_type": "execute_result"
    }
   ],
   "source": [
    "query = \"\"\"\n",
    "    MATCH (r:Race)\n",
    "    RETURN * \"\"\"\n",
    "db.run(query).to_table()"
   ]
  },
  {
   "cell_type": "markdown",
   "id": "adfbeaed",
   "metadata": {},
   "source": [
    "## (Beneficiary)-[:HAS_RACE]->(Race)"
   ]
  },
  {
   "cell_type": "code",
   "execution_count": 47,
   "id": "31a7940d",
   "metadata": {},
   "outputs": [],
   "source": [
    "grp=df[['BeneID','Race']]"
   ]
  },
  {
   "cell_type": "code",
   "execution_count": 48,
   "id": "98d87804",
   "metadata": {
    "scrolled": true
   },
   "outputs": [
    {
     "data": {
      "text/html": [
       "<div>\n",
       "<style scoped>\n",
       "    .dataframe tbody tr th:only-of-type {\n",
       "        vertical-align: middle;\n",
       "    }\n",
       "\n",
       "    .dataframe tbody tr th {\n",
       "        vertical-align: top;\n",
       "    }\n",
       "\n",
       "    .dataframe thead th {\n",
       "        text-align: right;\n",
       "    }\n",
       "</style>\n",
       "<table border=\"1\" class=\"dataframe\">\n",
       "  <thead>\n",
       "    <tr style=\"text-align: right;\">\n",
       "      <th></th>\n",
       "      <th>BeneID</th>\n",
       "      <th>Race</th>\n",
       "    </tr>\n",
       "  </thead>\n",
       "  <tbody>\n",
       "    <tr>\n",
       "      <th>0</th>\n",
       "      <td>BENE11001</td>\n",
       "      <td>1</td>\n",
       "    </tr>\n",
       "    <tr>\n",
       "      <th>1</th>\n",
       "      <td>BENE11002</td>\n",
       "      <td>1</td>\n",
       "    </tr>\n",
       "    <tr>\n",
       "      <th>2</th>\n",
       "      <td>BENE11003</td>\n",
       "      <td>1</td>\n",
       "    </tr>\n",
       "    <tr>\n",
       "      <th>3</th>\n",
       "      <td>BENE11004</td>\n",
       "      <td>1</td>\n",
       "    </tr>\n",
       "    <tr>\n",
       "      <th>4</th>\n",
       "      <td>BENE11005</td>\n",
       "      <td>1</td>\n",
       "    </tr>\n",
       "    <tr>\n",
       "      <th>...</th>\n",
       "      <td>...</td>\n",
       "      <td>...</td>\n",
       "    </tr>\n",
       "    <tr>\n",
       "      <th>138551</th>\n",
       "      <td>BENE159194</td>\n",
       "      <td>1</td>\n",
       "    </tr>\n",
       "    <tr>\n",
       "      <th>138552</th>\n",
       "      <td>BENE159195</td>\n",
       "      <td>1</td>\n",
       "    </tr>\n",
       "    <tr>\n",
       "      <th>138553</th>\n",
       "      <td>BENE159196</td>\n",
       "      <td>1</td>\n",
       "    </tr>\n",
       "    <tr>\n",
       "      <th>138554</th>\n",
       "      <td>BENE159197</td>\n",
       "      <td>1</td>\n",
       "    </tr>\n",
       "    <tr>\n",
       "      <th>138555</th>\n",
       "      <td>BENE159198</td>\n",
       "      <td>1</td>\n",
       "    </tr>\n",
       "  </tbody>\n",
       "</table>\n",
       "<p>138556 rows × 2 columns</p>\n",
       "</div>"
      ],
      "text/plain": [
       "            BeneID  Race\n",
       "0        BENE11001     1\n",
       "1        BENE11002     1\n",
       "2        BENE11003     1\n",
       "3        BENE11004     1\n",
       "4        BENE11005     1\n",
       "...            ...   ...\n",
       "138551  BENE159194     1\n",
       "138552  BENE159195     1\n",
       "138553  BENE159196     1\n",
       "138554  BENE159197     1\n",
       "138555  BENE159198     1\n",
       "\n",
       "[138556 rows x 2 columns]"
      ]
     },
     "execution_count": 48,
     "metadata": {},
     "output_type": "execute_result"
    }
   ],
   "source": [
    "grp"
   ]
  },
  {
   "cell_type": "code",
   "execution_count": 49,
   "id": "61cf6756",
   "metadata": {},
   "outputs": [],
   "source": [
    "rels = [{'origin': x[1]['BeneID'],\n",
    "       'target':  x[1]['Race']} for x in grp.iterrows()]"
   ]
  },
  {
   "cell_type": "code",
   "execution_count": 50,
   "id": "8eb03603",
   "metadata": {},
   "outputs": [
    {
     "data": {
      "text/html": [
       "(No data)"
      ],
      "text/plain": [
       "(No data)"
      ]
     },
     "execution_count": 50,
     "metadata": {},
     "output_type": "execute_result"
    }
   ],
   "source": [
    "query = \"\"\"\n",
    "    UNWIND $rels AS rel\n",
    "    MATCH (e1:Beneficiary {idx: rel.origin})\n",
    "    MATCH (e2:Race {idx: rel.target}) \n",
    "    MERGE (e1)-[m:HAS_RACE]->(e2)\"\"\"\n",
    "\n",
    "db.run(query, {\"rels\":rels})"
   ]
  },
  {
   "cell_type": "markdown",
   "id": "fc306470",
   "metadata": {},
   "source": [
    "## Gender"
   ]
  },
  {
   "cell_type": "code",
   "execution_count": 51,
   "id": "f95e354e",
   "metadata": {},
   "outputs": [],
   "source": [
    "genders=list(df.Gender.unique())"
   ]
  },
  {
   "cell_type": "code",
   "execution_count": 52,
   "id": "4f83c002",
   "metadata": {},
   "outputs": [
    {
     "data": {
      "text/plain": [
       "[1, 2]"
      ]
     },
     "execution_count": 52,
     "metadata": {},
     "output_type": "execute_result"
    }
   ],
   "source": [
    "genders"
   ]
  },
  {
   "cell_type": "code",
   "execution_count": 53,
   "id": "cfa46860",
   "metadata": {},
   "outputs": [],
   "source": [
    "gs = [{\"gender\": int(x),\n",
    "     \"idx\" : i} for (i,x) in enumerate(genders)]"
   ]
  },
  {
   "cell_type": "code",
   "execution_count": 54,
   "id": "cb8982bf",
   "metadata": {},
   "outputs": [
    {
     "data": {
      "text/plain": [
       "[{'gender': 1, 'idx': 0}, {'gender': 2, 'idx': 1}]"
      ]
     },
     "execution_count": 54,
     "metadata": {},
     "output_type": "execute_result"
    }
   ],
   "source": [
    "gs"
   ]
  },
  {
   "cell_type": "code",
   "execution_count": 55,
   "id": "5f9bb64d",
   "metadata": {},
   "outputs": [],
   "source": [
    "query=\"\"\"CREATE CONSTRAINT ON (n:Gender) ASSERT n.idx IS UNIQUE\"\"\""
   ]
  },
  {
   "cell_type": "code",
   "execution_count": 56,
   "id": "11508859",
   "metadata": {},
   "outputs": [
    {
     "data": {
      "text/html": [
       "(No data)"
      ],
      "text/plain": [
       "(No data)"
      ]
     },
     "execution_count": 56,
     "metadata": {},
     "output_type": "execute_result"
    }
   ],
   "source": [
    "db.run(query)"
   ]
  },
  {
   "cell_type": "code",
   "execution_count": 57,
   "id": "b5a2a9c9",
   "metadata": {},
   "outputs": [
    {
     "data": {
      "text/html": [
       "(No data)"
      ],
      "text/plain": [
       "(No data)"
      ]
     },
     "execution_count": 57,
     "metadata": {},
     "output_type": "execute_result"
    }
   ],
   "source": [
    "query = \"\"\"\n",
    "    UNWIND $gs AS g\n",
    "    MERGE (b:Gender {idx: g.idx, gender: g.gender})\n",
    "        \"\"\"\n",
    "db.run(query, {\"gs\":gs})"
   ]
  },
  {
   "cell_type": "markdown",
   "id": "238c0153",
   "metadata": {},
   "source": [
    "## (Beneficiary)-[:HAS_GENDER]->(Gender)"
   ]
  },
  {
   "cell_type": "code",
   "execution_count": 58,
   "id": "a9bff31c",
   "metadata": {},
   "outputs": [],
   "source": [
    "grp=df[['BeneID','Gender']]"
   ]
  },
  {
   "cell_type": "code",
   "execution_count": 59,
   "id": "fa3682ea",
   "metadata": {},
   "outputs": [
    {
     "data": {
      "text/html": [
       "<div>\n",
       "<style scoped>\n",
       "    .dataframe tbody tr th:only-of-type {\n",
       "        vertical-align: middle;\n",
       "    }\n",
       "\n",
       "    .dataframe tbody tr th {\n",
       "        vertical-align: top;\n",
       "    }\n",
       "\n",
       "    .dataframe thead th {\n",
       "        text-align: right;\n",
       "    }\n",
       "</style>\n",
       "<table border=\"1\" class=\"dataframe\">\n",
       "  <thead>\n",
       "    <tr style=\"text-align: right;\">\n",
       "      <th></th>\n",
       "      <th>BeneID</th>\n",
       "      <th>Gender</th>\n",
       "    </tr>\n",
       "  </thead>\n",
       "  <tbody>\n",
       "    <tr>\n",
       "      <th>0</th>\n",
       "      <td>BENE11001</td>\n",
       "      <td>1</td>\n",
       "    </tr>\n",
       "    <tr>\n",
       "      <th>1</th>\n",
       "      <td>BENE11002</td>\n",
       "      <td>2</td>\n",
       "    </tr>\n",
       "    <tr>\n",
       "      <th>2</th>\n",
       "      <td>BENE11003</td>\n",
       "      <td>1</td>\n",
       "    </tr>\n",
       "    <tr>\n",
       "      <th>3</th>\n",
       "      <td>BENE11004</td>\n",
       "      <td>1</td>\n",
       "    </tr>\n",
       "    <tr>\n",
       "      <th>4</th>\n",
       "      <td>BENE11005</td>\n",
       "      <td>1</td>\n",
       "    </tr>\n",
       "    <tr>\n",
       "      <th>...</th>\n",
       "      <td>...</td>\n",
       "      <td>...</td>\n",
       "    </tr>\n",
       "    <tr>\n",
       "      <th>138551</th>\n",
       "      <td>BENE159194</td>\n",
       "      <td>1</td>\n",
       "    </tr>\n",
       "    <tr>\n",
       "      <th>138552</th>\n",
       "      <td>BENE159195</td>\n",
       "      <td>2</td>\n",
       "    </tr>\n",
       "    <tr>\n",
       "      <th>138553</th>\n",
       "      <td>BENE159196</td>\n",
       "      <td>2</td>\n",
       "    </tr>\n",
       "    <tr>\n",
       "      <th>138554</th>\n",
       "      <td>BENE159197</td>\n",
       "      <td>1</td>\n",
       "    </tr>\n",
       "    <tr>\n",
       "      <th>138555</th>\n",
       "      <td>BENE159198</td>\n",
       "      <td>2</td>\n",
       "    </tr>\n",
       "  </tbody>\n",
       "</table>\n",
       "<p>138556 rows × 2 columns</p>\n",
       "</div>"
      ],
      "text/plain": [
       "            BeneID  Gender\n",
       "0        BENE11001       1\n",
       "1        BENE11002       2\n",
       "2        BENE11003       1\n",
       "3        BENE11004       1\n",
       "4        BENE11005       1\n",
       "...            ...     ...\n",
       "138551  BENE159194       1\n",
       "138552  BENE159195       2\n",
       "138553  BENE159196       2\n",
       "138554  BENE159197       1\n",
       "138555  BENE159198       2\n",
       "\n",
       "[138556 rows x 2 columns]"
      ]
     },
     "execution_count": 59,
     "metadata": {},
     "output_type": "execute_result"
    }
   ],
   "source": [
    "grp"
   ]
  },
  {
   "cell_type": "code",
   "execution_count": 60,
   "id": "26ed6496",
   "metadata": {},
   "outputs": [],
   "source": [
    "rels = [{'origin': x[1]['BeneID'],\n",
    "       'target':  x[1]['Gender']} for x in grp.iterrows()]"
   ]
  },
  {
   "cell_type": "code",
   "execution_count": 61,
   "id": "99c5bdcf",
   "metadata": {},
   "outputs": [
    {
     "data": {
      "text/html": [
       "(No data)"
      ],
      "text/plain": [
       "(No data)"
      ]
     },
     "execution_count": 61,
     "metadata": {},
     "output_type": "execute_result"
    }
   ],
   "source": [
    "query = \"\"\"\n",
    "    UNWIND $rels AS rel\n",
    "    MATCH (e1:Beneficiary {idx: rel.origin})\n",
    "    MATCH (e2:Gender {idx: rel.target}) \n",
    "    MERGE (e1)-[m:HAS_GENDER]->(e2)\"\"\"\n",
    "\n",
    "db.run(query, {\"rels\":rels})"
   ]
  },
  {
   "cell_type": "markdown",
   "id": "fb14acfc",
   "metadata": {},
   "source": [
    "## State"
   ]
  },
  {
   "cell_type": "code",
   "execution_count": 62,
   "id": "93666ba2",
   "metadata": {},
   "outputs": [],
   "source": [
    "states=list(df.State.unique())"
   ]
  },
  {
   "cell_type": "code",
   "execution_count": 63,
   "id": "524667bd",
   "metadata": {},
   "outputs": [],
   "source": [
    "sts = [{\"state\": int(x),\n",
    "     \"idx\" : i} for (i,x) in enumerate(states)]"
   ]
  },
  {
   "cell_type": "code",
   "execution_count": 64,
   "id": "9d1349f8",
   "metadata": {},
   "outputs": [],
   "source": [
    "query=\"\"\"CREATE CONSTRAINT ON (n:State) ASSERT n.idx IS UNIQUE\"\"\""
   ]
  },
  {
   "cell_type": "code",
   "execution_count": 65,
   "id": "9ee619c8",
   "metadata": {},
   "outputs": [
    {
     "data": {
      "text/html": [
       "(No data)"
      ],
      "text/plain": [
       "(No data)"
      ]
     },
     "execution_count": 65,
     "metadata": {},
     "output_type": "execute_result"
    }
   ],
   "source": [
    "db.run(query)"
   ]
  },
  {
   "cell_type": "code",
   "execution_count": 66,
   "id": "5d74e53d",
   "metadata": {},
   "outputs": [
    {
     "data": {
      "text/html": [
       "(No data)"
      ],
      "text/plain": [
       "(No data)"
      ]
     },
     "execution_count": 66,
     "metadata": {},
     "output_type": "execute_result"
    }
   ],
   "source": [
    "query = \"\"\"\n",
    "    UNWIND $sts AS st\n",
    "    MERGE (b:State {idx: st.idx, state: st.state})\n",
    "        \"\"\"\n",
    "db.run(query, {\"sts\":sts})"
   ]
  },
  {
   "cell_type": "markdown",
   "id": "380249d9",
   "metadata": {},
   "source": [
    "## (Beneficiary)-[:HOME_STATE]->(STATE)"
   ]
  },
  {
   "cell_type": "code",
   "execution_count": 67,
   "id": "f5bd3a07",
   "metadata": {},
   "outputs": [],
   "source": [
    "grp=df[['BeneID','State']]"
   ]
  },
  {
   "cell_type": "code",
   "execution_count": 68,
   "id": "7c1a8686",
   "metadata": {},
   "outputs": [
    {
     "data": {
      "text/html": [
       "<div>\n",
       "<style scoped>\n",
       "    .dataframe tbody tr th:only-of-type {\n",
       "        vertical-align: middle;\n",
       "    }\n",
       "\n",
       "    .dataframe tbody tr th {\n",
       "        vertical-align: top;\n",
       "    }\n",
       "\n",
       "    .dataframe thead th {\n",
       "        text-align: right;\n",
       "    }\n",
       "</style>\n",
       "<table border=\"1\" class=\"dataframe\">\n",
       "  <thead>\n",
       "    <tr style=\"text-align: right;\">\n",
       "      <th></th>\n",
       "      <th>BeneID</th>\n",
       "      <th>State</th>\n",
       "    </tr>\n",
       "  </thead>\n",
       "  <tbody>\n",
       "    <tr>\n",
       "      <th>0</th>\n",
       "      <td>BENE11001</td>\n",
       "      <td>39</td>\n",
       "    </tr>\n",
       "    <tr>\n",
       "      <th>1</th>\n",
       "      <td>BENE11002</td>\n",
       "      <td>39</td>\n",
       "    </tr>\n",
       "    <tr>\n",
       "      <th>2</th>\n",
       "      <td>BENE11003</td>\n",
       "      <td>52</td>\n",
       "    </tr>\n",
       "    <tr>\n",
       "      <th>3</th>\n",
       "      <td>BENE11004</td>\n",
       "      <td>39</td>\n",
       "    </tr>\n",
       "    <tr>\n",
       "      <th>4</th>\n",
       "      <td>BENE11005</td>\n",
       "      <td>24</td>\n",
       "    </tr>\n",
       "    <tr>\n",
       "      <th>...</th>\n",
       "      <td>...</td>\n",
       "      <td>...</td>\n",
       "    </tr>\n",
       "    <tr>\n",
       "      <th>138551</th>\n",
       "      <td>BENE159194</td>\n",
       "      <td>39</td>\n",
       "    </tr>\n",
       "    <tr>\n",
       "      <th>138552</th>\n",
       "      <td>BENE159195</td>\n",
       "      <td>49</td>\n",
       "    </tr>\n",
       "    <tr>\n",
       "      <th>138553</th>\n",
       "      <td>BENE159196</td>\n",
       "      <td>6</td>\n",
       "    </tr>\n",
       "    <tr>\n",
       "      <th>138554</th>\n",
       "      <td>BENE159197</td>\n",
       "      <td>16</td>\n",
       "    </tr>\n",
       "    <tr>\n",
       "      <th>138555</th>\n",
       "      <td>BENE159198</td>\n",
       "      <td>21</td>\n",
       "    </tr>\n",
       "  </tbody>\n",
       "</table>\n",
       "<p>138556 rows × 2 columns</p>\n",
       "</div>"
      ],
      "text/plain": [
       "            BeneID  State\n",
       "0        BENE11001     39\n",
       "1        BENE11002     39\n",
       "2        BENE11003     52\n",
       "3        BENE11004     39\n",
       "4        BENE11005     24\n",
       "...            ...    ...\n",
       "138551  BENE159194     39\n",
       "138552  BENE159195     49\n",
       "138553  BENE159196      6\n",
       "138554  BENE159197     16\n",
       "138555  BENE159198     21\n",
       "\n",
       "[138556 rows x 2 columns]"
      ]
     },
     "execution_count": 68,
     "metadata": {},
     "output_type": "execute_result"
    }
   ],
   "source": [
    "grp"
   ]
  },
  {
   "cell_type": "code",
   "execution_count": 69,
   "id": "f19c0d04",
   "metadata": {},
   "outputs": [],
   "source": [
    "rels = [{'origin': x[1]['BeneID'],\n",
    "       'target':  x[1]['State']} for x in grp.iterrows()]"
   ]
  },
  {
   "cell_type": "code",
   "execution_count": 70,
   "id": "74767628",
   "metadata": {},
   "outputs": [
    {
     "data": {
      "text/html": [
       "(No data)"
      ],
      "text/plain": [
       "(No data)"
      ]
     },
     "execution_count": 70,
     "metadata": {},
     "output_type": "execute_result"
    }
   ],
   "source": [
    "query = \"\"\"\n",
    "    UNWIND $rels AS rel\n",
    "    MATCH (e1:Beneficiary {idx: rel.origin})\n",
    "    MATCH (e2:State {idx: rel.target}) \n",
    "    MERGE (e1)-[m:HOME_STATE]->(e2)\"\"\"\n",
    "\n",
    "db.run(query, {\"rels\":rels})"
   ]
  },
  {
   "cell_type": "markdown",
   "id": "8a58db66",
   "metadata": {},
   "source": [
    "## County"
   ]
  },
  {
   "cell_type": "code",
   "execution_count": 71,
   "id": "1f5359bb",
   "metadata": {},
   "outputs": [],
   "source": [
    "counties=list(df.County.unique())"
   ]
  },
  {
   "cell_type": "code",
   "execution_count": 72,
   "id": "6dc6be49",
   "metadata": {},
   "outputs": [],
   "source": [
    "cts = [{\"county\": int(x),\n",
    "     \"idx\" : i} for (i,x) in enumerate(counties)]"
   ]
  },
  {
   "cell_type": "code",
   "execution_count": 73,
   "id": "244f5080",
   "metadata": {},
   "outputs": [],
   "source": [
    "query=\"\"\"CREATE CONSTRAINT ON (n:County) ASSERT n.idx IS UNIQUE\"\"\""
   ]
  },
  {
   "cell_type": "code",
   "execution_count": 74,
   "id": "27f59fa2",
   "metadata": {},
   "outputs": [
    {
     "data": {
      "text/html": [
       "(No data)"
      ],
      "text/plain": [
       "(No data)"
      ]
     },
     "execution_count": 74,
     "metadata": {},
     "output_type": "execute_result"
    }
   ],
   "source": [
    "db.run(query)"
   ]
  },
  {
   "cell_type": "code",
   "execution_count": 75,
   "id": "884cd2de",
   "metadata": {},
   "outputs": [
    {
     "data": {
      "text/html": [
       "(No data)"
      ],
      "text/plain": [
       "(No data)"
      ]
     },
     "execution_count": 75,
     "metadata": {},
     "output_type": "execute_result"
    }
   ],
   "source": [
    "query = \"\"\"\n",
    "    UNWIND $cts AS ct\n",
    "    MERGE (b:County {idx: ct.idx, county: ct.county})\n",
    "        \"\"\"\n",
    "db.run(query, {\"cts\":cts})"
   ]
  },
  {
   "cell_type": "markdown",
   "id": "2b27f9ba",
   "metadata": {},
   "source": [
    "## (Beneficiary)-[:HOME_COUNTY]->(County)"
   ]
  },
  {
   "cell_type": "code",
   "execution_count": 76,
   "id": "26e0d37a",
   "metadata": {},
   "outputs": [],
   "source": [
    "grp=df[['BeneID','County']]"
   ]
  },
  {
   "cell_type": "code",
   "execution_count": 77,
   "id": "fd369e67",
   "metadata": {},
   "outputs": [
    {
     "data": {
      "text/html": [
       "<div>\n",
       "<style scoped>\n",
       "    .dataframe tbody tr th:only-of-type {\n",
       "        vertical-align: middle;\n",
       "    }\n",
       "\n",
       "    .dataframe tbody tr th {\n",
       "        vertical-align: top;\n",
       "    }\n",
       "\n",
       "    .dataframe thead th {\n",
       "        text-align: right;\n",
       "    }\n",
       "</style>\n",
       "<table border=\"1\" class=\"dataframe\">\n",
       "  <thead>\n",
       "    <tr style=\"text-align: right;\">\n",
       "      <th></th>\n",
       "      <th>BeneID</th>\n",
       "      <th>County</th>\n",
       "    </tr>\n",
       "  </thead>\n",
       "  <tbody>\n",
       "    <tr>\n",
       "      <th>0</th>\n",
       "      <td>BENE11001</td>\n",
       "      <td>230</td>\n",
       "    </tr>\n",
       "    <tr>\n",
       "      <th>1</th>\n",
       "      <td>BENE11002</td>\n",
       "      <td>280</td>\n",
       "    </tr>\n",
       "    <tr>\n",
       "      <th>2</th>\n",
       "      <td>BENE11003</td>\n",
       "      <td>590</td>\n",
       "    </tr>\n",
       "    <tr>\n",
       "      <th>3</th>\n",
       "      <td>BENE11004</td>\n",
       "      <td>270</td>\n",
       "    </tr>\n",
       "    <tr>\n",
       "      <th>4</th>\n",
       "      <td>BENE11005</td>\n",
       "      <td>680</td>\n",
       "    </tr>\n",
       "    <tr>\n",
       "      <th>...</th>\n",
       "      <td>...</td>\n",
       "      <td>...</td>\n",
       "    </tr>\n",
       "    <tr>\n",
       "      <th>138551</th>\n",
       "      <td>BENE159194</td>\n",
       "      <td>140</td>\n",
       "    </tr>\n",
       "    <tr>\n",
       "      <th>138552</th>\n",
       "      <td>BENE159195</td>\n",
       "      <td>530</td>\n",
       "    </tr>\n",
       "    <tr>\n",
       "      <th>138553</th>\n",
       "      <td>BENE159196</td>\n",
       "      <td>150</td>\n",
       "    </tr>\n",
       "    <tr>\n",
       "      <th>138554</th>\n",
       "      <td>BENE159197</td>\n",
       "      <td>560</td>\n",
       "    </tr>\n",
       "    <tr>\n",
       "      <th>138555</th>\n",
       "      <td>BENE159198</td>\n",
       "      <td>20</td>\n",
       "    </tr>\n",
       "  </tbody>\n",
       "</table>\n",
       "<p>138556 rows × 2 columns</p>\n",
       "</div>"
      ],
      "text/plain": [
       "            BeneID  County\n",
       "0        BENE11001     230\n",
       "1        BENE11002     280\n",
       "2        BENE11003     590\n",
       "3        BENE11004     270\n",
       "4        BENE11005     680\n",
       "...            ...     ...\n",
       "138551  BENE159194     140\n",
       "138552  BENE159195     530\n",
       "138553  BENE159196     150\n",
       "138554  BENE159197     560\n",
       "138555  BENE159198      20\n",
       "\n",
       "[138556 rows x 2 columns]"
      ]
     },
     "execution_count": 77,
     "metadata": {},
     "output_type": "execute_result"
    }
   ],
   "source": [
    "grp"
   ]
  },
  {
   "cell_type": "code",
   "execution_count": 78,
   "id": "8ef292d5",
   "metadata": {},
   "outputs": [],
   "source": [
    "rels = [{'origin': x[1]['BeneID'],\n",
    "       'target':  x[1]['County']} for x in grp.iterrows()]"
   ]
  },
  {
   "cell_type": "code",
   "execution_count": 79,
   "id": "af7e9b56",
   "metadata": {},
   "outputs": [
    {
     "data": {
      "text/html": [
       "(No data)"
      ],
      "text/plain": [
       "(No data)"
      ]
     },
     "execution_count": 79,
     "metadata": {},
     "output_type": "execute_result"
    }
   ],
   "source": [
    "query = \"\"\"\n",
    "    UNWIND $rels AS rel\n",
    "    MATCH (e1:Beneficiary {idx: rel.origin})\n",
    "    MATCH (e2:County {idx: rel.target}) \n",
    "    MERGE (e1)-[m:HOME_COUNTY]->(e2)\"\"\"\n",
    "\n",
    "db.run(query, {\"rels\":rels})"
   ]
  },
  {
   "cell_type": "markdown",
   "id": "7b81c06a",
   "metadata": {},
   "source": [
    "## (County)-[:BELONGS_TO]->(State)"
   ]
  },
  {
   "cell_type": "code",
   "execution_count": 53,
   "id": "09e91eb8",
   "metadata": {},
   "outputs": [],
   "source": [
    "grp=df[['County','State']]"
   ]
  },
  {
   "cell_type": "code",
   "execution_count": 54,
   "id": "99048d22",
   "metadata": {},
   "outputs": [],
   "source": [
    "rels = [{'origin': int(x[1]['County']),\n",
    "       'target':  int(x[1]['State'])} for x in grp.iterrows()]"
   ]
  },
  {
   "cell_type": "code",
   "execution_count": 26,
   "id": "6fce209b",
   "metadata": {},
   "outputs": [
    {
     "data": {
      "text/plain": [
       "{'origin': 760, 'target': 34}"
      ]
     },
     "execution_count": 26,
     "metadata": {},
     "output_type": "execute_result"
    }
   ],
   "source": [
    "rels[31]"
   ]
  },
  {
   "cell_type": "code",
   "execution_count": 55,
   "id": "f02e1ea2",
   "metadata": {},
   "outputs": [],
   "source": [
    "query = \"\"\"\n",
    "    UNWIND $rels AS rel\n",
    "    MATCH (e1:County {idx: rel.origin})\n",
    "    MATCH (e2:State {idx: rel.target}) \n",
    "    MERGE (e1)-[m:BELONGS_TO]->(e2)\"\"\""
   ]
  },
  {
   "cell_type": "code",
   "execution_count": 56,
   "id": "55798aa1",
   "metadata": {},
   "outputs": [
    {
     "data": {
      "text/html": [
       "(No data)"
      ],
      "text/plain": [
       "(No data)"
      ]
     },
     "execution_count": 56,
     "metadata": {},
     "output_type": "execute_result"
    }
   ],
   "source": [
    "db.run(query, {\"rels\":rels})"
   ]
  },
  {
   "cell_type": "markdown",
   "id": "0948c7ef",
   "metadata": {},
   "source": [
    "## Months_PartA"
   ]
  },
  {
   "cell_type": "code",
   "execution_count": 80,
   "id": "cfe8c069",
   "metadata": {},
   "outputs": [],
   "source": [
    "Amonths=list(df.NoOfMonths_PartACov.unique())"
   ]
  },
  {
   "cell_type": "code",
   "execution_count": 81,
   "id": "7545c506",
   "metadata": {},
   "outputs": [],
   "source": [
    "ams = [{\"Months_PartA\": int(x),\n",
    "     \"idx\" : i} for (i,x) in enumerate(Amonths)]"
   ]
  },
  {
   "cell_type": "code",
   "execution_count": 82,
   "id": "90a42a89",
   "metadata": {},
   "outputs": [],
   "source": [
    "query=\"\"\"CREATE CONSTRAINT ON (n:Months_PartA) ASSERT n.idx IS UNIQUE\"\"\""
   ]
  },
  {
   "cell_type": "code",
   "execution_count": 83,
   "id": "48b06190",
   "metadata": {},
   "outputs": [
    {
     "data": {
      "text/html": [
       "(No data)"
      ],
      "text/plain": [
       "(No data)"
      ]
     },
     "execution_count": 83,
     "metadata": {},
     "output_type": "execute_result"
    }
   ],
   "source": [
    "db.run(query)"
   ]
  },
  {
   "cell_type": "code",
   "execution_count": 84,
   "id": "e864a0b2",
   "metadata": {},
   "outputs": [
    {
     "data": {
      "text/html": [
       "(No data)"
      ],
      "text/plain": [
       "(No data)"
      ]
     },
     "execution_count": 84,
     "metadata": {},
     "output_type": "execute_result"
    }
   ],
   "source": [
    "query = \"\"\"\n",
    "    UNWIND $ams AS am\n",
    "    MERGE (b:Months_PartA {idx: am.idx, Months_PartA: am.Months_PartA})\n",
    "        \"\"\"\n",
    "db.run(query, {\"ams\":ams})"
   ]
  },
  {
   "cell_type": "markdown",
   "id": "ad29bf8b",
   "metadata": {},
   "source": [
    "## (Beneficiary)-[:HAS_COVERAGE_A]->(Months_PartA)"
   ]
  },
  {
   "cell_type": "code",
   "execution_count": 85,
   "id": "963e2916",
   "metadata": {},
   "outputs": [],
   "source": [
    "grp=df[['BeneID','NoOfMonths_PartACov']]"
   ]
  },
  {
   "cell_type": "code",
   "execution_count": 86,
   "id": "8f7d5dcb",
   "metadata": {},
   "outputs": [
    {
     "data": {
      "text/html": [
       "<div>\n",
       "<style scoped>\n",
       "    .dataframe tbody tr th:only-of-type {\n",
       "        vertical-align: middle;\n",
       "    }\n",
       "\n",
       "    .dataframe tbody tr th {\n",
       "        vertical-align: top;\n",
       "    }\n",
       "\n",
       "    .dataframe thead th {\n",
       "        text-align: right;\n",
       "    }\n",
       "</style>\n",
       "<table border=\"1\" class=\"dataframe\">\n",
       "  <thead>\n",
       "    <tr style=\"text-align: right;\">\n",
       "      <th></th>\n",
       "      <th>BeneID</th>\n",
       "      <th>NoOfMonths_PartACov</th>\n",
       "    </tr>\n",
       "  </thead>\n",
       "  <tbody>\n",
       "    <tr>\n",
       "      <th>0</th>\n",
       "      <td>BENE11001</td>\n",
       "      <td>12</td>\n",
       "    </tr>\n",
       "    <tr>\n",
       "      <th>1</th>\n",
       "      <td>BENE11002</td>\n",
       "      <td>12</td>\n",
       "    </tr>\n",
       "    <tr>\n",
       "      <th>2</th>\n",
       "      <td>BENE11003</td>\n",
       "      <td>12</td>\n",
       "    </tr>\n",
       "    <tr>\n",
       "      <th>3</th>\n",
       "      <td>BENE11004</td>\n",
       "      <td>12</td>\n",
       "    </tr>\n",
       "    <tr>\n",
       "      <th>4</th>\n",
       "      <td>BENE11005</td>\n",
       "      <td>12</td>\n",
       "    </tr>\n",
       "    <tr>\n",
       "      <th>...</th>\n",
       "      <td>...</td>\n",
       "      <td>...</td>\n",
       "    </tr>\n",
       "    <tr>\n",
       "      <th>138551</th>\n",
       "      <td>BENE159194</td>\n",
       "      <td>12</td>\n",
       "    </tr>\n",
       "    <tr>\n",
       "      <th>138552</th>\n",
       "      <td>BENE159195</td>\n",
       "      <td>12</td>\n",
       "    </tr>\n",
       "    <tr>\n",
       "      <th>138553</th>\n",
       "      <td>BENE159196</td>\n",
       "      <td>12</td>\n",
       "    </tr>\n",
       "    <tr>\n",
       "      <th>138554</th>\n",
       "      <td>BENE159197</td>\n",
       "      <td>12</td>\n",
       "    </tr>\n",
       "    <tr>\n",
       "      <th>138555</th>\n",
       "      <td>BENE159198</td>\n",
       "      <td>12</td>\n",
       "    </tr>\n",
       "  </tbody>\n",
       "</table>\n",
       "<p>138556 rows × 2 columns</p>\n",
       "</div>"
      ],
      "text/plain": [
       "            BeneID  NoOfMonths_PartACov\n",
       "0        BENE11001                   12\n",
       "1        BENE11002                   12\n",
       "2        BENE11003                   12\n",
       "3        BENE11004                   12\n",
       "4        BENE11005                   12\n",
       "...            ...                  ...\n",
       "138551  BENE159194                   12\n",
       "138552  BENE159195                   12\n",
       "138553  BENE159196                   12\n",
       "138554  BENE159197                   12\n",
       "138555  BENE159198                   12\n",
       "\n",
       "[138556 rows x 2 columns]"
      ]
     },
     "execution_count": 86,
     "metadata": {},
     "output_type": "execute_result"
    }
   ],
   "source": [
    "grp"
   ]
  },
  {
   "cell_type": "code",
   "execution_count": 87,
   "id": "54ef21db",
   "metadata": {},
   "outputs": [],
   "source": [
    "rels = [{'origin': x[1]['BeneID'],\n",
    "       'target':  x[1]['NoOfMonths_PartACov']} for x in grp.iterrows()]"
   ]
  },
  {
   "cell_type": "code",
   "execution_count": 88,
   "id": "f5da0aa5",
   "metadata": {},
   "outputs": [
    {
     "data": {
      "text/html": [
       "(No data)"
      ],
      "text/plain": [
       "(No data)"
      ]
     },
     "execution_count": 88,
     "metadata": {},
     "output_type": "execute_result"
    }
   ],
   "source": [
    "query = \"\"\"\n",
    "    UNWIND $rels AS rel\n",
    "    MATCH (e1:Beneficiary {idx: rel.origin})\n",
    "    MATCH (e2:Months_PartA {idx: rel.target}) \n",
    "    MERGE (e1)-[m:HAS_COVERAGE_A]->(e2)\"\"\"\n",
    "\n",
    "db.run(query, {\"rels\":rels})"
   ]
  },
  {
   "cell_type": "markdown",
   "id": "5d276abd",
   "metadata": {},
   "source": [
    "## Months_PartB"
   ]
  },
  {
   "cell_type": "code",
   "execution_count": 89,
   "id": "7970e89d",
   "metadata": {},
   "outputs": [],
   "source": [
    "Bmonths=list(df.NoOfMonths_PartBCov.unique())"
   ]
  },
  {
   "cell_type": "code",
   "execution_count": 90,
   "id": "34390588",
   "metadata": {},
   "outputs": [],
   "source": [
    "bms = [{\"Months_PartB\": int(x),\n",
    "     \"idx\" : i} for (i,x) in enumerate(Bmonths)]"
   ]
  },
  {
   "cell_type": "code",
   "execution_count": 91,
   "id": "bbecafb4",
   "metadata": {},
   "outputs": [],
   "source": [
    "query=\"\"\"CREATE CONSTRAINT ON (n:Months_PartB) ASSERT n.idx IS UNIQUE\"\"\""
   ]
  },
  {
   "cell_type": "code",
   "execution_count": 92,
   "id": "fa68fcf9",
   "metadata": {},
   "outputs": [
    {
     "data": {
      "text/html": [
       "(No data)"
      ],
      "text/plain": [
       "(No data)"
      ]
     },
     "execution_count": 92,
     "metadata": {},
     "output_type": "execute_result"
    }
   ],
   "source": [
    "db.run(query)"
   ]
  },
  {
   "cell_type": "code",
   "execution_count": 93,
   "id": "583f867c",
   "metadata": {},
   "outputs": [
    {
     "data": {
      "text/html": [
       "(No data)"
      ],
      "text/plain": [
       "(No data)"
      ]
     },
     "execution_count": 93,
     "metadata": {},
     "output_type": "execute_result"
    }
   ],
   "source": [
    "query = \"\"\"\n",
    "    UNWIND $bms AS bm\n",
    "    MERGE (b:Months_PartB {idx: bm.idx, Months_PartB: bm.Months_PartB})\n",
    "        \"\"\"\n",
    "db.run(query, {\"bms\":bms})"
   ]
  },
  {
   "cell_type": "markdown",
   "id": "882cf40d",
   "metadata": {},
   "source": [
    "## (Beneficiary)-[:HAS_COVERAGE_B]->(Months_PartB)"
   ]
  },
  {
   "cell_type": "code",
   "execution_count": 94,
   "id": "d3e1725f",
   "metadata": {},
   "outputs": [],
   "source": [
    "grp=df[['BeneID','NoOfMonths_PartBCov']]"
   ]
  },
  {
   "cell_type": "code",
   "execution_count": 95,
   "id": "048f6655",
   "metadata": {},
   "outputs": [],
   "source": [
    "rels = [{'origin': x[1]['BeneID'],\n",
    "       'target':  x[1]['NoOfMonths_PartBCov']} for x in grp.iterrows()]"
   ]
  },
  {
   "cell_type": "code",
   "execution_count": 96,
   "id": "c49cd427",
   "metadata": {},
   "outputs": [
    {
     "data": {
      "text/html": [
       "(No data)"
      ],
      "text/plain": [
       "(No data)"
      ]
     },
     "execution_count": 96,
     "metadata": {},
     "output_type": "execute_result"
    }
   ],
   "source": [
    "query = \"\"\"\n",
    "    UNWIND $rels AS rel\n",
    "    MATCH (e1:Beneficiary {idx: rel.origin})\n",
    "    MATCH (e2:Months_PartB {idx: rel.target}) \n",
    "    MERGE (e1)-[m:HAS_COVERAGE_B]->(e2)\"\"\"\n",
    "\n",
    "db.run(query, {\"rels\":rels})"
   ]
  },
  {
   "cell_type": "markdown",
   "id": "fa86a394",
   "metadata": {},
   "source": [
    "## RenalDiseaseIndicator"
   ]
  },
  {
   "cell_type": "code",
   "execution_count": 97,
   "id": "9600dfae",
   "metadata": {},
   "outputs": [],
   "source": [
    "renals=list(df.RenalDiseaseIndicator.unique())"
   ]
  },
  {
   "cell_type": "code",
   "execution_count": 98,
   "id": "db16b50e",
   "metadata": {},
   "outputs": [
    {
     "data": {
      "text/plain": [
       "['0', 'Y']"
      ]
     },
     "execution_count": 98,
     "metadata": {},
     "output_type": "execute_result"
    }
   ],
   "source": [
    "renals"
   ]
  },
  {
   "cell_type": "code",
   "execution_count": 99,
   "id": "507e31ec",
   "metadata": {},
   "outputs": [],
   "source": [
    "rns = [{\"Renal_Disease\": x,\n",
    "     \"idx\" : i} for (i,x) in enumerate(renals)]"
   ]
  },
  {
   "cell_type": "code",
   "execution_count": 100,
   "id": "b11116c0",
   "metadata": {},
   "outputs": [],
   "source": [
    "query=\"\"\"CREATE CONSTRAINT ON (n:Renal_Disease) ASSERT n.idx IS UNIQUE\"\"\""
   ]
  },
  {
   "cell_type": "code",
   "execution_count": 101,
   "id": "8150268b",
   "metadata": {},
   "outputs": [
    {
     "data": {
      "text/html": [
       "(No data)"
      ],
      "text/plain": [
       "(No data)"
      ]
     },
     "execution_count": 101,
     "metadata": {},
     "output_type": "execute_result"
    }
   ],
   "source": [
    "db.run(query)"
   ]
  },
  {
   "cell_type": "code",
   "execution_count": 102,
   "id": "4a885734",
   "metadata": {},
   "outputs": [
    {
     "data": {
      "text/html": [
       "(No data)"
      ],
      "text/plain": [
       "(No data)"
      ]
     },
     "execution_count": 102,
     "metadata": {},
     "output_type": "execute_result"
    }
   ],
   "source": [
    "query = \"\"\"\n",
    "    UNWIND $rns AS rn\n",
    "    MERGE (b:Renal_Disease {idx: rn.idx, Renal_Disease: rn.Renal_Disease})\n",
    "        \"\"\"\n",
    "db.run(query, {\"rns\":rns})"
   ]
  },
  {
   "cell_type": "markdown",
   "id": "8586e1fd",
   "metadata": {},
   "source": [
    "## (Beneficiary)-[:HAS_CHRONIC_R]->(Renal_Disease)"
   ]
  },
  {
   "cell_type": "code",
   "execution_count": 103,
   "id": "efbcecc5",
   "metadata": {},
   "outputs": [],
   "source": [
    "grp=df[['BeneID','RenalDiseaseIndicator']]"
   ]
  },
  {
   "cell_type": "code",
   "execution_count": 104,
   "id": "46aa66e4",
   "metadata": {},
   "outputs": [],
   "source": [
    "rels = [{'origin': x[1]['BeneID'],\n",
    "       'target':  x[1]['RenalDiseaseIndicator']} for x in grp.iterrows()]"
   ]
  },
  {
   "cell_type": "code",
   "execution_count": 105,
   "id": "77f091b9",
   "metadata": {},
   "outputs": [
    {
     "data": {
      "text/html": [
       "(No data)"
      ],
      "text/plain": [
       "(No data)"
      ]
     },
     "execution_count": 105,
     "metadata": {},
     "output_type": "execute_result"
    }
   ],
   "source": [
    "query = \"\"\"\n",
    "    UNWIND $rels AS rel\n",
    "    MATCH (e1:Beneficiary {idx: rel.origin})\n",
    "    MATCH (e2:Renal_Disease {idx: rel.target}) \n",
    "    MERGE (e1)-[m:HAS_CHRONIC_R]->(e2)\"\"\"\n",
    "\n",
    "db.run(query, {\"rels\":rels})"
   ]
  },
  {
   "cell_type": "markdown",
   "id": "610570af",
   "metadata": {},
   "source": [
    "## ChronicCond_Alzheimer"
   ]
  },
  {
   "cell_type": "code",
   "execution_count": 106,
   "id": "d7484fe2",
   "metadata": {},
   "outputs": [],
   "source": [
    "alzheimers=list(df.ChronicCond_Alzheimer.unique())"
   ]
  },
  {
   "cell_type": "code",
   "execution_count": 107,
   "id": "30aae242",
   "metadata": {},
   "outputs": [],
   "source": [
    "alzs = [{\"ChronicCond_Alzheimer\": int(x),\n",
    "     \"idx\" : i} for (i,x) in enumerate(alzheimers)]"
   ]
  },
  {
   "cell_type": "code",
   "execution_count": 108,
   "id": "a5e14dd1",
   "metadata": {},
   "outputs": [],
   "source": [
    "query=\"\"\"CREATE CONSTRAINT ON (n:ChronicCond_Alzheimer) ASSERT n.idx IS UNIQUE\"\"\""
   ]
  },
  {
   "cell_type": "code",
   "execution_count": 109,
   "id": "f1a3a618",
   "metadata": {},
   "outputs": [
    {
     "data": {
      "text/html": [
       "(No data)"
      ],
      "text/plain": [
       "(No data)"
      ]
     },
     "execution_count": 109,
     "metadata": {},
     "output_type": "execute_result"
    }
   ],
   "source": [
    "db.run(query)"
   ]
  },
  {
   "cell_type": "code",
   "execution_count": 110,
   "id": "65fb9d29",
   "metadata": {},
   "outputs": [
    {
     "data": {
      "text/html": [
       "(No data)"
      ],
      "text/plain": [
       "(No data)"
      ]
     },
     "execution_count": 110,
     "metadata": {},
     "output_type": "execute_result"
    }
   ],
   "source": [
    "query = \"\"\"\n",
    "    UNWIND $alzs AS alz\n",
    "    MERGE (b:ChronicCond_Alzheimer {idx: alz.idx, ChronicCond_Alzheimer: alz.ChronicCond_Alzheimer})\n",
    "        \"\"\"\n",
    "db.run(query, {\"alzs\":alzs})"
   ]
  },
  {
   "cell_type": "markdown",
   "id": "72b9ba51",
   "metadata": {},
   "source": [
    "## (Beneficiary)-[:HAS_CHRONIC_A]->(ChronicCond_Alzheimer)"
   ]
  },
  {
   "cell_type": "code",
   "execution_count": 111,
   "id": "05f901c2",
   "metadata": {},
   "outputs": [],
   "source": [
    "grp=df[['BeneID','ChronicCond_Alzheimer']]"
   ]
  },
  {
   "cell_type": "code",
   "execution_count": 112,
   "id": "eb6f51da",
   "metadata": {},
   "outputs": [
    {
     "data": {
      "text/html": [
       "<div>\n",
       "<style scoped>\n",
       "    .dataframe tbody tr th:only-of-type {\n",
       "        vertical-align: middle;\n",
       "    }\n",
       "\n",
       "    .dataframe tbody tr th {\n",
       "        vertical-align: top;\n",
       "    }\n",
       "\n",
       "    .dataframe thead th {\n",
       "        text-align: right;\n",
       "    }\n",
       "</style>\n",
       "<table border=\"1\" class=\"dataframe\">\n",
       "  <thead>\n",
       "    <tr style=\"text-align: right;\">\n",
       "      <th></th>\n",
       "      <th>BeneID</th>\n",
       "      <th>ChronicCond_Alzheimer</th>\n",
       "    </tr>\n",
       "  </thead>\n",
       "  <tbody>\n",
       "    <tr>\n",
       "      <th>0</th>\n",
       "      <td>BENE11001</td>\n",
       "      <td>1</td>\n",
       "    </tr>\n",
       "    <tr>\n",
       "      <th>1</th>\n",
       "      <td>BENE11002</td>\n",
       "      <td>2</td>\n",
       "    </tr>\n",
       "    <tr>\n",
       "      <th>2</th>\n",
       "      <td>BENE11003</td>\n",
       "      <td>1</td>\n",
       "    </tr>\n",
       "    <tr>\n",
       "      <th>3</th>\n",
       "      <td>BENE11004</td>\n",
       "      <td>1</td>\n",
       "    </tr>\n",
       "    <tr>\n",
       "      <th>4</th>\n",
       "      <td>BENE11005</td>\n",
       "      <td>2</td>\n",
       "    </tr>\n",
       "    <tr>\n",
       "      <th>...</th>\n",
       "      <td>...</td>\n",
       "      <td>...</td>\n",
       "    </tr>\n",
       "    <tr>\n",
       "      <th>138551</th>\n",
       "      <td>BENE159194</td>\n",
       "      <td>1</td>\n",
       "    </tr>\n",
       "    <tr>\n",
       "      <th>138552</th>\n",
       "      <td>BENE159195</td>\n",
       "      <td>1</td>\n",
       "    </tr>\n",
       "    <tr>\n",
       "      <th>138553</th>\n",
       "      <td>BENE159196</td>\n",
       "      <td>2</td>\n",
       "    </tr>\n",
       "    <tr>\n",
       "      <th>138554</th>\n",
       "      <td>BENE159197</td>\n",
       "      <td>1</td>\n",
       "    </tr>\n",
       "    <tr>\n",
       "      <th>138555</th>\n",
       "      <td>BENE159198</td>\n",
       "      <td>1</td>\n",
       "    </tr>\n",
       "  </tbody>\n",
       "</table>\n",
       "<p>138556 rows × 2 columns</p>\n",
       "</div>"
      ],
      "text/plain": [
       "            BeneID  ChronicCond_Alzheimer\n",
       "0        BENE11001                      1\n",
       "1        BENE11002                      2\n",
       "2        BENE11003                      1\n",
       "3        BENE11004                      1\n",
       "4        BENE11005                      2\n",
       "...            ...                    ...\n",
       "138551  BENE159194                      1\n",
       "138552  BENE159195                      1\n",
       "138553  BENE159196                      2\n",
       "138554  BENE159197                      1\n",
       "138555  BENE159198                      1\n",
       "\n",
       "[138556 rows x 2 columns]"
      ]
     },
     "execution_count": 112,
     "metadata": {},
     "output_type": "execute_result"
    }
   ],
   "source": [
    "grp"
   ]
  },
  {
   "cell_type": "code",
   "execution_count": 113,
   "id": "ad790eb5",
   "metadata": {},
   "outputs": [],
   "source": [
    "rels = [{'origin': x[1]['BeneID'],\n",
    "       'target':  x[1]['ChronicCond_Alzheimer']} for x in grp.iterrows()]"
   ]
  },
  {
   "cell_type": "code",
   "execution_count": 114,
   "id": "e5e3cbbf",
   "metadata": {},
   "outputs": [
    {
     "data": {
      "text/html": [
       "(No data)"
      ],
      "text/plain": [
       "(No data)"
      ]
     },
     "execution_count": 114,
     "metadata": {},
     "output_type": "execute_result"
    }
   ],
   "source": [
    "query = \"\"\"\n",
    "    UNWIND $rels AS rel\n",
    "    MATCH (e1:Beneficiary {idx: rel.origin})\n",
    "    MATCH (e2:ChronicCond_Alzheimer {idx: rel.target}) \n",
    "    MERGE (e1)-[m:HAS_CHRONIC_A]->(e2)\"\"\"\n",
    "\n",
    "db.run(query, {\"rels\":rels})"
   ]
  },
  {
   "cell_type": "markdown",
   "id": "7347d730",
   "metadata": {},
   "source": [
    "## ChronicCond_Heartfailure"
   ]
  },
  {
   "cell_type": "code",
   "execution_count": 115,
   "id": "98482d2d",
   "metadata": {},
   "outputs": [],
   "source": [
    "hearts=list(df.ChronicCond_Heartfailure.unique())"
   ]
  },
  {
   "cell_type": "code",
   "execution_count": 116,
   "id": "2d6efe06",
   "metadata": {},
   "outputs": [],
   "source": [
    "hs = [{\"ChronicCond_Heartfailure\": int(x),\n",
    "     \"idx\" : i} for (i,x) in enumerate(hearts)]"
   ]
  },
  {
   "cell_type": "code",
   "execution_count": 117,
   "id": "99c42e0c",
   "metadata": {},
   "outputs": [],
   "source": [
    "query=\"\"\"CREATE CONSTRAINT ON (n:ChronicCond_Heartfailure) ASSERT n.idx IS UNIQUE\"\"\""
   ]
  },
  {
   "cell_type": "code",
   "execution_count": 118,
   "id": "450792ab",
   "metadata": {},
   "outputs": [
    {
     "data": {
      "text/html": [
       "(No data)"
      ],
      "text/plain": [
       "(No data)"
      ]
     },
     "execution_count": 118,
     "metadata": {},
     "output_type": "execute_result"
    }
   ],
   "source": [
    "db.run(query)"
   ]
  },
  {
   "cell_type": "code",
   "execution_count": 119,
   "id": "8b994597",
   "metadata": {},
   "outputs": [
    {
     "data": {
      "text/html": [
       "(No data)"
      ],
      "text/plain": [
       "(No data)"
      ]
     },
     "execution_count": 119,
     "metadata": {},
     "output_type": "execute_result"
    }
   ],
   "source": [
    "query = \"\"\"\n",
    "    UNWIND $hs AS h\n",
    "    MERGE (b:ChronicCond_Heartfailure {idx: h.idx, ChronicCond_Heartfailure: h.ChronicCond_Heartfailure})\n",
    "        \"\"\"\n",
    "db.run(query, {\"hs\":hs})"
   ]
  },
  {
   "cell_type": "markdown",
   "id": "f6b8371a",
   "metadata": {},
   "source": [
    "## (Beneficiary)-[:HAS_CHRONIC_H]->(ChronicCond_Heartfailure)"
   ]
  },
  {
   "cell_type": "code",
   "execution_count": 120,
   "id": "3481de13",
   "metadata": {},
   "outputs": [],
   "source": [
    "grp=df[['BeneID','ChronicCond_Heartfailure']]"
   ]
  },
  {
   "cell_type": "code",
   "execution_count": 121,
   "id": "67c66a2e",
   "metadata": {},
   "outputs": [],
   "source": [
    "rels = [{'origin': x[1]['BeneID'],\n",
    "       'target':  x[1]['ChronicCond_Heartfailure']} for x in grp.iterrows()]"
   ]
  },
  {
   "cell_type": "code",
   "execution_count": 122,
   "id": "7688994e",
   "metadata": {},
   "outputs": [
    {
     "data": {
      "text/html": [
       "(No data)"
      ],
      "text/plain": [
       "(No data)"
      ]
     },
     "execution_count": 122,
     "metadata": {},
     "output_type": "execute_result"
    }
   ],
   "source": [
    "query = \"\"\"\n",
    "    UNWIND $rels AS rel\n",
    "    MATCH (e1:Beneficiary {idx: rel.origin})\n",
    "    MATCH (e2:ChronicCond_Heartfailure {idx: rel.target}) \n",
    "    MERGE (e1)-[m:HAS_CHRONIC_H]->(e2)\"\"\"\n",
    "\n",
    "db.run(query, {\"rels\":rels})"
   ]
  },
  {
   "cell_type": "markdown",
   "id": "26fc7e0e",
   "metadata": {},
   "source": [
    "## ChronicCond_KidneyDisease"
   ]
  },
  {
   "cell_type": "code",
   "execution_count": 123,
   "id": "a92da52a",
   "metadata": {},
   "outputs": [],
   "source": [
    "kidneys=list(df.ChronicCond_KidneyDisease.unique())"
   ]
  },
  {
   "cell_type": "code",
   "execution_count": 124,
   "id": "30a4a4fc",
   "metadata": {},
   "outputs": [],
   "source": [
    "ks = [{\"ChronicCond_KidneyDisease\": int(x),\n",
    "     \"idx\" : i} for (i,x) in enumerate(kidneys)]"
   ]
  },
  {
   "cell_type": "code",
   "execution_count": 125,
   "id": "0895a0a5",
   "metadata": {},
   "outputs": [],
   "source": [
    "query=\"\"\"CREATE CONSTRAINT ON (n:ChronicCond_KidneyDisease) ASSERT n.idx IS UNIQUE\"\"\""
   ]
  },
  {
   "cell_type": "code",
   "execution_count": 126,
   "id": "274873c8",
   "metadata": {},
   "outputs": [
    {
     "data": {
      "text/html": [
       "(No data)"
      ],
      "text/plain": [
       "(No data)"
      ]
     },
     "execution_count": 126,
     "metadata": {},
     "output_type": "execute_result"
    }
   ],
   "source": [
    "db.run(query)"
   ]
  },
  {
   "cell_type": "code",
   "execution_count": 127,
   "id": "0501b76e",
   "metadata": {},
   "outputs": [
    {
     "data": {
      "text/html": [
       "(No data)"
      ],
      "text/plain": [
       "(No data)"
      ]
     },
     "execution_count": 127,
     "metadata": {},
     "output_type": "execute_result"
    }
   ],
   "source": [
    "query = \"\"\"\n",
    "    UNWIND $ks AS k\n",
    "    MERGE (b:ChronicCond_KidneyDisease {idx: k.idx, ChronicCond_KidneyDisease: k.ChronicCond_KidneyDisease})\n",
    "        \"\"\"\n",
    "db.run(query, {\"ks\":ks})"
   ]
  },
  {
   "cell_type": "markdown",
   "id": "d9faeb15",
   "metadata": {},
   "source": [
    "## (Beneficiary)-[:HAS_CHRONIC_K]->(ChronicCond_KidneyDisease)"
   ]
  },
  {
   "cell_type": "code",
   "execution_count": 128,
   "id": "cf835e5a",
   "metadata": {},
   "outputs": [],
   "source": [
    "grp=df[['BeneID','ChronicCond_KidneyDisease']]"
   ]
  },
  {
   "cell_type": "code",
   "execution_count": 129,
   "id": "ae9ed04f",
   "metadata": {},
   "outputs": [],
   "source": [
    "rels = [{'origin': x[1]['BeneID'],\n",
    "       'target':  x[1]['ChronicCond_KidneyDisease']} for x in grp.iterrows()]"
   ]
  },
  {
   "cell_type": "code",
   "execution_count": 130,
   "id": "ebc7ca83",
   "metadata": {},
   "outputs": [
    {
     "data": {
      "text/html": [
       "(No data)"
      ],
      "text/plain": [
       "(No data)"
      ]
     },
     "execution_count": 130,
     "metadata": {},
     "output_type": "execute_result"
    }
   ],
   "source": [
    "query = \"\"\"\n",
    "    UNWIND $rels AS rel\n",
    "    MATCH (e1:Beneficiary {idx: rel.origin})\n",
    "    MATCH (e2:ChronicCond_KidneyDisease {idx: rel.target}) \n",
    "    MERGE (e1)-[m:HAS_CHRONIC_K]->(e2)\"\"\"\n",
    "\n",
    "db.run(query, {\"rels\":rels})"
   ]
  },
  {
   "cell_type": "markdown",
   "id": "c30036cc",
   "metadata": {},
   "source": [
    "## IsFraudulent"
   ]
  },
  {
   "cell_type": "code",
   "execution_count": 31,
   "id": "dc6122cc",
   "metadata": {},
   "outputs": [],
   "source": [
    "providers=pd.read_csv(\"data/Train-1542865627584.csv\")"
   ]
  },
  {
   "cell_type": "code",
   "execution_count": 56,
   "id": "06c12caf",
   "metadata": {},
   "outputs": [
    {
     "data": {
      "text/html": [
       "<div>\n",
       "<style scoped>\n",
       "    .dataframe tbody tr th:only-of-type {\n",
       "        vertical-align: middle;\n",
       "    }\n",
       "\n",
       "    .dataframe tbody tr th {\n",
       "        vertical-align: top;\n",
       "    }\n",
       "\n",
       "    .dataframe thead th {\n",
       "        text-align: right;\n",
       "    }\n",
       "</style>\n",
       "<table border=\"1\" class=\"dataframe\">\n",
       "  <thead>\n",
       "    <tr style=\"text-align: right;\">\n",
       "      <th></th>\n",
       "      <th>Provider</th>\n",
       "      <th>PotentialFraud</th>\n",
       "    </tr>\n",
       "  </thead>\n",
       "  <tbody>\n",
       "    <tr>\n",
       "      <th>0</th>\n",
       "      <td>PRV51001</td>\n",
       "      <td>No</td>\n",
       "    </tr>\n",
       "    <tr>\n",
       "      <th>1</th>\n",
       "      <td>PRV51003</td>\n",
       "      <td>Yes</td>\n",
       "    </tr>\n",
       "    <tr>\n",
       "      <th>2</th>\n",
       "      <td>PRV51004</td>\n",
       "      <td>No</td>\n",
       "    </tr>\n",
       "    <tr>\n",
       "      <th>3</th>\n",
       "      <td>PRV51005</td>\n",
       "      <td>Yes</td>\n",
       "    </tr>\n",
       "    <tr>\n",
       "      <th>4</th>\n",
       "      <td>PRV51007</td>\n",
       "      <td>No</td>\n",
       "    </tr>\n",
       "    <tr>\n",
       "      <th>...</th>\n",
       "      <td>...</td>\n",
       "      <td>...</td>\n",
       "    </tr>\n",
       "    <tr>\n",
       "      <th>5405</th>\n",
       "      <td>PRV57759</td>\n",
       "      <td>No</td>\n",
       "    </tr>\n",
       "    <tr>\n",
       "      <th>5406</th>\n",
       "      <td>PRV57760</td>\n",
       "      <td>No</td>\n",
       "    </tr>\n",
       "    <tr>\n",
       "      <th>5407</th>\n",
       "      <td>PRV57761</td>\n",
       "      <td>No</td>\n",
       "    </tr>\n",
       "    <tr>\n",
       "      <th>5408</th>\n",
       "      <td>PRV57762</td>\n",
       "      <td>No</td>\n",
       "    </tr>\n",
       "    <tr>\n",
       "      <th>5409</th>\n",
       "      <td>PRV57763</td>\n",
       "      <td>No</td>\n",
       "    </tr>\n",
       "  </tbody>\n",
       "</table>\n",
       "<p>5410 rows × 2 columns</p>\n",
       "</div>"
      ],
      "text/plain": [
       "      Provider PotentialFraud\n",
       "0     PRV51001             No\n",
       "1     PRV51003            Yes\n",
       "2     PRV51004             No\n",
       "3     PRV51005            Yes\n",
       "4     PRV51007             No\n",
       "...        ...            ...\n",
       "5405  PRV57759             No\n",
       "5406  PRV57760             No\n",
       "5407  PRV57761             No\n",
       "5408  PRV57762             No\n",
       "5409  PRV57763             No\n",
       "\n",
       "[5410 rows x 2 columns]"
      ]
     },
     "execution_count": 56,
     "metadata": {},
     "output_type": "execute_result"
    }
   ],
   "source": [
    "providers"
   ]
  },
  {
   "cell_type": "code",
   "execution_count": 69,
   "id": "b1c87de6",
   "metadata": {},
   "outputs": [],
   "source": [
    "fraudulents=list(providers.PotentialFraud.unique())"
   ]
  },
  {
   "cell_type": "code",
   "execution_count": 70,
   "id": "efcf1c31",
   "metadata": {},
   "outputs": [
    {
     "data": {
      "text/plain": [
       "['No', 'Yes']"
      ]
     },
     "execution_count": 70,
     "metadata": {},
     "output_type": "execute_result"
    }
   ],
   "source": [
    "fraudulents"
   ]
  },
  {
   "cell_type": "code",
   "execution_count": 71,
   "id": "b670b771",
   "metadata": {},
   "outputs": [],
   "source": [
    "fs = [{\"IsFraudulent\": x,\n",
    "     \"idx\" : i} for (i,x) in enumerate(fraudulents)]"
   ]
  },
  {
   "cell_type": "code",
   "execution_count": 136,
   "id": "5b05d73e",
   "metadata": {},
   "outputs": [],
   "source": [
    "query=\"\"\"CREATE CONSTRAINT ON (n:IsFraudulent) ASSERT n.idx IS UNIQUE\"\"\""
   ]
  },
  {
   "cell_type": "code",
   "execution_count": 137,
   "id": "c6f4ec44",
   "metadata": {},
   "outputs": [
    {
     "data": {
      "text/html": [
       "(No data)"
      ],
      "text/plain": [
       "(No data)"
      ]
     },
     "execution_count": 137,
     "metadata": {},
     "output_type": "execute_result"
    }
   ],
   "source": [
    "db.run(query)"
   ]
  },
  {
   "cell_type": "code",
   "execution_count": 138,
   "id": "46f06521",
   "metadata": {},
   "outputs": [
    {
     "data": {
      "text/html": [
       "(No data)"
      ],
      "text/plain": [
       "(No data)"
      ]
     },
     "execution_count": 138,
     "metadata": {},
     "output_type": "execute_result"
    }
   ],
   "source": [
    "query = \"\"\"\n",
    "    UNWIND $fs AS f\n",
    "    MERGE (b:IsFraudulent {idx: f.idx, IsFraudulent: f.IsFraudulent})\n",
    "        \"\"\"\n",
    "db.run(query, {\"fs\":fs})"
   ]
  },
  {
   "cell_type": "markdown",
   "id": "406b3675",
   "metadata": {},
   "source": [
    "## (Provider)-[:IS_FRAUDULENT]->(IsFraudulent)"
   ]
  },
  {
   "cell_type": "code",
   "execution_count": 32,
   "id": "229452c0",
   "metadata": {},
   "outputs": [
    {
     "data": {
      "text/html": [
       "<div>\n",
       "<style scoped>\n",
       "    .dataframe tbody tr th:only-of-type {\n",
       "        vertical-align: middle;\n",
       "    }\n",
       "\n",
       "    .dataframe tbody tr th {\n",
       "        vertical-align: top;\n",
       "    }\n",
       "\n",
       "    .dataframe thead th {\n",
       "        text-align: right;\n",
       "    }\n",
       "</style>\n",
       "<table border=\"1\" class=\"dataframe\">\n",
       "  <thead>\n",
       "    <tr style=\"text-align: right;\">\n",
       "      <th></th>\n",
       "      <th>Provider</th>\n",
       "      <th>PotentialFraud</th>\n",
       "    </tr>\n",
       "  </thead>\n",
       "  <tbody>\n",
       "    <tr>\n",
       "      <th>0</th>\n",
       "      <td>PRV51001</td>\n",
       "      <td>No</td>\n",
       "    </tr>\n",
       "    <tr>\n",
       "      <th>1</th>\n",
       "      <td>PRV51003</td>\n",
       "      <td>Yes</td>\n",
       "    </tr>\n",
       "    <tr>\n",
       "      <th>2</th>\n",
       "      <td>PRV51004</td>\n",
       "      <td>No</td>\n",
       "    </tr>\n",
       "    <tr>\n",
       "      <th>3</th>\n",
       "      <td>PRV51005</td>\n",
       "      <td>Yes</td>\n",
       "    </tr>\n",
       "    <tr>\n",
       "      <th>4</th>\n",
       "      <td>PRV51007</td>\n",
       "      <td>No</td>\n",
       "    </tr>\n",
       "    <tr>\n",
       "      <th>...</th>\n",
       "      <td>...</td>\n",
       "      <td>...</td>\n",
       "    </tr>\n",
       "    <tr>\n",
       "      <th>5405</th>\n",
       "      <td>PRV57759</td>\n",
       "      <td>No</td>\n",
       "    </tr>\n",
       "    <tr>\n",
       "      <th>5406</th>\n",
       "      <td>PRV57760</td>\n",
       "      <td>No</td>\n",
       "    </tr>\n",
       "    <tr>\n",
       "      <th>5407</th>\n",
       "      <td>PRV57761</td>\n",
       "      <td>No</td>\n",
       "    </tr>\n",
       "    <tr>\n",
       "      <th>5408</th>\n",
       "      <td>PRV57762</td>\n",
       "      <td>No</td>\n",
       "    </tr>\n",
       "    <tr>\n",
       "      <th>5409</th>\n",
       "      <td>PRV57763</td>\n",
       "      <td>No</td>\n",
       "    </tr>\n",
       "  </tbody>\n",
       "</table>\n",
       "<p>5410 rows × 2 columns</p>\n",
       "</div>"
      ],
      "text/plain": [
       "      Provider PotentialFraud\n",
       "0     PRV51001             No\n",
       "1     PRV51003            Yes\n",
       "2     PRV51004             No\n",
       "3     PRV51005            Yes\n",
       "4     PRV51007             No\n",
       "...        ...            ...\n",
       "5405  PRV57759             No\n",
       "5406  PRV57760             No\n",
       "5407  PRV57761             No\n",
       "5408  PRV57762             No\n",
       "5409  PRV57763             No\n",
       "\n",
       "[5410 rows x 2 columns]"
      ]
     },
     "execution_count": 32,
     "metadata": {},
     "output_type": "execute_result"
    }
   ],
   "source": [
    "providers"
   ]
  },
  {
   "cell_type": "code",
   "execution_count": 33,
   "id": "fc95f282",
   "metadata": {},
   "outputs": [],
   "source": [
    "rels = [{'origin': x[1]['Provider'],\n",
    "       'target':  x[1]['PotentialFraud']} for x in providers.iterrows()]"
   ]
  },
  {
   "cell_type": "code",
   "execution_count": 34,
   "id": "6f3d6d23",
   "metadata": {},
   "outputs": [],
   "source": [
    "query = \"\"\"\n",
    "\n",
    "       UNWIND $rels as rel\n",
    "       MATCH (e1:Provider {idx: rel.origin})\n",
    "       SET e1.FRAUD = rel.target\n",
    "\n",
    "\"\"\""
   ]
  },
  {
   "cell_type": "code",
   "execution_count": 35,
   "id": "293d22d4",
   "metadata": {},
   "outputs": [
    {
     "data": {
      "text/html": [
       "(No data)"
      ],
      "text/plain": [
       "(No data)"
      ]
     },
     "execution_count": 35,
     "metadata": {},
     "output_type": "execute_result"
    }
   ],
   "source": [
    "db.run(query, {'rels': rels})"
   ]
  },
  {
   "cell_type": "code",
   "execution_count": 74,
   "id": "1f0ab08e",
   "metadata": {},
   "outputs": [
    {
     "data": {
      "text/html": [
       "<table></table>"
      ],
      "text/plain": []
     },
     "execution_count": 74,
     "metadata": {},
     "output_type": "execute_result"
    }
   ],
   "source": [
    "query = \"\"\"\n",
    "    UNWIND $rels as rel\n",
    "    MATCH (e1:Provider {idx: rel.origin})\n",
    "    MATCH (e2:IsFraudulent {IsFraudulent: rel.target})\n",
    "    MERGE (e1)-[m:IS_FRAUD]->(e2)\n",
    "\n",
    "\"\"\"\n",
    "db.run(query, {'rels': rels}).to_table()"
   ]
  },
  {
   "cell_type": "markdown",
   "id": "f75f101c",
   "metadata": {},
   "source": [
    "## Claim nodes"
   ]
  },
  {
   "cell_type": "code",
   "execution_count": 28,
   "id": "026eb8de",
   "metadata": {},
   "outputs": [
    {
     "data": {
      "text/html": [
       "<div>\n",
       "<style scoped>\n",
       "    .dataframe tbody tr th:only-of-type {\n",
       "        vertical-align: middle;\n",
       "    }\n",
       "\n",
       "    .dataframe tbody tr th {\n",
       "        vertical-align: top;\n",
       "    }\n",
       "\n",
       "    .dataframe thead th {\n",
       "        text-align: right;\n",
       "    }\n",
       "</style>\n",
       "<table border=\"1\" class=\"dataframe\">\n",
       "  <thead>\n",
       "    <tr style=\"text-align: right;\">\n",
       "      <th></th>\n",
       "      <th>BeneID</th>\n",
       "      <th>ClaimID</th>\n",
       "      <th>ClaimStartDt</th>\n",
       "      <th>ClaimEndDt</th>\n",
       "      <th>Provider</th>\n",
       "      <th>InscClaimAmtReimbursed</th>\n",
       "      <th>AttendingPhysician</th>\n",
       "      <th>OperatingPhysician</th>\n",
       "      <th>OtherPhysician</th>\n",
       "      <th>AdmissionDt</th>\n",
       "      <th>...</th>\n",
       "      <th>ClmDiagnosisCode_8</th>\n",
       "      <th>ClmDiagnosisCode_9</th>\n",
       "      <th>ClmDiagnosisCode_10</th>\n",
       "      <th>ClmProcedureCode_1</th>\n",
       "      <th>ClmProcedureCode_2</th>\n",
       "      <th>ClmProcedureCode_3</th>\n",
       "      <th>ClmProcedureCode_4</th>\n",
       "      <th>ClmProcedureCode_5</th>\n",
       "      <th>ClmProcedureCode_6</th>\n",
       "      <th>type</th>\n",
       "    </tr>\n",
       "  </thead>\n",
       "  <tbody>\n",
       "    <tr>\n",
       "      <th>0</th>\n",
       "      <td>BENE11001</td>\n",
       "      <td>CLM46614</td>\n",
       "      <td>2009-04-12</td>\n",
       "      <td>2009-04-18</td>\n",
       "      <td>PRV55912</td>\n",
       "      <td>26000</td>\n",
       "      <td>PHY390922</td>\n",
       "      <td>NaN</td>\n",
       "      <td>NaN</td>\n",
       "      <td>2009-04-12</td>\n",
       "      <td>...</td>\n",
       "      <td>19889</td>\n",
       "      <td>5849</td>\n",
       "      <td>NaN</td>\n",
       "      <td>NaN</td>\n",
       "      <td>NaN</td>\n",
       "      <td>NaN</td>\n",
       "      <td>NaN</td>\n",
       "      <td>NaN</td>\n",
       "      <td>NaN</td>\n",
       "      <td>Inpatient</td>\n",
       "    </tr>\n",
       "    <tr>\n",
       "      <th>1</th>\n",
       "      <td>BENE11001</td>\n",
       "      <td>CLM66048</td>\n",
       "      <td>2009-08-31</td>\n",
       "      <td>2009-09-02</td>\n",
       "      <td>PRV55907</td>\n",
       "      <td>5000</td>\n",
       "      <td>PHY318495</td>\n",
       "      <td>PHY318495</td>\n",
       "      <td>NaN</td>\n",
       "      <td>2009-08-31</td>\n",
       "      <td>...</td>\n",
       "      <td>NaN</td>\n",
       "      <td>NaN</td>\n",
       "      <td>NaN</td>\n",
       "      <td>7092.0</td>\n",
       "      <td>NaN</td>\n",
       "      <td>NaN</td>\n",
       "      <td>NaN</td>\n",
       "      <td>NaN</td>\n",
       "      <td>NaN</td>\n",
       "      <td>Inpatient</td>\n",
       "    </tr>\n",
       "    <tr>\n",
       "      <th>2</th>\n",
       "      <td>BENE11001</td>\n",
       "      <td>CLM68358</td>\n",
       "      <td>2009-09-17</td>\n",
       "      <td>2009-09-20</td>\n",
       "      <td>PRV56046</td>\n",
       "      <td>5000</td>\n",
       "      <td>PHY372395</td>\n",
       "      <td>NaN</td>\n",
       "      <td>PHY324689</td>\n",
       "      <td>2009-09-17</td>\n",
       "      <td>...</td>\n",
       "      <td>NaN</td>\n",
       "      <td>NaN</td>\n",
       "      <td>NaN</td>\n",
       "      <td>NaN</td>\n",
       "      <td>NaN</td>\n",
       "      <td>NaN</td>\n",
       "      <td>NaN</td>\n",
       "      <td>NaN</td>\n",
       "      <td>NaN</td>\n",
       "      <td>Inpatient</td>\n",
       "    </tr>\n",
       "    <tr>\n",
       "      <th>3</th>\n",
       "      <td>BENE11011</td>\n",
       "      <td>CLM38412</td>\n",
       "      <td>2009-02-14</td>\n",
       "      <td>2009-02-22</td>\n",
       "      <td>PRV52405</td>\n",
       "      <td>5000</td>\n",
       "      <td>PHY369659</td>\n",
       "      <td>PHY392961</td>\n",
       "      <td>PHY349768</td>\n",
       "      <td>2009-02-14</td>\n",
       "      <td>...</td>\n",
       "      <td>40390</td>\n",
       "      <td>4019</td>\n",
       "      <td>NaN</td>\n",
       "      <td>331.0</td>\n",
       "      <td>NaN</td>\n",
       "      <td>NaN</td>\n",
       "      <td>NaN</td>\n",
       "      <td>NaN</td>\n",
       "      <td>NaN</td>\n",
       "      <td>Inpatient</td>\n",
       "    </tr>\n",
       "    <tr>\n",
       "      <th>4</th>\n",
       "      <td>BENE11014</td>\n",
       "      <td>CLM63689</td>\n",
       "      <td>2009-08-13</td>\n",
       "      <td>2009-08-30</td>\n",
       "      <td>PRV56614</td>\n",
       "      <td>10000</td>\n",
       "      <td>PHY379376</td>\n",
       "      <td>PHY398258</td>\n",
       "      <td>NaN</td>\n",
       "      <td>2009-08-13</td>\n",
       "      <td>...</td>\n",
       "      <td>29620</td>\n",
       "      <td>20300</td>\n",
       "      <td>NaN</td>\n",
       "      <td>3893.0</td>\n",
       "      <td>NaN</td>\n",
       "      <td>NaN</td>\n",
       "      <td>NaN</td>\n",
       "      <td>NaN</td>\n",
       "      <td>NaN</td>\n",
       "      <td>Inpatient</td>\n",
       "    </tr>\n",
       "    <tr>\n",
       "      <th>...</th>\n",
       "      <td>...</td>\n",
       "      <td>...</td>\n",
       "      <td>...</td>\n",
       "      <td>...</td>\n",
       "      <td>...</td>\n",
       "      <td>...</td>\n",
       "      <td>...</td>\n",
       "      <td>...</td>\n",
       "      <td>...</td>\n",
       "      <td>...</td>\n",
       "      <td>...</td>\n",
       "      <td>...</td>\n",
       "      <td>...</td>\n",
       "      <td>...</td>\n",
       "      <td>...</td>\n",
       "      <td>...</td>\n",
       "      <td>...</td>\n",
       "      <td>...</td>\n",
       "      <td>...</td>\n",
       "      <td>...</td>\n",
       "      <td>...</td>\n",
       "    </tr>\n",
       "    <tr>\n",
       "      <th>517732</th>\n",
       "      <td>BENE159198</td>\n",
       "      <td>CLM510792</td>\n",
       "      <td>2009-08-06</td>\n",
       "      <td>2009-08-06</td>\n",
       "      <td>PRV53699</td>\n",
       "      <td>800</td>\n",
       "      <td>PHY364188</td>\n",
       "      <td>PHY364188</td>\n",
       "      <td>PHY385752</td>\n",
       "      <td>NaN</td>\n",
       "      <td>...</td>\n",
       "      <td>NaN</td>\n",
       "      <td>NaN</td>\n",
       "      <td>NaN</td>\n",
       "      <td>NaN</td>\n",
       "      <td>NaN</td>\n",
       "      <td>NaN</td>\n",
       "      <td>NaN</td>\n",
       "      <td>NaN</td>\n",
       "      <td>NaN</td>\n",
       "      <td>Outpatient</td>\n",
       "    </tr>\n",
       "    <tr>\n",
       "      <th>517733</th>\n",
       "      <td>BENE159198</td>\n",
       "      <td>CLM551294</td>\n",
       "      <td>2009-08-29</td>\n",
       "      <td>2009-08-29</td>\n",
       "      <td>PRV53702</td>\n",
       "      <td>400</td>\n",
       "      <td>PHY423019</td>\n",
       "      <td>PHY332284</td>\n",
       "      <td>NaN</td>\n",
       "      <td>NaN</td>\n",
       "      <td>...</td>\n",
       "      <td>NaN</td>\n",
       "      <td>NaN</td>\n",
       "      <td>NaN</td>\n",
       "      <td>NaN</td>\n",
       "      <td>NaN</td>\n",
       "      <td>NaN</td>\n",
       "      <td>NaN</td>\n",
       "      <td>NaN</td>\n",
       "      <td>NaN</td>\n",
       "      <td>Outpatient</td>\n",
       "    </tr>\n",
       "    <tr>\n",
       "      <th>517734</th>\n",
       "      <td>BENE159198</td>\n",
       "      <td>CLM596444</td>\n",
       "      <td>2009-09-24</td>\n",
       "      <td>2009-09-24</td>\n",
       "      <td>PRV53676</td>\n",
       "      <td>60</td>\n",
       "      <td>PHY361063</td>\n",
       "      <td>NaN</td>\n",
       "      <td>NaN</td>\n",
       "      <td>NaN</td>\n",
       "      <td>...</td>\n",
       "      <td>NaN</td>\n",
       "      <td>NaN</td>\n",
       "      <td>NaN</td>\n",
       "      <td>NaN</td>\n",
       "      <td>NaN</td>\n",
       "      <td>NaN</td>\n",
       "      <td>NaN</td>\n",
       "      <td>NaN</td>\n",
       "      <td>NaN</td>\n",
       "      <td>Outpatient</td>\n",
       "    </tr>\n",
       "    <tr>\n",
       "      <th>517735</th>\n",
       "      <td>BENE159198</td>\n",
       "      <td>CLM636992</td>\n",
       "      <td>2009-10-18</td>\n",
       "      <td>2009-10-18</td>\n",
       "      <td>PRV53689</td>\n",
       "      <td>70</td>\n",
       "      <td>PHY403198</td>\n",
       "      <td>NaN</td>\n",
       "      <td>PHY419379</td>\n",
       "      <td>NaN</td>\n",
       "      <td>...</td>\n",
       "      <td>NaN</td>\n",
       "      <td>NaN</td>\n",
       "      <td>NaN</td>\n",
       "      <td>NaN</td>\n",
       "      <td>NaN</td>\n",
       "      <td>NaN</td>\n",
       "      <td>NaN</td>\n",
       "      <td>NaN</td>\n",
       "      <td>NaN</td>\n",
       "      <td>Outpatient</td>\n",
       "    </tr>\n",
       "    <tr>\n",
       "      <th>517736</th>\n",
       "      <td>BENE159198</td>\n",
       "      <td>CLM686139</td>\n",
       "      <td>2009-11-17</td>\n",
       "      <td>2009-11-18</td>\n",
       "      <td>PRV53689</td>\n",
       "      <td>80</td>\n",
       "      <td>PHY419379</td>\n",
       "      <td>NaN</td>\n",
       "      <td>PHY419379</td>\n",
       "      <td>NaN</td>\n",
       "      <td>...</td>\n",
       "      <td>V103</td>\n",
       "      <td>NaN</td>\n",
       "      <td>NaN</td>\n",
       "      <td>NaN</td>\n",
       "      <td>NaN</td>\n",
       "      <td>NaN</td>\n",
       "      <td>NaN</td>\n",
       "      <td>NaN</td>\n",
       "      <td>NaN</td>\n",
       "      <td>Outpatient</td>\n",
       "    </tr>\n",
       "  </tbody>\n",
       "</table>\n",
       "<p>558211 rows × 31 columns</p>\n",
       "</div>"
      ],
      "text/plain": [
       "            BeneID    ClaimID ClaimStartDt  ClaimEndDt  Provider  \\\n",
       "0        BENE11001   CLM46614   2009-04-12  2009-04-18  PRV55912   \n",
       "1        BENE11001   CLM66048   2009-08-31  2009-09-02  PRV55907   \n",
       "2        BENE11001   CLM68358   2009-09-17  2009-09-20  PRV56046   \n",
       "3        BENE11011   CLM38412   2009-02-14  2009-02-22  PRV52405   \n",
       "4        BENE11014   CLM63689   2009-08-13  2009-08-30  PRV56614   \n",
       "...            ...        ...          ...         ...       ...   \n",
       "517732  BENE159198  CLM510792   2009-08-06  2009-08-06  PRV53699   \n",
       "517733  BENE159198  CLM551294   2009-08-29  2009-08-29  PRV53702   \n",
       "517734  BENE159198  CLM596444   2009-09-24  2009-09-24  PRV53676   \n",
       "517735  BENE159198  CLM636992   2009-10-18  2009-10-18  PRV53689   \n",
       "517736  BENE159198  CLM686139   2009-11-17  2009-11-18  PRV53689   \n",
       "\n",
       "        InscClaimAmtReimbursed AttendingPhysician OperatingPhysician  \\\n",
       "0                        26000          PHY390922                NaN   \n",
       "1                         5000          PHY318495          PHY318495   \n",
       "2                         5000          PHY372395                NaN   \n",
       "3                         5000          PHY369659          PHY392961   \n",
       "4                        10000          PHY379376          PHY398258   \n",
       "...                        ...                ...                ...   \n",
       "517732                     800          PHY364188          PHY364188   \n",
       "517733                     400          PHY423019          PHY332284   \n",
       "517734                      60          PHY361063                NaN   \n",
       "517735                      70          PHY403198                NaN   \n",
       "517736                      80          PHY419379                NaN   \n",
       "\n",
       "       OtherPhysician AdmissionDt  ... ClmDiagnosisCode_8  ClmDiagnosisCode_9  \\\n",
       "0                 NaN  2009-04-12  ...              19889                5849   \n",
       "1                 NaN  2009-08-31  ...                NaN                 NaN   \n",
       "2           PHY324689  2009-09-17  ...                NaN                 NaN   \n",
       "3           PHY349768  2009-02-14  ...              40390                4019   \n",
       "4                 NaN  2009-08-13  ...              29620               20300   \n",
       "...               ...         ...  ...                ...                 ...   \n",
       "517732      PHY385752         NaN  ...                NaN                 NaN   \n",
       "517733            NaN         NaN  ...                NaN                 NaN   \n",
       "517734            NaN         NaN  ...                NaN                 NaN   \n",
       "517735      PHY419379         NaN  ...                NaN                 NaN   \n",
       "517736      PHY419379         NaN  ...               V103                 NaN   \n",
       "\n",
       "       ClmDiagnosisCode_10 ClmProcedureCode_1 ClmProcedureCode_2  \\\n",
       "0                      NaN                NaN                NaN   \n",
       "1                      NaN             7092.0                NaN   \n",
       "2                      NaN                NaN                NaN   \n",
       "3                      NaN              331.0                NaN   \n",
       "4                      NaN             3893.0                NaN   \n",
       "...                    ...                ...                ...   \n",
       "517732                 NaN                NaN                NaN   \n",
       "517733                 NaN                NaN                NaN   \n",
       "517734                 NaN                NaN                NaN   \n",
       "517735                 NaN                NaN                NaN   \n",
       "517736                 NaN                NaN                NaN   \n",
       "\n",
       "       ClmProcedureCode_3 ClmProcedureCode_4 ClmProcedureCode_5  \\\n",
       "0                     NaN                NaN                NaN   \n",
       "1                     NaN                NaN                NaN   \n",
       "2                     NaN                NaN                NaN   \n",
       "3                     NaN                NaN                NaN   \n",
       "4                     NaN                NaN                NaN   \n",
       "...                   ...                ...                ...   \n",
       "517732                NaN                NaN                NaN   \n",
       "517733                NaN                NaN                NaN   \n",
       "517734                NaN                NaN                NaN   \n",
       "517735                NaN                NaN                NaN   \n",
       "517736                NaN                NaN                NaN   \n",
       "\n",
       "       ClmProcedureCode_6        type  \n",
       "0                     NaN   Inpatient  \n",
       "1                     NaN   Inpatient  \n",
       "2                     NaN   Inpatient  \n",
       "3                     NaN   Inpatient  \n",
       "4                     NaN   Inpatient  \n",
       "...                   ...         ...  \n",
       "517732                NaN  Outpatient  \n",
       "517733                NaN  Outpatient  \n",
       "517734                NaN  Outpatient  \n",
       "517735                NaN  Outpatient  \n",
       "517736                NaN  Outpatient  \n",
       "\n",
       "[558211 rows x 31 columns]"
      ]
     },
     "execution_count": 28,
     "metadata": {},
     "output_type": "execute_result"
    }
   ],
   "source": [
    "df_all"
   ]
  },
  {
   "cell_type": "code",
   "execution_count": 53,
   "id": "3ec9cbb3",
   "metadata": {},
   "outputs": [
    {
     "name": "stdout",
     "output_type": "stream",
     "text": [
      "<class 'pandas.core.frame.DataFrame'>\n",
      "Int64Index: 558211 entries, 0 to 517736\n",
      "Data columns (total 31 columns):\n",
      " #   Column                  Non-Null Count   Dtype  \n",
      "---  ------                  --------------   -----  \n",
      " 0   BeneID                  558211 non-null  object \n",
      " 1   ClaimID                 558211 non-null  object \n",
      " 2   ClaimStartDt            558211 non-null  object \n",
      " 3   ClaimEndDt              558211 non-null  object \n",
      " 4   Provider                558211 non-null  object \n",
      " 5   InscClaimAmtReimbursed  558211 non-null  int64  \n",
      " 6   AttendingPhysician      556703 non-null  object \n",
      " 7   OperatingPhysician      114447 non-null  object \n",
      " 8   OtherPhysician          199736 non-null  object \n",
      " 9   AdmissionDt             40474 non-null   object \n",
      " 10  ClmAdmitDiagnosisCode   145899 non-null  object \n",
      " 11  DeductibleAmtPaid       557312 non-null  float64\n",
      " 12  DischargeDt             40474 non-null   object \n",
      " 13  DiagnosisGroupCode      40474 non-null   object \n",
      " 14  ClmDiagnosisCode_1      547758 non-null  object \n",
      " 15  ClmDiagnosisCode_2      362605 non-null  object \n",
      " 16  ClmDiagnosisCode_3      243055 non-null  object \n",
      " 17  ClmDiagnosisCode_4      164536 non-null  object \n",
      " 18  ClmDiagnosisCode_5      111924 non-null  object \n",
      " 19  ClmDiagnosisCode_6      84392 non-null   object \n",
      " 20  ClmDiagnosisCode_7      66177 non-null   object \n",
      " 21  ClmDiagnosisCode_8      53444 non-null   object \n",
      " 22  ClmDiagnosisCode_9      41815 non-null   object \n",
      " 23  ClmDiagnosisCode_10     5010 non-null    object \n",
      " 24  ClmProcedureCode_1      23310 non-null   float64\n",
      " 25  ClmProcedureCode_2      5490 non-null    float64\n",
      " 26  ClmProcedureCode_3      969 non-null     float64\n",
      " 27  ClmProcedureCode_4      118 non-null     float64\n",
      " 28  ClmProcedureCode_5      9 non-null       float64\n",
      " 29  ClmProcedureCode_6      0 non-null       float64\n",
      " 30  type                    558211 non-null  object \n",
      "dtypes: float64(7), int64(1), object(23)\n",
      "memory usage: 136.3+ MB\n"
     ]
    }
   ],
   "source": [
    "df_all.info()"
   ]
  },
  {
   "cell_type": "code",
   "execution_count": 15,
   "id": "d843c679",
   "metadata": {},
   "outputs": [
    {
     "data": {
      "text/plain": [
       "['CLM46614', 'CLM66048', 'CLM68358']"
      ]
     },
     "execution_count": 15,
     "metadata": {},
     "output_type": "execute_result"
    }
   ],
   "source": [
    "claims = list(df_all.ClaimID.unique())\n",
    "claims[:3]"
   ]
  },
  {
   "cell_type": "code",
   "execution_count": 16,
   "id": "08ef19f0",
   "metadata": {},
   "outputs": [
    {
     "data": {
      "text/plain": [
       "558211"
      ]
     },
     "execution_count": 16,
     "metadata": {},
     "output_type": "execute_result"
    }
   ],
   "source": [
    "len(claims)"
   ]
  },
  {
   "cell_type": "code",
   "execution_count": 17,
   "id": "680eefe4",
   "metadata": {},
   "outputs": [],
   "source": [
    "clms = [{'idx': x} for x in claims]"
   ]
  },
  {
   "cell_type": "code",
   "execution_count": 18,
   "id": "61259e88",
   "metadata": {},
   "outputs": [
    {
     "data": {
      "text/plain": [
       "[{'idx': 'CLM46614'}, {'idx': 'CLM66048'}, {'idx': 'CLM68358'}]"
      ]
     },
     "execution_count": 18,
     "metadata": {},
     "output_type": "execute_result"
    }
   ],
   "source": [
    "clms[:3]"
   ]
  },
  {
   "cell_type": "code",
   "execution_count": 19,
   "id": "13868944",
   "metadata": {},
   "outputs": [],
   "source": [
    "# set constraint on claim node that idx is unique\n",
    "query=\"\"\"CREATE CONSTRAINT ON (n:Claim) ASSERT n.idx IS UNIQUE\"\"\""
   ]
  },
  {
   "cell_type": "code",
   "execution_count": 155,
   "id": "f3b2080d",
   "metadata": {},
   "outputs": [
    {
     "data": {
      "text/html": [
       "(No data)"
      ],
      "text/plain": [
       "(No data)"
      ]
     },
     "execution_count": 155,
     "metadata": {},
     "output_type": "execute_result"
    }
   ],
   "source": [
    "db.run(query)"
   ]
  },
  {
   "cell_type": "code",
   "execution_count": 20,
   "id": "3a420541",
   "metadata": {},
   "outputs": [],
   "source": [
    "query = \"\"\"CALL apoc.periodic.iterate(\n",
    "    'UNWIND $clms AS clm MERGE (b:Claim {idx: clm.idx}) RETURN b',\n",
    "    'WITH b RETURN count(b)',\n",
    "    {batchSize:100, parallel:false, params: {clms:$clms}})\"\"\""
   ]
  },
  {
   "cell_type": "code",
   "execution_count": 24,
   "id": "88df0a69",
   "metadata": {},
   "outputs": [],
   "source": [
    "i=0\n",
    "while i < len(claims):\n",
    "    db.run(query, {\"clms\":clms[i:i+5000]}).to_table()\n",
    "    i=i+5000"
   ]
  },
  {
   "cell_type": "markdown",
   "id": "d6d4671f",
   "metadata": {},
   "source": [
    "## Physician nodes:"
   ]
  },
  {
   "cell_type": "code",
   "execution_count": 34,
   "id": "414e1382",
   "metadata": {},
   "outputs": [],
   "source": [
    "phy_df = df_all[df_all['AttendingPhysician'].notna()]"
   ]
  },
  {
   "cell_type": "code",
   "execution_count": 36,
   "id": "51f82cf6",
   "metadata": {},
   "outputs": [
    {
     "data": {
      "text/plain": [
       "['PHY390922', 'PHY318495', 'PHY372395']"
      ]
     },
     "execution_count": 36,
     "metadata": {},
     "output_type": "execute_result"
    }
   ],
   "source": [
    "physicians = list(phy_df.AttendingPhysician.unique())\n",
    "physicians[:3]"
   ]
  },
  {
   "cell_type": "code",
   "execution_count": 37,
   "id": "be67b190",
   "metadata": {},
   "outputs": [
    {
     "data": {
      "text/plain": [
       "82063"
      ]
     },
     "execution_count": 37,
     "metadata": {},
     "output_type": "execute_result"
    }
   ],
   "source": [
    "len(physicians)"
   ]
  },
  {
   "cell_type": "code",
   "execution_count": 38,
   "id": "201148e9",
   "metadata": {},
   "outputs": [],
   "source": [
    "phs = [{'idx': x} for x in physicians]"
   ]
  },
  {
   "cell_type": "code",
   "execution_count": 39,
   "id": "418ff8db",
   "metadata": {},
   "outputs": [],
   "source": [
    "# set constraint on beneficiary node that idx is unique\n",
    "query=\"\"\"CREATE CONSTRAINT ON (n:Physician) ASSERT n.idx IS UNIQUE\"\"\""
   ]
  },
  {
   "cell_type": "code",
   "execution_count": 146,
   "id": "141d8e31",
   "metadata": {},
   "outputs": [
    {
     "data": {
      "text/html": [
       "(No data)"
      ],
      "text/plain": [
       "(No data)"
      ]
     },
     "execution_count": 146,
     "metadata": {},
     "output_type": "execute_result"
    }
   ],
   "source": [
    "db.run(query)"
   ]
  },
  {
   "cell_type": "code",
   "execution_count": 40,
   "id": "cdc51e30",
   "metadata": {},
   "outputs": [
    {
     "data": {
      "text/html": [
       "(No data)"
      ],
      "text/plain": [
       "(No data)"
      ]
     },
     "execution_count": 40,
     "metadata": {},
     "output_type": "execute_result"
    }
   ],
   "source": [
    "query = \"\"\"\n",
    "    UNWIND $phs AS ph\n",
    "    MERGE (b:Physician {idx: ph.idx})\n",
    "        \"\"\"\n",
    "db.run(query, {\"phs\":phs})"
   ]
  },
  {
   "cell_type": "markdown",
   "id": "2309e5d3",
   "metadata": {},
   "source": [
    "## (Provider)-[:HAS_WORKED_WITH]->(Physician)"
   ]
  },
  {
   "cell_type": "code",
   "execution_count": 41,
   "id": "d3a895be",
   "metadata": {},
   "outputs": [],
   "source": [
    "grp=df_all.groupby(['Provider','AttendingPhysician'])['ClaimID'].count()"
   ]
  },
  {
   "cell_type": "code",
   "execution_count": 42,
   "id": "87100ecc",
   "metadata": {},
   "outputs": [],
   "source": [
    "grp=grp.reset_index()"
   ]
  },
  {
   "cell_type": "code",
   "execution_count": 43,
   "id": "0980f0d9",
   "metadata": {},
   "outputs": [
    {
     "data": {
      "text/html": [
       "<div>\n",
       "<style scoped>\n",
       "    .dataframe tbody tr th:only-of-type {\n",
       "        vertical-align: middle;\n",
       "    }\n",
       "\n",
       "    .dataframe tbody tr th {\n",
       "        vertical-align: top;\n",
       "    }\n",
       "\n",
       "    .dataframe thead th {\n",
       "        text-align: right;\n",
       "    }\n",
       "</style>\n",
       "<table border=\"1\" class=\"dataframe\">\n",
       "  <thead>\n",
       "    <tr style=\"text-align: right;\">\n",
       "      <th></th>\n",
       "      <th>Provider</th>\n",
       "      <th>AttendingPhysician</th>\n",
       "      <th>ClaimID</th>\n",
       "    </tr>\n",
       "  </thead>\n",
       "  <tbody>\n",
       "    <tr>\n",
       "      <th>0</th>\n",
       "      <td>PRV51001</td>\n",
       "      <td>PHY311126</td>\n",
       "      <td>1</td>\n",
       "    </tr>\n",
       "    <tr>\n",
       "      <th>1</th>\n",
       "      <td>PRV51001</td>\n",
       "      <td>PHY318842</td>\n",
       "      <td>1</td>\n",
       "    </tr>\n",
       "    <tr>\n",
       "      <th>2</th>\n",
       "      <td>PRV51001</td>\n",
       "      <td>PHY340163</td>\n",
       "      <td>1</td>\n",
       "    </tr>\n",
       "    <tr>\n",
       "      <th>3</th>\n",
       "      <td>PRV51001</td>\n",
       "      <td>PHY345302</td>\n",
       "      <td>4</td>\n",
       "    </tr>\n",
       "    <tr>\n",
       "      <th>4</th>\n",
       "      <td>PRV51001</td>\n",
       "      <td>PHY346762</td>\n",
       "      <td>1</td>\n",
       "    </tr>\n",
       "    <tr>\n",
       "      <th>...</th>\n",
       "      <td>...</td>\n",
       "      <td>...</td>\n",
       "      <td>...</td>\n",
       "    </tr>\n",
       "    <tr>\n",
       "      <th>87900</th>\n",
       "      <td>PRV57760</td>\n",
       "      <td>PHY398330</td>\n",
       "      <td>4</td>\n",
       "    </tr>\n",
       "    <tr>\n",
       "      <th>87901</th>\n",
       "      <td>PRV57761</td>\n",
       "      <td>PHY354815</td>\n",
       "      <td>68</td>\n",
       "    </tr>\n",
       "    <tr>\n",
       "      <th>87902</th>\n",
       "      <td>PRV57761</td>\n",
       "      <td>PHY367727</td>\n",
       "      <td>14</td>\n",
       "    </tr>\n",
       "    <tr>\n",
       "      <th>87903</th>\n",
       "      <td>PRV57762</td>\n",
       "      <td>PHY432730</td>\n",
       "      <td>1</td>\n",
       "    </tr>\n",
       "    <tr>\n",
       "      <th>87904</th>\n",
       "      <td>PRV57763</td>\n",
       "      <td>PHY321072</td>\n",
       "      <td>118</td>\n",
       "    </tr>\n",
       "  </tbody>\n",
       "</table>\n",
       "<p>87905 rows × 3 columns</p>\n",
       "</div>"
      ],
      "text/plain": [
       "       Provider AttendingPhysician  ClaimID\n",
       "0      PRV51001          PHY311126        1\n",
       "1      PRV51001          PHY318842        1\n",
       "2      PRV51001          PHY340163        1\n",
       "3      PRV51001          PHY345302        4\n",
       "4      PRV51001          PHY346762        1\n",
       "...         ...                ...      ...\n",
       "87900  PRV57760          PHY398330        4\n",
       "87901  PRV57761          PHY354815       68\n",
       "87902  PRV57761          PHY367727       14\n",
       "87903  PRV57762          PHY432730        1\n",
       "87904  PRV57763          PHY321072      118\n",
       "\n",
       "[87905 rows x 3 columns]"
      ]
     },
     "execution_count": 43,
     "metadata": {},
     "output_type": "execute_result"
    }
   ],
   "source": [
    "grp"
   ]
  },
  {
   "cell_type": "code",
   "execution_count": 44,
   "id": "979d5b6e",
   "metadata": {},
   "outputs": [],
   "source": [
    "rels = [{'origin':x[1]['Provider'],\n",
    "       'target': x[1]['AttendingPhysician']} for x in grp.iterrows()]"
   ]
  },
  {
   "cell_type": "code",
   "execution_count": 45,
   "id": "6cfd4ad7",
   "metadata": {},
   "outputs": [
    {
     "data": {
      "text/html": [
       "(No data)"
      ],
      "text/plain": [
       "(No data)"
      ]
     },
     "execution_count": 45,
     "metadata": {},
     "output_type": "execute_result"
    }
   ],
   "source": [
    "query = \"\"\"\n",
    "    UNWIND $rels AS rel\n",
    "    MATCH (e1:Provider {idx: rel.origin})\n",
    "    MATCH (e2:Physician {idx: rel.target}) \n",
    "    MERGE (e1)-[m:HAS_WORKED_WITH]->(e2)\"\"\"\n",
    "\n",
    "db.run(query, {\"rels\":rels})"
   ]
  },
  {
   "cell_type": "markdown",
   "id": "97e18c8d",
   "metadata": {},
   "source": [
    "## Type Node"
   ]
  },
  {
   "cell_type": "code",
   "execution_count": 46,
   "id": "836856da",
   "metadata": {},
   "outputs": [],
   "source": [
    "types=list(df_all.type.unique())"
   ]
  },
  {
   "cell_type": "code",
   "execution_count": 47,
   "id": "a61c8fad",
   "metadata": {},
   "outputs": [
    {
     "data": {
      "text/plain": [
       "['Inpatient', 'Outpatient']"
      ]
     },
     "execution_count": 47,
     "metadata": {},
     "output_type": "execute_result"
    }
   ],
   "source": [
    "types"
   ]
  },
  {
   "cell_type": "code",
   "execution_count": 48,
   "id": "1f3ba3c8",
   "metadata": {},
   "outputs": [],
   "source": [
    "ts = [{\"Type\": x,\n",
    "     \"idx\" : i} for (i,x) in enumerate(types)]"
   ]
  },
  {
   "cell_type": "code",
   "execution_count": 49,
   "id": "12d4af2e",
   "metadata": {},
   "outputs": [
    {
     "data": {
      "text/plain": [
       "[{'Type': 'Inpatient', 'idx': 0}, {'Type': 'Outpatient', 'idx': 1}]"
      ]
     },
     "execution_count": 49,
     "metadata": {},
     "output_type": "execute_result"
    }
   ],
   "source": [
    "ts"
   ]
  },
  {
   "cell_type": "code",
   "execution_count": 50,
   "id": "557be1b1",
   "metadata": {},
   "outputs": [],
   "source": [
    "query=\"\"\"CREATE CONSTRAINT ON (n:Type) ASSERT n.idx IS UNIQUE\"\"\""
   ]
  },
  {
   "cell_type": "code",
   "execution_count": 51,
   "id": "d518eaa3",
   "metadata": {},
   "outputs": [
    {
     "data": {
      "text/html": [
       "(No data)"
      ],
      "text/plain": [
       "(No data)"
      ]
     },
     "execution_count": 51,
     "metadata": {},
     "output_type": "execute_result"
    }
   ],
   "source": [
    "db.run(query)"
   ]
  },
  {
   "cell_type": "code",
   "execution_count": 52,
   "id": "8699e268",
   "metadata": {},
   "outputs": [
    {
     "data": {
      "text/html": [
       "(No data)"
      ],
      "text/plain": [
       "(No data)"
      ]
     },
     "execution_count": 52,
     "metadata": {},
     "output_type": "execute_result"
    }
   ],
   "source": [
    "query = \"\"\"\n",
    "    UNWIND $ts AS t\n",
    "    MERGE (b:Type {idx: t.idx, Type: t.Type})\n",
    "        \"\"\"\n",
    "db.run(query, {\"ts\":ts})"
   ]
  },
  {
   "cell_type": "markdown",
   "id": "0edb6ba3",
   "metadata": {},
   "source": [
    "## (Claim)-[:HAS_TYPE]->(Type)"
   ]
  },
  {
   "cell_type": "code",
   "execution_count": 18,
   "id": "009823e1",
   "metadata": {},
   "outputs": [],
   "source": [
    "grp=df_all[['ClaimID','type']]"
   ]
  },
  {
   "cell_type": "code",
   "execution_count": 19,
   "id": "29866633",
   "metadata": {},
   "outputs": [],
   "source": [
    "rels = [{'origin': x[1]['ClaimID'],\n",
    "       'target':  x[1]['type']} for x in grp.iterrows()]"
   ]
  },
  {
   "cell_type": "code",
   "execution_count": 20,
   "id": "1cd9cd8e",
   "metadata": {},
   "outputs": [
    {
     "data": {
      "text/plain": [
       "558211"
      ]
     },
     "execution_count": 20,
     "metadata": {},
     "output_type": "execute_result"
    }
   ],
   "source": [
    "len(rels)"
   ]
  },
  {
   "cell_type": "code",
   "execution_count": 21,
   "id": "2acbc8eb",
   "metadata": {},
   "outputs": [],
   "source": [
    "query = \"\"\"\n",
    "    CALL apoc.periodic.iterate(\n",
    "    'UNWIND $rels AS rel\n",
    "    MATCH (e1:Claim {idx: rel.origin})\n",
    "    MATCH (e2:Type {Type: rel.target}) \n",
    "    MERGE (e1)-[m:HAS_TYPE]->(e2) RETURN m', \n",
    "    'WITH m RETURN count(m)',\n",
    "    {batchSize:100, parallel:false, params: {rels:$rels}})\n",
    "    \"\"\""
   ]
  },
  {
   "cell_type": "code",
   "execution_count": 22,
   "id": "0365ff4c",
   "metadata": {},
   "outputs": [],
   "source": [
    "i=0\n",
    "while i < len(df_all):\n",
    "    db.run(query, {\"rels\":rels[i:i+5000]}).to_table()\n",
    "    i=i+5000"
   ]
  },
  {
   "cell_type": "markdown",
   "id": "721d2f49",
   "metadata": {},
   "source": [
    "## (Provider)-[:HAS_CLAIM]->(Claim)"
   ]
  },
  {
   "cell_type": "code",
   "execution_count": 37,
   "id": "b28559f4",
   "metadata": {},
   "outputs": [],
   "source": [
    "grp=df_all[['ClaimID','Provider']]"
   ]
  },
  {
   "cell_type": "code",
   "execution_count": 38,
   "id": "88ae449f",
   "metadata": {},
   "outputs": [],
   "source": [
    "rels = [{'origin': x[1]['Provider'],\n",
    "       'target':  x[1]['ClaimID']} for x in grp.iterrows()]"
   ]
  },
  {
   "cell_type": "code",
   "execution_count": 39,
   "id": "bf47078c",
   "metadata": {},
   "outputs": [
    {
     "data": {
      "text/plain": [
       "558211"
      ]
     },
     "execution_count": 39,
     "metadata": {},
     "output_type": "execute_result"
    }
   ],
   "source": [
    "len(rels)"
   ]
  },
  {
   "cell_type": "code",
   "execution_count": 40,
   "id": "1cd0dbe0",
   "metadata": {},
   "outputs": [],
   "source": [
    "query = \"\"\"\n",
    "    CALL apoc.periodic.iterate(\n",
    "    'UNWIND $rels AS rel\n",
    "    MATCH (e1:Provider {idx: rel.origin})\n",
    "    MATCH (e2:Claim {idx: rel.target}) \n",
    "    MERGE (e1)-[m:P_HAS_CLAIM]->(e2) RETURN m', \n",
    "    'WITH m RETURN count(m)',\n",
    "    {batchSize:100, parallel:false, params: {rels:$rels}})\n",
    "    \"\"\""
   ]
  },
  {
   "cell_type": "code",
   "execution_count": 41,
   "id": "2d2c8d80",
   "metadata": {},
   "outputs": [],
   "source": [
    "i=0\n",
    "while i < len(df_all):\n",
    "    db.run(query, {\"rels\":rels[i:i+5000]}).to_table()\n",
    "    i=i+5000"
   ]
  },
  {
   "cell_type": "markdown",
   "id": "0bf0f326",
   "metadata": {},
   "source": [
    "## (Beneficiary)-[:HAS_CLAIM]->(Claim)\n"
   ]
  },
  {
   "cell_type": "code",
   "execution_count": 33,
   "id": "27957f60",
   "metadata": {},
   "outputs": [],
   "source": [
    "grp=df_all[['ClaimID','BeneID']]"
   ]
  },
  {
   "cell_type": "code",
   "execution_count": 34,
   "id": "1b265790",
   "metadata": {},
   "outputs": [],
   "source": [
    "rels = [{'origin': x[1]['BeneID'],\n",
    "       'target':  x[1]['ClaimID']} for x in grp.iterrows()]"
   ]
  },
  {
   "cell_type": "code",
   "execution_count": 35,
   "id": "54a030df",
   "metadata": {},
   "outputs": [],
   "source": [
    "query = \"\"\"\n",
    "    CALL apoc.periodic.iterate(\n",
    "    'UNWIND $rels AS rel\n",
    "    MATCH (e1:Beneficiary {idx: rel.origin})\n",
    "    MATCH (e2:Claim {idx: rel.target}) \n",
    "    MERGE (e1)-[m:HAS_CLAIM]->(e2) RETURN m', \n",
    "    'WITH m RETURN count(m)',\n",
    "    {batchSize:100, parallel:false, params: {rels:$rels}})\n",
    "    \"\"\""
   ]
  },
  {
   "cell_type": "code",
   "execution_count": 36,
   "id": "c7a2fae2",
   "metadata": {},
   "outputs": [],
   "source": [
    "i=0\n",
    "while i < len(df_all):\n",
    "    db.run(query, {\"rels\":rels[i:i+5000]}).to_table()\n",
    "    i=i+5000"
   ]
  },
  {
   "cell_type": "markdown",
   "id": "bfcd5ae9",
   "metadata": {},
   "source": [
    "## (Claim)-[:HAS_ATTENDING]->(Physician)"
   ]
  },
  {
   "cell_type": "code",
   "execution_count": 13,
   "id": "21bcb863",
   "metadata": {},
   "outputs": [],
   "source": [
    "grp=df_all[['ClaimID','AttendingPhysician']]"
   ]
  },
  {
   "cell_type": "code",
   "execution_count": 14,
   "id": "fb417a34",
   "metadata": {},
   "outputs": [],
   "source": [
    "rels = [{'origin': x[1]['ClaimID'],\n",
    "       'target':  x[1]['AttendingPhysician']} for x in grp.iterrows()]"
   ]
  },
  {
   "cell_type": "code",
   "execution_count": 15,
   "id": "69bdc09e",
   "metadata": {},
   "outputs": [],
   "source": [
    "query = \"\"\"\n",
    "    CALL apoc.periodic.iterate(\n",
    "    'UNWIND $rels AS rel\n",
    "    MATCH (e1:Claim {idx: rel.origin})\n",
    "    MATCH (e2:Physician {idx: rel.target}) \n",
    "    MERGE (e1)-[m:HAS_ATTENDING]->(e2) RETURN m', \n",
    "    'WITH m RETURN count(m)',\n",
    "    {batchSize:100, parallel:false, params: {rels:$rels}})\n",
    "    \"\"\""
   ]
  },
  {
   "cell_type": "code",
   "execution_count": 16,
   "id": "89fc9cf5",
   "metadata": {},
   "outputs": [],
   "source": [
    "i=0\n",
    "while i < len(df_all):\n",
    "    db.run(query, {\"rels\":rels[i:i+5000]}).to_table()\n",
    "    i=i+5000"
   ]
  },
  {
   "cell_type": "markdown",
   "id": "6ed52acd",
   "metadata": {},
   "source": [
    "## Diagnosis Node: "
   ]
  },
  {
   "cell_type": "code",
   "execution_count": 14,
   "id": "e906de1f",
   "metadata": {},
   "outputs": [
    {
     "data": {
      "text/plain": [
       "BeneID                     object\n",
       "ClaimID                    object\n",
       "ClaimStartDt               object\n",
       "ClaimEndDt                 object\n",
       "Provider                   object\n",
       "InscClaimAmtReimbursed      int64\n",
       "AttendingPhysician         object\n",
       "OperatingPhysician         object\n",
       "OtherPhysician             object\n",
       "AdmissionDt                object\n",
       "ClmAdmitDiagnosisCode      object\n",
       "DeductibleAmtPaid         float64\n",
       "DischargeDt                object\n",
       "DiagnosisGroupCode         object\n",
       "ClmDiagnosisCode_1         object\n",
       "ClmDiagnosisCode_2         object\n",
       "ClmDiagnosisCode_3         object\n",
       "ClmDiagnosisCode_4         object\n",
       "ClmDiagnosisCode_5         object\n",
       "ClmDiagnosisCode_6         object\n",
       "ClmDiagnosisCode_7         object\n",
       "ClmDiagnosisCode_8         object\n",
       "ClmDiagnosisCode_9         object\n",
       "ClmDiagnosisCode_10        object\n",
       "ClmProcedureCode_1        float64\n",
       "ClmProcedureCode_2        float64\n",
       "ClmProcedureCode_3        float64\n",
       "ClmProcedureCode_4        float64\n",
       "ClmProcedureCode_5        float64\n",
       "ClmProcedureCode_6        float64\n",
       "type                       object\n",
       "dtype: object"
      ]
     },
     "execution_count": 14,
     "metadata": {},
     "output_type": "execute_result"
    }
   ],
   "source": [
    "df_all.dtypes"
   ]
  },
  {
   "cell_type": "code",
   "execution_count": 18,
   "id": "39ed3dda",
   "metadata": {},
   "outputs": [],
   "source": [
    "D1=list(df_all['ClmDiagnosisCode_1'].unique())\n",
    "D2=list(df_all['ClmDiagnosisCode_2'].unique())\n",
    "D3=list(df_all['ClmDiagnosisCode_3'].unique())\n",
    "D4=list(df_all['ClmDiagnosisCode_4'].unique())\n",
    "D5=list(df_all['ClmDiagnosisCode_5'].unique())\n",
    "D6=list(df_all['ClmDiagnosisCode_6'].unique())\n",
    "D7=list(df_all['ClmDiagnosisCode_7'].unique())\n",
    "D8=list(df_all['ClmDiagnosisCode_8'].unique())\n",
    "D9=list(df_all['ClmDiagnosisCode_9'].unique())\n",
    "D10=list(df_all['ClmDiagnosisCode_10'].unique())\n",
    "D=D1+D2+D3+D4+D5+D6+D7+D8+D9+D10\n",
    "D=set(D)"
   ]
  },
  {
   "cell_type": "code",
   "execution_count": 19,
   "id": "6253652c",
   "metadata": {},
   "outputs": [],
   "source": [
    "D=list(D)\n",
    "diagnosis=D[1:]"
   ]
  },
  {
   "cell_type": "code",
   "execution_count": 22,
   "id": "ace312da",
   "metadata": {},
   "outputs": [],
   "source": [
    "ds = [{\"Diagnosis\": x,\n",
    "     \"idx\" : i} for (i,x) in enumerate(diagnosis)]"
   ]
  },
  {
   "cell_type": "code",
   "execution_count": 26,
   "id": "40511458",
   "metadata": {},
   "outputs": [
    {
     "data": {
      "text/plain": [
       "[{'Diagnosis': '09949', 'idx': 0},\n",
       " {'Diagnosis': '9644', 'idx': 1},\n",
       " {'Diagnosis': '7572', 'idx': 2},\n",
       " {'Diagnosis': '52470', 'idx': 3},\n",
       " {'Diagnosis': '1737', 'idx': 4},\n",
       " {'Diagnosis': '2881', 'idx': 5},\n",
       " {'Diagnosis': '20942', 'idx': 6},\n",
       " {'Diagnosis': '37556', 'idx': 7},\n",
       " {'Diagnosis': '80395', 'idx': 8},\n",
       " {'Diagnosis': 'E9455', 'idx': 9},\n",
       " {'Diagnosis': '0859', 'idx': 10},\n",
       " {'Diagnosis': '33912', 'idx': 11},\n",
       " {'Diagnosis': '2330', 'idx': 12},\n",
       " {'Diagnosis': '24201', 'idx': 13},\n",
       " {'Diagnosis': 'V6407', 'idx': 14},\n",
       " {'Diagnosis': '71640', 'idx': 15},\n",
       " {'Diagnosis': '80517', 'idx': 16},\n",
       " {'Diagnosis': '20082', 'idx': 17},\n",
       " {'Diagnosis': '73741', 'idx': 18},\n",
       " {'Diagnosis': '1899', 'idx': 19},\n",
       " {'Diagnosis': '64821', 'idx': 20},\n",
       " {'Diagnosis': '5810', 'idx': 21},\n",
       " {'Diagnosis': '87261', 'idx': 22},\n",
       " {'Diagnosis': '00866', 'idx': 23},\n",
       " {'Diagnosis': '84209', 'idx': 24},\n",
       " {'Diagnosis': '7100', 'idx': 25},\n",
       " {'Diagnosis': 'E8796', 'idx': 26},\n",
       " {'Diagnosis': '2148', 'idx': 27},\n",
       " {'Diagnosis': '9801', 'idx': 28},\n",
       " {'Diagnosis': '36442', 'idx': 29},\n",
       " {'Diagnosis': '65413', 'idx': 30},\n",
       " {'Diagnosis': '25083', 'idx': 31},\n",
       " {'Diagnosis': '30503', 'idx': 32},\n",
       " {'Diagnosis': '73311', 'idx': 33},\n",
       " {'Diagnosis': '7397', 'idx': 34},\n",
       " {'Diagnosis': '61804', 'idx': 35},\n",
       " {'Diagnosis': '71590', 'idx': 36},\n",
       " {'Diagnosis': 'V1351', 'idx': 37},\n",
       " {'Diagnosis': '20402', 'idx': 38},\n",
       " {'Diagnosis': '65801', 'idx': 39},\n",
       " {'Diagnosis': '9624', 'idx': 40},\n",
       " {'Diagnosis': '87332', 'idx': 41},\n",
       " {'Diagnosis': '496', 'idx': 42},\n",
       " {'Diagnosis': '82331', 'idx': 43},\n",
       " {'Diagnosis': '1232', 'idx': 44},\n",
       " {'Diagnosis': '81313', 'idx': 45},\n",
       " {'Diagnosis': '59984', 'idx': 46},\n",
       " {'Diagnosis': '36815', 'idx': 47},\n",
       " {'Diagnosis': '74601', 'idx': 48},\n",
       " {'Diagnosis': '2245', 'idx': 49},\n",
       " {'Diagnosis': 'V570', 'idx': 50},\n",
       " {'Diagnosis': 'E9294', 'idx': 51},\n",
       " {'Diagnosis': '75442', 'idx': 52},\n",
       " {'Diagnosis': '2893', 'idx': 53},\n",
       " {'Diagnosis': '8676', 'idx': 54},\n",
       " {'Diagnosis': '71288', 'idx': 55},\n",
       " {'Diagnosis': '37250', 'idx': 56},\n",
       " {'Diagnosis': 'V774', 'idx': 57},\n",
       " {'Diagnosis': '481', 'idx': 58},\n",
       " {'Diagnosis': '2719', 'idx': 59},\n",
       " {'Diagnosis': '0701', 'idx': 60},\n",
       " {'Diagnosis': '72479', 'idx': 61},\n",
       " {'Diagnosis': '56941', 'idx': 62},\n",
       " {'Diagnosis': '7010', 'idx': 63},\n",
       " {'Diagnosis': '72611', 'idx': 64},\n",
       " {'Diagnosis': '78843', 'idx': 65},\n",
       " {'Diagnosis': '4131', 'idx': 66},\n",
       " {'Diagnosis': '32759', 'idx': 67},\n",
       " {'Diagnosis': '8782', 'idx': 68},\n",
       " {'Diagnosis': '71530', 'idx': 69},\n",
       " {'Diagnosis': '75531', 'idx': 70},\n",
       " {'Diagnosis': '3570', 'idx': 71},\n",
       " {'Diagnosis': '72081', 'idx': 72},\n",
       " {'Diagnosis': '36911', 'idx': 73},\n",
       " {'Diagnosis': 'V1000', 'idx': 74},\n",
       " {'Diagnosis': '87343', 'idx': 75},\n",
       " {'Diagnosis': '78094', 'idx': 76},\n",
       " {'Diagnosis': 'E8742', 'idx': 77},\n",
       " {'Diagnosis': '0066', 'idx': 78},\n",
       " {'Diagnosis': '1465', 'idx': 79},\n",
       " {'Diagnosis': '9134', 'idx': 80},\n",
       " {'Diagnosis': '60881', 'idx': 81},\n",
       " {'Diagnosis': '67582', 'idx': 82},\n",
       " {'Diagnosis': '1954', 'idx': 83},\n",
       " {'Diagnosis': '20162', 'idx': 84},\n",
       " {'Diagnosis': '80120', 'idx': 85},\n",
       " {'Diagnosis': '7885', 'idx': 86},\n",
       " {'Diagnosis': '25631', 'idx': 87},\n",
       " {'Diagnosis': '37630', 'idx': 88},\n",
       " {'Diagnosis': '48231', 'idx': 89},\n",
       " {'Diagnosis': '0723', 'idx': 90},\n",
       " {'Diagnosis': '22802', 'idx': 91},\n",
       " {'Diagnosis': '94356', 'idx': 92},\n",
       " {'Diagnosis': '52102', 'idx': 93},\n",
       " {'Diagnosis': 'V0182', 'idx': 94},\n",
       " {'Diagnosis': '7105', 'idx': 95},\n",
       " {'Diagnosis': '7840', 'idx': 96},\n",
       " {'Diagnosis': '79579', 'idx': 97},\n",
       " {'Diagnosis': '1368', 'idx': 98},\n",
       " {'Diagnosis': '2276', 'idx': 99},\n",
       " {'Diagnosis': 'V1789', 'idx': 100},\n",
       " {'Diagnosis': '05442', 'idx': 101},\n",
       " {'Diagnosis': '73096', 'idx': 102},\n",
       " {'Diagnosis': '1888', 'idx': 103},\n",
       " {'Diagnosis': '85232', 'idx': 104},\n",
       " {'Diagnosis': '73002', 'idx': 105},\n",
       " {'Diagnosis': '37613', 'idx': 106},\n",
       " {'Diagnosis': '65103', 'idx': 107},\n",
       " {'Diagnosis': '5679', 'idx': 108},\n",
       " {'Diagnosis': '9770', 'idx': 109},\n",
       " {'Diagnosis': '9922', 'idx': 110},\n",
       " {'Diagnosis': '5712', 'idx': 111},\n",
       " {'Diagnosis': '53311', 'idx': 112},\n",
       " {'Diagnosis': '83309', 'idx': 113},\n",
       " {'Diagnosis': 'V6105', 'idx': 114},\n",
       " {'Diagnosis': '2888', 'idx': 115},\n",
       " {'Diagnosis': '5651', 'idx': 116},\n",
       " {'Diagnosis': '2112', 'idx': 117},\n",
       " {'Diagnosis': '1641', 'idx': 118},\n",
       " {'Diagnosis': '37161', 'idx': 119},\n",
       " {'Diagnosis': '29625', 'idx': 120},\n",
       " {'Diagnosis': 'V090', 'idx': 121},\n",
       " {'Diagnosis': '74365', 'idx': 122},\n",
       " {'Diagnosis': '85252', 'idx': 123},\n",
       " {'Diagnosis': '0390', 'idx': 124},\n",
       " {'Diagnosis': '80415', 'idx': 125},\n",
       " {'Diagnosis': '83305', 'idx': 126},\n",
       " {'Diagnosis': '64962', 'idx': 127},\n",
       " {'Diagnosis': '85171', 'idx': 128},\n",
       " {'Diagnosis': '30542', 'idx': 129},\n",
       " {'Diagnosis': '73087', 'idx': 130},\n",
       " {'Diagnosis': '38521', 'idx': 131},\n",
       " {'Diagnosis': '5130', 'idx': 132},\n",
       " {'Diagnosis': '6203', 'idx': 133},\n",
       " {'Diagnosis': '1277', 'idx': 134},\n",
       " {'Diagnosis': '72210', 'idx': 135},\n",
       " {'Diagnosis': '28803', 'idx': 136},\n",
       " {'Diagnosis': '4599', 'idx': 137},\n",
       " {'Diagnosis': '83512', 'idx': 138},\n",
       " {'Diagnosis': '37274', 'idx': 139},\n",
       " {'Diagnosis': '38381', 'idx': 140},\n",
       " {'Diagnosis': '0569', 'idx': 141},\n",
       " {'Diagnosis': '2399', 'idx': 142},\n",
       " {'Diagnosis': 'E956', 'idx': 143},\n",
       " {'Diagnosis': '1893', 'idx': 144},\n",
       " {'Diagnosis': '64740', 'idx': 145},\n",
       " {'Diagnosis': '73034', 'idx': 146},\n",
       " {'Diagnosis': '71135', 'idx': 147},\n",
       " {'Diagnosis': '2393', 'idx': 148},\n",
       " {'Diagnosis': '8053', 'idx': 149},\n",
       " {'Diagnosis': '72671', 'idx': 150},\n",
       " {'Diagnosis': '8796', 'idx': 151},\n",
       " {'Diagnosis': '30521', 'idx': 152},\n",
       " {'Diagnosis': '9144', 'idx': 153},\n",
       " {'Diagnosis': '2167', 'idx': 154},\n",
       " {'Diagnosis': '2842', 'idx': 155},\n",
       " {'Diagnosis': '1234', 'idx': 156},\n",
       " {'Diagnosis': '36974', 'idx': 157},\n",
       " {'Diagnosis': '75524', 'idx': 158},\n",
       " {'Diagnosis': '78199', 'idx': 159},\n",
       " {'Diagnosis': '37255', 'idx': 160},\n",
       " {'Diagnosis': '81342', 'idx': 161},\n",
       " {'Diagnosis': '70720', 'idx': 162},\n",
       " {'Diagnosis': 'V4977', 'idx': 163},\n",
       " {'Diagnosis': '7392', 'idx': 164},\n",
       " {'Diagnosis': '74303', 'idx': 165},\n",
       " {'Diagnosis': '29592', 'idx': 166},\n",
       " {'Diagnosis': '80853', 'idx': 167},\n",
       " {'Diagnosis': '85176', 'idx': 168},\n",
       " {'Diagnosis': '60021', 'idx': 169},\n",
       " {'Diagnosis': '3383', 'idx': 170},\n",
       " {'Diagnosis': 'V558', 'idx': 171},\n",
       " {'Diagnosis': '3016', 'idx': 172},\n",
       " {'Diagnosis': '80063', 'idx': 173},\n",
       " {'Diagnosis': '2529', 'idx': 174},\n",
       " {'Diagnosis': '81381', 'idx': 175},\n",
       " {'Diagnosis': '37254', 'idx': 176},\n",
       " {'Diagnosis': '00867', 'idx': 177},\n",
       " {'Diagnosis': '4848', 'idx': 178},\n",
       " {'Diagnosis': '59582', 'idx': 179},\n",
       " {'Diagnosis': '72471', 'idx': 180},\n",
       " {'Diagnosis': '66823', 'idx': 181},\n",
       " {'Diagnosis': '83511', 'idx': 182},\n",
       " {'Diagnosis': '8920', 'idx': 183},\n",
       " {'Diagnosis': '3971', 'idx': 184},\n",
       " {'Diagnosis': '73070', 'idx': 185},\n",
       " {'Diagnosis': '46410', 'idx': 186},\n",
       " {'Diagnosis': '1145', 'idx': 187},\n",
       " {'Diagnosis': '5192', 'idx': 188},\n",
       " {'Diagnosis': '1403', 'idx': 189},\n",
       " {'Diagnosis': '7825', 'idx': 190},\n",
       " {'Diagnosis': '80355', 'idx': 191},\n",
       " {'Diagnosis': '80131', 'idx': 192},\n",
       " {'Diagnosis': 'E9501', 'idx': 193},\n",
       " {'Diagnosis': '90181', 'idx': 194},\n",
       " {'Diagnosis': '79670', 'idx': 195},\n",
       " {'Diagnosis': 'V4283', 'idx': 196},\n",
       " {'Diagnosis': '5263', 'idx': 197},\n",
       " {'Diagnosis': '52801', 'idx': 198},\n",
       " {'Diagnosis': '80702', 'idx': 199},\n",
       " {'Diagnosis': '1912', 'idx': 200},\n",
       " {'Diagnosis': 'V744', 'idx': 201},\n",
       " {'Diagnosis': '6869', 'idx': 202},\n",
       " {'Diagnosis': '3949', 'idx': 203},\n",
       " {'Diagnosis': '74102', 'idx': 204},\n",
       " {'Diagnosis': '34540', 'idx': 205},\n",
       " {'Diagnosis': '8474', 'idx': 206},\n",
       " {'Diagnosis': '30582', 'idx': 207},\n",
       " {'Diagnosis': '9871', 'idx': 208},\n",
       " {'Diagnosis': '86809', 'idx': 209},\n",
       " {'Diagnosis': '6159', 'idx': 210},\n",
       " {'Diagnosis': '1531', 'idx': 211},\n",
       " {'Diagnosis': 'V739', 'idx': 212},\n",
       " {'Diagnosis': '60887', 'idx': 213},\n",
       " {'Diagnosis': '9592', 'idx': 214},\n",
       " {'Diagnosis': '4429', 'idx': 215},\n",
       " {'Diagnosis': '5376', 'idx': 216},\n",
       " {'Diagnosis': '94203', 'idx': 217},\n",
       " {'Diagnosis': '2534', 'idx': 218},\n",
       " {'Diagnosis': '60821', 'idx': 219},\n",
       " {'Diagnosis': '1124', 'idx': 220},\n",
       " {'Diagnosis': '46619', 'idx': 221},\n",
       " {'Diagnosis': '71993', 'idx': 222},\n",
       " {'Diagnosis': '99640', 'idx': 223},\n",
       " {'Diagnosis': '29699', 'idx': 224},\n",
       " {'Diagnosis': '37456', 'idx': 225},\n",
       " {'Diagnosis': '37642', 'idx': 226},\n",
       " {'Diagnosis': '4465', 'idx': 227},\n",
       " {'Diagnosis': '37958', 'idx': 228},\n",
       " {'Diagnosis': '81416', 'idx': 229},\n",
       " {'Diagnosis': '2354', 'idx': 230},\n",
       " {'Diagnosis': '38589', 'idx': 231},\n",
       " {'Diagnosis': '29990', 'idx': 232},\n",
       " {'Diagnosis': 'V5410', 'idx': 233},\n",
       " {'Diagnosis': '73819', 'idx': 234},\n",
       " {'Diagnosis': '3871', 'idx': 235},\n",
       " {'Diagnosis': '6012', 'idx': 236},\n",
       " {'Diagnosis': '72282', 'idx': 237},\n",
       " {'Diagnosis': '74685', 'idx': 238},\n",
       " {'Diagnosis': 'E9241', 'idx': 239},\n",
       " {'Diagnosis': 'E8509', 'idx': 240},\n",
       " {'Diagnosis': '20017', 'idx': 241},\n",
       " {'Diagnosis': '5849', 'idx': 242},\n",
       " {'Diagnosis': '8300', 'idx': 243},\n",
       " {'Diagnosis': '29615', 'idx': 244},\n",
       " {'Diagnosis': '2910', 'idx': 245},\n",
       " {'Diagnosis': '8483', 'idx': 246},\n",
       " {'Diagnosis': 'V425', 'idx': 247},\n",
       " {'Diagnosis': '30276', 'idx': 248},\n",
       " {'Diagnosis': '36101', 'idx': 249},\n",
       " {'Diagnosis': '92619', 'idx': 250},\n",
       " {'Diagnosis': '52110', 'idx': 251},\n",
       " {'Diagnosis': '8026', 'idx': 252},\n",
       " {'Diagnosis': '44421', 'idx': 253},\n",
       " {'Diagnosis': '1982', 'idx': 254},\n",
       " {'Diagnosis': '5304', 'idx': 255},\n",
       " {'Diagnosis': '83314', 'idx': 256},\n",
       " {'Diagnosis': 'V147', 'idx': 257},\n",
       " {'Diagnosis': '8291', 'idx': 258},\n",
       " {'Diagnosis': '80365', 'idx': 259},\n",
       " {'Diagnosis': '5258', 'idx': 260},\n",
       " {'Diagnosis': '38119', 'idx': 261},\n",
       " {'Diagnosis': '36852', 'idx': 262},\n",
       " {'Diagnosis': '1598', 'idx': 263},\n",
       " {'Diagnosis': 'V5841', 'idx': 264},\n",
       " {'Diagnosis': '64101', 'idx': 265},\n",
       " {'Diagnosis': '71940', 'idx': 266},\n",
       " {'Diagnosis': '6239', 'idx': 267},\n",
       " {'Diagnosis': '7483', 'idx': 268},\n",
       " {'Diagnosis': '71180', 'idx': 269},\n",
       " {'Diagnosis': 'V860', 'idx': 270},\n",
       " {'Diagnosis': '85012', 'idx': 271},\n",
       " {'Diagnosis': '80094', 'idx': 272},\n",
       " {'Diagnosis': '83402', 'idx': 273},\n",
       " {'Diagnosis': '80485', 'idx': 274},\n",
       " {'Diagnosis': '59371', 'idx': 275},\n",
       " {'Diagnosis': '9399', 'idx': 276},\n",
       " {'Diagnosis': '41402', 'idx': 277},\n",
       " {'Diagnosis': '0302', 'idx': 278},\n",
       " {'Diagnosis': '2931', 'idx': 279},\n",
       " {'Diagnosis': '80233', 'idx': 280},\n",
       " {'Diagnosis': '78903', 'idx': 281},\n",
       " {'Diagnosis': '30274', 'idx': 282},\n",
       " {'Diagnosis': '7051', 'idx': 283},\n",
       " {'Diagnosis': '57510', 'idx': 284},\n",
       " {'Diagnosis': '9463', 'idx': 285},\n",
       " {'Diagnosis': '3419', 'idx': 286},\n",
       " {'Diagnosis': 'V2622', 'idx': 287},\n",
       " {'Diagnosis': '65961', 'idx': 288},\n",
       " {'Diagnosis': 'E8131', 'idx': 289},\n",
       " {'Diagnosis': 'V662', 'idx': 290},\n",
       " {'Diagnosis': '5271', 'idx': 291},\n",
       " {'Diagnosis': '71513', 'idx': 292},\n",
       " {'Diagnosis': '9925', 'idx': 293},\n",
       " {'Diagnosis': '9111', 'idx': 294},\n",
       " {'Diagnosis': '2229', 'idx': 295},\n",
       " {'Diagnosis': '20115', 'idx': 296},\n",
       " {'Diagnosis': '2681', 'idx': 297},\n",
       " {'Diagnosis': '71815', 'idx': 298},\n",
       " {'Diagnosis': '53140', 'idx': 299},\n",
       " {'Diagnosis': 'V1242', 'idx': 300},\n",
       " {'Diagnosis': '7083', 'idx': 301},\n",
       " {'Diagnosis': '73711', 'idx': 302},\n",
       " {'Diagnosis': '61181', 'idx': 303},\n",
       " {'Diagnosis': '34683', 'idx': 304},\n",
       " {'Diagnosis': '5765', 'idx': 305},\n",
       " {'Diagnosis': 'V6103', 'idx': 306},\n",
       " {'Diagnosis': '11284', 'idx': 307},\n",
       " {'Diagnosis': '42979', 'idx': 308},\n",
       " {'Diagnosis': '5966', 'idx': 309},\n",
       " {'Diagnosis': '80851', 'idx': 310},\n",
       " {'Diagnosis': '73344', 'idx': 311},\n",
       " {'Diagnosis': 'E8532', 'idx': 312},\n",
       " {'Diagnosis': 'V5878', 'idx': 313},\n",
       " {'Diagnosis': '4910', 'idx': 314},\n",
       " {'Diagnosis': '71116', 'idx': 315},\n",
       " {'Diagnosis': 'V1261', 'idx': 316},\n",
       " {'Diagnosis': '87264', 'idx': 317},\n",
       " {'Diagnosis': 'V631', 'idx': 318},\n",
       " {'Diagnosis': 'E9309', 'idx': 319},\n",
       " {'Diagnosis': '74782', 'idx': 320},\n",
       " {'Diagnosis': '52120', 'idx': 321},\n",
       " {'Diagnosis': '3940', 'idx': 322},\n",
       " {'Diagnosis': '1920', 'idx': 323},\n",
       " {'Diagnosis': '53241', 'idx': 324},\n",
       " {'Diagnosis': '37101', 'idx': 325},\n",
       " {'Diagnosis': '33905', 'idx': 326},\n",
       " {'Diagnosis': '6861', 'idx': 327},\n",
       " {'Diagnosis': '60010', 'idx': 328},\n",
       " {'Diagnosis': '75520', 'idx': 329},\n",
       " {'Diagnosis': '36840', 'idx': 330},\n",
       " {'Diagnosis': '73000', 'idx': 331},\n",
       " {'Diagnosis': '6942', 'idx': 332},\n",
       " {'Diagnosis': '38921', 'idx': 333},\n",
       " {'Diagnosis': '29511', 'idx': 334},\n",
       " {'Diagnosis': 'V401', 'idx': 335},\n",
       " {'Diagnosis': 'V1652', 'idx': 336},\n",
       " {'Diagnosis': '0990', 'idx': 337},\n",
       " {'Diagnosis': '1140', 'idx': 338},\n",
       " {'Diagnosis': '00322', 'idx': 339},\n",
       " {'Diagnosis': '9918', 'idx': 340},\n",
       " {'Diagnosis': '80600', 'idx': 341},\n",
       " {'Diagnosis': '71122', 'idx': 342},\n",
       " {'Diagnosis': '5689', 'idx': 343},\n",
       " {'Diagnosis': 'E8491', 'idx': 344},\n",
       " {'Diagnosis': '72400', 'idx': 345},\n",
       " {'Diagnosis': '20243', 'idx': 346},\n",
       " {'Diagnosis': '3882', 'idx': 347},\n",
       " {'Diagnosis': '11282', 'idx': 348},\n",
       " {'Diagnosis': '08240', 'idx': 349},\n",
       " {'Diagnosis': '99582', 'idx': 350},\n",
       " {'Diagnosis': '29542', 'idx': 351},\n",
       " {'Diagnosis': '53321', 'idx': 352},\n",
       " {'Diagnosis': 'V524', 'idx': 353},\n",
       " {'Diagnosis': '3152', 'idx': 354},\n",
       " {'Diagnosis': '8750', 'idx': 355},\n",
       " {'Diagnosis': '75679', 'idx': 356},\n",
       " {'Diagnosis': '94219', 'idx': 357},\n",
       " {'Diagnosis': '5284', 'idx': 358},\n",
       " {'Diagnosis': '5671', 'idx': 359},\n",
       " {'Diagnosis': '0991', 'idx': 360},\n",
       " {'Diagnosis': '47879', 'idx': 361},\n",
       " {'Diagnosis': '95901', 'idx': 362},\n",
       " {'Diagnosis': '09324', 'idx': 363},\n",
       " {'Diagnosis': '71839', 'idx': 364},\n",
       " {'Diagnosis': '1640', 'idx': 365},\n",
       " {'Diagnosis': '99645', 'idx': 366},\n",
       " {'Diagnosis': '11591', 'idx': 367},\n",
       " {'Diagnosis': '9642', 'idx': 368},\n",
       " {'Diagnosis': '41071', 'idx': 369},\n",
       " {'Diagnosis': '80504', 'idx': 370},\n",
       " {'Diagnosis': '30571', 'idx': 371},\n",
       " {'Diagnosis': '71224', 'idx': 372},\n",
       " {'Diagnosis': '38513', 'idx': 373},\n",
       " {'Diagnosis': '52561', 'idx': 374},\n",
       " {'Diagnosis': '86504', 'idx': 375},\n",
       " {'Diagnosis': '3817', 'idx': 376},\n",
       " {'Diagnosis': '27701', 'idx': 377},\n",
       " {'Diagnosis': '7965', 'idx': 378},\n",
       " {'Diagnosis': 'V0262', 'idx': 379},\n",
       " {'Diagnosis': '34662', 'idx': 380},\n",
       " {'Diagnosis': '20277', 'idx': 381},\n",
       " {'Diagnosis': '82101', 'idx': 382},\n",
       " {'Diagnosis': '40490', 'idx': 383},\n",
       " {'Diagnosis': 'V8522', 'idx': 384},\n",
       " {'Diagnosis': '9663', 'idx': 385},\n",
       " {'Diagnosis': '4552', 'idx': 386},\n",
       " {'Diagnosis': '2967', 'idx': 387},\n",
       " {'Diagnosis': '1482', 'idx': 388},\n",
       " {'Diagnosis': 'V2389', 'idx': 389},\n",
       " {'Diagnosis': '80459', 'idx': 390},\n",
       " {'Diagnosis': '90221', 'idx': 391},\n",
       " {'Diagnosis': '82011', 'idx': 392},\n",
       " {'Diagnosis': '7917', 'idx': 393},\n",
       " {'Diagnosis': '9975', 'idx': 394},\n",
       " {'Diagnosis': '45184', 'idx': 395},\n",
       " {'Diagnosis': 'E9384', 'idx': 396},\n",
       " {'Diagnosis': '3591', 'idx': 397},\n",
       " {'Diagnosis': '74449', 'idx': 398},\n",
       " {'Diagnosis': '9640', 'idx': 399},\n",
       " {'Diagnosis': '9709', 'idx': 400},\n",
       " {'Diagnosis': '20295', 'idx': 401},\n",
       " {'Diagnosis': '37871', 'idx': 402},\n",
       " {'Diagnosis': '5439', 'idx': 403},\n",
       " {'Diagnosis': '4370', 'idx': 404},\n",
       " {'Diagnosis': 'E9460', 'idx': 405},\n",
       " {'Diagnosis': 'V0759', 'idx': 406},\n",
       " {'Diagnosis': '99586', 'idx': 407},\n",
       " {'Diagnosis': '20173', 'idx': 408},\n",
       " {'Diagnosis': '52340', 'idx': 409},\n",
       " {'Diagnosis': '32719', 'idx': 410},\n",
       " {'Diagnosis': '20900', 'idx': 411},\n",
       " {'Diagnosis': '9053', 'idx': 412},\n",
       " {'Diagnosis': 'V8525', 'idx': 413},\n",
       " {'Diagnosis': '80507', 'idx': 414},\n",
       " {'Diagnosis': '7233', 'idx': 415},\n",
       " {'Diagnosis': '7131', 'idx': 416},\n",
       " {'Diagnosis': '7230', 'idx': 417},\n",
       " {'Diagnosis': '80238', 'idx': 418},\n",
       " {'Diagnosis': '7828', 'idx': 419},\n",
       " {'Diagnosis': '56081', 'idx': 420},\n",
       " {'Diagnosis': '3579', 'idx': 421},\n",
       " {'Diagnosis': '43850', 'idx': 422},\n",
       " {'Diagnosis': '20256', 'idx': 423},\n",
       " {'Diagnosis': '79505', 'idx': 424},\n",
       " {'Diagnosis': '53641', 'idx': 425},\n",
       " {'Diagnosis': '01126', 'idx': 426},\n",
       " {'Diagnosis': '71854', 'idx': 427},\n",
       " {'Diagnosis': 'V146', 'idx': 428},\n",
       " {'Diagnosis': '37762', 'idx': 429},\n",
       " {'Diagnosis': '36019', 'idx': 430},\n",
       " {'Diagnosis': '80089', 'idx': 431},\n",
       " {'Diagnosis': '94896', 'idx': 432},\n",
       " {'Diagnosis': '7475', 'idx': 433},\n",
       " {'Diagnosis': '2858', 'idx': 434},\n",
       " {'Diagnosis': '1890', 'idx': 435},\n",
       " {'Diagnosis': '1728', 'idx': 436},\n",
       " {'Diagnosis': 'V5874', 'idx': 437},\n",
       " {'Diagnosis': '8270', 'idx': 438},\n",
       " {'Diagnosis': '0270', 'idx': 439},\n",
       " {'Diagnosis': '3124', 'idx': 440},\n",
       " {'Diagnosis': 'E9802', 'idx': 441},\n",
       " {'Diagnosis': '83950', 'idx': 442},\n",
       " {'Diagnosis': 'V5413', 'idx': 443},\n",
       " {'Diagnosis': '87351', 'idx': 444},\n",
       " {'Diagnosis': 'V5869', 'idx': 445},\n",
       " {'Diagnosis': '82019', 'idx': 446},\n",
       " {'Diagnosis': '6100', 'idx': 447},\n",
       " {'Diagnosis': '9927', 'idx': 448},\n",
       " {'Diagnosis': '64702', 'idx': 449},\n",
       " {'Diagnosis': '86356', 'idx': 450},\n",
       " {'Diagnosis': 'V7641', 'idx': 451},\n",
       " {'Diagnosis': '30279', 'idx': 452},\n",
       " {'Diagnosis': '38845', 'idx': 453},\n",
       " {'Diagnosis': 'V5721', 'idx': 454},\n",
       " {'Diagnosis': '5253', 'idx': 455},\n",
       " {'Diagnosis': '86514', 'idx': 456},\n",
       " {'Diagnosis': 'V8904', 'idx': 457},\n",
       " {'Diagnosis': 'E8147', 'idx': 458},\n",
       " {'Diagnosis': '52689', 'idx': 459},\n",
       " {'Diagnosis': '81311', 'idx': 460},\n",
       " {'Diagnosis': '1143', 'idx': 461},\n",
       " {'Diagnosis': '38532', 'idx': 462},\n",
       " {'Diagnosis': 'V400', 'idx': 463},\n",
       " {'Diagnosis': '34581', 'idx': 464},\n",
       " {'Diagnosis': '85135', 'idx': 465},\n",
       " {'Diagnosis': '9786', 'idx': 466},\n",
       " {'Diagnosis': '36589', 'idx': 467},\n",
       " {'Diagnosis': 'E9682', 'idx': 468},\n",
       " {'Diagnosis': '9083', 'idx': 469},\n",
       " {'Diagnosis': '74312', 'idx': 470},\n",
       " {'Diagnosis': '20200', 'idx': 471},\n",
       " {'Diagnosis': '36923', 'idx': 472},\n",
       " {'Diagnosis': '86342', 'idx': 473},\n",
       " {'Diagnosis': '73719', 'idx': 474},\n",
       " {'Diagnosis': '0739', 'idx': 475},\n",
       " {'Diagnosis': '52400', 'idx': 476},\n",
       " {'Diagnosis': '73012', 'idx': 477},\n",
       " {'Diagnosis': '58281', 'idx': 478},\n",
       " {'Diagnosis': '37541', 'idx': 479},\n",
       " {'Diagnosis': '8250', 'idx': 480},\n",
       " {'Diagnosis': '3379', 'idx': 481},\n",
       " {'Diagnosis': '64303', 'idx': 482},\n",
       " {'Diagnosis': '9159', 'idx': 483},\n",
       " {'Diagnosis': '87333', 'idx': 484},\n",
       " {'Diagnosis': '34570', 'idx': 485},\n",
       " {'Diagnosis': '3779', 'idx': 486},\n",
       " {'Diagnosis': '9511', 'idx': 487},\n",
       " {'Diagnosis': '9009', 'idx': 488},\n",
       " {'Diagnosis': '4467', 'idx': 489},\n",
       " {'Diagnosis': '99699', 'idx': 490},\n",
       " {'Diagnosis': '1729', 'idx': 491},\n",
       " {'Diagnosis': '69554', 'idx': 492},\n",
       " {'Diagnosis': '56984', 'idx': 493},\n",
       " {'Diagnosis': '52325', 'idx': 494},\n",
       " {'Diagnosis': 'E8790', 'idx': 495},\n",
       " {'Diagnosis': '31201', 'idx': 496},\n",
       " {'Diagnosis': '84200', 'idx': 497},\n",
       " {'Diagnosis': '5935', 'idx': 498},\n",
       " {'Diagnosis': '04523', 'idx': 499},\n",
       " {'Diagnosis': '4780', 'idx': 500},\n",
       " {'Diagnosis': '35571', 'idx': 501},\n",
       " {'Diagnosis': '81415', 'idx': 502},\n",
       " {'Diagnosis': 'V291', 'idx': 503},\n",
       " {'Diagnosis': '8861', 'idx': 504},\n",
       " {'Diagnosis': '8760', 'idx': 505},\n",
       " {'Diagnosis': '88020', 'idx': 506},\n",
       " {'Diagnosis': '1742', 'idx': 507},\n",
       " {'Diagnosis': '9608', 'idx': 508},\n",
       " {'Diagnosis': '94426', 'idx': 509},\n",
       " {'Diagnosis': 'V5832', 'idx': 510},\n",
       " {'Diagnosis': '73609', 'idx': 511},\n",
       " {'Diagnosis': '71125', 'idx': 512},\n",
       " {'Diagnosis': '05311', 'idx': 513},\n",
       " {'Diagnosis': '31323', 'idx': 514},\n",
       " {'Diagnosis': '81380', 'idx': 515},\n",
       " {'Diagnosis': '74860', 'idx': 516},\n",
       " {'Diagnosis': '9163', 'idx': 517},\n",
       " {'Diagnosis': 'V1069', 'idx': 518},\n",
       " {'Diagnosis': '5780', 'idx': 519},\n",
       " {'Diagnosis': '71648', 'idx': 520},\n",
       " {'Diagnosis': '5511', 'idx': 521},\n",
       " {'Diagnosis': '80230', 'idx': 522},\n",
       " {'Diagnosis': '87322', 'idx': 523},\n",
       " {'Diagnosis': '29551', 'idx': 524},\n",
       " {'Diagnosis': '20012', 'idx': 525},\n",
       " {'Diagnosis': '1623', 'idx': 526},\n",
       " {'Diagnosis': '71824', 'idx': 527},\n",
       " {'Diagnosis': '94304', 'idx': 528},\n",
       " {'Diagnosis': 'V554', 'idx': 529},\n",
       " {'Diagnosis': '30410', 'idx': 530},\n",
       " {'Diagnosis': 'V133', 'idx': 531},\n",
       " {'Diagnosis': '64780', 'idx': 532},\n",
       " {'Diagnosis': '0399', 'idx': 533},\n",
       " {'Diagnosis': '80236', 'idx': 534},\n",
       " {'Diagnosis': '85259', 'idx': 535},\n",
       " {'Diagnosis': '9516', 'idx': 536},\n",
       " {'Diagnosis': 'E9203', 'idx': 537},\n",
       " {'Diagnosis': '73340', 'idx': 538},\n",
       " {'Diagnosis': '85120', 'idx': 539},\n",
       " {'Diagnosis': '5902', 'idx': 540},\n",
       " {'Diagnosis': '9971', 'idx': 541},\n",
       " {'Diagnosis': '2254', 'idx': 542},\n",
       " {'Diagnosis': '24900', 'idx': 543},\n",
       " {'Diagnosis': 'V429', 'idx': 544},\n",
       " {'Diagnosis': '9696', 'idx': 545},\n",
       " {'Diagnosis': 'V111', 'idx': 546},\n",
       " {'Diagnosis': '82332', 'idx': 547},\n",
       " {'Diagnosis': '3350', 'idx': 548},\n",
       " {'Diagnosis': 'V773', 'idx': 549},\n",
       " {'Diagnosis': '0913', 'idx': 550},\n",
       " {'Diagnosis': '74345', 'idx': 551},\n",
       " {'Diagnosis': '78869', 'idx': 552},\n",
       " {'Diagnosis': '8962', 'idx': 553},\n",
       " {'Diagnosis': 'V5830', 'idx': 554},\n",
       " {'Diagnosis': '71934', 'idx': 555},\n",
       " {'Diagnosis': 'V4381', 'idx': 556},\n",
       " {'Diagnosis': '3220', 'idx': 557},\n",
       " {'Diagnosis': '36282', 'idx': 558},\n",
       " {'Diagnosis': 'V5423', 'idx': 559},\n",
       " {'Diagnosis': '36618', 'idx': 560},\n",
       " {'Diagnosis': 'V284', 'idx': 561},\n",
       " {'Diagnosis': '36131', 'idx': 562},\n",
       " {'Diagnosis': '2914', 'idx': 563},\n",
       " {'Diagnosis': 'V286', 'idx': 564},\n",
       " {'Diagnosis': '7914', 'idx': 565},\n",
       " {'Diagnosis': '78834', 'idx': 566},\n",
       " {'Diagnosis': '80189', 'idx': 567},\n",
       " {'Diagnosis': '3872', 'idx': 568},\n",
       " {'Diagnosis': '99680', 'idx': 569},\n",
       " {'Diagnosis': '20071', 'idx': 570},\n",
       " {'Diagnosis': '8281', 'idx': 571},\n",
       " {'Diagnosis': '52410', 'idx': 572},\n",
       " {'Diagnosis': 'E9451', 'idx': 573},\n",
       " {'Diagnosis': 'E8259', 'idx': 574},\n",
       " {'Diagnosis': '78003', 'idx': 575},\n",
       " {'Diagnosis': 'E9821', 'idx': 576},\n",
       " {'Diagnosis': '99681', 'idx': 577},\n",
       " {'Diagnosis': '40300', 'idx': 578},\n",
       " {'Diagnosis': '0651', 'idx': 579},\n",
       " {'Diagnosis': '6829', 'idx': 580},\n",
       " {'Diagnosis': '2929', 'idx': 581},\n",
       " {'Diagnosis': '37189', 'idx': 582},\n",
       " {'Diagnosis': '71178', 'idx': 583},\n",
       " {'Diagnosis': '4739', 'idx': 584},\n",
       " {'Diagnosis': '4778', 'idx': 585},\n",
       " {'Diagnosis': '64671', 'idx': 586},\n",
       " {'Diagnosis': '85011', 'idx': 587},\n",
       " {'Diagnosis': 'V623', 'idx': 588},\n",
       " {'Diagnosis': '71481', 'idx': 589},\n",
       " {'Diagnosis': '86600', 'idx': 590},\n",
       " {'Diagnosis': '53170', 'idx': 591},\n",
       " {'Diagnosis': '2558', 'idx': 592},\n",
       " {'Diagnosis': '80111', 'idx': 593},\n",
       " {'Diagnosis': '30492', 'idx': 594},\n",
       " {'Diagnosis': '00842', 'idx': 595},\n",
       " {'Diagnosis': '71514', 'idx': 596},\n",
       " {'Diagnosis': '71860', 'idx': 597},\n",
       " {'Diagnosis': '20143', 'idx': 598},\n",
       " {'Diagnosis': '23331', 'idx': 599},\n",
       " {'Diagnosis': '2531', 'idx': 600},\n",
       " {'Diagnosis': '85235', 'idx': 601},\n",
       " {'Diagnosis': '27952', 'idx': 602},\n",
       " {'Diagnosis': '75514', 'idx': 603},\n",
       " {'Diagnosis': '2127', 'idx': 604},\n",
       " {'Diagnosis': '53400', 'idx': 605},\n",
       " {'Diagnosis': '25051', 'idx': 606},\n",
       " {'Diagnosis': '2849', 'idx': 607},\n",
       " {'Diagnosis': '71291', 'idx': 608},\n",
       " {'Diagnosis': '0998', 'idx': 609},\n",
       " {'Diagnosis': '7465', 'idx': 610},\n",
       " {'Diagnosis': 'E8262', 'idx': 611},\n",
       " {'Diagnosis': '37484', 'idx': 612},\n",
       " {'Diagnosis': 'V562', 'idx': 613},\n",
       " {'Diagnosis': '5217', 'idx': 614},\n",
       " {'Diagnosis': '8875', 'idx': 615},\n",
       " {'Diagnosis': '74600', 'idx': 616},\n",
       " {'Diagnosis': '87350', 'idx': 617},\n",
       " {'Diagnosis': '80306', 'idx': 618},\n",
       " {'Diagnosis': 'E9805', 'idx': 619},\n",
       " {'Diagnosis': '71698', 'idx': 620},\n",
       " {'Diagnosis': '69018', 'idx': 621},\n",
       " {'Diagnosis': '7244', 'idx': 622},\n",
       " {'Diagnosis': '04521', 'idx': 623},\n",
       " {'Diagnosis': '94516', 'idx': 624},\n",
       " {'Diagnosis': '7142', 'idx': 625},\n",
       " {'Diagnosis': 'V6400', 'idx': 626},\n",
       " {'Diagnosis': '72979', 'idx': 627},\n",
       " {'Diagnosis': '71820', 'idx': 628},\n",
       " {'Diagnosis': '94220', 'idx': 629},\n",
       " {'Diagnosis': '36276', 'idx': 630},\n",
       " {'Diagnosis': '9182', 'idx': 631},\n",
       " {'Diagnosis': '7421', 'idx': 632},\n",
       " {'Diagnosis': '78071', 'idx': 633},\n",
       " {'Diagnosis': '9952', 'idx': 634},\n",
       " {'Diagnosis': '5361', 'idx': 635},\n",
       " {'Diagnosis': '55842', 'idx': 636},\n",
       " {'Diagnosis': 'V4972', 'idx': 637},\n",
       " {'Diagnosis': '5187', 'idx': 638},\n",
       " {'Diagnosis': 'V418', 'idx': 639},\n",
       " {'Diagnosis': '30452', 'idx': 640},\n",
       " {'Diagnosis': 'V1050', 'idx': 641},\n",
       " {'Diagnosis': '65490', 'idx': 642},\n",
       " {'Diagnosis': '6254', 'idx': 643},\n",
       " {'Diagnosis': '0090', 'idx': 644},\n",
       " {'Diagnosis': '7284', 'idx': 645},\n",
       " {'Diagnosis': '78963', 'idx': 646},\n",
       " {'Diagnosis': '2646', 'idx': 647},\n",
       " {'Diagnosis': '82013', 'idx': 648},\n",
       " {'Diagnosis': '56960', 'idx': 649},\n",
       " {'Diagnosis': '37845', 'idx': 650},\n",
       " {'Diagnosis': '1521', 'idx': 651},\n",
       " {'Diagnosis': '36055', 'idx': 652},\n",
       " {'Diagnosis': '75440', 'idx': 653},\n",
       " {'Diagnosis': '71521', 'idx': 654},\n",
       " {'Diagnosis': '0030', 'idx': 655},\n",
       " {'Diagnosis': '3313', 'idx': 656},\n",
       " {'Diagnosis': '20521', 'idx': 657},\n",
       " {'Diagnosis': '05600', 'idx': 658},\n",
       " {'Diagnosis': '7049', 'idx': 659},\n",
       " {'Diagnosis': '20281', 'idx': 660},\n",
       " {'Diagnosis': '6089', 'idx': 661},\n",
       " {'Diagnosis': '9859', 'idx': 662},\n",
       " {'Diagnosis': '24961', 'idx': 663},\n",
       " {'Diagnosis': '94888', 'idx': 664},\n",
       " {'Diagnosis': '1609', 'idx': 665},\n",
       " {'Diagnosis': '36213', 'idx': 666},\n",
       " {'Diagnosis': '6184', 'idx': 667},\n",
       " {'Diagnosis': 'V475', 'idx': 668},\n",
       " {'Diagnosis': '86120', 'idx': 669},\n",
       " {'Diagnosis': '75443', 'idx': 670},\n",
       " {'Diagnosis': '85116', 'idx': 671},\n",
       " {'Diagnosis': 'E9300', 'idx': 672},\n",
       " {'Diagnosis': '4589', 'idx': 673},\n",
       " {'Diagnosis': '37646', 'idx': 674},\n",
       " {'Diagnosis': '71532', 'idx': 675},\n",
       " {'Diagnosis': '20060', 'idx': 676},\n",
       " {'Diagnosis': '2533', 'idx': 677},\n",
       " {'Diagnosis': 'E9364', 'idx': 678},\n",
       " {'Diagnosis': '71618', 'idx': 679},\n",
       " {'Diagnosis': 'E8230', 'idx': 680},\n",
       " {'Diagnosis': 'E9289', 'idx': 681},\n",
       " {'Diagnosis': '1301', 'idx': 682},\n",
       " {'Diagnosis': '29012', 'idx': 683},\n",
       " {'Diagnosis': '52579', 'idx': 684},\n",
       " {'Diagnosis': '9561', 'idx': 685},\n",
       " {'Diagnosis': '05471', 'idx': 686},\n",
       " {'Diagnosis': '0845', 'idx': 687},\n",
       " {'Diagnosis': '7352', 'idx': 688},\n",
       " {'Diagnosis': '80605', 'idx': 689},\n",
       " {'Diagnosis': '34670', 'idx': 690},\n",
       " {'Diagnosis': '79512', 'idx': 691},\n",
       " {'Diagnosis': '56738', 'idx': 692},\n",
       " {'Diagnosis': '8708', 'idx': 693},\n",
       " {'Diagnosis': '7579', 'idx': 694},\n",
       " {'Diagnosis': '9539', 'idx': 695},\n",
       " {'Diagnosis': '71286', 'idx': 696},\n",
       " {'Diagnosis': '71821', 'idx': 697},\n",
       " {'Diagnosis': '75012', 'idx': 698},\n",
       " {'Diagnosis': '1318', 'idx': 699},\n",
       " {'Diagnosis': '52422', 'idx': 700},\n",
       " {'Diagnosis': '2321', 'idx': 701},\n",
       " {'Diagnosis': '94875', 'idx': 702},\n",
       " {'Diagnosis': '72293', 'idx': 703},\n",
       " {'Diagnosis': '6219', 'idx': 704},\n",
       " {'Diagnosis': '46401', 'idx': 705},\n",
       " {'Diagnosis': 'V732', 'idx': 706},\n",
       " {'Diagnosis': '74720', 'idx': 707},\n",
       " {'Diagnosis': '47826', 'idx': 708},\n",
       " {'Diagnosis': '40291', 'idx': 709},\n",
       " {'Diagnosis': '3308', 'idx': 710},\n",
       " {'Diagnosis': '36462', 'idx': 711},\n",
       " {'Diagnosis': '64410', 'idx': 712},\n",
       " {'Diagnosis': '56981', 'idx': 713},\n",
       " {'Diagnosis': '4100', 'idx': 714},\n",
       " {'Diagnosis': '45183', 'idx': 715},\n",
       " {'Diagnosis': '19889', 'idx': 716},\n",
       " {'Diagnosis': '7936', 'idx': 717},\n",
       " {'Diagnosis': 'V271', 'idx': 718},\n",
       " {'Diagnosis': '80091', 'idx': 719},\n",
       " {'Diagnosis': '9629', 'idx': 720},\n",
       " {'Diagnosis': '36642', 'idx': 721},\n",
       " {'Diagnosis': 'V6110', 'idx': 722},\n",
       " {'Diagnosis': '25001', 'idx': 723},\n",
       " {'Diagnosis': '80222', 'idx': 724},\n",
       " {'Diagnosis': '1519', 'idx': 725},\n",
       " {'Diagnosis': '65811', 'idx': 726},\n",
       " {'Diagnosis': 'V520', 'idx': 727},\n",
       " {'Diagnosis': '72709', 'idx': 728},\n",
       " {'Diagnosis': '1178', 'idx': 729},\n",
       " {'Diagnosis': '7013', 'idx': 730},\n",
       " {'Diagnosis': '69273', 'idx': 731},\n",
       " {'Diagnosis': '65180', 'idx': 732},\n",
       " {'Diagnosis': '73321', 'idx': 733},\n",
       " {'Diagnosis': '72764', 'idx': 734},\n",
       " {'Diagnosis': 'V7212', 'idx': 735},\n",
       " {'Diagnosis': 'E9441', 'idx': 736},\n",
       " {'Diagnosis': '37405', 'idx': 737},\n",
       " {'Diagnosis': '72702', 'idx': 738},\n",
       " {'Diagnosis': '80483', 'idx': 739},\n",
       " {'Diagnosis': '38201', 'idx': 740},\n",
       " {'Diagnosis': '2247', 'idx': 741},\n",
       " {'Diagnosis': '53789', 'idx': 742},\n",
       " {'Diagnosis': '94234', 'idx': 743},\n",
       " {'Diagnosis': '65981', 'idx': 744},\n",
       " {'Diagnosis': '29663', 'idx': 745},\n",
       " {'Diagnosis': '36089', 'idx': 746},\n",
       " {'Diagnosis': '36004', 'idx': 747},\n",
       " {'Diagnosis': '1177', 'idx': 748},\n",
       " {'Diagnosis': '36916', 'idx': 749},\n",
       " {'Diagnosis': '71829', 'idx': 750},\n",
       " {'Diagnosis': '20622', 'idx': 751},\n",
       " {'Diagnosis': '4251', 'idx': 752},\n",
       " {'Diagnosis': '83119', 'idx': 753},\n",
       " {'Diagnosis': '81101', 'idx': 754},\n",
       " {'Diagnosis': '71948', 'idx': 755},\n",
       " {'Diagnosis': '53251', 'idx': 756},\n",
       " {'Diagnosis': '01013', 'idx': 757},\n",
       " {'Diagnosis': '69558', 'idx': 758},\n",
       " {'Diagnosis': '80114', 'idx': 759},\n",
       " {'Diagnosis': '3689', 'idx': 760},\n",
       " {'Diagnosis': '3482', 'idx': 761},\n",
       " {'Diagnosis': '73074', 'idx': 762},\n",
       " {'Diagnosis': '62409', 'idx': 763},\n",
       " {'Diagnosis': '7249', 'idx': 764},\n",
       " {'Diagnosis': '37682', 'idx': 765},\n",
       " {'Diagnosis': '37158', 'idx': 766},\n",
       " {'Diagnosis': '56201', 'idx': 767},\n",
       " {'Diagnosis': '84503', 'idx': 768},\n",
       " {'Diagnosis': '07981', 'idx': 769},\n",
       " {'Diagnosis': '07053', 'idx': 770},\n",
       " {'Diagnosis': '01696', 'idx': 771},\n",
       " {'Diagnosis': '24971', 'idx': 772},\n",
       " {'Diagnosis': '94355', 'idx': 773},\n",
       " {'Diagnosis': 'V290', 'idx': 774},\n",
       " {'Diagnosis': 'V274', 'idx': 775},\n",
       " {'Diagnosis': '71887', 'idx': 776},\n",
       " {'Diagnosis': '20050', 'idx': 777},\n",
       " {'Diagnosis': 'E9348', 'idx': 778},\n",
       " {'Diagnosis': '85406', 'idx': 779},\n",
       " {'Diagnosis': '2303', 'idx': 780},\n",
       " {'Diagnosis': '40501', 'idx': 781},\n",
       " {'Diagnosis': 'V663', 'idx': 782},\n",
       " {'Diagnosis': '2682', 'idx': 783},\n",
       " {'Diagnosis': '99581', 'idx': 784},\n",
       " {'Diagnosis': '1923', 'idx': 785},\n",
       " {'Diagnosis': '6289', 'idx': 786},\n",
       " {'Diagnosis': '36632', 'idx': 787},\n",
       " {'Diagnosis': '9248', 'idx': 788},\n",
       " {'Diagnosis': '20620', 'idx': 789},\n",
       " {'Diagnosis': '9794', 'idx': 790},\n",
       " {'Diagnosis': '81318', 'idx': 791},\n",
       " {'Diagnosis': '317', 'idx': 792},\n",
       " {'Diagnosis': '42681', 'idx': 793},\n",
       " {'Diagnosis': '79380', 'idx': 794},\n",
       " {'Diagnosis': '36523', 'idx': 795},\n",
       " {'Diagnosis': '83510', 'idx': 796},\n",
       " {'Diagnosis': '59382', 'idx': 797},\n",
       " {'Diagnosis': 'V727', 'idx': 798},\n",
       " {'Diagnosis': '90229', 'idx': 799},\n",
       " {'Diagnosis': '75471', 'idx': 800},\n",
       " {'Diagnosis': '74764', 'idx': 801},\n",
       " {'Diagnosis': 'V4970', 'idx': 802},\n",
       " {'Diagnosis': '6029', 'idx': 803},\n",
       " {'Diagnosis': '3759', 'idx': 804},\n",
       " {'Diagnosis': '9402', 'idx': 805},\n",
       " {'Diagnosis': '80385', 'idx': 806},\n",
       " {'Diagnosis': '2752', 'idx': 807},\n",
       " {'Diagnosis': '60783', 'idx': 808},\n",
       " {'Diagnosis': '0417', 'idx': 809},\n",
       " {'Diagnosis': '85222', 'idx': 810},\n",
       " {'Diagnosis': '2599', 'idx': 811},\n",
       " {'Diagnosis': '37231', 'idx': 812},\n",
       " {'Diagnosis': '51189', 'idx': 813},\n",
       " {'Diagnosis': '56409', 'idx': 814},\n",
       " {'Diagnosis': '3588', 'idx': 815},\n",
       " {'Diagnosis': '53330', 'idx': 816},\n",
       " {'Diagnosis': '94311', 'idx': 817},\n",
       " {'Diagnosis': '36844', 'idx': 818},\n",
       " {'Diagnosis': '5991', 'idx': 819},\n",
       " {'Diagnosis': '9041', 'idx': 820},\n",
       " {'Diagnosis': '88009', 'idx': 821},\n",
       " {'Diagnosis': '07421', 'idx': 822},\n",
       " {'Diagnosis': '30753', 'idx': 823},\n",
       " {'Diagnosis': '81305', 'idx': 824},\n",
       " {'Diagnosis': '36277', 'idx': 825},\n",
       " {'Diagnosis': '73622', 'idx': 826},\n",
       " {'Diagnosis': '7320', 'idx': 827},\n",
       " {'Diagnosis': '9155', 'idx': 828},\n",
       " {'Diagnosis': '8674', 'idx': 829},\n",
       " {'Diagnosis': '64912', 'idx': 830},\n",
       " {'Diagnosis': '2769', 'idx': 831},\n",
       " {'Diagnosis': 'E9232', 'idx': 832},\n",
       " {'Diagnosis': 'V193', 'idx': 833},\n",
       " {'Diagnosis': '20492', 'idx': 834},\n",
       " {'Diagnosis': '3821', 'idx': 835},\n",
       " {'Diagnosis': '20073', 'idx': 836},\n",
       " {'Diagnosis': '53020', 'idx': 837},\n",
       " {'Diagnosis': '86399', 'idx': 838},\n",
       " {'Diagnosis': 'V6221', 'idx': 839},\n",
       " {'Diagnosis': '74429', 'idx': 840},\n",
       " {'Diagnosis': '56722', 'idx': 841},\n",
       " {'Diagnosis': '70721', 'idx': 842},\n",
       " {'Diagnosis': '49322', 'idx': 843},\n",
       " {'Diagnosis': '81510', 'idx': 844},\n",
       " {'Diagnosis': '3638', 'idx': 845},\n",
       " {'Diagnosis': '32372', 'idx': 846},\n",
       " {'Diagnosis': '3241', 'idx': 847},\n",
       " {'Diagnosis': '34660', 'idx': 848},\n",
       " {'Diagnosis': '52121', 'idx': 849},\n",
       " {'Diagnosis': '4548', 'idx': 850},\n",
       " {'Diagnosis': '65971', 'idx': 851},\n",
       " {'Diagnosis': '71134', 'idx': 852},\n",
       " {'Diagnosis': '20203', 'idx': 853},\n",
       " {'Diagnosis': '71884', 'idx': 854},\n",
       " {'Diagnosis': '2829', 'idx': 855},\n",
       " {'Diagnosis': '3809', 'idx': 856},\n",
       " {'Diagnosis': '5529', 'idx': 857},\n",
       " {'Diagnosis': '37802', 'idx': 858},\n",
       " {'Diagnosis': '80480', 'idx': 859},\n",
       " {'Diagnosis': '29562', 'idx': 860},\n",
       " {'Diagnosis': '81333', 'idx': 861},\n",
       " {'Diagnosis': 'V5842', 'idx': 862},\n",
       " {'Diagnosis': '53301', 'idx': 863},\n",
       " {'Diagnosis': '30412', 'idx': 864},\n",
       " {'Diagnosis': '9931', 'idx': 865},\n",
       " {'Diagnosis': '4275', 'idx': 866},\n",
       " {'Diagnosis': 'E9175', 'idx': 867},\n",
       " {'Diagnosis': '501', 'idx': 868},\n",
       " {'Diagnosis': '5715', 'idx': 869},\n",
       " {'Diagnosis': '53782', 'idx': 870},\n",
       " {'Diagnosis': 'V052', 'idx': 871},\n",
       " {'Diagnosis': '52423', 'idx': 872},\n",
       " {'Diagnosis': '53261', 'idx': 873},\n",
       " {'Diagnosis': '3699', 'idx': 874},\n",
       " {'Diagnosis': '98984', 'idx': 875},\n",
       " {'Diagnosis': '37451', 'idx': 876},\n",
       " {'Diagnosis': '41412', 'idx': 877},\n",
       " {'Diagnosis': '9197', 'idx': 878},\n",
       " {'Diagnosis': '80092', 'idx': 879},\n",
       " {'Diagnosis': '7875', 'idx': 880},\n",
       " {'Diagnosis': 'V7646', 'idx': 881},\n",
       " {'Diagnosis': '80461', 'idx': 882},\n",
       " {'Diagnosis': '55010', 'idx': 883},\n",
       " {'Diagnosis': '9606', 'idx': 884},\n",
       " {'Diagnosis': '86813', 'idx': 885},\n",
       " {'Diagnosis': '4644', 'idx': 886},\n",
       " {'Diagnosis': '80400', 'idx': 887},\n",
       " {'Diagnosis': '0741', 'idx': 888},\n",
       " {'Diagnosis': '2832', 'idx': 889},\n",
       " {'Diagnosis': '94353', 'idx': 890},\n",
       " {'Diagnosis': '31500', 'idx': 891},\n",
       " {'Diagnosis': '514', 'idx': 892},\n",
       " {'Diagnosis': '6207', 'idx': 893},\n",
       " {'Diagnosis': '4241', 'idx': 894},\n",
       " {'Diagnosis': '7485', 'idx': 895},\n",
       " {'Diagnosis': 'V709', 'idx': 896},\n",
       " {'Diagnosis': 'V7642', 'idx': 897},\n",
       " {'Diagnosis': '7318', 'idx': 898},\n",
       " {'Diagnosis': '81316', 'idx': 899},\n",
       " {'Diagnosis': '64792', 'idx': 900},\n",
       " {'Diagnosis': '9405', 'idx': 901},\n",
       " {'Diagnosis': '9686', 'idx': 902},\n",
       " {'Diagnosis': '9013', 'idx': 903},\n",
       " {'Diagnosis': '71938', 'idx': 904},\n",
       " {'Diagnosis': '9982', 'idx': 905},\n",
       " {'Diagnosis': 'V6102', 'idx': 906},\n",
       " {'Diagnosis': '80006', 'idx': 907},\n",
       " {'Diagnosis': '37204', 'idx': 908},\n",
       " {'Diagnosis': 'V642', 'idx': 909},\n",
       " {'Diagnosis': '31381', 'idx': 910},\n",
       " {'Diagnosis': '9149', 'idx': 911},\n",
       " {'Diagnosis': '70401', 'idx': 912},\n",
       " {'Diagnosis': '6246', 'idx': 913},\n",
       " {'Diagnosis': '52573', 'idx': 914},\n",
       " {'Diagnosis': '72768', 'idx': 915},\n",
       " {'Diagnosis': '5600', 'idx': 916},\n",
       " {'Diagnosis': '85152', 'idx': 917},\n",
       " {'Diagnosis': '84511', 'idx': 918},\n",
       " {'Diagnosis': '9600', 'idx': 919},\n",
       " {'Diagnosis': '1413', 'idx': 920},\n",
       " {'Diagnosis': '1429', 'idx': 921},\n",
       " {'Diagnosis': '0652', 'idx': 922},\n",
       " {'Diagnosis': '7511', 'idx': 923},\n",
       " {'Diagnosis': '6192', 'idx': 924},\n",
       " {'Diagnosis': '78837', 'idx': 925},\n",
       " {'Diagnosis': '5724', 'idx': 926},\n",
       " {'Diagnosis': '71880', 'idx': 927},\n",
       " {'Diagnosis': '4580', 'idx': 928},\n",
       " {'Diagnosis': '72981', 'idx': 929},\n",
       " {'Diagnosis': '69271', 'idx': 930},\n",
       " {'Diagnosis': '20702', 'idx': 931},\n",
       " {'Diagnosis': '85180', 'idx': 932},\n",
       " {'Diagnosis': '4296', 'idx': 933},\n",
       " {'Diagnosis': '36204', 'idx': 934},\n",
       " {'Diagnosis': '36218', 'idx': 935},\n",
       " {'Diagnosis': 'E9413', 'idx': 936},\n",
       " {'Diagnosis': '9106', 'idx': 937},\n",
       " {'Diagnosis': 'V062', 'idx': 938},\n",
       " {'Diagnosis': '29626', 'idx': 939},\n",
       " {'Diagnosis': '1515', 'idx': 940},\n",
       " {'Diagnosis': '70710', 'idx': 941},\n",
       " {'Diagnosis': 'V486', 'idx': 942},\n",
       " {'Diagnosis': '71789', 'idx': 943},\n",
       " {'Diagnosis': '4279', 'idx': 944},\n",
       " {'Diagnosis': '24241', 'idx': 945},\n",
       " {'Diagnosis': 'E9387', 'idx': 946},\n",
       " {'Diagnosis': '7482', 'idx': 947},\n",
       " {'Diagnosis': '2139', 'idx': 948},\n",
       " {'Diagnosis': '80069', 'idx': 949},\n",
       " {'Diagnosis': '9855', 'idx': 950},\n",
       " {'Diagnosis': '31532', 'idx': 951},\n",
       " {'Diagnosis': '60885', 'idx': 952},\n",
       " {'Diagnosis': '30020', 'idx': 953},\n",
       " {'Diagnosis': 'V8739', 'idx': 954},\n",
       " {'Diagnosis': '75265', 'idx': 955},\n",
       " {'Diagnosis': '67593', 'idx': 956},\n",
       " {'Diagnosis': '37903', 'idx': 957},\n",
       " {'Diagnosis': '7558', 'idx': 958},\n",
       " {'Diagnosis': '5581', 'idx': 959},\n",
       " {'Diagnosis': '4389', 'idx': 960},\n",
       " {'Diagnosis': '06640', 'idx': 961},\n",
       " {'Diagnosis': '449', 'idx': 962},\n",
       " {'Diagnosis': '7048', 'idx': 963},\n",
       " {'Diagnosis': 'E8261', 'idx': 964},\n",
       " {'Diagnosis': '51911', 'idx': 965},\n",
       " {'Diagnosis': '4733', 'idx': 966},\n",
       " {'Diagnosis': '9941', 'idx': 967},\n",
       " {'Diagnosis': '30989', 'idx': 968},\n",
       " {'Diagnosis': '33510', 'idx': 969},\n",
       " {'Diagnosis': '74351', 'idx': 970},\n",
       " {'Diagnosis': 'V8289', 'idx': 971},\n",
       " {'Diagnosis': '8877', 'idx': 972},\n",
       " {'Diagnosis': '40491', 'idx': 973},\n",
       " {'Diagnosis': '9878', 'idx': 974},\n",
       " {'Diagnosis': '179', 'idx': 975},\n",
       " {'Diagnosis': '2165', 'idx': 976},\n",
       " {'Diagnosis': 'V156', 'idx': 977},\n",
       " {'Diagnosis': '1518', 'idx': 978},\n",
       " {'Diagnosis': '3341', 'idx': 979},\n",
       " {'Diagnosis': '1548', 'idx': 980},\n",
       " {'Diagnosis': '53171', 'idx': 981},\n",
       " {'Diagnosis': '1536', 'idx': 982},\n",
       " {'Diagnosis': '25080', 'idx': 983},\n",
       " {'Diagnosis': '79099', 'idx': 984},\n",
       " {'Diagnosis': '3502', 'idx': 985},\n",
       " {'Diagnosis': '71167', 'idx': 986},\n",
       " {'Diagnosis': 'V220', 'idx': 987},\n",
       " {'Diagnosis': 'E9270', 'idx': 988},\n",
       " {'Diagnosis': '83961', 'idx': 989},\n",
       " {'Diagnosis': 'V854', 'idx': 990},\n",
       " {'Diagnosis': '80503', 'idx': 991},\n",
       " {'Diagnosis': '59000', 'idx': 992},\n",
       " {'Diagnosis': '6808', 'idx': 993},\n",
       " {'Diagnosis': '69283', 'idx': 994},\n",
       " {'Diagnosis': '59653', 'idx': 995},\n",
       " {'Diagnosis': '9120', 'idx': 996},\n",
       " {'Diagnosis': '20102', 'idx': 997},\n",
       " {'Diagnosis': '66491', 'idx': 998},\n",
       " {'Diagnosis': '37530', 'idx': 999},\n",
       " ...]"
      ]
     },
     "execution_count": 26,
     "metadata": {},
     "output_type": "execute_result"
    }
   ],
   "source": [
    "ds"
   ]
  },
  {
   "cell_type": "code",
   "execution_count": 27,
   "id": "f3dbcd0d",
   "metadata": {},
   "outputs": [],
   "source": [
    "query=\"\"\"CREATE CONSTRAINT ON (n:Diagnosis) ASSERT n.idx IS UNIQUE\"\"\""
   ]
  },
  {
   "cell_type": "code",
   "execution_count": 28,
   "id": "aa92abfe",
   "metadata": {},
   "outputs": [
    {
     "data": {
      "text/html": [
       "(No data)"
      ],
      "text/plain": [
       "(No data)"
      ]
     },
     "execution_count": 28,
     "metadata": {},
     "output_type": "execute_result"
    }
   ],
   "source": [
    "db.run(query)"
   ]
  },
  {
   "cell_type": "code",
   "execution_count": 29,
   "id": "d266567c",
   "metadata": {},
   "outputs": [
    {
     "data": {
      "text/html": [
       "(No data)"
      ],
      "text/plain": [
       "(No data)"
      ]
     },
     "execution_count": 29,
     "metadata": {},
     "output_type": "execute_result"
    }
   ],
   "source": [
    "query = \"\"\"\n",
    "    UNWIND $ds AS d\n",
    "    MERGE (b:Diagnosis {idx: d.idx, Type: d.Diagnosis})\n",
    "        \"\"\"\n",
    "db.run(query, {\"ds\":ds})"
   ]
  },
  {
   "cell_type": "code",
   "execution_count": null,
   "id": "0255e8c6",
   "metadata": {},
   "outputs": [],
   "source": []
  }
 ],
 "metadata": {
  "kernelspec": {
   "display_name": "Python [conda env:new_env]",
   "language": "python",
   "name": "conda-env-new_env-py"
  },
  "language_info": {
   "codemirror_mode": {
    "name": "ipython",
    "version": 3
   },
   "file_extension": ".py",
   "mimetype": "text/x-python",
   "name": "python",
   "nbconvert_exporter": "python",
   "pygments_lexer": "ipython3",
   "version": "3.9.7"
  }
 },
 "nbformat": 4,
 "nbformat_minor": 5
}
