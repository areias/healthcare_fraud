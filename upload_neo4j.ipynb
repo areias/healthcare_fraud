{
 "cells": [
  {
   "cell_type": "markdown",
   "id": "d948c66b",
   "metadata": {},
   "source": [
    "## Health Insurance Fraud"
   ]
  },
  {
   "cell_type": "markdown",
   "id": "dfa5ceb6",
   "metadata": {},
   "source": [
    "![](schema_draft_3.png)"
   ]
  },
  {
   "cell_type": "code",
   "execution_count": 1,
   "id": "b6c584f6",
   "metadata": {},
   "outputs": [],
   "source": [
    "from py2neo import Graph, Node\n",
    "db = Graph(scheme=\"bolt\", host=\"localhost\", port=7687, secure=False, \n",
    "                auth=('neo4j', 'test'))\n",
    "#db.delete_all()"
   ]
  },
  {
   "cell_type": "code",
   "execution_count": 2,
   "id": "87a5f4f7",
   "metadata": {},
   "outputs": [],
   "source": [
    "import pandas as pd\n"
   ]
  },
  {
   "cell_type": "code",
   "execution_count": 3,
   "id": "4ca253da",
   "metadata": {},
   "outputs": [
    {
     "name": "stdout",
     "output_type": "stream",
     "text": [
      " Le volume dans le lecteur C nâ€™a pas de nom.\n",
      " Le numÃ©ro de sÃ©rie du volume est EE44-8BAE\n",
      "\n",
      " RÃ©pertoire de C:\\Users\\LENOVO\\Documents\\GitHub\\healthcare_fraud\\data\n",
      "\n",
      "14/12/2021  10:13    <DIR>          .\n",
      "14/12/2021  10:13    <DIR>          ..\n",
      "23/10/2019  08:12         5Â 325Â 982 Test_Beneficiarydata-1542969243754.csv\n",
      "23/10/2019  08:12         2Â 020Â 712 Test_Inpatientdata-1542969243754.csv\n",
      "23/10/2019  08:12        18Â 806Â 934 Test_Outpatientdata-1542969243754.csv\n",
      "23/10/2019  08:12            14Â 894 Test-1542969243754.csv\n",
      "23/10/2019  08:12        11Â 444Â 821 Train_Beneficiarydata-1542865627584.csv\n",
      "23/10/2019  08:12         8Â 572Â 555 Train_Inpatientdata-1542865627584.csv\n",
      "23/10/2019  08:12        77Â 391Â 090 Train_Outpatientdata-1542865627584.csv\n",
      "23/10/2019  08:12            87Â 094 Train-1542865627584.csv\n",
      "               8 fichier(s)      123Â 664Â 082 octets\n",
      "               2 RÃ©p(s)  380Â 506Â 345Â 472 octets libres\n"
     ]
    }
   ],
   "source": [
    "%ls data"
   ]
  },
  {
   "cell_type": "code",
   "execution_count": 4,
   "id": "bd701ab0",
   "metadata": {},
   "outputs": [],
   "source": [
    "df=pd.read_csv(\"data/Train_Beneficiarydata-1542865627584.csv\")"
   ]
  },
  {
   "cell_type": "code",
   "execution_count": 5,
   "id": "c5f733b2",
   "metadata": {},
   "outputs": [
    {
     "data": {
      "text/plain": [
       "Index(['BeneID', 'DOB', 'DOD', 'Gender', 'Race', 'RenalDiseaseIndicator',\n",
       "       'State', 'County', 'NoOfMonths_PartACov', 'NoOfMonths_PartBCov',\n",
       "       'ChronicCond_Alzheimer', 'ChronicCond_Heartfailure',\n",
       "       'ChronicCond_KidneyDisease', 'ChronicCond_Cancer',\n",
       "       'ChronicCond_ObstrPulmonary', 'ChronicCond_Depression',\n",
       "       'ChronicCond_Diabetes', 'ChronicCond_IschemicHeart',\n",
       "       'ChronicCond_Osteoporasis', 'ChronicCond_rheumatoidarthritis',\n",
       "       'ChronicCond_stroke', 'IPAnnualReimbursementAmt',\n",
       "       'IPAnnualDeductibleAmt', 'OPAnnualReimbursementAmt',\n",
       "       'OPAnnualDeductibleAmt'],\n",
       "      dtype='object')"
      ]
     },
     "execution_count": 5,
     "metadata": {},
     "output_type": "execute_result"
    }
   ],
   "source": [
    "df.columns"
   ]
  },
  {
   "cell_type": "code",
   "execution_count": 6,
   "id": "7d61a9af",
   "metadata": {},
   "outputs": [
    {
     "data": {
      "text/html": [
       "<div>\n",
       "<style scoped>\n",
       "    .dataframe tbody tr th:only-of-type {\n",
       "        vertical-align: middle;\n",
       "    }\n",
       "\n",
       "    .dataframe tbody tr th {\n",
       "        vertical-align: top;\n",
       "    }\n",
       "\n",
       "    .dataframe thead th {\n",
       "        text-align: right;\n",
       "    }\n",
       "</style>\n",
       "<table border=\"1\" class=\"dataframe\">\n",
       "  <thead>\n",
       "    <tr style=\"text-align: right;\">\n",
       "      <th></th>\n",
       "      <th>BeneID</th>\n",
       "      <th>DOB</th>\n",
       "      <th>DOD</th>\n",
       "      <th>Gender</th>\n",
       "      <th>Race</th>\n",
       "      <th>RenalDiseaseIndicator</th>\n",
       "      <th>State</th>\n",
       "      <th>County</th>\n",
       "      <th>NoOfMonths_PartACov</th>\n",
       "      <th>NoOfMonths_PartBCov</th>\n",
       "      <th>...</th>\n",
       "      <th>ChronicCond_Depression</th>\n",
       "      <th>ChronicCond_Diabetes</th>\n",
       "      <th>ChronicCond_IschemicHeart</th>\n",
       "      <th>ChronicCond_Osteoporasis</th>\n",
       "      <th>ChronicCond_rheumatoidarthritis</th>\n",
       "      <th>ChronicCond_stroke</th>\n",
       "      <th>IPAnnualReimbursementAmt</th>\n",
       "      <th>IPAnnualDeductibleAmt</th>\n",
       "      <th>OPAnnualReimbursementAmt</th>\n",
       "      <th>OPAnnualDeductibleAmt</th>\n",
       "    </tr>\n",
       "  </thead>\n",
       "  <tbody>\n",
       "    <tr>\n",
       "      <th>0</th>\n",
       "      <td>BENE11001</td>\n",
       "      <td>1943-01-01</td>\n",
       "      <td>NaN</td>\n",
       "      <td>1</td>\n",
       "      <td>1</td>\n",
       "      <td>0</td>\n",
       "      <td>39</td>\n",
       "      <td>230</td>\n",
       "      <td>12</td>\n",
       "      <td>12</td>\n",
       "      <td>...</td>\n",
       "      <td>1</td>\n",
       "      <td>1</td>\n",
       "      <td>1</td>\n",
       "      <td>2</td>\n",
       "      <td>1</td>\n",
       "      <td>1</td>\n",
       "      <td>36000</td>\n",
       "      <td>3204</td>\n",
       "      <td>60</td>\n",
       "      <td>70</td>\n",
       "    </tr>\n",
       "    <tr>\n",
       "      <th>1</th>\n",
       "      <td>BENE11002</td>\n",
       "      <td>1936-09-01</td>\n",
       "      <td>NaN</td>\n",
       "      <td>2</td>\n",
       "      <td>1</td>\n",
       "      <td>0</td>\n",
       "      <td>39</td>\n",
       "      <td>280</td>\n",
       "      <td>12</td>\n",
       "      <td>12</td>\n",
       "      <td>...</td>\n",
       "      <td>2</td>\n",
       "      <td>2</td>\n",
       "      <td>2</td>\n",
       "      <td>2</td>\n",
       "      <td>2</td>\n",
       "      <td>2</td>\n",
       "      <td>0</td>\n",
       "      <td>0</td>\n",
       "      <td>30</td>\n",
       "      <td>50</td>\n",
       "    </tr>\n",
       "    <tr>\n",
       "      <th>2</th>\n",
       "      <td>BENE11003</td>\n",
       "      <td>1936-08-01</td>\n",
       "      <td>NaN</td>\n",
       "      <td>1</td>\n",
       "      <td>1</td>\n",
       "      <td>0</td>\n",
       "      <td>52</td>\n",
       "      <td>590</td>\n",
       "      <td>12</td>\n",
       "      <td>12</td>\n",
       "      <td>...</td>\n",
       "      <td>2</td>\n",
       "      <td>2</td>\n",
       "      <td>1</td>\n",
       "      <td>2</td>\n",
       "      <td>2</td>\n",
       "      <td>2</td>\n",
       "      <td>0</td>\n",
       "      <td>0</td>\n",
       "      <td>90</td>\n",
       "      <td>40</td>\n",
       "    </tr>\n",
       "    <tr>\n",
       "      <th>3</th>\n",
       "      <td>BENE11004</td>\n",
       "      <td>1922-07-01</td>\n",
       "      <td>NaN</td>\n",
       "      <td>1</td>\n",
       "      <td>1</td>\n",
       "      <td>0</td>\n",
       "      <td>39</td>\n",
       "      <td>270</td>\n",
       "      <td>12</td>\n",
       "      <td>12</td>\n",
       "      <td>...</td>\n",
       "      <td>2</td>\n",
       "      <td>1</td>\n",
       "      <td>1</td>\n",
       "      <td>1</td>\n",
       "      <td>1</td>\n",
       "      <td>2</td>\n",
       "      <td>0</td>\n",
       "      <td>0</td>\n",
       "      <td>1810</td>\n",
       "      <td>760</td>\n",
       "    </tr>\n",
       "    <tr>\n",
       "      <th>4</th>\n",
       "      <td>BENE11005</td>\n",
       "      <td>1935-09-01</td>\n",
       "      <td>NaN</td>\n",
       "      <td>1</td>\n",
       "      <td>1</td>\n",
       "      <td>0</td>\n",
       "      <td>24</td>\n",
       "      <td>680</td>\n",
       "      <td>12</td>\n",
       "      <td>12</td>\n",
       "      <td>...</td>\n",
       "      <td>2</td>\n",
       "      <td>1</td>\n",
       "      <td>2</td>\n",
       "      <td>2</td>\n",
       "      <td>2</td>\n",
       "      <td>2</td>\n",
       "      <td>0</td>\n",
       "      <td>0</td>\n",
       "      <td>1790</td>\n",
       "      <td>1200</td>\n",
       "    </tr>\n",
       "  </tbody>\n",
       "</table>\n",
       "<p>5 rows × 25 columns</p>\n",
       "</div>"
      ],
      "text/plain": [
       "      BeneID         DOB  DOD  Gender  Race RenalDiseaseIndicator  State  \\\n",
       "0  BENE11001  1943-01-01  NaN       1     1                     0     39   \n",
       "1  BENE11002  1936-09-01  NaN       2     1                     0     39   \n",
       "2  BENE11003  1936-08-01  NaN       1     1                     0     52   \n",
       "3  BENE11004  1922-07-01  NaN       1     1                     0     39   \n",
       "4  BENE11005  1935-09-01  NaN       1     1                     0     24   \n",
       "\n",
       "   County  NoOfMonths_PartACov  NoOfMonths_PartBCov  ...  \\\n",
       "0     230                   12                   12  ...   \n",
       "1     280                   12                   12  ...   \n",
       "2     590                   12                   12  ...   \n",
       "3     270                   12                   12  ...   \n",
       "4     680                   12                   12  ...   \n",
       "\n",
       "   ChronicCond_Depression  ChronicCond_Diabetes  ChronicCond_IschemicHeart  \\\n",
       "0                       1                     1                          1   \n",
       "1                       2                     2                          2   \n",
       "2                       2                     2                          1   \n",
       "3                       2                     1                          1   \n",
       "4                       2                     1                          2   \n",
       "\n",
       "   ChronicCond_Osteoporasis  ChronicCond_rheumatoidarthritis  \\\n",
       "0                         2                                1   \n",
       "1                         2                                2   \n",
       "2                         2                                2   \n",
       "3                         1                                1   \n",
       "4                         2                                2   \n",
       "\n",
       "   ChronicCond_stroke  IPAnnualReimbursementAmt  IPAnnualDeductibleAmt  \\\n",
       "0                   1                     36000                   3204   \n",
       "1                   2                         0                      0   \n",
       "2                   2                         0                      0   \n",
       "3                   2                         0                      0   \n",
       "4                   2                         0                      0   \n",
       "\n",
       "   OPAnnualReimbursementAmt  OPAnnualDeductibleAmt  \n",
       "0                        60                     70  \n",
       "1                        30                     50  \n",
       "2                        90                     40  \n",
       "3                      1810                    760  \n",
       "4                      1790                   1200  \n",
       "\n",
       "[5 rows x 25 columns]"
      ]
     },
     "execution_count": 6,
     "metadata": {},
     "output_type": "execute_result"
    }
   ],
   "source": [
    "df.head()"
   ]
  },
  {
   "cell_type": "markdown",
   "id": "36d90d0f",
   "metadata": {},
   "source": [
    "## Beneficiary nodes\n"
   ]
  },
  {
   "cell_type": "code",
   "execution_count": 7,
   "id": "c37a69ea",
   "metadata": {},
   "outputs": [
    {
     "data": {
      "text/plain": [
       "['BENE11001', 'BENE11002', 'BENE11003']"
      ]
     },
     "execution_count": 7,
     "metadata": {},
     "output_type": "execute_result"
    }
   ],
   "source": [
    "beneficiaries = list(df.BeneID.unique())\n",
    "beneficiaries[:3]"
   ]
  },
  {
   "cell_type": "code",
   "execution_count": 8,
   "id": "64c9084c",
   "metadata": {},
   "outputs": [
    {
     "data": {
      "text/plain": [
       "138556"
      ]
     },
     "execution_count": 8,
     "metadata": {},
     "output_type": "execute_result"
    }
   ],
   "source": [
    "len(beneficiaries)"
   ]
  },
  {
   "cell_type": "code",
   "execution_count": 9,
   "id": "6bf9207a",
   "metadata": {},
   "outputs": [],
   "source": [
    "bens = [{'idx': x} for x in beneficiaries]"
   ]
  },
  {
   "cell_type": "code",
   "execution_count": 38,
   "id": "870081f7",
   "metadata": {},
   "outputs": [
    {
     "data": {
      "text/plain": [
       "[{'idx': 'BENE11001'}, {'idx': 'BENE11002'}, {'idx': 'BENE11003'}]"
      ]
     },
     "execution_count": 38,
     "metadata": {},
     "output_type": "execute_result"
    }
   ],
   "source": [
    "bens[:3]"
   ]
  },
  {
   "cell_type": "code",
   "execution_count": 39,
   "id": "da278045",
   "metadata": {},
   "outputs": [],
   "source": [
    "# set constraint on beneficiary node that idx is unique\n",
    "query=\"\"\"CREATE CONSTRAINT ON (n:Beneficiary) ASSERT n.idx IS UNIQUE\"\"\""
   ]
  },
  {
   "cell_type": "code",
   "execution_count": null,
   "id": "84974fc6",
   "metadata": {},
   "outputs": [],
   "source": [
    "db.run(query)"
   ]
  },
  {
   "cell_type": "code",
   "execution_count": 41,
   "id": "4500c46f",
   "metadata": {},
   "outputs": [
    {
     "data": {
      "text/html": [
       "(No data)"
      ],
      "text/plain": [
       "(No data)"
      ]
     },
     "execution_count": 41,
     "metadata": {},
     "output_type": "execute_result"
    }
   ],
   "source": [
    "query = \"\"\"\n",
    "    UNWIND $bens AS ben\n",
    "    MERGE (b:Beneficiary {idx: ben.idx})\n",
    "        \"\"\"\n",
    "db.run(query, {\"bens\":bens})"
   ]
  },
  {
   "cell_type": "markdown",
   "id": "3cc24116",
   "metadata": {},
   "source": [
    "## Provider nodes"
   ]
  },
  {
   "cell_type": "code",
   "execution_count": 10,
   "id": "80699e48",
   "metadata": {},
   "outputs": [],
   "source": [
    "df_in = pd.read_csv(\"data/Train_Inpatientdata-1542865627584.csv\")"
   ]
  },
  {
   "cell_type": "code",
   "execution_count": 11,
   "id": "75bb5940",
   "metadata": {},
   "outputs": [
    {
     "data": {
      "text/plain": [
       "Index(['BeneID', 'ClaimID', 'ClaimStartDt', 'ClaimEndDt', 'Provider',\n",
       "       'InscClaimAmtReimbursed', 'AttendingPhysician', 'OperatingPhysician',\n",
       "       'OtherPhysician', 'AdmissionDt', 'ClmAdmitDiagnosisCode',\n",
       "       'DeductibleAmtPaid', 'DischargeDt', 'DiagnosisGroupCode',\n",
       "       'ClmDiagnosisCode_1', 'ClmDiagnosisCode_2', 'ClmDiagnosisCode_3',\n",
       "       'ClmDiagnosisCode_4', 'ClmDiagnosisCode_5', 'ClmDiagnosisCode_6',\n",
       "       'ClmDiagnosisCode_7', 'ClmDiagnosisCode_8', 'ClmDiagnosisCode_9',\n",
       "       'ClmDiagnosisCode_10', 'ClmProcedureCode_1', 'ClmProcedureCode_2',\n",
       "       'ClmProcedureCode_3', 'ClmProcedureCode_4', 'ClmProcedureCode_5',\n",
       "       'ClmProcedureCode_6'],\n",
       "      dtype='object')"
      ]
     },
     "execution_count": 11,
     "metadata": {},
     "output_type": "execute_result"
    }
   ],
   "source": [
    "df_in.columns"
   ]
  },
  {
   "cell_type": "code",
   "execution_count": 12,
   "id": "f7edf6f8",
   "metadata": {},
   "outputs": [],
   "source": [
    "df_out = pd.read_csv(\"data/Train_Outpatientdata-1542865627584.csv\")"
   ]
  },
  {
   "cell_type": "code",
   "execution_count": 13,
   "id": "2474c63a",
   "metadata": {},
   "outputs": [
    {
     "data": {
      "text/plain": [
       "Index(['BeneID', 'ClaimID', 'ClaimStartDt', 'ClaimEndDt', 'Provider',\n",
       "       'InscClaimAmtReimbursed', 'AttendingPhysician', 'OperatingPhysician',\n",
       "       'OtherPhysician', 'ClmDiagnosisCode_1', 'ClmDiagnosisCode_2',\n",
       "       'ClmDiagnosisCode_3', 'ClmDiagnosisCode_4', 'ClmDiagnosisCode_5',\n",
       "       'ClmDiagnosisCode_6', 'ClmDiagnosisCode_7', 'ClmDiagnosisCode_8',\n",
       "       'ClmDiagnosisCode_9', 'ClmDiagnosisCode_10', 'ClmProcedureCode_1',\n",
       "       'ClmProcedureCode_2', 'ClmProcedureCode_3', 'ClmProcedureCode_4',\n",
       "       'ClmProcedureCode_5', 'ClmProcedureCode_6', 'DeductibleAmtPaid',\n",
       "       'ClmAdmitDiagnosisCode'],\n",
       "      dtype='object')"
      ]
     },
     "execution_count": 13,
     "metadata": {},
     "output_type": "execute_result"
    }
   ],
   "source": [
    "df_out.columns"
   ]
  },
  {
   "cell_type": "code",
   "execution_count": 18,
   "id": "5b5e1565",
   "metadata": {},
   "outputs": [],
   "source": [
    "providers = list(set(list(df_in.Provider.unique()) + list(df_out.Provider.unique())))"
   ]
  },
  {
   "cell_type": "code",
   "execution_count": 19,
   "id": "c9e346b3",
   "metadata": {},
   "outputs": [
    {
     "data": {
      "text/plain": [
       "5410"
      ]
     },
     "execution_count": 19,
     "metadata": {},
     "output_type": "execute_result"
    }
   ],
   "source": [
    "len(providers)"
   ]
  },
  {
   "cell_type": "code",
   "execution_count": 20,
   "id": "e2401410",
   "metadata": {},
   "outputs": [
    {
     "data": {
      "text/plain": [
       "['PRV57088', 'PRV57251', 'PRV56718', 'PRV53015']"
      ]
     },
     "execution_count": 20,
     "metadata": {},
     "output_type": "execute_result"
    }
   ],
   "source": [
    "providers[:4]"
   ]
  },
  {
   "cell_type": "code",
   "execution_count": 21,
   "id": "9a6c4de5",
   "metadata": {},
   "outputs": [],
   "source": [
    "provs=[{\"idx\": x} for x in providers]"
   ]
  },
  {
   "cell_type": "code",
   "execution_count": 22,
   "id": "9f2769de",
   "metadata": {},
   "outputs": [],
   "source": [
    "# set constraint on beneficiary node that idx is unique\n",
    "query=\"\"\"CREATE CONSTRAINT ON (n:Provider) ASSERT n.idx IS UNIQUE\"\"\""
   ]
  },
  {
   "cell_type": "code",
   "execution_count": 23,
   "id": "8194d189",
   "metadata": {},
   "outputs": [
    {
     "data": {
      "text/html": [
       "(No data)"
      ],
      "text/plain": [
       "(No data)"
      ]
     },
     "execution_count": 23,
     "metadata": {},
     "output_type": "execute_result"
    }
   ],
   "source": [
    "db.run(query)"
   ]
  },
  {
   "cell_type": "code",
   "execution_count": 24,
   "id": "c28c0e5d",
   "metadata": {},
   "outputs": [
    {
     "data": {
      "text/html": [
       "(No data)"
      ],
      "text/plain": [
       "(No data)"
      ]
     },
     "execution_count": 24,
     "metadata": {},
     "output_type": "execute_result"
    }
   ],
   "source": [
    "query = \"\"\"\n",
    "    UNWIND $provs AS prov\n",
    "    MERGE (b:Provider {idx: prov.idx})\n",
    "        \"\"\"\n",
    "db.run(query, {\"provs\":provs})"
   ]
  },
  {
   "cell_type": "markdown",
   "id": "32db80bd",
   "metadata": {},
   "source": [
    "## (Provider)-[:HAS_BENEFICIARY]->(Beneficiary)"
   ]
  },
  {
   "cell_type": "code",
   "execution_count": 14,
   "id": "a388cd8b",
   "metadata": {},
   "outputs": [],
   "source": [
    "df_in[\"type\"]=\"Inpatient\""
   ]
  },
  {
   "cell_type": "code",
   "execution_count": 15,
   "id": "e4b0f944",
   "metadata": {},
   "outputs": [],
   "source": [
    "df_out['type']=\"Outpatient\""
   ]
  },
  {
   "cell_type": "code",
   "execution_count": 16,
   "id": "e894e4ca",
   "metadata": {},
   "outputs": [],
   "source": [
    "df_all=df_in.append(df_out)"
   ]
  },
  {
   "cell_type": "code",
   "execution_count": 28,
   "id": "58c2b443",
   "metadata": {},
   "outputs": [
    {
     "data": {
      "text/plain": [
       "558211"
      ]
     },
     "execution_count": 28,
     "metadata": {},
     "output_type": "execute_result"
    }
   ],
   "source": [
    "len(df_all)"
   ]
  },
  {
   "cell_type": "code",
   "execution_count": 29,
   "id": "82117903",
   "metadata": {},
   "outputs": [
    {
     "data": {
      "text/plain": [
       "Outpatient    517737\n",
       "Inpatient      40474\n",
       "Name: type, dtype: int64"
      ]
     },
     "execution_count": 29,
     "metadata": {},
     "output_type": "execute_result"
    }
   ],
   "source": [
    "df_all.type.value_counts()"
   ]
  },
  {
   "cell_type": "code",
   "execution_count": 30,
   "id": "975545f4",
   "metadata": {},
   "outputs": [
    {
     "data": {
      "text/plain": [
       "40474"
      ]
     },
     "execution_count": 30,
     "metadata": {},
     "output_type": "execute_result"
    }
   ],
   "source": [
    "len(df_in)"
   ]
  },
  {
   "cell_type": "code",
   "execution_count": 31,
   "id": "4c47b83f",
   "metadata": {},
   "outputs": [
    {
     "data": {
      "text/plain": [
       "517737"
      ]
     },
     "execution_count": 31,
     "metadata": {},
     "output_type": "execute_result"
    }
   ],
   "source": [
    "len(df_out)"
   ]
  },
  {
   "cell_type": "code",
   "execution_count": 32,
   "id": "c23948f3",
   "metadata": {},
   "outputs": [],
   "source": [
    "grp=df_all.groupby(['Provider','BeneID'])['ClaimID'].count()"
   ]
  },
  {
   "cell_type": "code",
   "execution_count": 33,
   "id": "ec8cfcbd",
   "metadata": {},
   "outputs": [],
   "source": [
    "grp=grp.reset_index()\n"
   ]
  },
  {
   "cell_type": "code",
   "execution_count": 34,
   "id": "76b86ea5",
   "metadata": {},
   "outputs": [
    {
     "data": {
      "text/html": [
       "<div>\n",
       "<style scoped>\n",
       "    .dataframe tbody tr th:only-of-type {\n",
       "        vertical-align: middle;\n",
       "    }\n",
       "\n",
       "    .dataframe tbody tr th {\n",
       "        vertical-align: top;\n",
       "    }\n",
       "\n",
       "    .dataframe thead th {\n",
       "        text-align: right;\n",
       "    }\n",
       "</style>\n",
       "<table border=\"1\" class=\"dataframe\">\n",
       "  <thead>\n",
       "    <tr style=\"text-align: right;\">\n",
       "      <th></th>\n",
       "      <th>Provider</th>\n",
       "      <th>BeneID</th>\n",
       "      <th>ClaimID</th>\n",
       "    </tr>\n",
       "  </thead>\n",
       "  <tbody>\n",
       "    <tr>\n",
       "      <th>0</th>\n",
       "      <td>PRV51001</td>\n",
       "      <td>BENE102690</td>\n",
       "      <td>1</td>\n",
       "    </tr>\n",
       "    <tr>\n",
       "      <th>1</th>\n",
       "      <td>PRV51001</td>\n",
       "      <td>BENE106078</td>\n",
       "      <td>1</td>\n",
       "    </tr>\n",
       "    <tr>\n",
       "      <th>2</th>\n",
       "      <td>PRV51001</td>\n",
       "      <td>BENE11727</td>\n",
       "      <td>1</td>\n",
       "    </tr>\n",
       "    <tr>\n",
       "      <th>3</th>\n",
       "      <td>PRV51001</td>\n",
       "      <td>BENE123416</td>\n",
       "      <td>1</td>\n",
       "    </tr>\n",
       "    <tr>\n",
       "      <th>4</th>\n",
       "      <td>PRV51001</td>\n",
       "      <td>BENE126477</td>\n",
       "      <td>1</td>\n",
       "    </tr>\n",
       "  </tbody>\n",
       "</table>\n",
       "</div>"
      ],
      "text/plain": [
       "   Provider      BeneID  ClaimID\n",
       "0  PRV51001  BENE102690        1\n",
       "1  PRV51001  BENE106078        1\n",
       "2  PRV51001   BENE11727        1\n",
       "3  PRV51001  BENE123416        1\n",
       "4  PRV51001  BENE126477        1"
      ]
     },
     "execution_count": 34,
     "metadata": {},
     "output_type": "execute_result"
    }
   ],
   "source": [
    "grp.head()"
   ]
  },
  {
   "cell_type": "code",
   "execution_count": 35,
   "id": "9ff6438f",
   "metadata": {},
   "outputs": [
    {
     "data": {
      "text/plain": [
       "1     274312\n",
       "2      46849\n",
       "3      18330\n",
       "4       9347\n",
       "5       5303\n",
       "6       3255\n",
       "7       2105\n",
       "8       1350\n",
       "9        888\n",
       "10       566\n",
       "11       379\n",
       "12       222\n",
       "13       143\n",
       "14        92\n",
       "15        61\n",
       "16        41\n",
       "17        26\n",
       "18        15\n",
       "19         8\n",
       "20         3\n",
       "21         2\n",
       "23         2\n",
       "28         1\n",
       "Name: ClaimID, dtype: int64"
      ]
     },
     "execution_count": 35,
     "metadata": {},
     "output_type": "execute_result"
    }
   ],
   "source": [
    "grp['ClaimID'].value_counts()"
   ]
  },
  {
   "cell_type": "code",
   "execution_count": 36,
   "id": "e2c2c737",
   "metadata": {},
   "outputs": [],
   "source": [
    "rels = [{'origin':x[1]['Provider'],\n",
    "       'target': x[1]['BeneID']} for x in grp.iterrows()]"
   ]
  },
  {
   "cell_type": "code",
   "execution_count": 37,
   "id": "37a6cc33",
   "metadata": {},
   "outputs": [
    {
     "data": {
      "text/plain": [
       "363300"
      ]
     },
     "execution_count": 37,
     "metadata": {},
     "output_type": "execute_result"
    }
   ],
   "source": [
    "len(rels)"
   ]
  },
  {
   "cell_type": "code",
   "execution_count": 38,
   "id": "8ff4d627",
   "metadata": {},
   "outputs": [
    {
     "data": {
      "text/html": [
       "(No data)"
      ],
      "text/plain": [
       "(No data)"
      ]
     },
     "execution_count": 38,
     "metadata": {},
     "output_type": "execute_result"
    }
   ],
   "source": [
    "query = \"\"\"\n",
    "    UNWIND $rels AS rel\n",
    "    MATCH (e1:Provider {idx: rel.origin})\n",
    "    MATCH (e2:Beneficiary {idx: rel.target}) \n",
    "    MERGE (e1)-[m:HAS_BENEFICIARY]->(e2)\"\"\"\n",
    "\n",
    "db.run(query, {\"rels\":rels})"
   ]
  },
  {
   "cell_type": "markdown",
   "id": "f44e54a9",
   "metadata": {},
   "source": [
    "## Race nodes"
   ]
  },
  {
   "cell_type": "code",
   "execution_count": 39,
   "id": "f12b1f7b",
   "metadata": {},
   "outputs": [],
   "source": [
    "races= list(df.Race.unique())"
   ]
  },
  {
   "cell_type": "code",
   "execution_count": 40,
   "id": "3e8a1713",
   "metadata": {},
   "outputs": [
    {
     "data": {
      "text/plain": [
       "[1, 2, 3, 5]"
      ]
     },
     "execution_count": 40,
     "metadata": {},
     "output_type": "execute_result"
    }
   ],
   "source": [
    "races"
   ]
  },
  {
   "cell_type": "code",
   "execution_count": 41,
   "id": "7ab10e84",
   "metadata": {},
   "outputs": [],
   "source": [
    "rs = [{\"race\": int(x),\n",
    "     \"idx\": i}  for (i,x) in enumerate(races)]"
   ]
  },
  {
   "cell_type": "code",
   "execution_count": 42,
   "id": "586fd9ad",
   "metadata": {},
   "outputs": [
    {
     "data": {
      "text/plain": [
       "[{'race': 1, 'idx': 0},\n",
       " {'race': 2, 'idx': 1},\n",
       " {'race': 3, 'idx': 2},\n",
       " {'race': 5, 'idx': 3}]"
      ]
     },
     "execution_count": 42,
     "metadata": {},
     "output_type": "execute_result"
    }
   ],
   "source": [
    "rs"
   ]
  },
  {
   "cell_type": "code",
   "execution_count": 43,
   "id": "6cccfa96",
   "metadata": {},
   "outputs": [],
   "source": [
    "query=\"\"\" CREATE CONSTRAINT ON (r:Race) ASSERT r.idx is UNIQUE \"\"\""
   ]
  },
  {
   "cell_type": "code",
   "execution_count": 44,
   "id": "6d804952",
   "metadata": {},
   "outputs": [
    {
     "data": {
      "text/html": [
       "(No data)"
      ],
      "text/plain": [
       "(No data)"
      ]
     },
     "execution_count": 44,
     "metadata": {},
     "output_type": "execute_result"
    }
   ],
   "source": [
    "db.run(query)"
   ]
  },
  {
   "cell_type": "code",
   "execution_count": 45,
   "id": "e45ba5b5",
   "metadata": {},
   "outputs": [
    {
     "data": {
      "text/html": [
       "(No data)"
      ],
      "text/plain": [
       "(No data)"
      ]
     },
     "execution_count": 45,
     "metadata": {},
     "output_type": "execute_result"
    }
   ],
   "source": [
    "query = \"\"\"\n",
    "    UNWIND $rs AS r\n",
    "    MERGE (b:Race {idx: r.idx, race: r.race})\n",
    "        \"\"\"\n",
    "db.run(query, {\"rs\":rs})"
   ]
  },
  {
   "cell_type": "code",
   "execution_count": 46,
   "id": "26ef4d77",
   "metadata": {},
   "outputs": [
    {
     "data": {
      "text/html": [
       "<table><tr><th>r</th></tr><tr><td style=\"text-align:left\">(_143966:Race {idx: 0, race: 1})</td></tr><tr><td style=\"text-align:left\">(_143967:Race {idx: 1, race: 2})</td></tr><tr><td style=\"text-align:left\">(_143968:Race {idx: 2, race: 3})</td></tr><tr><td style=\"text-align:left\">(_143969:Race {idx: 3, race: 5})</td></tr></table>"
      ],
      "text/plain": [
       " r                                \n",
       "----------------------------------\n",
       " (_143966:Race {idx: 0, race: 1}) \n",
       " (_143967:Race {idx: 1, race: 2}) \n",
       " (_143968:Race {idx: 2, race: 3}) \n",
       " (_143969:Race {idx: 3, race: 5}) "
      ]
     },
     "execution_count": 46,
     "metadata": {},
     "output_type": "execute_result"
    }
   ],
   "source": [
    "query = \"\"\"\n",
    "    MATCH (r:Race)\n",
    "    RETURN * \"\"\"\n",
    "db.run(query).to_table()"
   ]
  },
  {
   "cell_type": "markdown",
   "id": "adfbeaed",
   "metadata": {},
   "source": [
    "## (Beneficiary)-[:HAS_RACE]->(Race)"
   ]
  },
  {
   "cell_type": "code",
   "execution_count": 47,
   "id": "31a7940d",
   "metadata": {},
   "outputs": [],
   "source": [
    "grp=df[['BeneID','Race']]"
   ]
  },
  {
   "cell_type": "code",
   "execution_count": 48,
   "id": "98d87804",
   "metadata": {
    "scrolled": true
   },
   "outputs": [
    {
     "data": {
      "text/html": [
       "<div>\n",
       "<style scoped>\n",
       "    .dataframe tbody tr th:only-of-type {\n",
       "        vertical-align: middle;\n",
       "    }\n",
       "\n",
       "    .dataframe tbody tr th {\n",
       "        vertical-align: top;\n",
       "    }\n",
       "\n",
       "    .dataframe thead th {\n",
       "        text-align: right;\n",
       "    }\n",
       "</style>\n",
       "<table border=\"1\" class=\"dataframe\">\n",
       "  <thead>\n",
       "    <tr style=\"text-align: right;\">\n",
       "      <th></th>\n",
       "      <th>BeneID</th>\n",
       "      <th>Race</th>\n",
       "    </tr>\n",
       "  </thead>\n",
       "  <tbody>\n",
       "    <tr>\n",
       "      <th>0</th>\n",
       "      <td>BENE11001</td>\n",
       "      <td>1</td>\n",
       "    </tr>\n",
       "    <tr>\n",
       "      <th>1</th>\n",
       "      <td>BENE11002</td>\n",
       "      <td>1</td>\n",
       "    </tr>\n",
       "    <tr>\n",
       "      <th>2</th>\n",
       "      <td>BENE11003</td>\n",
       "      <td>1</td>\n",
       "    </tr>\n",
       "    <tr>\n",
       "      <th>3</th>\n",
       "      <td>BENE11004</td>\n",
       "      <td>1</td>\n",
       "    </tr>\n",
       "    <tr>\n",
       "      <th>4</th>\n",
       "      <td>BENE11005</td>\n",
       "      <td>1</td>\n",
       "    </tr>\n",
       "    <tr>\n",
       "      <th>...</th>\n",
       "      <td>...</td>\n",
       "      <td>...</td>\n",
       "    </tr>\n",
       "    <tr>\n",
       "      <th>138551</th>\n",
       "      <td>BENE159194</td>\n",
       "      <td>1</td>\n",
       "    </tr>\n",
       "    <tr>\n",
       "      <th>138552</th>\n",
       "      <td>BENE159195</td>\n",
       "      <td>1</td>\n",
       "    </tr>\n",
       "    <tr>\n",
       "      <th>138553</th>\n",
       "      <td>BENE159196</td>\n",
       "      <td>1</td>\n",
       "    </tr>\n",
       "    <tr>\n",
       "      <th>138554</th>\n",
       "      <td>BENE159197</td>\n",
       "      <td>1</td>\n",
       "    </tr>\n",
       "    <tr>\n",
       "      <th>138555</th>\n",
       "      <td>BENE159198</td>\n",
       "      <td>1</td>\n",
       "    </tr>\n",
       "  </tbody>\n",
       "</table>\n",
       "<p>138556 rows × 2 columns</p>\n",
       "</div>"
      ],
      "text/plain": [
       "            BeneID  Race\n",
       "0        BENE11001     1\n",
       "1        BENE11002     1\n",
       "2        BENE11003     1\n",
       "3        BENE11004     1\n",
       "4        BENE11005     1\n",
       "...            ...   ...\n",
       "138551  BENE159194     1\n",
       "138552  BENE159195     1\n",
       "138553  BENE159196     1\n",
       "138554  BENE159197     1\n",
       "138555  BENE159198     1\n",
       "\n",
       "[138556 rows x 2 columns]"
      ]
     },
     "execution_count": 48,
     "metadata": {},
     "output_type": "execute_result"
    }
   ],
   "source": [
    "grp"
   ]
  },
  {
   "cell_type": "code",
   "execution_count": 49,
   "id": "61cf6756",
   "metadata": {},
   "outputs": [],
   "source": [
    "rels = [{'origin': x[1]['BeneID'],\n",
    "       'target':  x[1]['Race']} for x in grp.iterrows()]"
   ]
  },
  {
   "cell_type": "code",
   "execution_count": 50,
   "id": "8eb03603",
   "metadata": {},
   "outputs": [
    {
     "data": {
      "text/html": [
       "(No data)"
      ],
      "text/plain": [
       "(No data)"
      ]
     },
     "execution_count": 50,
     "metadata": {},
     "output_type": "execute_result"
    }
   ],
   "source": [
    "query = \"\"\"\n",
    "    UNWIND $rels AS rel\n",
    "    MATCH (e1:Beneficiary {idx: rel.origin})\n",
    "    MATCH (e2:Race {idx: rel.target}) \n",
    "    MERGE (e1)-[m:HAS_RACE]->(e2)\"\"\"\n",
    "\n",
    "db.run(query, {\"rels\":rels})"
   ]
  },
  {
   "cell_type": "markdown",
   "id": "fc306470",
   "metadata": {},
   "source": [
    "## Gender"
   ]
  },
  {
   "cell_type": "code",
   "execution_count": 51,
   "id": "f95e354e",
   "metadata": {},
   "outputs": [],
   "source": [
    "genders=list(df.Gender.unique())"
   ]
  },
  {
   "cell_type": "code",
   "execution_count": 52,
   "id": "4f83c002",
   "metadata": {},
   "outputs": [
    {
     "data": {
      "text/plain": [
       "[1, 2]"
      ]
     },
     "execution_count": 52,
     "metadata": {},
     "output_type": "execute_result"
    }
   ],
   "source": [
    "genders"
   ]
  },
  {
   "cell_type": "code",
   "execution_count": 53,
   "id": "cfa46860",
   "metadata": {},
   "outputs": [],
   "source": [
    "gs = [{\"gender\": int(x),\n",
    "     \"idx\" : i} for (i,x) in enumerate(genders)]"
   ]
  },
  {
   "cell_type": "code",
   "execution_count": 54,
   "id": "cb8982bf",
   "metadata": {},
   "outputs": [
    {
     "data": {
      "text/plain": [
       "[{'gender': 1, 'idx': 0}, {'gender': 2, 'idx': 1}]"
      ]
     },
     "execution_count": 54,
     "metadata": {},
     "output_type": "execute_result"
    }
   ],
   "source": [
    "gs"
   ]
  },
  {
   "cell_type": "code",
   "execution_count": 55,
   "id": "5f9bb64d",
   "metadata": {},
   "outputs": [],
   "source": [
    "query=\"\"\"CREATE CONSTRAINT ON (n:Gender) ASSERT n.idx IS UNIQUE\"\"\""
   ]
  },
  {
   "cell_type": "code",
   "execution_count": 56,
   "id": "11508859",
   "metadata": {},
   "outputs": [
    {
     "data": {
      "text/html": [
       "(No data)"
      ],
      "text/plain": [
       "(No data)"
      ]
     },
     "execution_count": 56,
     "metadata": {},
     "output_type": "execute_result"
    }
   ],
   "source": [
    "db.run(query)"
   ]
  },
  {
   "cell_type": "code",
   "execution_count": 57,
   "id": "b5a2a9c9",
   "metadata": {},
   "outputs": [
    {
     "data": {
      "text/html": [
       "(No data)"
      ],
      "text/plain": [
       "(No data)"
      ]
     },
     "execution_count": 57,
     "metadata": {},
     "output_type": "execute_result"
    }
   ],
   "source": [
    "query = \"\"\"\n",
    "    UNWIND $gs AS g\n",
    "    MERGE (b:Gender {idx: g.idx, gender: g.gender})\n",
    "        \"\"\"\n",
    "db.run(query, {\"gs\":gs})"
   ]
  },
  {
   "cell_type": "markdown",
   "id": "238c0153",
   "metadata": {},
   "source": [
    "## (Beneficiary)-[:HAS_GENDER]->(Gender)"
   ]
  },
  {
   "cell_type": "code",
   "execution_count": 58,
   "id": "a9bff31c",
   "metadata": {},
   "outputs": [],
   "source": [
    "grp=df[['BeneID','Gender']]"
   ]
  },
  {
   "cell_type": "code",
   "execution_count": 59,
   "id": "fa3682ea",
   "metadata": {},
   "outputs": [
    {
     "data": {
      "text/html": [
       "<div>\n",
       "<style scoped>\n",
       "    .dataframe tbody tr th:only-of-type {\n",
       "        vertical-align: middle;\n",
       "    }\n",
       "\n",
       "    .dataframe tbody tr th {\n",
       "        vertical-align: top;\n",
       "    }\n",
       "\n",
       "    .dataframe thead th {\n",
       "        text-align: right;\n",
       "    }\n",
       "</style>\n",
       "<table border=\"1\" class=\"dataframe\">\n",
       "  <thead>\n",
       "    <tr style=\"text-align: right;\">\n",
       "      <th></th>\n",
       "      <th>BeneID</th>\n",
       "      <th>Gender</th>\n",
       "    </tr>\n",
       "  </thead>\n",
       "  <tbody>\n",
       "    <tr>\n",
       "      <th>0</th>\n",
       "      <td>BENE11001</td>\n",
       "      <td>1</td>\n",
       "    </tr>\n",
       "    <tr>\n",
       "      <th>1</th>\n",
       "      <td>BENE11002</td>\n",
       "      <td>2</td>\n",
       "    </tr>\n",
       "    <tr>\n",
       "      <th>2</th>\n",
       "      <td>BENE11003</td>\n",
       "      <td>1</td>\n",
       "    </tr>\n",
       "    <tr>\n",
       "      <th>3</th>\n",
       "      <td>BENE11004</td>\n",
       "      <td>1</td>\n",
       "    </tr>\n",
       "    <tr>\n",
       "      <th>4</th>\n",
       "      <td>BENE11005</td>\n",
       "      <td>1</td>\n",
       "    </tr>\n",
       "    <tr>\n",
       "      <th>...</th>\n",
       "      <td>...</td>\n",
       "      <td>...</td>\n",
       "    </tr>\n",
       "    <tr>\n",
       "      <th>138551</th>\n",
       "      <td>BENE159194</td>\n",
       "      <td>1</td>\n",
       "    </tr>\n",
       "    <tr>\n",
       "      <th>138552</th>\n",
       "      <td>BENE159195</td>\n",
       "      <td>2</td>\n",
       "    </tr>\n",
       "    <tr>\n",
       "      <th>138553</th>\n",
       "      <td>BENE159196</td>\n",
       "      <td>2</td>\n",
       "    </tr>\n",
       "    <tr>\n",
       "      <th>138554</th>\n",
       "      <td>BENE159197</td>\n",
       "      <td>1</td>\n",
       "    </tr>\n",
       "    <tr>\n",
       "      <th>138555</th>\n",
       "      <td>BENE159198</td>\n",
       "      <td>2</td>\n",
       "    </tr>\n",
       "  </tbody>\n",
       "</table>\n",
       "<p>138556 rows × 2 columns</p>\n",
       "</div>"
      ],
      "text/plain": [
       "            BeneID  Gender\n",
       "0        BENE11001       1\n",
       "1        BENE11002       2\n",
       "2        BENE11003       1\n",
       "3        BENE11004       1\n",
       "4        BENE11005       1\n",
       "...            ...     ...\n",
       "138551  BENE159194       1\n",
       "138552  BENE159195       2\n",
       "138553  BENE159196       2\n",
       "138554  BENE159197       1\n",
       "138555  BENE159198       2\n",
       "\n",
       "[138556 rows x 2 columns]"
      ]
     },
     "execution_count": 59,
     "metadata": {},
     "output_type": "execute_result"
    }
   ],
   "source": [
    "grp"
   ]
  },
  {
   "cell_type": "code",
   "execution_count": 60,
   "id": "26ed6496",
   "metadata": {},
   "outputs": [],
   "source": [
    "rels = [{'origin': x[1]['BeneID'],\n",
    "       'target':  x[1]['Gender']} for x in grp.iterrows()]"
   ]
  },
  {
   "cell_type": "code",
   "execution_count": 61,
   "id": "99c5bdcf",
   "metadata": {},
   "outputs": [
    {
     "data": {
      "text/html": [
       "(No data)"
      ],
      "text/plain": [
       "(No data)"
      ]
     },
     "execution_count": 61,
     "metadata": {},
     "output_type": "execute_result"
    }
   ],
   "source": [
    "query = \"\"\"\n",
    "    UNWIND $rels AS rel\n",
    "    MATCH (e1:Beneficiary {idx: rel.origin})\n",
    "    MATCH (e2:Gender {idx: rel.target}) \n",
    "    MERGE (e1)-[m:HAS_GENDER]->(e2)\"\"\"\n",
    "\n",
    "db.run(query, {\"rels\":rels})"
   ]
  },
  {
   "cell_type": "markdown",
   "id": "fb14acfc",
   "metadata": {},
   "source": [
    "## State"
   ]
  },
  {
   "cell_type": "code",
   "execution_count": 62,
   "id": "93666ba2",
   "metadata": {},
   "outputs": [],
   "source": [
    "states=list(df.State.unique())"
   ]
  },
  {
   "cell_type": "code",
   "execution_count": 63,
   "id": "524667bd",
   "metadata": {},
   "outputs": [],
   "source": [
    "sts = [{\"state\": int(x),\n",
    "     \"idx\" : i} for (i,x) in enumerate(states)]"
   ]
  },
  {
   "cell_type": "code",
   "execution_count": 64,
   "id": "9d1349f8",
   "metadata": {},
   "outputs": [],
   "source": [
    "query=\"\"\"CREATE CONSTRAINT ON (n:State) ASSERT n.idx IS UNIQUE\"\"\""
   ]
  },
  {
   "cell_type": "code",
   "execution_count": 65,
   "id": "9ee619c8",
   "metadata": {},
   "outputs": [
    {
     "data": {
      "text/html": [
       "(No data)"
      ],
      "text/plain": [
       "(No data)"
      ]
     },
     "execution_count": 65,
     "metadata": {},
     "output_type": "execute_result"
    }
   ],
   "source": [
    "db.run(query)"
   ]
  },
  {
   "cell_type": "code",
   "execution_count": 66,
   "id": "5d74e53d",
   "metadata": {},
   "outputs": [
    {
     "data": {
      "text/html": [
       "(No data)"
      ],
      "text/plain": [
       "(No data)"
      ]
     },
     "execution_count": 66,
     "metadata": {},
     "output_type": "execute_result"
    }
   ],
   "source": [
    "query = \"\"\"\n",
    "    UNWIND $sts AS st\n",
    "    MERGE (b:State {idx: st.idx, state: st.state})\n",
    "        \"\"\"\n",
    "db.run(query, {\"sts\":sts})"
   ]
  },
  {
   "cell_type": "markdown",
   "id": "380249d9",
   "metadata": {},
   "source": [
    "## (Beneficiary)-[:HOME_STATE]->(STATE)"
   ]
  },
  {
   "cell_type": "code",
   "execution_count": 67,
   "id": "f5bd3a07",
   "metadata": {},
   "outputs": [],
   "source": [
    "grp=df[['BeneID','State']]"
   ]
  },
  {
   "cell_type": "code",
   "execution_count": 68,
   "id": "7c1a8686",
   "metadata": {},
   "outputs": [
    {
     "data": {
      "text/html": [
       "<div>\n",
       "<style scoped>\n",
       "    .dataframe tbody tr th:only-of-type {\n",
       "        vertical-align: middle;\n",
       "    }\n",
       "\n",
       "    .dataframe tbody tr th {\n",
       "        vertical-align: top;\n",
       "    }\n",
       "\n",
       "    .dataframe thead th {\n",
       "        text-align: right;\n",
       "    }\n",
       "</style>\n",
       "<table border=\"1\" class=\"dataframe\">\n",
       "  <thead>\n",
       "    <tr style=\"text-align: right;\">\n",
       "      <th></th>\n",
       "      <th>BeneID</th>\n",
       "      <th>State</th>\n",
       "    </tr>\n",
       "  </thead>\n",
       "  <tbody>\n",
       "    <tr>\n",
       "      <th>0</th>\n",
       "      <td>BENE11001</td>\n",
       "      <td>39</td>\n",
       "    </tr>\n",
       "    <tr>\n",
       "      <th>1</th>\n",
       "      <td>BENE11002</td>\n",
       "      <td>39</td>\n",
       "    </tr>\n",
       "    <tr>\n",
       "      <th>2</th>\n",
       "      <td>BENE11003</td>\n",
       "      <td>52</td>\n",
       "    </tr>\n",
       "    <tr>\n",
       "      <th>3</th>\n",
       "      <td>BENE11004</td>\n",
       "      <td>39</td>\n",
       "    </tr>\n",
       "    <tr>\n",
       "      <th>4</th>\n",
       "      <td>BENE11005</td>\n",
       "      <td>24</td>\n",
       "    </tr>\n",
       "    <tr>\n",
       "      <th>...</th>\n",
       "      <td>...</td>\n",
       "      <td>...</td>\n",
       "    </tr>\n",
       "    <tr>\n",
       "      <th>138551</th>\n",
       "      <td>BENE159194</td>\n",
       "      <td>39</td>\n",
       "    </tr>\n",
       "    <tr>\n",
       "      <th>138552</th>\n",
       "      <td>BENE159195</td>\n",
       "      <td>49</td>\n",
       "    </tr>\n",
       "    <tr>\n",
       "      <th>138553</th>\n",
       "      <td>BENE159196</td>\n",
       "      <td>6</td>\n",
       "    </tr>\n",
       "    <tr>\n",
       "      <th>138554</th>\n",
       "      <td>BENE159197</td>\n",
       "      <td>16</td>\n",
       "    </tr>\n",
       "    <tr>\n",
       "      <th>138555</th>\n",
       "      <td>BENE159198</td>\n",
       "      <td>21</td>\n",
       "    </tr>\n",
       "  </tbody>\n",
       "</table>\n",
       "<p>138556 rows × 2 columns</p>\n",
       "</div>"
      ],
      "text/plain": [
       "            BeneID  State\n",
       "0        BENE11001     39\n",
       "1        BENE11002     39\n",
       "2        BENE11003     52\n",
       "3        BENE11004     39\n",
       "4        BENE11005     24\n",
       "...            ...    ...\n",
       "138551  BENE159194     39\n",
       "138552  BENE159195     49\n",
       "138553  BENE159196      6\n",
       "138554  BENE159197     16\n",
       "138555  BENE159198     21\n",
       "\n",
       "[138556 rows x 2 columns]"
      ]
     },
     "execution_count": 68,
     "metadata": {},
     "output_type": "execute_result"
    }
   ],
   "source": [
    "grp"
   ]
  },
  {
   "cell_type": "code",
   "execution_count": 69,
   "id": "f19c0d04",
   "metadata": {},
   "outputs": [],
   "source": [
    "rels = [{'origin': x[1]['BeneID'],\n",
    "       'target':  x[1]['State']} for x in grp.iterrows()]"
   ]
  },
  {
   "cell_type": "code",
   "execution_count": 70,
   "id": "74767628",
   "metadata": {},
   "outputs": [
    {
     "data": {
      "text/html": [
       "(No data)"
      ],
      "text/plain": [
       "(No data)"
      ]
     },
     "execution_count": 70,
     "metadata": {},
     "output_type": "execute_result"
    }
   ],
   "source": [
    "query = \"\"\"\n",
    "    UNWIND $rels AS rel\n",
    "    MATCH (e1:Beneficiary {idx: rel.origin})\n",
    "    MATCH (e2:State {idx: rel.target}) \n",
    "    MERGE (e1)-[m:HOME_STATE]->(e2)\"\"\"\n",
    "\n",
    "db.run(query, {\"rels\":rels})"
   ]
  },
  {
   "cell_type": "markdown",
   "id": "8a58db66",
   "metadata": {},
   "source": [
    "## County"
   ]
  },
  {
   "cell_type": "code",
   "execution_count": 71,
   "id": "1f5359bb",
   "metadata": {},
   "outputs": [],
   "source": [
    "counties=list(df.County.unique())"
   ]
  },
  {
   "cell_type": "code",
   "execution_count": 72,
   "id": "6dc6be49",
   "metadata": {},
   "outputs": [],
   "source": [
    "cts = [{\"county\": int(x),\n",
    "     \"idx\" : i} for (i,x) in enumerate(counties)]"
   ]
  },
  {
   "cell_type": "code",
   "execution_count": 73,
   "id": "244f5080",
   "metadata": {},
   "outputs": [],
   "source": [
    "query=\"\"\"CREATE CONSTRAINT ON (n:County) ASSERT n.idx IS UNIQUE\"\"\""
   ]
  },
  {
   "cell_type": "code",
   "execution_count": 74,
   "id": "27f59fa2",
   "metadata": {},
   "outputs": [
    {
     "data": {
      "text/html": [
       "(No data)"
      ],
      "text/plain": [
       "(No data)"
      ]
     },
     "execution_count": 74,
     "metadata": {},
     "output_type": "execute_result"
    }
   ],
   "source": [
    "db.run(query)"
   ]
  },
  {
   "cell_type": "code",
   "execution_count": 75,
   "id": "884cd2de",
   "metadata": {},
   "outputs": [
    {
     "data": {
      "text/html": [
       "(No data)"
      ],
      "text/plain": [
       "(No data)"
      ]
     },
     "execution_count": 75,
     "metadata": {},
     "output_type": "execute_result"
    }
   ],
   "source": [
    "query = \"\"\"\n",
    "    UNWIND $cts AS ct\n",
    "    MERGE (b:County {idx: ct.idx, county: ct.county})\n",
    "        \"\"\"\n",
    "db.run(query, {\"cts\":cts})"
   ]
  },
  {
   "cell_type": "markdown",
   "id": "2b27f9ba",
   "metadata": {},
   "source": [
    "## (Beneficiary)-[:HOME_COUNTY]->(County)"
   ]
  },
  {
   "cell_type": "code",
   "execution_count": 76,
   "id": "26e0d37a",
   "metadata": {},
   "outputs": [],
   "source": [
    "grp=df[['BeneID','County']]"
   ]
  },
  {
   "cell_type": "code",
   "execution_count": 77,
   "id": "fd369e67",
   "metadata": {},
   "outputs": [
    {
     "data": {
      "text/html": [
       "<div>\n",
       "<style scoped>\n",
       "    .dataframe tbody tr th:only-of-type {\n",
       "        vertical-align: middle;\n",
       "    }\n",
       "\n",
       "    .dataframe tbody tr th {\n",
       "        vertical-align: top;\n",
       "    }\n",
       "\n",
       "    .dataframe thead th {\n",
       "        text-align: right;\n",
       "    }\n",
       "</style>\n",
       "<table border=\"1\" class=\"dataframe\">\n",
       "  <thead>\n",
       "    <tr style=\"text-align: right;\">\n",
       "      <th></th>\n",
       "      <th>BeneID</th>\n",
       "      <th>County</th>\n",
       "    </tr>\n",
       "  </thead>\n",
       "  <tbody>\n",
       "    <tr>\n",
       "      <th>0</th>\n",
       "      <td>BENE11001</td>\n",
       "      <td>230</td>\n",
       "    </tr>\n",
       "    <tr>\n",
       "      <th>1</th>\n",
       "      <td>BENE11002</td>\n",
       "      <td>280</td>\n",
       "    </tr>\n",
       "    <tr>\n",
       "      <th>2</th>\n",
       "      <td>BENE11003</td>\n",
       "      <td>590</td>\n",
       "    </tr>\n",
       "    <tr>\n",
       "      <th>3</th>\n",
       "      <td>BENE11004</td>\n",
       "      <td>270</td>\n",
       "    </tr>\n",
       "    <tr>\n",
       "      <th>4</th>\n",
       "      <td>BENE11005</td>\n",
       "      <td>680</td>\n",
       "    </tr>\n",
       "    <tr>\n",
       "      <th>...</th>\n",
       "      <td>...</td>\n",
       "      <td>...</td>\n",
       "    </tr>\n",
       "    <tr>\n",
       "      <th>138551</th>\n",
       "      <td>BENE159194</td>\n",
       "      <td>140</td>\n",
       "    </tr>\n",
       "    <tr>\n",
       "      <th>138552</th>\n",
       "      <td>BENE159195</td>\n",
       "      <td>530</td>\n",
       "    </tr>\n",
       "    <tr>\n",
       "      <th>138553</th>\n",
       "      <td>BENE159196</td>\n",
       "      <td>150</td>\n",
       "    </tr>\n",
       "    <tr>\n",
       "      <th>138554</th>\n",
       "      <td>BENE159197</td>\n",
       "      <td>560</td>\n",
       "    </tr>\n",
       "    <tr>\n",
       "      <th>138555</th>\n",
       "      <td>BENE159198</td>\n",
       "      <td>20</td>\n",
       "    </tr>\n",
       "  </tbody>\n",
       "</table>\n",
       "<p>138556 rows × 2 columns</p>\n",
       "</div>"
      ],
      "text/plain": [
       "            BeneID  County\n",
       "0        BENE11001     230\n",
       "1        BENE11002     280\n",
       "2        BENE11003     590\n",
       "3        BENE11004     270\n",
       "4        BENE11005     680\n",
       "...            ...     ...\n",
       "138551  BENE159194     140\n",
       "138552  BENE159195     530\n",
       "138553  BENE159196     150\n",
       "138554  BENE159197     560\n",
       "138555  BENE159198      20\n",
       "\n",
       "[138556 rows x 2 columns]"
      ]
     },
     "execution_count": 77,
     "metadata": {},
     "output_type": "execute_result"
    }
   ],
   "source": [
    "grp"
   ]
  },
  {
   "cell_type": "code",
   "execution_count": 78,
   "id": "8ef292d5",
   "metadata": {},
   "outputs": [],
   "source": [
    "rels = [{'origin': x[1]['BeneID'],\n",
    "       'target':  x[1]['County']} for x in grp.iterrows()]"
   ]
  },
  {
   "cell_type": "code",
   "execution_count": 79,
   "id": "af7e9b56",
   "metadata": {},
   "outputs": [
    {
     "data": {
      "text/html": [
       "(No data)"
      ],
      "text/plain": [
       "(No data)"
      ]
     },
     "execution_count": 79,
     "metadata": {},
     "output_type": "execute_result"
    }
   ],
   "source": [
    "query = \"\"\"\n",
    "    UNWIND $rels AS rel\n",
    "    MATCH (e1:Beneficiary {idx: rel.origin})\n",
    "    MATCH (e2:County {idx: rel.target}) \n",
    "    MERGE (e1)-[m:HOME_COUNTY]->(e2)\"\"\"\n",
    "\n",
    "db.run(query, {\"rels\":rels})"
   ]
  },
  {
   "cell_type": "markdown",
   "id": "0948c7ef",
   "metadata": {},
   "source": [
    "## Months_PartA"
   ]
  },
  {
   "cell_type": "code",
   "execution_count": 80,
   "id": "cfe8c069",
   "metadata": {},
   "outputs": [],
   "source": [
    "Amonths=list(df.NoOfMonths_PartACov.unique())"
   ]
  },
  {
   "cell_type": "code",
   "execution_count": 81,
   "id": "7545c506",
   "metadata": {},
   "outputs": [],
   "source": [
    "ams = [{\"Months_PartA\": int(x),\n",
    "     \"idx\" : i} for (i,x) in enumerate(Amonths)]"
   ]
  },
  {
   "cell_type": "code",
   "execution_count": 82,
   "id": "90a42a89",
   "metadata": {},
   "outputs": [],
   "source": [
    "query=\"\"\"CREATE CONSTRAINT ON (n:Months_PartA) ASSERT n.idx IS UNIQUE\"\"\""
   ]
  },
  {
   "cell_type": "code",
   "execution_count": 83,
   "id": "48b06190",
   "metadata": {},
   "outputs": [
    {
     "data": {
      "text/html": [
       "(No data)"
      ],
      "text/plain": [
       "(No data)"
      ]
     },
     "execution_count": 83,
     "metadata": {},
     "output_type": "execute_result"
    }
   ],
   "source": [
    "db.run(query)"
   ]
  },
  {
   "cell_type": "code",
   "execution_count": 84,
   "id": "e864a0b2",
   "metadata": {},
   "outputs": [
    {
     "data": {
      "text/html": [
       "(No data)"
      ],
      "text/plain": [
       "(No data)"
      ]
     },
     "execution_count": 84,
     "metadata": {},
     "output_type": "execute_result"
    }
   ],
   "source": [
    "query = \"\"\"\n",
    "    UNWIND $ams AS am\n",
    "    MERGE (b:Months_PartA {idx: am.idx, Months_PartA: am.Months_PartA})\n",
    "        \"\"\"\n",
    "db.run(query, {\"ams\":ams})"
   ]
  },
  {
   "cell_type": "markdown",
   "id": "ad29bf8b",
   "metadata": {},
   "source": [
    "## (Beneficiary)-[:HAS_COVERAGE_A]->(Months_PartA)"
   ]
  },
  {
   "cell_type": "code",
   "execution_count": 85,
   "id": "963e2916",
   "metadata": {},
   "outputs": [],
   "source": [
    "grp=df[['BeneID','NoOfMonths_PartACov']]"
   ]
  },
  {
   "cell_type": "code",
   "execution_count": 86,
   "id": "8f7d5dcb",
   "metadata": {},
   "outputs": [
    {
     "data": {
      "text/html": [
       "<div>\n",
       "<style scoped>\n",
       "    .dataframe tbody tr th:only-of-type {\n",
       "        vertical-align: middle;\n",
       "    }\n",
       "\n",
       "    .dataframe tbody tr th {\n",
       "        vertical-align: top;\n",
       "    }\n",
       "\n",
       "    .dataframe thead th {\n",
       "        text-align: right;\n",
       "    }\n",
       "</style>\n",
       "<table border=\"1\" class=\"dataframe\">\n",
       "  <thead>\n",
       "    <tr style=\"text-align: right;\">\n",
       "      <th></th>\n",
       "      <th>BeneID</th>\n",
       "      <th>NoOfMonths_PartACov</th>\n",
       "    </tr>\n",
       "  </thead>\n",
       "  <tbody>\n",
       "    <tr>\n",
       "      <th>0</th>\n",
       "      <td>BENE11001</td>\n",
       "      <td>12</td>\n",
       "    </tr>\n",
       "    <tr>\n",
       "      <th>1</th>\n",
       "      <td>BENE11002</td>\n",
       "      <td>12</td>\n",
       "    </tr>\n",
       "    <tr>\n",
       "      <th>2</th>\n",
       "      <td>BENE11003</td>\n",
       "      <td>12</td>\n",
       "    </tr>\n",
       "    <tr>\n",
       "      <th>3</th>\n",
       "      <td>BENE11004</td>\n",
       "      <td>12</td>\n",
       "    </tr>\n",
       "    <tr>\n",
       "      <th>4</th>\n",
       "      <td>BENE11005</td>\n",
       "      <td>12</td>\n",
       "    </tr>\n",
       "    <tr>\n",
       "      <th>...</th>\n",
       "      <td>...</td>\n",
       "      <td>...</td>\n",
       "    </tr>\n",
       "    <tr>\n",
       "      <th>138551</th>\n",
       "      <td>BENE159194</td>\n",
       "      <td>12</td>\n",
       "    </tr>\n",
       "    <tr>\n",
       "      <th>138552</th>\n",
       "      <td>BENE159195</td>\n",
       "      <td>12</td>\n",
       "    </tr>\n",
       "    <tr>\n",
       "      <th>138553</th>\n",
       "      <td>BENE159196</td>\n",
       "      <td>12</td>\n",
       "    </tr>\n",
       "    <tr>\n",
       "      <th>138554</th>\n",
       "      <td>BENE159197</td>\n",
       "      <td>12</td>\n",
       "    </tr>\n",
       "    <tr>\n",
       "      <th>138555</th>\n",
       "      <td>BENE159198</td>\n",
       "      <td>12</td>\n",
       "    </tr>\n",
       "  </tbody>\n",
       "</table>\n",
       "<p>138556 rows × 2 columns</p>\n",
       "</div>"
      ],
      "text/plain": [
       "            BeneID  NoOfMonths_PartACov\n",
       "0        BENE11001                   12\n",
       "1        BENE11002                   12\n",
       "2        BENE11003                   12\n",
       "3        BENE11004                   12\n",
       "4        BENE11005                   12\n",
       "...            ...                  ...\n",
       "138551  BENE159194                   12\n",
       "138552  BENE159195                   12\n",
       "138553  BENE159196                   12\n",
       "138554  BENE159197                   12\n",
       "138555  BENE159198                   12\n",
       "\n",
       "[138556 rows x 2 columns]"
      ]
     },
     "execution_count": 86,
     "metadata": {},
     "output_type": "execute_result"
    }
   ],
   "source": [
    "grp"
   ]
  },
  {
   "cell_type": "code",
   "execution_count": 87,
   "id": "54ef21db",
   "metadata": {},
   "outputs": [],
   "source": [
    "rels = [{'origin': x[1]['BeneID'],\n",
    "       'target':  x[1]['NoOfMonths_PartACov']} for x in grp.iterrows()]"
   ]
  },
  {
   "cell_type": "code",
   "execution_count": 88,
   "id": "f5da0aa5",
   "metadata": {},
   "outputs": [
    {
     "data": {
      "text/html": [
       "(No data)"
      ],
      "text/plain": [
       "(No data)"
      ]
     },
     "execution_count": 88,
     "metadata": {},
     "output_type": "execute_result"
    }
   ],
   "source": [
    "query = \"\"\"\n",
    "    UNWIND $rels AS rel\n",
    "    MATCH (e1:Beneficiary {idx: rel.origin})\n",
    "    MATCH (e2:Months_PartA {idx: rel.target}) \n",
    "    MERGE (e1)-[m:HAS_COVERAGE_A]->(e2)\"\"\"\n",
    "\n",
    "db.run(query, {\"rels\":rels})"
   ]
  },
  {
   "cell_type": "markdown",
   "id": "5d276abd",
   "metadata": {},
   "source": [
    "## Months_PartB"
   ]
  },
  {
   "cell_type": "code",
   "execution_count": 89,
   "id": "7970e89d",
   "metadata": {},
   "outputs": [],
   "source": [
    "Bmonths=list(df.NoOfMonths_PartBCov.unique())"
   ]
  },
  {
   "cell_type": "code",
   "execution_count": 90,
   "id": "34390588",
   "metadata": {},
   "outputs": [],
   "source": [
    "bms = [{\"Months_PartB\": int(x),\n",
    "     \"idx\" : i} for (i,x) in enumerate(Bmonths)]"
   ]
  },
  {
   "cell_type": "code",
   "execution_count": 91,
   "id": "bbecafb4",
   "metadata": {},
   "outputs": [],
   "source": [
    "query=\"\"\"CREATE CONSTRAINT ON (n:Months_PartB) ASSERT n.idx IS UNIQUE\"\"\""
   ]
  },
  {
   "cell_type": "code",
   "execution_count": 92,
   "id": "fa68fcf9",
   "metadata": {},
   "outputs": [
    {
     "data": {
      "text/html": [
       "(No data)"
      ],
      "text/plain": [
       "(No data)"
      ]
     },
     "execution_count": 92,
     "metadata": {},
     "output_type": "execute_result"
    }
   ],
   "source": [
    "db.run(query)"
   ]
  },
  {
   "cell_type": "code",
   "execution_count": 93,
   "id": "583f867c",
   "metadata": {},
   "outputs": [
    {
     "data": {
      "text/html": [
       "(No data)"
      ],
      "text/plain": [
       "(No data)"
      ]
     },
     "execution_count": 93,
     "metadata": {},
     "output_type": "execute_result"
    }
   ],
   "source": [
    "query = \"\"\"\n",
    "    UNWIND $bms AS bm\n",
    "    MERGE (b:Months_PartB {idx: bm.idx, Months_PartB: bm.Months_PartB})\n",
    "        \"\"\"\n",
    "db.run(query, {\"bms\":bms})"
   ]
  },
  {
   "cell_type": "markdown",
   "id": "882cf40d",
   "metadata": {},
   "source": [
    "## (Beneficiary)-[:HAS_COVERAGE_B]->(Months_PartB)"
   ]
  },
  {
   "cell_type": "code",
   "execution_count": 94,
   "id": "d3e1725f",
   "metadata": {},
   "outputs": [],
   "source": [
    "grp=df[['BeneID','NoOfMonths_PartBCov']]"
   ]
  },
  {
   "cell_type": "code",
   "execution_count": 95,
   "id": "048f6655",
   "metadata": {},
   "outputs": [],
   "source": [
    "rels = [{'origin': x[1]['BeneID'],\n",
    "       'target':  x[1]['NoOfMonths_PartBCov']} for x in grp.iterrows()]"
   ]
  },
  {
   "cell_type": "code",
   "execution_count": 96,
   "id": "c49cd427",
   "metadata": {},
   "outputs": [
    {
     "data": {
      "text/html": [
       "(No data)"
      ],
      "text/plain": [
       "(No data)"
      ]
     },
     "execution_count": 96,
     "metadata": {},
     "output_type": "execute_result"
    }
   ],
   "source": [
    "query = \"\"\"\n",
    "    UNWIND $rels AS rel\n",
    "    MATCH (e1:Beneficiary {idx: rel.origin})\n",
    "    MATCH (e2:Months_PartB {idx: rel.target}) \n",
    "    MERGE (e1)-[m:HAS_COVERAGE_B]->(e2)\"\"\"\n",
    "\n",
    "db.run(query, {\"rels\":rels})"
   ]
  },
  {
   "cell_type": "markdown",
   "id": "fa86a394",
   "metadata": {},
   "source": [
    "## RenalDiseaseIndicator"
   ]
  },
  {
   "cell_type": "code",
   "execution_count": 97,
   "id": "9600dfae",
   "metadata": {},
   "outputs": [],
   "source": [
    "renals=list(df.RenalDiseaseIndicator.unique())"
   ]
  },
  {
   "cell_type": "code",
   "execution_count": 98,
   "id": "db16b50e",
   "metadata": {},
   "outputs": [
    {
     "data": {
      "text/plain": [
       "['0', 'Y']"
      ]
     },
     "execution_count": 98,
     "metadata": {},
     "output_type": "execute_result"
    }
   ],
   "source": [
    "renals"
   ]
  },
  {
   "cell_type": "code",
   "execution_count": 99,
   "id": "507e31ec",
   "metadata": {},
   "outputs": [],
   "source": [
    "rns = [{\"Renal_Disease\": x,\n",
    "     \"idx\" : i} for (i,x) in enumerate(renals)]"
   ]
  },
  {
   "cell_type": "code",
   "execution_count": 100,
   "id": "b11116c0",
   "metadata": {},
   "outputs": [],
   "source": [
    "query=\"\"\"CREATE CONSTRAINT ON (n:Renal_Disease) ASSERT n.idx IS UNIQUE\"\"\""
   ]
  },
  {
   "cell_type": "code",
   "execution_count": 101,
   "id": "8150268b",
   "metadata": {},
   "outputs": [
    {
     "data": {
      "text/html": [
       "(No data)"
      ],
      "text/plain": [
       "(No data)"
      ]
     },
     "execution_count": 101,
     "metadata": {},
     "output_type": "execute_result"
    }
   ],
   "source": [
    "db.run(query)"
   ]
  },
  {
   "cell_type": "code",
   "execution_count": 102,
   "id": "4a885734",
   "metadata": {},
   "outputs": [
    {
     "data": {
      "text/html": [
       "(No data)"
      ],
      "text/plain": [
       "(No data)"
      ]
     },
     "execution_count": 102,
     "metadata": {},
     "output_type": "execute_result"
    }
   ],
   "source": [
    "query = \"\"\"\n",
    "    UNWIND $rns AS rn\n",
    "    MERGE (b:Renal_Disease {idx: rn.idx, Renal_Disease: rn.Renal_Disease})\n",
    "        \"\"\"\n",
    "db.run(query, {\"rns\":rns})"
   ]
  },
  {
   "cell_type": "markdown",
   "id": "8586e1fd",
   "metadata": {},
   "source": [
    "## (Beneficiary)-[:HAS_CHRONIC_R]->(Renal_Disease)"
   ]
  },
  {
   "cell_type": "code",
   "execution_count": 103,
   "id": "efbcecc5",
   "metadata": {},
   "outputs": [],
   "source": [
    "grp=df[['BeneID','RenalDiseaseIndicator']]"
   ]
  },
  {
   "cell_type": "code",
   "execution_count": 104,
   "id": "46aa66e4",
   "metadata": {},
   "outputs": [],
   "source": [
    "rels = [{'origin': x[1]['BeneID'],\n",
    "       'target':  x[1]['RenalDiseaseIndicator']} for x in grp.iterrows()]"
   ]
  },
  {
   "cell_type": "code",
   "execution_count": 105,
   "id": "77f091b9",
   "metadata": {},
   "outputs": [
    {
     "data": {
      "text/html": [
       "(No data)"
      ],
      "text/plain": [
       "(No data)"
      ]
     },
     "execution_count": 105,
     "metadata": {},
     "output_type": "execute_result"
    }
   ],
   "source": [
    "query = \"\"\"\n",
    "    UNWIND $rels AS rel\n",
    "    MATCH (e1:Beneficiary {idx: rel.origin})\n",
    "    MATCH (e2:Renal_Disease {idx: rel.target}) \n",
    "    MERGE (e1)-[m:HAS_CHRONIC_R]->(e2)\"\"\"\n",
    "\n",
    "db.run(query, {\"rels\":rels})"
   ]
  },
  {
   "cell_type": "markdown",
   "id": "610570af",
   "metadata": {},
   "source": [
    "## ChronicCond_Alzheimer"
   ]
  },
  {
   "cell_type": "code",
   "execution_count": 106,
   "id": "d7484fe2",
   "metadata": {},
   "outputs": [],
   "source": [
    "alzheimers=list(df.ChronicCond_Alzheimer.unique())"
   ]
  },
  {
   "cell_type": "code",
   "execution_count": 107,
   "id": "30aae242",
   "metadata": {},
   "outputs": [],
   "source": [
    "alzs = [{\"ChronicCond_Alzheimer\": int(x),\n",
    "     \"idx\" : i} for (i,x) in enumerate(alzheimers)]"
   ]
  },
  {
   "cell_type": "code",
   "execution_count": 108,
   "id": "a5e14dd1",
   "metadata": {},
   "outputs": [],
   "source": [
    "query=\"\"\"CREATE CONSTRAINT ON (n:ChronicCond_Alzheimer) ASSERT n.idx IS UNIQUE\"\"\""
   ]
  },
  {
   "cell_type": "code",
   "execution_count": 109,
   "id": "f1a3a618",
   "metadata": {},
   "outputs": [
    {
     "data": {
      "text/html": [
       "(No data)"
      ],
      "text/plain": [
       "(No data)"
      ]
     },
     "execution_count": 109,
     "metadata": {},
     "output_type": "execute_result"
    }
   ],
   "source": [
    "db.run(query)"
   ]
  },
  {
   "cell_type": "code",
   "execution_count": 110,
   "id": "65fb9d29",
   "metadata": {},
   "outputs": [
    {
     "data": {
      "text/html": [
       "(No data)"
      ],
      "text/plain": [
       "(No data)"
      ]
     },
     "execution_count": 110,
     "metadata": {},
     "output_type": "execute_result"
    }
   ],
   "source": [
    "query = \"\"\"\n",
    "    UNWIND $alzs AS alz\n",
    "    MERGE (b:ChronicCond_Alzheimer {idx: alz.idx, ChronicCond_Alzheimer: alz.ChronicCond_Alzheimer})\n",
    "        \"\"\"\n",
    "db.run(query, {\"alzs\":alzs})"
   ]
  },
  {
   "cell_type": "markdown",
   "id": "72b9ba51",
   "metadata": {},
   "source": [
    "## (Beneficiary)-[:HAS_CHRONIC_A]->(ChronicCond_Alzheimer)"
   ]
  },
  {
   "cell_type": "code",
   "execution_count": 111,
   "id": "05f901c2",
   "metadata": {},
   "outputs": [],
   "source": [
    "grp=df[['BeneID','ChronicCond_Alzheimer']]"
   ]
  },
  {
   "cell_type": "code",
   "execution_count": 112,
   "id": "eb6f51da",
   "metadata": {},
   "outputs": [
    {
     "data": {
      "text/html": [
       "<div>\n",
       "<style scoped>\n",
       "    .dataframe tbody tr th:only-of-type {\n",
       "        vertical-align: middle;\n",
       "    }\n",
       "\n",
       "    .dataframe tbody tr th {\n",
       "        vertical-align: top;\n",
       "    }\n",
       "\n",
       "    .dataframe thead th {\n",
       "        text-align: right;\n",
       "    }\n",
       "</style>\n",
       "<table border=\"1\" class=\"dataframe\">\n",
       "  <thead>\n",
       "    <tr style=\"text-align: right;\">\n",
       "      <th></th>\n",
       "      <th>BeneID</th>\n",
       "      <th>ChronicCond_Alzheimer</th>\n",
       "    </tr>\n",
       "  </thead>\n",
       "  <tbody>\n",
       "    <tr>\n",
       "      <th>0</th>\n",
       "      <td>BENE11001</td>\n",
       "      <td>1</td>\n",
       "    </tr>\n",
       "    <tr>\n",
       "      <th>1</th>\n",
       "      <td>BENE11002</td>\n",
       "      <td>2</td>\n",
       "    </tr>\n",
       "    <tr>\n",
       "      <th>2</th>\n",
       "      <td>BENE11003</td>\n",
       "      <td>1</td>\n",
       "    </tr>\n",
       "    <tr>\n",
       "      <th>3</th>\n",
       "      <td>BENE11004</td>\n",
       "      <td>1</td>\n",
       "    </tr>\n",
       "    <tr>\n",
       "      <th>4</th>\n",
       "      <td>BENE11005</td>\n",
       "      <td>2</td>\n",
       "    </tr>\n",
       "    <tr>\n",
       "      <th>...</th>\n",
       "      <td>...</td>\n",
       "      <td>...</td>\n",
       "    </tr>\n",
       "    <tr>\n",
       "      <th>138551</th>\n",
       "      <td>BENE159194</td>\n",
       "      <td>1</td>\n",
       "    </tr>\n",
       "    <tr>\n",
       "      <th>138552</th>\n",
       "      <td>BENE159195</td>\n",
       "      <td>1</td>\n",
       "    </tr>\n",
       "    <tr>\n",
       "      <th>138553</th>\n",
       "      <td>BENE159196</td>\n",
       "      <td>2</td>\n",
       "    </tr>\n",
       "    <tr>\n",
       "      <th>138554</th>\n",
       "      <td>BENE159197</td>\n",
       "      <td>1</td>\n",
       "    </tr>\n",
       "    <tr>\n",
       "      <th>138555</th>\n",
       "      <td>BENE159198</td>\n",
       "      <td>1</td>\n",
       "    </tr>\n",
       "  </tbody>\n",
       "</table>\n",
       "<p>138556 rows × 2 columns</p>\n",
       "</div>"
      ],
      "text/plain": [
       "            BeneID  ChronicCond_Alzheimer\n",
       "0        BENE11001                      1\n",
       "1        BENE11002                      2\n",
       "2        BENE11003                      1\n",
       "3        BENE11004                      1\n",
       "4        BENE11005                      2\n",
       "...            ...                    ...\n",
       "138551  BENE159194                      1\n",
       "138552  BENE159195                      1\n",
       "138553  BENE159196                      2\n",
       "138554  BENE159197                      1\n",
       "138555  BENE159198                      1\n",
       "\n",
       "[138556 rows x 2 columns]"
      ]
     },
     "execution_count": 112,
     "metadata": {},
     "output_type": "execute_result"
    }
   ],
   "source": [
    "grp"
   ]
  },
  {
   "cell_type": "code",
   "execution_count": 113,
   "id": "ad790eb5",
   "metadata": {},
   "outputs": [],
   "source": [
    "rels = [{'origin': x[1]['BeneID'],\n",
    "       'target':  x[1]['ChronicCond_Alzheimer']} for x in grp.iterrows()]"
   ]
  },
  {
   "cell_type": "code",
   "execution_count": 114,
   "id": "e5e3cbbf",
   "metadata": {},
   "outputs": [
    {
     "data": {
      "text/html": [
       "(No data)"
      ],
      "text/plain": [
       "(No data)"
      ]
     },
     "execution_count": 114,
     "metadata": {},
     "output_type": "execute_result"
    }
   ],
   "source": [
    "query = \"\"\"\n",
    "    UNWIND $rels AS rel\n",
    "    MATCH (e1:Beneficiary {idx: rel.origin})\n",
    "    MATCH (e2:ChronicCond_Alzheimer {idx: rel.target}) \n",
    "    MERGE (e1)-[m:HAS_CHRONIC_A]->(e2)\"\"\"\n",
    "\n",
    "db.run(query, {\"rels\":rels})"
   ]
  },
  {
   "cell_type": "markdown",
   "id": "7347d730",
   "metadata": {},
   "source": [
    "## ChronicCond_Heartfailure"
   ]
  },
  {
   "cell_type": "code",
   "execution_count": 115,
   "id": "98482d2d",
   "metadata": {},
   "outputs": [],
   "source": [
    "hearts=list(df.ChronicCond_Heartfailure.unique())"
   ]
  },
  {
   "cell_type": "code",
   "execution_count": 116,
   "id": "2d6efe06",
   "metadata": {},
   "outputs": [],
   "source": [
    "hs = [{\"ChronicCond_Heartfailure\": int(x),\n",
    "     \"idx\" : i} for (i,x) in enumerate(hearts)]"
   ]
  },
  {
   "cell_type": "code",
   "execution_count": 117,
   "id": "99c42e0c",
   "metadata": {},
   "outputs": [],
   "source": [
    "query=\"\"\"CREATE CONSTRAINT ON (n:ChronicCond_Heartfailure) ASSERT n.idx IS UNIQUE\"\"\""
   ]
  },
  {
   "cell_type": "code",
   "execution_count": 118,
   "id": "450792ab",
   "metadata": {},
   "outputs": [
    {
     "data": {
      "text/html": [
       "(No data)"
      ],
      "text/plain": [
       "(No data)"
      ]
     },
     "execution_count": 118,
     "metadata": {},
     "output_type": "execute_result"
    }
   ],
   "source": [
    "db.run(query)"
   ]
  },
  {
   "cell_type": "code",
   "execution_count": 119,
   "id": "8b994597",
   "metadata": {},
   "outputs": [
    {
     "data": {
      "text/html": [
       "(No data)"
      ],
      "text/plain": [
       "(No data)"
      ]
     },
     "execution_count": 119,
     "metadata": {},
     "output_type": "execute_result"
    }
   ],
   "source": [
    "query = \"\"\"\n",
    "    UNWIND $hs AS h\n",
    "    MERGE (b:ChronicCond_Heartfailure {idx: h.idx, ChronicCond_Heartfailure: h.ChronicCond_Heartfailure})\n",
    "        \"\"\"\n",
    "db.run(query, {\"hs\":hs})"
   ]
  },
  {
   "cell_type": "markdown",
   "id": "f6b8371a",
   "metadata": {},
   "source": [
    "## (Beneficiary)-[:HAS_CHRONIC_H]->(ChronicCond_Heartfailure)"
   ]
  },
  {
   "cell_type": "code",
   "execution_count": 120,
   "id": "3481de13",
   "metadata": {},
   "outputs": [],
   "source": [
    "grp=df[['BeneID','ChronicCond_Heartfailure']]"
   ]
  },
  {
   "cell_type": "code",
   "execution_count": 121,
   "id": "67c66a2e",
   "metadata": {},
   "outputs": [],
   "source": [
    "rels = [{'origin': x[1]['BeneID'],\n",
    "       'target':  x[1]['ChronicCond_Heartfailure']} for x in grp.iterrows()]"
   ]
  },
  {
   "cell_type": "code",
   "execution_count": 122,
   "id": "7688994e",
   "metadata": {},
   "outputs": [
    {
     "data": {
      "text/html": [
       "(No data)"
      ],
      "text/plain": [
       "(No data)"
      ]
     },
     "execution_count": 122,
     "metadata": {},
     "output_type": "execute_result"
    }
   ],
   "source": [
    "query = \"\"\"\n",
    "    UNWIND $rels AS rel\n",
    "    MATCH (e1:Beneficiary {idx: rel.origin})\n",
    "    MATCH (e2:ChronicCond_Heartfailure {idx: rel.target}) \n",
    "    MERGE (e1)-[m:HAS_CHRONIC_H]->(e2)\"\"\"\n",
    "\n",
    "db.run(query, {\"rels\":rels})"
   ]
  },
  {
   "cell_type": "markdown",
   "id": "26fc7e0e",
   "metadata": {},
   "source": [
    "## ChronicCond_KidneyDisease"
   ]
  },
  {
   "cell_type": "code",
   "execution_count": 123,
   "id": "a92da52a",
   "metadata": {},
   "outputs": [],
   "source": [
    "kidneys=list(df.ChronicCond_KidneyDisease.unique())"
   ]
  },
  {
   "cell_type": "code",
   "execution_count": 124,
   "id": "30a4a4fc",
   "metadata": {},
   "outputs": [],
   "source": [
    "ks = [{\"ChronicCond_KidneyDisease\": int(x),\n",
    "     \"idx\" : i} for (i,x) in enumerate(kidneys)]"
   ]
  },
  {
   "cell_type": "code",
   "execution_count": 125,
   "id": "0895a0a5",
   "metadata": {},
   "outputs": [],
   "source": [
    "query=\"\"\"CREATE CONSTRAINT ON (n:ChronicCond_KidneyDisease) ASSERT n.idx IS UNIQUE\"\"\""
   ]
  },
  {
   "cell_type": "code",
   "execution_count": 126,
   "id": "274873c8",
   "metadata": {},
   "outputs": [
    {
     "data": {
      "text/html": [
       "(No data)"
      ],
      "text/plain": [
       "(No data)"
      ]
     },
     "execution_count": 126,
     "metadata": {},
     "output_type": "execute_result"
    }
   ],
   "source": [
    "db.run(query)"
   ]
  },
  {
   "cell_type": "code",
   "execution_count": 127,
   "id": "0501b76e",
   "metadata": {},
   "outputs": [
    {
     "data": {
      "text/html": [
       "(No data)"
      ],
      "text/plain": [
       "(No data)"
      ]
     },
     "execution_count": 127,
     "metadata": {},
     "output_type": "execute_result"
    }
   ],
   "source": [
    "query = \"\"\"\n",
    "    UNWIND $ks AS k\n",
    "    MERGE (b:ChronicCond_KidneyDisease {idx: k.idx, ChronicCond_KidneyDisease: k.ChronicCond_KidneyDisease})\n",
    "        \"\"\"\n",
    "db.run(query, {\"ks\":ks})"
   ]
  },
  {
   "cell_type": "markdown",
   "id": "d9faeb15",
   "metadata": {},
   "source": [
    "## (Beneficiary)-[:HAS_CHRONIC_K]->(ChronicCond_KidneyDisease)"
   ]
  },
  {
   "cell_type": "code",
   "execution_count": 128,
   "id": "cf835e5a",
   "metadata": {},
   "outputs": [],
   "source": [
    "grp=df[['BeneID','ChronicCond_KidneyDisease']]"
   ]
  },
  {
   "cell_type": "code",
   "execution_count": 129,
   "id": "ae9ed04f",
   "metadata": {},
   "outputs": [],
   "source": [
    "rels = [{'origin': x[1]['BeneID'],\n",
    "       'target':  x[1]['ChronicCond_KidneyDisease']} for x in grp.iterrows()]"
   ]
  },
  {
   "cell_type": "code",
   "execution_count": 130,
   "id": "ebc7ca83",
   "metadata": {},
   "outputs": [
    {
     "data": {
      "text/html": [
       "(No data)"
      ],
      "text/plain": [
       "(No data)"
      ]
     },
     "execution_count": 130,
     "metadata": {},
     "output_type": "execute_result"
    }
   ],
   "source": [
    "query = \"\"\"\n",
    "    UNWIND $rels AS rel\n",
    "    MATCH (e1:Beneficiary {idx: rel.origin})\n",
    "    MATCH (e2:ChronicCond_KidneyDisease {idx: rel.target}) \n",
    "    MERGE (e1)-[m:HAS_CHRONIC_K]->(e2)\"\"\"\n",
    "\n",
    "db.run(query, {\"rels\":rels})"
   ]
  },
  {
   "cell_type": "markdown",
   "id": "c30036cc",
   "metadata": {},
   "source": [
    "## IsFraudulent"
   ]
  },
  {
   "cell_type": "code",
   "execution_count": 55,
   "id": "dc6122cc",
   "metadata": {},
   "outputs": [],
   "source": [
    "providers=pd.read_csv(\"data/Train-1542865627584.csv\")"
   ]
  },
  {
   "cell_type": "code",
   "execution_count": 56,
   "id": "06c12caf",
   "metadata": {},
   "outputs": [
    {
     "data": {
      "text/html": [
       "<div>\n",
       "<style scoped>\n",
       "    .dataframe tbody tr th:only-of-type {\n",
       "        vertical-align: middle;\n",
       "    }\n",
       "\n",
       "    .dataframe tbody tr th {\n",
       "        vertical-align: top;\n",
       "    }\n",
       "\n",
       "    .dataframe thead th {\n",
       "        text-align: right;\n",
       "    }\n",
       "</style>\n",
       "<table border=\"1\" class=\"dataframe\">\n",
       "  <thead>\n",
       "    <tr style=\"text-align: right;\">\n",
       "      <th></th>\n",
       "      <th>Provider</th>\n",
       "      <th>PotentialFraud</th>\n",
       "    </tr>\n",
       "  </thead>\n",
       "  <tbody>\n",
       "    <tr>\n",
       "      <th>0</th>\n",
       "      <td>PRV51001</td>\n",
       "      <td>No</td>\n",
       "    </tr>\n",
       "    <tr>\n",
       "      <th>1</th>\n",
       "      <td>PRV51003</td>\n",
       "      <td>Yes</td>\n",
       "    </tr>\n",
       "    <tr>\n",
       "      <th>2</th>\n",
       "      <td>PRV51004</td>\n",
       "      <td>No</td>\n",
       "    </tr>\n",
       "    <tr>\n",
       "      <th>3</th>\n",
       "      <td>PRV51005</td>\n",
       "      <td>Yes</td>\n",
       "    </tr>\n",
       "    <tr>\n",
       "      <th>4</th>\n",
       "      <td>PRV51007</td>\n",
       "      <td>No</td>\n",
       "    </tr>\n",
       "    <tr>\n",
       "      <th>...</th>\n",
       "      <td>...</td>\n",
       "      <td>...</td>\n",
       "    </tr>\n",
       "    <tr>\n",
       "      <th>5405</th>\n",
       "      <td>PRV57759</td>\n",
       "      <td>No</td>\n",
       "    </tr>\n",
       "    <tr>\n",
       "      <th>5406</th>\n",
       "      <td>PRV57760</td>\n",
       "      <td>No</td>\n",
       "    </tr>\n",
       "    <tr>\n",
       "      <th>5407</th>\n",
       "      <td>PRV57761</td>\n",
       "      <td>No</td>\n",
       "    </tr>\n",
       "    <tr>\n",
       "      <th>5408</th>\n",
       "      <td>PRV57762</td>\n",
       "      <td>No</td>\n",
       "    </tr>\n",
       "    <tr>\n",
       "      <th>5409</th>\n",
       "      <td>PRV57763</td>\n",
       "      <td>No</td>\n",
       "    </tr>\n",
       "  </tbody>\n",
       "</table>\n",
       "<p>5410 rows × 2 columns</p>\n",
       "</div>"
      ],
      "text/plain": [
       "      Provider PotentialFraud\n",
       "0     PRV51001             No\n",
       "1     PRV51003            Yes\n",
       "2     PRV51004             No\n",
       "3     PRV51005            Yes\n",
       "4     PRV51007             No\n",
       "...        ...            ...\n",
       "5405  PRV57759             No\n",
       "5406  PRV57760             No\n",
       "5407  PRV57761             No\n",
       "5408  PRV57762             No\n",
       "5409  PRV57763             No\n",
       "\n",
       "[5410 rows x 2 columns]"
      ]
     },
     "execution_count": 56,
     "metadata": {},
     "output_type": "execute_result"
    }
   ],
   "source": [
    "providers"
   ]
  },
  {
   "cell_type": "code",
   "execution_count": 69,
   "id": "b1c87de6",
   "metadata": {},
   "outputs": [],
   "source": [
    "fraudulents=list(providers.PotentialFraud.unique())"
   ]
  },
  {
   "cell_type": "code",
   "execution_count": 70,
   "id": "efcf1c31",
   "metadata": {},
   "outputs": [
    {
     "data": {
      "text/plain": [
       "['No', 'Yes']"
      ]
     },
     "execution_count": 70,
     "metadata": {},
     "output_type": "execute_result"
    }
   ],
   "source": [
    "fraudulents"
   ]
  },
  {
   "cell_type": "code",
   "execution_count": 71,
   "id": "b670b771",
   "metadata": {},
   "outputs": [],
   "source": [
    "fs = [{\"IsFraudulent\": x,\n",
    "     \"idx\" : i} for (i,x) in enumerate(fraudulents)]"
   ]
  },
  {
   "cell_type": "code",
   "execution_count": 136,
   "id": "5b05d73e",
   "metadata": {},
   "outputs": [],
   "source": [
    "query=\"\"\"CREATE CONSTRAINT ON (n:IsFraudulent) ASSERT n.idx IS UNIQUE\"\"\""
   ]
  },
  {
   "cell_type": "code",
   "execution_count": 137,
   "id": "c6f4ec44",
   "metadata": {},
   "outputs": [
    {
     "data": {
      "text/html": [
       "(No data)"
      ],
      "text/plain": [
       "(No data)"
      ]
     },
     "execution_count": 137,
     "metadata": {},
     "output_type": "execute_result"
    }
   ],
   "source": [
    "db.run(query)"
   ]
  },
  {
   "cell_type": "code",
   "execution_count": 138,
   "id": "46f06521",
   "metadata": {},
   "outputs": [
    {
     "data": {
      "text/html": [
       "(No data)"
      ],
      "text/plain": [
       "(No data)"
      ]
     },
     "execution_count": 138,
     "metadata": {},
     "output_type": "execute_result"
    }
   ],
   "source": [
    "query = \"\"\"\n",
    "    UNWIND $fs AS f\n",
    "    MERGE (b:IsFraudulent {idx: f.idx, IsFraudulent: f.IsFraudulent})\n",
    "        \"\"\"\n",
    "db.run(query, {\"fs\":fs})"
   ]
  },
  {
   "cell_type": "markdown",
   "id": "406b3675",
   "metadata": {},
   "source": [
    "## (Provider)-[:IS_FRAUDULENT]->(IsFraudulent)"
   ]
  },
  {
   "cell_type": "code",
   "execution_count": 57,
   "id": "229452c0",
   "metadata": {},
   "outputs": [
    {
     "data": {
      "text/html": [
       "<div>\n",
       "<style scoped>\n",
       "    .dataframe tbody tr th:only-of-type {\n",
       "        vertical-align: middle;\n",
       "    }\n",
       "\n",
       "    .dataframe tbody tr th {\n",
       "        vertical-align: top;\n",
       "    }\n",
       "\n",
       "    .dataframe thead th {\n",
       "        text-align: right;\n",
       "    }\n",
       "</style>\n",
       "<table border=\"1\" class=\"dataframe\">\n",
       "  <thead>\n",
       "    <tr style=\"text-align: right;\">\n",
       "      <th></th>\n",
       "      <th>Provider</th>\n",
       "      <th>PotentialFraud</th>\n",
       "    </tr>\n",
       "  </thead>\n",
       "  <tbody>\n",
       "    <tr>\n",
       "      <th>0</th>\n",
       "      <td>PRV51001</td>\n",
       "      <td>No</td>\n",
       "    </tr>\n",
       "    <tr>\n",
       "      <th>1</th>\n",
       "      <td>PRV51003</td>\n",
       "      <td>Yes</td>\n",
       "    </tr>\n",
       "    <tr>\n",
       "      <th>2</th>\n",
       "      <td>PRV51004</td>\n",
       "      <td>No</td>\n",
       "    </tr>\n",
       "    <tr>\n",
       "      <th>3</th>\n",
       "      <td>PRV51005</td>\n",
       "      <td>Yes</td>\n",
       "    </tr>\n",
       "    <tr>\n",
       "      <th>4</th>\n",
       "      <td>PRV51007</td>\n",
       "      <td>No</td>\n",
       "    </tr>\n",
       "    <tr>\n",
       "      <th>...</th>\n",
       "      <td>...</td>\n",
       "      <td>...</td>\n",
       "    </tr>\n",
       "    <tr>\n",
       "      <th>5405</th>\n",
       "      <td>PRV57759</td>\n",
       "      <td>No</td>\n",
       "    </tr>\n",
       "    <tr>\n",
       "      <th>5406</th>\n",
       "      <td>PRV57760</td>\n",
       "      <td>No</td>\n",
       "    </tr>\n",
       "    <tr>\n",
       "      <th>5407</th>\n",
       "      <td>PRV57761</td>\n",
       "      <td>No</td>\n",
       "    </tr>\n",
       "    <tr>\n",
       "      <th>5408</th>\n",
       "      <td>PRV57762</td>\n",
       "      <td>No</td>\n",
       "    </tr>\n",
       "    <tr>\n",
       "      <th>5409</th>\n",
       "      <td>PRV57763</td>\n",
       "      <td>No</td>\n",
       "    </tr>\n",
       "  </tbody>\n",
       "</table>\n",
       "<p>5410 rows × 2 columns</p>\n",
       "</div>"
      ],
      "text/plain": [
       "      Provider PotentialFraud\n",
       "0     PRV51001             No\n",
       "1     PRV51003            Yes\n",
       "2     PRV51004             No\n",
       "3     PRV51005            Yes\n",
       "4     PRV51007             No\n",
       "...        ...            ...\n",
       "5405  PRV57759             No\n",
       "5406  PRV57760             No\n",
       "5407  PRV57761             No\n",
       "5408  PRV57762             No\n",
       "5409  PRV57763             No\n",
       "\n",
       "[5410 rows x 2 columns]"
      ]
     },
     "execution_count": 57,
     "metadata": {},
     "output_type": "execute_result"
    }
   ],
   "source": [
    "providers"
   ]
  },
  {
   "cell_type": "code",
   "execution_count": 58,
   "id": "fc95f282",
   "metadata": {},
   "outputs": [],
   "source": [
    "rels = [{'origin': x[1]['Provider'],\n",
    "       'target':  x[1]['PotentialFraud']} for x in providers.iterrows()]"
   ]
  },
  {
   "cell_type": "code",
   "execution_count": 68,
   "id": "98ad64ca",
   "metadata": {},
   "outputs": [
    {
     "data": {
      "text/plain": [
       "[{'origin': 'PRV51001', 'target': 'No'},\n",
       " {'origin': 'PRV51003', 'target': 'Yes'},\n",
       " {'origin': 'PRV51004', 'target': 'No'},\n",
       " {'origin': 'PRV51005', 'target': 'Yes'},\n",
       " {'origin': 'PRV51007', 'target': 'No'},\n",
       " {'origin': 'PRV51008', 'target': 'No'},\n",
       " {'origin': 'PRV51011', 'target': 'No'},\n",
       " {'origin': 'PRV51012', 'target': 'No'},\n",
       " {'origin': 'PRV51013', 'target': 'No'},\n",
       " {'origin': 'PRV51014', 'target': 'No'},\n",
       " {'origin': 'PRV51015', 'target': 'No'},\n",
       " {'origin': 'PRV51016', 'target': 'No'},\n",
       " {'origin': 'PRV51017', 'target': 'No'},\n",
       " {'origin': 'PRV51021', 'target': 'Yes'},\n",
       " {'origin': 'PRV51023', 'target': 'No'},\n",
       " {'origin': 'PRV51024', 'target': 'No'},\n",
       " {'origin': 'PRV51025', 'target': 'No'},\n",
       " {'origin': 'PRV51026', 'target': 'No'},\n",
       " {'origin': 'PRV51027', 'target': 'No'},\n",
       " {'origin': 'PRV51029', 'target': 'No'},\n",
       " {'origin': 'PRV51030', 'target': 'No'},\n",
       " {'origin': 'PRV51031', 'target': 'No'},\n",
       " {'origin': 'PRV51032', 'target': 'No'},\n",
       " {'origin': 'PRV51035', 'target': 'No'},\n",
       " {'origin': 'PRV51036', 'target': 'No'},\n",
       " {'origin': 'PRV51037', 'target': 'Yes'},\n",
       " {'origin': 'PRV51038', 'target': 'No'},\n",
       " {'origin': 'PRV51040', 'target': 'No'},\n",
       " {'origin': 'PRV51041', 'target': 'No'},\n",
       " {'origin': 'PRV51042', 'target': 'No'},\n",
       " {'origin': 'PRV51043', 'target': 'No'},\n",
       " {'origin': 'PRV51044', 'target': 'No'},\n",
       " {'origin': 'PRV51045', 'target': 'No'},\n",
       " {'origin': 'PRV51046', 'target': 'No'},\n",
       " {'origin': 'PRV51047', 'target': 'No'},\n",
       " {'origin': 'PRV51048', 'target': 'No'},\n",
       " {'origin': 'PRV51049', 'target': 'No'},\n",
       " {'origin': 'PRV51052', 'target': 'Yes'},\n",
       " {'origin': 'PRV51053', 'target': 'No'},\n",
       " {'origin': 'PRV51054', 'target': 'No'},\n",
       " {'origin': 'PRV51055', 'target': 'No'},\n",
       " {'origin': 'PRV51056', 'target': 'No'},\n",
       " {'origin': 'PRV51057', 'target': 'No'},\n",
       " {'origin': 'PRV51058', 'target': 'No'},\n",
       " {'origin': 'PRV51059', 'target': 'Yes'},\n",
       " {'origin': 'PRV51060', 'target': 'No'},\n",
       " {'origin': 'PRV51061', 'target': 'No'},\n",
       " {'origin': 'PRV51062', 'target': 'No'},\n",
       " {'origin': 'PRV51063', 'target': 'No'},\n",
       " {'origin': 'PRV51064', 'target': 'Yes'},\n",
       " {'origin': 'PRV51065', 'target': 'No'},\n",
       " {'origin': 'PRV51066', 'target': 'No'},\n",
       " {'origin': 'PRV51067', 'target': 'Yes'},\n",
       " {'origin': 'PRV51068', 'target': 'No'},\n",
       " {'origin': 'PRV51070', 'target': 'No'},\n",
       " {'origin': 'PRV51071', 'target': 'No'},\n",
       " {'origin': 'PRV51072', 'target': 'No'},\n",
       " {'origin': 'PRV51074', 'target': 'No'},\n",
       " {'origin': 'PRV51075', 'target': 'No'},\n",
       " {'origin': 'PRV51076', 'target': 'No'},\n",
       " {'origin': 'PRV51077', 'target': 'Yes'},\n",
       " {'origin': 'PRV51078', 'target': 'No'},\n",
       " {'origin': 'PRV51081', 'target': 'No'},\n",
       " {'origin': 'PRV51082', 'target': 'No'},\n",
       " {'origin': 'PRV51083', 'target': 'No'},\n",
       " {'origin': 'PRV51084', 'target': 'Yes'},\n",
       " {'origin': 'PRV51086', 'target': 'No'},\n",
       " {'origin': 'PRV51089', 'target': 'No'},\n",
       " {'origin': 'PRV51090', 'target': 'No'},\n",
       " {'origin': 'PRV51091', 'target': 'No'},\n",
       " {'origin': 'PRV51093', 'target': 'No'},\n",
       " {'origin': 'PRV51096', 'target': 'No'},\n",
       " {'origin': 'PRV51097', 'target': 'No'},\n",
       " {'origin': 'PRV51098', 'target': 'No'},\n",
       " {'origin': 'PRV51100', 'target': 'No'},\n",
       " {'origin': 'PRV51101', 'target': 'No'},\n",
       " {'origin': 'PRV51102', 'target': 'No'},\n",
       " {'origin': 'PRV51103', 'target': 'Yes'},\n",
       " {'origin': 'PRV51104', 'target': 'No'},\n",
       " {'origin': 'PRV51105', 'target': 'No'},\n",
       " {'origin': 'PRV51108', 'target': 'No'},\n",
       " {'origin': 'PRV51109', 'target': 'No'},\n",
       " {'origin': 'PRV51110', 'target': 'No'},\n",
       " {'origin': 'PRV51111', 'target': 'No'},\n",
       " {'origin': 'PRV51112', 'target': 'No'},\n",
       " {'origin': 'PRV51113', 'target': 'No'},\n",
       " {'origin': 'PRV51114', 'target': 'No'},\n",
       " {'origin': 'PRV51115', 'target': 'No'},\n",
       " {'origin': 'PRV51117', 'target': 'No'},\n",
       " {'origin': 'PRV51118', 'target': 'No'},\n",
       " {'origin': 'PRV51119', 'target': 'Yes'},\n",
       " {'origin': 'PRV51120', 'target': 'No'},\n",
       " {'origin': 'PRV51121', 'target': 'No'},\n",
       " {'origin': 'PRV51122', 'target': 'No'},\n",
       " {'origin': 'PRV51123', 'target': 'No'},\n",
       " {'origin': 'PRV51125', 'target': 'No'},\n",
       " {'origin': 'PRV51126', 'target': 'Yes'},\n",
       " {'origin': 'PRV51128', 'target': 'No'},\n",
       " {'origin': 'PRV51129', 'target': 'No'},\n",
       " {'origin': 'PRV51130', 'target': 'No'},\n",
       " {'origin': 'PRV51131', 'target': 'No'},\n",
       " {'origin': 'PRV51132', 'target': 'No'},\n",
       " {'origin': 'PRV51134', 'target': 'No'},\n",
       " {'origin': 'PRV51135', 'target': 'No'},\n",
       " {'origin': 'PRV51136', 'target': 'No'},\n",
       " {'origin': 'PRV51137', 'target': 'No'},\n",
       " {'origin': 'PRV51138', 'target': 'No'},\n",
       " {'origin': 'PRV51139', 'target': 'No'},\n",
       " {'origin': 'PRV51140', 'target': 'No'},\n",
       " {'origin': 'PRV51141', 'target': 'No'},\n",
       " {'origin': 'PRV51142', 'target': 'No'},\n",
       " {'origin': 'PRV51143', 'target': 'No'},\n",
       " {'origin': 'PRV51144', 'target': 'No'},\n",
       " {'origin': 'PRV51145', 'target': 'Yes'},\n",
       " {'origin': 'PRV51146', 'target': 'Yes'},\n",
       " {'origin': 'PRV51147', 'target': 'No'},\n",
       " {'origin': 'PRV51148', 'target': 'Yes'},\n",
       " {'origin': 'PRV51149', 'target': 'Yes'},\n",
       " {'origin': 'PRV51151', 'target': 'No'},\n",
       " {'origin': 'PRV51152', 'target': 'No'},\n",
       " {'origin': 'PRV51153', 'target': 'No'},\n",
       " {'origin': 'PRV51154', 'target': 'No'},\n",
       " {'origin': 'PRV51155', 'target': 'No'},\n",
       " {'origin': 'PRV51156', 'target': 'No'},\n",
       " {'origin': 'PRV51159', 'target': 'Yes'},\n",
       " {'origin': 'PRV51160', 'target': 'No'},\n",
       " {'origin': 'PRV51164', 'target': 'No'},\n",
       " {'origin': 'PRV51165', 'target': 'No'},\n",
       " {'origin': 'PRV51166', 'target': 'No'},\n",
       " {'origin': 'PRV51167', 'target': 'No'},\n",
       " {'origin': 'PRV51168', 'target': 'No'},\n",
       " {'origin': 'PRV51169', 'target': 'No'},\n",
       " {'origin': 'PRV51170', 'target': 'Yes'},\n",
       " {'origin': 'PRV51171', 'target': 'No'},\n",
       " {'origin': 'PRV51173', 'target': 'Yes'},\n",
       " {'origin': 'PRV51175', 'target': 'No'},\n",
       " {'origin': 'PRV51176', 'target': 'No'},\n",
       " {'origin': 'PRV51178', 'target': 'Yes'},\n",
       " {'origin': 'PRV51179', 'target': 'No'},\n",
       " {'origin': 'PRV51180', 'target': 'No'},\n",
       " {'origin': 'PRV51181', 'target': 'No'},\n",
       " {'origin': 'PRV51183', 'target': 'No'},\n",
       " {'origin': 'PRV51185', 'target': 'No'},\n",
       " {'origin': 'PRV51186', 'target': 'No'},\n",
       " {'origin': 'PRV51189', 'target': 'No'},\n",
       " {'origin': 'PRV51190', 'target': 'No'},\n",
       " {'origin': 'PRV51191', 'target': 'No'},\n",
       " {'origin': 'PRV51194', 'target': 'No'},\n",
       " {'origin': 'PRV51196', 'target': 'No'},\n",
       " {'origin': 'PRV51198', 'target': 'No'},\n",
       " {'origin': 'PRV51200', 'target': 'No'},\n",
       " {'origin': 'PRV51201', 'target': 'No'},\n",
       " {'origin': 'PRV51202', 'target': 'No'},\n",
       " {'origin': 'PRV51203', 'target': 'No'},\n",
       " {'origin': 'PRV51204', 'target': 'No'},\n",
       " {'origin': 'PRV51205', 'target': 'No'},\n",
       " {'origin': 'PRV51206', 'target': 'No'},\n",
       " {'origin': 'PRV51207', 'target': 'No'},\n",
       " {'origin': 'PRV51209', 'target': 'No'},\n",
       " {'origin': 'PRV51210', 'target': 'No'},\n",
       " {'origin': 'PRV51211', 'target': 'No'},\n",
       " {'origin': 'PRV51212', 'target': 'No'},\n",
       " {'origin': 'PRV51213', 'target': 'No'},\n",
       " {'origin': 'PRV51214', 'target': 'No'},\n",
       " {'origin': 'PRV51215', 'target': 'No'},\n",
       " {'origin': 'PRV51216', 'target': 'No'},\n",
       " {'origin': 'PRV51217', 'target': 'No'},\n",
       " {'origin': 'PRV51218', 'target': 'No'},\n",
       " {'origin': 'PRV51219', 'target': 'No'},\n",
       " {'origin': 'PRV51221', 'target': 'No'},\n",
       " {'origin': 'PRV51222', 'target': 'No'},\n",
       " {'origin': 'PRV51224', 'target': 'No'},\n",
       " {'origin': 'PRV51225', 'target': 'No'},\n",
       " {'origin': 'PRV51226', 'target': 'No'},\n",
       " {'origin': 'PRV51228', 'target': 'No'},\n",
       " {'origin': 'PRV51229', 'target': 'No'},\n",
       " {'origin': 'PRV51230', 'target': 'No'},\n",
       " {'origin': 'PRV51231', 'target': 'No'},\n",
       " {'origin': 'PRV51232', 'target': 'No'},\n",
       " {'origin': 'PRV51233', 'target': 'No'},\n",
       " {'origin': 'PRV51234', 'target': 'No'},\n",
       " {'origin': 'PRV51235', 'target': 'No'},\n",
       " {'origin': 'PRV51236', 'target': 'No'},\n",
       " {'origin': 'PRV51237', 'target': 'No'},\n",
       " {'origin': 'PRV51238', 'target': 'No'},\n",
       " {'origin': 'PRV51239', 'target': 'No'},\n",
       " {'origin': 'PRV51240', 'target': 'No'},\n",
       " {'origin': 'PRV51241', 'target': 'No'},\n",
       " {'origin': 'PRV51242', 'target': 'Yes'},\n",
       " {'origin': 'PRV51243', 'target': 'No'},\n",
       " {'origin': 'PRV51244', 'target': 'Yes'},\n",
       " {'origin': 'PRV51245', 'target': 'No'},\n",
       " {'origin': 'PRV51247', 'target': 'No'},\n",
       " {'origin': 'PRV51248', 'target': 'No'},\n",
       " {'origin': 'PRV51249', 'target': 'Yes'},\n",
       " {'origin': 'PRV51250', 'target': 'No'},\n",
       " {'origin': 'PRV51251', 'target': 'No'},\n",
       " {'origin': 'PRV51252', 'target': 'No'},\n",
       " {'origin': 'PRV51253', 'target': 'No'},\n",
       " {'origin': 'PRV51255', 'target': 'No'},\n",
       " {'origin': 'PRV51256', 'target': 'No'},\n",
       " {'origin': 'PRV51258', 'target': 'No'},\n",
       " {'origin': 'PRV51259', 'target': 'No'},\n",
       " {'origin': 'PRV51260', 'target': 'No'},\n",
       " {'origin': 'PRV51261', 'target': 'No'},\n",
       " {'origin': 'PRV51262', 'target': 'No'},\n",
       " {'origin': 'PRV51263', 'target': 'Yes'},\n",
       " {'origin': 'PRV51264', 'target': 'No'},\n",
       " {'origin': 'PRV51265', 'target': 'No'},\n",
       " {'origin': 'PRV51266', 'target': 'No'},\n",
       " {'origin': 'PRV51267', 'target': 'No'},\n",
       " {'origin': 'PRV51271', 'target': 'No'},\n",
       " {'origin': 'PRV51272', 'target': 'No'},\n",
       " {'origin': 'PRV51273', 'target': 'No'},\n",
       " {'origin': 'PRV51274', 'target': 'No'},\n",
       " {'origin': 'PRV51276', 'target': 'No'},\n",
       " {'origin': 'PRV51277', 'target': 'No'},\n",
       " {'origin': 'PRV51279', 'target': 'No'},\n",
       " {'origin': 'PRV51280', 'target': 'No'},\n",
       " {'origin': 'PRV51281', 'target': 'No'},\n",
       " {'origin': 'PRV51282', 'target': 'No'},\n",
       " {'origin': 'PRV51284', 'target': 'No'},\n",
       " {'origin': 'PRV51285', 'target': 'No'},\n",
       " {'origin': 'PRV51286', 'target': 'No'},\n",
       " {'origin': 'PRV51287', 'target': 'No'},\n",
       " {'origin': 'PRV51288', 'target': 'No'},\n",
       " {'origin': 'PRV51289', 'target': 'No'},\n",
       " {'origin': 'PRV51290', 'target': 'No'},\n",
       " {'origin': 'PRV51292', 'target': 'No'},\n",
       " {'origin': 'PRV51293', 'target': 'No'},\n",
       " {'origin': 'PRV51295', 'target': 'No'},\n",
       " {'origin': 'PRV51296', 'target': 'No'},\n",
       " {'origin': 'PRV51297', 'target': 'No'},\n",
       " {'origin': 'PRV51298', 'target': 'No'},\n",
       " {'origin': 'PRV51299', 'target': 'No'},\n",
       " {'origin': 'PRV51300', 'target': 'No'},\n",
       " {'origin': 'PRV51301', 'target': 'No'},\n",
       " {'origin': 'PRV51302', 'target': 'No'},\n",
       " {'origin': 'PRV51303', 'target': 'No'},\n",
       " {'origin': 'PRV51304', 'target': 'No'},\n",
       " {'origin': 'PRV51305', 'target': 'No'},\n",
       " {'origin': 'PRV51306', 'target': 'No'},\n",
       " {'origin': 'PRV51307', 'target': 'No'},\n",
       " {'origin': 'PRV51308', 'target': 'No'},\n",
       " {'origin': 'PRV51309', 'target': 'No'},\n",
       " {'origin': 'PRV51311', 'target': 'No'},\n",
       " {'origin': 'PRV51312', 'target': 'No'},\n",
       " {'origin': 'PRV51313', 'target': 'No'},\n",
       " {'origin': 'PRV51314', 'target': 'No'},\n",
       " {'origin': 'PRV51315', 'target': 'No'},\n",
       " {'origin': 'PRV51316', 'target': 'No'},\n",
       " {'origin': 'PRV51318', 'target': 'No'},\n",
       " {'origin': 'PRV51322', 'target': 'No'},\n",
       " {'origin': 'PRV51323', 'target': 'No'},\n",
       " {'origin': 'PRV51324', 'target': 'No'},\n",
       " {'origin': 'PRV51325', 'target': 'No'},\n",
       " {'origin': 'PRV51326', 'target': 'No'},\n",
       " {'origin': 'PRV51327', 'target': 'No'},\n",
       " {'origin': 'PRV51328', 'target': 'No'},\n",
       " {'origin': 'PRV51329', 'target': 'No'},\n",
       " {'origin': 'PRV51330', 'target': 'No'},\n",
       " {'origin': 'PRV51331', 'target': 'No'},\n",
       " {'origin': 'PRV51334', 'target': 'No'},\n",
       " {'origin': 'PRV51335', 'target': 'No'},\n",
       " {'origin': 'PRV51336', 'target': 'No'},\n",
       " {'origin': 'PRV51337', 'target': 'Yes'},\n",
       " {'origin': 'PRV51338', 'target': 'Yes'},\n",
       " {'origin': 'PRV51340', 'target': 'No'},\n",
       " {'origin': 'PRV51341', 'target': 'No'},\n",
       " {'origin': 'PRV51342', 'target': 'No'},\n",
       " {'origin': 'PRV51344', 'target': 'No'},\n",
       " {'origin': 'PRV51345', 'target': 'No'},\n",
       " {'origin': 'PRV51346', 'target': 'No'},\n",
       " {'origin': 'PRV51347', 'target': 'Yes'},\n",
       " {'origin': 'PRV51348', 'target': 'No'},\n",
       " {'origin': 'PRV51349', 'target': 'No'},\n",
       " {'origin': 'PRV51350', 'target': 'No'},\n",
       " {'origin': 'PRV51351', 'target': 'No'},\n",
       " {'origin': 'PRV51352', 'target': 'No'},\n",
       " {'origin': 'PRV51353', 'target': 'No'},\n",
       " {'origin': 'PRV51354', 'target': 'No'},\n",
       " {'origin': 'PRV51355', 'target': 'No'},\n",
       " {'origin': 'PRV51356', 'target': 'No'},\n",
       " {'origin': 'PRV51357', 'target': 'Yes'},\n",
       " {'origin': 'PRV51358', 'target': 'No'},\n",
       " {'origin': 'PRV51360', 'target': 'No'},\n",
       " {'origin': 'PRV51361', 'target': 'No'},\n",
       " {'origin': 'PRV51362', 'target': 'No'},\n",
       " {'origin': 'PRV51363', 'target': 'No'},\n",
       " {'origin': 'PRV51364', 'target': 'No'},\n",
       " {'origin': 'PRV51366', 'target': 'No'},\n",
       " {'origin': 'PRV51368', 'target': 'No'},\n",
       " {'origin': 'PRV51369', 'target': 'Yes'},\n",
       " {'origin': 'PRV51371', 'target': 'No'},\n",
       " {'origin': 'PRV51376', 'target': 'No'},\n",
       " {'origin': 'PRV51377', 'target': 'No'},\n",
       " {'origin': 'PRV51378', 'target': 'Yes'},\n",
       " {'origin': 'PRV51379', 'target': 'No'},\n",
       " {'origin': 'PRV51380', 'target': 'No'},\n",
       " {'origin': 'PRV51382', 'target': 'No'},\n",
       " {'origin': 'PRV51383', 'target': 'No'},\n",
       " {'origin': 'PRV51386', 'target': 'No'},\n",
       " {'origin': 'PRV51387', 'target': 'No'},\n",
       " {'origin': 'PRV51388', 'target': 'No'},\n",
       " {'origin': 'PRV51389', 'target': 'No'},\n",
       " {'origin': 'PRV51390', 'target': 'Yes'},\n",
       " {'origin': 'PRV51391', 'target': 'No'},\n",
       " {'origin': 'PRV51392', 'target': 'No'},\n",
       " {'origin': 'PRV51393', 'target': 'Yes'},\n",
       " {'origin': 'PRV51394', 'target': 'No'},\n",
       " {'origin': 'PRV51395', 'target': 'No'},\n",
       " {'origin': 'PRV51396', 'target': 'No'},\n",
       " {'origin': 'PRV51397', 'target': 'No'},\n",
       " {'origin': 'PRV51398', 'target': 'No'},\n",
       " {'origin': 'PRV51399', 'target': 'Yes'},\n",
       " {'origin': 'PRV51401', 'target': 'Yes'},\n",
       " {'origin': 'PRV51403', 'target': 'No'},\n",
       " {'origin': 'PRV51404', 'target': 'No'},\n",
       " {'origin': 'PRV51405', 'target': 'No'},\n",
       " {'origin': 'PRV51406', 'target': 'No'},\n",
       " {'origin': 'PRV51408', 'target': 'No'},\n",
       " {'origin': 'PRV51409', 'target': 'No'},\n",
       " {'origin': 'PRV51410', 'target': 'Yes'},\n",
       " {'origin': 'PRV51412', 'target': 'No'},\n",
       " {'origin': 'PRV51414', 'target': 'No'},\n",
       " {'origin': 'PRV51415', 'target': 'No'},\n",
       " {'origin': 'PRV51416', 'target': 'No'},\n",
       " {'origin': 'PRV51418', 'target': 'No'},\n",
       " {'origin': 'PRV51419', 'target': 'No'},\n",
       " {'origin': 'PRV51421', 'target': 'Yes'},\n",
       " {'origin': 'PRV51422', 'target': 'No'},\n",
       " {'origin': 'PRV51423', 'target': 'No'},\n",
       " {'origin': 'PRV51424', 'target': 'No'},\n",
       " {'origin': 'PRV51425', 'target': 'No'},\n",
       " {'origin': 'PRV51426', 'target': 'Yes'},\n",
       " {'origin': 'PRV51427', 'target': 'No'},\n",
       " {'origin': 'PRV51428', 'target': 'No'},\n",
       " {'origin': 'PRV51429', 'target': 'No'},\n",
       " {'origin': 'PRV51430', 'target': 'No'},\n",
       " {'origin': 'PRV51431', 'target': 'No'},\n",
       " {'origin': 'PRV51432', 'target': 'No'},\n",
       " {'origin': 'PRV51433', 'target': 'Yes'},\n",
       " {'origin': 'PRV51434', 'target': 'Yes'},\n",
       " {'origin': 'PRV51435', 'target': 'No'},\n",
       " {'origin': 'PRV51436', 'target': 'No'},\n",
       " {'origin': 'PRV51437', 'target': 'No'},\n",
       " {'origin': 'PRV51438', 'target': 'No'},\n",
       " {'origin': 'PRV51439', 'target': 'No'},\n",
       " {'origin': 'PRV51440', 'target': 'No'},\n",
       " {'origin': 'PRV51441', 'target': 'No'},\n",
       " {'origin': 'PRV51442', 'target': 'No'},\n",
       " {'origin': 'PRV51443', 'target': 'No'},\n",
       " {'origin': 'PRV51444', 'target': 'No'},\n",
       " {'origin': 'PRV51446', 'target': 'No'},\n",
       " {'origin': 'PRV51447', 'target': 'Yes'},\n",
       " {'origin': 'PRV51448', 'target': 'No'},\n",
       " {'origin': 'PRV51449', 'target': 'No'},\n",
       " {'origin': 'PRV51451', 'target': 'No'},\n",
       " {'origin': 'PRV51453', 'target': 'No'},\n",
       " {'origin': 'PRV51454', 'target': 'No'},\n",
       " {'origin': 'PRV51455', 'target': 'No'},\n",
       " {'origin': 'PRV51456', 'target': 'No'},\n",
       " {'origin': 'PRV51458', 'target': 'No'},\n",
       " {'origin': 'PRV51459', 'target': 'Yes'},\n",
       " {'origin': 'PRV51460', 'target': 'No'},\n",
       " {'origin': 'PRV51462', 'target': 'No'},\n",
       " {'origin': 'PRV51464', 'target': 'No'},\n",
       " {'origin': 'PRV51465', 'target': 'No'},\n",
       " {'origin': 'PRV51466', 'target': 'No'},\n",
       " {'origin': 'PRV51467', 'target': 'No'},\n",
       " {'origin': 'PRV51468', 'target': 'No'},\n",
       " {'origin': 'PRV51469', 'target': 'No'},\n",
       " {'origin': 'PRV51470', 'target': 'No'},\n",
       " {'origin': 'PRV51471', 'target': 'Yes'},\n",
       " {'origin': 'PRV51472', 'target': 'No'},\n",
       " {'origin': 'PRV51474', 'target': 'No'},\n",
       " {'origin': 'PRV51475', 'target': 'No'},\n",
       " {'origin': 'PRV51476', 'target': 'No'},\n",
       " {'origin': 'PRV51477', 'target': 'No'},\n",
       " {'origin': 'PRV51478', 'target': 'No'},\n",
       " {'origin': 'PRV51479', 'target': 'No'},\n",
       " {'origin': 'PRV51480', 'target': 'Yes'},\n",
       " {'origin': 'PRV51482', 'target': 'Yes'},\n",
       " {'origin': 'PRV51483', 'target': 'No'},\n",
       " {'origin': 'PRV51484', 'target': 'No'},\n",
       " {'origin': 'PRV51486', 'target': 'No'},\n",
       " {'origin': 'PRV51487', 'target': 'No'},\n",
       " {'origin': 'PRV51488', 'target': 'No'},\n",
       " {'origin': 'PRV51490', 'target': 'Yes'},\n",
       " {'origin': 'PRV51491', 'target': 'No'},\n",
       " {'origin': 'PRV51492', 'target': 'No'},\n",
       " {'origin': 'PRV51494', 'target': 'No'},\n",
       " {'origin': 'PRV51495', 'target': 'Yes'},\n",
       " {'origin': 'PRV51496', 'target': 'No'},\n",
       " {'origin': 'PRV51497', 'target': 'No'},\n",
       " {'origin': 'PRV51499', 'target': 'No'},\n",
       " {'origin': 'PRV51500', 'target': 'No'},\n",
       " {'origin': 'PRV51501', 'target': 'Yes'},\n",
       " {'origin': 'PRV51502', 'target': 'No'},\n",
       " {'origin': 'PRV51503', 'target': 'No'},\n",
       " {'origin': 'PRV51504', 'target': 'No'},\n",
       " {'origin': 'PRV51505', 'target': 'No'},\n",
       " {'origin': 'PRV51507', 'target': 'Yes'},\n",
       " {'origin': 'PRV51508', 'target': 'No'},\n",
       " {'origin': 'PRV51509', 'target': 'No'},\n",
       " {'origin': 'PRV51510', 'target': 'No'},\n",
       " {'origin': 'PRV51511', 'target': 'No'},\n",
       " {'origin': 'PRV51514', 'target': 'No'},\n",
       " {'origin': 'PRV51515', 'target': 'No'},\n",
       " {'origin': 'PRV51516', 'target': 'No'},\n",
       " {'origin': 'PRV51517', 'target': 'No'},\n",
       " {'origin': 'PRV51518', 'target': 'No'},\n",
       " {'origin': 'PRV51521', 'target': 'No'},\n",
       " {'origin': 'PRV51522', 'target': 'No'},\n",
       " {'origin': 'PRV51523', 'target': 'No'},\n",
       " {'origin': 'PRV51525', 'target': 'No'},\n",
       " {'origin': 'PRV51526', 'target': 'No'},\n",
       " {'origin': 'PRV51527', 'target': 'No'},\n",
       " {'origin': 'PRV51528', 'target': 'No'},\n",
       " {'origin': 'PRV51529', 'target': 'No'},\n",
       " {'origin': 'PRV51531', 'target': 'No'},\n",
       " {'origin': 'PRV51532', 'target': 'No'},\n",
       " {'origin': 'PRV51533', 'target': 'No'},\n",
       " {'origin': 'PRV51534', 'target': 'No'},\n",
       " {'origin': 'PRV51535', 'target': 'No'},\n",
       " {'origin': 'PRV51536', 'target': 'No'},\n",
       " {'origin': 'PRV51539', 'target': 'Yes'},\n",
       " {'origin': 'PRV51540', 'target': 'No'},\n",
       " {'origin': 'PRV51541', 'target': 'No'},\n",
       " {'origin': 'PRV51542', 'target': 'Yes'},\n",
       " {'origin': 'PRV51544', 'target': 'No'},\n",
       " {'origin': 'PRV51546', 'target': 'No'},\n",
       " {'origin': 'PRV51547', 'target': 'No'},\n",
       " {'origin': 'PRV51549', 'target': 'No'},\n",
       " {'origin': 'PRV51550', 'target': 'No'},\n",
       " {'origin': 'PRV51551', 'target': 'No'},\n",
       " {'origin': 'PRV51552', 'target': 'No'},\n",
       " {'origin': 'PRV51553', 'target': 'No'},\n",
       " {'origin': 'PRV51554', 'target': 'No'},\n",
       " {'origin': 'PRV51555', 'target': 'No'},\n",
       " {'origin': 'PRV51556', 'target': 'No'},\n",
       " {'origin': 'PRV51557', 'target': 'No'},\n",
       " {'origin': 'PRV51558', 'target': 'No'},\n",
       " {'origin': 'PRV51560', 'target': 'Yes'},\n",
       " {'origin': 'PRV51562', 'target': 'No'},\n",
       " {'origin': 'PRV51563', 'target': 'No'},\n",
       " {'origin': 'PRV51564', 'target': 'No'},\n",
       " {'origin': 'PRV51566', 'target': 'No'},\n",
       " {'origin': 'PRV51567', 'target': 'Yes'},\n",
       " {'origin': 'PRV51568', 'target': 'No'},\n",
       " {'origin': 'PRV51569', 'target': 'No'},\n",
       " {'origin': 'PRV51570', 'target': 'No'},\n",
       " {'origin': 'PRV51571', 'target': 'No'},\n",
       " {'origin': 'PRV51572', 'target': 'No'},\n",
       " {'origin': 'PRV51573', 'target': 'No'},\n",
       " {'origin': 'PRV51574', 'target': 'Yes'},\n",
       " {'origin': 'PRV51576', 'target': 'No'},\n",
       " {'origin': 'PRV51577', 'target': 'No'},\n",
       " {'origin': 'PRV51578', 'target': 'Yes'},\n",
       " {'origin': 'PRV51579', 'target': 'No'},\n",
       " {'origin': 'PRV51580', 'target': 'No'},\n",
       " {'origin': 'PRV51582', 'target': 'No'},\n",
       " {'origin': 'PRV51583', 'target': 'No'},\n",
       " {'origin': 'PRV51584', 'target': 'Yes'},\n",
       " {'origin': 'PRV51585', 'target': 'No'},\n",
       " {'origin': 'PRV51586', 'target': 'Yes'},\n",
       " {'origin': 'PRV51587', 'target': 'No'},\n",
       " {'origin': 'PRV51588', 'target': 'No'},\n",
       " {'origin': 'PRV51590', 'target': 'Yes'},\n",
       " {'origin': 'PRV51592', 'target': 'No'},\n",
       " {'origin': 'PRV51593', 'target': 'Yes'},\n",
       " {'origin': 'PRV51595', 'target': 'No'},\n",
       " {'origin': 'PRV51596', 'target': 'No'},\n",
       " {'origin': 'PRV51598', 'target': 'No'},\n",
       " {'origin': 'PRV51599', 'target': 'No'},\n",
       " {'origin': 'PRV51600', 'target': 'No'},\n",
       " {'origin': 'PRV51601', 'target': 'No'},\n",
       " {'origin': 'PRV51602', 'target': 'No'},\n",
       " {'origin': 'PRV51604', 'target': 'Yes'},\n",
       " {'origin': 'PRV51605', 'target': 'No'},\n",
       " {'origin': 'PRV51606', 'target': 'No'},\n",
       " {'origin': 'PRV51607', 'target': 'No'},\n",
       " {'origin': 'PRV51608', 'target': 'No'},\n",
       " {'origin': 'PRV51609', 'target': 'No'},\n",
       " {'origin': 'PRV51610', 'target': 'No'},\n",
       " {'origin': 'PRV51611', 'target': 'No'},\n",
       " {'origin': 'PRV51612', 'target': 'No'},\n",
       " {'origin': 'PRV51613', 'target': 'No'},\n",
       " {'origin': 'PRV51614', 'target': 'Yes'},\n",
       " {'origin': 'PRV51616', 'target': 'No'},\n",
       " {'origin': 'PRV51617', 'target': 'No'},\n",
       " {'origin': 'PRV51618', 'target': 'No'},\n",
       " {'origin': 'PRV51619', 'target': 'No'},\n",
       " {'origin': 'PRV51620', 'target': 'No'},\n",
       " {'origin': 'PRV51621', 'target': 'No'},\n",
       " {'origin': 'PRV51622', 'target': 'No'},\n",
       " {'origin': 'PRV51623', 'target': 'No'},\n",
       " {'origin': 'PRV51624', 'target': 'No'},\n",
       " {'origin': 'PRV51625', 'target': 'No'},\n",
       " {'origin': 'PRV51626', 'target': 'No'},\n",
       " {'origin': 'PRV51627', 'target': 'No'},\n",
       " {'origin': 'PRV51628', 'target': 'No'},\n",
       " {'origin': 'PRV51629', 'target': 'No'},\n",
       " {'origin': 'PRV51630', 'target': 'No'},\n",
       " {'origin': 'PRV51631', 'target': 'No'},\n",
       " {'origin': 'PRV51632', 'target': 'No'},\n",
       " {'origin': 'PRV51634', 'target': 'No'},\n",
       " {'origin': 'PRV51635', 'target': 'No'},\n",
       " {'origin': 'PRV51636', 'target': 'No'},\n",
       " {'origin': 'PRV51637', 'target': 'No'},\n",
       " {'origin': 'PRV51638', 'target': 'No'},\n",
       " {'origin': 'PRV51639', 'target': 'No'},\n",
       " {'origin': 'PRV51640', 'target': 'No'},\n",
       " {'origin': 'PRV51641', 'target': 'No'},\n",
       " {'origin': 'PRV51642', 'target': 'No'},\n",
       " {'origin': 'PRV51644', 'target': 'No'},\n",
       " {'origin': 'PRV51645', 'target': 'No'},\n",
       " {'origin': 'PRV51647', 'target': 'No'},\n",
       " {'origin': 'PRV51650', 'target': 'No'},\n",
       " {'origin': 'PRV51652', 'target': 'No'},\n",
       " {'origin': 'PRV51653', 'target': 'No'},\n",
       " {'origin': 'PRV51654', 'target': 'No'},\n",
       " {'origin': 'PRV51655', 'target': 'No'},\n",
       " {'origin': 'PRV51656', 'target': 'No'},\n",
       " {'origin': 'PRV51657', 'target': 'No'},\n",
       " {'origin': 'PRV51658', 'target': 'No'},\n",
       " {'origin': 'PRV51660', 'target': 'No'},\n",
       " {'origin': 'PRV51661', 'target': 'No'},\n",
       " {'origin': 'PRV51664', 'target': 'No'},\n",
       " {'origin': 'PRV51665', 'target': 'No'},\n",
       " {'origin': 'PRV51666', 'target': 'No'},\n",
       " {'origin': 'PRV51668', 'target': 'No'},\n",
       " {'origin': 'PRV51669', 'target': 'No'},\n",
       " {'origin': 'PRV51670', 'target': 'No'},\n",
       " {'origin': 'PRV51671', 'target': 'No'},\n",
       " {'origin': 'PRV51672', 'target': 'No'},\n",
       " {'origin': 'PRV51673', 'target': 'No'},\n",
       " {'origin': 'PRV51674', 'target': 'No'},\n",
       " {'origin': 'PRV51675', 'target': 'No'},\n",
       " {'origin': 'PRV51676', 'target': 'No'},\n",
       " {'origin': 'PRV51678', 'target': 'No'},\n",
       " {'origin': 'PRV51679', 'target': 'No'},\n",
       " {'origin': 'PRV51681', 'target': 'No'},\n",
       " {'origin': 'PRV51682', 'target': 'No'},\n",
       " {'origin': 'PRV51685', 'target': 'No'},\n",
       " {'origin': 'PRV51687', 'target': 'No'},\n",
       " {'origin': 'PRV51688', 'target': 'No'},\n",
       " {'origin': 'PRV51689', 'target': 'No'},\n",
       " {'origin': 'PRV51690', 'target': 'No'},\n",
       " {'origin': 'PRV51691', 'target': 'No'},\n",
       " {'origin': 'PRV51692', 'target': 'No'},\n",
       " {'origin': 'PRV51693', 'target': 'No'},\n",
       " {'origin': 'PRV51694', 'target': 'No'},\n",
       " {'origin': 'PRV51695', 'target': 'No'},\n",
       " {'origin': 'PRV51696', 'target': 'No'},\n",
       " {'origin': 'PRV51697', 'target': 'No'},\n",
       " {'origin': 'PRV51698', 'target': 'No'},\n",
       " {'origin': 'PRV51699', 'target': 'No'},\n",
       " {'origin': 'PRV51702', 'target': 'No'},\n",
       " {'origin': 'PRV51703', 'target': 'No'},\n",
       " {'origin': 'PRV51704', 'target': 'No'},\n",
       " {'origin': 'PRV51705', 'target': 'No'},\n",
       " {'origin': 'PRV51706', 'target': 'No'},\n",
       " {'origin': 'PRV51707', 'target': 'No'},\n",
       " {'origin': 'PRV51708', 'target': 'No'},\n",
       " {'origin': 'PRV51709', 'target': 'No'},\n",
       " {'origin': 'PRV51710', 'target': 'No'},\n",
       " {'origin': 'PRV51711', 'target': 'No'},\n",
       " {'origin': 'PRV51712', 'target': 'No'},\n",
       " {'origin': 'PRV51713', 'target': 'No'},\n",
       " {'origin': 'PRV51715', 'target': 'No'},\n",
       " {'origin': 'PRV51716', 'target': 'No'},\n",
       " {'origin': 'PRV51718', 'target': 'No'},\n",
       " {'origin': 'PRV51719', 'target': 'No'},\n",
       " {'origin': 'PRV51720', 'target': 'No'},\n",
       " {'origin': 'PRV51721', 'target': 'No'},\n",
       " {'origin': 'PRV51722', 'target': 'No'},\n",
       " {'origin': 'PRV51723', 'target': 'No'},\n",
       " {'origin': 'PRV51724', 'target': 'No'},\n",
       " {'origin': 'PRV51725', 'target': 'No'},\n",
       " {'origin': 'PRV51726', 'target': 'No'},\n",
       " {'origin': 'PRV51727', 'target': 'No'},\n",
       " {'origin': 'PRV51729', 'target': 'No'},\n",
       " {'origin': 'PRV51731', 'target': 'No'},\n",
       " {'origin': 'PRV51732', 'target': 'No'},\n",
       " {'origin': 'PRV51733', 'target': 'No'},\n",
       " {'origin': 'PRV51734', 'target': 'No'},\n",
       " {'origin': 'PRV51735', 'target': 'No'},\n",
       " {'origin': 'PRV51736', 'target': 'No'},\n",
       " {'origin': 'PRV51737', 'target': 'No'},\n",
       " {'origin': 'PRV51738', 'target': 'No'},\n",
       " {'origin': 'PRV51739', 'target': 'No'},\n",
       " {'origin': 'PRV51740', 'target': 'No'},\n",
       " {'origin': 'PRV51741', 'target': 'No'},\n",
       " {'origin': 'PRV51742', 'target': 'No'},\n",
       " {'origin': 'PRV51743', 'target': 'No'},\n",
       " {'origin': 'PRV51744', 'target': 'No'},\n",
       " {'origin': 'PRV51745', 'target': 'No'},\n",
       " {'origin': 'PRV51746', 'target': 'No'},\n",
       " {'origin': 'PRV51747', 'target': 'No'},\n",
       " {'origin': 'PRV51748', 'target': 'No'},\n",
       " {'origin': 'PRV51749', 'target': 'No'},\n",
       " {'origin': 'PRV51750', 'target': 'No'},\n",
       " {'origin': 'PRV51751', 'target': 'No'},\n",
       " {'origin': 'PRV51752', 'target': 'No'},\n",
       " {'origin': 'PRV51753', 'target': 'No'},\n",
       " {'origin': 'PRV51754', 'target': 'No'},\n",
       " {'origin': 'PRV51755', 'target': 'No'},\n",
       " {'origin': 'PRV51758', 'target': 'No'},\n",
       " {'origin': 'PRV51759', 'target': 'No'},\n",
       " {'origin': 'PRV51761', 'target': 'No'},\n",
       " {'origin': 'PRV51762', 'target': 'No'},\n",
       " {'origin': 'PRV51763', 'target': 'No'},\n",
       " {'origin': 'PRV51764', 'target': 'No'},\n",
       " {'origin': 'PRV51765', 'target': 'No'},\n",
       " {'origin': 'PRV51766', 'target': 'No'},\n",
       " {'origin': 'PRV51767', 'target': 'No'},\n",
       " {'origin': 'PRV51769', 'target': 'No'},\n",
       " {'origin': 'PRV51770', 'target': 'No'},\n",
       " {'origin': 'PRV51771', 'target': 'No'},\n",
       " {'origin': 'PRV51773', 'target': 'No'},\n",
       " {'origin': 'PRV51774', 'target': 'No'},\n",
       " {'origin': 'PRV51775', 'target': 'No'},\n",
       " {'origin': 'PRV51776', 'target': 'No'},\n",
       " {'origin': 'PRV51778', 'target': 'No'},\n",
       " {'origin': 'PRV51779', 'target': 'No'},\n",
       " {'origin': 'PRV51780', 'target': 'No'},\n",
       " {'origin': 'PRV51781', 'target': 'No'},\n",
       " {'origin': 'PRV51784', 'target': 'No'},\n",
       " {'origin': 'PRV51786', 'target': 'No'},\n",
       " {'origin': 'PRV51787', 'target': 'No'},\n",
       " {'origin': 'PRV51788', 'target': 'No'},\n",
       " {'origin': 'PRV51789', 'target': 'No'},\n",
       " {'origin': 'PRV51790', 'target': 'No'},\n",
       " {'origin': 'PRV51792', 'target': 'No'},\n",
       " {'origin': 'PRV51793', 'target': 'No'},\n",
       " {'origin': 'PRV51794', 'target': 'No'},\n",
       " {'origin': 'PRV51795', 'target': 'No'},\n",
       " {'origin': 'PRV51796', 'target': 'No'},\n",
       " {'origin': 'PRV51797', 'target': 'No'},\n",
       " {'origin': 'PRV51798', 'target': 'No'},\n",
       " {'origin': 'PRV51799', 'target': 'No'},\n",
       " {'origin': 'PRV51801', 'target': 'No'},\n",
       " {'origin': 'PRV51802', 'target': 'No'},\n",
       " {'origin': 'PRV51803', 'target': 'No'},\n",
       " {'origin': 'PRV51805', 'target': 'Yes'},\n",
       " {'origin': 'PRV51806', 'target': 'No'},\n",
       " {'origin': 'PRV51807', 'target': 'No'},\n",
       " {'origin': 'PRV51809', 'target': 'No'},\n",
       " {'origin': 'PRV51810', 'target': 'No'},\n",
       " {'origin': 'PRV51811', 'target': 'No'},\n",
       " {'origin': 'PRV51812', 'target': 'No'},\n",
       " {'origin': 'PRV51813', 'target': 'No'},\n",
       " {'origin': 'PRV51815', 'target': 'No'},\n",
       " {'origin': 'PRV51816', 'target': 'No'},\n",
       " {'origin': 'PRV51818', 'target': 'Yes'},\n",
       " {'origin': 'PRV51819', 'target': 'No'},\n",
       " {'origin': 'PRV51820', 'target': 'No'},\n",
       " {'origin': 'PRV51821', 'target': 'No'},\n",
       " {'origin': 'PRV51822', 'target': 'No'},\n",
       " {'origin': 'PRV51823', 'target': 'No'},\n",
       " {'origin': 'PRV51824', 'target': 'No'},\n",
       " {'origin': 'PRV51826', 'target': 'Yes'},\n",
       " {'origin': 'PRV51827', 'target': 'No'},\n",
       " {'origin': 'PRV51828', 'target': 'No'},\n",
       " {'origin': 'PRV51829', 'target': 'No'},\n",
       " {'origin': 'PRV51830', 'target': 'No'},\n",
       " {'origin': 'PRV51831', 'target': 'No'},\n",
       " {'origin': 'PRV51833', 'target': 'No'},\n",
       " {'origin': 'PRV51836', 'target': 'Yes'},\n",
       " {'origin': 'PRV51837', 'target': 'No'},\n",
       " {'origin': 'PRV51838', 'target': 'No'},\n",
       " {'origin': 'PRV51840', 'target': 'Yes'},\n",
       " {'origin': 'PRV51841', 'target': 'No'},\n",
       " {'origin': 'PRV51842', 'target': 'Yes'},\n",
       " {'origin': 'PRV51843', 'target': 'No'},\n",
       " {'origin': 'PRV51845', 'target': 'No'},\n",
       " {'origin': 'PRV51846', 'target': 'No'},\n",
       " {'origin': 'PRV51847', 'target': 'No'},\n",
       " {'origin': 'PRV51848', 'target': 'No'},\n",
       " {'origin': 'PRV51849', 'target': 'No'},\n",
       " {'origin': 'PRV51851', 'target': 'Yes'},\n",
       " {'origin': 'PRV51852', 'target': 'No'},\n",
       " {'origin': 'PRV51855', 'target': 'No'},\n",
       " {'origin': 'PRV51856', 'target': 'No'},\n",
       " {'origin': 'PRV51857', 'target': 'Yes'},\n",
       " {'origin': 'PRV51858', 'target': 'No'},\n",
       " {'origin': 'PRV51859', 'target': 'No'},\n",
       " {'origin': 'PRV51860', 'target': 'No'},\n",
       " {'origin': 'PRV51861', 'target': 'No'},\n",
       " {'origin': 'PRV51862', 'target': 'No'},\n",
       " {'origin': 'PRV51863', 'target': 'No'},\n",
       " {'origin': 'PRV51864', 'target': 'No'},\n",
       " {'origin': 'PRV51865', 'target': 'No'},\n",
       " {'origin': 'PRV51867', 'target': 'No'},\n",
       " {'origin': 'PRV51868', 'target': 'Yes'},\n",
       " {'origin': 'PRV51869', 'target': 'No'},\n",
       " {'origin': 'PRV51870', 'target': 'No'},\n",
       " {'origin': 'PRV51871', 'target': 'No'},\n",
       " {'origin': 'PRV51872', 'target': 'No'},\n",
       " {'origin': 'PRV51873', 'target': 'Yes'},\n",
       " {'origin': 'PRV51874', 'target': 'No'},\n",
       " {'origin': 'PRV51875', 'target': 'No'},\n",
       " {'origin': 'PRV51876', 'target': 'Yes'},\n",
       " {'origin': 'PRV51877', 'target': 'No'},\n",
       " {'origin': 'PRV51878', 'target': 'No'},\n",
       " {'origin': 'PRV51879', 'target': 'No'},\n",
       " {'origin': 'PRV51884', 'target': 'No'},\n",
       " {'origin': 'PRV51885', 'target': 'No'},\n",
       " {'origin': 'PRV51886', 'target': 'No'},\n",
       " {'origin': 'PRV51887', 'target': 'No'},\n",
       " {'origin': 'PRV51888', 'target': 'No'},\n",
       " {'origin': 'PRV51889', 'target': 'No'},\n",
       " {'origin': 'PRV51890', 'target': 'No'},\n",
       " {'origin': 'PRV51891', 'target': 'No'},\n",
       " {'origin': 'PRV51892', 'target': 'No'},\n",
       " {'origin': 'PRV51894', 'target': 'No'},\n",
       " {'origin': 'PRV51895', 'target': 'No'},\n",
       " {'origin': 'PRV51896', 'target': 'No'},\n",
       " {'origin': 'PRV51897', 'target': 'No'},\n",
       " {'origin': 'PRV51898', 'target': 'No'},\n",
       " {'origin': 'PRV51899', 'target': 'No'},\n",
       " {'origin': 'PRV51901', 'target': 'No'},\n",
       " {'origin': 'PRV51902', 'target': 'No'},\n",
       " {'origin': 'PRV51905', 'target': 'No'},\n",
       " {'origin': 'PRV51906', 'target': 'No'},\n",
       " {'origin': 'PRV51908', 'target': 'No'},\n",
       " {'origin': 'PRV51909', 'target': 'No'},\n",
       " {'origin': 'PRV51910', 'target': 'No'},\n",
       " {'origin': 'PRV51911', 'target': 'No'},\n",
       " {'origin': 'PRV51913', 'target': 'No'},\n",
       " {'origin': 'PRV51914', 'target': 'No'},\n",
       " {'origin': 'PRV51915', 'target': 'No'},\n",
       " {'origin': 'PRV51916', 'target': 'No'},\n",
       " {'origin': 'PRV51917', 'target': 'No'},\n",
       " {'origin': 'PRV51918', 'target': 'No'},\n",
       " {'origin': 'PRV51919', 'target': 'No'},\n",
       " {'origin': 'PRV51920', 'target': 'Yes'},\n",
       " {'origin': 'PRV51921', 'target': 'No'},\n",
       " {'origin': 'PRV51922', 'target': 'No'},\n",
       " {'origin': 'PRV51923', 'target': 'No'},\n",
       " {'origin': 'PRV51924', 'target': 'No'},\n",
       " {'origin': 'PRV51925', 'target': 'No'},\n",
       " {'origin': 'PRV51926', 'target': 'No'},\n",
       " {'origin': 'PRV51927', 'target': 'No'},\n",
       " {'origin': 'PRV51928', 'target': 'No'},\n",
       " {'origin': 'PRV51929', 'target': 'No'},\n",
       " {'origin': 'PRV51930', 'target': 'No'},\n",
       " {'origin': 'PRV51931', 'target': 'No'},\n",
       " {'origin': 'PRV51932', 'target': 'No'},\n",
       " {'origin': 'PRV51933', 'target': 'No'},\n",
       " {'origin': 'PRV51934', 'target': 'No'},\n",
       " {'origin': 'PRV51935', 'target': 'No'},\n",
       " {'origin': 'PRV51936', 'target': 'No'},\n",
       " {'origin': 'PRV51937', 'target': 'No'},\n",
       " {'origin': 'PRV51938', 'target': 'No'},\n",
       " {'origin': 'PRV51940', 'target': 'Yes'},\n",
       " {'origin': 'PRV51941', 'target': 'No'},\n",
       " {'origin': 'PRV51942', 'target': 'No'},\n",
       " {'origin': 'PRV51943', 'target': 'No'},\n",
       " {'origin': 'PRV51944', 'target': 'No'},\n",
       " {'origin': 'PRV51946', 'target': 'No'},\n",
       " {'origin': 'PRV51947', 'target': 'No'},\n",
       " {'origin': 'PRV51948', 'target': 'Yes'},\n",
       " {'origin': 'PRV51949', 'target': 'No'},\n",
       " {'origin': 'PRV51950', 'target': 'No'},\n",
       " {'origin': 'PRV51951', 'target': 'Yes'},\n",
       " {'origin': 'PRV51952', 'target': 'No'},\n",
       " {'origin': 'PRV51954', 'target': 'No'},\n",
       " {'origin': 'PRV51956', 'target': 'No'},\n",
       " {'origin': 'PRV51957', 'target': 'No'},\n",
       " {'origin': 'PRV51958', 'target': 'No'},\n",
       " {'origin': 'PRV51959', 'target': 'No'},\n",
       " {'origin': 'PRV51960', 'target': 'No'},\n",
       " {'origin': 'PRV51961', 'target': 'No'},\n",
       " {'origin': 'PRV51963', 'target': 'No'},\n",
       " {'origin': 'PRV51964', 'target': 'No'},\n",
       " {'origin': 'PRV51965', 'target': 'No'},\n",
       " {'origin': 'PRV51966', 'target': 'No'},\n",
       " {'origin': 'PRV51967', 'target': 'No'},\n",
       " {'origin': 'PRV51968', 'target': 'No'},\n",
       " {'origin': 'PRV51969', 'target': 'No'},\n",
       " {'origin': 'PRV51970', 'target': 'No'},\n",
       " {'origin': 'PRV51972', 'target': 'No'},\n",
       " {'origin': 'PRV51973', 'target': 'No'},\n",
       " {'origin': 'PRV51974', 'target': 'No'},\n",
       " {'origin': 'PRV51976', 'target': 'No'},\n",
       " {'origin': 'PRV51977', 'target': 'No'},\n",
       " {'origin': 'PRV51978', 'target': 'No'},\n",
       " {'origin': 'PRV51979', 'target': 'Yes'},\n",
       " {'origin': 'PRV51981', 'target': 'No'},\n",
       " {'origin': 'PRV51983', 'target': 'No'},\n",
       " {'origin': 'PRV51984', 'target': 'No'},\n",
       " {'origin': 'PRV51987', 'target': 'No'},\n",
       " {'origin': 'PRV51988', 'target': 'No'},\n",
       " {'origin': 'PRV51989', 'target': 'No'},\n",
       " {'origin': 'PRV51990', 'target': 'No'},\n",
       " {'origin': 'PRV51991', 'target': 'No'},\n",
       " {'origin': 'PRV51992', 'target': 'No'},\n",
       " {'origin': 'PRV51993', 'target': 'No'},\n",
       " {'origin': 'PRV51994', 'target': 'No'},\n",
       " {'origin': 'PRV51995', 'target': 'No'},\n",
       " {'origin': 'PRV51996', 'target': 'No'},\n",
       " {'origin': 'PRV51998', 'target': 'No'},\n",
       " {'origin': 'PRV51999', 'target': 'No'},\n",
       " {'origin': 'PRV52001', 'target': 'No'},\n",
       " {'origin': 'PRV52002', 'target': 'Yes'},\n",
       " {'origin': 'PRV52003', 'target': 'No'},\n",
       " {'origin': 'PRV52004', 'target': 'No'},\n",
       " {'origin': 'PRV52007', 'target': 'No'},\n",
       " {'origin': 'PRV52008', 'target': 'No'},\n",
       " {'origin': 'PRV52009', 'target': 'No'},\n",
       " {'origin': 'PRV52010', 'target': 'No'},\n",
       " {'origin': 'PRV52011', 'target': 'No'},\n",
       " {'origin': 'PRV52012', 'target': 'No'},\n",
       " {'origin': 'PRV52013', 'target': 'No'},\n",
       " {'origin': 'PRV52014', 'target': 'No'},\n",
       " {'origin': 'PRV52017', 'target': 'No'},\n",
       " {'origin': 'PRV52019', 'target': 'Yes'},\n",
       " {'origin': 'PRV52020', 'target': 'Yes'},\n",
       " {'origin': 'PRV52021', 'target': 'Yes'},\n",
       " {'origin': 'PRV52022', 'target': 'No'},\n",
       " {'origin': 'PRV52024', 'target': 'No'},\n",
       " {'origin': 'PRV52025', 'target': 'No'},\n",
       " {'origin': 'PRV52026', 'target': 'No'},\n",
       " {'origin': 'PRV52027', 'target': 'No'},\n",
       " {'origin': 'PRV52028', 'target': 'No'},\n",
       " {'origin': 'PRV52029', 'target': 'No'},\n",
       " {'origin': 'PRV52030', 'target': 'Yes'},\n",
       " {'origin': 'PRV52031', 'target': 'No'},\n",
       " {'origin': 'PRV52032', 'target': 'Yes'},\n",
       " {'origin': 'PRV52037', 'target': 'No'},\n",
       " {'origin': 'PRV52038', 'target': 'No'},\n",
       " {'origin': 'PRV52039', 'target': 'No'},\n",
       " {'origin': 'PRV52041', 'target': 'Yes'},\n",
       " {'origin': 'PRV52042', 'target': 'No'},\n",
       " {'origin': 'PRV52044', 'target': 'No'},\n",
       " {'origin': 'PRV52045', 'target': 'Yes'},\n",
       " {'origin': 'PRV52046', 'target': 'No'},\n",
       " {'origin': 'PRV52047', 'target': 'No'},\n",
       " {'origin': 'PRV52048', 'target': 'No'},\n",
       " {'origin': 'PRV52049', 'target': 'No'},\n",
       " {'origin': 'PRV52051', 'target': 'No'},\n",
       " {'origin': 'PRV52052', 'target': 'No'},\n",
       " {'origin': 'PRV52054', 'target': 'No'},\n",
       " {'origin': 'PRV52055', 'target': 'No'},\n",
       " {'origin': 'PRV52056', 'target': 'No'},\n",
       " {'origin': 'PRV52057', 'target': 'No'},\n",
       " {'origin': 'PRV52058', 'target': 'No'},\n",
       " {'origin': 'PRV52059', 'target': 'Yes'},\n",
       " {'origin': 'PRV52061', 'target': 'No'},\n",
       " {'origin': 'PRV52062', 'target': 'No'},\n",
       " {'origin': 'PRV52063', 'target': 'No'},\n",
       " {'origin': 'PRV52064', 'target': 'Yes'},\n",
       " {'origin': 'PRV52065', 'target': 'Yes'},\n",
       " {'origin': 'PRV52066', 'target': 'Yes'},\n",
       " {'origin': 'PRV52068', 'target': 'No'},\n",
       " {'origin': 'PRV52069', 'target': 'No'},\n",
       " {'origin': 'PRV52071', 'target': 'No'},\n",
       " {'origin': 'PRV52072', 'target': 'No'},\n",
       " {'origin': 'PRV52073', 'target': 'No'},\n",
       " {'origin': 'PRV52074', 'target': 'No'},\n",
       " {'origin': 'PRV52075', 'target': 'No'},\n",
       " {'origin': 'PRV52076', 'target': 'No'},\n",
       " {'origin': 'PRV52077', 'target': 'Yes'},\n",
       " {'origin': 'PRV52079', 'target': 'No'},\n",
       " {'origin': 'PRV52081', 'target': 'No'},\n",
       " {'origin': 'PRV52082', 'target': 'No'},\n",
       " {'origin': 'PRV52084', 'target': 'No'},\n",
       " {'origin': 'PRV52085', 'target': 'No'},\n",
       " {'origin': 'PRV52087', 'target': 'No'},\n",
       " {'origin': 'PRV52088', 'target': 'No'},\n",
       " {'origin': 'PRV52089', 'target': 'Yes'},\n",
       " {'origin': 'PRV52090', 'target': 'No'},\n",
       " {'origin': 'PRV52092', 'target': 'No'},\n",
       " {'origin': 'PRV52094', 'target': 'No'},\n",
       " {'origin': 'PRV52095', 'target': 'No'},\n",
       " {'origin': 'PRV52097', 'target': 'No'},\n",
       " {'origin': 'PRV52098', 'target': 'No'},\n",
       " {'origin': 'PRV52099', 'target': 'No'},\n",
       " {'origin': 'PRV52100', 'target': 'Yes'},\n",
       " {'origin': 'PRV52101', 'target': 'No'},\n",
       " {'origin': 'PRV52102', 'target': 'No'},\n",
       " {'origin': 'PRV52104', 'target': 'No'},\n",
       " {'origin': 'PRV52105', 'target': 'No'},\n",
       " {'origin': 'PRV52107', 'target': 'No'},\n",
       " {'origin': 'PRV52109', 'target': 'No'},\n",
       " {'origin': 'PRV52111', 'target': 'No'},\n",
       " {'origin': 'PRV52112', 'target': 'No'},\n",
       " {'origin': 'PRV52113', 'target': 'No'},\n",
       " {'origin': 'PRV52114', 'target': 'Yes'},\n",
       " {'origin': 'PRV52115', 'target': 'Yes'},\n",
       " {'origin': 'PRV52118', 'target': 'No'},\n",
       " {'origin': 'PRV52119', 'target': 'Yes'},\n",
       " {'origin': 'PRV52120', 'target': 'Yes'},\n",
       " {'origin': 'PRV52121', 'target': 'No'},\n",
       " {'origin': 'PRV52122', 'target': 'No'},\n",
       " {'origin': 'PRV52123', 'target': 'Yes'},\n",
       " {'origin': 'PRV52124', 'target': 'Yes'},\n",
       " {'origin': 'PRV52126', 'target': 'No'},\n",
       " {'origin': 'PRV52127', 'target': 'No'},\n",
       " {'origin': 'PRV52128', 'target': 'No'},\n",
       " {'origin': 'PRV52129', 'target': 'No'},\n",
       " {'origin': 'PRV52130', 'target': 'No'},\n",
       " {'origin': 'PRV52131', 'target': 'No'},\n",
       " {'origin': 'PRV52133', 'target': 'No'},\n",
       " {'origin': 'PRV52135', 'target': 'Yes'},\n",
       " {'origin': 'PRV52136', 'target': 'No'},\n",
       " {'origin': 'PRV52138', 'target': 'No'},\n",
       " {'origin': 'PRV52140', 'target': 'No'},\n",
       " {'origin': 'PRV52141', 'target': 'No'},\n",
       " {'origin': 'PRV52142', 'target': 'No'},\n",
       " {'origin': 'PRV52143', 'target': 'No'},\n",
       " {'origin': 'PRV52144', 'target': 'No'},\n",
       " {'origin': 'PRV52145', 'target': 'No'},\n",
       " {'origin': 'PRV52146', 'target': 'No'},\n",
       " {'origin': 'PRV52147', 'target': 'Yes'},\n",
       " {'origin': 'PRV52148', 'target': 'No'},\n",
       " {'origin': 'PRV52149', 'target': 'No'},\n",
       " {'origin': 'PRV52150', 'target': 'No'},\n",
       " {'origin': 'PRV52151', 'target': 'Yes'},\n",
       " {'origin': 'PRV52152', 'target': 'No'},\n",
       " {'origin': 'PRV52154', 'target': 'No'},\n",
       " {'origin': 'PRV52155', 'target': 'No'},\n",
       " {'origin': 'PRV52156', 'target': 'No'},\n",
       " {'origin': 'PRV52157', 'target': 'No'},\n",
       " {'origin': 'PRV52159', 'target': 'No'},\n",
       " {'origin': 'PRV52160', 'target': 'No'},\n",
       " {'origin': 'PRV52161', 'target': 'No'},\n",
       " {'origin': 'PRV52162', 'target': 'No'},\n",
       " {'origin': 'PRV52163', 'target': 'No'},\n",
       " {'origin': 'PRV52165', 'target': 'Yes'},\n",
       " {'origin': 'PRV52166', 'target': 'No'},\n",
       " {'origin': 'PRV52167', 'target': 'No'},\n",
       " {'origin': 'PRV52168', 'target': 'No'},\n",
       " {'origin': 'PRV52169', 'target': 'No'},\n",
       " {'origin': 'PRV52170', 'target': 'No'},\n",
       " {'origin': 'PRV52171', 'target': 'No'},\n",
       " {'origin': 'PRV52173', 'target': 'Yes'},\n",
       " {'origin': 'PRV52174', 'target': 'No'},\n",
       " {'origin': 'PRV52175', 'target': 'No'},\n",
       " {'origin': 'PRV52176', 'target': 'No'},\n",
       " {'origin': 'PRV52177', 'target': 'No'},\n",
       " {'origin': 'PRV52178', 'target': 'Yes'},\n",
       " {'origin': 'PRV52179', 'target': 'No'},\n",
       " {'origin': 'PRV52180', 'target': 'No'},\n",
       " {'origin': 'PRV52181', 'target': 'Yes'},\n",
       " {'origin': 'PRV52182', 'target': 'No'},\n",
       " {'origin': 'PRV52184', 'target': 'No'},\n",
       " {'origin': 'PRV52185', 'target': 'No'},\n",
       " {'origin': 'PRV52186', 'target': 'No'},\n",
       " {'origin': 'PRV52187', 'target': 'No'},\n",
       " {'origin': 'PRV52188', 'target': 'No'},\n",
       " {'origin': 'PRV52189', 'target': 'No'},\n",
       " {'origin': 'PRV52191', 'target': 'No'},\n",
       " {'origin': 'PRV52192', 'target': 'No'},\n",
       " {'origin': 'PRV52193', 'target': 'No'},\n",
       " {'origin': 'PRV52195', 'target': 'Yes'},\n",
       " {'origin': 'PRV52196', 'target': 'No'},\n",
       " {'origin': 'PRV52197', 'target': 'No'},\n",
       " {'origin': 'PRV52199', 'target': 'No'},\n",
       " {'origin': 'PRV52200', 'target': 'No'},\n",
       " {'origin': 'PRV52201', 'target': 'No'},\n",
       " {'origin': 'PRV52202', 'target': 'No'},\n",
       " {'origin': 'PRV52204', 'target': 'No'},\n",
       " {'origin': 'PRV52205', 'target': 'No'},\n",
       " {'origin': 'PRV52206', 'target': 'No'},\n",
       " {'origin': 'PRV52208', 'target': 'No'},\n",
       " {'origin': 'PRV52209', 'target': 'No'},\n",
       " {'origin': 'PRV52211', 'target': 'No'},\n",
       " {'origin': 'PRV52212', 'target': 'No'},\n",
       " {'origin': 'PRV52213', 'target': 'No'},\n",
       " {'origin': 'PRV52214', 'target': 'No'},\n",
       " {'origin': 'PRV52216', 'target': 'No'},\n",
       " {'origin': 'PRV52217', 'target': 'No'},\n",
       " {'origin': 'PRV52218', 'target': 'No'},\n",
       " {'origin': 'PRV52219', 'target': 'No'},\n",
       " {'origin': 'PRV52220', 'target': 'No'},\n",
       " {'origin': 'PRV52221', 'target': 'No'},\n",
       " {'origin': 'PRV52222', 'target': 'No'},\n",
       " {'origin': 'PRV52224', 'target': 'No'},\n",
       " {'origin': 'PRV52225', 'target': 'No'},\n",
       " {'origin': 'PRV52226', 'target': 'No'},\n",
       " {'origin': 'PRV52227', 'target': 'No'},\n",
       " {'origin': 'PRV52228', 'target': 'No'},\n",
       " {'origin': 'PRV52229', 'target': 'No'},\n",
       " {'origin': 'PRV52230', 'target': 'No'},\n",
       " {'origin': 'PRV52231', 'target': 'No'},\n",
       " {'origin': 'PRV52232', 'target': 'No'},\n",
       " {'origin': 'PRV52233', 'target': 'No'},\n",
       " {'origin': 'PRV52235', 'target': 'No'},\n",
       " {'origin': 'PRV52236', 'target': 'No'},\n",
       " {'origin': 'PRV52237', 'target': 'No'},\n",
       " {'origin': 'PRV52238', 'target': 'No'},\n",
       " {'origin': 'PRV52240', 'target': 'No'},\n",
       " {'origin': 'PRV52241', 'target': 'No'},\n",
       " {'origin': 'PRV52242', 'target': 'No'},\n",
       " {'origin': 'PRV52246', 'target': 'No'},\n",
       " {'origin': 'PRV52247', 'target': 'No'},\n",
       " {'origin': 'PRV52248', 'target': 'No'},\n",
       " ...]"
      ]
     },
     "execution_count": 68,
     "metadata": {},
     "output_type": "execute_result"
    }
   ],
   "source": [
    "rels"
   ]
  },
  {
   "cell_type": "code",
   "execution_count": 74,
   "id": "1f0ab08e",
   "metadata": {},
   "outputs": [
    {
     "data": {
      "text/html": [
       "<table></table>"
      ],
      "text/plain": []
     },
     "execution_count": 74,
     "metadata": {},
     "output_type": "execute_result"
    }
   ],
   "source": [
    "query = \"\"\"\n",
    "    UNWIND $rels as rel\n",
    "    MATCH (e1:Provider {idx: rel.origin})\n",
    "    MATCH (e2:IsFraudulent {IsFraudulent: rel.target})\n",
    "    MERGE (e1)-[m:IS_FRAUD]->(e2)\n",
    "\n",
    "\"\"\"\n",
    "db.run(query, {'rels': rels}).to_table()"
   ]
  },
  {
   "cell_type": "markdown",
   "id": "f75f101c",
   "metadata": {},
   "source": [
    "## Claim nodes"
   ]
  },
  {
   "cell_type": "code",
   "execution_count": 28,
   "id": "026eb8de",
   "metadata": {},
   "outputs": [
    {
     "data": {
      "text/html": [
       "<div>\n",
       "<style scoped>\n",
       "    .dataframe tbody tr th:only-of-type {\n",
       "        vertical-align: middle;\n",
       "    }\n",
       "\n",
       "    .dataframe tbody tr th {\n",
       "        vertical-align: top;\n",
       "    }\n",
       "\n",
       "    .dataframe thead th {\n",
       "        text-align: right;\n",
       "    }\n",
       "</style>\n",
       "<table border=\"1\" class=\"dataframe\">\n",
       "  <thead>\n",
       "    <tr style=\"text-align: right;\">\n",
       "      <th></th>\n",
       "      <th>BeneID</th>\n",
       "      <th>ClaimID</th>\n",
       "      <th>ClaimStartDt</th>\n",
       "      <th>ClaimEndDt</th>\n",
       "      <th>Provider</th>\n",
       "      <th>InscClaimAmtReimbursed</th>\n",
       "      <th>AttendingPhysician</th>\n",
       "      <th>OperatingPhysician</th>\n",
       "      <th>OtherPhysician</th>\n",
       "      <th>AdmissionDt</th>\n",
       "      <th>...</th>\n",
       "      <th>ClmDiagnosisCode_8</th>\n",
       "      <th>ClmDiagnosisCode_9</th>\n",
       "      <th>ClmDiagnosisCode_10</th>\n",
       "      <th>ClmProcedureCode_1</th>\n",
       "      <th>ClmProcedureCode_2</th>\n",
       "      <th>ClmProcedureCode_3</th>\n",
       "      <th>ClmProcedureCode_4</th>\n",
       "      <th>ClmProcedureCode_5</th>\n",
       "      <th>ClmProcedureCode_6</th>\n",
       "      <th>type</th>\n",
       "    </tr>\n",
       "  </thead>\n",
       "  <tbody>\n",
       "    <tr>\n",
       "      <th>0</th>\n",
       "      <td>BENE11001</td>\n",
       "      <td>CLM46614</td>\n",
       "      <td>2009-04-12</td>\n",
       "      <td>2009-04-18</td>\n",
       "      <td>PRV55912</td>\n",
       "      <td>26000</td>\n",
       "      <td>PHY390922</td>\n",
       "      <td>NaN</td>\n",
       "      <td>NaN</td>\n",
       "      <td>2009-04-12</td>\n",
       "      <td>...</td>\n",
       "      <td>19889</td>\n",
       "      <td>5849</td>\n",
       "      <td>NaN</td>\n",
       "      <td>NaN</td>\n",
       "      <td>NaN</td>\n",
       "      <td>NaN</td>\n",
       "      <td>NaN</td>\n",
       "      <td>NaN</td>\n",
       "      <td>NaN</td>\n",
       "      <td>Inpatient</td>\n",
       "    </tr>\n",
       "    <tr>\n",
       "      <th>1</th>\n",
       "      <td>BENE11001</td>\n",
       "      <td>CLM66048</td>\n",
       "      <td>2009-08-31</td>\n",
       "      <td>2009-09-02</td>\n",
       "      <td>PRV55907</td>\n",
       "      <td>5000</td>\n",
       "      <td>PHY318495</td>\n",
       "      <td>PHY318495</td>\n",
       "      <td>NaN</td>\n",
       "      <td>2009-08-31</td>\n",
       "      <td>...</td>\n",
       "      <td>NaN</td>\n",
       "      <td>NaN</td>\n",
       "      <td>NaN</td>\n",
       "      <td>7092.0</td>\n",
       "      <td>NaN</td>\n",
       "      <td>NaN</td>\n",
       "      <td>NaN</td>\n",
       "      <td>NaN</td>\n",
       "      <td>NaN</td>\n",
       "      <td>Inpatient</td>\n",
       "    </tr>\n",
       "    <tr>\n",
       "      <th>2</th>\n",
       "      <td>BENE11001</td>\n",
       "      <td>CLM68358</td>\n",
       "      <td>2009-09-17</td>\n",
       "      <td>2009-09-20</td>\n",
       "      <td>PRV56046</td>\n",
       "      <td>5000</td>\n",
       "      <td>PHY372395</td>\n",
       "      <td>NaN</td>\n",
       "      <td>PHY324689</td>\n",
       "      <td>2009-09-17</td>\n",
       "      <td>...</td>\n",
       "      <td>NaN</td>\n",
       "      <td>NaN</td>\n",
       "      <td>NaN</td>\n",
       "      <td>NaN</td>\n",
       "      <td>NaN</td>\n",
       "      <td>NaN</td>\n",
       "      <td>NaN</td>\n",
       "      <td>NaN</td>\n",
       "      <td>NaN</td>\n",
       "      <td>Inpatient</td>\n",
       "    </tr>\n",
       "    <tr>\n",
       "      <th>3</th>\n",
       "      <td>BENE11011</td>\n",
       "      <td>CLM38412</td>\n",
       "      <td>2009-02-14</td>\n",
       "      <td>2009-02-22</td>\n",
       "      <td>PRV52405</td>\n",
       "      <td>5000</td>\n",
       "      <td>PHY369659</td>\n",
       "      <td>PHY392961</td>\n",
       "      <td>PHY349768</td>\n",
       "      <td>2009-02-14</td>\n",
       "      <td>...</td>\n",
       "      <td>40390</td>\n",
       "      <td>4019</td>\n",
       "      <td>NaN</td>\n",
       "      <td>331.0</td>\n",
       "      <td>NaN</td>\n",
       "      <td>NaN</td>\n",
       "      <td>NaN</td>\n",
       "      <td>NaN</td>\n",
       "      <td>NaN</td>\n",
       "      <td>Inpatient</td>\n",
       "    </tr>\n",
       "    <tr>\n",
       "      <th>4</th>\n",
       "      <td>BENE11014</td>\n",
       "      <td>CLM63689</td>\n",
       "      <td>2009-08-13</td>\n",
       "      <td>2009-08-30</td>\n",
       "      <td>PRV56614</td>\n",
       "      <td>10000</td>\n",
       "      <td>PHY379376</td>\n",
       "      <td>PHY398258</td>\n",
       "      <td>NaN</td>\n",
       "      <td>2009-08-13</td>\n",
       "      <td>...</td>\n",
       "      <td>29620</td>\n",
       "      <td>20300</td>\n",
       "      <td>NaN</td>\n",
       "      <td>3893.0</td>\n",
       "      <td>NaN</td>\n",
       "      <td>NaN</td>\n",
       "      <td>NaN</td>\n",
       "      <td>NaN</td>\n",
       "      <td>NaN</td>\n",
       "      <td>Inpatient</td>\n",
       "    </tr>\n",
       "    <tr>\n",
       "      <th>...</th>\n",
       "      <td>...</td>\n",
       "      <td>...</td>\n",
       "      <td>...</td>\n",
       "      <td>...</td>\n",
       "      <td>...</td>\n",
       "      <td>...</td>\n",
       "      <td>...</td>\n",
       "      <td>...</td>\n",
       "      <td>...</td>\n",
       "      <td>...</td>\n",
       "      <td>...</td>\n",
       "      <td>...</td>\n",
       "      <td>...</td>\n",
       "      <td>...</td>\n",
       "      <td>...</td>\n",
       "      <td>...</td>\n",
       "      <td>...</td>\n",
       "      <td>...</td>\n",
       "      <td>...</td>\n",
       "      <td>...</td>\n",
       "      <td>...</td>\n",
       "    </tr>\n",
       "    <tr>\n",
       "      <th>517732</th>\n",
       "      <td>BENE159198</td>\n",
       "      <td>CLM510792</td>\n",
       "      <td>2009-08-06</td>\n",
       "      <td>2009-08-06</td>\n",
       "      <td>PRV53699</td>\n",
       "      <td>800</td>\n",
       "      <td>PHY364188</td>\n",
       "      <td>PHY364188</td>\n",
       "      <td>PHY385752</td>\n",
       "      <td>NaN</td>\n",
       "      <td>...</td>\n",
       "      <td>NaN</td>\n",
       "      <td>NaN</td>\n",
       "      <td>NaN</td>\n",
       "      <td>NaN</td>\n",
       "      <td>NaN</td>\n",
       "      <td>NaN</td>\n",
       "      <td>NaN</td>\n",
       "      <td>NaN</td>\n",
       "      <td>NaN</td>\n",
       "      <td>Outpatient</td>\n",
       "    </tr>\n",
       "    <tr>\n",
       "      <th>517733</th>\n",
       "      <td>BENE159198</td>\n",
       "      <td>CLM551294</td>\n",
       "      <td>2009-08-29</td>\n",
       "      <td>2009-08-29</td>\n",
       "      <td>PRV53702</td>\n",
       "      <td>400</td>\n",
       "      <td>PHY423019</td>\n",
       "      <td>PHY332284</td>\n",
       "      <td>NaN</td>\n",
       "      <td>NaN</td>\n",
       "      <td>...</td>\n",
       "      <td>NaN</td>\n",
       "      <td>NaN</td>\n",
       "      <td>NaN</td>\n",
       "      <td>NaN</td>\n",
       "      <td>NaN</td>\n",
       "      <td>NaN</td>\n",
       "      <td>NaN</td>\n",
       "      <td>NaN</td>\n",
       "      <td>NaN</td>\n",
       "      <td>Outpatient</td>\n",
       "    </tr>\n",
       "    <tr>\n",
       "      <th>517734</th>\n",
       "      <td>BENE159198</td>\n",
       "      <td>CLM596444</td>\n",
       "      <td>2009-09-24</td>\n",
       "      <td>2009-09-24</td>\n",
       "      <td>PRV53676</td>\n",
       "      <td>60</td>\n",
       "      <td>PHY361063</td>\n",
       "      <td>NaN</td>\n",
       "      <td>NaN</td>\n",
       "      <td>NaN</td>\n",
       "      <td>...</td>\n",
       "      <td>NaN</td>\n",
       "      <td>NaN</td>\n",
       "      <td>NaN</td>\n",
       "      <td>NaN</td>\n",
       "      <td>NaN</td>\n",
       "      <td>NaN</td>\n",
       "      <td>NaN</td>\n",
       "      <td>NaN</td>\n",
       "      <td>NaN</td>\n",
       "      <td>Outpatient</td>\n",
       "    </tr>\n",
       "    <tr>\n",
       "      <th>517735</th>\n",
       "      <td>BENE159198</td>\n",
       "      <td>CLM636992</td>\n",
       "      <td>2009-10-18</td>\n",
       "      <td>2009-10-18</td>\n",
       "      <td>PRV53689</td>\n",
       "      <td>70</td>\n",
       "      <td>PHY403198</td>\n",
       "      <td>NaN</td>\n",
       "      <td>PHY419379</td>\n",
       "      <td>NaN</td>\n",
       "      <td>...</td>\n",
       "      <td>NaN</td>\n",
       "      <td>NaN</td>\n",
       "      <td>NaN</td>\n",
       "      <td>NaN</td>\n",
       "      <td>NaN</td>\n",
       "      <td>NaN</td>\n",
       "      <td>NaN</td>\n",
       "      <td>NaN</td>\n",
       "      <td>NaN</td>\n",
       "      <td>Outpatient</td>\n",
       "    </tr>\n",
       "    <tr>\n",
       "      <th>517736</th>\n",
       "      <td>BENE159198</td>\n",
       "      <td>CLM686139</td>\n",
       "      <td>2009-11-17</td>\n",
       "      <td>2009-11-18</td>\n",
       "      <td>PRV53689</td>\n",
       "      <td>80</td>\n",
       "      <td>PHY419379</td>\n",
       "      <td>NaN</td>\n",
       "      <td>PHY419379</td>\n",
       "      <td>NaN</td>\n",
       "      <td>...</td>\n",
       "      <td>V103</td>\n",
       "      <td>NaN</td>\n",
       "      <td>NaN</td>\n",
       "      <td>NaN</td>\n",
       "      <td>NaN</td>\n",
       "      <td>NaN</td>\n",
       "      <td>NaN</td>\n",
       "      <td>NaN</td>\n",
       "      <td>NaN</td>\n",
       "      <td>Outpatient</td>\n",
       "    </tr>\n",
       "  </tbody>\n",
       "</table>\n",
       "<p>558211 rows × 31 columns</p>\n",
       "</div>"
      ],
      "text/plain": [
       "            BeneID    ClaimID ClaimStartDt  ClaimEndDt  Provider  \\\n",
       "0        BENE11001   CLM46614   2009-04-12  2009-04-18  PRV55912   \n",
       "1        BENE11001   CLM66048   2009-08-31  2009-09-02  PRV55907   \n",
       "2        BENE11001   CLM68358   2009-09-17  2009-09-20  PRV56046   \n",
       "3        BENE11011   CLM38412   2009-02-14  2009-02-22  PRV52405   \n",
       "4        BENE11014   CLM63689   2009-08-13  2009-08-30  PRV56614   \n",
       "...            ...        ...          ...         ...       ...   \n",
       "517732  BENE159198  CLM510792   2009-08-06  2009-08-06  PRV53699   \n",
       "517733  BENE159198  CLM551294   2009-08-29  2009-08-29  PRV53702   \n",
       "517734  BENE159198  CLM596444   2009-09-24  2009-09-24  PRV53676   \n",
       "517735  BENE159198  CLM636992   2009-10-18  2009-10-18  PRV53689   \n",
       "517736  BENE159198  CLM686139   2009-11-17  2009-11-18  PRV53689   \n",
       "\n",
       "        InscClaimAmtReimbursed AttendingPhysician OperatingPhysician  \\\n",
       "0                        26000          PHY390922                NaN   \n",
       "1                         5000          PHY318495          PHY318495   \n",
       "2                         5000          PHY372395                NaN   \n",
       "3                         5000          PHY369659          PHY392961   \n",
       "4                        10000          PHY379376          PHY398258   \n",
       "...                        ...                ...                ...   \n",
       "517732                     800          PHY364188          PHY364188   \n",
       "517733                     400          PHY423019          PHY332284   \n",
       "517734                      60          PHY361063                NaN   \n",
       "517735                      70          PHY403198                NaN   \n",
       "517736                      80          PHY419379                NaN   \n",
       "\n",
       "       OtherPhysician AdmissionDt  ... ClmDiagnosisCode_8  ClmDiagnosisCode_9  \\\n",
       "0                 NaN  2009-04-12  ...              19889                5849   \n",
       "1                 NaN  2009-08-31  ...                NaN                 NaN   \n",
       "2           PHY324689  2009-09-17  ...                NaN                 NaN   \n",
       "3           PHY349768  2009-02-14  ...              40390                4019   \n",
       "4                 NaN  2009-08-13  ...              29620               20300   \n",
       "...               ...         ...  ...                ...                 ...   \n",
       "517732      PHY385752         NaN  ...                NaN                 NaN   \n",
       "517733            NaN         NaN  ...                NaN                 NaN   \n",
       "517734            NaN         NaN  ...                NaN                 NaN   \n",
       "517735      PHY419379         NaN  ...                NaN                 NaN   \n",
       "517736      PHY419379         NaN  ...               V103                 NaN   \n",
       "\n",
       "       ClmDiagnosisCode_10 ClmProcedureCode_1 ClmProcedureCode_2  \\\n",
       "0                      NaN                NaN                NaN   \n",
       "1                      NaN             7092.0                NaN   \n",
       "2                      NaN                NaN                NaN   \n",
       "3                      NaN              331.0                NaN   \n",
       "4                      NaN             3893.0                NaN   \n",
       "...                    ...                ...                ...   \n",
       "517732                 NaN                NaN                NaN   \n",
       "517733                 NaN                NaN                NaN   \n",
       "517734                 NaN                NaN                NaN   \n",
       "517735                 NaN                NaN                NaN   \n",
       "517736                 NaN                NaN                NaN   \n",
       "\n",
       "       ClmProcedureCode_3 ClmProcedureCode_4 ClmProcedureCode_5  \\\n",
       "0                     NaN                NaN                NaN   \n",
       "1                     NaN                NaN                NaN   \n",
       "2                     NaN                NaN                NaN   \n",
       "3                     NaN                NaN                NaN   \n",
       "4                     NaN                NaN                NaN   \n",
       "...                   ...                ...                ...   \n",
       "517732                NaN                NaN                NaN   \n",
       "517733                NaN                NaN                NaN   \n",
       "517734                NaN                NaN                NaN   \n",
       "517735                NaN                NaN                NaN   \n",
       "517736                NaN                NaN                NaN   \n",
       "\n",
       "       ClmProcedureCode_6        type  \n",
       "0                     NaN   Inpatient  \n",
       "1                     NaN   Inpatient  \n",
       "2                     NaN   Inpatient  \n",
       "3                     NaN   Inpatient  \n",
       "4                     NaN   Inpatient  \n",
       "...                   ...         ...  \n",
       "517732                NaN  Outpatient  \n",
       "517733                NaN  Outpatient  \n",
       "517734                NaN  Outpatient  \n",
       "517735                NaN  Outpatient  \n",
       "517736                NaN  Outpatient  \n",
       "\n",
       "[558211 rows x 31 columns]"
      ]
     },
     "execution_count": 28,
     "metadata": {},
     "output_type": "execute_result"
    }
   ],
   "source": [
    "df_all"
   ]
  },
  {
   "cell_type": "code",
   "execution_count": 53,
   "id": "3ec9cbb3",
   "metadata": {},
   "outputs": [
    {
     "name": "stdout",
     "output_type": "stream",
     "text": [
      "<class 'pandas.core.frame.DataFrame'>\n",
      "Int64Index: 558211 entries, 0 to 517736\n",
      "Data columns (total 31 columns):\n",
      " #   Column                  Non-Null Count   Dtype  \n",
      "---  ------                  --------------   -----  \n",
      " 0   BeneID                  558211 non-null  object \n",
      " 1   ClaimID                 558211 non-null  object \n",
      " 2   ClaimStartDt            558211 non-null  object \n",
      " 3   ClaimEndDt              558211 non-null  object \n",
      " 4   Provider                558211 non-null  object \n",
      " 5   InscClaimAmtReimbursed  558211 non-null  int64  \n",
      " 6   AttendingPhysician      556703 non-null  object \n",
      " 7   OperatingPhysician      114447 non-null  object \n",
      " 8   OtherPhysician          199736 non-null  object \n",
      " 9   AdmissionDt             40474 non-null   object \n",
      " 10  ClmAdmitDiagnosisCode   145899 non-null  object \n",
      " 11  DeductibleAmtPaid       557312 non-null  float64\n",
      " 12  DischargeDt             40474 non-null   object \n",
      " 13  DiagnosisGroupCode      40474 non-null   object \n",
      " 14  ClmDiagnosisCode_1      547758 non-null  object \n",
      " 15  ClmDiagnosisCode_2      362605 non-null  object \n",
      " 16  ClmDiagnosisCode_3      243055 non-null  object \n",
      " 17  ClmDiagnosisCode_4      164536 non-null  object \n",
      " 18  ClmDiagnosisCode_5      111924 non-null  object \n",
      " 19  ClmDiagnosisCode_6      84392 non-null   object \n",
      " 20  ClmDiagnosisCode_7      66177 non-null   object \n",
      " 21  ClmDiagnosisCode_8      53444 non-null   object \n",
      " 22  ClmDiagnosisCode_9      41815 non-null   object \n",
      " 23  ClmDiagnosisCode_10     5010 non-null    object \n",
      " 24  ClmProcedureCode_1      23310 non-null   float64\n",
      " 25  ClmProcedureCode_2      5490 non-null    float64\n",
      " 26  ClmProcedureCode_3      969 non-null     float64\n",
      " 27  ClmProcedureCode_4      118 non-null     float64\n",
      " 28  ClmProcedureCode_5      9 non-null       float64\n",
      " 29  ClmProcedureCode_6      0 non-null       float64\n",
      " 30  type                    558211 non-null  object \n",
      "dtypes: float64(7), int64(1), object(23)\n",
      "memory usage: 136.3+ MB\n"
     ]
    }
   ],
   "source": [
    "df_all.info()"
   ]
  },
  {
   "cell_type": "code",
   "execution_count": 15,
   "id": "d843c679",
   "metadata": {},
   "outputs": [
    {
     "data": {
      "text/plain": [
       "['CLM46614', 'CLM66048', 'CLM68358']"
      ]
     },
     "execution_count": 15,
     "metadata": {},
     "output_type": "execute_result"
    }
   ],
   "source": [
    "claims = list(df_all.ClaimID.unique())\n",
    "claims[:3]"
   ]
  },
  {
   "cell_type": "code",
   "execution_count": 16,
   "id": "08ef19f0",
   "metadata": {},
   "outputs": [
    {
     "data": {
      "text/plain": [
       "558211"
      ]
     },
     "execution_count": 16,
     "metadata": {},
     "output_type": "execute_result"
    }
   ],
   "source": [
    "len(claims)"
   ]
  },
  {
   "cell_type": "code",
   "execution_count": 17,
   "id": "680eefe4",
   "metadata": {},
   "outputs": [],
   "source": [
    "clms = [{'idx': x} for x in claims]"
   ]
  },
  {
   "cell_type": "code",
   "execution_count": 18,
   "id": "61259e88",
   "metadata": {},
   "outputs": [
    {
     "data": {
      "text/plain": [
       "[{'idx': 'CLM46614'}, {'idx': 'CLM66048'}, {'idx': 'CLM68358'}]"
      ]
     },
     "execution_count": 18,
     "metadata": {},
     "output_type": "execute_result"
    }
   ],
   "source": [
    "clms[:3]"
   ]
  },
  {
   "cell_type": "code",
   "execution_count": 19,
   "id": "13868944",
   "metadata": {},
   "outputs": [],
   "source": [
    "# set constraint on claim node that idx is unique\n",
    "query=\"\"\"CREATE CONSTRAINT ON (n:Claim) ASSERT n.idx IS UNIQUE\"\"\""
   ]
  },
  {
   "cell_type": "code",
   "execution_count": 155,
   "id": "f3b2080d",
   "metadata": {},
   "outputs": [
    {
     "data": {
      "text/html": [
       "(No data)"
      ],
      "text/plain": [
       "(No data)"
      ]
     },
     "execution_count": 155,
     "metadata": {},
     "output_type": "execute_result"
    }
   ],
   "source": [
    "db.run(query)"
   ]
  },
  {
   "cell_type": "code",
   "execution_count": 20,
   "id": "3a420541",
   "metadata": {},
   "outputs": [],
   "source": [
    "query = \"\"\"CALL apoc.periodic.iterate(\n",
    "    'UNWIND $clms AS clm MERGE (b:Claim {idx: clm.idx}) RETURN b',\n",
    "    'WITH b RETURN count(b)',\n",
    "    {batchSize:100, parallel:false, params: {clms:$clms}})\"\"\""
   ]
  },
  {
   "cell_type": "code",
   "execution_count": 24,
   "id": "88df0a69",
   "metadata": {},
   "outputs": [],
   "source": [
    "i=0\n",
    "while i < len(claims):\n",
    "    db.run(query, {\"clms\":clms[i:i+5000]}).to_table()\n",
    "    i=i+5000"
   ]
  },
  {
   "cell_type": "markdown",
   "id": "d6d4671f",
   "metadata": {},
   "source": [
    "## Physician nodes:"
   ]
  },
  {
   "cell_type": "code",
   "execution_count": 34,
   "id": "414e1382",
   "metadata": {},
   "outputs": [],
   "source": [
    "phy_df = df_all[df_all['AttendingPhysician'].notna()]"
   ]
  },
  {
   "cell_type": "code",
   "execution_count": 36,
   "id": "51f82cf6",
   "metadata": {},
   "outputs": [
    {
     "data": {
      "text/plain": [
       "['PHY390922', 'PHY318495', 'PHY372395']"
      ]
     },
     "execution_count": 36,
     "metadata": {},
     "output_type": "execute_result"
    }
   ],
   "source": [
    "physicians = list(phy_df.AttendingPhysician.unique())\n",
    "physicians[:3]"
   ]
  },
  {
   "cell_type": "code",
   "execution_count": 37,
   "id": "be67b190",
   "metadata": {},
   "outputs": [
    {
     "data": {
      "text/plain": [
       "82063"
      ]
     },
     "execution_count": 37,
     "metadata": {},
     "output_type": "execute_result"
    }
   ],
   "source": [
    "len(physicians)"
   ]
  },
  {
   "cell_type": "code",
   "execution_count": 38,
   "id": "201148e9",
   "metadata": {},
   "outputs": [],
   "source": [
    "phs = [{'idx': x} for x in physicians]"
   ]
  },
  {
   "cell_type": "code",
   "execution_count": 39,
   "id": "418ff8db",
   "metadata": {},
   "outputs": [],
   "source": [
    "# set constraint on beneficiary node that idx is unique\n",
    "query=\"\"\"CREATE CONSTRAINT ON (n:Physician) ASSERT n.idx IS UNIQUE\"\"\""
   ]
  },
  {
   "cell_type": "code",
   "execution_count": 146,
   "id": "141d8e31",
   "metadata": {},
   "outputs": [
    {
     "data": {
      "text/html": [
       "(No data)"
      ],
      "text/plain": [
       "(No data)"
      ]
     },
     "execution_count": 146,
     "metadata": {},
     "output_type": "execute_result"
    }
   ],
   "source": [
    "db.run(query)"
   ]
  },
  {
   "cell_type": "code",
   "execution_count": 40,
   "id": "cdc51e30",
   "metadata": {},
   "outputs": [
    {
     "data": {
      "text/html": [
       "(No data)"
      ],
      "text/plain": [
       "(No data)"
      ]
     },
     "execution_count": 40,
     "metadata": {},
     "output_type": "execute_result"
    }
   ],
   "source": [
    "query = \"\"\"\n",
    "    UNWIND $phs AS ph\n",
    "    MERGE (b:Physician {idx: ph.idx})\n",
    "        \"\"\"\n",
    "db.run(query, {\"phs\":phs})"
   ]
  },
  {
   "cell_type": "markdown",
   "id": "2309e5d3",
   "metadata": {},
   "source": [
    "## (Provider)-[:HAS_WORKED_WITH]->(Physician)"
   ]
  },
  {
   "cell_type": "code",
   "execution_count": 41,
   "id": "d3a895be",
   "metadata": {},
   "outputs": [],
   "source": [
    "grp=df_all.groupby(['Provider','AttendingPhysician'])['ClaimID'].count()"
   ]
  },
  {
   "cell_type": "code",
   "execution_count": 42,
   "id": "87100ecc",
   "metadata": {},
   "outputs": [],
   "source": [
    "grp=grp.reset_index()"
   ]
  },
  {
   "cell_type": "code",
   "execution_count": 43,
   "id": "0980f0d9",
   "metadata": {},
   "outputs": [
    {
     "data": {
      "text/html": [
       "<div>\n",
       "<style scoped>\n",
       "    .dataframe tbody tr th:only-of-type {\n",
       "        vertical-align: middle;\n",
       "    }\n",
       "\n",
       "    .dataframe tbody tr th {\n",
       "        vertical-align: top;\n",
       "    }\n",
       "\n",
       "    .dataframe thead th {\n",
       "        text-align: right;\n",
       "    }\n",
       "</style>\n",
       "<table border=\"1\" class=\"dataframe\">\n",
       "  <thead>\n",
       "    <tr style=\"text-align: right;\">\n",
       "      <th></th>\n",
       "      <th>Provider</th>\n",
       "      <th>AttendingPhysician</th>\n",
       "      <th>ClaimID</th>\n",
       "    </tr>\n",
       "  </thead>\n",
       "  <tbody>\n",
       "    <tr>\n",
       "      <th>0</th>\n",
       "      <td>PRV51001</td>\n",
       "      <td>PHY311126</td>\n",
       "      <td>1</td>\n",
       "    </tr>\n",
       "    <tr>\n",
       "      <th>1</th>\n",
       "      <td>PRV51001</td>\n",
       "      <td>PHY318842</td>\n",
       "      <td>1</td>\n",
       "    </tr>\n",
       "    <tr>\n",
       "      <th>2</th>\n",
       "      <td>PRV51001</td>\n",
       "      <td>PHY340163</td>\n",
       "      <td>1</td>\n",
       "    </tr>\n",
       "    <tr>\n",
       "      <th>3</th>\n",
       "      <td>PRV51001</td>\n",
       "      <td>PHY345302</td>\n",
       "      <td>4</td>\n",
       "    </tr>\n",
       "    <tr>\n",
       "      <th>4</th>\n",
       "      <td>PRV51001</td>\n",
       "      <td>PHY346762</td>\n",
       "      <td>1</td>\n",
       "    </tr>\n",
       "    <tr>\n",
       "      <th>...</th>\n",
       "      <td>...</td>\n",
       "      <td>...</td>\n",
       "      <td>...</td>\n",
       "    </tr>\n",
       "    <tr>\n",
       "      <th>87900</th>\n",
       "      <td>PRV57760</td>\n",
       "      <td>PHY398330</td>\n",
       "      <td>4</td>\n",
       "    </tr>\n",
       "    <tr>\n",
       "      <th>87901</th>\n",
       "      <td>PRV57761</td>\n",
       "      <td>PHY354815</td>\n",
       "      <td>68</td>\n",
       "    </tr>\n",
       "    <tr>\n",
       "      <th>87902</th>\n",
       "      <td>PRV57761</td>\n",
       "      <td>PHY367727</td>\n",
       "      <td>14</td>\n",
       "    </tr>\n",
       "    <tr>\n",
       "      <th>87903</th>\n",
       "      <td>PRV57762</td>\n",
       "      <td>PHY432730</td>\n",
       "      <td>1</td>\n",
       "    </tr>\n",
       "    <tr>\n",
       "      <th>87904</th>\n",
       "      <td>PRV57763</td>\n",
       "      <td>PHY321072</td>\n",
       "      <td>118</td>\n",
       "    </tr>\n",
       "  </tbody>\n",
       "</table>\n",
       "<p>87905 rows × 3 columns</p>\n",
       "</div>"
      ],
      "text/plain": [
       "       Provider AttendingPhysician  ClaimID\n",
       "0      PRV51001          PHY311126        1\n",
       "1      PRV51001          PHY318842        1\n",
       "2      PRV51001          PHY340163        1\n",
       "3      PRV51001          PHY345302        4\n",
       "4      PRV51001          PHY346762        1\n",
       "...         ...                ...      ...\n",
       "87900  PRV57760          PHY398330        4\n",
       "87901  PRV57761          PHY354815       68\n",
       "87902  PRV57761          PHY367727       14\n",
       "87903  PRV57762          PHY432730        1\n",
       "87904  PRV57763          PHY321072      118\n",
       "\n",
       "[87905 rows x 3 columns]"
      ]
     },
     "execution_count": 43,
     "metadata": {},
     "output_type": "execute_result"
    }
   ],
   "source": [
    "grp"
   ]
  },
  {
   "cell_type": "code",
   "execution_count": 44,
   "id": "979d5b6e",
   "metadata": {},
   "outputs": [],
   "source": [
    "rels = [{'origin':x[1]['Provider'],\n",
    "       'target': x[1]['AttendingPhysician']} for x in grp.iterrows()]"
   ]
  },
  {
   "cell_type": "code",
   "execution_count": 45,
   "id": "6cfd4ad7",
   "metadata": {},
   "outputs": [
    {
     "data": {
      "text/html": [
       "(No data)"
      ],
      "text/plain": [
       "(No data)"
      ]
     },
     "execution_count": 45,
     "metadata": {},
     "output_type": "execute_result"
    }
   ],
   "source": [
    "query = \"\"\"\n",
    "    UNWIND $rels AS rel\n",
    "    MATCH (e1:Provider {idx: rel.origin})\n",
    "    MATCH (e2:Physician {idx: rel.target}) \n",
    "    MERGE (e1)-[m:HAS_WORKED_WITH]->(e2)\"\"\"\n",
    "\n",
    "db.run(query, {\"rels\":rels})"
   ]
  },
  {
   "cell_type": "markdown",
   "id": "97e18c8d",
   "metadata": {},
   "source": [
    "## Type Node"
   ]
  },
  {
   "cell_type": "code",
   "execution_count": 46,
   "id": "836856da",
   "metadata": {},
   "outputs": [],
   "source": [
    "types=list(df_all.type.unique())"
   ]
  },
  {
   "cell_type": "code",
   "execution_count": 47,
   "id": "a61c8fad",
   "metadata": {},
   "outputs": [
    {
     "data": {
      "text/plain": [
       "['Inpatient', 'Outpatient']"
      ]
     },
     "execution_count": 47,
     "metadata": {},
     "output_type": "execute_result"
    }
   ],
   "source": [
    "types"
   ]
  },
  {
   "cell_type": "code",
   "execution_count": 48,
   "id": "1f3ba3c8",
   "metadata": {},
   "outputs": [],
   "source": [
    "ts = [{\"Type\": x,\n",
    "     \"idx\" : i} for (i,x) in enumerate(types)]"
   ]
  },
  {
   "cell_type": "code",
   "execution_count": 49,
   "id": "12d4af2e",
   "metadata": {},
   "outputs": [
    {
     "data": {
      "text/plain": [
       "[{'Type': 'Inpatient', 'idx': 0}, {'Type': 'Outpatient', 'idx': 1}]"
      ]
     },
     "execution_count": 49,
     "metadata": {},
     "output_type": "execute_result"
    }
   ],
   "source": [
    "ts"
   ]
  },
  {
   "cell_type": "code",
   "execution_count": 50,
   "id": "557be1b1",
   "metadata": {},
   "outputs": [],
   "source": [
    "query=\"\"\"CREATE CONSTRAINT ON (n:Type) ASSERT n.idx IS UNIQUE\"\"\""
   ]
  },
  {
   "cell_type": "code",
   "execution_count": 51,
   "id": "d518eaa3",
   "metadata": {},
   "outputs": [
    {
     "data": {
      "text/html": [
       "(No data)"
      ],
      "text/plain": [
       "(No data)"
      ]
     },
     "execution_count": 51,
     "metadata": {},
     "output_type": "execute_result"
    }
   ],
   "source": [
    "db.run(query)"
   ]
  },
  {
   "cell_type": "code",
   "execution_count": 52,
   "id": "8699e268",
   "metadata": {},
   "outputs": [
    {
     "data": {
      "text/html": [
       "(No data)"
      ],
      "text/plain": [
       "(No data)"
      ]
     },
     "execution_count": 52,
     "metadata": {},
     "output_type": "execute_result"
    }
   ],
   "source": [
    "query = \"\"\"\n",
    "    UNWIND $ts AS t\n",
    "    MERGE (b:Type {idx: t.idx, Type: t.Type})\n",
    "        \"\"\"\n",
    "db.run(query, {\"ts\":ts})"
   ]
  },
  {
   "cell_type": "markdown",
   "id": "6ed52acd",
   "metadata": {},
   "source": [
    "## Diagnosis Node: "
   ]
  },
  {
   "cell_type": "code",
   "execution_count": null,
   "id": "39ed3dda",
   "metadata": {},
   "outputs": [],
   "source": []
  }
 ],
 "metadata": {
  "kernelspec": {
   "display_name": "Python [conda env:new_env]",
   "language": "python",
   "name": "conda-env-new_env-py"
  },
  "language_info": {
   "codemirror_mode": {
    "name": "ipython",
    "version": 3
   },
   "file_extension": ".py",
   "mimetype": "text/x-python",
   "name": "python",
   "nbconvert_exporter": "python",
   "pygments_lexer": "ipython3",
   "version": "3.9.7"
  }
 },
 "nbformat": 4,
 "nbformat_minor": 5
}
