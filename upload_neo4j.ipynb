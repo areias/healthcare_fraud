{
 "cells": [
  {
   "cell_type": "markdown",
   "id": "d948c66b",
   "metadata": {},
   "source": [
    "## Health Insurance Fraud"
   ]
  },
  {
   "cell_type": "markdown",
   "id": "dfa5ceb6",
   "metadata": {},
   "source": [
    "![](schema_draft_3.png)"
   ]
  },
  {
   "cell_type": "code",
   "execution_count": 1,
   "id": "b6c584f6",
   "metadata": {},
   "outputs": [],
   "source": [
    "from py2neo import Graph, Node\n",
    "db = Graph(scheme=\"bolt\", host=\"localhost\", port=7687, secure=False, \n",
    "                auth=('neo4j', 'test'))\n",
    "#db.delete_all()"
   ]
  },
  {
   "cell_type": "code",
   "execution_count": 2,
   "id": "87a5f4f7",
   "metadata": {},
   "outputs": [],
   "source": [
    "import pandas as pd\n"
   ]
  },
  {
   "cell_type": "code",
   "execution_count": 3,
   "id": "4ca253da",
   "metadata": {},
   "outputs": [
    {
     "name": "stdout",
     "output_type": "stream",
     "text": [
      " Le volume dans le lecteur C nâ€™a pas de nom.\n",
      " Le numÃ©ro de sÃ©rie du volume est EE44-8BAE\n",
      "\n",
      " RÃ©pertoire de C:\\Users\\LENOVO\\Documents\\GitHub\\healthcare_fraud\\data\n",
      "\n",
      "14/12/2021  10:13    <DIR>          .\n",
      "14/12/2021  10:13    <DIR>          ..\n",
      "23/10/2019  08:12         5Â 325Â 982 Test_Beneficiarydata-1542969243754.csv\n",
      "23/10/2019  08:12         2Â 020Â 712 Test_Inpatientdata-1542969243754.csv\n",
      "23/10/2019  08:12        18Â 806Â 934 Test_Outpatientdata-1542969243754.csv\n",
      "23/10/2019  08:12            14Â 894 Test-1542969243754.csv\n",
      "23/10/2019  08:12        11Â 444Â 821 Train_Beneficiarydata-1542865627584.csv\n",
      "23/10/2019  08:12         8Â 572Â 555 Train_Inpatientdata-1542865627584.csv\n",
      "23/10/2019  08:12        77Â 391Â 090 Train_Outpatientdata-1542865627584.csv\n",
      "23/10/2019  08:12            87Â 094 Train-1542865627584.csv\n",
      "               8 fichier(s)      123Â 664Â 082 octets\n",
      "               2 RÃ©p(s)  391Â 199Â 199Â 232 octets libres\n"
     ]
    }
   ],
   "source": [
    "%ls data"
   ]
  },
  {
   "cell_type": "code",
   "execution_count": 4,
   "id": "bd701ab0",
   "metadata": {},
   "outputs": [],
   "source": [
    "df=pd.read_csv(\"data/Train_Beneficiarydata-1542865627584.csv\")"
   ]
  },
  {
   "cell_type": "code",
   "execution_count": 5,
   "id": "c5f733b2",
   "metadata": {},
   "outputs": [
    {
     "data": {
      "text/plain": [
       "Index(['BeneID', 'DOB', 'DOD', 'Gender', 'Race', 'RenalDiseaseIndicator',\n",
       "       'State', 'County', 'NoOfMonths_PartACov', 'NoOfMonths_PartBCov',\n",
       "       'ChronicCond_Alzheimer', 'ChronicCond_Heartfailure',\n",
       "       'ChronicCond_KidneyDisease', 'ChronicCond_Cancer',\n",
       "       'ChronicCond_ObstrPulmonary', 'ChronicCond_Depression',\n",
       "       'ChronicCond_Diabetes', 'ChronicCond_IschemicHeart',\n",
       "       'ChronicCond_Osteoporasis', 'ChronicCond_rheumatoidarthritis',\n",
       "       'ChronicCond_stroke', 'IPAnnualReimbursementAmt',\n",
       "       'IPAnnualDeductibleAmt', 'OPAnnualReimbursementAmt',\n",
       "       'OPAnnualDeductibleAmt'],\n",
       "      dtype='object')"
      ]
     },
     "execution_count": 5,
     "metadata": {},
     "output_type": "execute_result"
    }
   ],
   "source": [
    "df.columns"
   ]
  },
  {
   "cell_type": "code",
   "execution_count": 6,
   "id": "7d61a9af",
   "metadata": {},
   "outputs": [
    {
     "data": {
      "text/html": [
       "<div>\n",
       "<style scoped>\n",
       "    .dataframe tbody tr th:only-of-type {\n",
       "        vertical-align: middle;\n",
       "    }\n",
       "\n",
       "    .dataframe tbody tr th {\n",
       "        vertical-align: top;\n",
       "    }\n",
       "\n",
       "    .dataframe thead th {\n",
       "        text-align: right;\n",
       "    }\n",
       "</style>\n",
       "<table border=\"1\" class=\"dataframe\">\n",
       "  <thead>\n",
       "    <tr style=\"text-align: right;\">\n",
       "      <th></th>\n",
       "      <th>BeneID</th>\n",
       "      <th>DOB</th>\n",
       "      <th>DOD</th>\n",
       "      <th>Gender</th>\n",
       "      <th>Race</th>\n",
       "      <th>RenalDiseaseIndicator</th>\n",
       "      <th>State</th>\n",
       "      <th>County</th>\n",
       "      <th>NoOfMonths_PartACov</th>\n",
       "      <th>NoOfMonths_PartBCov</th>\n",
       "      <th>...</th>\n",
       "      <th>ChronicCond_Depression</th>\n",
       "      <th>ChronicCond_Diabetes</th>\n",
       "      <th>ChronicCond_IschemicHeart</th>\n",
       "      <th>ChronicCond_Osteoporasis</th>\n",
       "      <th>ChronicCond_rheumatoidarthritis</th>\n",
       "      <th>ChronicCond_stroke</th>\n",
       "      <th>IPAnnualReimbursementAmt</th>\n",
       "      <th>IPAnnualDeductibleAmt</th>\n",
       "      <th>OPAnnualReimbursementAmt</th>\n",
       "      <th>OPAnnualDeductibleAmt</th>\n",
       "    </tr>\n",
       "  </thead>\n",
       "  <tbody>\n",
       "    <tr>\n",
       "      <th>0</th>\n",
       "      <td>BENE11001</td>\n",
       "      <td>1943-01-01</td>\n",
       "      <td>NaN</td>\n",
       "      <td>1</td>\n",
       "      <td>1</td>\n",
       "      <td>0</td>\n",
       "      <td>39</td>\n",
       "      <td>230</td>\n",
       "      <td>12</td>\n",
       "      <td>12</td>\n",
       "      <td>...</td>\n",
       "      <td>1</td>\n",
       "      <td>1</td>\n",
       "      <td>1</td>\n",
       "      <td>2</td>\n",
       "      <td>1</td>\n",
       "      <td>1</td>\n",
       "      <td>36000</td>\n",
       "      <td>3204</td>\n",
       "      <td>60</td>\n",
       "      <td>70</td>\n",
       "    </tr>\n",
       "    <tr>\n",
       "      <th>1</th>\n",
       "      <td>BENE11002</td>\n",
       "      <td>1936-09-01</td>\n",
       "      <td>NaN</td>\n",
       "      <td>2</td>\n",
       "      <td>1</td>\n",
       "      <td>0</td>\n",
       "      <td>39</td>\n",
       "      <td>280</td>\n",
       "      <td>12</td>\n",
       "      <td>12</td>\n",
       "      <td>...</td>\n",
       "      <td>2</td>\n",
       "      <td>2</td>\n",
       "      <td>2</td>\n",
       "      <td>2</td>\n",
       "      <td>2</td>\n",
       "      <td>2</td>\n",
       "      <td>0</td>\n",
       "      <td>0</td>\n",
       "      <td>30</td>\n",
       "      <td>50</td>\n",
       "    </tr>\n",
       "    <tr>\n",
       "      <th>2</th>\n",
       "      <td>BENE11003</td>\n",
       "      <td>1936-08-01</td>\n",
       "      <td>NaN</td>\n",
       "      <td>1</td>\n",
       "      <td>1</td>\n",
       "      <td>0</td>\n",
       "      <td>52</td>\n",
       "      <td>590</td>\n",
       "      <td>12</td>\n",
       "      <td>12</td>\n",
       "      <td>...</td>\n",
       "      <td>2</td>\n",
       "      <td>2</td>\n",
       "      <td>1</td>\n",
       "      <td>2</td>\n",
       "      <td>2</td>\n",
       "      <td>2</td>\n",
       "      <td>0</td>\n",
       "      <td>0</td>\n",
       "      <td>90</td>\n",
       "      <td>40</td>\n",
       "    </tr>\n",
       "    <tr>\n",
       "      <th>3</th>\n",
       "      <td>BENE11004</td>\n",
       "      <td>1922-07-01</td>\n",
       "      <td>NaN</td>\n",
       "      <td>1</td>\n",
       "      <td>1</td>\n",
       "      <td>0</td>\n",
       "      <td>39</td>\n",
       "      <td>270</td>\n",
       "      <td>12</td>\n",
       "      <td>12</td>\n",
       "      <td>...</td>\n",
       "      <td>2</td>\n",
       "      <td>1</td>\n",
       "      <td>1</td>\n",
       "      <td>1</td>\n",
       "      <td>1</td>\n",
       "      <td>2</td>\n",
       "      <td>0</td>\n",
       "      <td>0</td>\n",
       "      <td>1810</td>\n",
       "      <td>760</td>\n",
       "    </tr>\n",
       "    <tr>\n",
       "      <th>4</th>\n",
       "      <td>BENE11005</td>\n",
       "      <td>1935-09-01</td>\n",
       "      <td>NaN</td>\n",
       "      <td>1</td>\n",
       "      <td>1</td>\n",
       "      <td>0</td>\n",
       "      <td>24</td>\n",
       "      <td>680</td>\n",
       "      <td>12</td>\n",
       "      <td>12</td>\n",
       "      <td>...</td>\n",
       "      <td>2</td>\n",
       "      <td>1</td>\n",
       "      <td>2</td>\n",
       "      <td>2</td>\n",
       "      <td>2</td>\n",
       "      <td>2</td>\n",
       "      <td>0</td>\n",
       "      <td>0</td>\n",
       "      <td>1790</td>\n",
       "      <td>1200</td>\n",
       "    </tr>\n",
       "  </tbody>\n",
       "</table>\n",
       "<p>5 rows × 25 columns</p>\n",
       "</div>"
      ],
      "text/plain": [
       "      BeneID         DOB  DOD  Gender  Race RenalDiseaseIndicator  State  \\\n",
       "0  BENE11001  1943-01-01  NaN       1     1                     0     39   \n",
       "1  BENE11002  1936-09-01  NaN       2     1                     0     39   \n",
       "2  BENE11003  1936-08-01  NaN       1     1                     0     52   \n",
       "3  BENE11004  1922-07-01  NaN       1     1                     0     39   \n",
       "4  BENE11005  1935-09-01  NaN       1     1                     0     24   \n",
       "\n",
       "   County  NoOfMonths_PartACov  NoOfMonths_PartBCov  ...  \\\n",
       "0     230                   12                   12  ...   \n",
       "1     280                   12                   12  ...   \n",
       "2     590                   12                   12  ...   \n",
       "3     270                   12                   12  ...   \n",
       "4     680                   12                   12  ...   \n",
       "\n",
       "   ChronicCond_Depression  ChronicCond_Diabetes  ChronicCond_IschemicHeart  \\\n",
       "0                       1                     1                          1   \n",
       "1                       2                     2                          2   \n",
       "2                       2                     2                          1   \n",
       "3                       2                     1                          1   \n",
       "4                       2                     1                          2   \n",
       "\n",
       "   ChronicCond_Osteoporasis  ChronicCond_rheumatoidarthritis  \\\n",
       "0                         2                                1   \n",
       "1                         2                                2   \n",
       "2                         2                                2   \n",
       "3                         1                                1   \n",
       "4                         2                                2   \n",
       "\n",
       "   ChronicCond_stroke  IPAnnualReimbursementAmt  IPAnnualDeductibleAmt  \\\n",
       "0                   1                     36000                   3204   \n",
       "1                   2                         0                      0   \n",
       "2                   2                         0                      0   \n",
       "3                   2                         0                      0   \n",
       "4                   2                         0                      0   \n",
       "\n",
       "   OPAnnualReimbursementAmt  OPAnnualDeductibleAmt  \n",
       "0                        60                     70  \n",
       "1                        30                     50  \n",
       "2                        90                     40  \n",
       "3                      1810                    760  \n",
       "4                      1790                   1200  \n",
       "\n",
       "[5 rows x 25 columns]"
      ]
     },
     "execution_count": 6,
     "metadata": {},
     "output_type": "execute_result"
    }
   ],
   "source": [
    "df.head()"
   ]
  },
  {
   "cell_type": "markdown",
   "id": "36d90d0f",
   "metadata": {},
   "source": [
    "## Beneficiary nodes\n"
   ]
  },
  {
   "cell_type": "code",
   "execution_count": 8,
   "id": "c37a69ea",
   "metadata": {},
   "outputs": [
    {
     "data": {
      "text/plain": [
       "['BENE11001', 'BENE11002', 'BENE11003']"
      ]
     },
     "execution_count": 8,
     "metadata": {},
     "output_type": "execute_result"
    }
   ],
   "source": [
    "beneficiaries = list(df.BeneID.unique())\n",
    "beneficiaries[:3]"
   ]
  },
  {
   "cell_type": "code",
   "execution_count": 100,
   "id": "64c9084c",
   "metadata": {},
   "outputs": [
    {
     "data": {
      "text/plain": [
       "138556"
      ]
     },
     "execution_count": 100,
     "metadata": {},
     "output_type": "execute_result"
    }
   ],
   "source": [
    "len(beneficiaries)"
   ]
  },
  {
   "cell_type": "code",
   "execution_count": 101,
   "id": "6bf9207a",
   "metadata": {},
   "outputs": [],
   "source": [
    "bens = [{'idx': x} for x in beneficiaries]"
   ]
  },
  {
   "cell_type": "code",
   "execution_count": 102,
   "id": "870081f7",
   "metadata": {},
   "outputs": [
    {
     "data": {
      "text/plain": [
       "[{'idx': 'BENE11001'}, {'idx': 'BENE11002'}, {'idx': 'BENE11003'}]"
      ]
     },
     "execution_count": 102,
     "metadata": {},
     "output_type": "execute_result"
    }
   ],
   "source": [
    "bens[:3]"
   ]
  },
  {
   "cell_type": "code",
   "execution_count": 103,
   "id": "da278045",
   "metadata": {},
   "outputs": [],
   "source": [
    "# set constraint on beneficiary node that idx is unique\n",
    "query=\"\"\"CREATE CONSTRAINT ON (n:Beneficiary) ASSERT n.idx IS UNIQUE\"\"\""
   ]
  },
  {
   "cell_type": "code",
   "execution_count": null,
   "id": "285280b3",
   "metadata": {},
   "outputs": [],
   "source": [
    "db.run(query)"
   ]
  },
  {
   "cell_type": "code",
   "execution_count": 104,
   "id": "4500c46f",
   "metadata": {},
   "outputs": [
    {
     "data": {
      "text/plain": [
       "<py2neo.database.Cursor at 0x7f0486988250>"
      ]
     },
     "execution_count": 104,
     "metadata": {},
     "output_type": "execute_result"
    }
   ],
   "source": [
    "query = \"\"\"\n",
    "    UNWIND $bens AS ben\n",
    "    MERGE (b:Beneficiary {idx: ben.idx})\n",
    "        \"\"\"\n",
    "db.run(query, {\"bens\":bens})"
   ]
  },
  {
   "cell_type": "markdown",
   "id": "3cc24116",
   "metadata": {},
   "source": [
    "## Provider nodes"
   ]
  },
  {
   "cell_type": "code",
   "execution_count": 105,
   "id": "80699e48",
   "metadata": {},
   "outputs": [],
   "source": [
    "df_in = pd.read_csv(\"data/Train_Inpatientdata-1542865627584.csv\")"
   ]
  },
  {
   "cell_type": "code",
   "execution_count": 106,
   "id": "75bb5940",
   "metadata": {},
   "outputs": [
    {
     "data": {
      "text/plain": [
       "Index(['BeneID', 'ClaimID', 'ClaimStartDt', 'ClaimEndDt', 'Provider',\n",
       "       'InscClaimAmtReimbursed', 'AttendingPhysician', 'OperatingPhysician',\n",
       "       'OtherPhysician', 'AdmissionDt', 'ClmAdmitDiagnosisCode',\n",
       "       'DeductibleAmtPaid', 'DischargeDt', 'DiagnosisGroupCode',\n",
       "       'ClmDiagnosisCode_1', 'ClmDiagnosisCode_2', 'ClmDiagnosisCode_3',\n",
       "       'ClmDiagnosisCode_4', 'ClmDiagnosisCode_5', 'ClmDiagnosisCode_6',\n",
       "       'ClmDiagnosisCode_7', 'ClmDiagnosisCode_8', 'ClmDiagnosisCode_9',\n",
       "       'ClmDiagnosisCode_10', 'ClmProcedureCode_1', 'ClmProcedureCode_2',\n",
       "       'ClmProcedureCode_3', 'ClmProcedureCode_4', 'ClmProcedureCode_5',\n",
       "       'ClmProcedureCode_6'],\n",
       "      dtype='object')"
      ]
     },
     "execution_count": 106,
     "metadata": {},
     "output_type": "execute_result"
    }
   ],
   "source": [
    "df_in.columns"
   ]
  },
  {
   "cell_type": "code",
   "execution_count": 107,
   "id": "f7edf6f8",
   "metadata": {},
   "outputs": [],
   "source": [
    "df_out = pd.read_csv(\"data/Train_Outpatientdata-1542865627584.csv\")"
   ]
  },
  {
   "cell_type": "code",
   "execution_count": 108,
   "id": "2474c63a",
   "metadata": {},
   "outputs": [
    {
     "data": {
      "text/plain": [
       "Index(['BeneID', 'ClaimID', 'ClaimStartDt', 'ClaimEndDt', 'Provider',\n",
       "       'InscClaimAmtReimbursed', 'AttendingPhysician', 'OperatingPhysician',\n",
       "       'OtherPhysician', 'ClmDiagnosisCode_1', 'ClmDiagnosisCode_2',\n",
       "       'ClmDiagnosisCode_3', 'ClmDiagnosisCode_4', 'ClmDiagnosisCode_5',\n",
       "       'ClmDiagnosisCode_6', 'ClmDiagnosisCode_7', 'ClmDiagnosisCode_8',\n",
       "       'ClmDiagnosisCode_9', 'ClmDiagnosisCode_10', 'ClmProcedureCode_1',\n",
       "       'ClmProcedureCode_2', 'ClmProcedureCode_3', 'ClmProcedureCode_4',\n",
       "       'ClmProcedureCode_5', 'ClmProcedureCode_6', 'DeductibleAmtPaid',\n",
       "       'ClmAdmitDiagnosisCode'],\n",
       "      dtype='object')"
      ]
     },
     "execution_count": 108,
     "metadata": {},
     "output_type": "execute_result"
    }
   ],
   "source": [
    "df_out.columns"
   ]
  },
  {
   "cell_type": "code",
   "execution_count": 109,
   "id": "5b5e1565",
   "metadata": {},
   "outputs": [],
   "source": [
    "providers = list(set(list(df_in.Provider.unique()) + list(df_out.Provider.unique())))"
   ]
  },
  {
   "cell_type": "code",
   "execution_count": 110,
   "id": "c9e346b3",
   "metadata": {},
   "outputs": [
    {
     "data": {
      "text/plain": [
       "5410"
      ]
     },
     "execution_count": 110,
     "metadata": {},
     "output_type": "execute_result"
    }
   ],
   "source": [
    "len(providers)"
   ]
  },
  {
   "cell_type": "code",
   "execution_count": 111,
   "id": "e2401410",
   "metadata": {},
   "outputs": [
    {
     "data": {
      "text/plain": [
       "['PRV53860', 'PRV56777', 'PRV54817', 'PRV51346']"
      ]
     },
     "execution_count": 111,
     "metadata": {},
     "output_type": "execute_result"
    }
   ],
   "source": [
    "providers[:4]"
   ]
  },
  {
   "cell_type": "code",
   "execution_count": 112,
   "id": "9a6c4de5",
   "metadata": {},
   "outputs": [],
   "source": [
    "provs=[{\"idx\": x} for x in providers]"
   ]
  },
  {
   "cell_type": "code",
   "execution_count": 85,
   "id": "9f2769de",
   "metadata": {},
   "outputs": [],
   "source": [
    "# set constraint on beneficiary node that idx is unique\n",
    "query=\"\"\"CREATE CONSTRAINT ON (n:Provider) ASSERT n.idx IS UNIQUE\"\"\""
   ]
  },
  {
   "cell_type": "code",
   "execution_count": null,
   "id": "8194d189",
   "metadata": {},
   "outputs": [],
   "source": [
    "db.run(query)"
   ]
  },
  {
   "cell_type": "code",
   "execution_count": 113,
   "id": "c28c0e5d",
   "metadata": {},
   "outputs": [
    {
     "data": {
      "text/plain": [
       "<py2neo.database.Cursor at 0x7f048c8d9b90>"
      ]
     },
     "execution_count": 113,
     "metadata": {},
     "output_type": "execute_result"
    }
   ],
   "source": [
    "query = \"\"\"\n",
    "    UNWIND $provs AS prov\n",
    "    MERGE (b:Provider {idx: prov.idx})\n",
    "        \"\"\"\n",
    "db.run(query, {\"provs\":provs})"
   ]
  },
  {
   "cell_type": "markdown",
   "id": "32db80bd",
   "metadata": {},
   "source": [
    "## (Provider)-[:HAS_BENEFICIARY]->(Beneficiary)"
   ]
  },
  {
   "cell_type": "code",
   "execution_count": 114,
   "id": "a388cd8b",
   "metadata": {},
   "outputs": [],
   "source": [
    "df_in[\"type\"]=\"Inpatient\""
   ]
  },
  {
   "cell_type": "code",
   "execution_count": 115,
   "id": "e4b0f944",
   "metadata": {},
   "outputs": [],
   "source": [
    "df_out['type']=\"Outpatient\""
   ]
  },
  {
   "cell_type": "code",
   "execution_count": 120,
   "id": "e894e4ca",
   "metadata": {},
   "outputs": [],
   "source": [
    "df_all=df_in.append(df_out)"
   ]
  },
  {
   "cell_type": "code",
   "execution_count": 121,
   "id": "58c2b443",
   "metadata": {},
   "outputs": [
    {
     "data": {
      "text/plain": [
       "558211"
      ]
     },
     "execution_count": 121,
     "metadata": {},
     "output_type": "execute_result"
    }
   ],
   "source": [
    "len(df_all)"
   ]
  },
  {
   "cell_type": "code",
   "execution_count": 122,
   "id": "82117903",
   "metadata": {},
   "outputs": [
    {
     "data": {
      "text/plain": [
       "Outpatient    517737\n",
       "Inpatient      40474\n",
       "Name: type, dtype: int64"
      ]
     },
     "execution_count": 122,
     "metadata": {},
     "output_type": "execute_result"
    }
   ],
   "source": [
    "df_all.type.value_counts()"
   ]
  },
  {
   "cell_type": "code",
   "execution_count": 123,
   "id": "975545f4",
   "metadata": {},
   "outputs": [
    {
     "data": {
      "text/plain": [
       "40474"
      ]
     },
     "execution_count": 123,
     "metadata": {},
     "output_type": "execute_result"
    }
   ],
   "source": [
    "len(df_in)"
   ]
  },
  {
   "cell_type": "code",
   "execution_count": 124,
   "id": "4c47b83f",
   "metadata": {},
   "outputs": [
    {
     "data": {
      "text/plain": [
       "517737"
      ]
     },
     "execution_count": 124,
     "metadata": {},
     "output_type": "execute_result"
    }
   ],
   "source": [
    "len(df_out)"
   ]
  },
  {
   "cell_type": "code",
   "execution_count": 127,
   "id": "c23948f3",
   "metadata": {},
   "outputs": [],
   "source": [
    "grp=df_all.groupby(['Provider','BeneID'])['ClaimID'].count()"
   ]
  },
  {
   "cell_type": "code",
   "execution_count": 129,
   "id": "ec8cfcbd",
   "metadata": {},
   "outputs": [],
   "source": [
    "grp=grp.reset_index()\n"
   ]
  },
  {
   "cell_type": "code",
   "execution_count": 130,
   "id": "76b86ea5",
   "metadata": {},
   "outputs": [
    {
     "data": {
      "text/html": [
       "<div>\n",
       "<style scoped>\n",
       "    .dataframe tbody tr th:only-of-type {\n",
       "        vertical-align: middle;\n",
       "    }\n",
       "\n",
       "    .dataframe tbody tr th {\n",
       "        vertical-align: top;\n",
       "    }\n",
       "\n",
       "    .dataframe thead th {\n",
       "        text-align: right;\n",
       "    }\n",
       "</style>\n",
       "<table border=\"1\" class=\"dataframe\">\n",
       "  <thead>\n",
       "    <tr style=\"text-align: right;\">\n",
       "      <th></th>\n",
       "      <th>Provider</th>\n",
       "      <th>BeneID</th>\n",
       "      <th>ClaimID</th>\n",
       "    </tr>\n",
       "  </thead>\n",
       "  <tbody>\n",
       "    <tr>\n",
       "      <th>0</th>\n",
       "      <td>PRV51001</td>\n",
       "      <td>BENE102690</td>\n",
       "      <td>1</td>\n",
       "    </tr>\n",
       "    <tr>\n",
       "      <th>1</th>\n",
       "      <td>PRV51001</td>\n",
       "      <td>BENE106078</td>\n",
       "      <td>1</td>\n",
       "    </tr>\n",
       "    <tr>\n",
       "      <th>2</th>\n",
       "      <td>PRV51001</td>\n",
       "      <td>BENE11727</td>\n",
       "      <td>1</td>\n",
       "    </tr>\n",
       "    <tr>\n",
       "      <th>3</th>\n",
       "      <td>PRV51001</td>\n",
       "      <td>BENE123416</td>\n",
       "      <td>1</td>\n",
       "    </tr>\n",
       "    <tr>\n",
       "      <th>4</th>\n",
       "      <td>PRV51001</td>\n",
       "      <td>BENE126477</td>\n",
       "      <td>1</td>\n",
       "    </tr>\n",
       "  </tbody>\n",
       "</table>\n",
       "</div>"
      ],
      "text/plain": [
       "   Provider      BeneID  ClaimID\n",
       "0  PRV51001  BENE102690        1\n",
       "1  PRV51001  BENE106078        1\n",
       "2  PRV51001   BENE11727        1\n",
       "3  PRV51001  BENE123416        1\n",
       "4  PRV51001  BENE126477        1"
      ]
     },
     "execution_count": 130,
     "metadata": {},
     "output_type": "execute_result"
    }
   ],
   "source": [
    "grp.head()"
   ]
  },
  {
   "cell_type": "code",
   "execution_count": 132,
   "id": "9ff6438f",
   "metadata": {},
   "outputs": [
    {
     "data": {
      "text/plain": [
       "1     274312\n",
       "2      46849\n",
       "3      18330\n",
       "4       9347\n",
       "5       5303\n",
       "6       3255\n",
       "7       2105\n",
       "8       1350\n",
       "9        888\n",
       "10       566\n",
       "11       379\n",
       "12       222\n",
       "13       143\n",
       "14        92\n",
       "15        61\n",
       "16        41\n",
       "17        26\n",
       "18        15\n",
       "19         8\n",
       "20         3\n",
       "23         2\n",
       "21         2\n",
       "28         1\n",
       "Name: ClaimID, dtype: int64"
      ]
     },
     "execution_count": 132,
     "metadata": {},
     "output_type": "execute_result"
    }
   ],
   "source": [
    "grp['ClaimID'].value_counts()"
   ]
  },
  {
   "cell_type": "code",
   "execution_count": 135,
   "id": "e2c2c737",
   "metadata": {},
   "outputs": [],
   "source": [
    "rels = [{'origin':x[1]['Provider'],\n",
    "       'target': x[1]['BeneID']} for x in grp.iterrows()]"
   ]
  },
  {
   "cell_type": "code",
   "execution_count": 136,
   "id": "37a6cc33",
   "metadata": {},
   "outputs": [
    {
     "data": {
      "text/plain": [
       "363300"
      ]
     },
     "execution_count": 136,
     "metadata": {},
     "output_type": "execute_result"
    }
   ],
   "source": [
    "len(rels)"
   ]
  },
  {
   "cell_type": "code",
   "execution_count": 138,
   "id": "8ff4d627",
   "metadata": {},
   "outputs": [
    {
     "data": {
      "text/plain": [
       "<py2neo.database.Cursor at 0x7f048d61a6d0>"
      ]
     },
     "execution_count": 138,
     "metadata": {},
     "output_type": "execute_result"
    }
   ],
   "source": [
    "query = \"\"\"\n",
    "    UNWIND $rels AS rel\n",
    "    MATCH (e1:Provider {idx: rel.origin})\n",
    "    MATCH (e2:Beneficiary {idx: rel.target}) \n",
    "    MERGE (e1)-[m:HAS_BENEFICIARY]->(e2)\"\"\"\n",
    "\n",
    "db.run(query, {\"rels\":rels})"
   ]
  },
  {
   "cell_type": "markdown",
   "id": "f44e54a9",
   "metadata": {},
   "source": [
    "## Race nodes"
   ]
  },
  {
   "cell_type": "code",
   "execution_count": 9,
   "id": "f12b1f7b",
   "metadata": {},
   "outputs": [],
   "source": [
    "races= list(df.Race.unique())"
   ]
  },
  {
   "cell_type": "code",
   "execution_count": 10,
   "id": "3e8a1713",
   "metadata": {},
   "outputs": [
    {
     "data": {
      "text/plain": [
       "[1, 2, 3, 5]"
      ]
     },
     "execution_count": 10,
     "metadata": {},
     "output_type": "execute_result"
    }
   ],
   "source": [
    "races"
   ]
  },
  {
   "cell_type": "code",
   "execution_count": 11,
   "id": "7ab10e84",
   "metadata": {},
   "outputs": [],
   "source": [
    "rs = [{\"race\": int(x),\n",
    "     \"idx\": i}  for (i,x) in enumerate(races)]"
   ]
  },
  {
   "cell_type": "code",
   "execution_count": 12,
   "id": "586fd9ad",
   "metadata": {},
   "outputs": [
    {
     "data": {
      "text/plain": [
       "[{'race': 1, 'idx': 0},\n",
       " {'race': 2, 'idx': 1},\n",
       " {'race': 3, 'idx': 2},\n",
       " {'race': 5, 'idx': 3}]"
      ]
     },
     "execution_count": 12,
     "metadata": {},
     "output_type": "execute_result"
    }
   ],
   "source": [
    "rs"
   ]
  },
  {
   "cell_type": "code",
   "execution_count": 13,
   "id": "6cccfa96",
   "metadata": {},
   "outputs": [],
   "source": [
    "query=\"\"\" CREATE CONSTRAINT ON (r:Race) ASSERT r.idx is UNIQUE \"\"\""
   ]
  },
  {
   "cell_type": "code",
   "execution_count": 14,
   "id": "e72513e3",
   "metadata": {},
   "outputs": [
    {
     "ename": "ClientError",
     "evalue": "[Schema.EquivalentSchemaRuleAlreadyExists] An equivalent constraint already exists, 'Constraint( id=10, name='constraint_8d0984cf', type='UNIQUENESS', schema=(:Race {idx}), ownedIndex=9 )'.",
     "output_type": "error",
     "traceback": [
      "\u001b[1;31m---------------------------------------------------------------------------\u001b[0m",
      "\u001b[1;31mClientError\u001b[0m                               Traceback (most recent call last)",
      "\u001b[1;32m~\\AppData\\Local\\Temp/ipykernel_19784/1497769642.py\u001b[0m in \u001b[0;36m<module>\u001b[1;34m\u001b[0m\n\u001b[1;32m----> 1\u001b[1;33m \u001b[0mdb\u001b[0m\u001b[1;33m.\u001b[0m\u001b[0mrun\u001b[0m\u001b[1;33m(\u001b[0m\u001b[0mquery\u001b[0m\u001b[1;33m)\u001b[0m\u001b[1;33m\u001b[0m\u001b[1;33m\u001b[0m\u001b[0m\n\u001b[0m",
      "\u001b[1;32m~\\anaconda3\\envs\\new_env\\lib\\site-packages\\py2neo\\database.py\u001b[0m in \u001b[0;36mrun\u001b[1;34m(self, cypher, parameters, **kwparameters)\u001b[0m\n\u001b[0;32m    403\u001b[0m         \u001b[1;33m:\u001b[0m\u001b[1;32mreturn\u001b[0m\u001b[1;33m:\u001b[0m\u001b[1;33m\u001b[0m\u001b[1;33m\u001b[0m\u001b[0m\n\u001b[0;32m    404\u001b[0m         \"\"\"\n\u001b[1;32m--> 405\u001b[1;33m         \u001b[1;32mreturn\u001b[0m \u001b[0mself\u001b[0m\u001b[1;33m.\u001b[0m\u001b[0mauto\u001b[0m\u001b[1;33m(\u001b[0m\u001b[1;33m)\u001b[0m\u001b[1;33m.\u001b[0m\u001b[0mrun\u001b[0m\u001b[1;33m(\u001b[0m\u001b[0mcypher\u001b[0m\u001b[1;33m,\u001b[0m \u001b[0mparameters\u001b[0m\u001b[1;33m,\u001b[0m \u001b[1;33m**\u001b[0m\u001b[0mkwparameters\u001b[0m\u001b[1;33m)\u001b[0m\u001b[1;33m\u001b[0m\u001b[1;33m\u001b[0m\u001b[0m\n\u001b[0m\u001b[0;32m    406\u001b[0m \u001b[1;33m\u001b[0m\u001b[0m\n\u001b[0;32m    407\u001b[0m     \u001b[1;32mdef\u001b[0m \u001b[0mevaluate\u001b[0m\u001b[1;33m(\u001b[0m\u001b[0mself\u001b[0m\u001b[1;33m,\u001b[0m \u001b[0mcypher\u001b[0m\u001b[1;33m,\u001b[0m \u001b[0mparameters\u001b[0m\u001b[1;33m=\u001b[0m\u001b[1;32mNone\u001b[0m\u001b[1;33m,\u001b[0m \u001b[1;33m**\u001b[0m\u001b[0mkwparameters\u001b[0m\u001b[1;33m)\u001b[0m\u001b[1;33m:\u001b[0m\u001b[1;33m\u001b[0m\u001b[1;33m\u001b[0m\u001b[0m\n",
      "\u001b[1;32m~\\anaconda3\\envs\\new_env\\lib\\site-packages\\py2neo\\database.py\u001b[0m in \u001b[0;36mrun\u001b[1;34m(self, cypher, parameters, **kwparameters)\u001b[0m\n\u001b[0;32m    990\u001b[0m                                                   \u001b[0mgraph_name\u001b[0m\u001b[1;33m=\u001b[0m\u001b[0mself\u001b[0m\u001b[1;33m.\u001b[0m\u001b[0mgraph\u001b[0m\u001b[1;33m.\u001b[0m\u001b[0mname\u001b[0m\u001b[1;33m,\u001b[0m\u001b[1;33m\u001b[0m\u001b[1;33m\u001b[0m\u001b[0m\n\u001b[0;32m    991\u001b[0m                                                   readonly=self.readonly)\n\u001b[1;32m--> 992\u001b[1;33m             \u001b[0mself\u001b[0m\u001b[1;33m.\u001b[0m\u001b[0m_connector\u001b[0m\u001b[1;33m.\u001b[0m\u001b[0mpull\u001b[0m\u001b[1;33m(\u001b[0m\u001b[0mresult\u001b[0m\u001b[1;33m,\u001b[0m \u001b[1;33m-\u001b[0m\u001b[1;36m1\u001b[0m\u001b[1;33m)\u001b[0m\u001b[1;33m\u001b[0m\u001b[1;33m\u001b[0m\u001b[0m\n\u001b[0m\u001b[0;32m    993\u001b[0m             \u001b[1;32mreturn\u001b[0m \u001b[0mCursor\u001b[0m\u001b[1;33m(\u001b[0m\u001b[0mresult\u001b[0m\u001b[1;33m,\u001b[0m \u001b[0mhydrant\u001b[0m\u001b[1;33m)\u001b[0m\u001b[1;33m\u001b[0m\u001b[1;33m\u001b[0m\u001b[0m\n\u001b[0;32m    994\u001b[0m         \u001b[1;32mfinally\u001b[0m\u001b[1;33m:\u001b[0m\u001b[1;33m\u001b[0m\u001b[1;33m\u001b[0m\u001b[0m\n",
      "\u001b[1;32m~\\anaconda3\\envs\\new_env\\lib\\site-packages\\py2neo\\client\\__init__.py\u001b[0m in \u001b[0;36mpull\u001b[1;34m(self, result, n)\u001b[0m\n\u001b[0;32m   1432\u001b[0m         \u001b[0mcx\u001b[0m \u001b[1;33m=\u001b[0m \u001b[0mself\u001b[0m\u001b[1;33m.\u001b[0m\u001b[0m_reacquire\u001b[0m\u001b[1;33m(\u001b[0m\u001b[0mresult\u001b[0m\u001b[1;33m.\u001b[0m\u001b[0mtransaction\u001b[0m\u001b[1;33m)\u001b[0m\u001b[1;33m\u001b[0m\u001b[1;33m\u001b[0m\u001b[0m\n\u001b[0;32m   1433\u001b[0m         \u001b[1;32mtry\u001b[0m\u001b[1;33m:\u001b[0m\u001b[1;33m\u001b[0m\u001b[1;33m\u001b[0m\u001b[0m\n\u001b[1;32m-> 1434\u001b[1;33m             \u001b[0mcx\u001b[0m\u001b[1;33m.\u001b[0m\u001b[0mpull\u001b[0m\u001b[1;33m(\u001b[0m\u001b[0mresult\u001b[0m\u001b[1;33m,\u001b[0m \u001b[0mn\u001b[0m\u001b[1;33m=\u001b[0m\u001b[0mn\u001b[0m\u001b[1;33m)\u001b[0m\u001b[1;33m\u001b[0m\u001b[1;33m\u001b[0m\u001b[0m\n\u001b[0m\u001b[0;32m   1435\u001b[0m         \u001b[1;32mexcept\u001b[0m \u001b[1;33m(\u001b[0m\u001b[0mConnectionUnavailable\u001b[0m\u001b[1;33m,\u001b[0m \u001b[0mConnectionBroken\u001b[0m\u001b[1;33m)\u001b[0m\u001b[1;33m:\u001b[0m\u001b[1;33m\u001b[0m\u001b[1;33m\u001b[0m\u001b[0m\n\u001b[0;32m   1436\u001b[0m             \u001b[0mself\u001b[0m\u001b[1;33m.\u001b[0m\u001b[0mprune\u001b[0m\u001b[1;33m(\u001b[0m\u001b[0mcx\u001b[0m\u001b[1;33m.\u001b[0m\u001b[0mprofile\u001b[0m\u001b[1;33m)\u001b[0m\u001b[1;33m\u001b[0m\u001b[1;33m\u001b[0m\u001b[0m\n",
      "\u001b[1;32m~\\anaconda3\\envs\\new_env\\lib\\site-packages\\py2neo\\client\\bolt.py\u001b[0m in \u001b[0;36mpull\u001b[1;34m(self, result, n, capacity)\u001b[0m\n\u001b[0;32m    999\u001b[0m                                         \"during pull\"), error)\n\u001b[0;32m   1000\u001b[0m         \u001b[1;32melse\u001b[0m\u001b[1;33m:\u001b[0m\u001b[1;33m\u001b[0m\u001b[1;33m\u001b[0m\u001b[0m\n\u001b[1;32m-> 1001\u001b[1;33m             \u001b[0mself\u001b[0m\u001b[1;33m.\u001b[0m\u001b[0m_audit\u001b[0m\u001b[1;33m(\u001b[0m\u001b[0mself\u001b[0m\u001b[1;33m.\u001b[0m\u001b[0m_transaction\u001b[0m\u001b[1;33m)\u001b[0m\u001b[1;33m\u001b[0m\u001b[1;33m\u001b[0m\u001b[0m\n\u001b[0m\u001b[0;32m   1002\u001b[0m             \u001b[1;32mreturn\u001b[0m \u001b[0mresponse\u001b[0m\u001b[1;33m\u001b[0m\u001b[1;33m\u001b[0m\u001b[0m\n\u001b[0;32m   1003\u001b[0m \u001b[1;33m\u001b[0m\u001b[0m\n",
      "\u001b[1;32m~\\anaconda3\\envs\\new_env\\lib\\site-packages\\py2neo\\client\\bolt.py\u001b[0m in \u001b[0;36m_audit\u001b[1;34m(self, task)\u001b[0m\n\u001b[0;32m    808\u001b[0m             \u001b[1;32mreturn\u001b[0m\u001b[1;33m\u001b[0m\u001b[1;33m\u001b[0m\u001b[0m\n\u001b[0;32m    809\u001b[0m         \u001b[1;32mtry\u001b[0m\u001b[1;33m:\u001b[0m\u001b[1;33m\u001b[0m\u001b[1;33m\u001b[0m\u001b[0m\n\u001b[1;32m--> 810\u001b[1;33m             \u001b[0mtask\u001b[0m\u001b[1;33m.\u001b[0m\u001b[0maudit\u001b[0m\u001b[1;33m(\u001b[0m\u001b[1;33m)\u001b[0m\u001b[1;33m\u001b[0m\u001b[1;33m\u001b[0m\u001b[0m\n\u001b[0m\u001b[0;32m    811\u001b[0m         \u001b[1;32mexcept\u001b[0m \u001b[0mNeo4jError\u001b[0m\u001b[1;33m:\u001b[0m\u001b[1;33m\u001b[0m\u001b[1;33m\u001b[0m\u001b[0m\n\u001b[0;32m    812\u001b[0m             \u001b[0mself\u001b[0m\u001b[1;33m.\u001b[0m\u001b[0mreset\u001b[0m\u001b[1;33m(\u001b[0m\u001b[0mforce\u001b[0m\u001b[1;33m=\u001b[0m\u001b[1;32mTrue\u001b[0m\u001b[1;33m)\u001b[0m\u001b[1;33m\u001b[0m\u001b[1;33m\u001b[0m\u001b[0m\n",
      "\u001b[1;32m~\\anaconda3\\envs\\new_env\\lib\\site-packages\\py2neo\\client\\bolt.py\u001b[0m in \u001b[0;36maudit\u001b[1;34m(self)\u001b[0m\n\u001b[0;32m   1138\u001b[0m     \u001b[1;32mdef\u001b[0m \u001b[0maudit\u001b[0m\u001b[1;33m(\u001b[0m\u001b[0mself\u001b[0m\u001b[1;33m)\u001b[0m\u001b[1;33m:\u001b[0m\u001b[1;33m\u001b[0m\u001b[1;33m\u001b[0m\u001b[0m\n\u001b[0;32m   1139\u001b[0m         \u001b[1;32mfor\u001b[0m \u001b[0mitem\u001b[0m \u001b[1;32min\u001b[0m \u001b[0mself\u001b[0m\u001b[1;33m.\u001b[0m\u001b[0m_items\u001b[0m\u001b[1;33m:\u001b[0m\u001b[1;33m\u001b[0m\u001b[1;33m\u001b[0m\u001b[0m\n\u001b[1;32m-> 1140\u001b[1;33m             \u001b[0mitem\u001b[0m\u001b[1;33m.\u001b[0m\u001b[0maudit\u001b[0m\u001b[1;33m(\u001b[0m\u001b[1;33m)\u001b[0m\u001b[1;33m\u001b[0m\u001b[1;33m\u001b[0m\u001b[0m\n\u001b[0m\u001b[0;32m   1141\u001b[0m \u001b[1;33m\u001b[0m\u001b[0m\n\u001b[0;32m   1142\u001b[0m \u001b[1;33m\u001b[0m\u001b[0m\n",
      "\u001b[1;32m~\\anaconda3\\envs\\new_env\\lib\\site-packages\\py2neo\\client\\bolt.py\u001b[0m in \u001b[0;36maudit\u001b[1;34m(self)\u001b[0m\n\u001b[0;32m   1138\u001b[0m     \u001b[1;32mdef\u001b[0m \u001b[0maudit\u001b[0m\u001b[1;33m(\u001b[0m\u001b[0mself\u001b[0m\u001b[1;33m)\u001b[0m\u001b[1;33m:\u001b[0m\u001b[1;33m\u001b[0m\u001b[1;33m\u001b[0m\u001b[0m\n\u001b[0;32m   1139\u001b[0m         \u001b[1;32mfor\u001b[0m \u001b[0mitem\u001b[0m \u001b[1;32min\u001b[0m \u001b[0mself\u001b[0m\u001b[1;33m.\u001b[0m\u001b[0m_items\u001b[0m\u001b[1;33m:\u001b[0m\u001b[1;33m\u001b[0m\u001b[1;33m\u001b[0m\u001b[0m\n\u001b[1;32m-> 1140\u001b[1;33m             \u001b[0mitem\u001b[0m\u001b[1;33m.\u001b[0m\u001b[0maudit\u001b[0m\u001b[1;33m(\u001b[0m\u001b[1;33m)\u001b[0m\u001b[1;33m\u001b[0m\u001b[1;33m\u001b[0m\u001b[0m\n\u001b[0m\u001b[0;32m   1141\u001b[0m \u001b[1;33m\u001b[0m\u001b[0m\n\u001b[0;32m   1142\u001b[0m \u001b[1;33m\u001b[0m\u001b[0m\n",
      "\u001b[1;32m~\\anaconda3\\envs\\new_env\\lib\\site-packages\\py2neo\\client\\bolt.py\u001b[0m in \u001b[0;36maudit\u001b[1;34m(self)\u001b[0m\n\u001b[0;32m   1301\u001b[0m         \u001b[1;32mif\u001b[0m \u001b[0mself\u001b[0m\u001b[1;33m.\u001b[0m\u001b[0m_failure\u001b[0m\u001b[1;33m:\u001b[0m\u001b[1;33m\u001b[0m\u001b[1;33m\u001b[0m\u001b[0m\n\u001b[0;32m   1302\u001b[0m             \u001b[0mself\u001b[0m\u001b[1;33m.\u001b[0m\u001b[0mset_ignored\u001b[0m\u001b[1;33m(\u001b[0m\u001b[1;33m)\u001b[0m\u001b[1;33m\u001b[0m\u001b[1;33m\u001b[0m\u001b[0m\n\u001b[1;32m-> 1303\u001b[1;33m             \u001b[1;32mraise\u001b[0m \u001b[0mself\u001b[0m\u001b[1;33m.\u001b[0m\u001b[0m_failure\u001b[0m\u001b[1;33m\u001b[0m\u001b[1;33m\u001b[0m\u001b[0m\n\u001b[0m\u001b[0;32m   1304\u001b[0m \u001b[1;33m\u001b[0m\u001b[0m\n\u001b[0;32m   1305\u001b[0m     \u001b[1;33m@\u001b[0m\u001b[0mproperty\u001b[0m\u001b[1;33m\u001b[0m\u001b[1;33m\u001b[0m\u001b[0m\n",
      "\u001b[1;31mClientError\u001b[0m: [Schema.EquivalentSchemaRuleAlreadyExists] An equivalent constraint already exists, 'Constraint( id=10, name='constraint_8d0984cf', type='UNIQUENESS', schema=(:Race {idx}), ownedIndex=9 )'."
     ]
    }
   ],
   "source": [
    "db.run(query)"
   ]
  },
  {
   "cell_type": "code",
   "execution_count": 15,
   "id": "e45ba5b5",
   "metadata": {},
   "outputs": [
    {
     "data": {
      "text/html": [
       "(No data)"
      ],
      "text/plain": [
       "(No data)"
      ]
     },
     "execution_count": 15,
     "metadata": {},
     "output_type": "execute_result"
    }
   ],
   "source": [
    "query = \"\"\"\n",
    "    UNWIND $rs AS r\n",
    "    MERGE (b:Race {idx: r.idx, race: r.race})\n",
    "        \"\"\"\n",
    "db.run(query, {\"rs\":rs})"
   ]
  },
  {
   "cell_type": "code",
   "execution_count": 16,
   "id": "26ef4d77",
   "metadata": {},
   "outputs": [
    {
     "data": {
      "text/html": [
       "<table><tr><th>r</th></tr><tr><td style=\"text-align:left\">(_559219:Race {idx: 0, race: 1})</td></tr><tr><td style=\"text-align:left\">(_559220:Race {idx: 1, race: 2})</td></tr><tr><td style=\"text-align:left\">(_559221:Race {idx: 2, race: 3})</td></tr><tr><td style=\"text-align:left\">(_559222:Race {idx: 3, race: 5})</td></tr></table>"
      ],
      "text/plain": [
       " r                                \n",
       "----------------------------------\n",
       " (_559219:Race {idx: 0, race: 1}) \n",
       " (_559220:Race {idx: 1, race: 2}) \n",
       " (_559221:Race {idx: 2, race: 3}) \n",
       " (_559222:Race {idx: 3, race: 5}) "
      ]
     },
     "execution_count": 16,
     "metadata": {},
     "output_type": "execute_result"
    }
   ],
   "source": [
    "query = \"\"\"\n",
    "    MATCH (r:Race)\n",
    "    RETURN * \"\"\"\n",
    "db.run(query).to_table()"
   ]
  },
  {
   "cell_type": "markdown",
   "id": "fc306470",
   "metadata": {},
   "source": [
    "## Gender"
   ]
  },
  {
   "cell_type": "code",
   "execution_count": 7,
   "id": "f95e354e",
   "metadata": {},
   "outputs": [],
   "source": [
    "genders=list(df.Gender.unique())"
   ]
  },
  {
   "cell_type": "code",
   "execution_count": 8,
   "id": "4f83c002",
   "metadata": {},
   "outputs": [
    {
     "data": {
      "text/plain": [
       "[1, 2]"
      ]
     },
     "execution_count": 8,
     "metadata": {},
     "output_type": "execute_result"
    }
   ],
   "source": [
    "genders"
   ]
  },
  {
   "cell_type": "code",
   "execution_count": 9,
   "id": "cfa46860",
   "metadata": {},
   "outputs": [],
   "source": [
    "gs = [{\"gender\": int(x),\n",
    "     \"idx\" : i} for (i,x) in enumerate(genders)]"
   ]
  },
  {
   "cell_type": "code",
   "execution_count": 10,
   "id": "cb8982bf",
   "metadata": {},
   "outputs": [
    {
     "data": {
      "text/plain": [
       "[{'gender': 1, 'idx': 0}, {'gender': 2, 'idx': 1}]"
      ]
     },
     "execution_count": 10,
     "metadata": {},
     "output_type": "execute_result"
    }
   ],
   "source": [
    "gs"
   ]
  },
  {
   "cell_type": "code",
   "execution_count": 11,
   "id": "5f9bb64d",
   "metadata": {},
   "outputs": [],
   "source": [
    "query=\"\"\"CREATE CONSTRAINT ON (n:Gender) ASSERT n.idx IS UNIQUE\"\"\""
   ]
  },
  {
   "cell_type": "code",
   "execution_count": 12,
   "id": "11508859",
   "metadata": {},
   "outputs": [
    {
     "data": {
      "text/html": [
       "(No data)"
      ],
      "text/plain": [
       "(No data)"
      ]
     },
     "execution_count": 12,
     "metadata": {},
     "output_type": "execute_result"
    }
   ],
   "source": [
    "db.run(query)"
   ]
  },
  {
   "cell_type": "code",
   "execution_count": 13,
   "id": "b5a2a9c9",
   "metadata": {},
   "outputs": [
    {
     "data": {
      "text/html": [
       "(No data)"
      ],
      "text/plain": [
       "(No data)"
      ]
     },
     "execution_count": 13,
     "metadata": {},
     "output_type": "execute_result"
    }
   ],
   "source": [
    "query = \"\"\"\n",
    "    UNWIND $gs AS g\n",
    "    MERGE (b:Gender {idx: g.idx, gender: g.gender})\n",
    "        \"\"\"\n",
    "db.run(query, {\"gs\":gs})"
   ]
  },
  {
   "cell_type": "markdown",
   "id": "fb14acfc",
   "metadata": {},
   "source": [
    "## State"
   ]
  },
  {
   "cell_type": "code",
   "execution_count": 16,
   "id": "93666ba2",
   "metadata": {},
   "outputs": [],
   "source": [
    "states=list(df.State.unique())"
   ]
  },
  {
   "cell_type": "code",
   "execution_count": 18,
   "id": "524667bd",
   "metadata": {},
   "outputs": [],
   "source": [
    "sts = [{\"state\": int(x),\n",
    "     \"idx\" : i} for (i,x) in enumerate(states)]"
   ]
  },
  {
   "cell_type": "code",
   "execution_count": 20,
   "id": "9d1349f8",
   "metadata": {},
   "outputs": [],
   "source": [
    "query=\"\"\"CREATE CONSTRAINT ON (n:State) ASSERT n.idx IS UNIQUE\"\"\""
   ]
  },
  {
   "cell_type": "code",
   "execution_count": 21,
   "id": "9ee619c8",
   "metadata": {},
   "outputs": [
    {
     "data": {
      "text/html": [
       "(No data)"
      ],
      "text/plain": [
       "(No data)"
      ]
     },
     "execution_count": 21,
     "metadata": {},
     "output_type": "execute_result"
    }
   ],
   "source": [
    "db.run(query)"
   ]
  },
  {
   "cell_type": "code",
   "execution_count": 22,
   "id": "5d74e53d",
   "metadata": {},
   "outputs": [
    {
     "data": {
      "text/html": [
       "(No data)"
      ],
      "text/plain": [
       "(No data)"
      ]
     },
     "execution_count": 22,
     "metadata": {},
     "output_type": "execute_result"
    }
   ],
   "source": [
    "query = \"\"\"\n",
    "    UNWIND $sts AS st\n",
    "    MERGE (b:State {idx: st.idx, state: st.state})\n",
    "        \"\"\"\n",
    "db.run(query, {\"sts\":sts})"
   ]
  },
  {
   "cell_type": "markdown",
   "id": "8a58db66",
   "metadata": {},
   "source": [
    "## County"
   ]
  },
  {
   "cell_type": "code",
   "execution_count": 23,
   "id": "1f5359bb",
   "metadata": {},
   "outputs": [],
   "source": [
    "counties=list(df.County.unique())"
   ]
  },
  {
   "cell_type": "code",
   "execution_count": 24,
   "id": "6dc6be49",
   "metadata": {},
   "outputs": [],
   "source": [
    "cts = [{\"county\": int(x),\n",
    "     \"idx\" : i} for (i,x) in enumerate(counties)]"
   ]
  },
  {
   "cell_type": "code",
   "execution_count": 25,
   "id": "244f5080",
   "metadata": {},
   "outputs": [],
   "source": [
    "query=\"\"\"CREATE CONSTRAINT ON (n:County) ASSERT n.idx IS UNIQUE\"\"\""
   ]
  },
  {
   "cell_type": "code",
   "execution_count": 26,
   "id": "27f59fa2",
   "metadata": {},
   "outputs": [
    {
     "data": {
      "text/html": [
       "(No data)"
      ],
      "text/plain": [
       "(No data)"
      ]
     },
     "execution_count": 26,
     "metadata": {},
     "output_type": "execute_result"
    }
   ],
   "source": [
    "db.run(query)"
   ]
  },
  {
   "cell_type": "code",
   "execution_count": 27,
   "id": "884cd2de",
   "metadata": {},
   "outputs": [
    {
     "data": {
      "text/html": [
       "(No data)"
      ],
      "text/plain": [
       "(No data)"
      ]
     },
     "execution_count": 27,
     "metadata": {},
     "output_type": "execute_result"
    }
   ],
   "source": [
    "query = \"\"\"\n",
    "    UNWIND $cts AS ct\n",
    "    MERGE (b:County {idx: ct.idx, county: ct.county})\n",
    "        \"\"\"\n",
    "db.run(query, {\"cts\":cts})"
   ]
  },
  {
   "cell_type": "markdown",
   "id": "0948c7ef",
   "metadata": {},
   "source": [
    "## NoOfMonths_PartACov"
   ]
  },
  {
   "cell_type": "code",
   "execution_count": 28,
   "id": "cfe8c069",
   "metadata": {},
   "outputs": [],
   "source": [
    "Amonths=list(df.NoOfMonths_PartACov.unique())"
   ]
  },
  {
   "cell_type": "code",
   "execution_count": 30,
   "id": "7545c506",
   "metadata": {},
   "outputs": [],
   "source": [
    "ams = [{\"Months_PartA\": int(x),\n",
    "     \"idx\" : i} for (i,x) in enumerate(Amonths)]"
   ]
  },
  {
   "cell_type": "code",
   "execution_count": 31,
   "id": "90a42a89",
   "metadata": {},
   "outputs": [],
   "source": [
    "query=\"\"\"CREATE CONSTRAINT ON (n:Months_PartA) ASSERT n.idx IS UNIQUE\"\"\""
   ]
  },
  {
   "cell_type": "code",
   "execution_count": 32,
   "id": "48b06190",
   "metadata": {},
   "outputs": [
    {
     "data": {
      "text/html": [
       "(No data)"
      ],
      "text/plain": [
       "(No data)"
      ]
     },
     "execution_count": 32,
     "metadata": {},
     "output_type": "execute_result"
    }
   ],
   "source": [
    "db.run(query)"
   ]
  },
  {
   "cell_type": "code",
   "execution_count": 34,
   "id": "e864a0b2",
   "metadata": {},
   "outputs": [
    {
     "data": {
      "text/html": [
       "(No data)"
      ],
      "text/plain": [
       "(No data)"
      ]
     },
     "execution_count": 34,
     "metadata": {},
     "output_type": "execute_result"
    }
   ],
   "source": [
    "query = \"\"\"\n",
    "    UNWIND $ams AS am\n",
    "    MERGE (b:Months_PartA {idx: am.idx, Months_PartA: am.Months_PartA})\n",
    "        \"\"\"\n",
    "db.run(query, {\"ams\":ams})"
   ]
  },
  {
   "cell_type": "markdown",
   "id": "5d276abd",
   "metadata": {},
   "source": [
    "## NoOfMonths_PartBCov"
   ]
  },
  {
   "cell_type": "code",
   "execution_count": 35,
   "id": "7970e89d",
   "metadata": {},
   "outputs": [],
   "source": [
    "Bmonths=list(df.NoOfMonths_PartBCov.unique())"
   ]
  },
  {
   "cell_type": "code",
   "execution_count": 36,
   "id": "34390588",
   "metadata": {},
   "outputs": [],
   "source": [
    "bms = [{\"Months_PartB\": int(x),\n",
    "     \"idx\" : i} for (i,x) in enumerate(Bmonths)]"
   ]
  },
  {
   "cell_type": "code",
   "execution_count": 37,
   "id": "bbecafb4",
   "metadata": {},
   "outputs": [],
   "source": [
    "query=\"\"\"CREATE CONSTRAINT ON (n:Months_PartB) ASSERT n.idx IS UNIQUE\"\"\""
   ]
  },
  {
   "cell_type": "code",
   "execution_count": 38,
   "id": "fa68fcf9",
   "metadata": {},
   "outputs": [
    {
     "data": {
      "text/html": [
       "(No data)"
      ],
      "text/plain": [
       "(No data)"
      ]
     },
     "execution_count": 38,
     "metadata": {},
     "output_type": "execute_result"
    }
   ],
   "source": [
    "db.run(query)"
   ]
  },
  {
   "cell_type": "code",
   "execution_count": 39,
   "id": "583f867c",
   "metadata": {},
   "outputs": [
    {
     "data": {
      "text/html": [
       "(No data)"
      ],
      "text/plain": [
       "(No data)"
      ]
     },
     "execution_count": 39,
     "metadata": {},
     "output_type": "execute_result"
    }
   ],
   "source": [
    "query = \"\"\"\n",
    "    UNWIND $bms AS bm\n",
    "    MERGE (b:Months_PartB {idx: bm.idx, Months_PartB: bm.Months_PartB})\n",
    "        \"\"\"\n",
    "db.run(query, {\"bms\":bms})"
   ]
  },
  {
   "cell_type": "markdown",
   "id": "fa86a394",
   "metadata": {},
   "source": [
    "## RenalDiseaseIndicator"
   ]
  },
  {
   "cell_type": "code",
   "execution_count": 42,
   "id": "9600dfae",
   "metadata": {},
   "outputs": [],
   "source": [
    "renals=list(df.RenalDiseaseIndicator.unique())"
   ]
  },
  {
   "cell_type": "code",
   "execution_count": 44,
   "id": "db16b50e",
   "metadata": {},
   "outputs": [
    {
     "data": {
      "text/plain": [
       "['0', 'Y']"
      ]
     },
     "execution_count": 44,
     "metadata": {},
     "output_type": "execute_result"
    }
   ],
   "source": [
    "renals"
   ]
  },
  {
   "cell_type": "code",
   "execution_count": 45,
   "id": "507e31ec",
   "metadata": {},
   "outputs": [],
   "source": [
    "rns = [{\"Renal_Disease\": x,\n",
    "     \"idx\" : i} for (i,x) in enumerate(renals)]"
   ]
  },
  {
   "cell_type": "code",
   "execution_count": 48,
   "id": "b11116c0",
   "metadata": {},
   "outputs": [],
   "source": [
    "query=\"\"\"CREATE CONSTRAINT ON (n:Renal_Disease) ASSERT n.idx IS UNIQUE\"\"\""
   ]
  },
  {
   "cell_type": "code",
   "execution_count": 49,
   "id": "988bdf1c",
   "metadata": {},
   "outputs": [
    {
     "data": {
      "text/html": [
       "(No data)"
      ],
      "text/plain": [
       "(No data)"
      ]
     },
     "execution_count": 49,
     "metadata": {},
     "output_type": "execute_result"
    }
   ],
   "source": [
    "db.run(query)"
   ]
  },
  {
   "cell_type": "code",
   "execution_count": 50,
   "id": "4a885734",
   "metadata": {},
   "outputs": [
    {
     "data": {
      "text/html": [
       "(No data)"
      ],
      "text/plain": [
       "(No data)"
      ]
     },
     "execution_count": 50,
     "metadata": {},
     "output_type": "execute_result"
    }
   ],
   "source": [
    "query = \"\"\"\n",
    "    UNWIND $rns AS rn\n",
    "    MERGE (b:Renal_Disease {idx: rn.idx, Renal_Disease: rn.Renal_Disease})\n",
    "        \"\"\"\n",
    "db.run(query, {\"rns\":rns})"
   ]
  },
  {
   "cell_type": "markdown",
   "id": "610570af",
   "metadata": {},
   "source": [
    "## ChronicCond_Alzheimer"
   ]
  },
  {
   "cell_type": "code",
   "execution_count": 54,
   "id": "d7484fe2",
   "metadata": {},
   "outputs": [],
   "source": [
    "alzheimers=list(df.ChronicCond_Alzheimer.unique())"
   ]
  },
  {
   "cell_type": "code",
   "execution_count": 55,
   "id": "30aae242",
   "metadata": {},
   "outputs": [],
   "source": [
    "alzs = [{\"ChronicCond_Alzheimer\": int(x),\n",
    "     \"idx\" : i} for (i,x) in enumerate(alzheimers)]"
   ]
  },
  {
   "cell_type": "code",
   "execution_count": 56,
   "id": "a5e14dd1",
   "metadata": {},
   "outputs": [],
   "source": [
    "query=\"\"\"CREATE CONSTRAINT ON (n:ChronicCond_Alzheimer) ASSERT n.idx IS UNIQUE\"\"\""
   ]
  },
  {
   "cell_type": "code",
   "execution_count": 57,
   "id": "f1a3a618",
   "metadata": {},
   "outputs": [
    {
     "data": {
      "text/html": [
       "(No data)"
      ],
      "text/plain": [
       "(No data)"
      ]
     },
     "execution_count": 57,
     "metadata": {},
     "output_type": "execute_result"
    }
   ],
   "source": [
    "db.run(query)"
   ]
  },
  {
   "cell_type": "code",
   "execution_count": 58,
   "id": "65fb9d29",
   "metadata": {},
   "outputs": [
    {
     "data": {
      "text/html": [
       "(No data)"
      ],
      "text/plain": [
       "(No data)"
      ]
     },
     "execution_count": 58,
     "metadata": {},
     "output_type": "execute_result"
    }
   ],
   "source": [
    "query = \"\"\"\n",
    "    UNWIND $alzs AS alz\n",
    "    MERGE (b:ChronicCond_Alzheimer {idx: alz.idx, ChronicCond_Alzheimer: alz.ChronicCond_Alzheimer})\n",
    "        \"\"\"\n",
    "db.run(query, {\"alzs\":alzs})"
   ]
  },
  {
   "cell_type": "markdown",
   "id": "7347d730",
   "metadata": {},
   "source": [
    "## ChronicCond_Heartfailure"
   ]
  },
  {
   "cell_type": "code",
   "execution_count": 66,
   "id": "98482d2d",
   "metadata": {},
   "outputs": [],
   "source": [
    "hearts=list(df.ChronicCond_Heartfailure.unique())"
   ]
  },
  {
   "cell_type": "code",
   "execution_count": 67,
   "id": "2d6efe06",
   "metadata": {},
   "outputs": [],
   "source": [
    "hs = [{\"ChronicCond_Heartfailure\": int(x),\n",
    "     \"idx\" : i} for (i,x) in enumerate(hearts)]"
   ]
  },
  {
   "cell_type": "code",
   "execution_count": 61,
   "id": "99c42e0c",
   "metadata": {},
   "outputs": [],
   "source": [
    "query=\"\"\"CREATE CONSTRAINT ON (n:ChronicCond_Heartfailure) ASSERT n.idx IS UNIQUE\"\"\""
   ]
  },
  {
   "cell_type": "code",
   "execution_count": 62,
   "id": "450792ab",
   "metadata": {},
   "outputs": [
    {
     "data": {
      "text/html": [
       "(No data)"
      ],
      "text/plain": [
       "(No data)"
      ]
     },
     "execution_count": 62,
     "metadata": {},
     "output_type": "execute_result"
    }
   ],
   "source": [
    "db.run(query)"
   ]
  },
  {
   "cell_type": "code",
   "execution_count": 68,
   "id": "8b994597",
   "metadata": {},
   "outputs": [
    {
     "data": {
      "text/html": [
       "(No data)"
      ],
      "text/plain": [
       "(No data)"
      ]
     },
     "execution_count": 68,
     "metadata": {},
     "output_type": "execute_result"
    }
   ],
   "source": [
    "query = \"\"\"\n",
    "    UNWIND $hs AS h\n",
    "    MERGE (b:ChronicCond_Heartfailure {idx: h.idx, ChronicCond_Heartfailure: h.ChronicCond_Heartfailure})\n",
    "        \"\"\"\n",
    "db.run(query, {\"hs\":hs})"
   ]
  },
  {
   "cell_type": "markdown",
   "id": "26fc7e0e",
   "metadata": {},
   "source": [
    "## ChronicCond_KidneyDisease"
   ]
  },
  {
   "cell_type": "code",
   "execution_count": 69,
   "id": "a92da52a",
   "metadata": {},
   "outputs": [],
   "source": [
    "kidneys=list(df.ChronicCond_KidneyDisease.unique())"
   ]
  },
  {
   "cell_type": "code",
   "execution_count": 70,
   "id": "30a4a4fc",
   "metadata": {},
   "outputs": [],
   "source": [
    "ks = [{\"ChronicCond_KidneyDisease\": int(x),\n",
    "     \"idx\" : i} for (i,x) in enumerate(kidneys)]"
   ]
  },
  {
   "cell_type": "code",
   "execution_count": 71,
   "id": "0895a0a5",
   "metadata": {},
   "outputs": [],
   "source": [
    "query=\"\"\"CREATE CONSTRAINT ON (n:ChronicCond_KidneyDisease) ASSERT n.idx IS UNIQUE\"\"\""
   ]
  },
  {
   "cell_type": "code",
   "execution_count": 72,
   "id": "274873c8",
   "metadata": {},
   "outputs": [
    {
     "data": {
      "text/html": [
       "(No data)"
      ],
      "text/plain": [
       "(No data)"
      ]
     },
     "execution_count": 72,
     "metadata": {},
     "output_type": "execute_result"
    }
   ],
   "source": [
    "db.run(query)"
   ]
  },
  {
   "cell_type": "code",
   "execution_count": 73,
   "id": "0501b76e",
   "metadata": {},
   "outputs": [
    {
     "data": {
      "text/html": [
       "(No data)"
      ],
      "text/plain": [
       "(No data)"
      ]
     },
     "execution_count": 73,
     "metadata": {},
     "output_type": "execute_result"
    }
   ],
   "source": [
    "query = \"\"\"\n",
    "    UNWIND $ks AS k\n",
    "    MERGE (b:ChronicCond_KidneyDisease {idx: k.idx, ChronicCond_KidneyDisease: k.ChronicCond_KidneyDisease})\n",
    "        \"\"\"\n",
    "db.run(query, {\"ks\":ks})"
   ]
  },
  {
   "cell_type": "code",
   "execution_count": null,
   "id": "6798d647",
   "metadata": {},
   "outputs": [],
   "source": []
  }
 ],
 "metadata": {
  "kernelspec": {
   "display_name": "Python [conda env:new_env]",
   "language": "python",
   "name": "conda-env-new_env-py"
  },
  "language_info": {
   "codemirror_mode": {
    "name": "ipython",
    "version": 3
   },
   "file_extension": ".py",
   "mimetype": "text/x-python",
   "name": "python",
   "nbconvert_exporter": "python",
   "pygments_lexer": "ipython3",
   "version": "3.9.7"
  }
 },
 "nbformat": 4,
 "nbformat_minor": 5
}
