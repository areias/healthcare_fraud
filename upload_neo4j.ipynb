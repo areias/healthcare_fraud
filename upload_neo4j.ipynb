{
 "cells": [
  {
   "cell_type": "markdown",
   "id": "d948c66b",
   "metadata": {},
   "source": [
    "## Health Insurance Fraud"
   ]
  },
  {
   "cell_type": "markdown",
   "id": "dfa5ceb6",
   "metadata": {},
   "source": [
    "![](schema_draft_3.png)"
   ]
  },
  {
   "cell_type": "code",
   "execution_count": 1,
   "id": "b6c584f6",
   "metadata": {},
   "outputs": [],
   "source": [
    "from py2neo import Graph, Node\n",
    "db = Graph(scheme=\"bolt\", host=\"localhost\", port=7687, secure=False, \n",
    "                auth=('neo4j', 'test'))\n",
    "#db.delete_all()"
   ]
  },
  {
   "cell_type": "code",
   "execution_count": 2,
   "id": "87a5f4f7",
   "metadata": {},
   "outputs": [],
   "source": [
    "import pandas as pd\n"
   ]
  },
  {
   "cell_type": "code",
   "execution_count": 3,
   "id": "4ca253da",
   "metadata": {},
   "outputs": [
    {
     "name": "stdout",
     "output_type": "stream",
     "text": [
      " Le volume dans le lecteur C nâ€™a pas de nom.\n",
      " Le numÃ©ro de sÃ©rie du volume est EE44-8BAE\n",
      "\n",
      " RÃ©pertoire de C:\\Users\\LENOVO\\Documents\\GitHub\\healthcare_fraud\\data\n",
      "\n",
      "14/12/2021  10:13    <DIR>          .\n",
      "14/12/2021  10:13    <DIR>          ..\n",
      "23/10/2019  08:12         5Â 325Â 982 Test_Beneficiarydata-1542969243754.csv\n",
      "23/10/2019  08:12         2Â 020Â 712 Test_Inpatientdata-1542969243754.csv\n",
      "23/10/2019  08:12        18Â 806Â 934 Test_Outpatientdata-1542969243754.csv\n",
      "23/10/2019  08:12            14Â 894 Test-1542969243754.csv\n",
      "23/10/2019  08:12        11Â 444Â 821 Train_Beneficiarydata-1542865627584.csv\n",
      "23/10/2019  08:12         8Â 572Â 555 Train_Inpatientdata-1542865627584.csv\n",
      "23/10/2019  08:12        77Â 391Â 090 Train_Outpatientdata-1542865627584.csv\n",
      "23/10/2019  08:12            87Â 094 Train-1542865627584.csv\n",
      "               8 fichier(s)      123Â 664Â 082 octets\n",
      "               2 RÃ©p(s)  385Â 550Â 258Â 176 octets libres\n"
     ]
    }
   ],
   "source": [
    "%ls data"
   ]
  },
  {
   "cell_type": "code",
   "execution_count": 4,
   "id": "bd701ab0",
   "metadata": {},
   "outputs": [],
   "source": [
    "df=pd.read_csv(\"data/Train_Beneficiarydata-1542865627584.csv\")"
   ]
  },
  {
   "cell_type": "code",
   "execution_count": 5,
   "id": "c5f733b2",
   "metadata": {},
   "outputs": [
    {
     "data": {
      "text/plain": [
       "Index(['BeneID', 'DOB', 'DOD', 'Gender', 'Race', 'RenalDiseaseIndicator',\n",
       "       'State', 'County', 'NoOfMonths_PartACov', 'NoOfMonths_PartBCov',\n",
       "       'ChronicCond_Alzheimer', 'ChronicCond_Heartfailure',\n",
       "       'ChronicCond_KidneyDisease', 'ChronicCond_Cancer',\n",
       "       'ChronicCond_ObstrPulmonary', 'ChronicCond_Depression',\n",
       "       'ChronicCond_Diabetes', 'ChronicCond_IschemicHeart',\n",
       "       'ChronicCond_Osteoporasis', 'ChronicCond_rheumatoidarthritis',\n",
       "       'ChronicCond_stroke', 'IPAnnualReimbursementAmt',\n",
       "       'IPAnnualDeductibleAmt', 'OPAnnualReimbursementAmt',\n",
       "       'OPAnnualDeductibleAmt'],\n",
       "      dtype='object')"
      ]
     },
     "execution_count": 5,
     "metadata": {},
     "output_type": "execute_result"
    }
   ],
   "source": [
    "df.columns"
   ]
  },
  {
   "cell_type": "markdown",
   "id": "36d90d0f",
   "metadata": {},
   "source": [
    "## Beneficiary nodes\n"
   ]
  },
  {
   "cell_type": "code",
   "execution_count": 6,
   "id": "c37a69ea",
   "metadata": {},
   "outputs": [
    {
     "data": {
      "text/plain": [
       "['BENE11001', 'BENE11002', 'BENE11003']"
      ]
     },
     "execution_count": 6,
     "metadata": {},
     "output_type": "execute_result"
    }
   ],
   "source": [
    "beneficiaries = list(df.BeneID.unique())\n",
    "beneficiaries[:3]"
   ]
  },
  {
   "cell_type": "code",
   "execution_count": 7,
   "id": "64c9084c",
   "metadata": {},
   "outputs": [
    {
     "data": {
      "text/plain": [
       "138556"
      ]
     },
     "execution_count": 7,
     "metadata": {},
     "output_type": "execute_result"
    }
   ],
   "source": [
    "len(beneficiaries)"
   ]
  },
  {
   "cell_type": "code",
   "execution_count": 8,
   "id": "6bf9207a",
   "metadata": {},
   "outputs": [],
   "source": [
    "bens = [{'idx': x} for x in beneficiaries]"
   ]
  },
  {
   "cell_type": "code",
   "execution_count": 10,
   "id": "870081f7",
   "metadata": {},
   "outputs": [
    {
     "data": {
      "text/plain": [
       "[{'idx': 'BENE11001'}, {'idx': 'BENE11002'}, {'idx': 'BENE11003'}]"
      ]
     },
     "execution_count": 10,
     "metadata": {},
     "output_type": "execute_result"
    }
   ],
   "source": [
    "bens[:3]"
   ]
  },
  {
   "cell_type": "code",
   "execution_count": 11,
   "id": "da278045",
   "metadata": {},
   "outputs": [],
   "source": [
    "# set constraint on beneficiary node that idx is unique\n",
    "query=\"\"\"CREATE CONSTRAINT ON (n:Beneficiary) ASSERT n.idx IS UNIQUE\"\"\""
   ]
  },
  {
   "cell_type": "code",
   "execution_count": 12,
   "id": "a072a625",
   "metadata": {},
   "outputs": [
    {
     "data": {
      "text/html": [
       "(No data)"
      ],
      "text/plain": [
       "(No data)"
      ]
     },
     "execution_count": 12,
     "metadata": {},
     "output_type": "execute_result"
    }
   ],
   "source": [
    "db.run(query)"
   ]
  },
  {
   "cell_type": "code",
   "execution_count": 13,
   "id": "4500c46f",
   "metadata": {},
   "outputs": [
    {
     "data": {
      "text/html": [
       "(No data)"
      ],
      "text/plain": [
       "(No data)"
      ]
     },
     "execution_count": 13,
     "metadata": {},
     "output_type": "execute_result"
    }
   ],
   "source": [
    "query = \"\"\"\n",
    "    UNWIND $bens AS ben\n",
    "    MERGE (b:Beneficiary {idx: ben.idx})\n",
    "        \"\"\"\n",
    "db.run(query, {\"bens\":bens})"
   ]
  },
  {
   "cell_type": "markdown",
   "id": "3cc24116",
   "metadata": {},
   "source": [
    "## Provider nodes"
   ]
  },
  {
   "cell_type": "code",
   "execution_count": 6,
   "id": "80699e48",
   "metadata": {},
   "outputs": [],
   "source": [
    "df_in = pd.read_csv(\"data/Train_Inpatientdata-1542865627584.csv\")"
   ]
  },
  {
   "cell_type": "code",
   "execution_count": 7,
   "id": "75bb5940",
   "metadata": {},
   "outputs": [
    {
     "data": {
      "text/plain": [
       "Index(['BeneID', 'ClaimID', 'ClaimStartDt', 'ClaimEndDt', 'Provider',\n",
       "       'InscClaimAmtReimbursed', 'AttendingPhysician', 'OperatingPhysician',\n",
       "       'OtherPhysician', 'AdmissionDt', 'ClmAdmitDiagnosisCode',\n",
       "       'DeductibleAmtPaid', 'DischargeDt', 'DiagnosisGroupCode',\n",
       "       'ClmDiagnosisCode_1', 'ClmDiagnosisCode_2', 'ClmDiagnosisCode_3',\n",
       "       'ClmDiagnosisCode_4', 'ClmDiagnosisCode_5', 'ClmDiagnosisCode_6',\n",
       "       'ClmDiagnosisCode_7', 'ClmDiagnosisCode_8', 'ClmDiagnosisCode_9',\n",
       "       'ClmDiagnosisCode_10', 'ClmProcedureCode_1', 'ClmProcedureCode_2',\n",
       "       'ClmProcedureCode_3', 'ClmProcedureCode_4', 'ClmProcedureCode_5',\n",
       "       'ClmProcedureCode_6'],\n",
       "      dtype='object')"
      ]
     },
     "execution_count": 7,
     "metadata": {},
     "output_type": "execute_result"
    }
   ],
   "source": [
    "df_in.columns"
   ]
  },
  {
   "cell_type": "code",
   "execution_count": 8,
   "id": "f7edf6f8",
   "metadata": {},
   "outputs": [],
   "source": [
    "df_out = pd.read_csv(\"data/Train_Outpatientdata-1542865627584.csv\")"
   ]
  },
  {
   "cell_type": "code",
   "execution_count": 9,
   "id": "2474c63a",
   "metadata": {},
   "outputs": [
    {
     "data": {
      "text/plain": [
       "Index(['BeneID', 'ClaimID', 'ClaimStartDt', 'ClaimEndDt', 'Provider',\n",
       "       'InscClaimAmtReimbursed', 'AttendingPhysician', 'OperatingPhysician',\n",
       "       'OtherPhysician', 'ClmDiagnosisCode_1', 'ClmDiagnosisCode_2',\n",
       "       'ClmDiagnosisCode_3', 'ClmDiagnosisCode_4', 'ClmDiagnosisCode_5',\n",
       "       'ClmDiagnosisCode_6', 'ClmDiagnosisCode_7', 'ClmDiagnosisCode_8',\n",
       "       'ClmDiagnosisCode_9', 'ClmDiagnosisCode_10', 'ClmProcedureCode_1',\n",
       "       'ClmProcedureCode_2', 'ClmProcedureCode_3', 'ClmProcedureCode_4',\n",
       "       'ClmProcedureCode_5', 'ClmProcedureCode_6', 'DeductibleAmtPaid',\n",
       "       'ClmAdmitDiagnosisCode'],\n",
       "      dtype='object')"
      ]
     },
     "execution_count": 9,
     "metadata": {},
     "output_type": "execute_result"
    }
   ],
   "source": [
    "df_out.columns"
   ]
  },
  {
   "cell_type": "code",
   "execution_count": 12,
   "id": "5b5e1565",
   "metadata": {},
   "outputs": [],
   "source": [
    "providers = list(set(list(df_in.Provider.unique()) + list(df_out.Provider.unique())))"
   ]
  },
  {
   "cell_type": "code",
   "execution_count": 19,
   "id": "c9e346b3",
   "metadata": {},
   "outputs": [
    {
     "data": {
      "text/plain": [
       "5410"
      ]
     },
     "execution_count": 19,
     "metadata": {},
     "output_type": "execute_result"
    }
   ],
   "source": [
    "len(providers)"
   ]
  },
  {
   "cell_type": "code",
   "execution_count": 20,
   "id": "e2401410",
   "metadata": {},
   "outputs": [
    {
     "data": {
      "text/plain": [
       "['PRV54572', 'PRV53390', 'PRV56999', 'PRV51934']"
      ]
     },
     "execution_count": 20,
     "metadata": {},
     "output_type": "execute_result"
    }
   ],
   "source": [
    "providers[:4]"
   ]
  },
  {
   "cell_type": "code",
   "execution_count": 21,
   "id": "9a6c4de5",
   "metadata": {},
   "outputs": [],
   "source": [
    "provs=[{\"idx\": x} for x in providers]"
   ]
  },
  {
   "cell_type": "code",
   "execution_count": 22,
   "id": "9f2769de",
   "metadata": {},
   "outputs": [],
   "source": [
    "# set constraint on beneficiary node that idx is unique\n",
    "query=\"\"\"CREATE CONSTRAINT ON (n:Provider) ASSERT n.idx IS UNIQUE\"\"\""
   ]
  },
  {
   "cell_type": "code",
   "execution_count": 23,
   "id": "8194d189",
   "metadata": {},
   "outputs": [
    {
     "data": {
      "text/html": [
       "(No data)"
      ],
      "text/plain": [
       "(No data)"
      ]
     },
     "execution_count": 23,
     "metadata": {},
     "output_type": "execute_result"
    }
   ],
   "source": [
    "db.run(query)"
   ]
  },
  {
   "cell_type": "code",
   "execution_count": 24,
   "id": "c28c0e5d",
   "metadata": {},
   "outputs": [
    {
     "data": {
      "text/html": [
       "(No data)"
      ],
      "text/plain": [
       "(No data)"
      ]
     },
     "execution_count": 24,
     "metadata": {},
     "output_type": "execute_result"
    }
   ],
   "source": [
    "query = \"\"\"\n",
    "    UNWIND $provs AS prov\n",
    "    MERGE (b:Provider {idx: prov.idx})\n",
    "        \"\"\"\n",
    "db.run(query, {\"provs\":provs})"
   ]
  },
  {
   "cell_type": "markdown",
   "id": "32db80bd",
   "metadata": {},
   "source": [
    "## (Provider)-[:HAS_BENEFICIARY]->(Beneficiary)"
   ]
  },
  {
   "cell_type": "code",
   "execution_count": 10,
   "id": "a388cd8b",
   "metadata": {},
   "outputs": [],
   "source": [
    "df_in[\"type\"]=\"Inpatient\""
   ]
  },
  {
   "cell_type": "code",
   "execution_count": 11,
   "id": "e4b0f944",
   "metadata": {},
   "outputs": [],
   "source": [
    "df_out['type']=\"Outpatient\""
   ]
  },
  {
   "cell_type": "code",
   "execution_count": 12,
   "id": "e894e4ca",
   "metadata": {},
   "outputs": [],
   "source": [
    "df_all=df_in.append(df_out)"
   ]
  },
  {
   "cell_type": "code",
   "execution_count": 13,
   "id": "58c2b443",
   "metadata": {},
   "outputs": [
    {
     "data": {
      "text/plain": [
       "558211"
      ]
     },
     "execution_count": 13,
     "metadata": {},
     "output_type": "execute_result"
    }
   ],
   "source": [
    "len(df_all)"
   ]
  },
  {
   "cell_type": "code",
   "execution_count": 29,
   "id": "82117903",
   "metadata": {},
   "outputs": [
    {
     "data": {
      "text/plain": [
       "Outpatient    517737\n",
       "Inpatient      40474\n",
       "Name: type, dtype: int64"
      ]
     },
     "execution_count": 29,
     "metadata": {},
     "output_type": "execute_result"
    }
   ],
   "source": [
    "df_all.type.value_counts()"
   ]
  },
  {
   "cell_type": "code",
   "execution_count": 30,
   "id": "975545f4",
   "metadata": {},
   "outputs": [
    {
     "data": {
      "text/plain": [
       "40474"
      ]
     },
     "execution_count": 30,
     "metadata": {},
     "output_type": "execute_result"
    }
   ],
   "source": [
    "len(df_in)"
   ]
  },
  {
   "cell_type": "code",
   "execution_count": 31,
   "id": "4c47b83f",
   "metadata": {},
   "outputs": [
    {
     "data": {
      "text/plain": [
       "517737"
      ]
     },
     "execution_count": 31,
     "metadata": {},
     "output_type": "execute_result"
    }
   ],
   "source": [
    "len(df_out)"
   ]
  },
  {
   "cell_type": "code",
   "execution_count": 32,
   "id": "c23948f3",
   "metadata": {},
   "outputs": [],
   "source": [
    "grp=df_all.groupby(['Provider','BeneID'])['ClaimID'].count()"
   ]
  },
  {
   "cell_type": "code",
   "execution_count": 33,
   "id": "ec8cfcbd",
   "metadata": {},
   "outputs": [],
   "source": [
    "grp=grp.reset_index()\n"
   ]
  },
  {
   "cell_type": "code",
   "execution_count": 34,
   "id": "76b86ea5",
   "metadata": {},
   "outputs": [
    {
     "data": {
      "text/html": [
       "<div>\n",
       "<style scoped>\n",
       "    .dataframe tbody tr th:only-of-type {\n",
       "        vertical-align: middle;\n",
       "    }\n",
       "\n",
       "    .dataframe tbody tr th {\n",
       "        vertical-align: top;\n",
       "    }\n",
       "\n",
       "    .dataframe thead th {\n",
       "        text-align: right;\n",
       "    }\n",
       "</style>\n",
       "<table border=\"1\" class=\"dataframe\">\n",
       "  <thead>\n",
       "    <tr style=\"text-align: right;\">\n",
       "      <th></th>\n",
       "      <th>Provider</th>\n",
       "      <th>BeneID</th>\n",
       "      <th>ClaimID</th>\n",
       "    </tr>\n",
       "  </thead>\n",
       "  <tbody>\n",
       "    <tr>\n",
       "      <th>0</th>\n",
       "      <td>PRV51001</td>\n",
       "      <td>BENE102690</td>\n",
       "      <td>1</td>\n",
       "    </tr>\n",
       "    <tr>\n",
       "      <th>1</th>\n",
       "      <td>PRV51001</td>\n",
       "      <td>BENE106078</td>\n",
       "      <td>1</td>\n",
       "    </tr>\n",
       "    <tr>\n",
       "      <th>2</th>\n",
       "      <td>PRV51001</td>\n",
       "      <td>BENE11727</td>\n",
       "      <td>1</td>\n",
       "    </tr>\n",
       "    <tr>\n",
       "      <th>3</th>\n",
       "      <td>PRV51001</td>\n",
       "      <td>BENE123416</td>\n",
       "      <td>1</td>\n",
       "    </tr>\n",
       "    <tr>\n",
       "      <th>4</th>\n",
       "      <td>PRV51001</td>\n",
       "      <td>BENE126477</td>\n",
       "      <td>1</td>\n",
       "    </tr>\n",
       "  </tbody>\n",
       "</table>\n",
       "</div>"
      ],
      "text/plain": [
       "   Provider      BeneID  ClaimID\n",
       "0  PRV51001  BENE102690        1\n",
       "1  PRV51001  BENE106078        1\n",
       "2  PRV51001   BENE11727        1\n",
       "3  PRV51001  BENE123416        1\n",
       "4  PRV51001  BENE126477        1"
      ]
     },
     "execution_count": 34,
     "metadata": {},
     "output_type": "execute_result"
    }
   ],
   "source": [
    "grp.head()"
   ]
  },
  {
   "cell_type": "code",
   "execution_count": 35,
   "id": "9ff6438f",
   "metadata": {},
   "outputs": [
    {
     "data": {
      "text/plain": [
       "1     274312\n",
       "2      46849\n",
       "3      18330\n",
       "4       9347\n",
       "5       5303\n",
       "6       3255\n",
       "7       2105\n",
       "8       1350\n",
       "9        888\n",
       "10       566\n",
       "11       379\n",
       "12       222\n",
       "13       143\n",
       "14        92\n",
       "15        61\n",
       "16        41\n",
       "17        26\n",
       "18        15\n",
       "19         8\n",
       "20         3\n",
       "21         2\n",
       "23         2\n",
       "28         1\n",
       "Name: ClaimID, dtype: int64"
      ]
     },
     "execution_count": 35,
     "metadata": {},
     "output_type": "execute_result"
    }
   ],
   "source": [
    "grp['ClaimID'].value_counts()"
   ]
  },
  {
   "cell_type": "code",
   "execution_count": 36,
   "id": "e2c2c737",
   "metadata": {},
   "outputs": [],
   "source": [
    "rels = [{'origin':x[1]['Provider'],\n",
    "       'target': x[1]['BeneID']} for x in grp.iterrows()]"
   ]
  },
  {
   "cell_type": "code",
   "execution_count": 37,
   "id": "37a6cc33",
   "metadata": {},
   "outputs": [
    {
     "data": {
      "text/plain": [
       "363300"
      ]
     },
     "execution_count": 37,
     "metadata": {},
     "output_type": "execute_result"
    }
   ],
   "source": [
    "len(rels)"
   ]
  },
  {
   "cell_type": "code",
   "execution_count": 38,
   "id": "8ff4d627",
   "metadata": {},
   "outputs": [
    {
     "data": {
      "text/html": [
       "(No data)"
      ],
      "text/plain": [
       "(No data)"
      ]
     },
     "execution_count": 38,
     "metadata": {},
     "output_type": "execute_result"
    }
   ],
   "source": [
    "query = \"\"\"\n",
    "    UNWIND $rels AS rel\n",
    "    MATCH (e1:Provider {idx: rel.origin})\n",
    "    MATCH (e2:Beneficiary {idx: rel.target}) \n",
    "    MERGE (e1)-[m:HAS_BENEFICIARY]->(e2)\"\"\"\n",
    "\n",
    "db.run(query, {\"rels\":rels})"
   ]
  },
  {
   "cell_type": "markdown",
   "id": "c6e2d169",
   "metadata": {},
   "source": [
    "### Provider Degree"
   ]
  },
  {
   "cell_type": "code",
   "execution_count": 20,
   "id": "93e96fcb",
   "metadata": {},
   "outputs": [
    {
     "data": {
      "text/html": [
       "<div>\n",
       "<style scoped>\n",
       "    .dataframe tbody tr th:only-of-type {\n",
       "        vertical-align: middle;\n",
       "    }\n",
       "\n",
       "    .dataframe tbody tr th {\n",
       "        vertical-align: top;\n",
       "    }\n",
       "\n",
       "    .dataframe thead th {\n",
       "        text-align: right;\n",
       "    }\n",
       "</style>\n",
       "<table border=\"1\" class=\"dataframe\">\n",
       "  <thead>\n",
       "    <tr style=\"text-align: right;\">\n",
       "      <th></th>\n",
       "      <th>Provider</th>\n",
       "      <th>BeneID</th>\n",
       "    </tr>\n",
       "  </thead>\n",
       "  <tbody>\n",
       "    <tr>\n",
       "      <th>363</th>\n",
       "      <td>PRV51459</td>\n",
       "      <td>8240</td>\n",
       "    </tr>\n",
       "    <tr>\n",
       "      <th>2250</th>\n",
       "      <td>PRV53797</td>\n",
       "      <td>4739</td>\n",
       "    </tr>\n",
       "    <tr>\n",
       "      <th>455</th>\n",
       "      <td>PRV51574</td>\n",
       "      <td>4444</td>\n",
       "    </tr>\n",
       "    <tr>\n",
       "      <th>2335</th>\n",
       "      <td>PRV53918</td>\n",
       "      <td>3588</td>\n",
       "    </tr>\n",
       "    <tr>\n",
       "      <th>3113</th>\n",
       "      <td>PRV54895</td>\n",
       "      <td>3436</td>\n",
       "    </tr>\n",
       "    <tr>\n",
       "      <th>...</th>\n",
       "      <td>...</td>\n",
       "      <td>...</td>\n",
       "    </tr>\n",
       "    <tr>\n",
       "      <th>4297</th>\n",
       "      <td>PRV56373</td>\n",
       "      <td>1</td>\n",
       "    </tr>\n",
       "    <tr>\n",
       "      <th>978</th>\n",
       "      <td>PRV52221</td>\n",
       "      <td>1</td>\n",
       "    </tr>\n",
       "    <tr>\n",
       "      <th>3652</th>\n",
       "      <td>PRV55578</td>\n",
       "      <td>1</td>\n",
       "    </tr>\n",
       "    <tr>\n",
       "      <th>4301</th>\n",
       "      <td>PRV56377</td>\n",
       "      <td>1</td>\n",
       "    </tr>\n",
       "    <tr>\n",
       "      <th>1532</th>\n",
       "      <td>PRV52899</td>\n",
       "      <td>1</td>\n",
       "    </tr>\n",
       "  </tbody>\n",
       "</table>\n",
       "<p>5410 rows × 2 columns</p>\n",
       "</div>"
      ],
      "text/plain": [
       "      Provider  BeneID\n",
       "363   PRV51459    8240\n",
       "2250  PRV53797    4739\n",
       "455   PRV51574    4444\n",
       "2335  PRV53918    3588\n",
       "3113  PRV54895    3436\n",
       "...        ...     ...\n",
       "4297  PRV56373       1\n",
       "978   PRV52221       1\n",
       "3652  PRV55578       1\n",
       "4301  PRV56377       1\n",
       "1532  PRV52899       1\n",
       "\n",
       "[5410 rows x 2 columns]"
      ]
     },
     "execution_count": 20,
     "metadata": {},
     "output_type": "execute_result"
    }
   ],
   "source": [
    "grp=df_all.groupby(['Provider'], as_index=False)['BeneID'].count()\n",
    "grp.sort_values('BeneID', ascending=False)"
   ]
  },
  {
   "cell_type": "code",
   "execution_count": 21,
   "id": "846a68d6",
   "metadata": {},
   "outputs": [
    {
     "data": {
      "text/html": [
       "<div>\n",
       "<style scoped>\n",
       "    .dataframe tbody tr th:only-of-type {\n",
       "        vertical-align: middle;\n",
       "    }\n",
       "\n",
       "    .dataframe tbody tr th {\n",
       "        vertical-align: top;\n",
       "    }\n",
       "\n",
       "    .dataframe thead th {\n",
       "        text-align: right;\n",
       "    }\n",
       "</style>\n",
       "<table border=\"1\" class=\"dataframe\">\n",
       "  <thead>\n",
       "    <tr style=\"text-align: right;\">\n",
       "      <th></th>\n",
       "      <th>Provider</th>\n",
       "      <th>ClaimID</th>\n",
       "    </tr>\n",
       "  </thead>\n",
       "  <tbody>\n",
       "    <tr>\n",
       "      <th>363</th>\n",
       "      <td>PRV51459</td>\n",
       "      <td>8240</td>\n",
       "    </tr>\n",
       "    <tr>\n",
       "      <th>2250</th>\n",
       "      <td>PRV53797</td>\n",
       "      <td>4739</td>\n",
       "    </tr>\n",
       "    <tr>\n",
       "      <th>455</th>\n",
       "      <td>PRV51574</td>\n",
       "      <td>4444</td>\n",
       "    </tr>\n",
       "    <tr>\n",
       "      <th>2335</th>\n",
       "      <td>PRV53918</td>\n",
       "      <td>3588</td>\n",
       "    </tr>\n",
       "    <tr>\n",
       "      <th>3113</th>\n",
       "      <td>PRV54895</td>\n",
       "      <td>3436</td>\n",
       "    </tr>\n",
       "    <tr>\n",
       "      <th>...</th>\n",
       "      <td>...</td>\n",
       "      <td>...</td>\n",
       "    </tr>\n",
       "    <tr>\n",
       "      <th>4297</th>\n",
       "      <td>PRV56373</td>\n",
       "      <td>1</td>\n",
       "    </tr>\n",
       "    <tr>\n",
       "      <th>978</th>\n",
       "      <td>PRV52221</td>\n",
       "      <td>1</td>\n",
       "    </tr>\n",
       "    <tr>\n",
       "      <th>3652</th>\n",
       "      <td>PRV55578</td>\n",
       "      <td>1</td>\n",
       "    </tr>\n",
       "    <tr>\n",
       "      <th>4301</th>\n",
       "      <td>PRV56377</td>\n",
       "      <td>1</td>\n",
       "    </tr>\n",
       "    <tr>\n",
       "      <th>1532</th>\n",
       "      <td>PRV52899</td>\n",
       "      <td>1</td>\n",
       "    </tr>\n",
       "  </tbody>\n",
       "</table>\n",
       "<p>5410 rows × 2 columns</p>\n",
       "</div>"
      ],
      "text/plain": [
       "      Provider  ClaimID\n",
       "363   PRV51459     8240\n",
       "2250  PRV53797     4739\n",
       "455   PRV51574     4444\n",
       "2335  PRV53918     3588\n",
       "3113  PRV54895     3436\n",
       "...        ...      ...\n",
       "4297  PRV56373        1\n",
       "978   PRV52221        1\n",
       "3652  PRV55578        1\n",
       "4301  PRV56377        1\n",
       "1532  PRV52899        1\n",
       "\n",
       "[5410 rows x 2 columns]"
      ]
     },
     "execution_count": 21,
     "metadata": {},
     "output_type": "execute_result"
    }
   ],
   "source": [
    "grp=df_all.groupby(['Provider'], as_index=False)['ClaimID'].count()\n",
    "grp.sort_values('ClaimID', ascending=False)"
   ]
  },
  {
   "cell_type": "code",
   "execution_count": 27,
   "id": "fca34f1e",
   "metadata": {},
   "outputs": [
    {
     "data": {
      "text/html": [
       "<div>\n",
       "<style scoped>\n",
       "    .dataframe tbody tr th:only-of-type {\n",
       "        vertical-align: middle;\n",
       "    }\n",
       "\n",
       "    .dataframe tbody tr th {\n",
       "        vertical-align: top;\n",
       "    }\n",
       "\n",
       "    .dataframe thead th {\n",
       "        text-align: right;\n",
       "    }\n",
       "</style>\n",
       "<table border=\"1\" class=\"dataframe\">\n",
       "  <thead>\n",
       "    <tr style=\"text-align: right;\">\n",
       "      <th></th>\n",
       "      <th>Provider</th>\n",
       "      <th>BeneID</th>\n",
       "    </tr>\n",
       "  </thead>\n",
       "  <tbody>\n",
       "    <tr>\n",
       "      <th>363</th>\n",
       "      <td>PRV51459</td>\n",
       "      <td>2857</td>\n",
       "    </tr>\n",
       "    <tr>\n",
       "      <th>3363</th>\n",
       "      <td>PRV55215</td>\n",
       "      <td>2638</td>\n",
       "    </tr>\n",
       "    <tr>\n",
       "      <th>2250</th>\n",
       "      <td>PRV53797</td>\n",
       "      <td>2020</td>\n",
       "    </tr>\n",
       "    <tr>\n",
       "      <th>818</th>\n",
       "      <td>PRV52019</td>\n",
       "      <td>1734</td>\n",
       "    </tr>\n",
       "    <tr>\n",
       "      <th>455</th>\n",
       "      <td>PRV51574</td>\n",
       "      <td>1715</td>\n",
       "    </tr>\n",
       "    <tr>\n",
       "      <th>...</th>\n",
       "      <td>...</td>\n",
       "      <td>...</td>\n",
       "    </tr>\n",
       "    <tr>\n",
       "      <th>4703</th>\n",
       "      <td>PRV56891</td>\n",
       "      <td>1</td>\n",
       "    </tr>\n",
       "    <tr>\n",
       "      <th>1416</th>\n",
       "      <td>PRV52757</td>\n",
       "      <td>1</td>\n",
       "    </tr>\n",
       "    <tr>\n",
       "      <th>5088</th>\n",
       "      <td>PRV57371</td>\n",
       "      <td>1</td>\n",
       "    </tr>\n",
       "    <tr>\n",
       "      <th>3691</th>\n",
       "      <td>PRV55622</td>\n",
       "      <td>1</td>\n",
       "    </tr>\n",
       "    <tr>\n",
       "      <th>3494</th>\n",
       "      <td>PRV55384</td>\n",
       "      <td>1</td>\n",
       "    </tr>\n",
       "  </tbody>\n",
       "</table>\n",
       "<p>5410 rows × 2 columns</p>\n",
       "</div>"
      ],
      "text/plain": [
       "      Provider  BeneID\n",
       "363   PRV51459    2857\n",
       "3363  PRV55215    2638\n",
       "2250  PRV53797    2020\n",
       "818   PRV52019    1734\n",
       "455   PRV51574    1715\n",
       "...        ...     ...\n",
       "4703  PRV56891       1\n",
       "1416  PRV52757       1\n",
       "5088  PRV57371       1\n",
       "3691  PRV55622       1\n",
       "3494  PRV55384       1\n",
       "\n",
       "[5410 rows x 2 columns]"
      ]
     },
     "execution_count": 27,
     "metadata": {},
     "output_type": "execute_result"
    }
   ],
   "source": [
    "grouped_df = df_all.groupby(['Provider'], as_index=False).agg({\"BeneID\": \"nunique\"})\n",
    "grouped_df.sort_values('BeneID', ascending=False)"
   ]
  },
  {
   "cell_type": "markdown",
   "id": "24907a8d",
   "metadata": {},
   "source": [
    "## Provider degree "
   ]
  },
  {
   "cell_type": "code",
   "execution_count": 28,
   "id": "8721e535",
   "metadata": {},
   "outputs": [],
   "source": [
    "rels = [{'origin': x[1]['Provider'],\n",
    "       'target':  x[1]['BeneID']} for x in grouped_df.iterrows()]"
   ]
  },
  {
   "cell_type": "code",
   "execution_count": 29,
   "id": "e655e331",
   "metadata": {},
   "outputs": [],
   "source": [
    "query = \"\"\"\n",
    "\n",
    "       UNWIND $rels as rel\n",
    "       MATCH (e1:Provider {idx: rel.origin})\n",
    "       SET e1.DEGREE = rel.target\n",
    "\n",
    "\"\"\""
   ]
  },
  {
   "cell_type": "code",
   "execution_count": 32,
   "id": "a244e279",
   "metadata": {},
   "outputs": [
    {
     "data": {
      "text/html": [
       "(No data)"
      ],
      "text/plain": [
       "(No data)"
      ]
     },
     "execution_count": 32,
     "metadata": {},
     "output_type": "execute_result"
    }
   ],
   "source": [
    "db.run(query, {'rels': rels})"
   ]
  },
  {
   "cell_type": "markdown",
   "id": "dc7a090d",
   "metadata": {},
   "source": [
    "## (Physician)-[:HAS_TREATED]->(Beneficiary)"
   ]
  },
  {
   "cell_type": "code",
   "execution_count": 17,
   "id": "3aac8763",
   "metadata": {},
   "outputs": [],
   "source": [
    "grp=df_all.groupby(['AttendingPhysician','BeneID'])['ClaimID'].count()"
   ]
  },
  {
   "cell_type": "code",
   "execution_count": 18,
   "id": "1901f1be",
   "metadata": {},
   "outputs": [],
   "source": [
    "grp=grp.reset_index()"
   ]
  },
  {
   "cell_type": "code",
   "execution_count": 21,
   "id": "a1fa3c63",
   "metadata": {},
   "outputs": [
    {
     "data": {
      "text/html": [
       "<div>\n",
       "<style scoped>\n",
       "    .dataframe tbody tr th:only-of-type {\n",
       "        vertical-align: middle;\n",
       "    }\n",
       "\n",
       "    .dataframe tbody tr th {\n",
       "        vertical-align: top;\n",
       "    }\n",
       "\n",
       "    .dataframe thead th {\n",
       "        text-align: right;\n",
       "    }\n",
       "</style>\n",
       "<table border=\"1\" class=\"dataframe\">\n",
       "  <thead>\n",
       "    <tr style=\"text-align: right;\">\n",
       "      <th></th>\n",
       "      <th>AttendingPhysician</th>\n",
       "      <th>BeneID</th>\n",
       "      <th>ClaimID</th>\n",
       "    </tr>\n",
       "  </thead>\n",
       "  <tbody>\n",
       "    <tr>\n",
       "      <th>0</th>\n",
       "      <td>PHY311001</td>\n",
       "      <td>BENE91984</td>\n",
       "      <td>1</td>\n",
       "    </tr>\n",
       "    <tr>\n",
       "      <th>1</th>\n",
       "      <td>PHY311001</td>\n",
       "      <td>BENE93416</td>\n",
       "      <td>1</td>\n",
       "    </tr>\n",
       "    <tr>\n",
       "      <th>2</th>\n",
       "      <td>PHY311002</td>\n",
       "      <td>BENE52795</td>\n",
       "      <td>1</td>\n",
       "    </tr>\n",
       "    <tr>\n",
       "      <th>3</th>\n",
       "      <td>PHY311004</td>\n",
       "      <td>BENE122648</td>\n",
       "      <td>1</td>\n",
       "    </tr>\n",
       "    <tr>\n",
       "      <th>4</th>\n",
       "      <td>PHY311004</td>\n",
       "      <td>BENE21205</td>\n",
       "      <td>1</td>\n",
       "    </tr>\n",
       "  </tbody>\n",
       "</table>\n",
       "</div>"
      ],
      "text/plain": [
       "  AttendingPhysician      BeneID  ClaimID\n",
       "0          PHY311001   BENE91984        1\n",
       "1          PHY311001   BENE93416        1\n",
       "2          PHY311002   BENE52795        1\n",
       "3          PHY311004  BENE122648        1\n",
       "4          PHY311004   BENE21205        1"
      ]
     },
     "execution_count": 21,
     "metadata": {},
     "output_type": "execute_result"
    }
   ],
   "source": [
    "grp.head()"
   ]
  },
  {
   "cell_type": "code",
   "execution_count": 22,
   "id": "c2499c53",
   "metadata": {},
   "outputs": [],
   "source": [
    "rels = [{'origin':x[1]['AttendingPhysician'],\n",
    "       'target': x[1]['BeneID']} for x in grp.iterrows()]"
   ]
  },
  {
   "cell_type": "code",
   "execution_count": 23,
   "id": "728c03b7",
   "metadata": {},
   "outputs": [
    {
     "data": {
      "text/plain": [
       "491115"
      ]
     },
     "execution_count": 23,
     "metadata": {},
     "output_type": "execute_result"
    }
   ],
   "source": [
    "len(rels)"
   ]
  },
  {
   "cell_type": "code",
   "execution_count": 25,
   "id": "cacd13c0",
   "metadata": {},
   "outputs": [],
   "source": [
    "query = \"\"\"\n",
    "    CALL apoc.periodic.iterate(\n",
    "    'UNWIND $rels AS rel\n",
    "    MATCH (e1:Physician {idx: rel.origin})\n",
    "    MATCH (e2:Beneficiary {idx: rel.target}) \n",
    "    MERGE (e1)-[m:HAS_TREATED]->(e2) RETURN m', \n",
    "    'WITH m RETURN count(m)',\n",
    "    {batchSize:100, parallel:false, params: {rels:$rels}})\n",
    "    \"\"\""
   ]
  },
  {
   "cell_type": "code",
   "execution_count": 27,
   "id": "34781dab",
   "metadata": {},
   "outputs": [],
   "source": [
    "i=0\n",
    "while i < len(df_all):\n",
    "    db.run(query, {\"rels\":rels[i:i+5000]}).to_table()\n",
    "    i=i+5000"
   ]
  },
  {
   "cell_type": "markdown",
   "id": "f44e54a9",
   "metadata": {},
   "source": [
    "## Race nodes"
   ]
  },
  {
   "cell_type": "code",
   "execution_count": 39,
   "id": "f12b1f7b",
   "metadata": {},
   "outputs": [],
   "source": [
    "races= list(df.Race.unique())"
   ]
  },
  {
   "cell_type": "code",
   "execution_count": 40,
   "id": "3e8a1713",
   "metadata": {},
   "outputs": [
    {
     "data": {
      "text/plain": [
       "[1, 2, 3, 5]"
      ]
     },
     "execution_count": 40,
     "metadata": {},
     "output_type": "execute_result"
    }
   ],
   "source": [
    "races"
   ]
  },
  {
   "cell_type": "code",
   "execution_count": 41,
   "id": "7ab10e84",
   "metadata": {},
   "outputs": [],
   "source": [
    "rs = [{\"race\": int(x),\n",
    "     \"idx\": i}  for (i,x) in enumerate(races)]"
   ]
  },
  {
   "cell_type": "code",
   "execution_count": 42,
   "id": "586fd9ad",
   "metadata": {},
   "outputs": [
    {
     "data": {
      "text/plain": [
       "[{'race': 1, 'idx': 0},\n",
       " {'race': 2, 'idx': 1},\n",
       " {'race': 3, 'idx': 2},\n",
       " {'race': 5, 'idx': 3}]"
      ]
     },
     "execution_count": 42,
     "metadata": {},
     "output_type": "execute_result"
    }
   ],
   "source": [
    "rs"
   ]
  },
  {
   "cell_type": "code",
   "execution_count": 43,
   "id": "6cccfa96",
   "metadata": {},
   "outputs": [],
   "source": [
    "query=\"\"\" CREATE CONSTRAINT ON (r:Race) ASSERT r.idx is UNIQUE \"\"\""
   ]
  },
  {
   "cell_type": "code",
   "execution_count": 44,
   "id": "6d804952",
   "metadata": {},
   "outputs": [
    {
     "data": {
      "text/html": [
       "(No data)"
      ],
      "text/plain": [
       "(No data)"
      ]
     },
     "execution_count": 44,
     "metadata": {},
     "output_type": "execute_result"
    }
   ],
   "source": [
    "db.run(query)"
   ]
  },
  {
   "cell_type": "code",
   "execution_count": 45,
   "id": "e45ba5b5",
   "metadata": {},
   "outputs": [
    {
     "data": {
      "text/html": [
       "(No data)"
      ],
      "text/plain": [
       "(No data)"
      ]
     },
     "execution_count": 45,
     "metadata": {},
     "output_type": "execute_result"
    }
   ],
   "source": [
    "query = \"\"\"\n",
    "    UNWIND $rs AS r\n",
    "    MERGE (b:Race {idx: r.idx, race: r.race})\n",
    "        \"\"\"\n",
    "db.run(query, {\"rs\":rs})"
   ]
  },
  {
   "cell_type": "code",
   "execution_count": 46,
   "id": "26ef4d77",
   "metadata": {},
   "outputs": [
    {
     "data": {
      "text/html": [
       "<table><tr><th>r</th></tr><tr><td style=\"text-align:left\">(_143966:Race {idx: 0, race: 1})</td></tr><tr><td style=\"text-align:left\">(_143967:Race {idx: 1, race: 2})</td></tr><tr><td style=\"text-align:left\">(_143968:Race {idx: 2, race: 3})</td></tr><tr><td style=\"text-align:left\">(_143969:Race {idx: 3, race: 5})</td></tr></table>"
      ],
      "text/plain": [
       " r                                \n",
       "----------------------------------\n",
       " (_143966:Race {idx: 0, race: 1}) \n",
       " (_143967:Race {idx: 1, race: 2}) \n",
       " (_143968:Race {idx: 2, race: 3}) \n",
       " (_143969:Race {idx: 3, race: 5}) "
      ]
     },
     "execution_count": 46,
     "metadata": {},
     "output_type": "execute_result"
    }
   ],
   "source": [
    "query = \"\"\"\n",
    "    MATCH (r:Race)\n",
    "    RETURN * \"\"\"\n",
    "db.run(query).to_table()"
   ]
  },
  {
   "cell_type": "markdown",
   "id": "adfbeaed",
   "metadata": {},
   "source": [
    "## (Beneficiary)-[:HAS_RACE]->(Race)"
   ]
  },
  {
   "cell_type": "code",
   "execution_count": 47,
   "id": "31a7940d",
   "metadata": {},
   "outputs": [],
   "source": [
    "grp=df[['BeneID','Race']]"
   ]
  },
  {
   "cell_type": "code",
   "execution_count": 48,
   "id": "98d87804",
   "metadata": {
    "scrolled": true
   },
   "outputs": [
    {
     "data": {
      "text/html": [
       "<div>\n",
       "<style scoped>\n",
       "    .dataframe tbody tr th:only-of-type {\n",
       "        vertical-align: middle;\n",
       "    }\n",
       "\n",
       "    .dataframe tbody tr th {\n",
       "        vertical-align: top;\n",
       "    }\n",
       "\n",
       "    .dataframe thead th {\n",
       "        text-align: right;\n",
       "    }\n",
       "</style>\n",
       "<table border=\"1\" class=\"dataframe\">\n",
       "  <thead>\n",
       "    <tr style=\"text-align: right;\">\n",
       "      <th></th>\n",
       "      <th>BeneID</th>\n",
       "      <th>Race</th>\n",
       "    </tr>\n",
       "  </thead>\n",
       "  <tbody>\n",
       "    <tr>\n",
       "      <th>0</th>\n",
       "      <td>BENE11001</td>\n",
       "      <td>1</td>\n",
       "    </tr>\n",
       "    <tr>\n",
       "      <th>1</th>\n",
       "      <td>BENE11002</td>\n",
       "      <td>1</td>\n",
       "    </tr>\n",
       "    <tr>\n",
       "      <th>2</th>\n",
       "      <td>BENE11003</td>\n",
       "      <td>1</td>\n",
       "    </tr>\n",
       "    <tr>\n",
       "      <th>3</th>\n",
       "      <td>BENE11004</td>\n",
       "      <td>1</td>\n",
       "    </tr>\n",
       "    <tr>\n",
       "      <th>4</th>\n",
       "      <td>BENE11005</td>\n",
       "      <td>1</td>\n",
       "    </tr>\n",
       "    <tr>\n",
       "      <th>...</th>\n",
       "      <td>...</td>\n",
       "      <td>...</td>\n",
       "    </tr>\n",
       "    <tr>\n",
       "      <th>138551</th>\n",
       "      <td>BENE159194</td>\n",
       "      <td>1</td>\n",
       "    </tr>\n",
       "    <tr>\n",
       "      <th>138552</th>\n",
       "      <td>BENE159195</td>\n",
       "      <td>1</td>\n",
       "    </tr>\n",
       "    <tr>\n",
       "      <th>138553</th>\n",
       "      <td>BENE159196</td>\n",
       "      <td>1</td>\n",
       "    </tr>\n",
       "    <tr>\n",
       "      <th>138554</th>\n",
       "      <td>BENE159197</td>\n",
       "      <td>1</td>\n",
       "    </tr>\n",
       "    <tr>\n",
       "      <th>138555</th>\n",
       "      <td>BENE159198</td>\n",
       "      <td>1</td>\n",
       "    </tr>\n",
       "  </tbody>\n",
       "</table>\n",
       "<p>138556 rows × 2 columns</p>\n",
       "</div>"
      ],
      "text/plain": [
       "            BeneID  Race\n",
       "0        BENE11001     1\n",
       "1        BENE11002     1\n",
       "2        BENE11003     1\n",
       "3        BENE11004     1\n",
       "4        BENE11005     1\n",
       "...            ...   ...\n",
       "138551  BENE159194     1\n",
       "138552  BENE159195     1\n",
       "138553  BENE159196     1\n",
       "138554  BENE159197     1\n",
       "138555  BENE159198     1\n",
       "\n",
       "[138556 rows x 2 columns]"
      ]
     },
     "execution_count": 48,
     "metadata": {},
     "output_type": "execute_result"
    }
   ],
   "source": [
    "grp"
   ]
  },
  {
   "cell_type": "code",
   "execution_count": 49,
   "id": "61cf6756",
   "metadata": {},
   "outputs": [],
   "source": [
    "rels = [{'origin': x[1]['BeneID'],\n",
    "       'target':  x[1]['Race']} for x in grp.iterrows()]"
   ]
  },
  {
   "cell_type": "code",
   "execution_count": 50,
   "id": "8eb03603",
   "metadata": {},
   "outputs": [
    {
     "data": {
      "text/html": [
       "(No data)"
      ],
      "text/plain": [
       "(No data)"
      ]
     },
     "execution_count": 50,
     "metadata": {},
     "output_type": "execute_result"
    }
   ],
   "source": [
    "query = \"\"\"\n",
    "    UNWIND $rels AS rel\n",
    "    MATCH (e1:Beneficiary {idx: rel.origin})\n",
    "    MATCH (e2:Race {idx: rel.target}) \n",
    "    MERGE (e1)-[m:HAS_RACE]->(e2)\"\"\"\n",
    "\n",
    "db.run(query, {\"rels\":rels})"
   ]
  },
  {
   "cell_type": "markdown",
   "id": "fc306470",
   "metadata": {},
   "source": [
    "## Gender"
   ]
  },
  {
   "cell_type": "code",
   "execution_count": 51,
   "id": "f95e354e",
   "metadata": {},
   "outputs": [],
   "source": [
    "genders=list(df.Gender.unique())"
   ]
  },
  {
   "cell_type": "code",
   "execution_count": 52,
   "id": "4f83c002",
   "metadata": {},
   "outputs": [
    {
     "data": {
      "text/plain": [
       "[1, 2]"
      ]
     },
     "execution_count": 52,
     "metadata": {},
     "output_type": "execute_result"
    }
   ],
   "source": [
    "genders"
   ]
  },
  {
   "cell_type": "code",
   "execution_count": 53,
   "id": "cfa46860",
   "metadata": {},
   "outputs": [],
   "source": [
    "gs = [{\"gender\": int(x),\n",
    "     \"idx\" : i} for (i,x) in enumerate(genders)]"
   ]
  },
  {
   "cell_type": "code",
   "execution_count": 54,
   "id": "cb8982bf",
   "metadata": {},
   "outputs": [
    {
     "data": {
      "text/plain": [
       "[{'gender': 1, 'idx': 0}, {'gender': 2, 'idx': 1}]"
      ]
     },
     "execution_count": 54,
     "metadata": {},
     "output_type": "execute_result"
    }
   ],
   "source": [
    "gs"
   ]
  },
  {
   "cell_type": "code",
   "execution_count": 55,
   "id": "5f9bb64d",
   "metadata": {},
   "outputs": [],
   "source": [
    "query=\"\"\"CREATE CONSTRAINT ON (n:Gender) ASSERT n.idx IS UNIQUE\"\"\""
   ]
  },
  {
   "cell_type": "code",
   "execution_count": 56,
   "id": "11508859",
   "metadata": {},
   "outputs": [
    {
     "data": {
      "text/html": [
       "(No data)"
      ],
      "text/plain": [
       "(No data)"
      ]
     },
     "execution_count": 56,
     "metadata": {},
     "output_type": "execute_result"
    }
   ],
   "source": [
    "db.run(query)"
   ]
  },
  {
   "cell_type": "code",
   "execution_count": 57,
   "id": "b5a2a9c9",
   "metadata": {},
   "outputs": [
    {
     "data": {
      "text/html": [
       "(No data)"
      ],
      "text/plain": [
       "(No data)"
      ]
     },
     "execution_count": 57,
     "metadata": {},
     "output_type": "execute_result"
    }
   ],
   "source": [
    "query = \"\"\"\n",
    "    UNWIND $gs AS g\n",
    "    MERGE (b:Gender {idx: g.idx, gender: g.gender})\n",
    "        \"\"\"\n",
    "db.run(query, {\"gs\":gs})"
   ]
  },
  {
   "cell_type": "markdown",
   "id": "238c0153",
   "metadata": {},
   "source": [
    "## (Beneficiary)-[:HAS_GENDER]->(Gender)"
   ]
  },
  {
   "cell_type": "code",
   "execution_count": 58,
   "id": "a9bff31c",
   "metadata": {},
   "outputs": [],
   "source": [
    "grp=df[['BeneID','Gender']]"
   ]
  },
  {
   "cell_type": "code",
   "execution_count": 59,
   "id": "fa3682ea",
   "metadata": {},
   "outputs": [
    {
     "data": {
      "text/html": [
       "<div>\n",
       "<style scoped>\n",
       "    .dataframe tbody tr th:only-of-type {\n",
       "        vertical-align: middle;\n",
       "    }\n",
       "\n",
       "    .dataframe tbody tr th {\n",
       "        vertical-align: top;\n",
       "    }\n",
       "\n",
       "    .dataframe thead th {\n",
       "        text-align: right;\n",
       "    }\n",
       "</style>\n",
       "<table border=\"1\" class=\"dataframe\">\n",
       "  <thead>\n",
       "    <tr style=\"text-align: right;\">\n",
       "      <th></th>\n",
       "      <th>BeneID</th>\n",
       "      <th>Gender</th>\n",
       "    </tr>\n",
       "  </thead>\n",
       "  <tbody>\n",
       "    <tr>\n",
       "      <th>0</th>\n",
       "      <td>BENE11001</td>\n",
       "      <td>1</td>\n",
       "    </tr>\n",
       "    <tr>\n",
       "      <th>1</th>\n",
       "      <td>BENE11002</td>\n",
       "      <td>2</td>\n",
       "    </tr>\n",
       "    <tr>\n",
       "      <th>2</th>\n",
       "      <td>BENE11003</td>\n",
       "      <td>1</td>\n",
       "    </tr>\n",
       "    <tr>\n",
       "      <th>3</th>\n",
       "      <td>BENE11004</td>\n",
       "      <td>1</td>\n",
       "    </tr>\n",
       "    <tr>\n",
       "      <th>4</th>\n",
       "      <td>BENE11005</td>\n",
       "      <td>1</td>\n",
       "    </tr>\n",
       "    <tr>\n",
       "      <th>...</th>\n",
       "      <td>...</td>\n",
       "      <td>...</td>\n",
       "    </tr>\n",
       "    <tr>\n",
       "      <th>138551</th>\n",
       "      <td>BENE159194</td>\n",
       "      <td>1</td>\n",
       "    </tr>\n",
       "    <tr>\n",
       "      <th>138552</th>\n",
       "      <td>BENE159195</td>\n",
       "      <td>2</td>\n",
       "    </tr>\n",
       "    <tr>\n",
       "      <th>138553</th>\n",
       "      <td>BENE159196</td>\n",
       "      <td>2</td>\n",
       "    </tr>\n",
       "    <tr>\n",
       "      <th>138554</th>\n",
       "      <td>BENE159197</td>\n",
       "      <td>1</td>\n",
       "    </tr>\n",
       "    <tr>\n",
       "      <th>138555</th>\n",
       "      <td>BENE159198</td>\n",
       "      <td>2</td>\n",
       "    </tr>\n",
       "  </tbody>\n",
       "</table>\n",
       "<p>138556 rows × 2 columns</p>\n",
       "</div>"
      ],
      "text/plain": [
       "            BeneID  Gender\n",
       "0        BENE11001       1\n",
       "1        BENE11002       2\n",
       "2        BENE11003       1\n",
       "3        BENE11004       1\n",
       "4        BENE11005       1\n",
       "...            ...     ...\n",
       "138551  BENE159194       1\n",
       "138552  BENE159195       2\n",
       "138553  BENE159196       2\n",
       "138554  BENE159197       1\n",
       "138555  BENE159198       2\n",
       "\n",
       "[138556 rows x 2 columns]"
      ]
     },
     "execution_count": 59,
     "metadata": {},
     "output_type": "execute_result"
    }
   ],
   "source": [
    "grp"
   ]
  },
  {
   "cell_type": "code",
   "execution_count": 60,
   "id": "26ed6496",
   "metadata": {},
   "outputs": [],
   "source": [
    "rels = [{'origin': x[1]['BeneID'],\n",
    "       'target':  x[1]['Gender']} for x in grp.iterrows()]"
   ]
  },
  {
   "cell_type": "code",
   "execution_count": 61,
   "id": "99c5bdcf",
   "metadata": {},
   "outputs": [
    {
     "data": {
      "text/html": [
       "(No data)"
      ],
      "text/plain": [
       "(No data)"
      ]
     },
     "execution_count": 61,
     "metadata": {},
     "output_type": "execute_result"
    }
   ],
   "source": [
    "query = \"\"\"\n",
    "    UNWIND $rels AS rel\n",
    "    MATCH (e1:Beneficiary {idx: rel.origin})\n",
    "    MATCH (e2:Gender {idx: rel.target}) \n",
    "    MERGE (e1)-[m:HAS_GENDER]->(e2)\"\"\"\n",
    "\n",
    "db.run(query, {\"rels\":rels})"
   ]
  },
  {
   "cell_type": "markdown",
   "id": "fb14acfc",
   "metadata": {},
   "source": [
    "## State"
   ]
  },
  {
   "cell_type": "code",
   "execution_count": 62,
   "id": "93666ba2",
   "metadata": {},
   "outputs": [],
   "source": [
    "states=list(df.State.unique())"
   ]
  },
  {
   "cell_type": "code",
   "execution_count": 63,
   "id": "524667bd",
   "metadata": {},
   "outputs": [],
   "source": [
    "sts = [{\"state\": int(x),\n",
    "     \"idx\" : i} for (i,x) in enumerate(states)]"
   ]
  },
  {
   "cell_type": "code",
   "execution_count": 64,
   "id": "9d1349f8",
   "metadata": {},
   "outputs": [],
   "source": [
    "query=\"\"\"CREATE CONSTRAINT ON (n:State) ASSERT n.idx IS UNIQUE\"\"\""
   ]
  },
  {
   "cell_type": "code",
   "execution_count": 65,
   "id": "9ee619c8",
   "metadata": {},
   "outputs": [
    {
     "data": {
      "text/html": [
       "(No data)"
      ],
      "text/plain": [
       "(No data)"
      ]
     },
     "execution_count": 65,
     "metadata": {},
     "output_type": "execute_result"
    }
   ],
   "source": [
    "db.run(query)"
   ]
  },
  {
   "cell_type": "code",
   "execution_count": 66,
   "id": "5d74e53d",
   "metadata": {},
   "outputs": [
    {
     "data": {
      "text/html": [
       "(No data)"
      ],
      "text/plain": [
       "(No data)"
      ]
     },
     "execution_count": 66,
     "metadata": {},
     "output_type": "execute_result"
    }
   ],
   "source": [
    "query = \"\"\"\n",
    "    UNWIND $sts AS st\n",
    "    MERGE (b:State {idx: st.idx, state: st.state})\n",
    "        \"\"\"\n",
    "db.run(query, {\"sts\":sts})"
   ]
  },
  {
   "cell_type": "markdown",
   "id": "380249d9",
   "metadata": {},
   "source": [
    "## (Beneficiary)-[:HOME_STATE]->(STATE)"
   ]
  },
  {
   "cell_type": "code",
   "execution_count": 67,
   "id": "f5bd3a07",
   "metadata": {},
   "outputs": [],
   "source": [
    "grp=df[['BeneID','State']]"
   ]
  },
  {
   "cell_type": "code",
   "execution_count": 68,
   "id": "7c1a8686",
   "metadata": {},
   "outputs": [
    {
     "data": {
      "text/html": [
       "<div>\n",
       "<style scoped>\n",
       "    .dataframe tbody tr th:only-of-type {\n",
       "        vertical-align: middle;\n",
       "    }\n",
       "\n",
       "    .dataframe tbody tr th {\n",
       "        vertical-align: top;\n",
       "    }\n",
       "\n",
       "    .dataframe thead th {\n",
       "        text-align: right;\n",
       "    }\n",
       "</style>\n",
       "<table border=\"1\" class=\"dataframe\">\n",
       "  <thead>\n",
       "    <tr style=\"text-align: right;\">\n",
       "      <th></th>\n",
       "      <th>BeneID</th>\n",
       "      <th>State</th>\n",
       "    </tr>\n",
       "  </thead>\n",
       "  <tbody>\n",
       "    <tr>\n",
       "      <th>0</th>\n",
       "      <td>BENE11001</td>\n",
       "      <td>39</td>\n",
       "    </tr>\n",
       "    <tr>\n",
       "      <th>1</th>\n",
       "      <td>BENE11002</td>\n",
       "      <td>39</td>\n",
       "    </tr>\n",
       "    <tr>\n",
       "      <th>2</th>\n",
       "      <td>BENE11003</td>\n",
       "      <td>52</td>\n",
       "    </tr>\n",
       "    <tr>\n",
       "      <th>3</th>\n",
       "      <td>BENE11004</td>\n",
       "      <td>39</td>\n",
       "    </tr>\n",
       "    <tr>\n",
       "      <th>4</th>\n",
       "      <td>BENE11005</td>\n",
       "      <td>24</td>\n",
       "    </tr>\n",
       "    <tr>\n",
       "      <th>...</th>\n",
       "      <td>...</td>\n",
       "      <td>...</td>\n",
       "    </tr>\n",
       "    <tr>\n",
       "      <th>138551</th>\n",
       "      <td>BENE159194</td>\n",
       "      <td>39</td>\n",
       "    </tr>\n",
       "    <tr>\n",
       "      <th>138552</th>\n",
       "      <td>BENE159195</td>\n",
       "      <td>49</td>\n",
       "    </tr>\n",
       "    <tr>\n",
       "      <th>138553</th>\n",
       "      <td>BENE159196</td>\n",
       "      <td>6</td>\n",
       "    </tr>\n",
       "    <tr>\n",
       "      <th>138554</th>\n",
       "      <td>BENE159197</td>\n",
       "      <td>16</td>\n",
       "    </tr>\n",
       "    <tr>\n",
       "      <th>138555</th>\n",
       "      <td>BENE159198</td>\n",
       "      <td>21</td>\n",
       "    </tr>\n",
       "  </tbody>\n",
       "</table>\n",
       "<p>138556 rows × 2 columns</p>\n",
       "</div>"
      ],
      "text/plain": [
       "            BeneID  State\n",
       "0        BENE11001     39\n",
       "1        BENE11002     39\n",
       "2        BENE11003     52\n",
       "3        BENE11004     39\n",
       "4        BENE11005     24\n",
       "...            ...    ...\n",
       "138551  BENE159194     39\n",
       "138552  BENE159195     49\n",
       "138553  BENE159196      6\n",
       "138554  BENE159197     16\n",
       "138555  BENE159198     21\n",
       "\n",
       "[138556 rows x 2 columns]"
      ]
     },
     "execution_count": 68,
     "metadata": {},
     "output_type": "execute_result"
    }
   ],
   "source": [
    "grp"
   ]
  },
  {
   "cell_type": "code",
   "execution_count": 69,
   "id": "f19c0d04",
   "metadata": {},
   "outputs": [],
   "source": [
    "rels = [{'origin': x[1]['BeneID'],\n",
    "       'target':  x[1]['State']} for x in grp.iterrows()]"
   ]
  },
  {
   "cell_type": "code",
   "execution_count": 70,
   "id": "74767628",
   "metadata": {},
   "outputs": [
    {
     "data": {
      "text/html": [
       "(No data)"
      ],
      "text/plain": [
       "(No data)"
      ]
     },
     "execution_count": 70,
     "metadata": {},
     "output_type": "execute_result"
    }
   ],
   "source": [
    "query = \"\"\"\n",
    "    UNWIND $rels AS rel\n",
    "    MATCH (e1:Beneficiary {idx: rel.origin})\n",
    "    MATCH (e2:State {idx: rel.target}) \n",
    "    MERGE (e1)-[m:HOME_STATE]->(e2)\"\"\"\n",
    "\n",
    "db.run(query, {\"rels\":rels})"
   ]
  },
  {
   "cell_type": "markdown",
   "id": "8a58db66",
   "metadata": {},
   "source": [
    "## County"
   ]
  },
  {
   "cell_type": "code",
   "execution_count": 71,
   "id": "1f5359bb",
   "metadata": {},
   "outputs": [],
   "source": [
    "counties=list(df.County.unique())"
   ]
  },
  {
   "cell_type": "code",
   "execution_count": 72,
   "id": "6dc6be49",
   "metadata": {},
   "outputs": [],
   "source": [
    "cts = [{\"county\": int(x),\n",
    "     \"idx\" : i} for (i,x) in enumerate(counties)]"
   ]
  },
  {
   "cell_type": "code",
   "execution_count": 73,
   "id": "244f5080",
   "metadata": {},
   "outputs": [],
   "source": [
    "query=\"\"\"CREATE CONSTRAINT ON (n:County) ASSERT n.idx IS UNIQUE\"\"\""
   ]
  },
  {
   "cell_type": "code",
   "execution_count": 74,
   "id": "27f59fa2",
   "metadata": {},
   "outputs": [
    {
     "data": {
      "text/html": [
       "(No data)"
      ],
      "text/plain": [
       "(No data)"
      ]
     },
     "execution_count": 74,
     "metadata": {},
     "output_type": "execute_result"
    }
   ],
   "source": [
    "db.run(query)"
   ]
  },
  {
   "cell_type": "code",
   "execution_count": 75,
   "id": "884cd2de",
   "metadata": {},
   "outputs": [
    {
     "data": {
      "text/html": [
       "(No data)"
      ],
      "text/plain": [
       "(No data)"
      ]
     },
     "execution_count": 75,
     "metadata": {},
     "output_type": "execute_result"
    }
   ],
   "source": [
    "query = \"\"\"\n",
    "    UNWIND $cts AS ct\n",
    "    MERGE (b:County {idx: ct.idx, county: ct.county})\n",
    "        \"\"\"\n",
    "db.run(query, {\"cts\":cts})"
   ]
  },
  {
   "cell_type": "markdown",
   "id": "2b27f9ba",
   "metadata": {},
   "source": [
    "## (Beneficiary)-[:HOME_COUNTY]->(County)"
   ]
  },
  {
   "cell_type": "code",
   "execution_count": 76,
   "id": "26e0d37a",
   "metadata": {},
   "outputs": [],
   "source": [
    "grp=df[['BeneID','County']]"
   ]
  },
  {
   "cell_type": "code",
   "execution_count": 77,
   "id": "fd369e67",
   "metadata": {},
   "outputs": [
    {
     "data": {
      "text/html": [
       "<div>\n",
       "<style scoped>\n",
       "    .dataframe tbody tr th:only-of-type {\n",
       "        vertical-align: middle;\n",
       "    }\n",
       "\n",
       "    .dataframe tbody tr th {\n",
       "        vertical-align: top;\n",
       "    }\n",
       "\n",
       "    .dataframe thead th {\n",
       "        text-align: right;\n",
       "    }\n",
       "</style>\n",
       "<table border=\"1\" class=\"dataframe\">\n",
       "  <thead>\n",
       "    <tr style=\"text-align: right;\">\n",
       "      <th></th>\n",
       "      <th>BeneID</th>\n",
       "      <th>County</th>\n",
       "    </tr>\n",
       "  </thead>\n",
       "  <tbody>\n",
       "    <tr>\n",
       "      <th>0</th>\n",
       "      <td>BENE11001</td>\n",
       "      <td>230</td>\n",
       "    </tr>\n",
       "    <tr>\n",
       "      <th>1</th>\n",
       "      <td>BENE11002</td>\n",
       "      <td>280</td>\n",
       "    </tr>\n",
       "    <tr>\n",
       "      <th>2</th>\n",
       "      <td>BENE11003</td>\n",
       "      <td>590</td>\n",
       "    </tr>\n",
       "    <tr>\n",
       "      <th>3</th>\n",
       "      <td>BENE11004</td>\n",
       "      <td>270</td>\n",
       "    </tr>\n",
       "    <tr>\n",
       "      <th>4</th>\n",
       "      <td>BENE11005</td>\n",
       "      <td>680</td>\n",
       "    </tr>\n",
       "    <tr>\n",
       "      <th>...</th>\n",
       "      <td>...</td>\n",
       "      <td>...</td>\n",
       "    </tr>\n",
       "    <tr>\n",
       "      <th>138551</th>\n",
       "      <td>BENE159194</td>\n",
       "      <td>140</td>\n",
       "    </tr>\n",
       "    <tr>\n",
       "      <th>138552</th>\n",
       "      <td>BENE159195</td>\n",
       "      <td>530</td>\n",
       "    </tr>\n",
       "    <tr>\n",
       "      <th>138553</th>\n",
       "      <td>BENE159196</td>\n",
       "      <td>150</td>\n",
       "    </tr>\n",
       "    <tr>\n",
       "      <th>138554</th>\n",
       "      <td>BENE159197</td>\n",
       "      <td>560</td>\n",
       "    </tr>\n",
       "    <tr>\n",
       "      <th>138555</th>\n",
       "      <td>BENE159198</td>\n",
       "      <td>20</td>\n",
       "    </tr>\n",
       "  </tbody>\n",
       "</table>\n",
       "<p>138556 rows × 2 columns</p>\n",
       "</div>"
      ],
      "text/plain": [
       "            BeneID  County\n",
       "0        BENE11001     230\n",
       "1        BENE11002     280\n",
       "2        BENE11003     590\n",
       "3        BENE11004     270\n",
       "4        BENE11005     680\n",
       "...            ...     ...\n",
       "138551  BENE159194     140\n",
       "138552  BENE159195     530\n",
       "138553  BENE159196     150\n",
       "138554  BENE159197     560\n",
       "138555  BENE159198      20\n",
       "\n",
       "[138556 rows x 2 columns]"
      ]
     },
     "execution_count": 77,
     "metadata": {},
     "output_type": "execute_result"
    }
   ],
   "source": [
    "grp"
   ]
  },
  {
   "cell_type": "code",
   "execution_count": 78,
   "id": "8ef292d5",
   "metadata": {},
   "outputs": [],
   "source": [
    "rels = [{'origin': x[1]['BeneID'],\n",
    "       'target':  x[1]['County']} for x in grp.iterrows()]"
   ]
  },
  {
   "cell_type": "code",
   "execution_count": 79,
   "id": "af7e9b56",
   "metadata": {},
   "outputs": [
    {
     "data": {
      "text/html": [
       "(No data)"
      ],
      "text/plain": [
       "(No data)"
      ]
     },
     "execution_count": 79,
     "metadata": {},
     "output_type": "execute_result"
    }
   ],
   "source": [
    "query = \"\"\"\n",
    "    UNWIND $rels AS rel\n",
    "    MATCH (e1:Beneficiary {idx: rel.origin})\n",
    "    MATCH (e2:County {idx: rel.target}) \n",
    "    MERGE (e1)-[m:HOME_COUNTY]->(e2)\"\"\"\n",
    "\n",
    "db.run(query, {\"rels\":rels})"
   ]
  },
  {
   "cell_type": "markdown",
   "id": "7b81c06a",
   "metadata": {},
   "source": [
    "## (County)-[:BELONGS_TO]->(State)"
   ]
  },
  {
   "cell_type": "code",
   "execution_count": 80,
   "id": "09e91eb8",
   "metadata": {},
   "outputs": [],
   "source": [
    "grp=df[['County','State']]"
   ]
  },
  {
   "cell_type": "code",
   "execution_count": 81,
   "id": "99048d22",
   "metadata": {},
   "outputs": [],
   "source": [
    "rels = [{'origin': int(x[1]['County']),\n",
    "       'target':  int(x[1]['State'])} for x in grp.iterrows()]"
   ]
  },
  {
   "cell_type": "code",
   "execution_count": 82,
   "id": "6fce209b",
   "metadata": {},
   "outputs": [
    {
     "data": {
      "text/plain": [
       "{'origin': 760, 'target': 34}"
      ]
     },
     "execution_count": 82,
     "metadata": {},
     "output_type": "execute_result"
    }
   ],
   "source": [
    "rels[31]"
   ]
  },
  {
   "cell_type": "code",
   "execution_count": 83,
   "id": "f02e1ea2",
   "metadata": {},
   "outputs": [],
   "source": [
    "query = \"\"\"\n",
    "    UNWIND $rels AS rel\n",
    "    MATCH (e1:County {idx: rel.origin})\n",
    "    MATCH (e2:State {idx: rel.target}) \n",
    "    MERGE (e1)-[m:BELONGS_TO]->(e2)\"\"\""
   ]
  },
  {
   "cell_type": "code",
   "execution_count": 84,
   "id": "55798aa1",
   "metadata": {},
   "outputs": [
    {
     "data": {
      "text/html": [
       "(No data)"
      ],
      "text/plain": [
       "(No data)"
      ]
     },
     "execution_count": 84,
     "metadata": {},
     "output_type": "execute_result"
    }
   ],
   "source": [
    "db.run(query, {\"rels\":rels})"
   ]
  },
  {
   "cell_type": "markdown",
   "id": "0948c7ef",
   "metadata": {},
   "source": [
    "## Months_PartA"
   ]
  },
  {
   "cell_type": "code",
   "execution_count": 85,
   "id": "cfe8c069",
   "metadata": {},
   "outputs": [],
   "source": [
    "Amonths=list(df.NoOfMonths_PartACov.unique())"
   ]
  },
  {
   "cell_type": "code",
   "execution_count": 86,
   "id": "7545c506",
   "metadata": {},
   "outputs": [],
   "source": [
    "ams = [{\"Months_PartA\": int(x),\n",
    "     \"idx\" : i} for (i,x) in enumerate(Amonths)]"
   ]
  },
  {
   "cell_type": "code",
   "execution_count": 87,
   "id": "90a42a89",
   "metadata": {},
   "outputs": [],
   "source": [
    "query=\"\"\"CREATE CONSTRAINT ON (n:Months_PartA) ASSERT n.idx IS UNIQUE\"\"\""
   ]
  },
  {
   "cell_type": "code",
   "execution_count": 88,
   "id": "48b06190",
   "metadata": {},
   "outputs": [
    {
     "data": {
      "text/html": [
       "(No data)"
      ],
      "text/plain": [
       "(No data)"
      ]
     },
     "execution_count": 88,
     "metadata": {},
     "output_type": "execute_result"
    }
   ],
   "source": [
    "db.run(query)"
   ]
  },
  {
   "cell_type": "code",
   "execution_count": 89,
   "id": "e864a0b2",
   "metadata": {},
   "outputs": [
    {
     "data": {
      "text/html": [
       "(No data)"
      ],
      "text/plain": [
       "(No data)"
      ]
     },
     "execution_count": 89,
     "metadata": {},
     "output_type": "execute_result"
    }
   ],
   "source": [
    "query = \"\"\"\n",
    "    UNWIND $ams AS am\n",
    "    MERGE (b:Months_PartA {idx: am.idx, Months_PartA: am.Months_PartA})\n",
    "        \"\"\"\n",
    "db.run(query, {\"ams\":ams})"
   ]
  },
  {
   "cell_type": "markdown",
   "id": "ad29bf8b",
   "metadata": {},
   "source": [
    "## (Beneficiary)-[:HAS_COVERAGE_A]->(Months_PartA)"
   ]
  },
  {
   "cell_type": "code",
   "execution_count": 90,
   "id": "963e2916",
   "metadata": {},
   "outputs": [],
   "source": [
    "grp=df[['BeneID','NoOfMonths_PartACov']]"
   ]
  },
  {
   "cell_type": "code",
   "execution_count": 91,
   "id": "8f7d5dcb",
   "metadata": {},
   "outputs": [
    {
     "data": {
      "text/html": [
       "<div>\n",
       "<style scoped>\n",
       "    .dataframe tbody tr th:only-of-type {\n",
       "        vertical-align: middle;\n",
       "    }\n",
       "\n",
       "    .dataframe tbody tr th {\n",
       "        vertical-align: top;\n",
       "    }\n",
       "\n",
       "    .dataframe thead th {\n",
       "        text-align: right;\n",
       "    }\n",
       "</style>\n",
       "<table border=\"1\" class=\"dataframe\">\n",
       "  <thead>\n",
       "    <tr style=\"text-align: right;\">\n",
       "      <th></th>\n",
       "      <th>BeneID</th>\n",
       "      <th>NoOfMonths_PartACov</th>\n",
       "    </tr>\n",
       "  </thead>\n",
       "  <tbody>\n",
       "    <tr>\n",
       "      <th>0</th>\n",
       "      <td>BENE11001</td>\n",
       "      <td>12</td>\n",
       "    </tr>\n",
       "    <tr>\n",
       "      <th>1</th>\n",
       "      <td>BENE11002</td>\n",
       "      <td>12</td>\n",
       "    </tr>\n",
       "    <tr>\n",
       "      <th>2</th>\n",
       "      <td>BENE11003</td>\n",
       "      <td>12</td>\n",
       "    </tr>\n",
       "    <tr>\n",
       "      <th>3</th>\n",
       "      <td>BENE11004</td>\n",
       "      <td>12</td>\n",
       "    </tr>\n",
       "    <tr>\n",
       "      <th>4</th>\n",
       "      <td>BENE11005</td>\n",
       "      <td>12</td>\n",
       "    </tr>\n",
       "    <tr>\n",
       "      <th>...</th>\n",
       "      <td>...</td>\n",
       "      <td>...</td>\n",
       "    </tr>\n",
       "    <tr>\n",
       "      <th>138551</th>\n",
       "      <td>BENE159194</td>\n",
       "      <td>12</td>\n",
       "    </tr>\n",
       "    <tr>\n",
       "      <th>138552</th>\n",
       "      <td>BENE159195</td>\n",
       "      <td>12</td>\n",
       "    </tr>\n",
       "    <tr>\n",
       "      <th>138553</th>\n",
       "      <td>BENE159196</td>\n",
       "      <td>12</td>\n",
       "    </tr>\n",
       "    <tr>\n",
       "      <th>138554</th>\n",
       "      <td>BENE159197</td>\n",
       "      <td>12</td>\n",
       "    </tr>\n",
       "    <tr>\n",
       "      <th>138555</th>\n",
       "      <td>BENE159198</td>\n",
       "      <td>12</td>\n",
       "    </tr>\n",
       "  </tbody>\n",
       "</table>\n",
       "<p>138556 rows × 2 columns</p>\n",
       "</div>"
      ],
      "text/plain": [
       "            BeneID  NoOfMonths_PartACov\n",
       "0        BENE11001                   12\n",
       "1        BENE11002                   12\n",
       "2        BENE11003                   12\n",
       "3        BENE11004                   12\n",
       "4        BENE11005                   12\n",
       "...            ...                  ...\n",
       "138551  BENE159194                   12\n",
       "138552  BENE159195                   12\n",
       "138553  BENE159196                   12\n",
       "138554  BENE159197                   12\n",
       "138555  BENE159198                   12\n",
       "\n",
       "[138556 rows x 2 columns]"
      ]
     },
     "execution_count": 91,
     "metadata": {},
     "output_type": "execute_result"
    }
   ],
   "source": [
    "grp"
   ]
  },
  {
   "cell_type": "code",
   "execution_count": 92,
   "id": "54ef21db",
   "metadata": {},
   "outputs": [],
   "source": [
    "rels = [{'origin': x[1]['BeneID'],\n",
    "       'target':  x[1]['NoOfMonths_PartACov']} for x in grp.iterrows()]"
   ]
  },
  {
   "cell_type": "code",
   "execution_count": 93,
   "id": "f5da0aa5",
   "metadata": {},
   "outputs": [
    {
     "data": {
      "text/html": [
       "(No data)"
      ],
      "text/plain": [
       "(No data)"
      ]
     },
     "execution_count": 93,
     "metadata": {},
     "output_type": "execute_result"
    }
   ],
   "source": [
    "query = \"\"\"\n",
    "    UNWIND $rels AS rel\n",
    "    MATCH (e1:Beneficiary {idx: rel.origin})\n",
    "    MATCH (e2:Months_PartA {idx: rel.target}) \n",
    "    MERGE (e1)-[m:HAS_COVERAGE_A]->(e2)\"\"\"\n",
    "\n",
    "db.run(query, {\"rels\":rels})"
   ]
  },
  {
   "cell_type": "markdown",
   "id": "5d276abd",
   "metadata": {},
   "source": [
    "## Months_PartB"
   ]
  },
  {
   "cell_type": "code",
   "execution_count": 94,
   "id": "7970e89d",
   "metadata": {},
   "outputs": [],
   "source": [
    "Bmonths=list(df.NoOfMonths_PartBCov.unique())"
   ]
  },
  {
   "cell_type": "code",
   "execution_count": 95,
   "id": "34390588",
   "metadata": {},
   "outputs": [],
   "source": [
    "bms = [{\"Months_PartB\": int(x),\n",
    "     \"idx\" : i} for (i,x) in enumerate(Bmonths)]"
   ]
  },
  {
   "cell_type": "code",
   "execution_count": 96,
   "id": "bbecafb4",
   "metadata": {},
   "outputs": [],
   "source": [
    "query=\"\"\"CREATE CONSTRAINT ON (n:Months_PartB) ASSERT n.idx IS UNIQUE\"\"\""
   ]
  },
  {
   "cell_type": "code",
   "execution_count": 97,
   "id": "fa68fcf9",
   "metadata": {},
   "outputs": [
    {
     "data": {
      "text/html": [
       "(No data)"
      ],
      "text/plain": [
       "(No data)"
      ]
     },
     "execution_count": 97,
     "metadata": {},
     "output_type": "execute_result"
    }
   ],
   "source": [
    "db.run(query)"
   ]
  },
  {
   "cell_type": "code",
   "execution_count": 98,
   "id": "583f867c",
   "metadata": {},
   "outputs": [
    {
     "data": {
      "text/html": [
       "(No data)"
      ],
      "text/plain": [
       "(No data)"
      ]
     },
     "execution_count": 98,
     "metadata": {},
     "output_type": "execute_result"
    }
   ],
   "source": [
    "query = \"\"\"\n",
    "    UNWIND $bms AS bm\n",
    "    MERGE (b:Months_PartB {idx: bm.idx, Months_PartB: bm.Months_PartB})\n",
    "        \"\"\"\n",
    "db.run(query, {\"bms\":bms})"
   ]
  },
  {
   "cell_type": "markdown",
   "id": "882cf40d",
   "metadata": {},
   "source": [
    "## (Beneficiary)-[:HAS_COVERAGE_B]->(Months_PartB)"
   ]
  },
  {
   "cell_type": "code",
   "execution_count": 99,
   "id": "d3e1725f",
   "metadata": {},
   "outputs": [],
   "source": [
    "grp=df[['BeneID','NoOfMonths_PartBCov']]"
   ]
  },
  {
   "cell_type": "code",
   "execution_count": 100,
   "id": "048f6655",
   "metadata": {},
   "outputs": [],
   "source": [
    "rels = [{'origin': x[1]['BeneID'],\n",
    "       'target':  x[1]['NoOfMonths_PartBCov']} for x in grp.iterrows()]"
   ]
  },
  {
   "cell_type": "code",
   "execution_count": 101,
   "id": "c49cd427",
   "metadata": {},
   "outputs": [
    {
     "data": {
      "text/html": [
       "(No data)"
      ],
      "text/plain": [
       "(No data)"
      ]
     },
     "execution_count": 101,
     "metadata": {},
     "output_type": "execute_result"
    }
   ],
   "source": [
    "query = \"\"\"\n",
    "    UNWIND $rels AS rel\n",
    "    MATCH (e1:Beneficiary {idx: rel.origin})\n",
    "    MATCH (e2:Months_PartB {idx: rel.target}) \n",
    "    MERGE (e1)-[m:HAS_COVERAGE_B]->(e2)\"\"\"\n",
    "\n",
    "db.run(query, {\"rels\":rels})"
   ]
  },
  {
   "cell_type": "markdown",
   "id": "fa86a394",
   "metadata": {},
   "source": [
    "## RenalDiseaseIndicator"
   ]
  },
  {
   "cell_type": "code",
   "execution_count": 102,
   "id": "9600dfae",
   "metadata": {},
   "outputs": [],
   "source": [
    "renals=list(df.RenalDiseaseIndicator.unique())"
   ]
  },
  {
   "cell_type": "code",
   "execution_count": 103,
   "id": "db16b50e",
   "metadata": {},
   "outputs": [
    {
     "data": {
      "text/plain": [
       "['0', 'Y']"
      ]
     },
     "execution_count": 103,
     "metadata": {},
     "output_type": "execute_result"
    }
   ],
   "source": [
    "renals"
   ]
  },
  {
   "cell_type": "code",
   "execution_count": 104,
   "id": "507e31ec",
   "metadata": {},
   "outputs": [],
   "source": [
    "rns = [{\"Renal_Disease\": x,\n",
    "     \"idx\" : i} for (i,x) in enumerate(renals)]"
   ]
  },
  {
   "cell_type": "code",
   "execution_count": 136,
   "id": "20872d38",
   "metadata": {},
   "outputs": [
    {
     "data": {
      "text/plain": [
       "[{'Renal_Disease': '0', 'idx': 0}, {'Renal_Disease': 'Y', 'idx': 1}]"
      ]
     },
     "execution_count": 136,
     "metadata": {},
     "output_type": "execute_result"
    }
   ],
   "source": [
    "rns"
   ]
  },
  {
   "cell_type": "code",
   "execution_count": 105,
   "id": "b11116c0",
   "metadata": {},
   "outputs": [],
   "source": [
    "query=\"\"\"CREATE CONSTRAINT ON (n:Renal_Disease) ASSERT n.idx IS UNIQUE\"\"\""
   ]
  },
  {
   "cell_type": "code",
   "execution_count": 106,
   "id": "8150268b",
   "metadata": {},
   "outputs": [
    {
     "data": {
      "text/html": [
       "(No data)"
      ],
      "text/plain": [
       "(No data)"
      ]
     },
     "execution_count": 106,
     "metadata": {},
     "output_type": "execute_result"
    }
   ],
   "source": [
    "db.run(query)"
   ]
  },
  {
   "cell_type": "code",
   "execution_count": 107,
   "id": "4a885734",
   "metadata": {},
   "outputs": [
    {
     "data": {
      "text/html": [
       "(No data)"
      ],
      "text/plain": [
       "(No data)"
      ]
     },
     "execution_count": 107,
     "metadata": {},
     "output_type": "execute_result"
    }
   ],
   "source": [
    "query = \"\"\"\n",
    "    UNWIND $rns AS rn\n",
    "    MERGE (b:Renal_Disease {idx: rn.idx, Renal_Disease: rn.Renal_Disease})\n",
    "        \"\"\"\n",
    "db.run(query, {\"rns\":rns})"
   ]
  },
  {
   "cell_type": "markdown",
   "id": "8586e1fd",
   "metadata": {},
   "source": [
    "## (Beneficiary)-[:HAS_CHRONIC_R]->(Renal_Disease)"
   ]
  },
  {
   "cell_type": "code",
   "execution_count": 139,
   "id": "a380a491",
   "metadata": {},
   "outputs": [
    {
     "data": {
      "text/plain": [
       "array(['0', 'Y'], dtype=object)"
      ]
     },
     "execution_count": 139,
     "metadata": {},
     "output_type": "execute_result"
    }
   ],
   "source": [
    "df['RenalDiseaseIndicator'].unique()"
   ]
  },
  {
   "cell_type": "code",
   "execution_count": 140,
   "id": "efbcecc5",
   "metadata": {},
   "outputs": [],
   "source": [
    "grp=df[['BeneID','RenalDiseaseIndicator']]"
   ]
  },
  {
   "cell_type": "code",
   "execution_count": 141,
   "id": "46aa66e4",
   "metadata": {},
   "outputs": [],
   "source": [
    "rels = [{'origin': x[1]['BeneID'],\n",
    "       'target':  x[1]['RenalDiseaseIndicator']} for x in grp.iterrows()]"
   ]
  },
  {
   "cell_type": "code",
   "execution_count": 142,
   "id": "77f091b9",
   "metadata": {},
   "outputs": [],
   "source": [
    "query = \"\"\"\n",
    "    UNWIND $rels AS rel\n",
    "    MATCH (e1:Beneficiary {idx: rel.origin})\n",
    "    MATCH (e2:Renal_Disease {Renal_Disease: rel.target}) \n",
    "    MERGE (e1)-[m:HAS_CHRONIC_R]->(e2)\"\"\""
   ]
  },
  {
   "cell_type": "code",
   "execution_count": 143,
   "id": "e4f2cace",
   "metadata": {},
   "outputs": [
    {
     "data": {
      "text/html": [
       "<table></table>"
      ],
      "text/plain": []
     },
     "execution_count": 143,
     "metadata": {},
     "output_type": "execute_result"
    }
   ],
   "source": [
    "db.run(query, {\"rels\":rels})"
   ]
  },
  {
   "cell_type": "markdown",
   "id": "610570af",
   "metadata": {},
   "source": [
    "## ChronicCond_Alzheimer"
   ]
  },
  {
   "cell_type": "code",
   "execution_count": 9,
   "id": "d7484fe2",
   "metadata": {},
   "outputs": [],
   "source": [
    "alzheimers=list(df.ChronicCond_Alzheimer.unique())"
   ]
  },
  {
   "cell_type": "code",
   "execution_count": 14,
   "id": "c0d19861",
   "metadata": {},
   "outputs": [],
   "source": [
    "alzheimers= alzheimers[:-1]"
   ]
  },
  {
   "cell_type": "code",
   "execution_count": 16,
   "id": "30aae242",
   "metadata": {},
   "outputs": [],
   "source": [
    "alzs = [{\"ChronicCond_Alzheimer\": int(x),\n",
    "     \"idx\" : i} for (i,x) in enumerate(alzheimers)]"
   ]
  },
  {
   "cell_type": "code",
   "execution_count": 17,
   "id": "a5e14dd1",
   "metadata": {},
   "outputs": [],
   "source": [
    "query=\"\"\"CREATE CONSTRAINT ON (n:ChronicCond_Alzheimer) ASSERT n.idx IS UNIQUE\"\"\""
   ]
  },
  {
   "cell_type": "code",
   "execution_count": null,
   "id": "8de268e8",
   "metadata": {},
   "outputs": [],
   "source": [
    "db.run(query)"
   ]
  },
  {
   "cell_type": "code",
   "execution_count": 19,
   "id": "65fb9d29",
   "metadata": {},
   "outputs": [
    {
     "data": {
      "text/html": [
       "(No data)"
      ],
      "text/plain": [
       "(No data)"
      ]
     },
     "execution_count": 19,
     "metadata": {},
     "output_type": "execute_result"
    }
   ],
   "source": [
    "query = \"\"\"\n",
    "    UNWIND $alzs AS alz\n",
    "    MERGE (b:ChronicCond_Alzheimer {idx: alz.idx, ChronicCond_Alzheimer: alz.ChronicCond_Alzheimer})\n",
    "        \"\"\"\n",
    "db.run(query, {\"alzs\":alzs})"
   ]
  },
  {
   "cell_type": "markdown",
   "id": "72b9ba51",
   "metadata": {},
   "source": [
    "## (Beneficiary)-[:HAS_CHRONIC_A]->(ChronicCond_Alzheimer)"
   ]
  },
  {
   "cell_type": "code",
   "execution_count": 22,
   "id": "05f901c2",
   "metadata": {},
   "outputs": [],
   "source": [
    "grp=df.loc[df['ChronicCond_Alzheimer']==1]\n",
    "grp=grp[['BeneID','ChronicCond_Alzheimer']]"
   ]
  },
  {
   "cell_type": "code",
   "execution_count": 23,
   "id": "eb6f51da",
   "metadata": {},
   "outputs": [
    {
     "data": {
      "text/html": [
       "<div>\n",
       "<style scoped>\n",
       "    .dataframe tbody tr th:only-of-type {\n",
       "        vertical-align: middle;\n",
       "    }\n",
       "\n",
       "    .dataframe tbody tr th {\n",
       "        vertical-align: top;\n",
       "    }\n",
       "\n",
       "    .dataframe thead th {\n",
       "        text-align: right;\n",
       "    }\n",
       "</style>\n",
       "<table border=\"1\" class=\"dataframe\">\n",
       "  <thead>\n",
       "    <tr style=\"text-align: right;\">\n",
       "      <th></th>\n",
       "      <th>BeneID</th>\n",
       "      <th>ChronicCond_Alzheimer</th>\n",
       "    </tr>\n",
       "  </thead>\n",
       "  <tbody>\n",
       "    <tr>\n",
       "      <th>0</th>\n",
       "      <td>BENE11001</td>\n",
       "      <td>1</td>\n",
       "    </tr>\n",
       "    <tr>\n",
       "      <th>2</th>\n",
       "      <td>BENE11003</td>\n",
       "      <td>1</td>\n",
       "    </tr>\n",
       "    <tr>\n",
       "      <th>3</th>\n",
       "      <td>BENE11004</td>\n",
       "      <td>1</td>\n",
       "    </tr>\n",
       "    <tr>\n",
       "      <th>6</th>\n",
       "      <td>BENE11007</td>\n",
       "      <td>1</td>\n",
       "    </tr>\n",
       "    <tr>\n",
       "      <th>11</th>\n",
       "      <td>BENE11012</td>\n",
       "      <td>1</td>\n",
       "    </tr>\n",
       "    <tr>\n",
       "      <th>...</th>\n",
       "      <td>...</td>\n",
       "      <td>...</td>\n",
       "    </tr>\n",
       "    <tr>\n",
       "      <th>138549</th>\n",
       "      <td>BENE159191</td>\n",
       "      <td>1</td>\n",
       "    </tr>\n",
       "    <tr>\n",
       "      <th>138551</th>\n",
       "      <td>BENE159194</td>\n",
       "      <td>1</td>\n",
       "    </tr>\n",
       "    <tr>\n",
       "      <th>138552</th>\n",
       "      <td>BENE159195</td>\n",
       "      <td>1</td>\n",
       "    </tr>\n",
       "    <tr>\n",
       "      <th>138554</th>\n",
       "      <td>BENE159197</td>\n",
       "      <td>1</td>\n",
       "    </tr>\n",
       "    <tr>\n",
       "      <th>138555</th>\n",
       "      <td>BENE159198</td>\n",
       "      <td>1</td>\n",
       "    </tr>\n",
       "  </tbody>\n",
       "</table>\n",
       "<p>46026 rows × 2 columns</p>\n",
       "</div>"
      ],
      "text/plain": [
       "            BeneID  ChronicCond_Alzheimer\n",
       "0        BENE11001                      1\n",
       "2        BENE11003                      1\n",
       "3        BENE11004                      1\n",
       "6        BENE11007                      1\n",
       "11       BENE11012                      1\n",
       "...            ...                    ...\n",
       "138549  BENE159191                      1\n",
       "138551  BENE159194                      1\n",
       "138552  BENE159195                      1\n",
       "138554  BENE159197                      1\n",
       "138555  BENE159198                      1\n",
       "\n",
       "[46026 rows x 2 columns]"
      ]
     },
     "execution_count": 23,
     "metadata": {},
     "output_type": "execute_result"
    }
   ],
   "source": [
    "grp"
   ]
  },
  {
   "cell_type": "code",
   "execution_count": 24,
   "id": "ad790eb5",
   "metadata": {},
   "outputs": [],
   "source": [
    "rels = [{'origin': x[1]['BeneID'],\n",
    "       'target':  x[1]['ChronicCond_Alzheimer']} for x in grp.iterrows()]"
   ]
  },
  {
   "cell_type": "code",
   "execution_count": 27,
   "id": "e5e3cbbf",
   "metadata": {},
   "outputs": [
    {
     "data": {
      "text/html": [
       "(No data)"
      ],
      "text/plain": [
       "(No data)"
      ]
     },
     "execution_count": 27,
     "metadata": {},
     "output_type": "execute_result"
    }
   ],
   "source": [
    "query = \"\"\"\n",
    "    UNWIND $rels AS rel\n",
    "    MATCH (e1:Beneficiary {idx: rel.origin})\n",
    "    MATCH (e2:ChronicCond_Alzheimer {ChronicCond_Alzheimer: rel.target}) \n",
    "    MERGE (e1)-[m:HAS_CHRONIC_A]->(e2)\"\"\"\n",
    "\n",
    "db.run(query, {\"rels\":rels})"
   ]
  },
  {
   "cell_type": "markdown",
   "id": "7347d730",
   "metadata": {},
   "source": [
    "## ChronicCond_Heartfailure"
   ]
  },
  {
   "cell_type": "code",
   "execution_count": 28,
   "id": "98482d2d",
   "metadata": {},
   "outputs": [],
   "source": [
    "hearts=list(df.ChronicCond_Heartfailure.unique())"
   ]
  },
  {
   "cell_type": "code",
   "execution_count": 30,
   "id": "b943c9da",
   "metadata": {},
   "outputs": [
    {
     "data": {
      "text/plain": [
       "[1]"
      ]
     },
     "execution_count": 30,
     "metadata": {},
     "output_type": "execute_result"
    }
   ],
   "source": [
    "hearts=hearts[1:]"
   ]
  },
  {
   "cell_type": "code",
   "execution_count": 31,
   "id": "2d6efe06",
   "metadata": {},
   "outputs": [],
   "source": [
    "hs = [{\"ChronicCond_Heartfailure\": int(x),\n",
    "     \"idx\" : i} for (i,x) in enumerate(hearts)]"
   ]
  },
  {
   "cell_type": "code",
   "execution_count": 32,
   "id": "99c42e0c",
   "metadata": {},
   "outputs": [],
   "source": [
    "query=\"\"\"CREATE CONSTRAINT ON (n:ChronicCond_Heartfailure) ASSERT n.idx IS UNIQUE\"\"\""
   ]
  },
  {
   "cell_type": "code",
   "execution_count": 123,
   "id": "450792ab",
   "metadata": {},
   "outputs": [
    {
     "data": {
      "text/html": [
       "(No data)"
      ],
      "text/plain": [
       "(No data)"
      ]
     },
     "execution_count": 123,
     "metadata": {},
     "output_type": "execute_result"
    }
   ],
   "source": [
    "db.run(query)"
   ]
  },
  {
   "cell_type": "code",
   "execution_count": 33,
   "id": "8b994597",
   "metadata": {},
   "outputs": [
    {
     "data": {
      "text/html": [
       "(No data)"
      ],
      "text/plain": [
       "(No data)"
      ]
     },
     "execution_count": 33,
     "metadata": {},
     "output_type": "execute_result"
    }
   ],
   "source": [
    "query = \"\"\"\n",
    "    UNWIND $hs AS h\n",
    "    MERGE (b:ChronicCond_Heartfailure {idx: h.idx, ChronicCond_Heartfailure: h.ChronicCond_Heartfailure})\n",
    "        \"\"\"\n",
    "db.run(query, {\"hs\":hs})"
   ]
  },
  {
   "cell_type": "markdown",
   "id": "f6b8371a",
   "metadata": {},
   "source": [
    "## (Beneficiary)-[:HAS_CHRONIC_H]->(ChronicCond_Heartfailure)"
   ]
  },
  {
   "cell_type": "code",
   "execution_count": 35,
   "id": "3481de13",
   "metadata": {},
   "outputs": [
    {
     "data": {
      "text/html": [
       "<div>\n",
       "<style scoped>\n",
       "    .dataframe tbody tr th:only-of-type {\n",
       "        vertical-align: middle;\n",
       "    }\n",
       "\n",
       "    .dataframe tbody tr th {\n",
       "        vertical-align: top;\n",
       "    }\n",
       "\n",
       "    .dataframe thead th {\n",
       "        text-align: right;\n",
       "    }\n",
       "</style>\n",
       "<table border=\"1\" class=\"dataframe\">\n",
       "  <thead>\n",
       "    <tr style=\"text-align: right;\">\n",
       "      <th></th>\n",
       "      <th>BeneID</th>\n",
       "      <th>ChronicCond_Heartfailure</th>\n",
       "    </tr>\n",
       "  </thead>\n",
       "  <tbody>\n",
       "    <tr>\n",
       "      <th>3</th>\n",
       "      <td>BENE11004</td>\n",
       "      <td>1</td>\n",
       "    </tr>\n",
       "    <tr>\n",
       "      <th>6</th>\n",
       "      <td>BENE11007</td>\n",
       "      <td>1</td>\n",
       "    </tr>\n",
       "    <tr>\n",
       "      <th>8</th>\n",
       "      <td>BENE11009</td>\n",
       "      <td>1</td>\n",
       "    </tr>\n",
       "    <tr>\n",
       "      <th>9</th>\n",
       "      <td>BENE11010</td>\n",
       "      <td>1</td>\n",
       "    </tr>\n",
       "    <tr>\n",
       "      <th>10</th>\n",
       "      <td>BENE11011</td>\n",
       "      <td>1</td>\n",
       "    </tr>\n",
       "    <tr>\n",
       "      <th>...</th>\n",
       "      <td>...</td>\n",
       "      <td>...</td>\n",
       "    </tr>\n",
       "    <tr>\n",
       "      <th>138546</th>\n",
       "      <td>BENE159188</td>\n",
       "      <td>1</td>\n",
       "    </tr>\n",
       "    <tr>\n",
       "      <th>138548</th>\n",
       "      <td>BENE159190</td>\n",
       "      <td>1</td>\n",
       "    </tr>\n",
       "    <tr>\n",
       "      <th>138553</th>\n",
       "      <td>BENE159196</td>\n",
       "      <td>1</td>\n",
       "    </tr>\n",
       "    <tr>\n",
       "      <th>138554</th>\n",
       "      <td>BENE159197</td>\n",
       "      <td>1</td>\n",
       "    </tr>\n",
       "    <tr>\n",
       "      <th>138555</th>\n",
       "      <td>BENE159198</td>\n",
       "      <td>1</td>\n",
       "    </tr>\n",
       "  </tbody>\n",
       "</table>\n",
       "<p>68402 rows × 2 columns</p>\n",
       "</div>"
      ],
      "text/plain": [
       "            BeneID  ChronicCond_Heartfailure\n",
       "3        BENE11004                         1\n",
       "6        BENE11007                         1\n",
       "8        BENE11009                         1\n",
       "9        BENE11010                         1\n",
       "10       BENE11011                         1\n",
       "...            ...                       ...\n",
       "138546  BENE159188                         1\n",
       "138548  BENE159190                         1\n",
       "138553  BENE159196                         1\n",
       "138554  BENE159197                         1\n",
       "138555  BENE159198                         1\n",
       "\n",
       "[68402 rows x 2 columns]"
      ]
     },
     "execution_count": 35,
     "metadata": {},
     "output_type": "execute_result"
    }
   ],
   "source": [
    "grp=df.loc[df['ChronicCond_Heartfailure']==1]\n",
    "grp=grp[['BeneID','ChronicCond_Heartfailure']]\n",
    "grp"
   ]
  },
  {
   "cell_type": "code",
   "execution_count": 36,
   "id": "67c66a2e",
   "metadata": {},
   "outputs": [],
   "source": [
    "rels = [{'origin': x[1]['BeneID'],\n",
    "       'target':  x[1]['ChronicCond_Heartfailure']} for x in grp.iterrows()]"
   ]
  },
  {
   "cell_type": "code",
   "execution_count": 38,
   "id": "7688994e",
   "metadata": {},
   "outputs": [
    {
     "data": {
      "text/html": [
       "(No data)"
      ],
      "text/plain": [
       "(No data)"
      ]
     },
     "execution_count": 38,
     "metadata": {},
     "output_type": "execute_result"
    }
   ],
   "source": [
    "query = \"\"\"\n",
    "    UNWIND $rels AS rel\n",
    "    MATCH (e1:Beneficiary {idx: rel.origin})\n",
    "    MATCH (e2:ChronicCond_Heartfailure {ChronicCond_Heartfailure: rel.target}) \n",
    "    MERGE (e1)-[m:HAS_CHRONIC_H]->(e2)\"\"\"\n",
    "\n",
    "db.run(query, {\"rels\":rels})"
   ]
  },
  {
   "cell_type": "markdown",
   "id": "26fc7e0e",
   "metadata": {},
   "source": [
    "## ChronicCond_KidneyDisease"
   ]
  },
  {
   "cell_type": "code",
   "execution_count": 40,
   "id": "a92da52a",
   "metadata": {},
   "outputs": [
    {
     "data": {
      "text/plain": [
       "[1]"
      ]
     },
     "execution_count": 40,
     "metadata": {},
     "output_type": "execute_result"
    }
   ],
   "source": [
    "kidneys=list(df.ChronicCond_KidneyDisease.unique())\n",
    "kidneys=kidneys[:-1]"
   ]
  },
  {
   "cell_type": "code",
   "execution_count": 41,
   "id": "30a4a4fc",
   "metadata": {},
   "outputs": [],
   "source": [
    "ks = [{\"ChronicCond_KidneyDisease\": int(x),\n",
    "     \"idx\" : i} for (i,x) in enumerate(kidneys)]"
   ]
  },
  {
   "cell_type": "code",
   "execution_count": 42,
   "id": "0895a0a5",
   "metadata": {},
   "outputs": [],
   "source": [
    "query=\"\"\"CREATE CONSTRAINT ON (n:ChronicCond_KidneyDisease) ASSERT n.idx IS UNIQUE\"\"\""
   ]
  },
  {
   "cell_type": "code",
   "execution_count": 147,
   "id": "274873c8",
   "metadata": {},
   "outputs": [
    {
     "data": {
      "text/html": [
       "(No data)"
      ],
      "text/plain": [
       "(No data)"
      ]
     },
     "execution_count": 147,
     "metadata": {},
     "output_type": "execute_result"
    }
   ],
   "source": [
    "db.run(query)"
   ]
  },
  {
   "cell_type": "code",
   "execution_count": 43,
   "id": "0501b76e",
   "metadata": {},
   "outputs": [
    {
     "data": {
      "text/html": [
       "(No data)"
      ],
      "text/plain": [
       "(No data)"
      ]
     },
     "execution_count": 43,
     "metadata": {},
     "output_type": "execute_result"
    }
   ],
   "source": [
    "query = \"\"\"\n",
    "    UNWIND $ks AS k\n",
    "    MERGE (b:ChronicCond_KidneyDisease {idx: k.idx, ChronicCond_KidneyDisease: k.ChronicCond_KidneyDisease})\n",
    "        \"\"\"\n",
    "db.run(query, {\"ks\":ks})"
   ]
  },
  {
   "cell_type": "markdown",
   "id": "d9faeb15",
   "metadata": {},
   "source": [
    "## (Beneficiary)-[:HAS_CHRONIC_K]->(ChronicCond_KidneyDisease)"
   ]
  },
  {
   "cell_type": "code",
   "execution_count": 45,
   "id": "cf835e5a",
   "metadata": {},
   "outputs": [],
   "source": [
    "grp=df.loc[df['ChronicCond_KidneyDisease']==1]\n",
    "grp=grp[['BeneID','ChronicCond_KidneyDisease']]"
   ]
  },
  {
   "cell_type": "code",
   "execution_count": 47,
   "id": "ae9ed04f",
   "metadata": {},
   "outputs": [],
   "source": [
    "rels = [{'origin': x[1]['BeneID'],\n",
    "       'target':  x[1]['ChronicCond_KidneyDisease']} for x in grp.iterrows()]"
   ]
  },
  {
   "cell_type": "code",
   "execution_count": 48,
   "id": "ebc7ca83",
   "metadata": {},
   "outputs": [
    {
     "data": {
      "text/html": [
       "(No data)"
      ],
      "text/plain": [
       "(No data)"
      ]
     },
     "execution_count": 48,
     "metadata": {},
     "output_type": "execute_result"
    }
   ],
   "source": [
    "query = \"\"\"\n",
    "    UNWIND $rels AS rel\n",
    "    MATCH (e1:Beneficiary {idx: rel.origin})\n",
    "    MATCH (e2:ChronicCond_KidneyDisease {ChronicCond_KidneyDisease: rel.target}) \n",
    "    MERGE (e1)-[m:HAS_CHRONIC_K]->(e2)\"\"\"\n",
    "\n",
    "db.run(query, {\"rels\":rels})"
   ]
  },
  {
   "cell_type": "markdown",
   "id": "e8d21d14",
   "metadata": {},
   "source": [
    "## ChronicCond_Depression"
   ]
  },
  {
   "cell_type": "code",
   "execution_count": 51,
   "id": "68b115a5",
   "metadata": {},
   "outputs": [],
   "source": [
    "depression=list(df.ChronicCond_Depression.unique())\n",
    "depression=depression[:-1]"
   ]
  },
  {
   "cell_type": "code",
   "execution_count": 57,
   "id": "af8b2510",
   "metadata": {},
   "outputs": [],
   "source": [
    "ds = [{\"ChronicCond_Depression\": int(x),\n",
    "     \"idx\" : i} for (i,x) in enumerate(depression)]"
   ]
  },
  {
   "cell_type": "code",
   "execution_count": 59,
   "id": "24bb5f7c",
   "metadata": {},
   "outputs": [],
   "source": [
    "query=\"\"\"CREATE CONSTRAINT ON (n:ChronicCond_Depression) ASSERT n.idx IS UNIQUE\"\"\""
   ]
  },
  {
   "cell_type": "code",
   "execution_count": null,
   "id": "b0d1c8ac",
   "metadata": {},
   "outputs": [],
   "source": [
    "db.run(query)"
   ]
  },
  {
   "cell_type": "code",
   "execution_count": 62,
   "id": "a9da07c9",
   "metadata": {},
   "outputs": [
    {
     "data": {
      "text/html": [
       "(No data)"
      ],
      "text/plain": [
       "(No data)"
      ]
     },
     "execution_count": 62,
     "metadata": {},
     "output_type": "execute_result"
    }
   ],
   "source": [
    "query = \"\"\"\n",
    "    UNWIND $ds AS d\n",
    "    MERGE (b:ChronicCond_Depression {idx: d.idx, ChronicCond_Depression: d.ChronicCond_Depression})\n",
    "        \"\"\"\n",
    "db.run(query, {\"ds\":ds})"
   ]
  },
  {
   "cell_type": "markdown",
   "id": "6e57973d",
   "metadata": {},
   "source": [
    "## (Beneficiary)-[:HAS_CHRONIC_D]->(ChronicCond_Depression)"
   ]
  },
  {
   "cell_type": "code",
   "execution_count": 63,
   "id": "385f881a",
   "metadata": {},
   "outputs": [],
   "source": [
    "grp=df.loc[df['ChronicCond_Depression']==1]\n",
    "grp=grp[['BeneID','ChronicCond_Depression']]"
   ]
  },
  {
   "cell_type": "code",
   "execution_count": 64,
   "id": "9a4fc429",
   "metadata": {},
   "outputs": [],
   "source": [
    "rels = [{'origin': x[1]['BeneID'],\n",
    "       'target':  x[1]['ChronicCond_Depression']} for x in grp.iterrows()]"
   ]
  },
  {
   "cell_type": "code",
   "execution_count": 65,
   "id": "e2c7a0a1",
   "metadata": {},
   "outputs": [
    {
     "data": {
      "text/html": [
       "(No data)"
      ],
      "text/plain": [
       "(No data)"
      ]
     },
     "execution_count": 65,
     "metadata": {},
     "output_type": "execute_result"
    }
   ],
   "source": [
    "query = \"\"\"\n",
    "    UNWIND $rels AS rel\n",
    "    MATCH (e1:Beneficiary {idx: rel.origin})\n",
    "    MATCH (e2:ChronicCond_Depression {ChronicCond_Depression: rel.target}) \n",
    "    MERGE (e1)-[m:HAS_CHRONIC_D]->(e2)\"\"\"\n",
    "\n",
    "db.run(query, {\"rels\":rels})"
   ]
  },
  {
   "cell_type": "markdown",
   "id": "c78eb2a8",
   "metadata": {},
   "source": [
    "## ChronicCond_Cancer"
   ]
  },
  {
   "cell_type": "code",
   "execution_count": 68,
   "id": "f48ff46b",
   "metadata": {},
   "outputs": [],
   "source": [
    "cancer=list(df.ChronicCond_Depression.unique())\n",
    "cancer=cancer[:-1]"
   ]
  },
  {
   "cell_type": "code",
   "execution_count": 70,
   "id": "5938907f",
   "metadata": {},
   "outputs": [],
   "source": [
    "cs = [{\"ChronicCond_Cancer\": int(x),\n",
    "     \"idx\" : i} for (i,x) in enumerate(cancer)]"
   ]
  },
  {
   "cell_type": "code",
   "execution_count": 71,
   "id": "cbf0d65a",
   "metadata": {},
   "outputs": [],
   "source": [
    "query=\"\"\"CREATE CONSTRAINT ON (n:ChronicCond_Cancer) ASSERT n.idx IS UNIQUE\"\"\""
   ]
  },
  {
   "cell_type": "code",
   "execution_count": 72,
   "id": "76b39b68",
   "metadata": {},
   "outputs": [
    {
     "data": {
      "text/html": [
       "(No data)"
      ],
      "text/plain": [
       "(No data)"
      ]
     },
     "execution_count": 72,
     "metadata": {},
     "output_type": "execute_result"
    }
   ],
   "source": [
    "db.run(query)"
   ]
  },
  {
   "cell_type": "code",
   "execution_count": 74,
   "id": "5b274f3b",
   "metadata": {},
   "outputs": [
    {
     "data": {
      "text/html": [
       "(No data)"
      ],
      "text/plain": [
       "(No data)"
      ]
     },
     "execution_count": 74,
     "metadata": {},
     "output_type": "execute_result"
    }
   ],
   "source": [
    "query = \"\"\"\n",
    "    UNWIND $cs AS c\n",
    "    MERGE (b:ChronicCond_Cancer {idx: c.idx, ChronicCond_Cancer: c.ChronicCond_Cancer})\n",
    "        \"\"\"\n",
    "db.run(query, {\"cs\":cs})"
   ]
  },
  {
   "cell_type": "markdown",
   "id": "617f7620",
   "metadata": {},
   "source": [
    "## (Beneficiary)-[:HAS_CHRONIC_C]->(ChronicCond_Cancer)"
   ]
  },
  {
   "cell_type": "code",
   "execution_count": 75,
   "id": "80ca4318",
   "metadata": {},
   "outputs": [],
   "source": [
    "grp=df.loc[df['ChronicCond_Cancer']==1]\n",
    "grp=grp[['BeneID','ChronicCond_Cancer']]"
   ]
  },
  {
   "cell_type": "code",
   "execution_count": 77,
   "id": "5fa71dbc",
   "metadata": {},
   "outputs": [],
   "source": [
    "rels = [{'origin': x[1]['BeneID'],\n",
    "       'target':  x[1]['ChronicCond_Cancer']} for x in grp.iterrows()]"
   ]
  },
  {
   "cell_type": "code",
   "execution_count": 78,
   "id": "de1eeff6",
   "metadata": {},
   "outputs": [
    {
     "data": {
      "text/html": [
       "(No data)"
      ],
      "text/plain": [
       "(No data)"
      ]
     },
     "execution_count": 78,
     "metadata": {},
     "output_type": "execute_result"
    }
   ],
   "source": [
    "query = \"\"\"\n",
    "    UNWIND $rels AS rel\n",
    "    MATCH (e1:Beneficiary {idx: rel.origin})\n",
    "    MATCH (e2:ChronicCond_Cancer {ChronicCond_Cancer: rel.target}) \n",
    "    MERGE (e1)-[m:HAS_CHRONIC_C]->(e2)\"\"\"\n",
    "\n",
    "db.run(query, {\"rels\":rels})"
   ]
  },
  {
   "cell_type": "markdown",
   "id": "7333ee5a",
   "metadata": {},
   "source": [
    "## ChronicCond_Diabetes"
   ]
  },
  {
   "cell_type": "code",
   "execution_count": 82,
   "id": "decab1f8",
   "metadata": {},
   "outputs": [],
   "source": [
    "diabetes=list(df.ChronicCond_Diabetes.unique())\n",
    "diabetes=diabetes[:-1]"
   ]
  },
  {
   "cell_type": "code",
   "execution_count": 84,
   "id": "49b0d392",
   "metadata": {},
   "outputs": [],
   "source": [
    "ds = [{\"ChronicCond_Diabetes\": int(x),\n",
    "     \"idx\" : i} for (i,x) in enumerate(diabetes)]"
   ]
  },
  {
   "cell_type": "code",
   "execution_count": 85,
   "id": "513d622d",
   "metadata": {},
   "outputs": [],
   "source": [
    "query=\"\"\"CREATE CONSTRAINT ON (n:ChronicCond_Diabetes) ASSERT n.idx IS UNIQUE\"\"\""
   ]
  },
  {
   "cell_type": "code",
   "execution_count": 86,
   "id": "860d9c21",
   "metadata": {},
   "outputs": [
    {
     "data": {
      "text/html": [
       "(No data)"
      ],
      "text/plain": [
       "(No data)"
      ]
     },
     "execution_count": 86,
     "metadata": {},
     "output_type": "execute_result"
    }
   ],
   "source": [
    "db.run(query)"
   ]
  },
  {
   "cell_type": "code",
   "execution_count": 87,
   "id": "c0ae8811",
   "metadata": {},
   "outputs": [
    {
     "data": {
      "text/html": [
       "(No data)"
      ],
      "text/plain": [
       "(No data)"
      ]
     },
     "execution_count": 87,
     "metadata": {},
     "output_type": "execute_result"
    }
   ],
   "source": [
    "query = \"\"\"\n",
    "    UNWIND $ds AS d\n",
    "    MERGE (b:ChronicCond_Diabetes {idx: d.idx, ChronicCond_Diabetes: d.ChronicCond_Diabetes})\n",
    "        \"\"\"\n",
    "db.run(query, {\"ds\":ds})"
   ]
  },
  {
   "cell_type": "markdown",
   "id": "656b6480",
   "metadata": {},
   "source": [
    "## (Beneficiary)-[:HAS_CHRONIC_DB]->(ChronicCond_Diabetes)"
   ]
  },
  {
   "cell_type": "code",
   "execution_count": 88,
   "id": "6b44cc83",
   "metadata": {},
   "outputs": [],
   "source": [
    "grp=df.loc[df['ChronicCond_Diabetes']==1]\n",
    "grp=grp[['BeneID','ChronicCond_Diabetes']]"
   ]
  },
  {
   "cell_type": "code",
   "execution_count": 90,
   "id": "12dd2584",
   "metadata": {},
   "outputs": [],
   "source": [
    "rels = [{'origin': x[1]['BeneID'],\n",
    "       'target':  x[1]['ChronicCond_Diabetes']} for x in grp.iterrows()]"
   ]
  },
  {
   "cell_type": "code",
   "execution_count": 91,
   "id": "7e4bbe8b",
   "metadata": {},
   "outputs": [
    {
     "data": {
      "text/html": [
       "(No data)"
      ],
      "text/plain": [
       "(No data)"
      ]
     },
     "execution_count": 91,
     "metadata": {},
     "output_type": "execute_result"
    }
   ],
   "source": [
    "query = \"\"\"\n",
    "    UNWIND $rels AS rel\n",
    "    MATCH (e1:Beneficiary {idx: rel.origin})\n",
    "    MATCH (e2:ChronicCond_Diabetes {ChronicCond_Diabetes: rel.target}) \n",
    "    MERGE (e1)-[m:HAS_CHRONIC_DB]->(e2)\"\"\"\n",
    "\n",
    "db.run(query, {\"rels\":rels})"
   ]
  },
  {
   "cell_type": "markdown",
   "id": "406b3675",
   "metadata": {},
   "source": [
    "## (Provider)-[:IS_FRAUDULENT]->(IsFraudulent) "
   ]
  },
  {
   "cell_type": "code",
   "execution_count": 160,
   "id": "229452c0",
   "metadata": {},
   "outputs": [
    {
     "data": {
      "text/html": [
       "<div>\n",
       "<style scoped>\n",
       "    .dataframe tbody tr th:only-of-type {\n",
       "        vertical-align: middle;\n",
       "    }\n",
       "\n",
       "    .dataframe tbody tr th {\n",
       "        vertical-align: top;\n",
       "    }\n",
       "\n",
       "    .dataframe thead th {\n",
       "        text-align: right;\n",
       "    }\n",
       "</style>\n",
       "<table border=\"1\" class=\"dataframe\">\n",
       "  <thead>\n",
       "    <tr style=\"text-align: right;\">\n",
       "      <th></th>\n",
       "      <th>Provider</th>\n",
       "      <th>PotentialFraud</th>\n",
       "    </tr>\n",
       "  </thead>\n",
       "  <tbody>\n",
       "    <tr>\n",
       "      <th>0</th>\n",
       "      <td>PRV51001</td>\n",
       "      <td>No</td>\n",
       "    </tr>\n",
       "    <tr>\n",
       "      <th>1</th>\n",
       "      <td>PRV51003</td>\n",
       "      <td>Yes</td>\n",
       "    </tr>\n",
       "    <tr>\n",
       "      <th>2</th>\n",
       "      <td>PRV51004</td>\n",
       "      <td>No</td>\n",
       "    </tr>\n",
       "    <tr>\n",
       "      <th>3</th>\n",
       "      <td>PRV51005</td>\n",
       "      <td>Yes</td>\n",
       "    </tr>\n",
       "    <tr>\n",
       "      <th>4</th>\n",
       "      <td>PRV51007</td>\n",
       "      <td>No</td>\n",
       "    </tr>\n",
       "    <tr>\n",
       "      <th>...</th>\n",
       "      <td>...</td>\n",
       "      <td>...</td>\n",
       "    </tr>\n",
       "    <tr>\n",
       "      <th>5405</th>\n",
       "      <td>PRV57759</td>\n",
       "      <td>No</td>\n",
       "    </tr>\n",
       "    <tr>\n",
       "      <th>5406</th>\n",
       "      <td>PRV57760</td>\n",
       "      <td>No</td>\n",
       "    </tr>\n",
       "    <tr>\n",
       "      <th>5407</th>\n",
       "      <td>PRV57761</td>\n",
       "      <td>No</td>\n",
       "    </tr>\n",
       "    <tr>\n",
       "      <th>5408</th>\n",
       "      <td>PRV57762</td>\n",
       "      <td>No</td>\n",
       "    </tr>\n",
       "    <tr>\n",
       "      <th>5409</th>\n",
       "      <td>PRV57763</td>\n",
       "      <td>No</td>\n",
       "    </tr>\n",
       "  </tbody>\n",
       "</table>\n",
       "<p>5410 rows × 2 columns</p>\n",
       "</div>"
      ],
      "text/plain": [
       "      Provider PotentialFraud\n",
       "0     PRV51001             No\n",
       "1     PRV51003            Yes\n",
       "2     PRV51004             No\n",
       "3     PRV51005            Yes\n",
       "4     PRV51007             No\n",
       "...        ...            ...\n",
       "5405  PRV57759             No\n",
       "5406  PRV57760             No\n",
       "5407  PRV57761             No\n",
       "5408  PRV57762             No\n",
       "5409  PRV57763             No\n",
       "\n",
       "[5410 rows x 2 columns]"
      ]
     },
     "execution_count": 160,
     "metadata": {},
     "output_type": "execute_result"
    }
   ],
   "source": [
    "providers"
   ]
  },
  {
   "cell_type": "code",
   "execution_count": 161,
   "id": "fc95f282",
   "metadata": {},
   "outputs": [],
   "source": [
    "rels = [{'origin': x[1]['Provider'],\n",
    "       'target':  x[1]['PotentialFraud']} for x in providers.iterrows()]"
   ]
  },
  {
   "cell_type": "code",
   "execution_count": 162,
   "id": "6f3d6d23",
   "metadata": {},
   "outputs": [],
   "source": [
    "query = \"\"\"\n",
    "\n",
    "       UNWIND $rels as rel\n",
    "       MATCH (e1:Provider {idx: rel.origin})\n",
    "       SET e1.FRAUD = rel.target\n",
    "\n",
    "\"\"\""
   ]
  },
  {
   "cell_type": "code",
   "execution_count": 163,
   "id": "293d22d4",
   "metadata": {},
   "outputs": [
    {
     "data": {
      "text/html": [
       "(No data)"
      ],
      "text/plain": [
       "(No data)"
      ]
     },
     "execution_count": 163,
     "metadata": {},
     "output_type": "execute_result"
    }
   ],
   "source": [
    "db.run(query, {'rels': rels})"
   ]
  },
  {
   "cell_type": "markdown",
   "id": "f75f101c",
   "metadata": {},
   "source": [
    "## Claim nodes"
   ]
  },
  {
   "cell_type": "code",
   "execution_count": 165,
   "id": "026eb8de",
   "metadata": {},
   "outputs": [
    {
     "data": {
      "text/html": [
       "<div>\n",
       "<style scoped>\n",
       "    .dataframe tbody tr th:only-of-type {\n",
       "        vertical-align: middle;\n",
       "    }\n",
       "\n",
       "    .dataframe tbody tr th {\n",
       "        vertical-align: top;\n",
       "    }\n",
       "\n",
       "    .dataframe thead th {\n",
       "        text-align: right;\n",
       "    }\n",
       "</style>\n",
       "<table border=\"1\" class=\"dataframe\">\n",
       "  <thead>\n",
       "    <tr style=\"text-align: right;\">\n",
       "      <th></th>\n",
       "      <th>BeneID</th>\n",
       "      <th>ClaimID</th>\n",
       "      <th>ClaimStartDt</th>\n",
       "      <th>ClaimEndDt</th>\n",
       "      <th>Provider</th>\n",
       "      <th>InscClaimAmtReimbursed</th>\n",
       "      <th>AttendingPhysician</th>\n",
       "      <th>OperatingPhysician</th>\n",
       "      <th>OtherPhysician</th>\n",
       "      <th>AdmissionDt</th>\n",
       "      <th>...</th>\n",
       "      <th>ClmDiagnosisCode_8</th>\n",
       "      <th>ClmDiagnosisCode_9</th>\n",
       "      <th>ClmDiagnosisCode_10</th>\n",
       "      <th>ClmProcedureCode_1</th>\n",
       "      <th>ClmProcedureCode_2</th>\n",
       "      <th>ClmProcedureCode_3</th>\n",
       "      <th>ClmProcedureCode_4</th>\n",
       "      <th>ClmProcedureCode_5</th>\n",
       "      <th>ClmProcedureCode_6</th>\n",
       "      <th>type</th>\n",
       "    </tr>\n",
       "  </thead>\n",
       "  <tbody>\n",
       "    <tr>\n",
       "      <th>0</th>\n",
       "      <td>BENE11001</td>\n",
       "      <td>CLM46614</td>\n",
       "      <td>2009-04-12</td>\n",
       "      <td>2009-04-18</td>\n",
       "      <td>PRV55912</td>\n",
       "      <td>26000</td>\n",
       "      <td>PHY390922</td>\n",
       "      <td>NaN</td>\n",
       "      <td>NaN</td>\n",
       "      <td>2009-04-12</td>\n",
       "      <td>...</td>\n",
       "      <td>19889</td>\n",
       "      <td>5849</td>\n",
       "      <td>NaN</td>\n",
       "      <td>NaN</td>\n",
       "      <td>NaN</td>\n",
       "      <td>NaN</td>\n",
       "      <td>NaN</td>\n",
       "      <td>NaN</td>\n",
       "      <td>NaN</td>\n",
       "      <td>Inpatient</td>\n",
       "    </tr>\n",
       "    <tr>\n",
       "      <th>1</th>\n",
       "      <td>BENE11001</td>\n",
       "      <td>CLM66048</td>\n",
       "      <td>2009-08-31</td>\n",
       "      <td>2009-09-02</td>\n",
       "      <td>PRV55907</td>\n",
       "      <td>5000</td>\n",
       "      <td>PHY318495</td>\n",
       "      <td>PHY318495</td>\n",
       "      <td>NaN</td>\n",
       "      <td>2009-08-31</td>\n",
       "      <td>...</td>\n",
       "      <td>NaN</td>\n",
       "      <td>NaN</td>\n",
       "      <td>NaN</td>\n",
       "      <td>7092.0</td>\n",
       "      <td>NaN</td>\n",
       "      <td>NaN</td>\n",
       "      <td>NaN</td>\n",
       "      <td>NaN</td>\n",
       "      <td>NaN</td>\n",
       "      <td>Inpatient</td>\n",
       "    </tr>\n",
       "    <tr>\n",
       "      <th>2</th>\n",
       "      <td>BENE11001</td>\n",
       "      <td>CLM68358</td>\n",
       "      <td>2009-09-17</td>\n",
       "      <td>2009-09-20</td>\n",
       "      <td>PRV56046</td>\n",
       "      <td>5000</td>\n",
       "      <td>PHY372395</td>\n",
       "      <td>NaN</td>\n",
       "      <td>PHY324689</td>\n",
       "      <td>2009-09-17</td>\n",
       "      <td>...</td>\n",
       "      <td>NaN</td>\n",
       "      <td>NaN</td>\n",
       "      <td>NaN</td>\n",
       "      <td>NaN</td>\n",
       "      <td>NaN</td>\n",
       "      <td>NaN</td>\n",
       "      <td>NaN</td>\n",
       "      <td>NaN</td>\n",
       "      <td>NaN</td>\n",
       "      <td>Inpatient</td>\n",
       "    </tr>\n",
       "    <tr>\n",
       "      <th>3</th>\n",
       "      <td>BENE11011</td>\n",
       "      <td>CLM38412</td>\n",
       "      <td>2009-02-14</td>\n",
       "      <td>2009-02-22</td>\n",
       "      <td>PRV52405</td>\n",
       "      <td>5000</td>\n",
       "      <td>PHY369659</td>\n",
       "      <td>PHY392961</td>\n",
       "      <td>PHY349768</td>\n",
       "      <td>2009-02-14</td>\n",
       "      <td>...</td>\n",
       "      <td>40390</td>\n",
       "      <td>4019</td>\n",
       "      <td>NaN</td>\n",
       "      <td>331.0</td>\n",
       "      <td>NaN</td>\n",
       "      <td>NaN</td>\n",
       "      <td>NaN</td>\n",
       "      <td>NaN</td>\n",
       "      <td>NaN</td>\n",
       "      <td>Inpatient</td>\n",
       "    </tr>\n",
       "    <tr>\n",
       "      <th>4</th>\n",
       "      <td>BENE11014</td>\n",
       "      <td>CLM63689</td>\n",
       "      <td>2009-08-13</td>\n",
       "      <td>2009-08-30</td>\n",
       "      <td>PRV56614</td>\n",
       "      <td>10000</td>\n",
       "      <td>PHY379376</td>\n",
       "      <td>PHY398258</td>\n",
       "      <td>NaN</td>\n",
       "      <td>2009-08-13</td>\n",
       "      <td>...</td>\n",
       "      <td>29620</td>\n",
       "      <td>20300</td>\n",
       "      <td>NaN</td>\n",
       "      <td>3893.0</td>\n",
       "      <td>NaN</td>\n",
       "      <td>NaN</td>\n",
       "      <td>NaN</td>\n",
       "      <td>NaN</td>\n",
       "      <td>NaN</td>\n",
       "      <td>Inpatient</td>\n",
       "    </tr>\n",
       "    <tr>\n",
       "      <th>...</th>\n",
       "      <td>...</td>\n",
       "      <td>...</td>\n",
       "      <td>...</td>\n",
       "      <td>...</td>\n",
       "      <td>...</td>\n",
       "      <td>...</td>\n",
       "      <td>...</td>\n",
       "      <td>...</td>\n",
       "      <td>...</td>\n",
       "      <td>...</td>\n",
       "      <td>...</td>\n",
       "      <td>...</td>\n",
       "      <td>...</td>\n",
       "      <td>...</td>\n",
       "      <td>...</td>\n",
       "      <td>...</td>\n",
       "      <td>...</td>\n",
       "      <td>...</td>\n",
       "      <td>...</td>\n",
       "      <td>...</td>\n",
       "      <td>...</td>\n",
       "    </tr>\n",
       "    <tr>\n",
       "      <th>517732</th>\n",
       "      <td>BENE159198</td>\n",
       "      <td>CLM510792</td>\n",
       "      <td>2009-08-06</td>\n",
       "      <td>2009-08-06</td>\n",
       "      <td>PRV53699</td>\n",
       "      <td>800</td>\n",
       "      <td>PHY364188</td>\n",
       "      <td>PHY364188</td>\n",
       "      <td>PHY385752</td>\n",
       "      <td>NaN</td>\n",
       "      <td>...</td>\n",
       "      <td>NaN</td>\n",
       "      <td>NaN</td>\n",
       "      <td>NaN</td>\n",
       "      <td>NaN</td>\n",
       "      <td>NaN</td>\n",
       "      <td>NaN</td>\n",
       "      <td>NaN</td>\n",
       "      <td>NaN</td>\n",
       "      <td>NaN</td>\n",
       "      <td>Outpatient</td>\n",
       "    </tr>\n",
       "    <tr>\n",
       "      <th>517733</th>\n",
       "      <td>BENE159198</td>\n",
       "      <td>CLM551294</td>\n",
       "      <td>2009-08-29</td>\n",
       "      <td>2009-08-29</td>\n",
       "      <td>PRV53702</td>\n",
       "      <td>400</td>\n",
       "      <td>PHY423019</td>\n",
       "      <td>PHY332284</td>\n",
       "      <td>NaN</td>\n",
       "      <td>NaN</td>\n",
       "      <td>...</td>\n",
       "      <td>NaN</td>\n",
       "      <td>NaN</td>\n",
       "      <td>NaN</td>\n",
       "      <td>NaN</td>\n",
       "      <td>NaN</td>\n",
       "      <td>NaN</td>\n",
       "      <td>NaN</td>\n",
       "      <td>NaN</td>\n",
       "      <td>NaN</td>\n",
       "      <td>Outpatient</td>\n",
       "    </tr>\n",
       "    <tr>\n",
       "      <th>517734</th>\n",
       "      <td>BENE159198</td>\n",
       "      <td>CLM596444</td>\n",
       "      <td>2009-09-24</td>\n",
       "      <td>2009-09-24</td>\n",
       "      <td>PRV53676</td>\n",
       "      <td>60</td>\n",
       "      <td>PHY361063</td>\n",
       "      <td>NaN</td>\n",
       "      <td>NaN</td>\n",
       "      <td>NaN</td>\n",
       "      <td>...</td>\n",
       "      <td>NaN</td>\n",
       "      <td>NaN</td>\n",
       "      <td>NaN</td>\n",
       "      <td>NaN</td>\n",
       "      <td>NaN</td>\n",
       "      <td>NaN</td>\n",
       "      <td>NaN</td>\n",
       "      <td>NaN</td>\n",
       "      <td>NaN</td>\n",
       "      <td>Outpatient</td>\n",
       "    </tr>\n",
       "    <tr>\n",
       "      <th>517735</th>\n",
       "      <td>BENE159198</td>\n",
       "      <td>CLM636992</td>\n",
       "      <td>2009-10-18</td>\n",
       "      <td>2009-10-18</td>\n",
       "      <td>PRV53689</td>\n",
       "      <td>70</td>\n",
       "      <td>PHY403198</td>\n",
       "      <td>NaN</td>\n",
       "      <td>PHY419379</td>\n",
       "      <td>NaN</td>\n",
       "      <td>...</td>\n",
       "      <td>NaN</td>\n",
       "      <td>NaN</td>\n",
       "      <td>NaN</td>\n",
       "      <td>NaN</td>\n",
       "      <td>NaN</td>\n",
       "      <td>NaN</td>\n",
       "      <td>NaN</td>\n",
       "      <td>NaN</td>\n",
       "      <td>NaN</td>\n",
       "      <td>Outpatient</td>\n",
       "    </tr>\n",
       "    <tr>\n",
       "      <th>517736</th>\n",
       "      <td>BENE159198</td>\n",
       "      <td>CLM686139</td>\n",
       "      <td>2009-11-17</td>\n",
       "      <td>2009-11-18</td>\n",
       "      <td>PRV53689</td>\n",
       "      <td>80</td>\n",
       "      <td>PHY419379</td>\n",
       "      <td>NaN</td>\n",
       "      <td>PHY419379</td>\n",
       "      <td>NaN</td>\n",
       "      <td>...</td>\n",
       "      <td>V103</td>\n",
       "      <td>NaN</td>\n",
       "      <td>NaN</td>\n",
       "      <td>NaN</td>\n",
       "      <td>NaN</td>\n",
       "      <td>NaN</td>\n",
       "      <td>NaN</td>\n",
       "      <td>NaN</td>\n",
       "      <td>NaN</td>\n",
       "      <td>Outpatient</td>\n",
       "    </tr>\n",
       "  </tbody>\n",
       "</table>\n",
       "<p>558211 rows × 31 columns</p>\n",
       "</div>"
      ],
      "text/plain": [
       "            BeneID    ClaimID ClaimStartDt  ClaimEndDt  Provider  \\\n",
       "0        BENE11001   CLM46614   2009-04-12  2009-04-18  PRV55912   \n",
       "1        BENE11001   CLM66048   2009-08-31  2009-09-02  PRV55907   \n",
       "2        BENE11001   CLM68358   2009-09-17  2009-09-20  PRV56046   \n",
       "3        BENE11011   CLM38412   2009-02-14  2009-02-22  PRV52405   \n",
       "4        BENE11014   CLM63689   2009-08-13  2009-08-30  PRV56614   \n",
       "...            ...        ...          ...         ...       ...   \n",
       "517732  BENE159198  CLM510792   2009-08-06  2009-08-06  PRV53699   \n",
       "517733  BENE159198  CLM551294   2009-08-29  2009-08-29  PRV53702   \n",
       "517734  BENE159198  CLM596444   2009-09-24  2009-09-24  PRV53676   \n",
       "517735  BENE159198  CLM636992   2009-10-18  2009-10-18  PRV53689   \n",
       "517736  BENE159198  CLM686139   2009-11-17  2009-11-18  PRV53689   \n",
       "\n",
       "        InscClaimAmtReimbursed AttendingPhysician OperatingPhysician  \\\n",
       "0                        26000          PHY390922                NaN   \n",
       "1                         5000          PHY318495          PHY318495   \n",
       "2                         5000          PHY372395                NaN   \n",
       "3                         5000          PHY369659          PHY392961   \n",
       "4                        10000          PHY379376          PHY398258   \n",
       "...                        ...                ...                ...   \n",
       "517732                     800          PHY364188          PHY364188   \n",
       "517733                     400          PHY423019          PHY332284   \n",
       "517734                      60          PHY361063                NaN   \n",
       "517735                      70          PHY403198                NaN   \n",
       "517736                      80          PHY419379                NaN   \n",
       "\n",
       "       OtherPhysician AdmissionDt  ... ClmDiagnosisCode_8  ClmDiagnosisCode_9  \\\n",
       "0                 NaN  2009-04-12  ...              19889                5849   \n",
       "1                 NaN  2009-08-31  ...                NaN                 NaN   \n",
       "2           PHY324689  2009-09-17  ...                NaN                 NaN   \n",
       "3           PHY349768  2009-02-14  ...              40390                4019   \n",
       "4                 NaN  2009-08-13  ...              29620               20300   \n",
       "...               ...         ...  ...                ...                 ...   \n",
       "517732      PHY385752         NaN  ...                NaN                 NaN   \n",
       "517733            NaN         NaN  ...                NaN                 NaN   \n",
       "517734            NaN         NaN  ...                NaN                 NaN   \n",
       "517735      PHY419379         NaN  ...                NaN                 NaN   \n",
       "517736      PHY419379         NaN  ...               V103                 NaN   \n",
       "\n",
       "       ClmDiagnosisCode_10 ClmProcedureCode_1 ClmProcedureCode_2  \\\n",
       "0                      NaN                NaN                NaN   \n",
       "1                      NaN             7092.0                NaN   \n",
       "2                      NaN                NaN                NaN   \n",
       "3                      NaN              331.0                NaN   \n",
       "4                      NaN             3893.0                NaN   \n",
       "...                    ...                ...                ...   \n",
       "517732                 NaN                NaN                NaN   \n",
       "517733                 NaN                NaN                NaN   \n",
       "517734                 NaN                NaN                NaN   \n",
       "517735                 NaN                NaN                NaN   \n",
       "517736                 NaN                NaN                NaN   \n",
       "\n",
       "       ClmProcedureCode_3 ClmProcedureCode_4 ClmProcedureCode_5  \\\n",
       "0                     NaN                NaN                NaN   \n",
       "1                     NaN                NaN                NaN   \n",
       "2                     NaN                NaN                NaN   \n",
       "3                     NaN                NaN                NaN   \n",
       "4                     NaN                NaN                NaN   \n",
       "...                   ...                ...                ...   \n",
       "517732                NaN                NaN                NaN   \n",
       "517733                NaN                NaN                NaN   \n",
       "517734                NaN                NaN                NaN   \n",
       "517735                NaN                NaN                NaN   \n",
       "517736                NaN                NaN                NaN   \n",
       "\n",
       "       ClmProcedureCode_6        type  \n",
       "0                     NaN   Inpatient  \n",
       "1                     NaN   Inpatient  \n",
       "2                     NaN   Inpatient  \n",
       "3                     NaN   Inpatient  \n",
       "4                     NaN   Inpatient  \n",
       "...                   ...         ...  \n",
       "517732                NaN  Outpatient  \n",
       "517733                NaN  Outpatient  \n",
       "517734                NaN  Outpatient  \n",
       "517735                NaN  Outpatient  \n",
       "517736                NaN  Outpatient  \n",
       "\n",
       "[558211 rows x 31 columns]"
      ]
     },
     "execution_count": 165,
     "metadata": {},
     "output_type": "execute_result"
    }
   ],
   "source": [
    "df_all"
   ]
  },
  {
   "cell_type": "code",
   "execution_count": 166,
   "id": "3ec9cbb3",
   "metadata": {},
   "outputs": [
    {
     "name": "stdout",
     "output_type": "stream",
     "text": [
      "<class 'pandas.core.frame.DataFrame'>\n",
      "Int64Index: 558211 entries, 0 to 517736\n",
      "Data columns (total 31 columns):\n",
      " #   Column                  Non-Null Count   Dtype  \n",
      "---  ------                  --------------   -----  \n",
      " 0   BeneID                  558211 non-null  object \n",
      " 1   ClaimID                 558211 non-null  object \n",
      " 2   ClaimStartDt            558211 non-null  object \n",
      " 3   ClaimEndDt              558211 non-null  object \n",
      " 4   Provider                558211 non-null  object \n",
      " 5   InscClaimAmtReimbursed  558211 non-null  int64  \n",
      " 6   AttendingPhysician      556703 non-null  object \n",
      " 7   OperatingPhysician      114447 non-null  object \n",
      " 8   OtherPhysician          199736 non-null  object \n",
      " 9   AdmissionDt             40474 non-null   object \n",
      " 10  ClmAdmitDiagnosisCode   145899 non-null  object \n",
      " 11  DeductibleAmtPaid       557312 non-null  float64\n",
      " 12  DischargeDt             40474 non-null   object \n",
      " 13  DiagnosisGroupCode      40474 non-null   object \n",
      " 14  ClmDiagnosisCode_1      547758 non-null  object \n",
      " 15  ClmDiagnosisCode_2      362605 non-null  object \n",
      " 16  ClmDiagnosisCode_3      243055 non-null  object \n",
      " 17  ClmDiagnosisCode_4      164536 non-null  object \n",
      " 18  ClmDiagnosisCode_5      111924 non-null  object \n",
      " 19  ClmDiagnosisCode_6      84392 non-null   object \n",
      " 20  ClmDiagnosisCode_7      66177 non-null   object \n",
      " 21  ClmDiagnosisCode_8      53444 non-null   object \n",
      " 22  ClmDiagnosisCode_9      41815 non-null   object \n",
      " 23  ClmDiagnosisCode_10     5010 non-null    object \n",
      " 24  ClmProcedureCode_1      23310 non-null   float64\n",
      " 25  ClmProcedureCode_2      5490 non-null    float64\n",
      " 26  ClmProcedureCode_3      969 non-null     float64\n",
      " 27  ClmProcedureCode_4      118 non-null     float64\n",
      " 28  ClmProcedureCode_5      9 non-null       float64\n",
      " 29  ClmProcedureCode_6      0 non-null       float64\n",
      " 30  type                    558211 non-null  object \n",
      "dtypes: float64(7), int64(1), object(23)\n",
      "memory usage: 136.3+ MB\n"
     ]
    }
   ],
   "source": [
    "df_all.info()"
   ]
  },
  {
   "cell_type": "code",
   "execution_count": 167,
   "id": "d843c679",
   "metadata": {},
   "outputs": [
    {
     "data": {
      "text/plain": [
       "['CLM46614', 'CLM66048', 'CLM68358']"
      ]
     },
     "execution_count": 167,
     "metadata": {},
     "output_type": "execute_result"
    }
   ],
   "source": [
    "claims = list(df_all.ClaimID.unique())\n",
    "claims[:3]"
   ]
  },
  {
   "cell_type": "code",
   "execution_count": 168,
   "id": "08ef19f0",
   "metadata": {},
   "outputs": [
    {
     "data": {
      "text/plain": [
       "558211"
      ]
     },
     "execution_count": 168,
     "metadata": {},
     "output_type": "execute_result"
    }
   ],
   "source": [
    "len(claims)"
   ]
  },
  {
   "cell_type": "code",
   "execution_count": 169,
   "id": "680eefe4",
   "metadata": {},
   "outputs": [],
   "source": [
    "clms = [{'idx': x} for x in claims]"
   ]
  },
  {
   "cell_type": "code",
   "execution_count": 170,
   "id": "61259e88",
   "metadata": {},
   "outputs": [
    {
     "data": {
      "text/plain": [
       "[{'idx': 'CLM46614'}, {'idx': 'CLM66048'}, {'idx': 'CLM68358'}]"
      ]
     },
     "execution_count": 170,
     "metadata": {},
     "output_type": "execute_result"
    }
   ],
   "source": [
    "clms[:3]"
   ]
  },
  {
   "cell_type": "code",
   "execution_count": 171,
   "id": "13868944",
   "metadata": {},
   "outputs": [],
   "source": [
    "# set constraint on claim node that idx is unique\n",
    "query=\"\"\"CREATE CONSTRAINT ON (n:Claim) ASSERT n.idx IS UNIQUE\"\"\""
   ]
  },
  {
   "cell_type": "code",
   "execution_count": 172,
   "id": "f3b2080d",
   "metadata": {},
   "outputs": [
    {
     "data": {
      "text/html": [
       "(No data)"
      ],
      "text/plain": [
       "(No data)"
      ]
     },
     "execution_count": 172,
     "metadata": {},
     "output_type": "execute_result"
    }
   ],
   "source": [
    "db.run(query)"
   ]
  },
  {
   "cell_type": "code",
   "execution_count": 176,
   "id": "3a420541",
   "metadata": {},
   "outputs": [],
   "source": [
    "query = \"\"\"CALL apoc.periodic.iterate(\n",
    "    'UNWIND $clms AS clm MERGE (b:Claim {idx: clm.idx}) RETURN b',\n",
    "    'WITH b RETURN count(b)',\n",
    "    {batchSize:100, parallel:false, params: {clms:$clms}})\"\"\""
   ]
  },
  {
   "cell_type": "code",
   "execution_count": 177,
   "id": "88df0a69",
   "metadata": {},
   "outputs": [],
   "source": [
    "i=0\n",
    "while i < len(claims):\n",
    "    db.run(query, {\"clms\":clms[i:i+5000]}).to_table()\n",
    "    i=i+5000"
   ]
  },
  {
   "cell_type": "markdown",
   "id": "d6d4671f",
   "metadata": {},
   "source": [
    "## Physician nodes:"
   ]
  },
  {
   "cell_type": "code",
   "execution_count": 178,
   "id": "414e1382",
   "metadata": {},
   "outputs": [],
   "source": [
    "phy_df = df_all[df_all['AttendingPhysician'].notna()]"
   ]
  },
  {
   "cell_type": "code",
   "execution_count": 179,
   "id": "51f82cf6",
   "metadata": {},
   "outputs": [
    {
     "data": {
      "text/plain": [
       "['PHY390922', 'PHY318495', 'PHY372395']"
      ]
     },
     "execution_count": 179,
     "metadata": {},
     "output_type": "execute_result"
    }
   ],
   "source": [
    "physicians = list(phy_df.AttendingPhysician.unique())\n",
    "physicians[:3]"
   ]
  },
  {
   "cell_type": "code",
   "execution_count": 180,
   "id": "be67b190",
   "metadata": {},
   "outputs": [
    {
     "data": {
      "text/plain": [
       "82063"
      ]
     },
     "execution_count": 180,
     "metadata": {},
     "output_type": "execute_result"
    }
   ],
   "source": [
    "len(physicians)"
   ]
  },
  {
   "cell_type": "code",
   "execution_count": 181,
   "id": "201148e9",
   "metadata": {},
   "outputs": [],
   "source": [
    "phs = [{'idx': x} for x in physicians]"
   ]
  },
  {
   "cell_type": "code",
   "execution_count": 182,
   "id": "418ff8db",
   "metadata": {},
   "outputs": [],
   "source": [
    "# set constraint on beneficiary node that idx is unique\n",
    "query=\"\"\"CREATE CONSTRAINT ON (n:Physician) ASSERT n.idx IS UNIQUE\"\"\""
   ]
  },
  {
   "cell_type": "code",
   "execution_count": 183,
   "id": "141d8e31",
   "metadata": {},
   "outputs": [
    {
     "data": {
      "text/html": [
       "(No data)"
      ],
      "text/plain": [
       "(No data)"
      ]
     },
     "execution_count": 183,
     "metadata": {},
     "output_type": "execute_result"
    }
   ],
   "source": [
    "db.run(query)"
   ]
  },
  {
   "cell_type": "code",
   "execution_count": 184,
   "id": "cdc51e30",
   "metadata": {},
   "outputs": [
    {
     "data": {
      "text/html": [
       "(No data)"
      ],
      "text/plain": [
       "(No data)"
      ]
     },
     "execution_count": 184,
     "metadata": {},
     "output_type": "execute_result"
    }
   ],
   "source": [
    "query = \"\"\"\n",
    "    UNWIND $phs AS ph\n",
    "    MERGE (b:Physician {idx: ph.idx})\n",
    "        \"\"\"\n",
    "db.run(query, {\"phs\":phs})"
   ]
  },
  {
   "cell_type": "markdown",
   "id": "2309e5d3",
   "metadata": {},
   "source": [
    "## (Provider)-[:HAS_WORKED_WITH]->(Physician)"
   ]
  },
  {
   "cell_type": "code",
   "execution_count": 185,
   "id": "d3a895be",
   "metadata": {},
   "outputs": [],
   "source": [
    "grp=df_all.groupby(['Provider','AttendingPhysician'])['ClaimID'].count()"
   ]
  },
  {
   "cell_type": "code",
   "execution_count": 186,
   "id": "87100ecc",
   "metadata": {},
   "outputs": [],
   "source": [
    "grp=grp.reset_index()"
   ]
  },
  {
   "cell_type": "code",
   "execution_count": 187,
   "id": "0980f0d9",
   "metadata": {},
   "outputs": [
    {
     "data": {
      "text/html": [
       "<div>\n",
       "<style scoped>\n",
       "    .dataframe tbody tr th:only-of-type {\n",
       "        vertical-align: middle;\n",
       "    }\n",
       "\n",
       "    .dataframe tbody tr th {\n",
       "        vertical-align: top;\n",
       "    }\n",
       "\n",
       "    .dataframe thead th {\n",
       "        text-align: right;\n",
       "    }\n",
       "</style>\n",
       "<table border=\"1\" class=\"dataframe\">\n",
       "  <thead>\n",
       "    <tr style=\"text-align: right;\">\n",
       "      <th></th>\n",
       "      <th>Provider</th>\n",
       "      <th>AttendingPhysician</th>\n",
       "      <th>ClaimID</th>\n",
       "    </tr>\n",
       "  </thead>\n",
       "  <tbody>\n",
       "    <tr>\n",
       "      <th>0</th>\n",
       "      <td>PRV51001</td>\n",
       "      <td>PHY311126</td>\n",
       "      <td>1</td>\n",
       "    </tr>\n",
       "    <tr>\n",
       "      <th>1</th>\n",
       "      <td>PRV51001</td>\n",
       "      <td>PHY318842</td>\n",
       "      <td>1</td>\n",
       "    </tr>\n",
       "    <tr>\n",
       "      <th>2</th>\n",
       "      <td>PRV51001</td>\n",
       "      <td>PHY340163</td>\n",
       "      <td>1</td>\n",
       "    </tr>\n",
       "    <tr>\n",
       "      <th>3</th>\n",
       "      <td>PRV51001</td>\n",
       "      <td>PHY345302</td>\n",
       "      <td>4</td>\n",
       "    </tr>\n",
       "    <tr>\n",
       "      <th>4</th>\n",
       "      <td>PRV51001</td>\n",
       "      <td>PHY346762</td>\n",
       "      <td>1</td>\n",
       "    </tr>\n",
       "    <tr>\n",
       "      <th>...</th>\n",
       "      <td>...</td>\n",
       "      <td>...</td>\n",
       "      <td>...</td>\n",
       "    </tr>\n",
       "    <tr>\n",
       "      <th>87900</th>\n",
       "      <td>PRV57760</td>\n",
       "      <td>PHY398330</td>\n",
       "      <td>4</td>\n",
       "    </tr>\n",
       "    <tr>\n",
       "      <th>87901</th>\n",
       "      <td>PRV57761</td>\n",
       "      <td>PHY354815</td>\n",
       "      <td>68</td>\n",
       "    </tr>\n",
       "    <tr>\n",
       "      <th>87902</th>\n",
       "      <td>PRV57761</td>\n",
       "      <td>PHY367727</td>\n",
       "      <td>14</td>\n",
       "    </tr>\n",
       "    <tr>\n",
       "      <th>87903</th>\n",
       "      <td>PRV57762</td>\n",
       "      <td>PHY432730</td>\n",
       "      <td>1</td>\n",
       "    </tr>\n",
       "    <tr>\n",
       "      <th>87904</th>\n",
       "      <td>PRV57763</td>\n",
       "      <td>PHY321072</td>\n",
       "      <td>118</td>\n",
       "    </tr>\n",
       "  </tbody>\n",
       "</table>\n",
       "<p>87905 rows × 3 columns</p>\n",
       "</div>"
      ],
      "text/plain": [
       "       Provider AttendingPhysician  ClaimID\n",
       "0      PRV51001          PHY311126        1\n",
       "1      PRV51001          PHY318842        1\n",
       "2      PRV51001          PHY340163        1\n",
       "3      PRV51001          PHY345302        4\n",
       "4      PRV51001          PHY346762        1\n",
       "...         ...                ...      ...\n",
       "87900  PRV57760          PHY398330        4\n",
       "87901  PRV57761          PHY354815       68\n",
       "87902  PRV57761          PHY367727       14\n",
       "87903  PRV57762          PHY432730        1\n",
       "87904  PRV57763          PHY321072      118\n",
       "\n",
       "[87905 rows x 3 columns]"
      ]
     },
     "execution_count": 187,
     "metadata": {},
     "output_type": "execute_result"
    }
   ],
   "source": [
    "grp"
   ]
  },
  {
   "cell_type": "code",
   "execution_count": 188,
   "id": "979d5b6e",
   "metadata": {},
   "outputs": [],
   "source": [
    "rels = [{'origin':x[1]['Provider'],\n",
    "       'target': x[1]['AttendingPhysician']} for x in grp.iterrows()]"
   ]
  },
  {
   "cell_type": "code",
   "execution_count": 189,
   "id": "6cfd4ad7",
   "metadata": {},
   "outputs": [
    {
     "data": {
      "text/html": [
       "(No data)"
      ],
      "text/plain": [
       "(No data)"
      ]
     },
     "execution_count": 189,
     "metadata": {},
     "output_type": "execute_result"
    }
   ],
   "source": [
    "query = \"\"\"\n",
    "    UNWIND $rels AS rel\n",
    "    MATCH (e1:Provider {idx: rel.origin})\n",
    "    MATCH (e2:Physician {idx: rel.target}) \n",
    "    MERGE (e1)-[m:HAS_WORKED_WITH]->(e2)\"\"\"\n",
    "\n",
    "db.run(query, {\"rels\":rels})"
   ]
  },
  {
   "cell_type": "markdown",
   "id": "97e18c8d",
   "metadata": {},
   "source": [
    "## Type Node"
   ]
  },
  {
   "cell_type": "code",
   "execution_count": 190,
   "id": "836856da",
   "metadata": {},
   "outputs": [],
   "source": [
    "types=list(df_all.type.unique())"
   ]
  },
  {
   "cell_type": "code",
   "execution_count": 191,
   "id": "a61c8fad",
   "metadata": {},
   "outputs": [
    {
     "data": {
      "text/plain": [
       "['Inpatient', 'Outpatient']"
      ]
     },
     "execution_count": 191,
     "metadata": {},
     "output_type": "execute_result"
    }
   ],
   "source": [
    "types"
   ]
  },
  {
   "cell_type": "code",
   "execution_count": 192,
   "id": "1f3ba3c8",
   "metadata": {},
   "outputs": [],
   "source": [
    "ts = [{\"Type\": x,\n",
    "     \"idx\" : i} for (i,x) in enumerate(types)]"
   ]
  },
  {
   "cell_type": "code",
   "execution_count": 193,
   "id": "12d4af2e",
   "metadata": {},
   "outputs": [
    {
     "data": {
      "text/plain": [
       "[{'Type': 'Inpatient', 'idx': 0}, {'Type': 'Outpatient', 'idx': 1}]"
      ]
     },
     "execution_count": 193,
     "metadata": {},
     "output_type": "execute_result"
    }
   ],
   "source": [
    "ts"
   ]
  },
  {
   "cell_type": "code",
   "execution_count": 194,
   "id": "557be1b1",
   "metadata": {},
   "outputs": [],
   "source": [
    "query=\"\"\"CREATE CONSTRAINT ON (n:Type) ASSERT n.idx IS UNIQUE\"\"\""
   ]
  },
  {
   "cell_type": "code",
   "execution_count": 195,
   "id": "d518eaa3",
   "metadata": {},
   "outputs": [
    {
     "data": {
      "text/html": [
       "(No data)"
      ],
      "text/plain": [
       "(No data)"
      ]
     },
     "execution_count": 195,
     "metadata": {},
     "output_type": "execute_result"
    }
   ],
   "source": [
    "db.run(query)"
   ]
  },
  {
   "cell_type": "code",
   "execution_count": 196,
   "id": "8699e268",
   "metadata": {},
   "outputs": [
    {
     "data": {
      "text/html": [
       "(No data)"
      ],
      "text/plain": [
       "(No data)"
      ]
     },
     "execution_count": 196,
     "metadata": {},
     "output_type": "execute_result"
    }
   ],
   "source": [
    "query = \"\"\"\n",
    "    UNWIND $ts AS t\n",
    "    MERGE (b:Type {idx: t.idx, Type: t.Type})\n",
    "        \"\"\"\n",
    "db.run(query, {\"ts\":ts})"
   ]
  },
  {
   "cell_type": "markdown",
   "id": "0edb6ba3",
   "metadata": {},
   "source": [
    "## (Claim)-[:HAS_TYPE]->(Type)"
   ]
  },
  {
   "cell_type": "code",
   "execution_count": 197,
   "id": "009823e1",
   "metadata": {},
   "outputs": [],
   "source": [
    "grp=df_all[['ClaimID','type']]"
   ]
  },
  {
   "cell_type": "code",
   "execution_count": 198,
   "id": "29866633",
   "metadata": {},
   "outputs": [],
   "source": [
    "rels = [{'origin': x[1]['ClaimID'],\n",
    "       'target':  x[1]['type']} for x in grp.iterrows()]"
   ]
  },
  {
   "cell_type": "code",
   "execution_count": 199,
   "id": "1cd9cd8e",
   "metadata": {},
   "outputs": [
    {
     "data": {
      "text/plain": [
       "558211"
      ]
     },
     "execution_count": 199,
     "metadata": {},
     "output_type": "execute_result"
    }
   ],
   "source": [
    "len(rels)"
   ]
  },
  {
   "cell_type": "code",
   "execution_count": 200,
   "id": "2acbc8eb",
   "metadata": {},
   "outputs": [],
   "source": [
    "query = \"\"\"\n",
    "    CALL apoc.periodic.iterate(\n",
    "    'UNWIND $rels AS rel\n",
    "    MATCH (e1:Claim {idx: rel.origin})\n",
    "    MATCH (e2:Type {Type: rel.target}) \n",
    "    MERGE (e1)-[m:HAS_TYPE]->(e2) RETURN m', \n",
    "    'WITH m RETURN count(m)',\n",
    "    {batchSize:100, parallel:false, params: {rels:$rels}})\n",
    "    \"\"\""
   ]
  },
  {
   "cell_type": "code",
   "execution_count": 201,
   "id": "0365ff4c",
   "metadata": {},
   "outputs": [],
   "source": [
    "i=0\n",
    "while i < len(df_all):\n",
    "    db.run(query, {\"rels\":rels[i:i+5000]}).to_table()\n",
    "    i=i+5000"
   ]
  },
  {
   "cell_type": "markdown",
   "id": "721d2f49",
   "metadata": {},
   "source": [
    "## (Provider)-[:HAS_CLAIM]->(Claim)"
   ]
  },
  {
   "cell_type": "code",
   "execution_count": 202,
   "id": "b28559f4",
   "metadata": {},
   "outputs": [],
   "source": [
    "grp=df_all[['ClaimID','Provider']]"
   ]
  },
  {
   "cell_type": "code",
   "execution_count": 203,
   "id": "88ae449f",
   "metadata": {},
   "outputs": [],
   "source": [
    "rels = [{'origin': x[1]['Provider'],\n",
    "       'target':  x[1]['ClaimID']} for x in grp.iterrows()]"
   ]
  },
  {
   "cell_type": "code",
   "execution_count": 204,
   "id": "bf47078c",
   "metadata": {},
   "outputs": [
    {
     "data": {
      "text/plain": [
       "558211"
      ]
     },
     "execution_count": 204,
     "metadata": {},
     "output_type": "execute_result"
    }
   ],
   "source": [
    "len(rels)"
   ]
  },
  {
   "cell_type": "code",
   "execution_count": 205,
   "id": "1cd0dbe0",
   "metadata": {},
   "outputs": [],
   "source": [
    "query = \"\"\"\n",
    "    CALL apoc.periodic.iterate(\n",
    "    'UNWIND $rels AS rel\n",
    "    MATCH (e1:Provider {idx: rel.origin})\n",
    "    MATCH (e2:Claim {idx: rel.target}) \n",
    "    MERGE (e1)-[m:P_HAS_CLAIM]->(e2) RETURN m', \n",
    "    'WITH m RETURN count(m)',\n",
    "    {batchSize:100, parallel:false, params: {rels:$rels}})\n",
    "    \"\"\""
   ]
  },
  {
   "cell_type": "code",
   "execution_count": 206,
   "id": "2d2c8d80",
   "metadata": {},
   "outputs": [],
   "source": [
    "i=0\n",
    "while i < len(df_all):\n",
    "    db.run(query, {\"rels\":rels[i:i+5000]}).to_table()\n",
    "    i=i+5000"
   ]
  },
  {
   "cell_type": "markdown",
   "id": "0bf0f326",
   "metadata": {},
   "source": [
    "## (Beneficiary)-[:HAS_CLAIM]->(Claim)\n"
   ]
  },
  {
   "cell_type": "code",
   "execution_count": 207,
   "id": "27957f60",
   "metadata": {},
   "outputs": [],
   "source": [
    "grp=df_all[['ClaimID','BeneID']]"
   ]
  },
  {
   "cell_type": "code",
   "execution_count": 208,
   "id": "1b265790",
   "metadata": {},
   "outputs": [],
   "source": [
    "rels = [{'origin': x[1]['BeneID'],\n",
    "       'target':  x[1]['ClaimID']} for x in grp.iterrows()]"
   ]
  },
  {
   "cell_type": "code",
   "execution_count": 209,
   "id": "54a030df",
   "metadata": {},
   "outputs": [],
   "source": [
    "query = \"\"\"\n",
    "    CALL apoc.periodic.iterate(\n",
    "    'UNWIND $rels AS rel\n",
    "    MATCH (e1:Beneficiary {idx: rel.origin})\n",
    "    MATCH (e2:Claim {idx: rel.target}) \n",
    "    MERGE (e1)-[m:B_HAS_CLAIM]->(e2) RETURN m', \n",
    "    'WITH m RETURN count(m)',\n",
    "    {batchSize:100, parallel:false, params: {rels:$rels}})\n",
    "    \"\"\""
   ]
  },
  {
   "cell_type": "code",
   "execution_count": 210,
   "id": "c7a2fae2",
   "metadata": {},
   "outputs": [],
   "source": [
    "i=0\n",
    "while i < len(df_all):\n",
    "    db.run(query, {\"rels\":rels[i:i+5000]}).to_table()\n",
    "    i=i+5000"
   ]
  },
  {
   "cell_type": "markdown",
   "id": "bfcd5ae9",
   "metadata": {},
   "source": [
    "## (Claim)-[:HAS_ATTENDING]->(Physician)"
   ]
  },
  {
   "cell_type": "code",
   "execution_count": 211,
   "id": "21bcb863",
   "metadata": {},
   "outputs": [],
   "source": [
    "grp=df_all[['ClaimID','AttendingPhysician']]"
   ]
  },
  {
   "cell_type": "code",
   "execution_count": 212,
   "id": "fb417a34",
   "metadata": {},
   "outputs": [],
   "source": [
    "rels = [{'origin': x[1]['ClaimID'],\n",
    "       'target':  x[1]['AttendingPhysician']} for x in grp.iterrows()]"
   ]
  },
  {
   "cell_type": "code",
   "execution_count": 213,
   "id": "69bdc09e",
   "metadata": {},
   "outputs": [],
   "source": [
    "query = \"\"\"\n",
    "    CALL apoc.periodic.iterate(\n",
    "    'UNWIND $rels AS rel\n",
    "    MATCH (e1:Claim {idx: rel.origin})\n",
    "    MATCH (e2:Physician {idx: rel.target}) \n",
    "    MERGE (e1)-[m:HAS_ATTENDING]->(e2) RETURN m', \n",
    "    'WITH m RETURN count(m)',\n",
    "    {batchSize:100, parallel:false, params: {rels:$rels}})\n",
    "    \"\"\""
   ]
  },
  {
   "cell_type": "code",
   "execution_count": 214,
   "id": "89fc9cf5",
   "metadata": {},
   "outputs": [],
   "source": [
    "i=0\n",
    "while i < len(df_all):\n",
    "    db.run(query, {\"rels\":rels[i:i+5000]}).to_table()\n",
    "    i=i+5000"
   ]
  },
  {
   "cell_type": "markdown",
   "id": "6ed52acd",
   "metadata": {},
   "source": [
    "## Diagnosis Node: "
   ]
  },
  {
   "cell_type": "code",
   "execution_count": 17,
   "id": "e906de1f",
   "metadata": {},
   "outputs": [
    {
     "data": {
      "text/plain": [
       "BeneID                     object\n",
       "ClaimID                    object\n",
       "ClaimStartDt               object\n",
       "ClaimEndDt                 object\n",
       "Provider                   object\n",
       "InscClaimAmtReimbursed      int64\n",
       "AttendingPhysician         object\n",
       "OperatingPhysician         object\n",
       "OtherPhysician             object\n",
       "AdmissionDt                object\n",
       "ClmAdmitDiagnosisCode      object\n",
       "DeductibleAmtPaid         float64\n",
       "DischargeDt                object\n",
       "DiagnosisGroupCode         object\n",
       "ClmDiagnosisCode_1         object\n",
       "ClmDiagnosisCode_2         object\n",
       "ClmDiagnosisCode_3         object\n",
       "ClmDiagnosisCode_4         object\n",
       "ClmDiagnosisCode_5         object\n",
       "ClmDiagnosisCode_6         object\n",
       "ClmDiagnosisCode_7         object\n",
       "ClmDiagnosisCode_8         object\n",
       "ClmDiagnosisCode_9         object\n",
       "ClmDiagnosisCode_10        object\n",
       "ClmProcedureCode_1        float64\n",
       "ClmProcedureCode_2        float64\n",
       "ClmProcedureCode_3        float64\n",
       "ClmProcedureCode_4        float64\n",
       "ClmProcedureCode_5        float64\n",
       "ClmProcedureCode_6        float64\n",
       "type                       object\n",
       "dtype: object"
      ]
     },
     "execution_count": 17,
     "metadata": {},
     "output_type": "execute_result"
    }
   ],
   "source": [
    "df_all.dtypes"
   ]
  },
  {
   "cell_type": "code",
   "execution_count": 47,
   "id": "39ed3dda",
   "metadata": {},
   "outputs": [],
   "source": [
    "D1=list(df_all['ClmDiagnosisCode_1'].unique())\n",
    "D2=list(df_all['ClmDiagnosisCode_2'].unique())\n",
    "D3=list(df_all['ClmDiagnosisCode_3'].unique())\n",
    "D4=list(df_all['ClmDiagnosisCode_4'].unique())\n",
    "D5=list(df_all['ClmDiagnosisCode_5'].unique())\n",
    "D6=list(df_all['ClmDiagnosisCode_6'].unique())\n",
    "D7=list(df_all['ClmDiagnosisCode_7'].unique())\n",
    "D8=list(df_all['ClmDiagnosisCode_8'].unique())\n",
    "D9=list(df_all['ClmDiagnosisCode_9'].unique())\n",
    "D10=list(df_all['ClmDiagnosisCode_10'].unique())\n",
    "D=D1+D2+D3+D4+D5+D6+D7+D8+D9+D10\n",
    "D=set(D)"
   ]
  },
  {
   "cell_type": "code",
   "execution_count": 48,
   "id": "6253652c",
   "metadata": {},
   "outputs": [],
   "source": [
    "D=list(D)\n",
    "diagnosis=D[1:]"
   ]
  },
  {
   "cell_type": "code",
   "execution_count": 49,
   "id": "ace312da",
   "metadata": {},
   "outputs": [],
   "source": [
    "ds = [{\"Diagnosis\": x,\n",
    "     \"idx\" : i} for (i,x) in enumerate(diagnosis)]"
   ]
  },
  {
   "cell_type": "code",
   "execution_count": 21,
   "id": "f3dbcd0d",
   "metadata": {},
   "outputs": [],
   "source": [
    "query=\"\"\"CREATE CONSTRAINT ON (n:Diagnosis) ASSERT n.idx IS UNIQUE\"\"\""
   ]
  },
  {
   "cell_type": "code",
   "execution_count": null,
   "id": "4b4da1ba",
   "metadata": {},
   "outputs": [],
   "source": [
    "db.run(query)"
   ]
  },
  {
   "cell_type": "code",
   "execution_count": null,
   "id": "d266567c",
   "metadata": {},
   "outputs": [],
   "source": [
    "query = \"\"\"\n",
    "    UNWIND $ds AS d\n",
    "    MERGE (b:Diagnosis {idx: d.idx, Type: d.Diagnosis})\n",
    "        \"\"\"\n",
    "db.run(query, {\"ds\":ds})"
   ]
  },
  {
   "cell_type": "markdown",
   "id": "fd0c3ef6",
   "metadata": {},
   "source": [
    "## (Claim)-[:HAS_DIAGNOSIS]->(Diagnosis)"
   ]
  },
  {
   "cell_type": "code",
   "execution_count": 23,
   "id": "0255e8c6",
   "metadata": {},
   "outputs": [],
   "source": [
    "df_long = pd.melt(df_all, id_vars='ClaimID', value_vars=['ClmDiagnosisCode_1', 'ClmDiagnosisCode_2','ClmDiagnosisCode_3', \n",
    "                                                         'ClmDiagnosisCode_4', 'ClmDiagnosisCode_5', 'ClmDiagnosisCode_6',\n",
    "                                                        'ClmDiagnosisCode_7', 'ClmDiagnosisCode_8', 'ClmDiagnosisCode_9',\n",
    "                                                        'ClmDiagnosisCode_10'])\n"
   ]
  },
  {
   "cell_type": "code",
   "execution_count": 24,
   "id": "5b93c2bc",
   "metadata": {},
   "outputs": [],
   "source": [
    "df_long=df_long[~df_long['value'].isna()]"
   ]
  },
  {
   "cell_type": "code",
   "execution_count": 25,
   "id": "58eeefa3",
   "metadata": {},
   "outputs": [],
   "source": [
    "df_long=df_long[['ClaimID', 'value']]"
   ]
  },
  {
   "cell_type": "code",
   "execution_count": 26,
   "id": "7920d5a7",
   "metadata": {},
   "outputs": [
    {
     "data": {
      "text/html": [
       "<div>\n",
       "<style scoped>\n",
       "    .dataframe tbody tr th:only-of-type {\n",
       "        vertical-align: middle;\n",
       "    }\n",
       "\n",
       "    .dataframe tbody tr th {\n",
       "        vertical-align: top;\n",
       "    }\n",
       "\n",
       "    .dataframe thead th {\n",
       "        text-align: right;\n",
       "    }\n",
       "</style>\n",
       "<table border=\"1\" class=\"dataframe\">\n",
       "  <thead>\n",
       "    <tr style=\"text-align: right;\">\n",
       "      <th></th>\n",
       "      <th>ClaimID</th>\n",
       "      <th>value</th>\n",
       "    </tr>\n",
       "  </thead>\n",
       "  <tbody>\n",
       "    <tr>\n",
       "      <th>0</th>\n",
       "      <td>CLM46614</td>\n",
       "      <td>1970</td>\n",
       "    </tr>\n",
       "    <tr>\n",
       "      <th>1</th>\n",
       "      <td>CLM66048</td>\n",
       "      <td>6186</td>\n",
       "    </tr>\n",
       "    <tr>\n",
       "      <th>2</th>\n",
       "      <td>CLM68358</td>\n",
       "      <td>29623</td>\n",
       "    </tr>\n",
       "    <tr>\n",
       "      <th>3</th>\n",
       "      <td>CLM38412</td>\n",
       "      <td>43491</td>\n",
       "    </tr>\n",
       "    <tr>\n",
       "      <th>4</th>\n",
       "      <td>CLM63689</td>\n",
       "      <td>042</td>\n",
       "    </tr>\n",
       "  </tbody>\n",
       "</table>\n",
       "</div>"
      ],
      "text/plain": [
       "    ClaimID  value\n",
       "0  CLM46614   1970\n",
       "1  CLM66048   6186\n",
       "2  CLM68358  29623\n",
       "3  CLM38412  43491\n",
       "4  CLM63689    042"
      ]
     },
     "execution_count": 26,
     "metadata": {},
     "output_type": "execute_result"
    }
   ],
   "source": [
    "df_long.head()"
   ]
  },
  {
   "cell_type": "code",
   "execution_count": 27,
   "id": "a8c87d9e",
   "metadata": {},
   "outputs": [
    {
     "data": {
      "text/plain": [
       "CLM552035    10\n",
       "CLM709826    10\n",
       "CLM50833     10\n",
       "CLM76789     10\n",
       "CLM74513     10\n",
       "             ..\n",
       "CLM402945     1\n",
       "CLM405420     1\n",
       "CLM319946     1\n",
       "CLM206785     1\n",
       "CLM349913     1\n",
       "Name: ClaimID, Length: 547758, dtype: int64"
      ]
     },
     "execution_count": 27,
     "metadata": {},
     "output_type": "execute_result"
    }
   ],
   "source": [
    "df_long['ClaimID'].value_counts()"
   ]
  },
  {
   "cell_type": "code",
   "execution_count": 28,
   "id": "0011ad78",
   "metadata": {},
   "outputs": [],
   "source": [
    "grp=df_long[['ClaimID','value']]"
   ]
  },
  {
   "cell_type": "code",
   "execution_count": 29,
   "id": "33a6091f",
   "metadata": {},
   "outputs": [],
   "source": [
    "rels = [{'origin': x[1]['ClaimID'],\n",
    "       'target':  x[1]['value']} for x in grp.iterrows()]"
   ]
  },
  {
   "cell_type": "code",
   "execution_count": 30,
   "id": "9552eb19",
   "metadata": {},
   "outputs": [
    {
     "data": {
      "text/plain": [
       "[{'origin': 'CLM46614', 'target': '1970'},\n",
       " {'origin': 'CLM66048', 'target': '6186'},\n",
       " {'origin': 'CLM68358', 'target': '29623'},\n",
       " {'origin': 'CLM38412', 'target': '43491'},\n",
       " {'origin': 'CLM63689', 'target': '042'},\n",
       " {'origin': 'CLM70950', 'target': '1745'},\n",
       " {'origin': 'CLM32075', 'target': '1536'},\n",
       " {'origin': 'CLM62376', 'target': '56212'},\n",
       " {'origin': 'CLM62784', 'target': '42823'},\n",
       " {'origin': 'CLM31519', 'target': '41041'},\n",
       " {'origin': 'CLM57949', 'target': '03842'},\n",
       " {'origin': 'CLM70083', 'target': '29623'},\n",
       " {'origin': 'CLM65412', 'target': '43411'},\n",
       " {'origin': 'CLM54944', 'target': '49121'},\n",
       " {'origin': 'CLM78682', 'target': '51881'},\n",
       " {'origin': 'CLM57153', 'target': '82021'},\n",
       " {'origin': 'CLM34469', 'target': '29590'},\n",
       " {'origin': 'CLM54477', 'target': '42731'},\n",
       " {'origin': 'CLM57077', 'target': '25081'},\n",
       " {'origin': 'CLM61587', 'target': '00845'},\n",
       " {'origin': 'CLM36789', 'target': '41519'},\n",
       " {'origin': 'CLM38115', 'target': '99591'},\n",
       " {'origin': 'CLM41414', 'target': '41401'},\n",
       " {'origin': 'CLM60246', 'target': '486'},\n",
       " {'origin': 'CLM75192', 'target': '5990'},\n",
       " {'origin': 'CLM37565', 'target': '49121'},\n",
       " {'origin': 'CLM62447', 'target': '41071'},\n",
       " {'origin': 'CLM80966', 'target': '6826'},\n",
       " {'origin': 'CLM48802', 'target': '49122'},\n",
       " {'origin': 'CLM60118', 'target': '71536'},\n",
       " {'origin': 'CLM56288', 'target': '60001'},\n",
       " {'origin': 'CLM63127', 'target': '30391'},\n",
       " {'origin': 'CLM42596', 'target': '43411'},\n",
       " {'origin': 'CLM35816', 'target': '42731'},\n",
       " {'origin': 'CLM32146', 'target': '99662'},\n",
       " {'origin': 'CLM82202', 'target': '99662'},\n",
       " {'origin': 'CLM33470', 'target': '4822'},\n",
       " {'origin': 'CLM58670', 'target': '41011'},\n",
       " {'origin': 'CLM46868', 'target': '5070'},\n",
       " {'origin': 'CLM72526', 'target': '29532'},\n",
       " {'origin': 'CLM44765', 'target': '5921'},\n",
       " {'origin': 'CLM76960', 'target': '5789'},\n",
       " {'origin': 'CLM33742', 'target': '2948'},\n",
       " {'origin': 'CLM78387', 'target': '515'},\n",
       " {'origin': 'CLM35890', 'target': '0380'},\n",
       " {'origin': 'CLM34789', 'target': '82021'},\n",
       " {'origin': 'CLM44063', 'target': '72283'},\n",
       " {'origin': 'CLM70810', 'target': '5119'},\n",
       " {'origin': 'CLM70221', 'target': '44101'},\n",
       " {'origin': 'CLM74096', 'target': '44422'},\n",
       " {'origin': 'CLM78513', 'target': '71515'},\n",
       " {'origin': 'CLM36482', 'target': '51881'},\n",
       " {'origin': 'CLM40640', 'target': '3071'},\n",
       " {'origin': 'CLM80161', 'target': '4359'},\n",
       " {'origin': 'CLM73312', 'target': '43491'},\n",
       " {'origin': 'CLM57950', 'target': '56089'},\n",
       " {'origin': 'CLM63566', 'target': '53019'},\n",
       " {'origin': 'CLM35019', 'target': '25080'},\n",
       " {'origin': 'CLM38541', 'target': '43310'},\n",
       " {'origin': 'CLM57078', 'target': '2536'},\n",
       " {'origin': 'CLM33543', 'target': '5770'},\n",
       " {'origin': 'CLM45818', 'target': '41401'},\n",
       " {'origin': 'CLM66977', 'target': '44023'},\n",
       " {'origin': 'CLM62377', 'target': '41071'},\n",
       " {'origin': 'CLM55364', 'target': '78659'},\n",
       " {'origin': 'CLM69177', 'target': '51881'},\n",
       " {'origin': 'CLM76836', 'target': '82009'},\n",
       " {'origin': 'CLM42956', 'target': '2768'},\n",
       " {'origin': 'CLM31576', 'target': '51881'},\n",
       " {'origin': 'CLM35522', 'target': '27651'},\n",
       " {'origin': 'CLM64292', 'target': '0389'},\n",
       " {'origin': 'CLM63877', 'target': '99931'},\n",
       " {'origin': 'CLM66617', 'target': '59969'},\n",
       " {'origin': 'CLM75314', 'target': '99664'},\n",
       " {'origin': 'CLM43925', 'target': '57400'},\n",
       " {'origin': 'CLM73679', 'target': '6826'},\n",
       " {'origin': 'CLM57657', 'target': '5990'},\n",
       " {'origin': 'CLM64576', 'target': '53783'},\n",
       " {'origin': 'CLM35296', 'target': '5849'},\n",
       " {'origin': 'CLM45888', 'target': '42731'},\n",
       " {'origin': 'CLM34317', 'target': '25072'},\n",
       " {'origin': 'CLM33807', 'target': '00845'},\n",
       " {'origin': 'CLM33949', 'target': '5849'},\n",
       " {'origin': 'CLM69949', 'target': '49121'},\n",
       " {'origin': 'CLM70156', 'target': '41401'},\n",
       " {'origin': 'CLM75627', 'target': '3963'},\n",
       " {'origin': 'CLM49761', 'target': '43491'},\n",
       " {'origin': 'CLM35020', 'target': '5070'},\n",
       " {'origin': 'CLM41415', 'target': '43491'},\n",
       " {'origin': 'CLM68437', 'target': '30390'},\n",
       " {'origin': 'CLM31773', 'target': '5609'},\n",
       " {'origin': 'CLM59459', 'target': '27702'},\n",
       " {'origin': 'CLM76616', 'target': '03812'},\n",
       " {'origin': 'CLM76430', 'target': '486'},\n",
       " {'origin': 'CLM79476', 'target': '42823'},\n",
       " {'origin': 'CLM58991', 'target': '486'},\n",
       " {'origin': 'CLM33113', 'target': '78559'},\n",
       " {'origin': 'CLM35457', 'target': '29570'},\n",
       " {'origin': 'CLM70157', 'target': '79902'},\n",
       " {'origin': 'CLM36790', 'target': '1541'},\n",
       " {'origin': 'CLM63754', 'target': '29530'},\n",
       " {'origin': 'CLM62859', 'target': '25080'},\n",
       " {'origin': 'CLM33808', 'target': '7851'},\n",
       " {'origin': 'CLM39427', 'target': '4373'},\n",
       " {'origin': 'CLM59661', 'target': '7802'},\n",
       " {'origin': 'CLM34394', 'target': '6826'},\n",
       " {'origin': 'CLM50583', 'target': '41401'},\n",
       " {'origin': 'CLM51126', 'target': '8244'},\n",
       " {'origin': 'CLM43646', 'target': '42789'},\n",
       " {'origin': 'CLM35369', 'target': '29620'},\n",
       " {'origin': 'CLM74441', 'target': '2766'},\n",
       " {'origin': 'CLM47187', 'target': '71536'},\n",
       " {'origin': 'CLM68505', 'target': '42831'},\n",
       " {'origin': 'CLM32758', 'target': '5990'},\n",
       " {'origin': 'CLM35817', 'target': '5722'},\n",
       " {'origin': 'CLM47534', 'target': '99669'},\n",
       " {'origin': 'CLM49891', 'target': '4280'},\n",
       " {'origin': 'CLM38542', 'target': '27651'},\n",
       " {'origin': 'CLM76176', 'target': '45981'},\n",
       " {'origin': 'CLM40182', 'target': '3094'},\n",
       " {'origin': 'CLM38986', 'target': 'V5489'},\n",
       " {'origin': 'CLM51127', 'target': '2768'},\n",
       " {'origin': 'CLM41267', 'target': '99649'},\n",
       " {'origin': 'CLM80551', 'target': '20288'},\n",
       " {'origin': 'CLM57154', 'target': '5569'},\n",
       " {'origin': 'CLM38195', 'target': '71531'},\n",
       " {'origin': 'CLM75628', 'target': '5589'},\n",
       " {'origin': 'CLM32147', 'target': '78079'},\n",
       " {'origin': 'CLM60797', 'target': '44023'},\n",
       " {'origin': 'CLM66768', 'target': '4280'},\n",
       " {'origin': 'CLM67310', 'target': '41071'},\n",
       " {'origin': 'CLM68359', 'target': '42731'},\n",
       " {'origin': 'CLM39722', 'target': '82009'},\n",
       " {'origin': 'CLM37342', 'target': 'V5789'},\n",
       " {'origin': 'CLM33252', 'target': '5109'},\n",
       " {'origin': 'CLM39428', 'target': '4241'},\n",
       " {'origin': 'CLM41980', 'target': '60001'},\n",
       " {'origin': 'CLM65594', 'target': '57451'},\n",
       " {'origin': 'CLM64007', 'target': '51881'},\n",
       " {'origin': 'CLM42886', 'target': '5601'},\n",
       " {'origin': 'CLM72852', 'target': '0389'},\n",
       " {'origin': 'CLM76177', 'target': '5722'},\n",
       " {'origin': 'CLM62860', 'target': '27651'},\n",
       " {'origin': 'CLM50507', 'target': '7866'},\n",
       " {'origin': 'CLM72919', 'target': '03842'},\n",
       " {'origin': 'CLM72578', 'target': '71535'},\n",
       " {'origin': 'CLM36096', 'target': '42731'},\n",
       " {'origin': 'CLM47949', 'target': '1977'},\n",
       " {'origin': 'CLM65009', 'target': '486'},\n",
       " {'origin': 'CLM51050', 'target': '8244'},\n",
       " {'origin': 'CLM79068', 'target': '4580'},\n",
       " {'origin': 'CLM51257', 'target': '49122'},\n",
       " {'origin': 'CLM74954', 'target': '430'},\n",
       " {'origin': 'CLM60388', 'target': '57401'},\n",
       " {'origin': 'CLM50508', 'target': '99642'},\n",
       " {'origin': 'CLM33950', 'target': '23879'},\n",
       " {'origin': 'CLM60798', 'target': '0389'},\n",
       " {'origin': 'CLM70744', 'target': '5109'},\n",
       " {'origin': 'CLM34470', 'target': '3310'},\n",
       " {'origin': 'CLM34790', 'target': '99664'},\n",
       " {'origin': 'CLM38345', 'target': '7802'},\n",
       " {'origin': 'CLM43847', 'target': '1983'},\n",
       " {'origin': 'CLM63512', 'target': '4280'},\n",
       " {'origin': 'CLM43570', 'target': '8082'},\n",
       " {'origin': 'CLM39570', 'target': '42731'},\n",
       " {'origin': 'CLM33253', 'target': '29640'},\n",
       " {'origin': 'CLM41113', 'target': '45342'},\n",
       " {'origin': 'CLM70430', 'target': '7282'},\n",
       " {'origin': 'CLM36938', 'target': '5939'},\n",
       " {'origin': 'CLM60183', 'target': '431'},\n",
       " {'origin': 'CLM66908', 'target': '42781'},\n",
       " {'origin': 'CLM76557', 'target': '39891'},\n",
       " {'origin': 'CLM77848', 'target': '1579'},\n",
       " {'origin': 'CLM68156', 'target': '486'},\n",
       " {'origin': 'CLM36097', 'target': '51881'},\n",
       " {'origin': 'CLM40875', 'target': '1363'},\n",
       " {'origin': 'CLM35742', 'target': '41401'},\n",
       " {'origin': 'CLM37086', 'target': '60490'},\n",
       " {'origin': 'CLM53258', 'target': '71595'},\n",
       " {'origin': 'CLM56553', 'target': '99931'},\n",
       " {'origin': 'CLM58372', 'target': '5589'},\n",
       " {'origin': 'CLM58438', 'target': '7907'},\n",
       " {'origin': 'CLM50317', 'target': '2760'},\n",
       " {'origin': 'CLM68360', 'target': '5579'},\n",
       " {'origin': 'CLM60722', 'target': '5920'},\n",
       " {'origin': 'CLM77715', 'target': '7802'},\n",
       " {'origin': 'CLM69497', 'target': '28800'},\n",
       " {'origin': 'CLM57951', 'target': '70709'},\n",
       " {'origin': 'CLM77152', 'target': '4580'},\n",
       " {'origin': 'CLM69950', 'target': '78652'},\n",
       " {'origin': 'CLM71394', 'target': 'V5789'},\n",
       " {'origin': 'CLM75693', 'target': '41401'},\n",
       " {'origin': 'CLM53393', 'target': '78650'},\n",
       " {'origin': 'CLM49012', 'target': '1890'},\n",
       " {'origin': 'CLM34718', 'target': '53140'},\n",
       " {'origin': 'CLM42458', 'target': '41071'},\n",
       " {'origin': 'CLM31378', 'target': '6273'},\n",
       " {'origin': 'CLM31577', 'target': '8208'},\n",
       " {'origin': 'CLM70539', 'target': '38630'},\n",
       " {'origin': 'CLM55643', 'target': 'V5789'},\n",
       " {'origin': 'CLM65259', 'target': 'V5789'},\n",
       " {'origin': 'CLM73448', 'target': '5789'},\n",
       " {'origin': 'CLM31851', 'target': '5070'},\n",
       " {'origin': 'CLM68361', 'target': '78659'},\n",
       " {'origin': 'CLM56484', 'target': '48242'},\n",
       " {'origin': 'CLM65923', 'target': '27651'},\n",
       " {'origin': 'CLM34549', 'target': '5070'},\n",
       " {'origin': 'CLM47611', 'target': '34831'},\n",
       " {'origin': 'CLM57293', 'target': '78650'},\n",
       " {'origin': 'CLM38346', 'target': '486'},\n",
       " {'origin': 'CLM67514', 'target': '49121'},\n",
       " {'origin': 'CLM78514', 'target': '5849'},\n",
       " {'origin': 'CLM58927', 'target': '49121'},\n",
       " {'origin': 'CLM69418', 'target': '60021'},\n",
       " {'origin': 'CLM74160', 'target': '43491'},\n",
       " {'origin': 'CLM39137', 'target': '431'},\n",
       " {'origin': 'CLM47127', 'target': '41519'},\n",
       " {'origin': 'CLM40094', 'target': '5990'},\n",
       " {'origin': 'CLM74565', 'target': '51884'},\n",
       " {'origin': 'CLM45889', 'target': '00845'},\n",
       " {'origin': 'CLM70611', 'target': '0389'},\n",
       " {'origin': 'CLM56012', 'target': '43310'},\n",
       " {'origin': 'CLM71466', 'target': '42781'},\n",
       " {'origin': 'CLM78015', 'target': '71536'},\n",
       " {'origin': 'CLM34626', 'target': '51181'},\n",
       " {'origin': 'CLM36550', 'target': '56400'},\n",
       " {'origin': 'CLM62378', 'target': '71536'},\n",
       " {'origin': 'CLM76617', 'target': '1570'},\n",
       " {'origin': 'CLM48155', 'target': '5521'},\n",
       " {'origin': 'CLM59662', 'target': '486'},\n",
       " {'origin': 'CLM38282', 'target': '00845'},\n",
       " {'origin': 'CLM56418', 'target': '5849'},\n",
       " {'origin': 'CLM51051', 'target': '60001'},\n",
       " {'origin': 'CLM62986', 'target': '56039'},\n",
       " {'origin': 'CLM41555', 'target': '25080'},\n",
       " {'origin': 'CLM31200', 'target': '49121'},\n",
       " {'origin': 'CLM36791', 'target': '43310'},\n",
       " {'origin': 'CLM63567', 'target': '78039'},\n",
       " {'origin': 'CLM71081', 'target': '5750'},\n",
       " {'origin': 'CLM65413', 'target': '486'},\n",
       " {'origin': 'CLM68774', 'target': '5722'},\n",
       " {'origin': 'CLM72782', 'target': '2536'},\n",
       " {'origin': 'CLM46476', 'target': '2841'},\n",
       " {'origin': 'CLM67047', 'target': '00845'},\n",
       " {'origin': 'CLM74097', 'target': '5722'},\n",
       " {'origin': 'CLM55498', 'target': '71596'},\n",
       " {'origin': 'CLM69419', 'target': '81200'},\n",
       " {'origin': 'CLM40330', 'target': '53200'},\n",
       " {'origin': 'CLM43502', 'target': '5990'},\n",
       " {'origin': 'CLM39287', 'target': '5609'},\n",
       " {'origin': 'CLM40014', 'target': '486'},\n",
       " {'origin': 'CLM60600', 'target': '40290'},\n",
       " {'origin': 'CLM78389', 'target': '24290'},\n",
       " {'origin': 'CLM70222', 'target': '2761'},\n",
       " {'origin': 'CLM60314', 'target': '42731'},\n",
       " {'origin': 'CLM50509', 'target': '2930'},\n",
       " {'origin': 'CLM56082', 'target': '4280'},\n",
       " {'origin': 'CLM62317', 'target': '03849'},\n",
       " {'origin': 'CLM64157', 'target': '42731'},\n",
       " {'origin': 'CLM69951', 'target': '49121'},\n",
       " {'origin': 'CLM68221', 'target': 'V5789'},\n",
       " {'origin': 'CLM45424', 'target': '4414'},\n",
       " {'origin': 'CLM56753', 'target': '44030'},\n",
       " {'origin': 'CLM60944', 'target': '6826'},\n",
       " {'origin': 'CLM44683', 'target': '7260'},\n",
       " {'origin': 'CLM33028', 'target': '56213'},\n",
       " {'origin': 'CLM57371', 'target': '71595'},\n",
       " {'origin': 'CLM62177', 'target': '55090'},\n",
       " {'origin': 'CLM55215', 'target': '5990'},\n",
       " {'origin': 'CLM55939', 'target': '56211'},\n",
       " {'origin': 'CLM62318', 'target': '5750'},\n",
       " {'origin': 'CLM65661', 'target': '53140'},\n",
       " {'origin': 'CLM31928', 'target': '29690'},\n",
       " {'origin': 'CLM58928', 'target': '1977'},\n",
       " {'origin': 'CLM55644', 'target': '5849'},\n",
       " {'origin': 'CLM36872', 'target': '29680'},\n",
       " {'origin': 'CLM42192', 'target': '5990'},\n",
       " {'origin': 'CLM45279', 'target': '42789'},\n",
       " {'origin': 'CLM63755', 'target': '43491'},\n",
       " {'origin': 'CLM64009', 'target': '42732'},\n",
       " {'origin': 'CLM67779', 'target': '71945'},\n",
       " {'origin': 'CLM33620', 'target': '5728'},\n",
       " {'origin': 'CLM37566', 'target': '99674'},\n",
       " {'origin': 'CLM78068', 'target': '5609'},\n",
       " {'origin': 'CLM35891', 'target': '4168'},\n",
       " {'origin': 'CLM35370', 'target': '7336'},\n",
       " {'origin': 'CLM68506', 'target': '1623'},\n",
       " {'origin': 'CLM50318', 'target': 'V5789'},\n",
       " {'origin': 'CLM59122', 'target': '8056'},\n",
       " {'origin': 'CLM38622', 'target': '430'},\n",
       " {'origin': 'CLM46986', 'target': '56081'},\n",
       " {'origin': 'CLM55940', 'target': '78791'},\n",
       " {'origin': 'CLM61924', 'target': '5601'},\n",
       " {'origin': 'CLM80593', 'target': '6259'},\n",
       " {'origin': 'CLM45351', 'target': '57410'},\n",
       " {'origin': 'CLM54409', 'target': '99883'},\n",
       " {'origin': 'CLM47314', 'target': '5185'},\n",
       " {'origin': 'CLM58225', 'target': '42823'},\n",
       " {'origin': 'CLM60723', 'target': '49392'},\n",
       " {'origin': 'CLM47315', 'target': '4280'},\n",
       " {'origin': 'CLM58861', 'target': '7802'},\n",
       " {'origin': 'CLM44684', 'target': '486'},\n",
       " {'origin': 'CLM62579', 'target': '1919'},\n",
       " {'origin': 'CLM39571', 'target': '82009'},\n",
       " {'origin': 'CLM42326', 'target': '486'},\n",
       " {'origin': 'CLM58156', 'target': '28264'},\n",
       " {'origin': 'CLM57516', 'target': 'V5789'},\n",
       " {'origin': 'CLM73313', 'target': '340'},\n",
       " {'origin': 'CLM64158', 'target': '2859'},\n",
       " {'origin': 'CLM34096', 'target': '85221'},\n",
       " {'origin': 'CLM76431', 'target': '78659'},\n",
       " {'origin': 'CLM60473', 'target': '2989'},\n",
       " {'origin': 'CLM50852', 'target': '486'},\n",
       " {'origin': 'CLM45957', 'target': '49322'},\n",
       " {'origin': 'CLM39512', 'target': '43310'},\n",
       " {'origin': 'CLM73680', 'target': '6826'},\n",
       " {'origin': 'CLM37278', 'target': '6823'},\n",
       " {'origin': 'CLM32076', 'target': '25002'},\n",
       " {'origin': 'CLM47889', 'target': '5609'},\n",
       " {'origin': 'CLM65595', 'target': '33520'},\n",
       " {'origin': 'CLM37793', 'target': '41401'},\n",
       " {'origin': 'CLM42669', 'target': '78906'},\n",
       " {'origin': 'CLM57372', 'target': '00845'},\n",
       " {'origin': 'CLM31520', 'target': '4241'},\n",
       " {'origin': 'CLM58862', 'target': '0383'},\n",
       " {'origin': 'CLM64642', 'target': '99604'},\n",
       " {'origin': 'CLM80326', 'target': '1535'},\n",
       " {'origin': 'CLM71334', 'target': '42833'},\n",
       " {'origin': 'CLM53259', 'target': '431'},\n",
       " {'origin': 'CLM64449', 'target': '5070'},\n",
       " {'origin': 'CLM65334', 'target': '51881'},\n",
       " {'origin': 'CLM35892', 'target': '42789'},\n",
       " {'origin': 'CLM56811', 'target': '29570'},\n",
       " {'origin': 'CLM53682', 'target': '0389'},\n",
       " {'origin': 'CLM52517', 'target': '27542'},\n",
       " {'origin': 'CLM39949', 'target': '40391'},\n",
       " {'origin': 'CLM55941', 'target': '5609'},\n",
       " {'origin': 'CLM79897', 'target': '1890'},\n",
       " {'origin': 'CLM46987', 'target': '82322'},\n",
       " {'origin': 'CLM38029', 'target': '41401'},\n",
       " {'origin': 'CLM73817', 'target': '29040'},\n",
       " {'origin': 'CLM76038', 'target': '4019'},\n",
       " {'origin': 'CLM51394', 'target': '5733'},\n",
       " {'origin': 'CLM75485', 'target': '68110'},\n",
       " {'origin': 'CLM46810', 'target': '56081'},\n",
       " {'origin': 'CLM60247', 'target': '25040'},\n",
       " {'origin': 'CLM68362', 'target': '43491'},\n",
       " {'origin': 'CLM43290', 'target': '7837'},\n",
       " {'origin': 'CLM70678', 'target': '485'},\n",
       " {'origin': 'CLM66978', 'target': '0389'},\n",
       " {'origin': 'CLM79794', 'target': '42833'},\n",
       " {'origin': 'CLM49382', 'target': '5070'},\n",
       " {'origin': 'CLM55286', 'target': '60000'},\n",
       " {'origin': 'CLM71278', 'target': '71596'},\n",
       " {'origin': 'CLM53022', 'target': '56211'},\n",
       " {'origin': 'CLM75897', 'target': '41401'},\n",
       " {'origin': 'CLM42670', 'target': '7837'},\n",
       " {'origin': 'CLM41269', 'target': '41401'},\n",
       " {'origin': 'CLM73752', 'target': 'V5789'},\n",
       " {'origin': 'CLM76039', 'target': '1623'},\n",
       " {'origin': 'CLM61378', 'target': '68100'},\n",
       " {'origin': 'CLM68222', 'target': '2948'},\n",
       " {'origin': 'CLM79521', 'target': '2181'},\n",
       " {'origin': 'CLM37279', 'target': '92400'},\n",
       " {'origin': 'CLM64010', 'target': '71536'},\n",
       " {'origin': 'CLM38116', 'target': '5990'},\n",
       " {'origin': 'CLM65183', 'target': '56212'},\n",
       " {'origin': 'CLM50584', 'target': '42731'},\n",
       " {'origin': 'CLM80162', 'target': '53530'},\n",
       " {'origin': 'CLM31694', 'target': '25062'},\n",
       " {'origin': 'CLM43238', 'target': '4280'},\n",
       " {'origin': 'CLM46543', 'target': '9679'},\n",
       " {'origin': 'CLM53532', 'target': '42789'},\n",
       " {'origin': 'CLM70291', 'target': '42781'},\n",
       " {'origin': 'CLM47249', 'target': '2113'},\n",
       " {'origin': 'CLM60872', 'target': 'V5789'},\n",
       " {'origin': 'CLM72853', 'target': '42731'},\n",
       " {'origin': 'CLM63878', 'target': '29990'},\n",
       " {'origin': 'CLM35371', 'target': '73313'},\n",
       " {'origin': 'CLM31998', 'target': '44022'},\n",
       " {'origin': 'CLM41473', 'target': '4280'},\n",
       " {'origin': 'CLM41348', 'target': '5110'},\n",
       " {'origin': 'CLM43848', 'target': '56212'},\n",
       " {'origin': 'CLM46040', 'target': '41071'},\n",
       " {'origin': 'CLM55216', 'target': '486'},\n",
       " {'origin': 'CLM42271', 'target': '40491'},\n",
       " {'origin': 'CLM69628', 'target': '56081'},\n",
       " {'origin': 'CLM36233', 'target': '5119'},\n",
       " {'origin': 'CLM61925', 'target': '60001'},\n",
       " {'origin': 'CLM80689', 'target': '78659'},\n",
       " {'origin': 'CLM62051', 'target': '3962'},\n",
       " {'origin': 'CLM64716', 'target': '99859'},\n",
       " {'origin': 'CLM53185', 'target': '42731'},\n",
       " {'origin': 'CLM57567', 'target': '2762'},\n",
       " {'origin': 'CLM67311', 'target': '71535'},\n",
       " {'origin': 'CLM76618', 'target': '71536'},\n",
       " {'origin': 'CLM43239', 'target': '56941'},\n",
       " {'origin': 'CLM36722', 'target': '4580'},\n",
       " {'origin': 'CLM62319', 'target': 'V5789'},\n",
       " {'origin': 'CLM64867', 'target': '0389'},\n",
       " {'origin': 'CLM71851', 'target': '78659'},\n",
       " {'origin': 'CLM31578', 'target': '27651'},\n",
       " {'origin': 'CLM69108', 'target': '78060'},\n",
       " {'origin': 'CLM69350', 'target': '4414'},\n",
       " {'origin': 'CLM69037', 'target': '99642'},\n",
       " {'origin': 'CLM35893', 'target': '6084'},\n",
       " {'origin': 'CLM38117', 'target': '45341'},\n",
       " {'origin': 'CLM35297', 'target': '8082'},\n",
       " {'origin': 'CLM55217', 'target': '9975'},\n",
       " {'origin': 'CLM39429', 'target': '41071'},\n",
       " {'origin': 'CLM41838', 'target': '6826'},\n",
       " {'origin': 'CLM43647', 'target': '78659'},\n",
       " {'origin': 'CLM79847', 'target': '8052'},\n",
       " {'origin': 'CLM69887', 'target': '6822'},\n",
       " {'origin': 'CLM45733', 'target': '42789'},\n",
       " {'origin': 'CLM78747', 'target': '486'},\n",
       " {'origin': 'CLM52594', 'target': '42781'},\n",
       " {'origin': 'CLM65528', 'target': '4416'},\n",
       " {'origin': 'CLM68646', 'target': '41071'},\n",
       " {'origin': 'CLM46747', 'target': '42789'},\n",
       " {'origin': 'CLM49522', 'target': '5609'},\n",
       " {'origin': 'CLM31345', 'target': '56039'},\n",
       " {'origin': 'CLM39572', 'target': '25062'},\n",
       " {'origin': 'CLM63941', 'target': '56212'},\n",
       " {'origin': 'CLM65983', 'target': '5601'},\n",
       " {'origin': 'CLM71467', 'target': '49322'},\n",
       " {'origin': 'CLM55426', 'target': '0389'},\n",
       " {'origin': 'CLM68363', 'target': '6181'},\n",
       " {'origin': 'CLM44685', 'target': '4580'},\n",
       " {'origin': 'CLM70745', 'target': '0389'},\n",
       " {'origin': 'CLM63444', 'target': '4139'},\n",
       " {'origin': 'CLM35144', 'target': '6184'},\n",
       " {'origin': 'CLM66909', 'target': '8241'},\n",
       " {'origin': 'CLM72579', 'target': '03812'},\n",
       " {'origin': 'CLM73386', 'target': '6271'},\n",
       " {'origin': 'CLM43648', 'target': '51884'},\n",
       " {'origin': 'CLM46262', 'target': '3829'},\n",
       " {'origin': 'CLM50035', 'target': '5990'},\n",
       " {'origin': 'CLM55018', 'target': '71531'},\n",
       " {'origin': 'CLM31999', 'target': '49122'},\n",
       " {'origin': 'CLM54539', 'target': '8082'},\n",
       " {'origin': 'CLM36873', 'target': '486'},\n",
       " {'origin': 'CLM72783', 'target': '486'},\n",
       " {'origin': 'CLM59520', 'target': '48242'},\n",
       " {'origin': 'CLM54707', 'target': 'V5789'},\n",
       " {'origin': 'CLM50853', 'target': '5641'},\n",
       " {'origin': 'CLM69564', 'target': '56089'},\n",
       " {'origin': 'CLM71012', 'target': '7802'},\n",
       " {'origin': 'CLM80059', 'target': '41401'},\n",
       " {'origin': 'CLM38691', 'target': '6826'},\n",
       " {'origin': 'CLM44193', 'target': '78791'},\n",
       " {'origin': 'CLM70679', 'target': '56212'},\n",
       " {'origin': 'CLM57568', 'target': '4019'},\n",
       " {'origin': 'CLM78996', 'target': '44023'},\n",
       " {'origin': 'CLM46544', 'target': '41401'},\n",
       " {'origin': 'CLM43240', 'target': '80605'},\n",
       " {'origin': 'CLM58015', 'target': '71536'},\n",
       " {'origin': 'CLM58614', 'target': '78659'},\n",
       " {'origin': 'CLM55366', 'target': 'V5789'},\n",
       " {'origin': 'CLM59048', 'target': '56211'},\n",
       " {'origin': 'CLM71951', 'target': '49121'},\n",
       " {'origin': 'CLM45502', 'target': '5409'},\n",
       " {'origin': 'CLM46812', 'target': '41519'},\n",
       " {'origin': 'CLM59403', 'target': '49121'},\n",
       " {'origin': 'CLM77575', 'target': '29633'},\n",
       " {'origin': 'CLM59327', 'target': '03812'},\n",
       " {'origin': 'CLM78997', 'target': '40391'},\n",
       " {'origin': 'CLM43092', 'target': '7823'},\n",
       " {'origin': 'CLM51532', 'target': '4280'},\n",
       " {'origin': 'CLM69687', 'target': '9221'},\n",
       " {'origin': 'CLM70084', 'target': '4580'},\n",
       " {'origin': 'CLM38473', 'target': '25061'},\n",
       " {'origin': 'CLM44914', 'target': '78650'},\n",
       " {'origin': 'CLM74161', 'target': '4414'},\n",
       " {'origin': 'CLM58929', 'target': '4254'},\n",
       " {'origin': 'CLM56419', 'target': '49392'},\n",
       " {'origin': 'CLM47671', 'target': '71535'},\n",
       " {'origin': 'CLM77915', 'target': '55010'},\n",
       " {'origin': 'CLM47387', 'target': '40291'},\n",
       " {'origin': 'CLM74442', 'target': '5990'},\n",
       " {'origin': 'CLM80111', 'target': '41071'},\n",
       " {'origin': 'CLM60724', 'target': '0380'},\n",
       " {'origin': 'CLM65260', 'target': '56985'},\n",
       " {'origin': 'CLM68085', 'target': '42823'},\n",
       " {'origin': 'CLM63568', 'target': '53140'},\n",
       " {'origin': 'CLM68582', 'target': '3310'},\n",
       " {'origin': 'CLM41923', 'target': '41401'},\n",
       " {'origin': 'CLM71279', 'target': '5990'},\n",
       " {'origin': 'CLM33743', 'target': '42731'},\n",
       " {'origin': 'CLM59123', 'target': '5789'},\n",
       " {'origin': 'CLM58730', 'target': '39891'},\n",
       " {'origin': 'CLM42115', 'target': '82021'},\n",
       " {'origin': 'CLM64088', 'target': '49121'},\n",
       " {'origin': 'CLM41557', 'target': '99662'},\n",
       " {'origin': 'CLM54133', 'target': '0389'},\n",
       " {'origin': 'CLM34627', 'target': '56731'},\n",
       " {'origin': 'CLM39065', 'target': '5712'},\n",
       " {'origin': 'CLM70680', 'target': '78650'},\n",
       " {'origin': 'CLM48939', 'target': '5368'},\n",
       " {'origin': 'CLM49446', 'target': '1629'},\n",
       " {'origin': 'CLM37013', 'target': '25060'},\n",
       " {'origin': 'CLM37889', 'target': '56211'},\n",
       " {'origin': 'CLM48294', 'target': '0388'},\n",
       " {'origin': 'CLM64220', 'target': '51881'},\n",
       " {'origin': 'CLM68647', 'target': '4280'},\n",
       " {'origin': 'CLM80505', 'target': '515'},\n",
       " {'origin': 'CLM41195', 'target': '71596'},\n",
       " {'origin': 'CLM31013', 'target': '5715'},\n",
       " {'origin': 'CLM34868', 'target': '20410'},\n",
       " {'origin': 'CLM38543', 'target': '5722'},\n",
       " {'origin': 'CLM47459', 'target': '56211'},\n",
       " {'origin': 'CLM46869', 'target': '53511'},\n",
       " {'origin': 'CLM73314', 'target': '486'},\n",
       " {'origin': 'CLM65261', 'target': '42843'},\n",
       " {'origin': 'CLM46263', 'target': '42731'},\n",
       " {'origin': 'CLM55143', 'target': '7837'},\n",
       " {'origin': 'CLM38118', 'target': '43491'},\n",
       " {'origin': 'CLM43241', 'target': '49121'},\n",
       " {'origin': 'CLM73172', 'target': '29640'},\n",
       " {'origin': 'CLM44311', 'target': '4280'},\n",
       " {'origin': 'CLM45662', 'target': '41401'},\n",
       " {'origin': 'CLM76619', 'target': '6826'},\n",
       " {'origin': 'CLM72921', 'target': '5070'},\n",
       " {'origin': 'CLM32149', 'target': '2767'},\n",
       " {'origin': 'CLM41270', 'target': '53340'},\n",
       " {'origin': 'CLM67048', 'target': '49121'},\n",
       " {'origin': 'CLM70158', 'target': '6185'},\n",
       " {'origin': 'CLM76040', 'target': '78039'},\n",
       " {'origin': 'CLM44608', 'target': '4359'},\n",
       " {'origin': 'CLM31074', 'target': 'V5878'},\n",
       " {'origin': 'CLM41040', 'target': '5589'},\n",
       " {'origin': 'CLM64377', 'target': '5920'},\n",
       " {'origin': 'CLM79744', 'target': '71531'},\n",
       " {'origin': 'CLM53328', 'target': '40390'},\n",
       " {'origin': 'CLM68775', 'target': '5601'},\n",
       " {'origin': 'CLM57156', 'target': '5789'},\n",
       " {'origin': 'CLM38030', 'target': '55012'},\n",
       " {'origin': 'CLM33471', 'target': '1623'},\n",
       " {'origin': 'CLM76178', 'target': '41401'},\n",
       " {'origin': 'CLM69759', 'target': '71536'},\n",
       " {'origin': 'CLM73244', 'target': '5849'},\n",
       " {'origin': 'CLM64221', 'target': '2761'},\n",
       " {'origin': 'CLM32671', 'target': '8244'},\n",
       " {'origin': 'CLM70681', 'target': '311'},\n",
       " {'origin': 'CLM69178', 'target': '4168'},\n",
       " {'origin': 'CLM55218', 'target': '1983'},\n",
       " {'origin': 'CLM76962', 'target': '5571'},\n",
       " {'origin': 'CLM33394', 'target': '43491'},\n",
       " {'origin': 'CLM47672', 'target': '1983'},\n",
       " {'origin': 'CLM68157', 'target': '5845'},\n",
       " {'origin': 'CLM35894', 'target': '4271'},\n",
       " {'origin': 'CLM42957', 'target': 'V5789'},\n",
       " {'origin': 'CLM43786', 'target': '3379'},\n",
       " {'origin': 'CLM33395', 'target': '78009'},\n",
       " {'origin': 'CLM41271', 'target': '5579'},\n",
       " {'origin': 'CLM50585', 'target': '8246'},\n",
       " {'origin': 'CLM34471', 'target': '486'},\n",
       " {'origin': 'CLM62988', 'target': '85301'},\n",
       " {'origin': 'CLM45066', 'target': '7804'},\n",
       " {'origin': 'CLM78560', 'target': '1749'},\n",
       " {'origin': 'CLM68438', 'target': '72252'},\n",
       " {'origin': 'CLM64089', 'target': '72981'},\n",
       " {'origin': 'CLM69822', 'target': '1625'},\n",
       " {'origin': 'CLM44609', 'target': '2760'},\n",
       " {'origin': 'CLM54870', 'target': '5712'},\n",
       " {'origin': 'CLM79898', 'target': '34982'},\n",
       " {'origin': 'CLM34097', 'target': '2767'},\n",
       " {'origin': 'CLM41840', 'target': 'V5789'},\n",
       " {'origin': 'CLM60474', 'target': '99662'},\n",
       " {'origin': 'CLM64090', 'target': '40391'},\n",
       " {'origin': 'CLM67389', 'target': '4359'},\n",
       " {'origin': 'CLM67390', 'target': '25060'},\n",
       " {'origin': 'CLM32077', 'target': '78720'},\n",
       " {'origin': 'CLM65736', 'target': '7336'},\n",
       " {'origin': 'CLM73511', 'target': '5680'},\n",
       " {'origin': 'CLM59990', 'target': '4552'},\n",
       " {'origin': 'CLM80967', 'target': '41401'},\n",
       " {'origin': 'CLM61440', 'target': '03811'},\n",
       " {'origin': 'CLM41618', 'target': '4359'},\n",
       " {'origin': 'CLM49084', 'target': '7907'},\n",
       " {'origin': 'CLM57295', 'target': '49121'},\n",
       " {'origin': 'CLM75315', 'target': '51884'},\n",
       " {'origin': 'CLM58439', 'target': '78900'},\n",
       " {'origin': 'CLM71665', 'target': '40391'},\n",
       " {'origin': 'CLM61088', 'target': '34120'},\n",
       " {'origin': 'CLM32970', 'target': '4280'},\n",
       " {'origin': 'CLM48295', 'target': '57410'},\n",
       " {'origin': 'CLM51727', 'target': '78650'},\n",
       " {'origin': 'CLM69952', 'target': '33520'},\n",
       " {'origin': 'CLM75432', 'target': '486'},\n",
       " {'origin': 'CLM49159', 'target': 'V7189'},\n",
       " {'origin': 'CLM74505', 'target': '49121'},\n",
       " {'origin': 'CLM35299', 'target': '82101'},\n",
       " {'origin': 'CLM75128', 'target': '486'},\n",
       " {'origin': 'CLM73573', 'target': '5849'},\n",
       " {'origin': 'CLM67780', 'target': '40391'},\n",
       " {'origin': 'CLM39798', 'target': '57430'},\n",
       " {'origin': 'CLM43727', 'target': '2768'},\n",
       " {'origin': 'CLM48803', 'target': '42731'},\n",
       " {'origin': 'CLM38283', 'target': '4280'},\n",
       " {'origin': 'CLM61379', 'target': '43310'},\n",
       " {'origin': 'CLM56812', 'target': '41401'},\n",
       " {'origin': 'CLM80268', 'target': '41401'},\n",
       " {'origin': 'CLM70951', 'target': '5715'},\n",
       " {'origin': 'CLM61016', 'target': '51881'},\n",
       " {'origin': 'CLM64091', 'target': '33811'},\n",
       " {'origin': 'CLM62517', 'target': '42732'},\n",
       " {'origin': 'CLM58091', 'target': '72402'},\n",
       " {'origin': 'CLM46041', 'target': '34590'},\n",
       " {'origin': 'CLM46172', 'target': '49122'},\n",
       " {'origin': 'CLM60119', 'target': '0389'},\n",
       " {'origin': 'CLM35145', 'target': '29620'},\n",
       " {'origin': 'CLM69231', 'target': '71536'},\n",
       " {'origin': 'CLM60049', 'target': '185'},\n",
       " {'origin': 'CLM36939', 'target': '99811'},\n",
       " {'origin': 'CLM36792', 'target': '6826'},\n",
       " {'origin': 'CLM80834', 'target': '5845'},\n",
       " {'origin': 'CLM37087', 'target': '72402'},\n",
       " {'origin': 'CLM78931', 'target': '42823'},\n",
       " {'origin': 'CLM38197', 'target': '42731'},\n",
       " {'origin': 'CLM75433', 'target': '99683'},\n",
       " {'origin': 'CLM52953', 'target': '4359'},\n",
       " {'origin': 'CLM75069', 'target': '43491'},\n",
       " {'origin': 'CLM73960', 'target': '29574'},\n",
       " {'origin': 'CLM80876', 'target': '2761'},\n",
       " {'origin': 'CLM36306', 'target': '311'},\n",
       " {'origin': 'CLM33809', 'target': '5579'},\n",
       " {'origin': 'CLM45139', 'target': '42789'},\n",
       " {'origin': 'CLM77019', 'target': '51881'},\n",
       " {'origin': 'CLM57817', 'target': '41071'},\n",
       " {'origin': 'CLM75898', 'target': '1888'},\n",
       " {'origin': 'CLM75694', 'target': '78096'},\n",
       " {'origin': 'CLM68583', 'target': '5849'},\n",
       " {'origin': 'CLM31307', 'target': '4241'},\n",
       " {'origin': 'CLM43850', 'target': '0389'},\n",
       " {'origin': 'CLM44128', 'target': '29624'},\n",
       " {'origin': 'CLM57157', 'target': '78659'},\n",
       " {'origin': 'CLM63253', 'target': '53011'},\n",
       " {'origin': 'CLM47188', 'target': '4280'},\n",
       " {'origin': 'CLM40095', 'target': '56211'},\n",
       " {'origin': 'CLM69038', 'target': '42833'},\n",
       " {'origin': 'CLM69565', 'target': '2920'},\n",
       " {'origin': 'CLM74329', 'target': '30390'},\n",
       " {'origin': 'CLM47890', 'target': '7802'},\n",
       " {'origin': 'CLM49892', 'target': '4359'},\n",
       " {'origin': 'CLM60873', 'target': '4019'},\n",
       " {'origin': 'CLM71335', 'target': '81201'},\n",
       " {'origin': 'CLM75486', 'target': '5109'},\n",
       " {'origin': 'CLM50586', 'target': '2948'},\n",
       " {'origin': 'CLM55865', 'target': '56949'},\n",
       " {'origin': 'CLM73891', 'target': '72210'},\n",
       " {'origin': 'CLM79194', 'target': '53240'},\n",
       " {'origin': 'CLM37794', 'target': '515'},\n",
       " {'origin': 'CLM61660', 'target': '57430'},\n",
       " {'origin': 'CLM69688', 'target': '55321'},\n",
       " {'origin': 'CLM70027', 'target': '53500'},\n",
       " {'origin': 'CLM56225', 'target': '4239'},\n",
       " {'origin': 'CLM36630', 'target': '2948'},\n",
       " {'origin': 'CLM35684', 'target': '8244'},\n",
       " {'origin': 'CLM56616', 'target': '6822'},\n",
       " {'origin': 'CLM76041', 'target': '70709'},\n",
       " {'origin': 'CLM46988', 'target': '486'},\n",
       " {'origin': 'CLM60390', 'target': '4359'},\n",
       " {'origin': 'CLM35965', 'target': '43491'},\n",
       " {'origin': 'CLM66268', 'target': '1623'},\n",
       " {'origin': 'CLM36027', 'target': '0389'},\n",
       " {'origin': 'CLM47950', 'target': '41091'},\n",
       " {'origin': 'CLM40641', 'target': '20288'},\n",
       " {'origin': 'CLM78515', 'target': '71531'},\n",
       " {'origin': 'CLM54792', 'target': '311'},\n",
       " {'origin': 'CLM75253', 'target': '486'},\n",
       " {'origin': 'CLM47189', 'target': '42823'},\n",
       " {'origin': 'CLM77083', 'target': '2367'},\n",
       " {'origin': 'CLM43164', 'target': '81209'},\n",
       " {'origin': 'CLM60799', 'target': '0389'},\n",
       " {'origin': 'CLM39872', 'target': '5789'},\n",
       " {'origin': 'CLM75960', 'target': '49121'},\n",
       " {'origin': 'CLM57569', 'target': '41071'},\n",
       " {'origin': 'CLM44252', 'target': '5409'},\n",
       " {'origin': 'CLM48515', 'target': '42841'},\n",
       " {'origin': 'CLM74025', 'target': '70715'},\n",
       " {'origin': 'CLM58992', 'target': '99664'},\n",
       " {'origin': 'CLM58993', 'target': '0389'},\n",
       " {'origin': 'CLM62379', 'target': '5849'},\n",
       " {'origin': 'CLM61017', 'target': '5712'},\n",
       " {'origin': 'CLM43436', 'target': '49121'},\n",
       " {'origin': 'CLM35082', 'target': '99668'},\n",
       " {'origin': 'CLM48940', 'target': '5771'},\n",
       " {'origin': 'CLM35458', 'target': '41519'},\n",
       " {'origin': 'CLM52518', 'target': '85220'},\n",
       " {'origin': 'CLM52110', 'target': '486'},\n",
       " {'origin': 'CLM61588', 'target': '78900'},\n",
       " {'origin': 'CLM79796', 'target': '5849'},\n",
       " {'origin': 'CLM46340', 'target': '7802'},\n",
       " {'origin': 'CLM35895', 'target': '41401'},\n",
       " {'origin': 'CLM42116', 'target': '44023'},\n",
       " {'origin': 'CLM50104', 'target': 'V5789'},\n",
       " {'origin': 'CLM70811', 'target': '6826'},\n",
       " {'origin': 'CLM70366', 'target': '0389'},\n",
       " {'origin': 'CLM76179', 'target': '29633'},\n",
       " {'origin': 'CLM49523', 'target': '59971'},\n",
       " {'origin': 'CLM72527', 'target': '99662'},\n",
       " {'origin': 'CLM53822', 'target': '57420'},\n",
       " {'origin': 'CLM58016', 'target': 'V5789'},\n",
       " {'origin': 'CLM60540', 'target': '0389'},\n",
       " {'origin': 'CLM69420', 'target': '25002'},\n",
       " {'origin': 'CLM60184', 'target': '5849'},\n",
       " {'origin': 'CLM77779', 'target': '43310'},\n",
       " {'origin': 'CLM67392', 'target': '41011'},\n",
       " {'origin': 'CLM40096', 'target': '6184'},\n",
       " {'origin': 'CLM71468', 'target': '42823'},\n",
       " {'origin': 'CLM64801', 'target': '5400'},\n",
       " {'origin': 'CLM69351', 'target': '71696'},\n",
       " {'origin': 'CLM42671', 'target': '73313'},\n",
       " {'origin': 'CLM50926', 'target': '42732'},\n",
       " {'origin': 'CLM33029', 'target': '1830'},\n",
       " {'origin': 'CLM38347', 'target': '5528'},\n",
       " {'origin': 'CLM51728', 'target': '99664'},\n",
       " {'origin': 'CLM53461', 'target': '42843'},\n",
       " {'origin': 'CLM38836', 'target': '41071'},\n",
       " {'origin': 'CLM65924', 'target': '5849'},\n",
       " {'origin': 'CLM63569', 'target': '29570'},\n",
       " {'origin': 'CLM62105', 'target': '7245'},\n",
       " {'origin': 'CLM32520', 'target': '7802'},\n",
       " {'origin': 'CLM38692', 'target': '42731'},\n",
       " {'origin': 'CLM57019', 'target': '56212'},\n",
       " {'origin': 'CLM70223', 'target': '56211'},\n",
       " {'origin': 'CLM36234', 'target': 'V5789'},\n",
       " {'origin': 'CLM59200', 'target': '5961'},\n",
       " {'origin': 'CLM31201', 'target': '99664'},\n",
       " {'origin': 'CLM44766', 'target': '1536'},\n",
       " {'origin': 'CLM45068', 'target': '5845'},\n",
       " {'origin': 'CLM64868', 'target': '0380'},\n",
       " {'origin': 'CLM65262', 'target': '27651'},\n",
       " {'origin': 'CLM49959', 'target': '6826'},\n",
       " {'origin': 'CLM74566', 'target': '99762'},\n",
       " {'origin': 'CLM51473', 'target': '56211'},\n",
       " {'origin': 'CLM67975', 'target': '42731'},\n",
       " {'origin': 'CLM60725', 'target': '56400'},\n",
       " {'origin': 'CLM74216', 'target': '53642'},\n",
       " {'origin': 'CLM67312', 'target': '4280'},\n",
       " {'origin': 'CLM35300', 'target': '55321'},\n",
       " {'origin': 'CLM36552', 'target': '5990'},\n",
       " {'origin': 'CLM31221', 'target': '486'},\n",
       " {'origin': 'CLM65807', 'target': '4271'},\n",
       " {'origin': 'CLM72393', 'target': '25002'},\n",
       " {'origin': 'CLM68709', 'target': '5990'},\n",
       " {'origin': 'CLM48586', 'target': '8243'},\n",
       " {'origin': 'CLM41981', 'target': '1891'},\n",
       " {'origin': 'CLM34022', 'target': '5789'},\n",
       " {'origin': 'CLM36401', 'target': '78659'},\n",
       " {'origin': 'CLM46174', 'target': '42781'},\n",
       " {'origin': 'CLM60391', 'target': '49121'},\n",
       " {'origin': 'CLM32300', 'target': '44021'},\n",
       " {'origin': 'CLM51052', 'target': '5070'},\n",
       " {'origin': 'CLM60726', 'target': '81342'},\n",
       " {'origin': 'CLM39574', 'target': '43491'},\n",
       " {'origin': 'CLM37343', 'target': '7847'},\n",
       " {'origin': 'CLM36402', 'target': '4275'},\n",
       " {'origin': 'CLM42193', 'target': '5849'},\n",
       " {'origin': 'CLM44129', 'target': '78659'},\n",
       " {'origin': 'CLM54194', 'target': '42823'},\n",
       " {'origin': 'CLM33114', 'target': '9999'},\n",
       " {'origin': 'CLM34234', 'target': '20213'},\n",
       " {'origin': 'CLM36631', 'target': '56941'},\n",
       " {'origin': 'CLM73892', 'target': '71536'},\n",
       " {'origin': 'CLM41350', 'target': '60000'},\n",
       " {'origin': 'CLM71723', 'target': '25082'},\n",
       " {'origin': 'CLM62106', 'target': '0088'},\n",
       " {'origin': 'CLM35685', 'target': '00845'},\n",
       " {'origin': 'CLM36403', 'target': '41401'},\n",
       " {'origin': 'CLM64450', 'target': '41011'},\n",
       " {'origin': 'CLM66331', 'target': '8082'},\n",
       " {'origin': 'CLM51322', 'target': '00845'},\n",
       " {'origin': 'CLM35213', 'target': '0389'},\n",
       " {'origin': 'CLM64011', 'target': '515'},\n",
       " {'origin': 'CLM78874', 'target': '71536'},\n",
       " {'origin': 'CLM65662', 'target': '0389'},\n",
       " {'origin': 'CLM42392', 'target': '41401'},\n",
       " {'origin': 'CLM42598', 'target': '2766'},\n",
       " {'origin': 'CLM50376', 'target': '5374'},\n",
       " {'origin': 'CLM74330', 'target': '0389'},\n",
       " {'origin': 'CLM44686', 'target': '56989'},\n",
       " {'origin': 'CLM50779', 'target': '29633'},\n",
       " {'origin': 'CLM64159', 'target': '29532'},\n",
       " {'origin': 'CLM71013', 'target': '96502'},\n",
       " {'origin': 'CLM73449', 'target': '2910'},\n",
       " {'origin': 'CLM43728', 'target': '4401'},\n",
       " {'origin': 'CLM43094', 'target': '78039'},\n",
       " {'origin': 'CLM78390', 'target': '39891'},\n",
       " {'origin': 'CLM37890', 'target': '1579'},\n",
       " {'origin': 'CLM48077', 'target': '4280'},\n",
       " {'origin': 'CLM36165', 'target': '2859'},\n",
       " {'origin': 'CLM77780', 'target': '57480'},\n",
       " {'origin': 'CLM46545', 'target': '486'},\n",
       " {'origin': 'CLM54478', 'target': '42731'},\n",
       " {'origin': 'CLM31579', 'target': '0389'},\n",
       " {'origin': 'CLM31049', 'target': '29570'},\n",
       " {'origin': 'CLM48805', 'target': '60000'},\n",
       " {'origin': 'CLM51593', 'target': '5849'},\n",
       " {'origin': 'CLM70159', 'target': '6185'},\n",
       " {'origin': 'CLM71952', 'target': '486'},\n",
       " {'origin': 'CLM76305', 'target': '4359'},\n",
       " {'origin': 'CLM78748', 'target': '27651'},\n",
       " {'origin': 'CLM58373', 'target': '5119'},\n",
       " {'origin': 'CLM80444', 'target': '2768'},\n",
       " {'origin': 'CLM37088', 'target': '4358'},\n",
       " {'origin': 'CLM49447', 'target': 'V5789'},\n",
       " {'origin': 'CLM69352', 'target': '05319'},\n",
       " {'origin': 'CLM72275', 'target': '41519'},\n",
       " {'origin': 'CLM72394', 'target': '2800'},\n",
       " {'origin': 'CLM79070', 'target': '44021'},\n",
       " {'origin': 'CLM34235', 'target': '43491'},\n",
       " {'origin': 'CLM43650', 'target': '5601'},\n",
       " {'origin': 'CLM47316', 'target': '4558'},\n",
       " {'origin': 'CLM63064', 'target': '49121'},\n",
       " {'origin': 'CLM39514', 'target': '43330'},\n",
       " {'origin': 'CLM38988', 'target': '4111'},\n",
       " {'origin': 'CLM69498', 'target': '4414'},\n",
       " {'origin': 'CLM39873', 'target': '53019'},\n",
       " {'origin': 'CLM69421', 'target': '6826'},\n",
       " {'origin': 'CLM35083', 'target': '27651'},\n",
       " {'origin': 'CLM54065', 'target': '0085'},\n",
       " {'origin': 'CLM70488', 'target': '4280'},\n",
       " {'origin': 'CLM53823', 'target': '0389'},\n",
       " {'origin': 'CLM77964', 'target': '43491'},\n",
       " {'origin': 'CLM74828', 'target': '29181'},\n",
       " {'origin': 'CLM56692', 'target': '42731'},\n",
       " {'origin': 'CLM52240', 'target': '41519'},\n",
       " {'origin': 'CLM62861', 'target': '25080'},\n",
       " {'origin': 'CLM75560', 'target': '41401'},\n",
       " {'origin': 'CLM39139', 'target': '4414'},\n",
       " {'origin': 'CLM54264', 'target': '41401'},\n",
       " {'origin': 'CLM55711', 'target': '1890'},\n",
       " {'origin': 'CLM35586', 'target': '51181'},\n",
       " {'origin': 'CLM61380', 'target': '71536'},\n",
       " {'origin': 'CLM34629', 'target': '5849'},\n",
       " {'origin': 'CLM44915', 'target': '3320'},\n",
       " {'origin': 'CLM61661', 'target': '71589'},\n",
       " {'origin': 'CLM36632', 'target': '71516'},\n",
       " {'origin': 'CLM71597', 'target': '72402'},\n",
       " {'origin': 'CLM48021', 'target': '42823'},\n",
       " {'origin': 'CLM35523', 'target': '25080'},\n",
       " {'origin': 'CLM69291', 'target': '25042'},\n",
       " {'origin': 'CLM61304', 'target': '1430'},\n",
       " {'origin': 'CLM73387', 'target': '71536'},\n",
       " {'origin': 'CLM31853', 'target': '57450'},\n",
       " {'origin': 'CLM67449', 'target': '78659'},\n",
       " {'origin': 'CLM57517', 'target': '40291'},\n",
       " {'origin': 'CLM41351', 'target': '85220'},\n",
       " {'origin': 'CLM52181', 'target': '99931'},\n",
       " {'origin': 'CLM74829', 'target': '3320'},\n",
       " {'origin': 'CLM55287', 'target': '82009'},\n",
       " {'origin': 'CLM75129', 'target': 'V5789'},\n",
       " {'origin': 'CLM71336', 'target': '42731'},\n",
       " {'origin': 'CLM65737', 'target': '25040'},\n",
       " {'origin': 'CLM72216', 'target': '49322'},\n",
       " {'origin': 'CLM78749', 'target': '57410'},\n",
       " {'origin': 'CLM77717', 'target': '5119'},\n",
       " {'origin': 'CLM73754', 'target': '4111'},\n",
       " {'origin': 'CLM70878', 'target': '2189'},\n",
       " {'origin': 'CLM59328', 'target': '78097'},\n",
       " {'origin': 'CLM67313', 'target': '486'},\n",
       " {'origin': 'CLM57079', 'target': 'V5789'},\n",
       " {'origin': 'CLM63690', 'target': '4359'},\n",
       " {'origin': 'CLM71395', 'target': '55321'},\n",
       " {'origin': 'CLM53109', 'target': '42833'},\n",
       " {'origin': 'CLM74273', 'target': '41401'},\n",
       " {'origin': 'CLM47613', 'target': '4241'},\n",
       " {'origin': 'CLM55084', 'target': '49322'},\n",
       " {'origin': 'CLM33180', 'target': '43491'},\n",
       " {'origin': 'CLM80506', 'target': '486'},\n",
       " {'origin': 'CLM49603', 'target': '5849'},\n",
       " {'origin': 'CLM78516', 'target': '71536'},\n",
       " {'origin': 'CLM49604', 'target': '6826'},\n",
       " {'origin': 'CLM37891', 'target': '71535'},\n",
       " {'origin': 'CLM62518', 'target': '0389'},\n",
       " {'origin': 'CLM73755', 'target': '42731'},\n",
       " {'origin': 'CLM54637', 'target': '11284'},\n",
       " {'origin': 'CLM56013', 'target': '41401'},\n",
       " {'origin': 'CLM57020', 'target': '185'},\n",
       " {'origin': 'CLM51323', 'target': '51884'},\n",
       " {'origin': 'CLM62580', 'target': '49122'},\n",
       " {'origin': 'CLM38198', 'target': '72252'},\n",
       " {'origin': 'CLM46615', 'target': '4359'},\n",
       " {'origin': 'CLM69823', 'target': '5849'},\n",
       " {'origin': 'CLM45425', 'target': '7802'},\n",
       " {'origin': 'CLM80269', 'target': '486'},\n",
       " {'origin': 'CLM70292', 'target': '5780'},\n",
       " {'origin': 'CLM44130', 'target': '5770'},\n",
       " {'origin': 'CLM47951', 'target': '40391'},\n",
       " {'origin': 'CLM57296', 'target': '71535'},\n",
       " {'origin': 'CLM31580', 'target': '5761'},\n",
       " {'origin': 'CLM43292', 'target': 'V5789'},\n",
       " {'origin': 'CLM76558', 'target': '4280'},\n",
       " {'origin': 'CLM47735', 'target': 'V5811'},\n",
       " {'origin': 'CLM50661', 'target': '486'},\n",
       " {'origin': 'CLM68908', 'target': '78652'},\n",
       " {'origin': 'CLM32521', 'target': '1625'},\n",
       " {'origin': 'CLM46264', 'target': '99791'},\n",
       " {'origin': 'CLM38623', 'target': '2767'},\n",
       " {'origin': 'CLM32759', 'target': '3962'},\n",
       " {'origin': 'CLM77781', 'target': 'V5789'},\n",
       " {'origin': 'CLM72074', 'target': '9221'},\n",
       " {'origin': 'CLM40097', 'target': '71535'},\n",
       " {'origin': 'CLM60315', 'target': '78939'},\n",
       " {'origin': 'CLM68293', 'target': 'V5789'},\n",
       " {'origin': 'CLM46341', 'target': '43491'},\n",
       " {'origin': 'CLM70682', 'target': '56210'},\n",
       " {'origin': 'CLM69760', 'target': '49121'},\n",
       " {'origin': 'CLM74370', 'target': '99673'},\n",
       " {'origin': 'CLM50172', 'target': '73314'},\n",
       " {'origin': 'CLM53023', 'target': '42833'},\n",
       " {'origin': 'CLM37015', 'target': '73314'},\n",
       " {'origin': 'CLM37420', 'target': '7802'},\n",
       " {'origin': 'CLM73173', 'target': '2800'},\n",
       " {'origin': 'CLM51324', 'target': '29620'},\n",
       " {'origin': 'CLM52038', 'target': '71516'},\n",
       " {'origin': 'CLM38693', 'target': '5990'},\n",
       " {'origin': 'CLM32228', 'target': '486'},\n",
       " {'origin': 'CLM43030', 'target': '82021'},\n",
       " {'origin': 'CLM44396', 'target': '8505'},\n",
       " {'origin': 'CLM57158', 'target': '82101'},\n",
       " {'origin': 'CLM40876', 'target': '29570'},\n",
       " {'origin': 'CLM76729', 'target': '7804'},\n",
       " {'origin': 'CLM79632', 'target': '03842'},\n",
       " {'origin': 'CLM64293', 'target': '4280'},\n",
       " {'origin': 'CLM32585', 'target': '53440'},\n",
       " {'origin': 'CLM46416', 'target': '41071'},\n",
       " {'origin': 'CLM44849', 'target': '2761'},\n",
       " {'origin': 'CLM51129', 'target': 'V5789'},\n",
       " {'origin': 'CLM31412', 'target': '40391'},\n",
       " {'origin': 'CLM33952', 'target': '486'},\n",
       " {'origin': 'CLM43031', 'target': '430'},\n",
       " {'origin': 'CLM67600', 'target': '60001'},\n",
       " {'origin': 'CLM53608', 'target': '2967'},\n",
       " {'origin': 'CLM62989', 'target': '29653'},\n",
       " {'origin': 'CLM51196', 'target': '7802'},\n",
       " {'origin': 'CLM53748', 'target': '44021'},\n",
       " {'origin': 'CLM40481', 'target': '486'},\n",
       " {'origin': 'CLM67515', 'target': '0389'},\n",
       " {'origin': 'CLM31086', 'target': '8054'},\n",
       " {'origin': 'CLM69355', 'target': '4280'},\n",
       " {'origin': 'CLM34630', 'target': '82021'},\n",
       " {'origin': 'CLM48662', 'target': '43491'},\n",
       " {'origin': 'CLM60663', 'target': '71596'},\n",
       " {'origin': 'CLM34869', 'target': '515'},\n",
       " {'origin': 'CLM41982', 'target': '5070'},\n",
       " {'origin': 'CLM53824', 'target': '2859'},\n",
       " {'origin': 'CLM75487', 'target': '5990'},\n",
       " {'origin': 'CLM39575', 'target': '4359'},\n",
       " {'origin': 'CLM74955', 'target': '5849'},\n",
       " {'origin': 'CLM76486', 'target': '57511'},\n",
       " {'origin': 'CLM62449', 'target': '41401'},\n",
       " {'origin': 'CLM32760', 'target': '4111'},\n",
       " {'origin': 'CLM72581', 'target': '41402'},\n",
       " {'origin': 'CLM70683', 'target': '49121'},\n",
       " {'origin': 'CLM42736', 'target': '71536'},\n",
       " {'origin': 'CLM71014', 'target': '25541'},\n",
       " {'origin': 'CLM59201', 'target': '5070'},\n",
       " {'origin': 'CLM31115', 'target': '03849'},\n",
       " {'origin': 'CLM58496', 'target': '71103'},\n",
       " {'origin': 'CLM71724', 'target': '33385'},\n",
       " {'origin': 'CLM77020', 'target': '48283'},\n",
       " {'origin': 'CLM80445', 'target': '33818'},\n",
       " {'origin': 'CLM80877', 'target': '5990'},\n",
       " {'origin': 'CLM51197', 'target': '29632'},\n",
       " {'origin': 'CLM42194', 'target': '49322'},\n",
       " {'origin': 'CLM55367', 'target': '5849'},\n",
       " {'origin': 'CLM67516', 'target': '5921'},\n",
       " {'origin': 'CLM50445', 'target': '71536'},\n",
       " {'origin': 'CLM72017', 'target': '486'},\n",
       " {'origin': 'CLM74687', 'target': '00845'},\n",
       " {'origin': 'CLM79565', 'target': '33394'},\n",
       " {'origin': 'CLM79128', 'target': '25002'},\n",
       " {'origin': 'CLM67976', 'target': '78650'},\n",
       " {'origin': 'CLM47537', 'target': '2767'},\n",
       " {'origin': 'CLM56878', 'target': '486'},\n",
       " {'origin': 'CLM41924', 'target': '56983'},\n",
       " {'origin': 'CLM51869', 'target': '29574'},\n",
       " {'origin': 'CLM33810', 'target': '5990'},\n",
       " {'origin': 'CLM35084', 'target': '29570'},\n",
       " {'origin': 'CLM71725', 'target': '2761'},\n",
       " {'origin': 'CLM34236', 'target': '48241'},\n",
       " {'origin': 'CLM49762', 'target': '0389'},\n",
       " {'origin': 'CLM57080', 'target': '5849'},\n",
       " {'origin': 'CLM33326', 'target': '5990'},\n",
       " {'origin': 'CLM43572', 'target': '6826'},\n",
       " {'origin': 'CLM58554', 'target': '29574'},\n",
       " {'origin': 'CLM73098', 'target': '4413'},\n",
       " {'origin': 'CLM80328', 'target': '29040'},\n",
       " {'origin': 'CLM65663', 'target': '43491'},\n",
       " {'origin': 'CLM45579', 'target': '1536'},\n",
       " {'origin': 'CLM52111', 'target': '28522'},\n",
       " {'origin': 'CLM45140', 'target': '7336'},\n",
       " {'origin': 'CLM46175', 'target': '53240'},\n",
       " {'origin': 'CLM39140', 'target': '9694'},\n",
       " {'origin': 'CLM50780', 'target': '3383'},\n",
       " {'origin': 'CLM51474', 'target': '78900'},\n",
       " {'origin': 'CLM80210', 'target': '49121'},\n",
       " ...]"
      ]
     },
     "execution_count": 30,
     "metadata": {},
     "output_type": "execute_result"
    }
   ],
   "source": [
    "rels"
   ]
  },
  {
   "cell_type": "code",
   "execution_count": 31,
   "id": "618006d2",
   "metadata": {},
   "outputs": [],
   "source": [
    "query = \"\"\"\n",
    "    CALL apoc.periodic.iterate(\n",
    "    'UNWIND $rels AS rel\n",
    "    MATCH (e1:Claim {idx: rel.origin})\n",
    "    MATCH (e2:Diagnosis {Type: rel.target}) \n",
    "    MERGE (e1)-[m:HAS_DIAGNOSIS]->(e2) RETURN m', \n",
    "    'WITH m RETURN count(m)',\n",
    "    {batchSize:100, parallel:false, params: {rels:$rels}})\n",
    "    \"\"\""
   ]
  },
  {
   "cell_type": "code",
   "execution_count": 32,
   "id": "fc450579",
   "metadata": {},
   "outputs": [],
   "source": [
    "i=0\n",
    "while i < len(df_long):\n",
    "    db.run(query, {\"rels\":rels[i:i+5000]}).to_table()\n",
    "    i=i+5000"
   ]
  },
  {
   "cell_type": "markdown",
   "id": "bcc29e37",
   "metadata": {},
   "source": [
    "## Procedure Node: "
   ]
  },
  {
   "cell_type": "code",
   "execution_count": 23,
   "id": "14de34d2",
   "metadata": {},
   "outputs": [],
   "source": [
    "P1=list(df_all['ClmProcedureCode_1'].unique())\n",
    "P2=list(df_all['ClmProcedureCode_2'].unique())\n",
    "P3=list(df_all['ClmProcedureCode_3'].unique())\n",
    "P4=list(df_all['ClmProcedureCode_4'].unique())\n",
    "P5=list(df_all['ClmProcedureCode_5'].unique())\n",
    "P6=list(df_all['ClmProcedureCode_6'].unique())\n",
    "P=P1+P2+P3+P4+P5+P6\n",
    "P=set(P)"
   ]
  },
  {
   "cell_type": "code",
   "execution_count": 31,
   "id": "7910b888",
   "metadata": {},
   "outputs": [],
   "source": [
    "P=list(P)\n",
    "P = [x for x in P if str(x) != 'nan']"
   ]
  },
  {
   "cell_type": "code",
   "execution_count": 51,
   "id": "7ae87f65",
   "metadata": {},
   "outputs": [],
   "source": [
    "ps = [{\"Procedure\": int(x),\n",
    "     \"idx\" : i} for (i,x) in enumerate(P)]"
   ]
  },
  {
   "cell_type": "code",
   "execution_count": 42,
   "id": "b70455b4",
   "metadata": {},
   "outputs": [],
   "source": [
    "query=\"\"\"CREATE CONSTRAINT ON (n:Procedure) ASSERT n.idx IS UNIQUE\"\"\""
   ]
  },
  {
   "cell_type": "code",
   "execution_count": null,
   "id": "3e9769e9",
   "metadata": {},
   "outputs": [],
   "source": [
    "db.run(query)"
   ]
  },
  {
   "cell_type": "code",
   "execution_count": 52,
   "id": "beeb57a1",
   "metadata": {},
   "outputs": [
    {
     "data": {
      "text/html": [
       "(No data)"
      ],
      "text/plain": [
       "(No data)"
      ]
     },
     "execution_count": 52,
     "metadata": {},
     "output_type": "execute_result"
    }
   ],
   "source": [
    "query = \"\"\"\n",
    "    UNWIND $ps AS p\n",
    "    MERGE (b:Procedure {idx: p.idx, Type: p.Procedure})\n",
    "        \"\"\"\n",
    "db.run(query, {\"ps\":ps})"
   ]
  },
  {
   "cell_type": "markdown",
   "id": "bf03fe63",
   "metadata": {},
   "source": [
    "## (Claim)-[:HAS_PROCEDURE]->(Procedure)"
   ]
  },
  {
   "cell_type": "code",
   "execution_count": 54,
   "id": "25162c1f",
   "metadata": {},
   "outputs": [
    {
     "data": {
      "text/plain": [
       "Index(['BeneID', 'ClaimID', 'ClaimStartDt', 'ClaimEndDt', 'Provider',\n",
       "       'InscClaimAmtReimbursed', 'AttendingPhysician', 'OperatingPhysician',\n",
       "       'OtherPhysician', 'AdmissionDt', 'ClmAdmitDiagnosisCode',\n",
       "       'DeductibleAmtPaid', 'DischargeDt', 'DiagnosisGroupCode',\n",
       "       'ClmDiagnosisCode_1', 'ClmDiagnosisCode_2', 'ClmDiagnosisCode_3',\n",
       "       'ClmDiagnosisCode_4', 'ClmDiagnosisCode_5', 'ClmDiagnosisCode_6',\n",
       "       'ClmDiagnosisCode_7', 'ClmDiagnosisCode_8', 'ClmDiagnosisCode_9',\n",
       "       'ClmDiagnosisCode_10', 'ClmProcedureCode_1', 'ClmProcedureCode_2',\n",
       "       'ClmProcedureCode_3', 'ClmProcedureCode_4', 'ClmProcedureCode_5',\n",
       "       'ClmProcedureCode_6', 'type'],\n",
       "      dtype='object')"
      ]
     },
     "execution_count": 54,
     "metadata": {},
     "output_type": "execute_result"
    }
   ],
   "source": [
    "df_all.columns"
   ]
  },
  {
   "cell_type": "code",
   "execution_count": 55,
   "id": "1a35a727",
   "metadata": {},
   "outputs": [],
   "source": [
    "df_long = pd.melt(df_all, id_vars='ClaimID', value_vars=['ClmProcedureCode_1', 'ClmProcedureCode_2','ClmProcedureCode_3', \n",
    "                                                         'ClmProcedureCode_4', 'ClmProcedureCode_5', 'ClmProcedureCode_6'])\n"
   ]
  },
  {
   "cell_type": "code",
   "execution_count": 57,
   "id": "c3d7a870",
   "metadata": {},
   "outputs": [],
   "source": [
    "df_long=df_long[~df_long['value'].isna()]"
   ]
  },
  {
   "cell_type": "code",
   "execution_count": 61,
   "id": "137f3ed2",
   "metadata": {},
   "outputs": [
    {
     "name": "stderr",
     "output_type": "stream",
     "text": [
      "C:\\Users\\LENOVO\\AppData\\Local\\Temp/ipykernel_15200/3093055725.py:1: SettingWithCopyWarning: \n",
      "A value is trying to be set on a copy of a slice from a DataFrame.\n",
      "Try using .loc[row_indexer,col_indexer] = value instead\n",
      "\n",
      "See the caveats in the documentation: https://pandas.pydata.org/pandas-docs/stable/user_guide/indexing.html#returning-a-view-versus-a-copy\n",
      "  df_long['value']=df_long[[\"value\"]].astype(int)\n"
     ]
    }
   ],
   "source": [
    "df_long['value']=df_long[[\"value\"]].astype(int)"
   ]
  },
  {
   "cell_type": "code",
   "execution_count": 63,
   "id": "d2bf6a92",
   "metadata": {},
   "outputs": [],
   "source": [
    "df_long=df_long[['ClaimID', 'value']]"
   ]
  },
  {
   "cell_type": "code",
   "execution_count": 64,
   "id": "1d86d4ed",
   "metadata": {},
   "outputs": [
    {
     "data": {
      "text/html": [
       "<div>\n",
       "<style scoped>\n",
       "    .dataframe tbody tr th:only-of-type {\n",
       "        vertical-align: middle;\n",
       "    }\n",
       "\n",
       "    .dataframe tbody tr th {\n",
       "        vertical-align: top;\n",
       "    }\n",
       "\n",
       "    .dataframe thead th {\n",
       "        text-align: right;\n",
       "    }\n",
       "</style>\n",
       "<table border=\"1\" class=\"dataframe\">\n",
       "  <thead>\n",
       "    <tr style=\"text-align: right;\">\n",
       "      <th></th>\n",
       "      <th>ClaimID</th>\n",
       "      <th>value</th>\n",
       "    </tr>\n",
       "  </thead>\n",
       "  <tbody>\n",
       "    <tr>\n",
       "      <th>1</th>\n",
       "      <td>CLM66048</td>\n",
       "      <td>7092</td>\n",
       "    </tr>\n",
       "    <tr>\n",
       "      <th>3</th>\n",
       "      <td>CLM38412</td>\n",
       "      <td>331</td>\n",
       "    </tr>\n",
       "    <tr>\n",
       "      <th>4</th>\n",
       "      <td>CLM63689</td>\n",
       "      <td>3893</td>\n",
       "    </tr>\n",
       "    <tr>\n",
       "      <th>5</th>\n",
       "      <td>CLM70950</td>\n",
       "      <td>863</td>\n",
       "    </tr>\n",
       "    <tr>\n",
       "      <th>6</th>\n",
       "      <td>CLM32075</td>\n",
       "      <td>4576</td>\n",
       "    </tr>\n",
       "    <tr>\n",
       "      <th>...</th>\n",
       "      <td>...</td>\n",
       "      <td>...</td>\n",
       "    </tr>\n",
       "    <tr>\n",
       "      <th>2244735</th>\n",
       "      <td>CLM57034</td>\n",
       "      <td>4139</td>\n",
       "    </tr>\n",
       "    <tr>\n",
       "      <th>2248529</th>\n",
       "      <td>CLM31205</td>\n",
       "      <td>4139</td>\n",
       "    </tr>\n",
       "    <tr>\n",
       "      <th>2259630</th>\n",
       "      <td>CLM36917</td>\n",
       "      <td>9971</td>\n",
       "    </tr>\n",
       "    <tr>\n",
       "      <th>2260412</th>\n",
       "      <td>CLM56135</td>\n",
       "      <td>2724</td>\n",
       "    </tr>\n",
       "    <tr>\n",
       "      <th>2265928</th>\n",
       "      <td>CLM33376</td>\n",
       "      <td>9982</td>\n",
       "    </tr>\n",
       "  </tbody>\n",
       "</table>\n",
       "<p>29896 rows × 2 columns</p>\n",
       "</div>"
      ],
      "text/plain": [
       "          ClaimID  value\n",
       "1        CLM66048   7092\n",
       "3        CLM38412    331\n",
       "4        CLM63689   3893\n",
       "5        CLM70950    863\n",
       "6        CLM32075   4576\n",
       "...           ...    ...\n",
       "2244735  CLM57034   4139\n",
       "2248529  CLM31205   4139\n",
       "2259630  CLM36917   9971\n",
       "2260412  CLM56135   2724\n",
       "2265928  CLM33376   9982\n",
       "\n",
       "[29896 rows x 2 columns]"
      ]
     },
     "execution_count": 64,
     "metadata": {},
     "output_type": "execute_result"
    }
   ],
   "source": [
    "df_long"
   ]
  },
  {
   "cell_type": "code",
   "execution_count": 65,
   "id": "8e5b3531",
   "metadata": {},
   "outputs": [],
   "source": [
    "grp=df_long[['ClaimID','value']]"
   ]
  },
  {
   "cell_type": "code",
   "execution_count": 66,
   "id": "ac11422f",
   "metadata": {},
   "outputs": [],
   "source": [
    "rels = [{'origin': x[1]['ClaimID'],\n",
    "       'target':  x[1]['value']} for x in grp.iterrows()]"
   ]
  },
  {
   "cell_type": "code",
   "execution_count": 67,
   "id": "c8ce239a",
   "metadata": {},
   "outputs": [
    {
     "data": {
      "text/plain": [
       "[{'origin': 'CLM66048', 'target': 7092},\n",
       " {'origin': 'CLM38412', 'target': 331},\n",
       " {'origin': 'CLM63689', 'target': 3893},\n",
       " {'origin': 'CLM70950', 'target': 863},\n",
       " {'origin': 'CLM32075', 'target': 4576},\n",
       " {'origin': 'CLM62376', 'target': 9904},\n",
       " {'origin': 'CLM31519', 'target': 3612},\n",
       " {'origin': 'CLM57949', 'target': 9672},\n",
       " {'origin': 'CLM65412', 'target': 9904},\n",
       " {'origin': 'CLM78682', 'target': 9671},\n",
       " {'origin': 'CLM57153', 'target': 7935},\n",
       " {'origin': 'CLM57077', 'target': 3893},\n",
       " {'origin': 'CLM61587', 'target': 8801},\n",
       " {'origin': 'CLM36789', 'target': 3995},\n",
       " {'origin': 'CLM41414', 'target': 66},\n",
       " {'origin': 'CLM75192', 'target': 9904},\n",
       " {'origin': 'CLM80966', 'target': 8872},\n",
       " {'origin': 'CLM60118', 'target': 8151},\n",
       " {'origin': 'CLM56288', 'target': 6029},\n",
       " {'origin': 'CLM63127', 'target': 9469},\n",
       " {'origin': 'CLM42596', 'target': 4311},\n",
       " {'origin': 'CLM35816', 'target': 66},\n",
       " {'origin': 'CLM32146', 'target': 3950},\n",
       " {'origin': 'CLM82202', 'target': 3950},\n",
       " {'origin': 'CLM58670', 'target': 9904},\n",
       " {'origin': 'CLM46868', 'target': 3324},\n",
       " {'origin': 'CLM44765', 'target': 5749},\n",
       " {'origin': 'CLM34789', 'target': 7935},\n",
       " {'origin': 'CLM70810', 'target': 3491},\n",
       " {'origin': 'CLM70221', 'target': 3533},\n",
       " {'origin': 'CLM74096', 'target': 3950},\n",
       " {'origin': 'CLM78513', 'target': 8154},\n",
       " {'origin': 'CLM36482', 'target': 9672},\n",
       " {'origin': 'CLM73312', 'target': 8872},\n",
       " {'origin': 'CLM57950', 'target': 8345},\n",
       " {'origin': 'CLM38541', 'target': 3812},\n",
       " {'origin': 'CLM33543', 'target': 4516},\n",
       " {'origin': 'CLM45818', 'target': 66},\n",
       " {'origin': 'CLM66977', 'target': 3949},\n",
       " {'origin': 'CLM62377', 'target': 3612},\n",
       " {'origin': 'CLM55364', 'target': 3722},\n",
       " {'origin': 'CLM69177', 'target': 9671},\n",
       " {'origin': 'CLM76836', 'target': 8154},\n",
       " {'origin': 'CLM63877', 'target': 3893},\n",
       " {'origin': 'CLM66617', 'target': 5523},\n",
       " {'origin': 'CLM64576', 'target': 4516},\n",
       " {'origin': 'CLM45888', 'target': 9962},\n",
       " {'origin': 'CLM34317', 'target': 8417},\n",
       " {'origin': 'CLM33807', 'target': 8801},\n",
       " {'origin': 'CLM69949', 'target': 4516},\n",
       " {'origin': 'CLM70156', 'target': 3613},\n",
       " {'origin': 'CLM35020', 'target': 9702},\n",
       " {'origin': 'CLM68437', 'target': 9464},\n",
       " {'origin': 'CLM76616', 'target': 3491},\n",
       " {'origin': 'CLM79476', 'target': 3761},\n",
       " {'origin': 'CLM36790', 'target': 1733},\n",
       " {'origin': 'CLM39427', 'target': 124},\n",
       " {'origin': 'CLM50583', 'target': 66},\n",
       " {'origin': 'CLM51126', 'target': 7931},\n",
       " {'origin': 'CLM35369', 'target': 9463},\n",
       " {'origin': 'CLM47187', 'target': 8154},\n",
       " {'origin': 'CLM68505', 'target': 8944},\n",
       " {'origin': 'CLM32758', 'target': 9921},\n",
       " {'origin': 'CLM35817', 'target': 9904},\n",
       " {'origin': 'CLM76176', 'target': 3893},\n",
       " {'origin': 'CLM38986', 'target': 4516},\n",
       " {'origin': 'CLM51127', 'target': 4513},\n",
       " {'origin': 'CLM41267', 'target': 7765},\n",
       " {'origin': 'CLM80551', 'target': 8801},\n",
       " {'origin': 'CLM57154', 'target': 4525},\n",
       " {'origin': 'CLM38195', 'target': 8181},\n",
       " {'origin': 'CLM75628', 'target': 8876},\n",
       " {'origin': 'CLM32147', 'target': 5011},\n",
       " {'origin': 'CLM66768', 'target': 66},\n",
       " {'origin': 'CLM39722', 'target': 8154},\n",
       " {'origin': 'CLM33252', 'target': 3320},\n",
       " {'origin': 'CLM39428', 'target': 3533},\n",
       " {'origin': 'CLM41980', 'target': 6029},\n",
       " {'origin': 'CLM65594', 'target': 5110},\n",
       " {'origin': 'CLM64007', 'target': 9671},\n",
       " {'origin': 'CLM42886', 'target': 9607},\n",
       " {'origin': 'CLM76177', 'target': 5110},\n",
       " {'origin': 'CLM50507', 'target': 3249},\n",
       " {'origin': 'CLM72919', 'target': 3893},\n",
       " {'origin': 'CLM72578', 'target': 8151},\n",
       " {'origin': 'CLM51050', 'target': 7936},\n",
       " {'origin': 'CLM60388', 'target': 5123},\n",
       " {'origin': 'CLM50508', 'target': 71},\n",
       " {'origin': 'CLM60798', 'target': 3893},\n",
       " {'origin': 'CLM70744', 'target': 3241},\n",
       " {'origin': 'CLM38345', 'target': 9904},\n",
       " {'origin': 'CLM43847', 'target': 6816},\n",
       " {'origin': 'CLM63512', 'target': 4516},\n",
       " {'origin': 'CLM36938', 'target': 9904},\n",
       " {'origin': 'CLM66908', 'target': 3772},\n",
       " {'origin': 'CLM76557', 'target': 17},\n",
       " {'origin': 'CLM77848', 'target': 5187},\n",
       " {'origin': 'CLM68156', 'target': 493},\n",
       " {'origin': 'CLM36097', 'target': 3995},\n",
       " {'origin': 'CLM35742', 'target': 3613},\n",
       " {'origin': 'CLM53258', 'target': 8154},\n",
       " {'origin': 'CLM56553', 'target': 370},\n",
       " {'origin': 'CLM58438', 'target': 3893},\n",
       " {'origin': 'CLM68360', 'target': 4525},\n",
       " {'origin': 'CLM60722', 'target': 598},\n",
       " {'origin': 'CLM69950', 'target': 4516},\n",
       " {'origin': 'CLM75693', 'target': 66},\n",
       " {'origin': 'CLM49012', 'target': 5551},\n",
       " {'origin': 'CLM34718', 'target': 4516},\n",
       " {'origin': 'CLM42458', 'target': 3613},\n",
       " {'origin': 'CLM31577', 'target': 8154},\n",
       " {'origin': 'CLM55643', 'target': 9921},\n",
       " {'origin': 'CLM73448', 'target': 4523},\n",
       " {'origin': 'CLM31851', 'target': 331},\n",
       " {'origin': 'CLM65923', 'target': 3995},\n",
       " {'origin': 'CLM69418', 'target': 6029},\n",
       " {'origin': 'CLM39137', 'target': 4513},\n",
       " {'origin': 'CLM47127', 'target': 3327},\n",
       " {'origin': 'CLM70611', 'target': 3893},\n",
       " {'origin': 'CLM56012', 'target': 3812},\n",
       " {'origin': 'CLM71466', 'target': 3772},\n",
       " {'origin': 'CLM78015', 'target': 8151},\n",
       " {'origin': 'CLM34626', 'target': 3324},\n",
       " {'origin': 'CLM36550', 'target': 4525},\n",
       " {'origin': 'CLM62378', 'target': 8152},\n",
       " {'origin': 'CLM76617', 'target': 5293},\n",
       " {'origin': 'CLM48155', 'target': 5361},\n",
       " {'origin': 'CLM59662', 'target': 9671},\n",
       " {'origin': 'CLM38282', 'target': 17},\n",
       " {'origin': 'CLM56418', 'target': 5641},\n",
       " {'origin': 'CLM51051', 'target': 585},\n",
       " {'origin': 'CLM62986', 'target': 8801},\n",
       " {'origin': 'CLM41555', 'target': 9904},\n",
       " {'origin': 'CLM31200', 'target': 3722},\n",
       " {'origin': 'CLM36791', 'target': 9462},\n",
       " {'origin': 'CLM71081', 'target': 5123},\n",
       " {'origin': 'CLM68774', 'target': 7765},\n",
       " {'origin': 'CLM72782', 'target': 4516},\n",
       " {'origin': 'CLM55498', 'target': 8151},\n",
       " {'origin': 'CLM69419', 'target': 8112},\n",
       " {'origin': 'CLM40330', 'target': 9904},\n",
       " {'origin': 'CLM43502', 'target': 5794},\n",
       " {'origin': 'CLM39287', 'target': 9607},\n",
       " {'origin': 'CLM40014', 'target': 3895},\n",
       " {'origin': 'CLM78389', 'target': 9229},\n",
       " {'origin': 'CLM50509', 'target': 392},\n",
       " {'origin': 'CLM45424', 'target': 3761},\n",
       " {'origin': 'CLM56753', 'target': 3929},\n",
       " {'origin': 'CLM44683', 'target': 8345},\n",
       " {'origin': 'CLM33028', 'target': 4523},\n",
       " {'origin': 'CLM57371', 'target': 8154},\n",
       " {'origin': 'CLM62177', 'target': 5301},\n",
       " {'origin': 'CLM55215', 'target': 9672},\n",
       " {'origin': 'CLM55939', 'target': 4542},\n",
       " {'origin': 'CLM62318', 'target': 5101},\n",
       " {'origin': 'CLM65661', 'target': 4513},\n",
       " {'origin': 'CLM55644', 'target': 9904},\n",
       " {'origin': 'CLM42192', 'target': 3893},\n",
       " {'origin': 'CLM63755', 'target': 881},\n",
       " {'origin': 'CLM33620', 'target': 8751},\n",
       " {'origin': 'CLM78068', 'target': 5361},\n",
       " {'origin': 'CLM68506', 'target': 9925},\n",
       " {'origin': 'CLM38622', 'target': 3972},\n",
       " {'origin': 'CLM61924', 'target': 3893},\n",
       " {'origin': 'CLM80593', 'target': 6849},\n",
       " {'origin': 'CLM45351', 'target': 5123},\n",
       " {'origin': 'CLM54409', 'target': 8622},\n",
       " {'origin': 'CLM47314', 'target': 3995},\n",
       " {'origin': 'CLM58225', 'target': 4516},\n",
       " {'origin': 'CLM60723', 'target': 66},\n",
       " {'origin': 'CLM62579', 'target': 8891},\n",
       " {'origin': 'CLM39571', 'target': 8151},\n",
       " {'origin': 'CLM58156', 'target': 9904},\n",
       " {'origin': 'CLM57516', 'target': 9390},\n",
       " {'origin': 'CLM73313', 'target': 8838},\n",
       " {'origin': 'CLM64158', 'target': 9904},\n",
       " {'origin': 'CLM34096', 'target': 131},\n",
       " {'origin': 'CLM39512', 'target': 3812},\n",
       " {'origin': 'CLM73680', 'target': 8611},\n",
       " {'origin': 'CLM37278', 'target': 9955},\n",
       " {'origin': 'CLM37793', 'target': 3722},\n",
       " {'origin': 'CLM58862', 'target': 5794},\n",
       " {'origin': 'CLM64642', 'target': 3794},\n",
       " {'origin': 'CLM80326', 'target': 4573},\n",
       " {'origin': 'CLM53259', 'target': 7935},\n",
       " {'origin': 'CLM65334', 'target': 9671},\n",
       " {'origin': 'CLM53682', 'target': 9904},\n",
       " {'origin': 'CLM52517', 'target': 4311},\n",
       " {'origin': 'CLM39949', 'target': 5493},\n",
       " {'origin': 'CLM55941', 'target': 387},\n",
       " {'origin': 'CLM79897', 'target': 688},\n",
       " {'origin': 'CLM38029', 'target': 3613},\n",
       " {'origin': 'CLM51394', 'target': 5491},\n",
       " {'origin': 'CLM46810', 'target': 5459},\n",
       " {'origin': 'CLM66978', 'target': 5185},\n",
       " {'origin': 'CLM55286', 'target': 6029},\n",
       " {'origin': 'CLM71278', 'target': 8154},\n",
       " {'origin': 'CLM53022', 'target': 4311},\n",
       " {'origin': 'CLM75897', 'target': 3722},\n",
       " {'origin': 'CLM42670', 'target': 4516},\n",
       " {'origin': 'CLM41269', 'target': 66},\n",
       " {'origin': 'CLM76039', 'target': 4610},\n",
       " {'origin': 'CLM61378', 'target': 8622},\n",
       " {'origin': 'CLM68222', 'target': 9444},\n",
       " {'origin': 'CLM79521', 'target': 6859},\n",
       " {'origin': 'CLM64010', 'target': 8154},\n",
       " {'origin': 'CLM50584', 'target': 9961},\n",
       " {'origin': 'CLM80162', 'target': 4525},\n",
       " {'origin': 'CLM46543', 'target': 9672},\n",
       " {'origin': 'CLM53532', 'target': 8872},\n",
       " {'origin': 'CLM70291', 'target': 3783},\n",
       " {'origin': 'CLM47249', 'target': 4576},\n",
       " {'origin': 'CLM35371', 'target': 8893},\n",
       " {'origin': 'CLM31998', 'target': 3950},\n",
       " {'origin': 'CLM43848', 'target': 4513},\n",
       " {'origin': 'CLM69628', 'target': 5451},\n",
       " {'origin': 'CLM36233', 'target': 3491},\n",
       " {'origin': 'CLM61925', 'target': 6029},\n",
       " {'origin': 'CLM62051', 'target': 3521},\n",
       " {'origin': 'CLM64716', 'target': 8622},\n",
       " {'origin': 'CLM57567', 'target': 3995},\n",
       " {'origin': 'CLM67311', 'target': 8154},\n",
       " {'origin': 'CLM76618', 'target': 8154},\n",
       " {'origin': 'CLM43239', 'target': 4525},\n",
       " {'origin': 'CLM31578', 'target': 8774},\n",
       " {'origin': 'CLM69350', 'target': 3979},\n",
       " {'origin': 'CLM69037', 'target': 82},\n",
       " {'origin': 'CLM55217', 'target': 5523},\n",
       " {'origin': 'CLM43647', 'target': 8944},\n",
       " {'origin': 'CLM79847', 'target': 8165},\n",
       " {'origin': 'CLM78747', 'target': 3995},\n",
       " {'origin': 'CLM52594', 'target': 3781},\n",
       " {'origin': 'CLM65528', 'target': 3712},\n",
       " {'origin': 'CLM68646', 'target': 66},\n",
       " {'origin': 'CLM46747', 'target': 3783},\n",
       " {'origin': 'CLM31345', 'target': 5491},\n",
       " {'origin': 'CLM63941', 'target': 4525},\n",
       " {'origin': 'CLM71467', 'target': 3723},\n",
       " {'origin': 'CLM55426', 'target': 9904},\n",
       " {'origin': 'CLM68363', 'target': 6859},\n",
       " {'origin': 'CLM70745', 'target': 9604},\n",
       " {'origin': 'CLM35144', 'target': 6549},\n",
       " {'origin': 'CLM66909', 'target': 7931},\n",
       " {'origin': 'CLM55018', 'target': 8180},\n",
       " {'origin': 'CLM31999', 'target': 9390},\n",
       " {'origin': 'CLM59520', 'target': 9904},\n",
       " {'origin': 'CLM54707', 'target': 9339},\n",
       " {'origin': 'CLM70679', 'target': 4576},\n",
       " {'origin': 'CLM78996', 'target': 3929},\n",
       " {'origin': 'CLM46544', 'target': 9904},\n",
       " {'origin': 'CLM43240', 'target': 339},\n",
       " {'origin': 'CLM58015', 'target': 8151},\n",
       " {'origin': 'CLM55366', 'target': 3893},\n",
       " {'origin': 'CLM45502', 'target': 5459},\n",
       " {'origin': 'CLM46812', 'target': 3893},\n",
       " {'origin': 'CLM59403', 'target': 3783},\n",
       " {'origin': 'CLM59327', 'target': 3995},\n",
       " {'origin': 'CLM78997', 'target': 3927},\n",
       " {'origin': 'CLM43092', 'target': 8872},\n",
       " {'origin': 'CLM69687', 'target': 881},\n",
       " {'origin': 'CLM44914', 'target': 8941},\n",
       " {'origin': 'CLM74161', 'target': 3971},\n",
       " {'origin': 'CLM47671', 'target': 8154},\n",
       " {'origin': 'CLM77915', 'target': 5305},\n",
       " {'origin': 'CLM80111', 'target': 66},\n",
       " {'origin': 'CLM60724', 'target': 503},\n",
       " {'origin': 'CLM65260', 'target': 4443},\n",
       " {'origin': 'CLM68085', 'target': 9671},\n",
       " {'origin': 'CLM63568', 'target': 4516},\n",
       " {'origin': 'CLM41923', 'target': 66},\n",
       " {'origin': 'CLM71279', 'target': 9904},\n",
       " {'origin': 'CLM59123', 'target': 4513},\n",
       " {'origin': 'CLM58730', 'target': 391},\n",
       " {'origin': 'CLM42115', 'target': 7915},\n",
       " {'origin': 'CLM41557', 'target': 9390},\n",
       " {'origin': 'CLM34627', 'target': 5491},\n",
       " {'origin': 'CLM39065', 'target': 4233},\n",
       " {'origin': 'CLM37013', 'target': 3812},\n",
       " {'origin': 'CLM48294', 'target': 9672},\n",
       " {'origin': 'CLM41195', 'target': 8154},\n",
       " {'origin': 'CLM31013', 'target': 391},\n",
       " {'origin': 'CLM34868', 'target': 8871},\n",
       " {'origin': 'CLM46869', 'target': 4443},\n",
       " {'origin': 'CLM65261', 'target': 3722},\n",
       " {'origin': 'CLM46263', 'target': 4513},\n",
       " {'origin': 'CLM73172', 'target': 9435},\n",
       " {'origin': 'CLM44311', 'target': 3893},\n",
       " {'origin': 'CLM45662', 'target': 3971},\n",
       " {'origin': 'CLM76619', 'target': 9907},\n",
       " {'origin': 'CLM72921', 'target': 9671},\n",
       " {'origin': 'CLM32149', 'target': 9339},\n",
       " {'origin': 'CLM70158', 'target': 6859},\n",
       " {'origin': 'CLM76040', 'target': 3899},\n",
       " {'origin': 'CLM44608', 'target': 8891},\n",
       " {'origin': 'CLM31074', 'target': 8628},\n",
       " {'origin': 'CLM64377', 'target': 5732},\n",
       " {'origin': 'CLM79744', 'target': 8180},\n",
       " {'origin': 'CLM53328', 'target': 3995},\n",
       " {'origin': 'CLM68775', 'target': 4685},\n",
       " {'origin': 'CLM57156', 'target': 311},\n",
       " {'origin': 'CLM38030', 'target': 5304},\n",
       " {'origin': 'CLM76178', 'target': 66},\n",
       " {'origin': 'CLM69759', 'target': 8154},\n",
       " {'origin': 'CLM73244', 'target': 3995},\n",
       " {'origin': 'CLM32671', 'target': 7931},\n",
       " {'origin': 'CLM55218', 'target': 9226},\n",
       " {'origin': 'CLM76962', 'target': 4516},\n",
       " {'origin': 'CLM47672', 'target': 9904},\n",
       " {'origin': 'CLM68157', 'target': 598},\n",
       " {'origin': 'CLM42957', 'target': 8339},\n",
       " {'origin': 'CLM43786', 'target': 392},\n",
       " {'origin': 'CLM41271', 'target': 4942},\n",
       " {'origin': 'CLM50585', 'target': 8166},\n",
       " {'origin': 'CLM78560', 'target': 8541},\n",
       " {'origin': 'CLM68438', 'target': 8108},\n",
       " {'origin': 'CLM64089', 'target': 3995},\n",
       " {'origin': 'CLM34097', 'target': 3995},\n",
       " {'origin': 'CLM41840', 'target': 9339},\n",
       " {'origin': 'CLM60474', 'target': 9904},\n",
       " {'origin': 'CLM64090', 'target': 5569},\n",
       " {'origin': 'CLM67389', 'target': 4516},\n",
       " {'origin': 'CLM67390', 'target': 8891},\n",
       " {'origin': 'CLM32077', 'target': 4516},\n",
       " {'origin': 'CLM59990', 'target': 9904},\n",
       " {'origin': 'CLM80967', 'target': 8856},\n",
       " {'origin': 'CLM61440', 'target': 3893},\n",
       " {'origin': 'CLM41618', 'target': 8872},\n",
       " {'origin': 'CLM49084', 'target': 3950},\n",
       " {'origin': 'CLM75315', 'target': 9604},\n",
       " {'origin': 'CLM71665', 'target': 5059},\n",
       " {'origin': 'CLM61088', 'target': 8411},\n",
       " {'origin': 'CLM48295', 'target': 5123},\n",
       " {'origin': 'CLM69952', 'target': 8411},\n",
       " {'origin': 'CLM49159', 'target': 9705},\n",
       " {'origin': 'CLM67780', 'target': 3927},\n",
       " {'origin': 'CLM39798', 'target': 8622},\n",
       " {'origin': 'CLM48803', 'target': 3893},\n",
       " {'origin': 'CLM61379', 'target': 3812},\n",
       " {'origin': 'CLM56812', 'target': 66},\n",
       " {'origin': 'CLM80268', 'target': 3734},\n",
       " {'origin': 'CLM70951', 'target': 5491},\n",
       " {'origin': 'CLM61016', 'target': 9671},\n",
       " {'origin': 'CLM64091', 'target': 9904},\n",
       " {'origin': 'CLM58091', 'target': 4292},\n",
       " {'origin': 'CLM60119', 'target': 9672},\n",
       " {'origin': 'CLM69231', 'target': 8154},\n",
       " {'origin': 'CLM60049', 'target': 605},\n",
       " {'origin': 'CLM36939', 'target': 4543},\n",
       " {'origin': 'CLM36792', 'target': 8604},\n",
       " {'origin': 'CLM37087', 'target': 8108},\n",
       " {'origin': 'CLM78931', 'target': 3895},\n",
       " {'origin': 'CLM75433', 'target': 3971},\n",
       " {'origin': 'CLM75069', 'target': 8872},\n",
       " {'origin': 'CLM80876', 'target': 3491},\n",
       " {'origin': 'CLM36306', 'target': 3995},\n",
       " {'origin': 'CLM33809', 'target': 4576},\n",
       " {'origin': 'CLM77019', 'target': 9671},\n",
       " {'origin': 'CLM31307', 'target': 3521},\n",
       " {'origin': 'CLM43850', 'target': 8604},\n",
       " {'origin': 'CLM69565', 'target': 9465},\n",
       " {'origin': 'CLM74329', 'target': 9462},\n",
       " {'origin': 'CLM60873', 'target': 8741},\n",
       " {'origin': 'CLM71335', 'target': 8111},\n",
       " {'origin': 'CLM75486', 'target': 3491},\n",
       " {'origin': 'CLM55865', 'target': 8801},\n",
       " {'origin': 'CLM73891', 'target': 8135},\n",
       " {'origin': 'CLM79194', 'target': 4516},\n",
       " {'origin': 'CLM61660', 'target': 5122},\n",
       " {'origin': 'CLM69688', 'target': 5351},\n",
       " {'origin': 'CLM56225', 'target': 3761},\n",
       " {'origin': 'CLM35684', 'target': 7936},\n",
       " {'origin': 'CLM76041', 'target': 8622},\n",
       " {'origin': 'CLM66268', 'target': 3241},\n",
       " {'origin': 'CLM36027', 'target': 9672},\n",
       " {'origin': 'CLM40641', 'target': 9904},\n",
       " {'origin': 'CLM78515', 'target': 8180},\n",
       " {'origin': 'CLM54792', 'target': 9425},\n",
       " {'origin': 'CLM75253', 'target': 3491},\n",
       " {'origin': 'CLM77083', 'target': 5749},\n",
       " {'origin': 'CLM60799', 'target': 8954},\n",
       " {'origin': 'CLM57569', 'target': 3783},\n",
       " {'origin': 'CLM44252', 'target': 4701},\n",
       " {'origin': 'CLM74025', 'target': 3995},\n",
       " {'origin': 'CLM62379', 'target': 4311},\n",
       " {'origin': 'CLM61017', 'target': 5491},\n",
       " {'origin': 'CLM35082', 'target': 8604},\n",
       " {'origin': 'CLM48940', 'target': 5123},\n",
       " {'origin': 'CLM52518', 'target': 131},\n",
       " {'origin': 'CLM52110', 'target': 4576},\n",
       " {'origin': 'CLM35895', 'target': 66},\n",
       " {'origin': 'CLM42116', 'target': 3950},\n",
       " {'origin': 'CLM50104', 'target': 9339},\n",
       " {'origin': 'CLM70366', 'target': 8905},\n",
       " {'origin': 'CLM72527', 'target': 8628},\n",
       " {'origin': 'CLM53822', 'target': 3893},\n",
       " {'origin': 'CLM58016', 'target': 8622},\n",
       " {'origin': 'CLM60540', 'target': 5411},\n",
       " {'origin': 'CLM69420', 'target': 4525},\n",
       " {'origin': 'CLM60184', 'target': 3895},\n",
       " {'origin': 'CLM77779', 'target': 3812},\n",
       " {'origin': 'CLM67392', 'target': 4573},\n",
       " {'origin': 'CLM40096', 'target': 6849},\n",
       " {'origin': 'CLM71468', 'target': 3734},\n",
       " {'origin': 'CLM64801', 'target': 5459},\n",
       " {'origin': 'CLM69351', 'target': 8154},\n",
       " {'origin': 'CLM42671', 'target': 7939},\n",
       " {'origin': 'CLM33029', 'target': 5459},\n",
       " {'origin': 'CLM38347', 'target': 4574},\n",
       " {'origin': 'CLM38836', 'target': 9920},\n",
       " {'origin': 'CLM59200', 'target': 3927},\n",
       " {'origin': 'CLM31201', 'target': 3995},\n",
       " {'origin': 'CLM44766', 'target': 4573},\n",
       " {'origin': 'CLM45068', 'target': 9915},\n",
       " {'origin': 'CLM64868', 'target': 3893},\n",
       " {'origin': 'CLM49959', 'target': 8622},\n",
       " {'origin': 'CLM74566', 'target': 8415},\n",
       " {'origin': 'CLM51473', 'target': 1736},\n",
       " {'origin': 'CLM60725', 'target': 3995},\n",
       " {'origin': 'CLM74216', 'target': 4523},\n",
       " {'origin': 'CLM35300', 'target': 5361},\n",
       " {'origin': 'CLM65807', 'target': 3893},\n",
       " {'origin': 'CLM48586', 'target': 7937},\n",
       " {'origin': 'CLM41981', 'target': 5551},\n",
       " {'origin': 'CLM34022', 'target': 9904},\n",
       " {'origin': 'CLM46174', 'target': 3613},\n",
       " {'origin': 'CLM32300', 'target': 3950},\n",
       " {'origin': 'CLM51052', 'target': 9904},\n",
       " {'origin': 'CLM37343', 'target': 2101},\n",
       " {'origin': 'CLM36402', 'target': 311},\n",
       " {'origin': 'CLM44129', 'target': 4513},\n",
       " {'origin': 'CLM54194', 'target': 8872},\n",
       " {'origin': 'CLM33114', 'target': 3995},\n",
       " {'origin': 'CLM34234', 'target': 415},\n",
       " {'origin': 'CLM36631', 'target': 9607},\n",
       " {'origin': 'CLM73892', 'target': 8154},\n",
       " {'origin': 'CLM41350', 'target': 6029},\n",
       " {'origin': 'CLM71723', 'target': 3893},\n",
       " {'origin': 'CLM62106', 'target': 3893},\n",
       " {'origin': 'CLM36403', 'target': 3612},\n",
       " {'origin': 'CLM64450', 'target': 3699},\n",
       " {'origin': 'CLM51322', 'target': 5491},\n",
       " {'origin': 'CLM35213', 'target': 5187},\n",
       " {'origin': 'CLM78874', 'target': 8151},\n",
       " {'origin': 'CLM42392', 'target': 3611},\n",
       " {'origin': 'CLM50376', 'target': 4438},\n",
       " {'origin': 'CLM44686', 'target': 4525},\n",
       " {'origin': 'CLM73449', 'target': 9462},\n",
       " {'origin': 'CLM43728', 'target': 3950},\n",
       " {'origin': 'CLM78390', 'target': 8945},\n",
       " {'origin': 'CLM36165', 'target': 9904},\n",
       " {'origin': 'CLM77780', 'target': 5123},\n",
       " {'origin': 'CLM54478', 'target': 4516},\n",
       " {'origin': 'CLM31579', 'target': 5184},\n",
       " {'origin': 'CLM31049', 'target': 5011},\n",
       " {'origin': 'CLM48805', 'target': 6021},\n",
       " {'origin': 'CLM51593', 'target': 3995},\n",
       " {'origin': 'CLM70159', 'target': 7171},\n",
       " {'origin': 'CLM49447', 'target': 9339},\n",
       " {'origin': 'CLM69352', 'target': 9204},\n",
       " {'origin': 'CLM72275', 'target': 8321},\n",
       " {'origin': 'CLM72394', 'target': 9904},\n",
       " {'origin': 'CLM79070', 'target': 3761},\n",
       " {'origin': 'CLM34235', 'target': 8891},\n",
       " {'origin': 'CLM39514', 'target': 3812},\n",
       " {'origin': 'CLM38988', 'target': 8944},\n",
       " {'origin': 'CLM69498', 'target': 3971},\n",
       " {'origin': 'CLM39873', 'target': 4516},\n",
       " {'origin': 'CLM35083', 'target': 9904},\n",
       " {'origin': 'CLM53823', 'target': 3893},\n",
       " {'origin': 'CLM74828', 'target': 3893},\n",
       " {'origin': 'CLM56692', 'target': 4516},\n",
       " {'origin': 'CLM52240', 'target': 8965},\n",
       " {'origin': 'CLM39139', 'target': 3712},\n",
       " {'origin': 'CLM54264', 'target': 3521},\n",
       " {'origin': 'CLM55711', 'target': 554},\n",
       " {'origin': 'CLM35586', 'target': 3899},\n",
       " {'origin': 'CLM61380', 'target': 8154},\n",
       " {'origin': 'CLM61661', 'target': 8154},\n",
       " {'origin': 'CLM36632', 'target': 8154},\n",
       " {'origin': 'CLM71597', 'target': 8107},\n",
       " {'origin': 'CLM48021', 'target': 8659},\n",
       " {'origin': 'CLM35523', 'target': 3995},\n",
       " {'origin': 'CLM61304', 'target': 214},\n",
       " {'origin': 'CLM73387', 'target': 8152},\n",
       " {'origin': 'CLM31853', 'target': 8944},\n",
       " {'origin': 'CLM41351', 'target': 131},\n",
       " {'origin': 'CLM74829', 'target': 131},\n",
       " {'origin': 'CLM55287', 'target': 7935},\n",
       " {'origin': 'CLM75129', 'target': 9339},\n",
       " {'origin': 'CLM78749', 'target': 5123},\n",
       " {'origin': 'CLM77717', 'target': 3491},\n",
       " {'origin': 'CLM73754', 'target': 3722},\n",
       " {'origin': 'CLM70878', 'target': 6563},\n",
       " {'origin': 'CLM71395', 'target': 5459},\n",
       " {'origin': 'CLM74273', 'target': 66},\n",
       " {'origin': 'CLM49603', 'target': 8607},\n",
       " {'origin': 'CLM78516', 'target': 8152},\n",
       " {'origin': 'CLM49604', 'target': 9339},\n",
       " {'origin': 'CLM37891', 'target': 8154},\n",
       " {'origin': 'CLM62518', 'target': 8872},\n",
       " {'origin': 'CLM73755', 'target': 3723},\n",
       " {'origin': 'CLM54637', 'target': 4513},\n",
       " {'origin': 'CLM57020', 'target': 605},\n",
       " {'origin': 'CLM38198', 'target': 8108},\n",
       " {'origin': 'CLM69823', 'target': 3995},\n",
       " {'origin': 'CLM70292', 'target': 4523},\n",
       " {'origin': 'CLM44130', 'target': 3893},\n",
       " {'origin': 'CLM57296', 'target': 8154},\n",
       " {'origin': 'CLM31580', 'target': 3893},\n",
       " {'origin': 'CLM47735', 'target': 9925},\n",
       " {'origin': 'CLM68908', 'target': 3324},\n",
       " {'origin': 'CLM38623', 'target': 4311},\n",
       " {'origin': 'CLM32759', 'target': 3521},\n",
       " {'origin': 'CLM77781', 'target': 3893},\n",
       " {'origin': 'CLM40097', 'target': 8151},\n",
       " {'origin': 'CLM60315', 'target': 387},\n",
       " {'origin': 'CLM70682', 'target': 4575},\n",
       " {'origin': 'CLM74370', 'target': 3895},\n",
       " {'origin': 'CLM50172', 'target': 8154},\n",
       " {'origin': 'CLM37015', 'target': 7915},\n",
       " {'origin': 'CLM73173', 'target': 9904},\n",
       " {'origin': 'CLM52038', 'target': 8154},\n",
       " {'origin': 'CLM32228', 'target': 8838},\n",
       " {'origin': 'CLM43030', 'target': 7855},\n",
       " {'origin': 'CLM57158', 'target': 7935},\n",
       " {'origin': 'CLM51129', 'target': 9339},\n",
       " {'origin': 'CLM31412', 'target': 9921},\n",
       " {'origin': 'CLM67600', 'target': 5794},\n",
       " {'origin': 'CLM51196', 'target': 8872},\n",
       " {'origin': 'CLM53748', 'target': 3950},\n",
       " {'origin': 'CLM40481', 'target': 9672},\n",
       " {'origin': 'CLM67515', 'target': 9656},\n",
       " {'origin': 'CLM31086', 'target': 7749},\n",
       " {'origin': 'CLM34630', 'target': 7935},\n",
       " {'origin': 'CLM60663', 'target': 8154},\n",
       " {'origin': 'CLM41982', 'target': 9904},\n",
       " {'origin': 'CLM53824', 'target': 4513},\n",
       " {'origin': 'CLM76486', 'target': 5123},\n",
       " {'origin': 'CLM72581', 'target': 66},\n",
       " {'origin': 'CLM70683', 'target': 3326},\n",
       " {'origin': 'CLM42736', 'target': 8154},\n",
       " {'origin': 'CLM31115', 'target': 3893},\n",
       " {'origin': 'CLM58496', 'target': 8191},\n",
       " {'origin': 'CLM71724', 'target': 9904},\n",
       " {'origin': 'CLM77020', 'target': 8949},\n",
       " {'origin': 'CLM42194', 'target': 9904},\n",
       " {'origin': 'CLM50445', 'target': 8154},\n",
       " {'origin': 'CLM79565', 'target': 8841},\n",
       " {'origin': 'CLM41924', 'target': 4576},\n",
       " {'origin': 'CLM33810', 'target': 9929},\n",
       " {'origin': 'CLM34236', 'target': 8872},\n",
       " {'origin': 'CLM49762', 'target': 9390},\n",
       " {'origin': 'CLM57080', 'target': 8605},\n",
       " {'origin': 'CLM33326', 'target': 4516},\n",
       " {'origin': 'CLM73098', 'target': 3844},\n",
       " {'origin': 'CLM65663', 'target': 8919},\n",
       " {'origin': 'CLM45579', 'target': 1733},\n",
       " {'origin': 'CLM45140', 'target': 9396},\n",
       " {'origin': 'CLM46175', 'target': 4516},\n",
       " {'origin': 'CLM39140', 'target': 3995},\n",
       " {'origin': 'CLM77917', 'target': 66},\n",
       " {'origin': 'CLM48296', 'target': 8151},\n",
       " {'origin': 'CLM36404', 'target': 8669},\n",
       " {'origin': 'CLM66910', 'target': 66},\n",
       " {'origin': 'CLM78070', 'target': 3722},\n",
       " {'origin': 'CLM67667', 'target': 7935},\n",
       " {'origin': 'CLM75375', 'target': 66},\n",
       " {'origin': 'CLM78875', 'target': 66},\n",
       " {'origin': 'CLM41196', 'target': 4516},\n",
       " {'origin': 'CLM65414', 'target': 34},\n",
       " {'origin': 'CLM67450', 'target': 3613},\n",
       " {'origin': 'CLM76433', 'target': 7935},\n",
       " {'origin': 'CLM63942', 'target': 4311},\n",
       " {'origin': 'CLM47816', 'target': 3794},\n",
       " {'origin': 'CLM36235', 'target': 3949},\n",
       " {'origin': 'CLM75899', 'target': 3723},\n",
       " {'origin': 'CLM72395', 'target': 9339},\n",
       " {'origin': 'CLM36028', 'target': 8108},\n",
       " {'origin': 'CLM55428', 'target': 9955},\n",
       " {'origin': 'CLM57952', 'target': 309},\n",
       " {'origin': 'CLM45204', 'target': 4516},\n",
       " {'origin': 'CLM36553', 'target': 3950},\n",
       " {'origin': 'CLM45734', 'target': 570},\n",
       " {'origin': 'CLM52892', 'target': 9671},\n",
       " {'origin': 'CLM53463', 'target': 8604},\n",
       " {'origin': 'CLM66049', 'target': 9339},\n",
       " {'origin': 'CLM32301', 'target': 3612},\n",
       " {'origin': 'CLM50511', 'target': 9390},\n",
       " {'origin': 'CLM66478', 'target': 4542},\n",
       " {'origin': 'CLM71015', 'target': 9904},\n",
       " {'origin': 'CLM77021', 'target': 9918},\n",
       " {'origin': 'CLM35587', 'target': 8622},\n",
       " {'origin': 'CLM35896', 'target': 3324},\n",
       " {'origin': 'CLM40967', 'target': 9702},\n",
       " {'origin': 'CLM47318', 'target': 5303},\n",
       " {'origin': 'CLM73174', 'target': 5459},\n",
       " {'origin': 'CLM43573', 'target': 9904},\n",
       " {'origin': 'CLM75376', 'target': 3995},\n",
       " {'origin': 'CLM40968', 'target': 4869},\n",
       " {'origin': 'CLM43574', 'target': 5749},\n",
       " {'origin': 'CLM59269', 'target': 598},\n",
       " {'origin': 'CLM42117', 'target': 4516},\n",
       " {'origin': 'CLM48297', 'target': 8122},\n",
       " {'origin': 'CLM78391', 'target': 8703},\n",
       " {'origin': 'CLM72217', 'target': 5188},\n",
       " {'origin': 'CLM63622', 'target': 8703},\n",
       " {'origin': 'CLM38120', 'target': 387},\n",
       " {'origin': 'CLM44312', 'target': 3491},\n",
       " {'origin': 'CLM77637', 'target': 9904},\n",
       " {'origin': 'CLM50512', 'target': 3491},\n",
       " {'origin': 'CLM65665', 'target': 8154},\n",
       " {'origin': 'CLM61234', 'target': 5123},\n",
       " {'origin': 'CLM74217', 'target': 9604},\n",
       " {'origin': 'CLM66479', 'target': 309},\n",
       " {'origin': 'CLM63319', 'target': 9921},\n",
       " {'origin': 'CLM46681', 'target': 9390},\n",
       " {'origin': 'CLM59050', 'target': 124},\n",
       " {'origin': 'CLM62450', 'target': 3995},\n",
       " {'origin': 'CLM62990', 'target': 9904},\n",
       " {'origin': 'CLM32150', 'target': 9672},\n",
       " {'origin': 'CLM42672', 'target': 9604},\n",
       " {'origin': 'CLM42673', 'target': 3893},\n",
       " {'origin': 'CLM48156', 'target': 7932},\n",
       " {'origin': 'CLM78932', 'target': 9905},\n",
       " {'origin': 'CLM59203', 'target': 9671},\n",
       " {'origin': 'CLM42958', 'target': 4516},\n",
       " {'origin': 'CLM64802', 'target': 7915},\n",
       " {'origin': 'CLM36874', 'target': 9462},\n",
       " {'origin': 'CLM65263', 'target': 8154},\n",
       " {'origin': 'CLM54134', 'target': 3403},\n",
       " {'origin': 'CLM32151', 'target': 9671},\n",
       " {'origin': 'CLM73099', 'target': 8154},\n",
       " {'origin': 'CLM58671', 'target': 3723},\n",
       " {'origin': 'CLM55368', 'target': 8604},\n",
       " {'origin': 'CLM48941', 'target': 9671},\n",
       " {'origin': 'CLM53329', 'target': 8872},\n",
       " {'origin': 'CLM58931', 'target': 3995},\n",
       " {'origin': 'CLM72018', 'target': 8165},\n",
       " {'origin': 'CLM74218', 'target': 7915},\n",
       " {'origin': 'CLM39647', 'target': 8801},\n",
       " {'origin': 'CLM36940', 'target': 3722},\n",
       " {'origin': 'CLM37089', 'target': 4516},\n",
       " {'origin': 'CLM56617', 'target': 66},\n",
       " {'origin': 'CLM48732', 'target': 3772},\n",
       " {'origin': 'CLM52241', 'target': 3898},\n",
       " {'origin': 'CLM74371', 'target': 5491},\n",
       " {'origin': 'CLM40406', 'target': 9390},\n",
       " {'origin': 'CLM66912', 'target': 66},\n",
       " {'origin': 'CLM78812', 'target': 3995},\n",
       " {'origin': 'CLM58672', 'target': 9904},\n",
       " {'origin': 'CLM53260', 'target': 9672},\n",
       " {'origin': 'CLM66113', 'target': 7902},\n",
       " {'origin': 'CLM75377', 'target': 7925},\n",
       " {'origin': 'CLM61851', 'target': 3893},\n",
       " {'origin': 'CLM35744', 'target': 3324},\n",
       " {'origin': 'CLM37211', 'target': 1454},\n",
       " {'origin': 'CLM73100', 'target': 3722},\n",
       " {'origin': 'CLM43357', 'target': 8154},\n",
       " {'origin': 'CLM51594', 'target': 8622},\n",
       " {'origin': 'CLM78448', 'target': 5459},\n",
       " {'origin': 'CLM51258', 'target': 3893},\n",
       " {'origin': 'CLM73819', 'target': 9904},\n",
       " {'origin': 'CLM34395', 'target': 9705},\n",
       " {'origin': 'CLM49448', 'target': 8151},\n",
       " {'origin': 'CLM55645', 'target': 4701},\n",
       " {'origin': 'CLM79633', 'target': 9921},\n",
       " {'origin': 'CLM51325', 'target': 4516},\n",
       " {'origin': 'CLM61441', 'target': 3893},\n",
       " {'origin': 'CLM65071', 'target': 9961},\n",
       " {'origin': 'CLM54708', 'target': 3893},\n",
       " {'origin': 'CLM70293', 'target': 5794},\n",
       " {'origin': 'CLM78750', 'target': 3894},\n",
       " {'origin': 'CLM78325', 'target': 4513},\n",
       " {'origin': 'CLM31695', 'target': 3995},\n",
       " {'origin': 'CLM33953', 'target': 8703},\n",
       " {'origin': 'CLM71083', 'target': 8192},\n",
       " {'origin': 'CLM54410', 'target': 4233},\n",
       " {'origin': 'CLM43928', 'target': 7915},\n",
       " {'origin': 'CLM66618', 'target': 4023},\n",
       " {'origin': 'CLM76621', 'target': 4513},\n",
       " {'origin': 'CLM78134', 'target': 9955},\n",
       " {'origin': 'CLM38624', 'target': 66},\n",
       " {'origin': 'CLM51259', 'target': 7748},\n",
       " {'origin': 'CLM61515', 'target': 3722},\n",
       " {'origin': 'CLM68648', 'target': 3772},\n",
       " {'origin': 'CLM79129', 'target': 576},\n",
       " {'origin': 'CLM61791', 'target': 8309},\n",
       " {'origin': 'CLM43437', 'target': 66},\n",
       " {'origin': 'CLM41558', 'target': 9671},\n",
       " {'origin': 'CLM38920', 'target': 4571},\n",
       " {'origin': 'CLM41620', 'target': 9904},\n",
       " {'origin': 'CLM41117', 'target': 3950},\n",
       " {'origin': 'CLM52387', 'target': 5122},\n",
       " {'origin': 'CLM53981', 'target': 8801},\n",
       " {'origin': 'CLM31637', 'target': 9904},\n",
       " {'origin': 'CLM59329', 'target': 1733},\n",
       " {'origin': 'CLM49687', 'target': 4561},\n",
       " {'origin': 'CLM35687', 'target': 3522},\n",
       " {'origin': 'CLM40727', 'target': 9904},\n",
       " {'origin': 'CLM77516', 'target': 8411},\n",
       " {'origin': 'CLM34023', 'target': 3615},\n",
       " {'origin': 'CLM56618', 'target': 5793},\n",
       " {'origin': 'CLM62178', 'target': 3722},\n",
       " {'origin': 'CLM78561', 'target': 3893},\n",
       " {'origin': 'CLM77918', 'target': 387},\n",
       " {'origin': 'CLM61926', 'target': 3772},\n",
       " {'origin': 'CLM53902', 'target': 8605},\n",
       " {'origin': 'CLM65666', 'target': 8605},\n",
       " {'origin': 'CLM69567', 'target': 4311},\n",
       " {'origin': 'CLM41352', 'target': 8872},\n",
       " {'origin': 'CLM72786', 'target': 3893},\n",
       " {'origin': 'CLM32971', 'target': 4523},\n",
       " {'origin': 'CLM44474', 'target': 311},\n",
       " {'origin': 'CLM56945', 'target': 8744},\n",
       " {'origin': 'CLM45352', 'target': 3950},\n",
       " {'origin': 'CLM53110', 'target': 5717},\n",
       " {'origin': 'CLM34551', 'target': 9205},\n",
       " {'origin': 'CLM31379', 'target': 9394},\n",
       " {'origin': 'CLM79072', 'target': 9904},\n",
       " {'origin': 'CLM34791', 'target': 8181},\n",
       " {'origin': 'CLM31930', 'target': 9904},\n",
       " {'origin': 'CLM33328', 'target': 5101},\n",
       " {'origin': 'CLM48368', 'target': 3950},\n",
       " {'origin': 'CLM48516', 'target': 80},\n",
       " {'origin': 'CLM34720', 'target': 3611},\n",
       " {'origin': 'CLM71666', 'target': 8152},\n",
       " {'origin': 'CLM42530', 'target': 9390},\n",
       " {'origin': 'CLM62582', 'target': 5123},\n",
       " {'origin': 'CLM40098', 'target': 3775},\n",
       " {'origin': 'CLM44990', 'target': 9672},\n",
       " {'origin': 'CLM58307', 'target': 4516},\n",
       " {'origin': 'CLM64869', 'target': 3950},\n",
       " {'origin': 'CLM32002', 'target': 8154},\n",
       " {'origin': 'CLM40016', 'target': 4516},\n",
       " {'origin': 'CLM43851', 'target': 8848},\n",
       " {'origin': 'CLM65809', 'target': 3776},\n",
       " {'origin': 'CLM61018', 'target': 66},\n",
       " {'origin': 'CLM38989', 'target': 9444},\n",
       " {'origin': 'CLM51797', 'target': 8703},\n",
       " {'origin': 'CLM76559', 'target': 3722},\n",
       " {'origin': 'CLM72218', 'target': 8154},\n",
       " {'origin': 'CLM70612', 'target': 8872},\n",
       " {'origin': 'CLM70880', 'target': 66},\n",
       " {'origin': 'CLM31032', 'target': 3491},\n",
       " {'origin': 'CLM33683', 'target': 7935},\n",
       " {'origin': 'CLM64378', 'target': 3783},\n",
       " {'origin': 'CLM58673', 'target': 6029},\n",
       " {'origin': 'CLM32386', 'target': 8659},\n",
       " {'origin': 'CLM44768', 'target': 4576},\n",
       " {'origin': 'CLM67781', 'target': 7931},\n",
       " {'origin': 'CLM49960', 'target': 9952},\n",
       " {'origin': 'CLM48733', 'target': 9439},\n",
       " {'origin': 'CLM47953', 'target': 4443},\n",
       " {'origin': 'CLM51130', 'target': 66},\n",
       " {'origin': 'CLM69630', 'target': 7935},\n",
       " {'origin': 'CLM39141', 'target': 2912},\n",
       " {'origin': 'CLM31696', 'target': 331},\n",
       " {'origin': 'CLM41983', 'target': 9904},\n",
       " {'origin': 'CLM35588', 'target': 66},\n",
       " {'origin': 'CLM74764', 'target': 303},\n",
       " {'origin': 'CLM54412', 'target': 7768},\n",
       " {'origin': 'CLM57887', 'target': 4516},\n",
       " {'origin': 'CLM55144', 'target': 8166},\n",
       " {'origin': 'CLM62650', 'target': 4573},\n",
       " {'origin': 'CLM66114', 'target': 9904},\n",
       " {'origin': 'CLM77218', 'target': 4516},\n",
       " {'origin': 'CLM58158', 'target': 4601},\n",
       " {'origin': 'CLM49893', 'target': 9904},\n",
       " {'origin': 'CLM58615', 'target': 4439},\n",
       " {'origin': 'CLM31697', 'target': 66},\n",
       " {'origin': 'CLM42599', 'target': 3995},\n",
       " {'origin': 'CLM46176', 'target': 3722},\n",
       " {'origin': 'CLM38413', 'target': 4516},\n",
       " {'origin': 'CLM52955', 'target': 7915},\n",
       " {'origin': 'CLM32302', 'target': 9465},\n",
       " {'origin': 'CLM47055', 'target': 8741},\n",
       " {'origin': 'CLM50981', 'target': 3521},\n",
       " {'origin': 'CLM31638', 'target': 4023},\n",
       " {'origin': 'CLM56754', 'target': 6859},\n",
       " {'origin': 'CLM44000', 'target': 9390},\n",
       " {'origin': 'CLM31931', 'target': 3142},\n",
       " {'origin': 'CLM35745', 'target': 4443},\n",
       " {'origin': 'CLM31854', 'target': 3891},\n",
       " {'origin': 'CLM35374', 'target': 3797},\n",
       " {'origin': 'CLM68294', 'target': 346},\n",
       " {'origin': 'CLM62382', 'target': 9671},\n",
       " {'origin': 'CLM38991', 'target': 3932},\n",
       " {'origin': 'CLM52317', 'target': 7855},\n",
       " {'origin': 'CLM78449', 'target': 5459},\n",
       " {'origin': 'CLM63376', 'target': 8101},\n",
       " {'origin': 'CLM70087', 'target': 8611},\n",
       " {'origin': 'CLM79690', 'target': 3772},\n",
       " {'origin': 'CLM38200', 'target': 8154},\n",
       " {'origin': 'CLM42195', 'target': 3326},\n",
       " {'origin': 'CLM39066', 'target': 7932},\n",
       " {'origin': 'CLM33684', 'target': 3794},\n",
       " {'origin': 'CLM50513', 'target': 8151},\n",
       " {'origin': 'CLM55288', 'target': 66},\n",
       " {'origin': 'CLM76963', 'target': 9925},\n",
       " {'origin': 'CLM45890', 'target': 4575},\n",
       " {'origin': 'CLM55570', 'target': 8604},\n",
       " {'origin': 'CLM74274', 'target': 3893},\n",
       " {'origin': 'CLM66980', 'target': 8674},\n",
       " {'origin': 'CLM36406', 'target': 66},\n",
       " {'origin': 'CLM57159', 'target': 4573},\n",
       " {'origin': 'CLM74507', 'target': 8891},\n",
       " {'origin': 'CLM44991', 'target': 3893},\n",
       " {'origin': 'CLM72972', 'target': 3783},\n",
       " {'origin': 'CLM33954', 'target': 61},\n",
       " {'origin': 'CLM49237', 'target': 5123},\n",
       " {'origin': 'CLM48439', 'target': 3816},\n",
       " {'origin': 'CLM76838', 'target': 8154},\n",
       " {'origin': 'CLM71792', 'target': 5110},\n",
       " {'origin': 'CLM70952', 'target': 9904},\n",
       " {'origin': 'CLM43165', 'target': 4542},\n",
       " {'origin': 'CLM54067', 'target': 3995},\n",
       " {'origin': 'CLM77153', 'target': 3971},\n",
       " {'origin': 'CLM67125', 'target': 643},\n",
       " {'origin': 'CLM61442', 'target': 8154},\n",
       " {'origin': 'CLM45141', 'target': 7768},\n",
       " {'origin': 'CLM80211', 'target': 7932},\n",
       " {'origin': 'CLM80329', 'target': 8154},\n",
       " {'origin': 'CLM52112', 'target': 3979},\n",
       " {'origin': 'CLM49162', 'target': 9904},\n",
       " {'origin': 'CLM55571', 'target': 4525},\n",
       " {'origin': 'CLM56015', 'target': 4562},\n",
       " {'origin': 'CLM34632', 'target': 9204},\n",
       " {'origin': 'CLM38032', 'target': 6021},\n",
       " {'origin': 'CLM40183', 'target': 8893},\n",
       " {'origin': 'CLM73574', 'target': 66},\n",
       " {'origin': 'CLM60393', 'target': 9390},\n",
       " {'origin': 'CLM54793', 'target': 3821},\n",
       " {'origin': 'CLM44687', 'target': 4341},\n",
       " {'origin': 'CLM58019', 'target': 8893},\n",
       " {'origin': 'CLM72448', 'target': 8154},\n",
       " {'origin': 'CLM35746', 'target': 8154},\n",
       " {'origin': 'CLM67261', 'target': 7817},\n",
       " {'origin': 'CLM44611', 'target': 8154},\n",
       " {'origin': 'CLM51953', 'target': 4292},\n",
       " {'origin': 'CLM47538', 'target': 9390},\n",
       " {'origin': 'CLM50447', 'target': 3404},\n",
       " {'origin': 'CLM71084', 'target': 2079},\n",
       " {'origin': 'CLM37213', 'target': 3612},\n",
       " {'origin': 'CLM57374', 'target': 81},\n",
       " {'origin': 'CLM46177', 'target': 9444},\n",
       " {'origin': 'CLM70489', 'target': 3995},\n",
       " {'origin': 'CLM76622', 'target': 66},\n",
       " {'origin': 'CLM59404', 'target': 9904},\n",
       " {'origin': 'CLM45353', 'target': 9904},\n",
       " {'origin': 'CLM35898', 'target': 4581},\n",
       " {'origin': 'CLM74098', 'target': 3893},\n",
       " {'origin': 'CLM31149', 'target': 6849},\n",
       " {'origin': 'CLM70613', 'target': 3722},\n",
       " {'origin': 'CLM61516', 'target': 70},\n",
       " {'origin': 'CLM74629', 'target': 4513},\n",
       " {'origin': 'CLM54413', 'target': 311},\n",
       " {'origin': 'CLM67393', 'target': 9339},\n",
       " {'origin': 'CLM68584', 'target': 66},\n",
       " {'origin': 'CLM75130', 'target': 7679},\n",
       " {'origin': 'CLM75378', 'target': 2219},\n",
       " {'origin': 'CLM38762', 'target': 331},\n",
       " {'origin': 'CLM46990', 'target': 3327},\n",
       " {'origin': 'CLM64718', 'target': 9904},\n",
       " {'origin': 'CLM37484', 'target': 8154},\n",
       " {'origin': 'CLM38414', 'target': 3893},\n",
       " {'origin': 'CLM50781', 'target': 3995},\n",
       " {'origin': 'CLM47388', 'target': 66},\n",
       " {'origin': 'CLM79691', 'target': 9929},\n",
       " {'origin': 'CLM40274', 'target': 554},\n",
       " {'origin': 'CLM67126', 'target': 71},\n",
       " {'origin': 'CLM53111', 'target': 8627},\n",
       " {'origin': 'CLM49449', 'target': 70},\n",
       " {'origin': 'CLM78392', 'target': 3324},\n",
       " {'origin': 'CLM55866', 'target': 8154},\n",
       " {'origin': 'CLM61091', 'target': 8102},\n",
       " {'origin': 'CLM62918', 'target': 9904},\n",
       " {'origin': 'CLM44065', 'target': 8151},\n",
       " {'origin': 'CLM52113', 'target': 9904},\n",
       " {'origin': 'CLM59862', 'target': 3613},\n",
       " {'origin': 'CLM61793', 'target': 3612},\n",
       " {'origin': 'CLM72528', 'target': 5122},\n",
       " {'origin': 'CLM31463', 'target': 7935},\n",
       " {'origin': 'CLM55794', 'target': 4443},\n",
       " {'origin': 'CLM41926', 'target': 2188},\n",
       " {'origin': 'CLM36875', 'target': 3950},\n",
       " {'origin': 'CLM50105', 'target': 3220},\n",
       " {'origin': 'CLM55219', 'target': 3893},\n",
       " {'origin': 'CLM58308', 'target': 9999},\n",
       " {'origin': 'CLM66619', 'target': 8191},\n",
       " {'origin': 'CLM54709', 'target': 5361},\n",
       " {'origin': 'CLM72220', 'target': 9339},\n",
       " {'origin': 'CLM60874', 'target': 9394},\n",
       " {'origin': 'CLM77290', 'target': 9462},\n",
       " {'origin': 'CLM31855', 'target': 8151},\n",
       " {'origin': 'CLM35214', 'target': 3893},\n",
       " {'origin': 'CLM66050', 'target': 8872},\n",
       " {'origin': 'CLM54266', 'target': 3783},\n",
       " {'origin': 'CLM50514', 'target': 4823},\n",
       " {'origin': 'CLM75193', 'target': 3320},\n",
       " {'origin': 'CLM69888', 'target': 7915},\n",
       " {'origin': 'CLM36554', 'target': 8102},\n",
       " {'origin': 'CLM40643', 'target': 3929},\n",
       " {'origin': 'CLM64643', 'target': 8607},\n",
       " {'origin': 'CLM34552', 'target': 8607},\n",
       " {'origin': 'CLM67920', 'target': 8051},\n",
       " {'origin': 'CLM53261', 'target': 3723},\n",
       " {'origin': 'CLM34950', 'target': 9390},\n",
       " {'origin': 'CLM65738', 'target': 8703},\n",
       " {'origin': 'CLM79692', 'target': 3995},\n",
       " {'origin': 'CLM39723', 'target': 6849},\n",
       " {'origin': 'CLM66115', 'target': 6561},\n",
       " {'origin': 'CLM78393', 'target': 5091},\n",
       " {'origin': 'CLM38123', 'target': 7935},\n",
       " {'origin': 'CLM44313', 'target': 8607},\n",
       " {'origin': 'CLM75488', 'target': 8703},\n",
       " {'origin': 'CLM72276', 'target': 387},\n",
       " {'origin': 'CLM75317', 'target': 5369},\n",
       " {'origin': 'CLM64719', 'target': 8543},\n",
       " {'origin': 'CLM64161', 'target': 3611},\n",
       " {'origin': 'CLM56879', 'target': 741},\n",
       " {'origin': 'CLM47251', 'target': 4516},\n",
       " {'origin': 'CLM68223', 'target': 9339},\n",
       " {'origin': 'CLM52318', 'target': 9339},\n",
       " {'origin': 'CLM62052', 'target': 66},\n",
       " {'origin': 'CLM79479', 'target': 8151},\n",
       " {'origin': 'CLM58309', 'target': 3821},\n",
       " {'origin': 'CLM44917', 'target': 5372},\n",
       " {'origin': 'CLM65415', 'target': 3524},\n",
       " {'origin': 'CLM57453', 'target': 8152},\n",
       " {'origin': 'CLM67977', 'target': 3611},\n",
       " {'origin': 'CLM48078', 'target': 4516},\n",
       " {'origin': 'CLM39142', 'target': 4516},\n",
       " {'origin': 'CLM33032', 'target': 3893},\n",
       " {'origin': 'CLM35525', 'target': 9619},\n",
       " {'origin': 'CLM35747', 'target': 61},\n",
       " {'origin': 'CLM43166', 'target': 8166},\n",
       " {'origin': 'CLM46815', 'target': 3772},\n",
       " {'origin': 'CLM49015', 'target': 3812},\n",
       " {'origin': 'CLM64097', 'target': 3893},\n",
       " {'origin': 'CLM67517', 'target': 4513},\n",
       " {'origin': 'CLM60185', 'target': 5123},\n",
       " {'origin': 'CLM71085', 'target': 715},\n",
       " {'origin': 'CLM42738', 'target': 3995},\n",
       " {'origin': 'CLM60541', 'target': 9751},\n",
       " {'origin': 'CLM54795', 'target': 5011},\n",
       " {'origin': 'CLM80507', 'target': 3324},\n",
       " {'origin': 'CLM54480', 'target': 3722},\n",
       " {'origin': 'CLM52449', 'target': 8151},\n",
       " {'origin': 'CLM38475', 'target': 3220},\n",
       " {'origin': 'CLM39950', 'target': 4573},\n",
       " {'origin': 'CLM61517', 'target': 5503},\n",
       " {'origin': 'CLM67848', 'target': 9671},\n",
       " {'origin': 'CLM32388', 'target': 8152},\n",
       " {'origin': 'CLM72019', 'target': 331},\n",
       " {'origin': 'CLM50587', 'target': 3899},\n",
       " {'origin': 'CLM34238', 'target': 8872},\n",
       " {'origin': 'CLM52242', 'target': 8891},\n",
       " {'origin': 'CLM36555', 'target': 3995},\n",
       " {'origin': 'CLM58020', 'target': 3895},\n",
       " {'origin': 'CLM43296', 'target': 3220},\n",
       " {'origin': 'CLM47539', 'target': 8154},\n",
       " {'origin': 'CLM65597', 'target': 8841},\n",
       " {'origin': 'CLM43095', 'target': 8154},\n",
       " {'origin': 'CLM58932', 'target': 8154},\n",
       " {'origin': 'CLM66481', 'target': 8703},\n",
       " {'origin': 'CLM59663', 'target': 3895},\n",
       " {'origin': 'CLM51198', 'target': 9952},\n",
       " {'origin': 'CLM43651', 'target': 4131},\n",
       " {'origin': 'CLM52243', 'target': 9383},\n",
       " {'origin': 'CLM52810', 'target': 8154},\n",
       " {'origin': 'CLM43441', 'target': 5123},\n",
       " {'origin': 'CLM73575', 'target': 3995},\n",
       " {'origin': 'CLM34099', 'target': 8622},\n",
       " {'origin': 'CLM78019', 'target': 9910},\n",
       " {'origin': 'CLM73683', 'target': 9390},\n",
       " {'origin': 'CLM48663', 'target': 7915},\n",
       " {'origin': 'CLM36030', 'target': 9671},\n",
       " {'origin': 'CLM78135', 'target': 309},\n",
       " {'origin': 'CLM74026', 'target': 3521},\n",
       " {'origin': 'CLM65335', 'target': 5503},\n",
       " {'origin': 'CLM68295', 'target': 66},\n",
       " {'origin': 'CLM38545', 'target': 8154},\n",
       " {'origin': 'CLM48300', 'target': 9671},\n",
       " {'origin': 'CLM61236', 'target': 3614},\n",
       " {'origin': 'CLM41355', 'target': 9904},\n",
       " {'origin': 'CLM45892', 'target': 5794},\n",
       " {'origin': 'CLM54638', 'target': 8675},\n",
       " {'origin': 'CLM68224', 'target': 605},\n",
       " {'origin': 'CLM35021', 'target': 4311},\n",
       " {'origin': 'CLM53904', 'target': 3722},\n",
       " {'origin': 'CLM65336', 'target': 4443},\n",
       " {'origin': 'CLM53187', 'target': 3772},\n",
       " {'origin': 'CLM55371', 'target': 9904},\n",
       " {'origin': 'CLM73685', 'target': 3783},\n",
       " {'origin': 'CLM49086', 'target': 9904},\n",
       " {'origin': 'CLM60053', 'target': 7915},\n",
       " {'origin': 'CLM61443', 'target': 3613},\n",
       " {'origin': 'CLM49607', 'target': 3995},\n",
       " {'origin': 'CLM74163', 'target': 3995},\n",
       " {'origin': 'CLM37718', 'target': 3893},\n",
       " ...]"
      ]
     },
     "execution_count": 67,
     "metadata": {},
     "output_type": "execute_result"
    }
   ],
   "source": [
    "rels"
   ]
  },
  {
   "cell_type": "code",
   "execution_count": 69,
   "id": "3c16f557",
   "metadata": {},
   "outputs": [
    {
     "data": {
      "text/html": [
       "(No data)"
      ],
      "text/plain": [
       "(No data)"
      ]
     },
     "execution_count": 69,
     "metadata": {},
     "output_type": "execute_result"
    }
   ],
   "source": [
    "query = \"\"\"\n",
    "    UNWIND $rels AS rel\n",
    "    MATCH (e1:Claim {idx: rel.origin})\n",
    "    MATCH (e2:Procedure {idx: rel.target}) \n",
    "    MERGE (e1)-[m:HAS_PROCEDURE]->(e2)\"\"\"\n",
    "\n",
    "db.run(query, {\"rels\":rels})"
   ]
  },
  {
   "cell_type": "code",
   "execution_count": 72,
   "id": "921ea7c8",
   "metadata": {},
   "outputs": [
    {
     "data": {
      "text/html": [
       "<div>\n",
       "<style scoped>\n",
       "    .dataframe tbody tr th:only-of-type {\n",
       "        vertical-align: middle;\n",
       "    }\n",
       "\n",
       "    .dataframe tbody tr th {\n",
       "        vertical-align: top;\n",
       "    }\n",
       "\n",
       "    .dataframe thead th {\n",
       "        text-align: right;\n",
       "    }\n",
       "</style>\n",
       "<table border=\"1\" class=\"dataframe\">\n",
       "  <thead>\n",
       "    <tr style=\"text-align: right;\">\n",
       "      <th></th>\n",
       "      <th>BeneID</th>\n",
       "      <th>DOB</th>\n",
       "      <th>DOD</th>\n",
       "      <th>Gender</th>\n",
       "      <th>Race</th>\n",
       "      <th>RenalDiseaseIndicator</th>\n",
       "      <th>State</th>\n",
       "      <th>County</th>\n",
       "      <th>NoOfMonths_PartACov</th>\n",
       "      <th>NoOfMonths_PartBCov</th>\n",
       "      <th>...</th>\n",
       "      <th>ChronicCond_Depression</th>\n",
       "      <th>ChronicCond_Diabetes</th>\n",
       "      <th>ChronicCond_IschemicHeart</th>\n",
       "      <th>ChronicCond_Osteoporasis</th>\n",
       "      <th>ChronicCond_rheumatoidarthritis</th>\n",
       "      <th>ChronicCond_stroke</th>\n",
       "      <th>IPAnnualReimbursementAmt</th>\n",
       "      <th>IPAnnualDeductibleAmt</th>\n",
       "      <th>OPAnnualReimbursementAmt</th>\n",
       "      <th>OPAnnualDeductibleAmt</th>\n",
       "    </tr>\n",
       "  </thead>\n",
       "  <tbody>\n",
       "    <tr>\n",
       "      <th>0</th>\n",
       "      <td>BENE11001</td>\n",
       "      <td>1943-01-01</td>\n",
       "      <td>NaN</td>\n",
       "      <td>1</td>\n",
       "      <td>1</td>\n",
       "      <td>0</td>\n",
       "      <td>39</td>\n",
       "      <td>230</td>\n",
       "      <td>12</td>\n",
       "      <td>12</td>\n",
       "      <td>...</td>\n",
       "      <td>1</td>\n",
       "      <td>1</td>\n",
       "      <td>1</td>\n",
       "      <td>2</td>\n",
       "      <td>1</td>\n",
       "      <td>1</td>\n",
       "      <td>36000</td>\n",
       "      <td>3204</td>\n",
       "      <td>60</td>\n",
       "      <td>70</td>\n",
       "    </tr>\n",
       "    <tr>\n",
       "      <th>1</th>\n",
       "      <td>BENE11002</td>\n",
       "      <td>1936-09-01</td>\n",
       "      <td>NaN</td>\n",
       "      <td>2</td>\n",
       "      <td>1</td>\n",
       "      <td>0</td>\n",
       "      <td>39</td>\n",
       "      <td>280</td>\n",
       "      <td>12</td>\n",
       "      <td>12</td>\n",
       "      <td>...</td>\n",
       "      <td>2</td>\n",
       "      <td>2</td>\n",
       "      <td>2</td>\n",
       "      <td>2</td>\n",
       "      <td>2</td>\n",
       "      <td>2</td>\n",
       "      <td>0</td>\n",
       "      <td>0</td>\n",
       "      <td>30</td>\n",
       "      <td>50</td>\n",
       "    </tr>\n",
       "    <tr>\n",
       "      <th>2</th>\n",
       "      <td>BENE11003</td>\n",
       "      <td>1936-08-01</td>\n",
       "      <td>NaN</td>\n",
       "      <td>1</td>\n",
       "      <td>1</td>\n",
       "      <td>0</td>\n",
       "      <td>52</td>\n",
       "      <td>590</td>\n",
       "      <td>12</td>\n",
       "      <td>12</td>\n",
       "      <td>...</td>\n",
       "      <td>2</td>\n",
       "      <td>2</td>\n",
       "      <td>1</td>\n",
       "      <td>2</td>\n",
       "      <td>2</td>\n",
       "      <td>2</td>\n",
       "      <td>0</td>\n",
       "      <td>0</td>\n",
       "      <td>90</td>\n",
       "      <td>40</td>\n",
       "    </tr>\n",
       "    <tr>\n",
       "      <th>3</th>\n",
       "      <td>BENE11004</td>\n",
       "      <td>1922-07-01</td>\n",
       "      <td>NaN</td>\n",
       "      <td>1</td>\n",
       "      <td>1</td>\n",
       "      <td>0</td>\n",
       "      <td>39</td>\n",
       "      <td>270</td>\n",
       "      <td>12</td>\n",
       "      <td>12</td>\n",
       "      <td>...</td>\n",
       "      <td>2</td>\n",
       "      <td>1</td>\n",
       "      <td>1</td>\n",
       "      <td>1</td>\n",
       "      <td>1</td>\n",
       "      <td>2</td>\n",
       "      <td>0</td>\n",
       "      <td>0</td>\n",
       "      <td>1810</td>\n",
       "      <td>760</td>\n",
       "    </tr>\n",
       "    <tr>\n",
       "      <th>4</th>\n",
       "      <td>BENE11005</td>\n",
       "      <td>1935-09-01</td>\n",
       "      <td>NaN</td>\n",
       "      <td>1</td>\n",
       "      <td>1</td>\n",
       "      <td>0</td>\n",
       "      <td>24</td>\n",
       "      <td>680</td>\n",
       "      <td>12</td>\n",
       "      <td>12</td>\n",
       "      <td>...</td>\n",
       "      <td>2</td>\n",
       "      <td>1</td>\n",
       "      <td>2</td>\n",
       "      <td>2</td>\n",
       "      <td>2</td>\n",
       "      <td>2</td>\n",
       "      <td>0</td>\n",
       "      <td>0</td>\n",
       "      <td>1790</td>\n",
       "      <td>1200</td>\n",
       "    </tr>\n",
       "    <tr>\n",
       "      <th>...</th>\n",
       "      <td>...</td>\n",
       "      <td>...</td>\n",
       "      <td>...</td>\n",
       "      <td>...</td>\n",
       "      <td>...</td>\n",
       "      <td>...</td>\n",
       "      <td>...</td>\n",
       "      <td>...</td>\n",
       "      <td>...</td>\n",
       "      <td>...</td>\n",
       "      <td>...</td>\n",
       "      <td>...</td>\n",
       "      <td>...</td>\n",
       "      <td>...</td>\n",
       "      <td>...</td>\n",
       "      <td>...</td>\n",
       "      <td>...</td>\n",
       "      <td>...</td>\n",
       "      <td>...</td>\n",
       "      <td>...</td>\n",
       "      <td>...</td>\n",
       "    </tr>\n",
       "    <tr>\n",
       "      <th>138551</th>\n",
       "      <td>BENE159194</td>\n",
       "      <td>1939-07-01</td>\n",
       "      <td>NaN</td>\n",
       "      <td>1</td>\n",
       "      <td>1</td>\n",
       "      <td>0</td>\n",
       "      <td>39</td>\n",
       "      <td>140</td>\n",
       "      <td>12</td>\n",
       "      <td>12</td>\n",
       "      <td>...</td>\n",
       "      <td>2</td>\n",
       "      <td>2</td>\n",
       "      <td>2</td>\n",
       "      <td>2</td>\n",
       "      <td>2</td>\n",
       "      <td>2</td>\n",
       "      <td>0</td>\n",
       "      <td>0</td>\n",
       "      <td>430</td>\n",
       "      <td>460</td>\n",
       "    </tr>\n",
       "    <tr>\n",
       "      <th>138552</th>\n",
       "      <td>BENE159195</td>\n",
       "      <td>1938-12-01</td>\n",
       "      <td>NaN</td>\n",
       "      <td>2</td>\n",
       "      <td>1</td>\n",
       "      <td>0</td>\n",
       "      <td>49</td>\n",
       "      <td>530</td>\n",
       "      <td>12</td>\n",
       "      <td>12</td>\n",
       "      <td>...</td>\n",
       "      <td>2</td>\n",
       "      <td>1</td>\n",
       "      <td>2</td>\n",
       "      <td>2</td>\n",
       "      <td>2</td>\n",
       "      <td>2</td>\n",
       "      <td>0</td>\n",
       "      <td>0</td>\n",
       "      <td>880</td>\n",
       "      <td>100</td>\n",
       "    </tr>\n",
       "    <tr>\n",
       "      <th>138553</th>\n",
       "      <td>BENE159196</td>\n",
       "      <td>1916-06-01</td>\n",
       "      <td>NaN</td>\n",
       "      <td>2</td>\n",
       "      <td>1</td>\n",
       "      <td>0</td>\n",
       "      <td>6</td>\n",
       "      <td>150</td>\n",
       "      <td>12</td>\n",
       "      <td>12</td>\n",
       "      <td>...</td>\n",
       "      <td>1</td>\n",
       "      <td>1</td>\n",
       "      <td>1</td>\n",
       "      <td>2</td>\n",
       "      <td>2</td>\n",
       "      <td>2</td>\n",
       "      <td>2000</td>\n",
       "      <td>1068</td>\n",
       "      <td>3240</td>\n",
       "      <td>1390</td>\n",
       "    </tr>\n",
       "    <tr>\n",
       "      <th>138554</th>\n",
       "      <td>BENE159197</td>\n",
       "      <td>1930-01-01</td>\n",
       "      <td>NaN</td>\n",
       "      <td>1</td>\n",
       "      <td>1</td>\n",
       "      <td>0</td>\n",
       "      <td>16</td>\n",
       "      <td>560</td>\n",
       "      <td>12</td>\n",
       "      <td>12</td>\n",
       "      <td>...</td>\n",
       "      <td>2</td>\n",
       "      <td>2</td>\n",
       "      <td>1</td>\n",
       "      <td>2</td>\n",
       "      <td>2</td>\n",
       "      <td>2</td>\n",
       "      <td>0</td>\n",
       "      <td>0</td>\n",
       "      <td>2650</td>\n",
       "      <td>10</td>\n",
       "    </tr>\n",
       "    <tr>\n",
       "      <th>138555</th>\n",
       "      <td>BENE159198</td>\n",
       "      <td>1952-04-01</td>\n",
       "      <td>NaN</td>\n",
       "      <td>2</td>\n",
       "      <td>1</td>\n",
       "      <td>0</td>\n",
       "      <td>21</td>\n",
       "      <td>20</td>\n",
       "      <td>12</td>\n",
       "      <td>12</td>\n",
       "      <td>...</td>\n",
       "      <td>1</td>\n",
       "      <td>1</td>\n",
       "      <td>2</td>\n",
       "      <td>2</td>\n",
       "      <td>1</td>\n",
       "      <td>2</td>\n",
       "      <td>0</td>\n",
       "      <td>0</td>\n",
       "      <td>5470</td>\n",
       "      <td>1870</td>\n",
       "    </tr>\n",
       "  </tbody>\n",
       "</table>\n",
       "<p>138556 rows × 25 columns</p>\n",
       "</div>"
      ],
      "text/plain": [
       "            BeneID         DOB  DOD  Gender  Race RenalDiseaseIndicator  \\\n",
       "0        BENE11001  1943-01-01  NaN       1     1                     0   \n",
       "1        BENE11002  1936-09-01  NaN       2     1                     0   \n",
       "2        BENE11003  1936-08-01  NaN       1     1                     0   \n",
       "3        BENE11004  1922-07-01  NaN       1     1                     0   \n",
       "4        BENE11005  1935-09-01  NaN       1     1                     0   \n",
       "...            ...         ...  ...     ...   ...                   ...   \n",
       "138551  BENE159194  1939-07-01  NaN       1     1                     0   \n",
       "138552  BENE159195  1938-12-01  NaN       2     1                     0   \n",
       "138553  BENE159196  1916-06-01  NaN       2     1                     0   \n",
       "138554  BENE159197  1930-01-01  NaN       1     1                     0   \n",
       "138555  BENE159198  1952-04-01  NaN       2     1                     0   \n",
       "\n",
       "        State  County  NoOfMonths_PartACov  NoOfMonths_PartBCov  ...  \\\n",
       "0          39     230                   12                   12  ...   \n",
       "1          39     280                   12                   12  ...   \n",
       "2          52     590                   12                   12  ...   \n",
       "3          39     270                   12                   12  ...   \n",
       "4          24     680                   12                   12  ...   \n",
       "...       ...     ...                  ...                  ...  ...   \n",
       "138551     39     140                   12                   12  ...   \n",
       "138552     49     530                   12                   12  ...   \n",
       "138553      6     150                   12                   12  ...   \n",
       "138554     16     560                   12                   12  ...   \n",
       "138555     21      20                   12                   12  ...   \n",
       "\n",
       "        ChronicCond_Depression  ChronicCond_Diabetes  \\\n",
       "0                            1                     1   \n",
       "1                            2                     2   \n",
       "2                            2                     2   \n",
       "3                            2                     1   \n",
       "4                            2                     1   \n",
       "...                        ...                   ...   \n",
       "138551                       2                     2   \n",
       "138552                       2                     1   \n",
       "138553                       1                     1   \n",
       "138554                       2                     2   \n",
       "138555                       1                     1   \n",
       "\n",
       "        ChronicCond_IschemicHeart  ChronicCond_Osteoporasis  \\\n",
       "0                               1                         2   \n",
       "1                               2                         2   \n",
       "2                               1                         2   \n",
       "3                               1                         1   \n",
       "4                               2                         2   \n",
       "...                           ...                       ...   \n",
       "138551                          2                         2   \n",
       "138552                          2                         2   \n",
       "138553                          1                         2   \n",
       "138554                          1                         2   \n",
       "138555                          2                         2   \n",
       "\n",
       "        ChronicCond_rheumatoidarthritis  ChronicCond_stroke  \\\n",
       "0                                     1                   1   \n",
       "1                                     2                   2   \n",
       "2                                     2                   2   \n",
       "3                                     1                   2   \n",
       "4                                     2                   2   \n",
       "...                                 ...                 ...   \n",
       "138551                                2                   2   \n",
       "138552                                2                   2   \n",
       "138553                                2                   2   \n",
       "138554                                2                   2   \n",
       "138555                                1                   2   \n",
       "\n",
       "        IPAnnualReimbursementAmt  IPAnnualDeductibleAmt  \\\n",
       "0                          36000                   3204   \n",
       "1                              0                      0   \n",
       "2                              0                      0   \n",
       "3                              0                      0   \n",
       "4                              0                      0   \n",
       "...                          ...                    ...   \n",
       "138551                         0                      0   \n",
       "138552                         0                      0   \n",
       "138553                      2000                   1068   \n",
       "138554                         0                      0   \n",
       "138555                         0                      0   \n",
       "\n",
       "        OPAnnualReimbursementAmt  OPAnnualDeductibleAmt  \n",
       "0                             60                     70  \n",
       "1                             30                     50  \n",
       "2                             90                     40  \n",
       "3                           1810                    760  \n",
       "4                           1790                   1200  \n",
       "...                          ...                    ...  \n",
       "138551                       430                    460  \n",
       "138552                       880                    100  \n",
       "138553                      3240                   1390  \n",
       "138554                      2650                     10  \n",
       "138555                      5470                   1870  \n",
       "\n",
       "[138556 rows x 25 columns]"
      ]
     },
     "execution_count": 72,
     "metadata": {},
     "output_type": "execute_result"
    }
   ],
   "source": [
    "df"
   ]
  },
  {
   "cell_type": "markdown",
   "id": "55e8d665",
   "metadata": {},
   "source": [
    "## Provider Subgraphs: "
   ]
  },
  {
   "cell_type": "code",
   "execution_count": 3,
   "id": "6cbb6e59",
   "metadata": {},
   "outputs": [],
   "source": [
    "query= \"\"\" \n",
    "MATCH (p: Provider) \n",
    "RETURN DISTINCT(p.idx)\n",
    "\n",
    "\"\"\""
   ]
  },
  {
   "cell_type": "code",
   "execution_count": 4,
   "id": "9e4f5c88",
   "metadata": {},
   "outputs": [],
   "source": [
    "providers=db.run(query).to_table()"
   ]
  },
  {
   "cell_type": "code",
   "execution_count": 5,
   "id": "50bb4206",
   "metadata": {},
   "outputs": [],
   "source": [
    "providers=list(providers)"
   ]
  },
  {
   "cell_type": "code",
   "execution_count": 6,
   "id": "25d15882",
   "metadata": {},
   "outputs": [
    {
     "data": {
      "text/plain": [
       "[('PRV54572',),\n",
       " ('PRV53390',),\n",
       " ('PRV56999',),\n",
       " ('PRV51934',),\n",
       " ('PRV53177',),\n",
       " ('PRV56174',),\n",
       " ('PRV56353',),\n",
       " ('PRV52955',),\n",
       " ('PRV54743',),\n",
       " ('PRV54262',),\n",
       " ('PRV55534',),\n",
       " ('PRV51775',),\n",
       " ('PRV51240',),\n",
       " ('PRV51435',),\n",
       " ('PRV51090',),\n",
       " ('PRV53027',),\n",
       " ('PRV52622',),\n",
       " ('PRV52912',),\n",
       " ('PRV53532',),\n",
       " ('PRV55513',),\n",
       " ('PRV54695',),\n",
       " ('PRV56753',),\n",
       " ('PRV56967',),\n",
       " ('PRV52911',),\n",
       " ('PRV56135',),\n",
       " ('PRV53087',),\n",
       " ('PRV51720',),\n",
       " ('PRV55874',),\n",
       " ('PRV53732',),\n",
       " ('PRV56935',),\n",
       " ('PRV56732',),\n",
       " ('PRV54033',),\n",
       " ('PRV55205',),\n",
       " ('PRV52657',),\n",
       " ('PRV57638',),\n",
       " ('PRV56142',),\n",
       " ('PRV55171',),\n",
       " ('PRV53342',),\n",
       " ('PRV57368',),\n",
       " ('PRV55563',),\n",
       " ('PRV55763',),\n",
       " ('PRV54551',),\n",
       " ('PRV55617',),\n",
       " ('PRV51290',),\n",
       " ('PRV52391',),\n",
       " ('PRV51437',),\n",
       " ('PRV51134',),\n",
       " ('PRV52790',),\n",
       " ('PRV51557',),\n",
       " ('PRV55388',),\n",
       " ('PRV54200',),\n",
       " ('PRV51215',),\n",
       " ('PRV51606',),\n",
       " ('PRV54284',),\n",
       " ('PRV52953',),\n",
       " ('PRV53178',),\n",
       " ('PRV51613',),\n",
       " ('PRV52124',),\n",
       " ('PRV54074',),\n",
       " ('PRV55172',),\n",
       " ('PRV56095',),\n",
       " ('PRV54675',),\n",
       " ('PRV53326',),\n",
       " ('PRV52731',),\n",
       " ('PRV52990',),\n",
       " ('PRV51515',),\n",
       " ('PRV53086',),\n",
       " ('PRV51311',),\n",
       " ('PRV51061',),\n",
       " ('PRV55871',),\n",
       " ('PRV53232',),\n",
       " ('PRV52262',),\n",
       " ('PRV57689',),\n",
       " ('PRV56688',),\n",
       " ('PRV57112',),\n",
       " ('PRV51896',),\n",
       " ('PRV54400',),\n",
       " ('PRV56986',),\n",
       " ('PRV54720',),\n",
       " ('PRV54554',),\n",
       " ('PRV55679',),\n",
       " ('PRV51765',),\n",
       " ('PRV55565',),\n",
       " ('PRV52251',),\n",
       " ('PRV56855',),\n",
       " ('PRV51231',),\n",
       " ('PRV52845',),\n",
       " ('PRV52448',),\n",
       " ('PRV53485',),\n",
       " ('PRV55964',),\n",
       " ('PRV56474',),\n",
       " ('PRV57080',),\n",
       " ('PRV52464',),\n",
       " ('PRV52441',),\n",
       " ('PRV54578',),\n",
       " ('PRV55856',),\n",
       " ('PRV51453',),\n",
       " ('PRV56754',),\n",
       " ('PRV51827',),\n",
       " ('PRV51949',),\n",
       " ('PRV53605',),\n",
       " ('PRV56048',),\n",
       " ('PRV57586',),\n",
       " ('PRV53361',),\n",
       " ('PRV55830',),\n",
       " ('PRV54905',),\n",
       " ('PRV55805',),\n",
       " ('PRV56088',),\n",
       " ('PRV51902',),\n",
       " ('PRV51550',),\n",
       " ('PRV54045',),\n",
       " ('PRV52079',),\n",
       " ('PRV56211',),\n",
       " ('PRV57460',),\n",
       " ('PRV54173',),\n",
       " ('PRV54906',),\n",
       " ('PRV53918',),\n",
       " ('PRV55247',),\n",
       " ('PRV54865',),\n",
       " ('PRV52698',),\n",
       " ('PRV55915',),\n",
       " ('PRV53985',),\n",
       " ('PRV56251',),\n",
       " ('PRV54177',),\n",
       " ('PRV52474',),\n",
       " ('PRV51595',),\n",
       " ('PRV55928',),\n",
       " ('PRV52100',),\n",
       " ('PRV56823',),\n",
       " ('PRV51117',),\n",
       " ('PRV55742',),\n",
       " ('PRV55842',),\n",
       " ('PRV56052',),\n",
       " ('PRV55986',),\n",
       " ('PRV54705',),\n",
       " ('PRV56134',),\n",
       " ('PRV52296',),\n",
       " ('PRV53272',),\n",
       " ('PRV56896',),\n",
       " ('PRV57391',),\n",
       " ('PRV56316',),\n",
       " ('PRV57025',),\n",
       " ('PRV53509',),\n",
       " ('PRV56271',),\n",
       " ('PRV55783',),\n",
       " ('PRV57230',),\n",
       " ('PRV56247',),\n",
       " ('PRV55176',),\n",
       " ('PRV52693',),\n",
       " ('PRV57487',),\n",
       " ('PRV55945',),\n",
       " ('PRV51093',),\n",
       " ('PRV56510',),\n",
       " ('PRV52615',),\n",
       " ('PRV52219',),\n",
       " ('PRV56307',),\n",
       " ('PRV53608',),\n",
       " ('PRV52007',),\n",
       " ('PRV56526',),\n",
       " ('PRV53539',),\n",
       " ('PRV54388',),\n",
       " ('PRV54141',),\n",
       " ('PRV53329',),\n",
       " ('PRV57737',),\n",
       " ('PRV56851',),\n",
       " ('PRV54819',),\n",
       " ('PRV53489',),\n",
       " ('PRV57264',),\n",
       " ('PRV53240',),\n",
       " ('PRV53313',),\n",
       " ('PRV53527',),\n",
       " ('PRV51011',),\n",
       " ('PRV53932',),\n",
       " ('PRV54008',),\n",
       " ('PRV53876',),\n",
       " ('PRV55248',),\n",
       " ('PRV54254',),\n",
       " ('PRV55941',),\n",
       " ('PRV57710',),\n",
       " ('PRV55163',),\n",
       " ('PRV56782',),\n",
       " ('PRV53467',),\n",
       " ('PRV55140',),\n",
       " ('PRV51360',),\n",
       " ('PRV52917',),\n",
       " ('PRV53033',),\n",
       " ('PRV55208',),\n",
       " ('PRV52725',),\n",
       " ('PRV52739',),\n",
       " ('PRV52449',),\n",
       " ('PRV53977',),\n",
       " ('PRV55971',),\n",
       " ('PRV52647',),\n",
       " ('PRV55635',),\n",
       " ('PRV54674',),\n",
       " ('PRV54287',),\n",
       " ('PRV54628',),\n",
       " ('PRV56864',),\n",
       " ('PRV55355',),\n",
       " ('PRV51916',),\n",
       " ('PRV55726',),\n",
       " ('PRV53213',),\n",
       " ('PRV51695',),\n",
       " ('PRV51731',),\n",
       " ('PRV51521',),\n",
       " ('PRV53005',),\n",
       " ('PRV51669',),\n",
       " ('PRV56269',),\n",
       " ('PRV53829',),\n",
       " ('PRV57672',),\n",
       " ('PRV51743',),\n",
       " ('PRV56710',),\n",
       " ('PRV52853',),\n",
       " ('PRV57315',),\n",
       " ('PRV54524',),\n",
       " ('PRV55768',),\n",
       " ('PRV55638',),\n",
       " ('PRV54053',),\n",
       " ('PRV51074',),\n",
       " ('PRV57702',),\n",
       " ('PRV56522',),\n",
       " ('PRV53970',),\n",
       " ('PRV54040',),\n",
       " ('PRV54199',),\n",
       " ('PRV55408',),\n",
       " ('PRV55750',),\n",
       " ('PRV55494',),\n",
       " ('PRV56468',),\n",
       " ('PRV57432',),\n",
       " ('PRV56281',),\n",
       " ('PRV57231',),\n",
       " ('PRV56368',),\n",
       " ('PRV52753',),\n",
       " ('PRV57373',),\n",
       " ('PRV56026',),\n",
       " ('PRV54790',),\n",
       " ('PRV52842',),\n",
       " ('PRV53907',),\n",
       " ('PRV56300',),\n",
       " ('PRV53161',),\n",
       " ('PRV51114',),\n",
       " ('PRV51889',),\n",
       " ('PRV55002',),\n",
       " ('PRV54184',),\n",
       " ('PRV51388',),\n",
       " ('PRV54306',),\n",
       " ('PRV52042',),\n",
       " ('PRV55145',),\n",
       " ('PRV55618',),\n",
       " ('PRV55741',),\n",
       " ('PRV51568',),\n",
       " ('PRV56751',),\n",
       " ('PRV56555',),\n",
       " ('PRV54059',),\n",
       " ('PRV52803',),\n",
       " ('PRV55252',),\n",
       " ('PRV53476',),\n",
       " ('PRV56479',),\n",
       " ('PRV55064',),\n",
       " ('PRV57170',),\n",
       " ('PRV56231',),\n",
       " ('PRV54538',),\n",
       " ('PRV53407',),\n",
       " ('PRV51118',),\n",
       " ('PRV51242',),\n",
       " ('PRV52380',),\n",
       " ('PRV51965',),\n",
       " ('PRV55072',),\n",
       " ('PRV57552',),\n",
       " ('PRV51496',),\n",
       " ('PRV57294',),\n",
       " ('PRV56040',),\n",
       " ('PRV56378',),\n",
       " ('PRV52710',),\n",
       " ('PRV55439',),\n",
       " ('PRV55286',),\n",
       " ('PRV54741',),\n",
       " ('PRV56628',),\n",
       " ('PRV54302',),\n",
       " ('PRV55154',),\n",
       " ('PRV53906',),\n",
       " ('PRV56977',),\n",
       " ('PRV53397',),\n",
       " ('PRV56336',),\n",
       " ('PRV52394',),\n",
       " ('PRV57365',),\n",
       " ('PRV51043',),\n",
       " ('PRV54005',),\n",
       " ('PRV52204',),\n",
       " ('PRV51578',),\n",
       " ('PRV56387',),\n",
       " ('PRV51428',),\n",
       " ('PRV52910',),\n",
       " ('PRV52175',),\n",
       " ('PRV51968',),\n",
       " ('PRV53725',),\n",
       " ('PRV57077',),\n",
       " ('PRV57594',),\n",
       " ('PRV53432',),\n",
       " ('PRV55798',),\n",
       " ('PRV52653',),\n",
       " ('PRV56159',),\n",
       " ('PRV57382',),\n",
       " ('PRV52488',),\n",
       " ('PRV57086',),\n",
       " ('PRV56119',),\n",
       " ('PRV55728',),\n",
       " ('PRV57002',),\n",
       " ('PRV51572',),\n",
       " ('PRV55627',),\n",
       " ('PRV52228',),\n",
       " ('PRV51691',),\n",
       " ('PRV53149',),\n",
       " ('PRV52574',),\n",
       " ('PRV55359',),\n",
       " ('PRV53437',),\n",
       " ('PRV52098',),\n",
       " ('PRV52642',),\n",
       " ('PRV53566',),\n",
       " ('PRV53952',),\n",
       " ('PRV55834',),\n",
       " ('PRV55238',),\n",
       " ('PRV54144',),\n",
       " ('PRV56015',),\n",
       " ('PRV56673',),\n",
       " ('PRV55583',),\n",
       " ('PRV53812',),\n",
       " ('PRV55164',),\n",
       " ('PRV54596',),\n",
       " ('PRV51229',),\n",
       " ('PRV55246',),\n",
       " ('PRV56212',),\n",
       " ('PRV55959',),\n",
       " ('PRV53314',),\n",
       " ('PRV53520',),\n",
       " ('PRV56590',),\n",
       " ('PRV51552',),\n",
       " ('PRV53994',),\n",
       " ('PRV54895',),\n",
       " ('PRV57640',),\n",
       " ('PRV53375',),\n",
       " ('PRV56819',),\n",
       " ('PRV52055',),\n",
       " ('PRV55661',),\n",
       " ('PRV55169',),\n",
       " ('PRV51876',),\n",
       " ('PRV56603',),\n",
       " ('PRV53376',),\n",
       " ('PRV55133',),\n",
       " ('PRV54326',),\n",
       " ('PRV54164',),\n",
       " ('PRV55031',),\n",
       " ('PRV57673',),\n",
       " ('PRV53569',),\n",
       " ('PRV56075',),\n",
       " ('PRV51144',),\n",
       " ('PRV53067',),\n",
       " ('PRV52545',),\n",
       " ('PRV54051',),\n",
       " ('PRV53759',),\n",
       " ('PRV52435',),\n",
       " ('PRV55313',),\n",
       " ('PRV54198',),\n",
       " ('PRV51467',),\n",
       " ('PRV53708',),\n",
       " ('PRV55257',),\n",
       " ('PRV51153',),\n",
       " ('PRV53335',),\n",
       " ('PRV54352',),\n",
       " ('PRV54576',),\n",
       " ('PRV54425',),\n",
       " ('PRV56165',),\n",
       " ('PRV55709',),\n",
       " ('PRV56012',),\n",
       " ('PRV54666',),\n",
       " ('PRV52672',),\n",
       " ('PRV57330',),\n",
       " ('PRV57039',),\n",
       " ('PRV51571',),\n",
       " ('PRV56860',),\n",
       " ('PRV53148',),\n",
       " ('PRV52528',),\n",
       " ('PRV53260',),\n",
       " ('PRV51013',),\n",
       " ('PRV56114',),\n",
       " ('PRV55108',),\n",
       " ('PRV53573',),\n",
       " ('PRV51267',),\n",
       " ('PRV53298',),\n",
       " ('PRV52142',),\n",
       " ('PRV54510',),\n",
       " ('PRV55931',),\n",
       " ('PRV56653',),\n",
       " ('PRV52356',),\n",
       " ('PRV53941',),\n",
       " ('PRV53643',),\n",
       " ('PRV52167',),\n",
       " ('PRV57618',),\n",
       " ('PRV56880',),\n",
       " ('PRV52490',),\n",
       " ('PRV51309',),\n",
       " ('PRV56878',),\n",
       " ('PRV51967',),\n",
       " ('PRV53099',),\n",
       " ('PRV56444',),\n",
       " ('PRV53556',),\n",
       " ('PRV54122',),\n",
       " ('PRV54575',),\n",
       " ('PRV55734',),\n",
       " ('PRV55882',),\n",
       " ('PRV57558',),\n",
       " ('PRV57084',),\n",
       " ('PRV54115',),\n",
       " ('PRV55749',),\n",
       " ('PRV52187',),\n",
       " ('PRV56958',),\n",
       " ('PRV55677',),\n",
       " ('PRV57336',),\n",
       " ('PRV53121',),\n",
       " ('PRV56680',),\n",
       " ('PRV56792',),\n",
       " ('PRV54587',),\n",
       " ('PRV53078',),\n",
       " ('PRV55175',),\n",
       " ('PRV55460',),\n",
       " ('PRV56980',),\n",
       " ('PRV51059',),\n",
       " ('PRV51592',),\n",
       " ('PRV51478',),\n",
       " ('PRV54354',),\n",
       " ('PRV53450',),\n",
       " ('PRV51125',),\n",
       " ('PRV56982',),\n",
       " ('PRV53958',),\n",
       " ('PRV51920',),\n",
       " ('PRV57017',),\n",
       " ('PRV51101',),\n",
       " ('PRV55767',),\n",
       " ('PRV52257',),\n",
       " ('PRV52683',),\n",
       " ('PRV51626',),\n",
       " ('PRV52781',),\n",
       " ('PRV52185',),\n",
       " ('PRV57669',),\n",
       " ('PRV53790',),\n",
       " ('PRV56928',),\n",
       " ('PRV54753',),\n",
       " ('PRV56149',),\n",
       " ('PRV53629',),\n",
       " ('PRV52476',),\n",
       " ('PRV56897',),\n",
       " ('PRV53925',),\n",
       " ('PRV55858',),\n",
       " ('PRV55717',),\n",
       " ('PRV57531',),\n",
       " ('PRV54409',),\n",
       " ('PRV55291',),\n",
       " ('PRV54109',),\n",
       " ('PRV52037',),\n",
       " ('PRV54936',),\n",
       " ('PRV53365',),\n",
       " ('PRV56793',),\n",
       " ('PRV51235',),\n",
       " ('PRV55900',),\n",
       " ('PRV54519',),\n",
       " ('PRV57179',),\n",
       " ('PRV55491',),\n",
       " ('PRV54526',),\n",
       " ('PRV51305',),\n",
       " ('PRV56268',),\n",
       " ('PRV53315',),\n",
       " ('PRV53554',),\n",
       " ('PRV57388',),\n",
       " ('PRV56123',),\n",
       " ('PRV51822',),\n",
       " ('PRV54101',),\n",
       " ('PRV57130',),\n",
       " ('PRV57058',),\n",
       " ('PRV56324',),\n",
       " ('PRV51351',),\n",
       " ('PRV57575',),\n",
       " ('PRV56218',),\n",
       " ('PRV57151',),\n",
       " ('PRV51055',),\n",
       " ('PRV51812',),\n",
       " ('PRV55417',),\n",
       " ('PRV57241',),\n",
       " ('PRV55492',),\n",
       " ('PRV56501',),\n",
       " ('PRV52521',),\n",
       " ('PRV51774',),\n",
       " ('PRV52896',),\n",
       " ('PRV51532',),\n",
       " ('PRV55499',),\n",
       " ('PRV56583',),\n",
       " ('PRV56080',),\n",
       " ('PRV53671',),\n",
       " ('PRV55185',),\n",
       " ('PRV52255',),\n",
       " ('PRV55202',),\n",
       " ('PRV53611',),\n",
       " ('PRV55516',),\n",
       " ('PRV51176',),\n",
       " ('PRV54717',),\n",
       " ('PRV55715',),\n",
       " ('PRV56410',),\n",
       " ('PRV55980',),\n",
       " ('PRV51212',),\n",
       " ('PRV56252',),\n",
       " ('PRV57206',),\n",
       " ('PRV51924',),\n",
       " ('PRV55366',),\n",
       " ('PRV53449',),\n",
       " ('PRV51429',),\n",
       " ('PRV53502',),\n",
       " ('PRV54403',),\n",
       " ('PRV53138',),\n",
       " ('PRV54257',),\n",
       " ('PRV55572',),\n",
       " ('PRV51528',),\n",
       " ('PRV56260',),\n",
       " ('PRV53868',),\n",
       " ('PRV51507',),\n",
       " ('PRV53047',),\n",
       " ('PRV57399',),\n",
       " ('PRV56164',),\n",
       " ('PRV51751',),\n",
       " ('PRV52432',),\n",
       " ('PRV51577',),\n",
       " ('PRV56722',),\n",
       " ('PRV51248',),\n",
       " ('PRV57704',),\n",
       " ('PRV51740',),\n",
       " ('PRV54543',),\n",
       " ('PRV53831',),\n",
       " ('PRV52986',),\n",
       " ('PRV57540',),\n",
       " ('PRV55522',),\n",
       " ('PRV57630',),\n",
       " ('PRV51323',),\n",
       " ('PRV55213',),\n",
       " ('PRV51455',),\n",
       " ('PRV55560',),\n",
       " ('PRV51324',),\n",
       " ('PRV54644',),\n",
       " ('PRV56733',),\n",
       " ('PRV53709',),\n",
       " ('PRV55382',),\n",
       " ('PRV51285',),\n",
       " ('PRV53590',),\n",
       " ('PRV51403',),\n",
       " ('PRV57275',),\n",
       " ('PRV55965',),\n",
       " ('PRV53593',),\n",
       " ('PRV56413',),\n",
       " ('PRV53224',),\n",
       " ('PRV51569',),\n",
       " ('PRV55551',),\n",
       " ('PRV55946',),\n",
       " ('PRV51330',),\n",
       " ('PRV52553',),\n",
       " ('PRV53775',),\n",
       " ('PRV56041',),\n",
       " ('PRV56385',),\n",
       " ('PRV52471',),\n",
       " ('PRV52848',),\n",
       " ('PRV52291',),\n",
       " ('PRV53733',),\n",
       " ('PRV56998',),\n",
       " ('PRV52544',),\n",
       " ('PRV52825',),\n",
       " ('PRV54305',),\n",
       " ('PRV57096',),\n",
       " ('PRV57598',),\n",
       " ('PRV53074',),\n",
       " ('PRV53084',),\n",
       " ('PRV51259',),\n",
       " ('PRV53585',),\n",
       " ('PRV53924',),\n",
       " ('PRV54480',),\n",
       " ('PRV53035',),\n",
       " ('PRV56917',),\n",
       " ('PRV53595',),\n",
       " ('PRV51474',),\n",
       " ('PRV53477',),\n",
       " ('PRV51927',),\n",
       " ('PRV54477',),\n",
       " ('PRV54506',),\n",
       " ('PRV52518',),\n",
       " ('PRV54549',),\n",
       " ('PRV53894',),\n",
       " ('PRV56694',),\n",
       " ('PRV54073',),\n",
       " ('PRV54768',),\n",
       " ('PRV51627',),\n",
       " ('PRV56801',),\n",
       " ('PRV55933',),\n",
       " ('PRV52372',),\n",
       " ('PRV52084',),\n",
       " ('PRV52077',),\n",
       " ('PRV51790',),\n",
       " ('PRV55530',),\n",
       " ('PRV51517',),\n",
       " ('PRV57137',),\n",
       " ('PRV51563',),\n",
       " ('PRV52314',),\n",
       " ('PRV52420',),\n",
       " ('PRV55242',),\n",
       " ('PRV57396',),\n",
       " ('PRV56539',),\n",
       " ('PRV53599',),\n",
       " ('PRV53917',),\n",
       " ('PRV53570',),\n",
       " ('PRV54893',),\n",
       " ('PRV54582',),\n",
       " ('PRV54282',),\n",
       " ('PRV54894',),\n",
       " ('PRV52513',),\n",
       " ('PRV52306',),\n",
       " ('PRV53307',),\n",
       " ('PRV55828',),\n",
       " ('PRV56139',),\n",
       " ('PRV55790',),\n",
       " ('PRV55639',),\n",
       " ('PRV52284',),\n",
       " ('PRV51657',),\n",
       " ('PRV54949',),\n",
       " ('PRV55041',),\n",
       " ('PRV52264',),\n",
       " ('PRV51947',),\n",
       " ('PRV57124',),\n",
       " ('PRV57043',),\n",
       " ('PRV57244',),\n",
       " ('PRV56696',),\n",
       " ('PRV52154',),\n",
       " ('PRV53303',),\n",
       " ('PRV51766',),\n",
       " ('PRV51918',),\n",
       " ('PRV53291',),\n",
       " ('PRV56482',),\n",
       " ('PRV52179',),\n",
       " ('PRV56202',),\n",
       " ('PRV57754',),\n",
       " ('PRV51689',),\n",
       " ('PRV53352',),\n",
       " ('PRV51130',),\n",
       " ('PRV53871',),\n",
       " ('PRV53017',),\n",
       " ('PRV57187',),\n",
       " ('PRV56331',),\n",
       " ('PRV51284',),\n",
       " ('PRV51206',),\n",
       " ('PRV55427',),\n",
       " ('PRV51131',),\n",
       " ('PRV56546',),\n",
       " ('PRV55277',),\n",
       " ('PRV55868',),\n",
       " ('PRV57316',),\n",
       " ('PRV53913',),\n",
       " ('PRV51304',),\n",
       " ('PRV54619',),\n",
       " ('PRV55078',),\n",
       " ('PRV52189',),\n",
       " ('PRV53187',),\n",
       " ('PRV56426',),\n",
       " ('PRV55658',),\n",
       " ('PRV51128',),\n",
       " ('PRV51710',),\n",
       " ('PRV53844',),\n",
       " ('PRV53336',),\n",
       " ('PRV53972',),\n",
       " ('PRV51098',),\n",
       " ('PRV53066',),\n",
       " ('PRV51656',),\n",
       " ('PRV53916',),\n",
       " ('PRV52069',),\n",
       " ('PRV52369',),\n",
       " ('PRV55465',),\n",
       " ('PRV52436',),\n",
       " ('PRV54462',),\n",
       " ('PRV52082',),\n",
       " ('PRV54800',),\n",
       " ('PRV52173',),\n",
       " ('PRV53207',),\n",
       " ('PRV52064',),\n",
       " ('PRV56596',),\n",
       " ('PRV51773',),\n",
       " ('PRV52295',),\n",
       " ('PRV55126',),\n",
       " ('PRV57690',),\n",
       " ('PRV54860',),\n",
       " ('PRV51511',),\n",
       " ('PRV53787',),\n",
       " ('PRV57530',),\n",
       " ('PRV53503',),\n",
       " ('PRV52742',),\n",
       " ('PRV52610',),\n",
       " ('PRV54645',),\n",
       " ('PRV51067',),\n",
       " ('PRV53318',),\n",
       " ('PRV54763',),\n",
       " ('PRV55760',),\n",
       " ('PRV52399',),\n",
       " ('PRV56541',),\n",
       " ('PRV57322',),\n",
       " ('PRV56141',),\n",
       " ('PRV56575',),\n",
       " ('PRV55010',),\n",
       " ('PRV57613',),\n",
       " ('PRV51660',),\n",
       " ('PRV56275',),\n",
       " ('PRV56909',),\n",
       " ('PRV52353',),\n",
       " ('PRV57450',),\n",
       " ('PRV52918',),\n",
       " ('PRV57715',),\n",
       " ('PRV51671',),\n",
       " ('PRV56683',),\n",
       " ('PRV53640',),\n",
       " ('PRV52726',),\n",
       " ('PRV54707',),\n",
       " ('PRV56232',),\n",
       " ('PRV56833',),\n",
       " ('PRV54559',),\n",
       " ('PRV56767',),\n",
       " ('PRV55673',),\n",
       " ('PRV56723',),\n",
       " ('PRV55832',),\n",
       " ('PRV57063',),\n",
       " ('PRV51441',),\n",
       " ('PRV53872',),\n",
       " ('PRV56593',),\n",
       " ('PRV52260',),\n",
       " ('PRV54006',),\n",
       " ('PRV53101',),\n",
       " ('PRV55086',),\n",
       " ('PRV53621',),\n",
       " ('PRV55744',),\n",
       " ('PRV53194',),\n",
       " ('PRV51905',),\n",
       " ('PRV51029',),\n",
       " ('PRV53997',),\n",
       " ('PRV55003',),\n",
       " ('PRV53690',),\n",
       " ('PRV53947',),\n",
       " ('PRV57169',),\n",
       " ('PRV57186',),\n",
       " ('PRV54937',),\n",
       " ('PRV53982',),\n",
       " ('PRV54602',),\n",
       " ('PRV56090',),\n",
       " ('PRV55507',),\n",
       " ('PRV57758',),\n",
       " ('PRV54547',),\n",
       " ('PRV52049',),\n",
       " ('PRV53523',),\n",
       " ('PRV51186',),\n",
       " ('PRV54160',),\n",
       " ('PRV55519',),\n",
       " ('PRV57319',),\n",
       " ('PRV51331',),\n",
       " ('PRV57343',),\n",
       " ('PRV53731',),\n",
       " ('PRV52456',),\n",
       " ('PRV51103',),\n",
       " ('PRV57429',),\n",
       " ('PRV56286',),\n",
       " ('PRV56227',),\n",
       " ('PRV55194',),\n",
       " ('PRV54180',),\n",
       " ('PRV53945',),\n",
       " ('PRV52541',),\n",
       " ('PRV53892',),\n",
       " ('PRV52431',),\n",
       " ('PRV57761',),\n",
       " ('PRV57403',),\n",
       " ('PRV54456',),\n",
       " ('PRV52860',),\n",
       " ('PRV57102',),\n",
       " ('PRV56303',),\n",
       " ('PRV53680',),\n",
       " ('PRV54112',),\n",
       " ('PRV53007',),\n",
       " ('PRV53164',),\n",
       " ('PRV54128',),\n",
       " ('PRV51383',),\n",
       " ('PRV54349',),\n",
       " ('PRV54812',),\n",
       " ('PRV56610',),\n",
       " ('PRV53928',),\n",
       " ('PRV52384',),\n",
       " ('PRV57548',),\n",
       " ('PRV56788',),\n",
       " ('PRV55690',),\n",
       " ('PRV55255',),\n",
       " ('PRV52230',),\n",
       " ('PRV52030',),\n",
       " ('PRV53560',),\n",
       " ('PRV57411',),\n",
       " ('PRV55682',),\n",
       " ('PRV52401',),\n",
       " ('PRV51610',),\n",
       " ('PRV55293',),\n",
       " ('PRV53536',),\n",
       " ('PRV53424',),\n",
       " ('PRV52539',),\n",
       " ('PRV57118',),\n",
       " ('PRV52211',),\n",
       " ('PRV52412',),\n",
       " ('PRV54252',),\n",
       " ('PRV52687',),\n",
       " ('PRV54684',),\n",
       " ('PRV53389',),\n",
       " ('PRV57500',),\n",
       " ('PRV52165',),\n",
       " ('PRV56996',),\n",
       " ('PRV51334',),\n",
       " ('PRV54972',),\n",
       " ('PRV56086',),\n",
       " ('PRV57048',),\n",
       " ('PRV56743',),\n",
       " ('PRV54710',),\n",
       " ('PRV51665',),\n",
       " ('PRV55428',),\n",
       " ('PRV53669',),\n",
       " ('PRV54682',),\n",
       " ('PRV54864',),\n",
       " ('PRV56536',),\n",
       " ('PRV53714',),\n",
       " ('PRV54909',),\n",
       " ('PRV51566',),\n",
       " ('PRV57320',),\n",
       " ('PRV53981',),\n",
       " ('PRV55368',),\n",
       " ('PRV51688',),\n",
       " ('PRV53683',),\n",
       " ('PRV54918',),\n",
       " ('PRV51555',),\n",
       " ('PRV57407',),\n",
       " ('PRV55948',),\n",
       " ('PRV56028',),\n",
       " ('PRV55401',),\n",
       " ('PRV54441',),\n",
       " ('PRV55811',),\n",
       " ('PRV52468',),\n",
       " ('PRV57202',),\n",
       " ('PRV53362',),\n",
       " ('PRV56388',),\n",
       " ('PRV54735',),\n",
       " ('PRV57447',),\n",
       " ('PRV54900',),\n",
       " ('PRV55969',),\n",
       " ('PRV53283',),\n",
       " ('PRV52466',),\n",
       " ('PRV53079',),\n",
       " ('PRV54383',),\n",
       " ('PRV56245',),\n",
       " ('PRV53281',),\n",
       " ('PRV57516',),\n",
       " ('PRV51860',),\n",
       " ('PRV54219',),\n",
       " ('PRV53102',),\n",
       " ('PRV54774',),\n",
       " ('PRV53849',),\n",
       " ('PRV57147',),\n",
       " ('PRV52161',),\n",
       " ('PRV51392',),\n",
       " ('PRV54392',),\n",
       " ('PRV57250',),\n",
       " ('PRV54728',),\n",
       " ('PRV53252',),\n",
       " ('PRV51871',),\n",
       " ('PRV57175',),\n",
       " ('PRV54374',),\n",
       " ('PRV51828',),\n",
       " ('PRV57213',),\n",
       " ('PRV57239',),\n",
       " ('PRV51241',),\n",
       " ('PRV55764',),\n",
       " ('PRV57469',),\n",
       " ('PRV54437',),\n",
       " ('PRV51386',),\n",
       " ('PRV55528',),\n",
       " ('PRV55225',),\n",
       " ('PRV53077',),\n",
       " ('PRV53439',),\n",
       " ('PRV56945',),\n",
       " ('PRV51534',),\n",
       " ('PRV52877',),\n",
       " ('PRV55752',),\n",
       " ('PRV54454',),\n",
       " ('PRV56784',),\n",
       " ('PRV53072',),\n",
       " ('PRV52383',),\n",
       " ('PRV53380',),\n",
       " ('PRV57635',),\n",
       " ('PRV51070',),\n",
       " ('PRV56129',),\n",
       " ('PRV53606',),\n",
       " ('PRV57327',),\n",
       " ('PRV53547',),\n",
       " ('PRV51204',),\n",
       " ('PRV53814',),\n",
       " ('PRV55487',),\n",
       " ('PRV51973',),\n",
       " ('PRV54773',),\n",
       " ('PRV54116',),\n",
       " ('PRV54056',),\n",
       " ('PRV53631',),\n",
       " ('PRV52822',),\n",
       " ('PRV55711',),\n",
       " ('PRV52150',),\n",
       " ('PRV55648',),\n",
       " ('PRV57013',),\n",
       " ('PRV53360',),\n",
       " ('PRV56302',),\n",
       " ('PRV52775',),\n",
       " ('PRV53109',),\n",
       " ('PRV52238',),\n",
       " ('PRV52113',),\n",
       " ('PRV51529',),\n",
       " ('PRV53344',),\n",
       " ('PRV57121',),\n",
       " ('PRV56543',),\n",
       " ('PRV57105',),\n",
       " ('PRV51818',),\n",
       " ('PRV55419',),\n",
       " ('PRV55774',),\n",
       " ('PRV54636',),\n",
       " ('PRV56613',),\n",
       " ('PRV55087',),\n",
       " ('PRV51350',),\n",
       " ('PRV52934',),\n",
       " ('PRV54416',),\n",
       " ('PRV53730',),\n",
       " ('PRV57437',),\n",
       " ('PRV57364',),\n",
       " ('PRV57115',),\n",
       " ('PRV51784',),\n",
       " ('PRV53721',),\n",
       " ('PRV53288',),\n",
       " ('PRV54149',),\n",
       " ('PRV55134',),\n",
       " ('PRV51366',),\n",
       " ('PRV54078',),\n",
       " ('PRV57217',),\n",
       " ('PRV56198',),\n",
       " ('PRV51833',),\n",
       " ('PRV51064',),\n",
       " ('PRV53535',),\n",
       " ('PRV54546',),\n",
       " ('PRV57631',),\n",
       " ('PRV54378',),\n",
       " ('PRV57762',),\n",
       " ('PRV53379',),\n",
       " ('PRV53300',),\n",
       " ('PRV56728',),\n",
       " ('PRV51239',),\n",
       " ('PRV52922',),\n",
       " ('PRV54372',),\n",
       " ('PRV55384',),\n",
       " ('PRV56004',),\n",
       " ('PRV52127',),\n",
       " ('PRV53280',),\n",
       " ('PRV55305',),\n",
       " ('PRV52824',),\n",
       " ('PRV55122',),\n",
       " ('PRV53746',),\n",
       " ('PRV52196',),\n",
       " ('PRV55880',),\n",
       " ('PRV56363',),\n",
       " ('PRV55295',),\n",
       " ('PRV56083',),\n",
       " ('PRV52926',),\n",
       " ('PRV57423',),\n",
       " ('PRV57329',),\n",
       " ('PRV51053',),\n",
       " ('PRV51159',),\n",
       " ('PRV51122',),\n",
       " ('PRV51525',),\n",
       " ('PRV56953',),\n",
       " ('PRV52551',),\n",
       " ('PRV55733',),\n",
       " ('PRV52520',),\n",
       " ('PRV57404',),\n",
       " ('PRV52844',),\n",
       " ('PRV53445',),\n",
       " ('PRV51313',),\n",
       " ('PRV57356',),\n",
       " ('PRV55472',),\n",
       " ('PRV56816',),\n",
       " ('PRV52458',),\n",
       " ('PRV56566',),\n",
       " ('PRV57311',),\n",
       " ('PRV51139',),\n",
       " ('PRV51719',),\n",
       " ('PRV54926',),\n",
       " ('PRV53203',),\n",
       " ('PRV52280',),\n",
       " ('PRV51522',),\n",
       " ...]"
      ]
     },
     "execution_count": 6,
     "metadata": {},
     "output_type": "execute_result"
    }
   ],
   "source": [
    "providers"
   ]
  },
  {
   "cell_type": "code",
   "execution_count": 7,
   "id": "5b0a5f01",
   "metadata": {},
   "outputs": [],
   "source": [
    "p2=providers[727][0]"
   ]
  },
  {
   "cell_type": "markdown",
   "id": "a3362d7d",
   "metadata": {},
   "source": [
    "### Subgraphs"
   ]
  },
  {
   "cell_type": "code",
   "execution_count": 8,
   "id": "b346719d",
   "metadata": {},
   "outputs": [
    {
     "data": {
      "text/plain": [
       "'PRV56242'"
      ]
     },
     "execution_count": 8,
     "metadata": {},
     "output_type": "execute_result"
    }
   ],
   "source": [
    "providers[4420][0]"
   ]
  },
  {
   "cell_type": "code",
   "execution_count": 9,
   "id": "6fe86982",
   "metadata": {},
   "outputs": [
    {
     "ename": "ClientError",
     "evalue": "[Procedure.ProcedureCallFailed] Failed to invoke procedure `gds.eigenvector.stats`: Caused by: java.lang.OutOfMemoryError: Java heap space",
     "output_type": "error",
     "traceback": [
      "\u001b[1;31m---------------------------------------------------------------------------\u001b[0m",
      "\u001b[1;31mClientError\u001b[0m                               Traceback (most recent call last)",
      "\u001b[1;32m~\\AppData\\Local\\Temp/ipykernel_9608/3273096048.py\u001b[0m in \u001b[0;36m<module>\u001b[1;34m\u001b[0m\n\u001b[0;32m     36\u001b[0m \u001b[0mRETURN\u001b[0m \u001b[0mcentralityDistribution\u001b[0m\u001b[1;33m.\u001b[0m\u001b[0mmax\u001b[0m \u001b[0mAS\u001b[0m \u001b[0mmax\u001b[0m\u001b[1;33m\u001b[0m\u001b[1;33m\u001b[0m\u001b[0m\n\u001b[0;32m     37\u001b[0m \"\"\".format(providers[i][0])\n\u001b[1;32m---> 38\u001b[1;33m     \u001b[0mdf\u001b[0m\u001b[1;33m=\u001b[0m\u001b[0mdb\u001b[0m\u001b[1;33m.\u001b[0m\u001b[0mrun\u001b[0m\u001b[1;33m(\u001b[0m\u001b[0mquery\u001b[0m\u001b[1;33m)\u001b[0m\u001b[1;33m.\u001b[0m\u001b[0mto_table\u001b[0m\u001b[1;33m(\u001b[0m\u001b[1;33m)\u001b[0m\u001b[1;33m\u001b[0m\u001b[1;33m\u001b[0m\u001b[0m\n\u001b[0m\u001b[0;32m     39\u001b[0m     \u001b[0mdf\u001b[0m\u001b[1;33m=\u001b[0m\u001b[0mpd\u001b[0m\u001b[1;33m.\u001b[0m\u001b[0mDataFrame\u001b[0m\u001b[1;33m(\u001b[0m\u001b[0mdf\u001b[0m\u001b[1;33m)\u001b[0m\u001b[1;33m\u001b[0m\u001b[1;33m\u001b[0m\u001b[0m\n\u001b[0;32m     40\u001b[0m     \u001b[0meigen\u001b[0m\u001b[1;33m=\u001b[0m\u001b[0meigen\u001b[0m\u001b[1;33m.\u001b[0m\u001b[0mappend\u001b[0m\u001b[1;33m(\u001b[0m\u001b[0mdf\u001b[0m\u001b[1;33m)\u001b[0m\u001b[1;33m\u001b[0m\u001b[1;33m\u001b[0m\u001b[0m\n",
      "\u001b[1;32m~\\anaconda3\\envs\\new_env\\lib\\site-packages\\py2neo\\database.py\u001b[0m in \u001b[0;36mrun\u001b[1;34m(self, cypher, parameters, **kwparameters)\u001b[0m\n\u001b[0;32m    403\u001b[0m         \u001b[1;33m:\u001b[0m\u001b[1;32mreturn\u001b[0m\u001b[1;33m:\u001b[0m\u001b[1;33m\u001b[0m\u001b[1;33m\u001b[0m\u001b[0m\n\u001b[0;32m    404\u001b[0m         \"\"\"\n\u001b[1;32m--> 405\u001b[1;33m         \u001b[1;32mreturn\u001b[0m \u001b[0mself\u001b[0m\u001b[1;33m.\u001b[0m\u001b[0mauto\u001b[0m\u001b[1;33m(\u001b[0m\u001b[1;33m)\u001b[0m\u001b[1;33m.\u001b[0m\u001b[0mrun\u001b[0m\u001b[1;33m(\u001b[0m\u001b[0mcypher\u001b[0m\u001b[1;33m,\u001b[0m \u001b[0mparameters\u001b[0m\u001b[1;33m,\u001b[0m \u001b[1;33m**\u001b[0m\u001b[0mkwparameters\u001b[0m\u001b[1;33m)\u001b[0m\u001b[1;33m\u001b[0m\u001b[1;33m\u001b[0m\u001b[0m\n\u001b[0m\u001b[0;32m    406\u001b[0m \u001b[1;33m\u001b[0m\u001b[0m\n\u001b[0;32m    407\u001b[0m     \u001b[1;32mdef\u001b[0m \u001b[0mevaluate\u001b[0m\u001b[1;33m(\u001b[0m\u001b[0mself\u001b[0m\u001b[1;33m,\u001b[0m \u001b[0mcypher\u001b[0m\u001b[1;33m,\u001b[0m \u001b[0mparameters\u001b[0m\u001b[1;33m=\u001b[0m\u001b[1;32mNone\u001b[0m\u001b[1;33m,\u001b[0m \u001b[1;33m**\u001b[0m\u001b[0mkwparameters\u001b[0m\u001b[1;33m)\u001b[0m\u001b[1;33m:\u001b[0m\u001b[1;33m\u001b[0m\u001b[1;33m\u001b[0m\u001b[0m\n",
      "\u001b[1;32m~\\anaconda3\\envs\\new_env\\lib\\site-packages\\py2neo\\database.py\u001b[0m in \u001b[0;36mrun\u001b[1;34m(self, cypher, parameters, **kwparameters)\u001b[0m\n\u001b[0;32m    990\u001b[0m                                                   \u001b[0mgraph_name\u001b[0m\u001b[1;33m=\u001b[0m\u001b[0mself\u001b[0m\u001b[1;33m.\u001b[0m\u001b[0mgraph\u001b[0m\u001b[1;33m.\u001b[0m\u001b[0mname\u001b[0m\u001b[1;33m,\u001b[0m\u001b[1;33m\u001b[0m\u001b[1;33m\u001b[0m\u001b[0m\n\u001b[0;32m    991\u001b[0m                                                   readonly=self.readonly)\n\u001b[1;32m--> 992\u001b[1;33m             \u001b[0mself\u001b[0m\u001b[1;33m.\u001b[0m\u001b[0m_connector\u001b[0m\u001b[1;33m.\u001b[0m\u001b[0mpull\u001b[0m\u001b[1;33m(\u001b[0m\u001b[0mresult\u001b[0m\u001b[1;33m,\u001b[0m \u001b[1;33m-\u001b[0m\u001b[1;36m1\u001b[0m\u001b[1;33m)\u001b[0m\u001b[1;33m\u001b[0m\u001b[1;33m\u001b[0m\u001b[0m\n\u001b[0m\u001b[0;32m    993\u001b[0m             \u001b[1;32mreturn\u001b[0m \u001b[0mCursor\u001b[0m\u001b[1;33m(\u001b[0m\u001b[0mresult\u001b[0m\u001b[1;33m,\u001b[0m \u001b[0mhydrant\u001b[0m\u001b[1;33m)\u001b[0m\u001b[1;33m\u001b[0m\u001b[1;33m\u001b[0m\u001b[0m\n\u001b[0;32m    994\u001b[0m         \u001b[1;32mfinally\u001b[0m\u001b[1;33m:\u001b[0m\u001b[1;33m\u001b[0m\u001b[1;33m\u001b[0m\u001b[0m\n",
      "\u001b[1;32m~\\anaconda3\\envs\\new_env\\lib\\site-packages\\py2neo\\client\\__init__.py\u001b[0m in \u001b[0;36mpull\u001b[1;34m(self, result, n)\u001b[0m\n\u001b[0;32m   1432\u001b[0m         \u001b[0mcx\u001b[0m \u001b[1;33m=\u001b[0m \u001b[0mself\u001b[0m\u001b[1;33m.\u001b[0m\u001b[0m_reacquire\u001b[0m\u001b[1;33m(\u001b[0m\u001b[0mresult\u001b[0m\u001b[1;33m.\u001b[0m\u001b[0mtransaction\u001b[0m\u001b[1;33m)\u001b[0m\u001b[1;33m\u001b[0m\u001b[1;33m\u001b[0m\u001b[0m\n\u001b[0;32m   1433\u001b[0m         \u001b[1;32mtry\u001b[0m\u001b[1;33m:\u001b[0m\u001b[1;33m\u001b[0m\u001b[1;33m\u001b[0m\u001b[0m\n\u001b[1;32m-> 1434\u001b[1;33m             \u001b[0mcx\u001b[0m\u001b[1;33m.\u001b[0m\u001b[0mpull\u001b[0m\u001b[1;33m(\u001b[0m\u001b[0mresult\u001b[0m\u001b[1;33m,\u001b[0m \u001b[0mn\u001b[0m\u001b[1;33m=\u001b[0m\u001b[0mn\u001b[0m\u001b[1;33m)\u001b[0m\u001b[1;33m\u001b[0m\u001b[1;33m\u001b[0m\u001b[0m\n\u001b[0m\u001b[0;32m   1435\u001b[0m         \u001b[1;32mexcept\u001b[0m \u001b[1;33m(\u001b[0m\u001b[0mConnectionUnavailable\u001b[0m\u001b[1;33m,\u001b[0m \u001b[0mConnectionBroken\u001b[0m\u001b[1;33m)\u001b[0m\u001b[1;33m:\u001b[0m\u001b[1;33m\u001b[0m\u001b[1;33m\u001b[0m\u001b[0m\n\u001b[0;32m   1436\u001b[0m             \u001b[0mself\u001b[0m\u001b[1;33m.\u001b[0m\u001b[0mprune\u001b[0m\u001b[1;33m(\u001b[0m\u001b[0mcx\u001b[0m\u001b[1;33m.\u001b[0m\u001b[0mprofile\u001b[0m\u001b[1;33m)\u001b[0m\u001b[1;33m\u001b[0m\u001b[1;33m\u001b[0m\u001b[0m\n",
      "\u001b[1;32m~\\anaconda3\\envs\\new_env\\lib\\site-packages\\py2neo\\client\\bolt.py\u001b[0m in \u001b[0;36mpull\u001b[1;34m(self, result, n, capacity)\u001b[0m\n\u001b[0;32m    999\u001b[0m                                         \"during pull\"), error)\n\u001b[0;32m   1000\u001b[0m         \u001b[1;32melse\u001b[0m\u001b[1;33m:\u001b[0m\u001b[1;33m\u001b[0m\u001b[1;33m\u001b[0m\u001b[0m\n\u001b[1;32m-> 1001\u001b[1;33m             \u001b[0mself\u001b[0m\u001b[1;33m.\u001b[0m\u001b[0m_audit\u001b[0m\u001b[1;33m(\u001b[0m\u001b[0mself\u001b[0m\u001b[1;33m.\u001b[0m\u001b[0m_transaction\u001b[0m\u001b[1;33m)\u001b[0m\u001b[1;33m\u001b[0m\u001b[1;33m\u001b[0m\u001b[0m\n\u001b[0m\u001b[0;32m   1002\u001b[0m             \u001b[1;32mreturn\u001b[0m \u001b[0mresponse\u001b[0m\u001b[1;33m\u001b[0m\u001b[1;33m\u001b[0m\u001b[0m\n\u001b[0;32m   1003\u001b[0m \u001b[1;33m\u001b[0m\u001b[0m\n",
      "\u001b[1;32m~\\anaconda3\\envs\\new_env\\lib\\site-packages\\py2neo\\client\\bolt.py\u001b[0m in \u001b[0;36m_audit\u001b[1;34m(self, task)\u001b[0m\n\u001b[0;32m    808\u001b[0m             \u001b[1;32mreturn\u001b[0m\u001b[1;33m\u001b[0m\u001b[1;33m\u001b[0m\u001b[0m\n\u001b[0;32m    809\u001b[0m         \u001b[1;32mtry\u001b[0m\u001b[1;33m:\u001b[0m\u001b[1;33m\u001b[0m\u001b[1;33m\u001b[0m\u001b[0m\n\u001b[1;32m--> 810\u001b[1;33m             \u001b[0mtask\u001b[0m\u001b[1;33m.\u001b[0m\u001b[0maudit\u001b[0m\u001b[1;33m(\u001b[0m\u001b[1;33m)\u001b[0m\u001b[1;33m\u001b[0m\u001b[1;33m\u001b[0m\u001b[0m\n\u001b[0m\u001b[0;32m    811\u001b[0m         \u001b[1;32mexcept\u001b[0m \u001b[0mNeo4jError\u001b[0m\u001b[1;33m:\u001b[0m\u001b[1;33m\u001b[0m\u001b[1;33m\u001b[0m\u001b[0m\n\u001b[0;32m    812\u001b[0m             \u001b[0mself\u001b[0m\u001b[1;33m.\u001b[0m\u001b[0mreset\u001b[0m\u001b[1;33m(\u001b[0m\u001b[0mforce\u001b[0m\u001b[1;33m=\u001b[0m\u001b[1;32mTrue\u001b[0m\u001b[1;33m)\u001b[0m\u001b[1;33m\u001b[0m\u001b[1;33m\u001b[0m\u001b[0m\n",
      "\u001b[1;32m~\\anaconda3\\envs\\new_env\\lib\\site-packages\\py2neo\\client\\bolt.py\u001b[0m in \u001b[0;36maudit\u001b[1;34m(self)\u001b[0m\n\u001b[0;32m   1138\u001b[0m     \u001b[1;32mdef\u001b[0m \u001b[0maudit\u001b[0m\u001b[1;33m(\u001b[0m\u001b[0mself\u001b[0m\u001b[1;33m)\u001b[0m\u001b[1;33m:\u001b[0m\u001b[1;33m\u001b[0m\u001b[1;33m\u001b[0m\u001b[0m\n\u001b[0;32m   1139\u001b[0m         \u001b[1;32mfor\u001b[0m \u001b[0mitem\u001b[0m \u001b[1;32min\u001b[0m \u001b[0mself\u001b[0m\u001b[1;33m.\u001b[0m\u001b[0m_items\u001b[0m\u001b[1;33m:\u001b[0m\u001b[1;33m\u001b[0m\u001b[1;33m\u001b[0m\u001b[0m\n\u001b[1;32m-> 1140\u001b[1;33m             \u001b[0mitem\u001b[0m\u001b[1;33m.\u001b[0m\u001b[0maudit\u001b[0m\u001b[1;33m(\u001b[0m\u001b[1;33m)\u001b[0m\u001b[1;33m\u001b[0m\u001b[1;33m\u001b[0m\u001b[0m\n\u001b[0m\u001b[0;32m   1141\u001b[0m \u001b[1;33m\u001b[0m\u001b[0m\n\u001b[0;32m   1142\u001b[0m \u001b[1;33m\u001b[0m\u001b[0m\n",
      "\u001b[1;32m~\\anaconda3\\envs\\new_env\\lib\\site-packages\\py2neo\\client\\bolt.py\u001b[0m in \u001b[0;36maudit\u001b[1;34m(self)\u001b[0m\n\u001b[0;32m   1138\u001b[0m     \u001b[1;32mdef\u001b[0m \u001b[0maudit\u001b[0m\u001b[1;33m(\u001b[0m\u001b[0mself\u001b[0m\u001b[1;33m)\u001b[0m\u001b[1;33m:\u001b[0m\u001b[1;33m\u001b[0m\u001b[1;33m\u001b[0m\u001b[0m\n\u001b[0;32m   1139\u001b[0m         \u001b[1;32mfor\u001b[0m \u001b[0mitem\u001b[0m \u001b[1;32min\u001b[0m \u001b[0mself\u001b[0m\u001b[1;33m.\u001b[0m\u001b[0m_items\u001b[0m\u001b[1;33m:\u001b[0m\u001b[1;33m\u001b[0m\u001b[1;33m\u001b[0m\u001b[0m\n\u001b[1;32m-> 1140\u001b[1;33m             \u001b[0mitem\u001b[0m\u001b[1;33m.\u001b[0m\u001b[0maudit\u001b[0m\u001b[1;33m(\u001b[0m\u001b[1;33m)\u001b[0m\u001b[1;33m\u001b[0m\u001b[1;33m\u001b[0m\u001b[0m\n\u001b[0m\u001b[0;32m   1141\u001b[0m \u001b[1;33m\u001b[0m\u001b[0m\n\u001b[0;32m   1142\u001b[0m \u001b[1;33m\u001b[0m\u001b[0m\n",
      "\u001b[1;32m~\\anaconda3\\envs\\new_env\\lib\\site-packages\\py2neo\\client\\bolt.py\u001b[0m in \u001b[0;36maudit\u001b[1;34m(self)\u001b[0m\n\u001b[0;32m   1301\u001b[0m         \u001b[1;32mif\u001b[0m \u001b[0mself\u001b[0m\u001b[1;33m.\u001b[0m\u001b[0m_failure\u001b[0m\u001b[1;33m:\u001b[0m\u001b[1;33m\u001b[0m\u001b[1;33m\u001b[0m\u001b[0m\n\u001b[0;32m   1302\u001b[0m             \u001b[0mself\u001b[0m\u001b[1;33m.\u001b[0m\u001b[0mset_ignored\u001b[0m\u001b[1;33m(\u001b[0m\u001b[1;33m)\u001b[0m\u001b[1;33m\u001b[0m\u001b[1;33m\u001b[0m\u001b[0m\n\u001b[1;32m-> 1303\u001b[1;33m             \u001b[1;32mraise\u001b[0m \u001b[0mself\u001b[0m\u001b[1;33m.\u001b[0m\u001b[0m_failure\u001b[0m\u001b[1;33m\u001b[0m\u001b[1;33m\u001b[0m\u001b[0m\n\u001b[0m\u001b[0;32m   1304\u001b[0m \u001b[1;33m\u001b[0m\u001b[0m\n\u001b[0;32m   1305\u001b[0m     \u001b[1;33m@\u001b[0m\u001b[0mproperty\u001b[0m\u001b[1;33m\u001b[0m\u001b[1;33m\u001b[0m\u001b[0m\n",
      "\u001b[1;31mClientError\u001b[0m: [Procedure.ProcedureCallFailed] Failed to invoke procedure `gds.eigenvector.stats`: Caused by: java.lang.OutOfMemoryError: Java heap space"
     ]
    }
   ],
   "source": [
    "triangle = pd.DataFrame()\n",
    "degree = pd.DataFrame()\n",
    "eigen=pd.DataFrame()\n",
    "component=pd.DataFrame()\n",
    "for i in range (0, len(providers)): \n",
    "    query=\"\"\"\n",
    "CALL gds.graph.create.cypher(\n",
    "  'Physician_{}',\n",
    "  'match (p:Provider)-[h:HAS_WORKED_WITH]-(p1:Physician)-[t:HAS_TREATED]-(b:Beneficiary) Where p.idx=\"{}\" return id(p1) AS id UNION  match (p:Provider)-[h:HAS_WORKED_WITH]-(p1:Physician)-[t:HAS_TREATED]-(b:Beneficiary) Where p.idx=\"{}\" return id(b) as id',\n",
    "  'match (p:Provider)-[h:HAS_WORKED_WITH]-(p1:Physician)-[t:HAS_TREATED]-(b:Beneficiary) Where p.idx=\"{}\" RETURN id(p1) AS source, id(b) AS target, type(t) AS type')\n",
    "YIELD\n",
    "  graphName AS graph, nodeQuery, nodeCount AS nodes, relationshipCount AS rels\n",
    "\n",
    "\"\"\".format(providers[i][0],providers[i][0],providers[i][0],providers[i][0])\n",
    "    db.run(query).to_table()\n",
    "    query=\"\"\"\n",
    "CALL gds.triangleCount.stats('Physician_{}')\n",
    "YIELD nodeCount\n",
    "\"\"\".format(providers[i][0])\n",
    "    df=db.run(query).to_table()\n",
    "    df=pd.DataFrame(df)\n",
    "    triangle=triangle.append(df)\n",
    "    query= \"\"\"\n",
    "CALL gds.degree.stats('Physician_{}')\n",
    "YIELD centralityDistribution\n",
    "RETURN centralityDistribution.min AS minimumScore, centralityDistribution.mean AS meanScore, centralityDistribution.max AS maxscore\n",
    "\"\"\".format(providers[i][0])\n",
    "    df=db.run(query).to_table()\n",
    "    df=pd.DataFrame(df)\n",
    "    degree=degree.append(df)\n",
    "    query= \"\"\"\n",
    "CALL gds.eigenvector.stats('Physician_{}', {{\n",
    "  maxIterations: 20\n",
    "}})\n",
    "YIELD centralityDistribution\n",
    "RETURN centralityDistribution.max AS max\n",
    "\"\"\".format(providers[i][0])\n",
    "    df=db.run(query).to_table()\n",
    "    df=pd.DataFrame(df)\n",
    "    eigen=eigen.append(df)\n",
    "    query= \"\"\"\n",
    "CALL gds.wcc.stats('Physician_{}')\n",
    "YIELD componentCount\n",
    "\"\"\".format(providers[i][0])\n",
    "    df=db.run(query).to_table()\n",
    "    df=pd.DataFrame(df)\n",
    "    component=component.append(df)\n",
    "    query= \"\"\"\n",
    "CALL gds.graph.drop('Physician_{}')\n",
    "\"\"\".format(providers[i][0])\n",
    "    db.run(query)"
   ]
  },
  {
   "cell_type": "code",
   "execution_count": 10,
   "id": "55b3f5d8",
   "metadata": {},
   "outputs": [
    {
     "data": {
      "text/html": [
       "<div>\n",
       "<style scoped>\n",
       "    .dataframe tbody tr th:only-of-type {\n",
       "        vertical-align: middle;\n",
       "    }\n",
       "\n",
       "    .dataframe tbody tr th {\n",
       "        vertical-align: top;\n",
       "    }\n",
       "\n",
       "    .dataframe thead th {\n",
       "        text-align: right;\n",
       "    }\n",
       "</style>\n",
       "<table border=\"1\" class=\"dataframe\">\n",
       "  <thead>\n",
       "    <tr style=\"text-align: right;\">\n",
       "      <th></th>\n",
       "      <th>0</th>\n",
       "    </tr>\n",
       "  </thead>\n",
       "  <tbody>\n",
       "    <tr>\n",
       "      <th>0</th>\n",
       "      <td>0.174390</td>\n",
       "    </tr>\n",
       "    <tr>\n",
       "      <th>0</th>\n",
       "      <td>0.420378</td>\n",
       "    </tr>\n",
       "    <tr>\n",
       "      <th>0</th>\n",
       "      <td>0.229393</td>\n",
       "    </tr>\n",
       "    <tr>\n",
       "      <th>0</th>\n",
       "      <td>0.095331</td>\n",
       "    </tr>\n",
       "    <tr>\n",
       "      <th>0</th>\n",
       "      <td>0.493816</td>\n",
       "    </tr>\n",
       "    <tr>\n",
       "      <th>...</th>\n",
       "      <td>...</td>\n",
       "    </tr>\n",
       "    <tr>\n",
       "      <th>0</th>\n",
       "      <td>0.232312</td>\n",
       "    </tr>\n",
       "    <tr>\n",
       "      <th>0</th>\n",
       "      <td>0.136076</td>\n",
       "    </tr>\n",
       "    <tr>\n",
       "      <th>0</th>\n",
       "      <td>0.236646</td>\n",
       "    </tr>\n",
       "    <tr>\n",
       "      <th>0</th>\n",
       "      <td>0.447540</td>\n",
       "    </tr>\n",
       "    <tr>\n",
       "      <th>0</th>\n",
       "      <td>0.532249</td>\n",
       "    </tr>\n",
       "  </tbody>\n",
       "</table>\n",
       "<p>3770 rows × 1 columns</p>\n",
       "</div>"
      ],
      "text/plain": [
       "           0\n",
       "0   0.174390\n",
       "0   0.420378\n",
       "0   0.229393\n",
       "0   0.095331\n",
       "0   0.493816\n",
       "..       ...\n",
       "0   0.232312\n",
       "0   0.136076\n",
       "0   0.236646\n",
       "0   0.447540\n",
       "0   0.532249\n",
       "\n",
       "[3770 rows x 1 columns]"
      ]
     },
     "execution_count": 10,
     "metadata": {},
     "output_type": "execute_result"
    }
   ],
   "source": [
    "eigen"
   ]
  },
  {
   "cell_type": "code",
   "execution_count": 37,
   "id": "dbbcb964",
   "metadata": {},
   "outputs": [
    {
     "data": {
      "text/html": [
       "<div>\n",
       "<style scoped>\n",
       "    .dataframe tbody tr th:only-of-type {\n",
       "        vertical-align: middle;\n",
       "    }\n",
       "\n",
       "    .dataframe tbody tr th {\n",
       "        vertical-align: top;\n",
       "    }\n",
       "\n",
       "    .dataframe thead th {\n",
       "        text-align: right;\n",
       "    }\n",
       "</style>\n",
       "<table border=\"1\" class=\"dataframe\">\n",
       "  <thead>\n",
       "    <tr style=\"text-align: right;\">\n",
       "      <th></th>\n",
       "      <th>0</th>\n",
       "    </tr>\n",
       "  </thead>\n",
       "  <tbody>\n",
       "    <tr>\n",
       "      <th>0</th>\n",
       "      <td>225</td>\n",
       "    </tr>\n",
       "    <tr>\n",
       "      <th>0</th>\n",
       "      <td>20</td>\n",
       "    </tr>\n",
       "    <tr>\n",
       "      <th>0</th>\n",
       "      <td>21</td>\n",
       "    </tr>\n",
       "    <tr>\n",
       "      <th>0</th>\n",
       "      <td>128</td>\n",
       "    </tr>\n",
       "    <tr>\n",
       "      <th>0</th>\n",
       "      <td>24</td>\n",
       "    </tr>\n",
       "    <tr>\n",
       "      <th>...</th>\n",
       "      <td>...</td>\n",
       "    </tr>\n",
       "    <tr>\n",
       "      <th>0</th>\n",
       "      <td>37</td>\n",
       "    </tr>\n",
       "    <tr>\n",
       "      <th>0</th>\n",
       "      <td>10</td>\n",
       "    </tr>\n",
       "    <tr>\n",
       "      <th>0</th>\n",
       "      <td>179</td>\n",
       "    </tr>\n",
       "    <tr>\n",
       "      <th>0</th>\n",
       "      <td>63</td>\n",
       "    </tr>\n",
       "    <tr>\n",
       "      <th>0</th>\n",
       "      <td>60</td>\n",
       "    </tr>\n",
       "  </tbody>\n",
       "</table>\n",
       "<p>3736 rows × 1 columns</p>\n",
       "</div>"
      ],
      "text/plain": [
       "      0\n",
       "0   225\n",
       "0    20\n",
       "0    21\n",
       "0   128\n",
       "0    24\n",
       "..  ...\n",
       "0    37\n",
       "0    10\n",
       "0   179\n",
       "0    63\n",
       "0    60\n",
       "\n",
       "[3736 rows x 1 columns]"
      ]
     },
     "execution_count": 37,
     "metadata": {},
     "output_type": "execute_result"
    }
   ],
   "source": [
    "triangle"
   ]
  },
  {
   "cell_type": "code",
   "execution_count": 29,
   "id": "378c2fc7",
   "metadata": {},
   "outputs": [],
   "source": [
    "triangle.to_csv('triangle.csv')\n",
    "degree.to_csv('degree.csv')\n",
    "eigen.to_csv('eigen.csv')\n",
    "component.to_csv('component.csv')"
   ]
  },
  {
   "cell_type": "markdown",
   "id": "6e791023",
   "metadata": {},
   "source": [
    "- Betweenness centrality is a way of detecting the amount of influence a node has over the flow of information in a graph. It is often used to find nodes that serve as a bridge from one part of a graph to another.\n",
    "- The Degree Centrality algorithm can be used to find popular nodes within a graph. Degree centrality measures the number of incoming or outgoing (or both) relationships from a node\n",
    "- Eigenvector Centrality is an algorithm that measures the transitive influence of nodes. Relationships originating from high-scoring nodes contribute more to the score of a node than connections from low-scoring nodes. A high eigenvector score means that a node is connected to many nodes who themselves have high scores."
   ]
  },
  {
   "cell_type": "markdown",
   "id": "dc4cda47",
   "metadata": {},
   "source": [
    "#### Triangle"
   ]
  },
  {
   "cell_type": "code",
   "execution_count": 58,
   "id": "354a1498",
   "metadata": {},
   "outputs": [
    {
     "data": {
      "text/html": [
       "<table><tr><th>globalTriangleCount</th><th>nodeCount</th></tr><tr><td style=\"text-align:right\">0</td><td style=\"text-align:right\">145</td></tr></table>"
      ],
      "text/plain": [
       " globalTriangleCount | nodeCount \n",
       "---------------------|-----------\n",
       "                   0 |       145 "
      ]
     },
     "execution_count": 58,
     "metadata": {},
     "output_type": "execute_result"
    }
   ],
   "source": [
    "query=\"\"\"\n",
    "CALL gds.triangleCount.stats('Physician_PRV55673')\n",
    "YIELD globalTriangleCount, nodeCount\n",
    "\"\"\"\n",
    "db.run(query).to_table()"
   ]
  },
  {
   "cell_type": "markdown",
   "id": "6bb4c4cf",
   "metadata": {},
   "source": [
    "#### Degree"
   ]
  },
  {
   "cell_type": "code",
   "execution_count": 63,
   "id": "a21d7037",
   "metadata": {},
   "outputs": [],
   "source": [
    "query= \"\"\"\n",
    "CALL gds.degree.stats('Physician_PRV55673')\n",
    "YIELD centralityDistribution\n",
    "RETURN centralityDistribution.min AS minimumScore, centralityDistribution.mean AS meanScore, centralityDistribution.max AS maxscore\n",
    "\"\"\""
   ]
  },
  {
   "cell_type": "code",
   "execution_count": null,
   "id": "514dd3cd",
   "metadata": {},
   "outputs": [],
   "source": [
    "db.run(query).to_table()"
   ]
  },
  {
   "cell_type": "code",
   "execution_count": 37,
   "id": "b3351646",
   "metadata": {},
   "outputs": [],
   "source": [
    "query= \"\"\"\n",
    "CALL gds.betweenness.stats('Physician&Beneficiary')\n",
    "YIELD centralityDistribution\n",
    "RETURN centralityDistribution.min AS minimumScore, centralityDistribution.mean AS meanScore, centralityDistribution.max AS maxscore\n",
    "\"\"\""
   ]
  },
  {
   "cell_type": "code",
   "execution_count": 38,
   "id": "6d41a336",
   "metadata": {},
   "outputs": [
    {
     "data": {
      "text/html": [
       "<table><tr><th>minimumScore</th><th>meanScore</th><th>maxscore</th></tr><tr><td style=\"text-align:right\">0.0</td><td style=\"text-align:right\">0.0</td><td style=\"text-align:right\">0.0</td></tr></table>"
      ],
      "text/plain": [
       " minimumScore | meanScore | maxscore \n",
       "--------------|-----------|----------\n",
       "          0.0 |       0.0 |      0.0 "
      ]
     },
     "execution_count": 38,
     "metadata": {},
     "output_type": "execute_result"
    }
   ],
   "source": [
    "db.run(query).to_table()"
   ]
  },
  {
   "cell_type": "code",
   "execution_count": 45,
   "id": "21429bdc",
   "metadata": {},
   "outputs": [],
   "source": [
    "query= \"\"\"\n",
    "CALL gds.eigenvector.stats('Physician_{}', {{\n",
    "  maxIterations: 20\n",
    "}})\n",
    "YIELD centralityDistribution\n",
    "RETURN centralityDistribution.max AS max\n",
    "\"\"\".format(p1)"
   ]
  },
  {
   "cell_type": "code",
   "execution_count": 46,
   "id": "50d5f39a",
   "metadata": {},
   "outputs": [
    {
     "name": "stdout",
     "output_type": "stream",
     "text": [
      "\n",
      "CALL gds.eigenvector.stats('Physician_PRV54572', {\n",
      "  maxIterations: 20\n",
      "})\n",
      "YIELD centralityDistribution\n",
      "RETURN centralityDistribution.max AS max\n",
      "\n"
     ]
    }
   ],
   "source": [
    "print(query)"
   ]
  },
  {
   "cell_type": "code",
   "execution_count": 47,
   "id": "2635dadb",
   "metadata": {},
   "outputs": [
    {
     "data": {
      "text/html": [
       "<table><tr><th>max</th></tr><tr><td style=\"text-align:right\">0.17438983172178268</td></tr></table>"
      ],
      "text/plain": [
       "                 max \n",
       "---------------------\n",
       " 0.17438983172178268 "
      ]
     },
     "execution_count": 47,
     "metadata": {},
     "output_type": "execute_result"
    }
   ],
   "source": [
    "db.run(query).to_table()"
   ]
  },
  {
   "cell_type": "code",
   "execution_count": 52,
   "id": "b5c6b8fb",
   "metadata": {},
   "outputs": [],
   "source": [
    "query= \"\"\"\n",
    "CALL gds.wcc.stats('Physician&Beneficiary')\n",
    "YIELD componentCount\n",
    "\"\"\""
   ]
  },
  {
   "cell_type": "code",
   "execution_count": 53,
   "id": "0f212dfb",
   "metadata": {},
   "outputs": [
    {
     "data": {
      "text/html": [
       "<table><tr><th>componentCount</th></tr><tr><td style=\"text-align:right\">6</td></tr></table>"
      ],
      "text/plain": [
       " componentCount \n",
       "----------------\n",
       "              6 "
      ]
     },
     "execution_count": 53,
     "metadata": {},
     "output_type": "execute_result"
    }
   ],
   "source": [
    "db.run(query).to_table()"
   ]
  }
 ],
 "metadata": {
  "kernelspec": {
   "display_name": "Python [conda env:new_env]",
   "language": "python",
   "name": "conda-env-new_env-py"
  },
  "language_info": {
   "codemirror_mode": {
    "name": "ipython",
    "version": 3
   },
   "file_extension": ".py",
   "mimetype": "text/x-python",
   "name": "python",
   "nbconvert_exporter": "python",
   "pygments_lexer": "ipython3",
   "version": "3.9.7"
  }
 },
 "nbformat": 4,
 "nbformat_minor": 5
}
