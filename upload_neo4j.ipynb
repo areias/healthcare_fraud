{
 "cells": [
  {
   "cell_type": "markdown",
   "id": "d948c66b",
   "metadata": {},
   "source": [
    "## Health Insurance Fraud"
   ]
  },
  {
   "cell_type": "markdown",
   "id": "dfa5ceb6",
   "metadata": {},
   "source": [
    "![](schema_draft_3.png)"
   ]
  },
  {
   "cell_type": "code",
   "execution_count": 18,
   "id": "b6c584f6",
   "metadata": {},
   "outputs": [],
   "source": [
    "from py2neo import Graph, Node\n",
    "db = Graph(scheme=\"bolt\", host=\"localhost\", port=7687, secure=False, \n",
    "                auth=('neo4j', 'test'))\n",
    "db.delete_all()"
   ]
  },
  {
   "cell_type": "code",
   "execution_count": 1,
   "id": "87a5f4f7",
   "metadata": {},
   "outputs": [],
   "source": [
    "import pandas as pd\n"
   ]
  },
  {
   "cell_type": "code",
   "execution_count": 2,
   "id": "4ca253da",
   "metadata": {},
   "outputs": [
    {
     "name": "stdout",
     "output_type": "stream",
     "text": [
      "\u001b[0m\u001b[01;31marchive.zip\u001b[0m                             Train-1542865627584.csv\n",
      "Test-1542969243754.csv                  Train_Beneficiarydata-1542865627584.csv\n",
      "Test_Beneficiarydata-1542969243754.csv  Train_Inpatientdata-1542865627584.csv\n",
      "Test_Inpatientdata-1542969243754.csv    Train_Outpatientdata-1542865627584.csv\n",
      "Test_Outpatientdata-1542969243754.csv\n"
     ]
    }
   ],
   "source": [
    "%ls data"
   ]
  },
  {
   "cell_type": "code",
   "execution_count": 3,
   "id": "bd701ab0",
   "metadata": {},
   "outputs": [],
   "source": [
    "df=pd.read_csv(\"data/Train_Beneficiarydata-1542865627584.csv\")"
   ]
  },
  {
   "cell_type": "code",
   "execution_count": 4,
   "id": "c5f733b2",
   "metadata": {},
   "outputs": [
    {
     "data": {
      "text/plain": [
       "Index(['BeneID', 'DOB', 'DOD', 'Gender', 'Race', 'RenalDiseaseIndicator',\n",
       "       'State', 'County', 'NoOfMonths_PartACov', 'NoOfMonths_PartBCov',\n",
       "       'ChronicCond_Alzheimer', 'ChronicCond_Heartfailure',\n",
       "       'ChronicCond_KidneyDisease', 'ChronicCond_Cancer',\n",
       "       'ChronicCond_ObstrPulmonary', 'ChronicCond_Depression',\n",
       "       'ChronicCond_Diabetes', 'ChronicCond_IschemicHeart',\n",
       "       'ChronicCond_Osteoporasis', 'ChronicCond_rheumatoidarthritis',\n",
       "       'ChronicCond_stroke', 'IPAnnualReimbursementAmt',\n",
       "       'IPAnnualDeductibleAmt', 'OPAnnualReimbursementAmt',\n",
       "       'OPAnnualDeductibleAmt'],\n",
       "      dtype='object')"
      ]
     },
     "execution_count": 4,
     "metadata": {},
     "output_type": "execute_result"
    }
   ],
   "source": [
    "df.columns"
   ]
  },
  {
   "cell_type": "code",
   "execution_count": 5,
   "id": "7d61a9af",
   "metadata": {},
   "outputs": [
    {
     "data": {
      "text/html": [
       "<div>\n",
       "<style scoped>\n",
       "    .dataframe tbody tr th:only-of-type {\n",
       "        vertical-align: middle;\n",
       "    }\n",
       "\n",
       "    .dataframe tbody tr th {\n",
       "        vertical-align: top;\n",
       "    }\n",
       "\n",
       "    .dataframe thead th {\n",
       "        text-align: right;\n",
       "    }\n",
       "</style>\n",
       "<table border=\"1\" class=\"dataframe\">\n",
       "  <thead>\n",
       "    <tr style=\"text-align: right;\">\n",
       "      <th></th>\n",
       "      <th>BeneID</th>\n",
       "      <th>DOB</th>\n",
       "      <th>DOD</th>\n",
       "      <th>Gender</th>\n",
       "      <th>Race</th>\n",
       "      <th>RenalDiseaseIndicator</th>\n",
       "      <th>State</th>\n",
       "      <th>County</th>\n",
       "      <th>NoOfMonths_PartACov</th>\n",
       "      <th>NoOfMonths_PartBCov</th>\n",
       "      <th>...</th>\n",
       "      <th>ChronicCond_Depression</th>\n",
       "      <th>ChronicCond_Diabetes</th>\n",
       "      <th>ChronicCond_IschemicHeart</th>\n",
       "      <th>ChronicCond_Osteoporasis</th>\n",
       "      <th>ChronicCond_rheumatoidarthritis</th>\n",
       "      <th>ChronicCond_stroke</th>\n",
       "      <th>IPAnnualReimbursementAmt</th>\n",
       "      <th>IPAnnualDeductibleAmt</th>\n",
       "      <th>OPAnnualReimbursementAmt</th>\n",
       "      <th>OPAnnualDeductibleAmt</th>\n",
       "    </tr>\n",
       "  </thead>\n",
       "  <tbody>\n",
       "    <tr>\n",
       "      <th>0</th>\n",
       "      <td>BENE11001</td>\n",
       "      <td>1943-01-01</td>\n",
       "      <td>NaN</td>\n",
       "      <td>1</td>\n",
       "      <td>1</td>\n",
       "      <td>0</td>\n",
       "      <td>39</td>\n",
       "      <td>230</td>\n",
       "      <td>12</td>\n",
       "      <td>12</td>\n",
       "      <td>...</td>\n",
       "      <td>1</td>\n",
       "      <td>1</td>\n",
       "      <td>1</td>\n",
       "      <td>2</td>\n",
       "      <td>1</td>\n",
       "      <td>1</td>\n",
       "      <td>36000</td>\n",
       "      <td>3204</td>\n",
       "      <td>60</td>\n",
       "      <td>70</td>\n",
       "    </tr>\n",
       "    <tr>\n",
       "      <th>1</th>\n",
       "      <td>BENE11002</td>\n",
       "      <td>1936-09-01</td>\n",
       "      <td>NaN</td>\n",
       "      <td>2</td>\n",
       "      <td>1</td>\n",
       "      <td>0</td>\n",
       "      <td>39</td>\n",
       "      <td>280</td>\n",
       "      <td>12</td>\n",
       "      <td>12</td>\n",
       "      <td>...</td>\n",
       "      <td>2</td>\n",
       "      <td>2</td>\n",
       "      <td>2</td>\n",
       "      <td>2</td>\n",
       "      <td>2</td>\n",
       "      <td>2</td>\n",
       "      <td>0</td>\n",
       "      <td>0</td>\n",
       "      <td>30</td>\n",
       "      <td>50</td>\n",
       "    </tr>\n",
       "    <tr>\n",
       "      <th>2</th>\n",
       "      <td>BENE11003</td>\n",
       "      <td>1936-08-01</td>\n",
       "      <td>NaN</td>\n",
       "      <td>1</td>\n",
       "      <td>1</td>\n",
       "      <td>0</td>\n",
       "      <td>52</td>\n",
       "      <td>590</td>\n",
       "      <td>12</td>\n",
       "      <td>12</td>\n",
       "      <td>...</td>\n",
       "      <td>2</td>\n",
       "      <td>2</td>\n",
       "      <td>1</td>\n",
       "      <td>2</td>\n",
       "      <td>2</td>\n",
       "      <td>2</td>\n",
       "      <td>0</td>\n",
       "      <td>0</td>\n",
       "      <td>90</td>\n",
       "      <td>40</td>\n",
       "    </tr>\n",
       "    <tr>\n",
       "      <th>3</th>\n",
       "      <td>BENE11004</td>\n",
       "      <td>1922-07-01</td>\n",
       "      <td>NaN</td>\n",
       "      <td>1</td>\n",
       "      <td>1</td>\n",
       "      <td>0</td>\n",
       "      <td>39</td>\n",
       "      <td>270</td>\n",
       "      <td>12</td>\n",
       "      <td>12</td>\n",
       "      <td>...</td>\n",
       "      <td>2</td>\n",
       "      <td>1</td>\n",
       "      <td>1</td>\n",
       "      <td>1</td>\n",
       "      <td>1</td>\n",
       "      <td>2</td>\n",
       "      <td>0</td>\n",
       "      <td>0</td>\n",
       "      <td>1810</td>\n",
       "      <td>760</td>\n",
       "    </tr>\n",
       "    <tr>\n",
       "      <th>4</th>\n",
       "      <td>BENE11005</td>\n",
       "      <td>1935-09-01</td>\n",
       "      <td>NaN</td>\n",
       "      <td>1</td>\n",
       "      <td>1</td>\n",
       "      <td>0</td>\n",
       "      <td>24</td>\n",
       "      <td>680</td>\n",
       "      <td>12</td>\n",
       "      <td>12</td>\n",
       "      <td>...</td>\n",
       "      <td>2</td>\n",
       "      <td>1</td>\n",
       "      <td>2</td>\n",
       "      <td>2</td>\n",
       "      <td>2</td>\n",
       "      <td>2</td>\n",
       "      <td>0</td>\n",
       "      <td>0</td>\n",
       "      <td>1790</td>\n",
       "      <td>1200</td>\n",
       "    </tr>\n",
       "  </tbody>\n",
       "</table>\n",
       "<p>5 rows × 25 columns</p>\n",
       "</div>"
      ],
      "text/plain": [
       "      BeneID         DOB  DOD  Gender  Race RenalDiseaseIndicator  State  \\\n",
       "0  BENE11001  1943-01-01  NaN       1     1                     0     39   \n",
       "1  BENE11002  1936-09-01  NaN       2     1                     0     39   \n",
       "2  BENE11003  1936-08-01  NaN       1     1                     0     52   \n",
       "3  BENE11004  1922-07-01  NaN       1     1                     0     39   \n",
       "4  BENE11005  1935-09-01  NaN       1     1                     0     24   \n",
       "\n",
       "   County  NoOfMonths_PartACov  NoOfMonths_PartBCov  ...  \\\n",
       "0     230                   12                   12  ...   \n",
       "1     280                   12                   12  ...   \n",
       "2     590                   12                   12  ...   \n",
       "3     270                   12                   12  ...   \n",
       "4     680                   12                   12  ...   \n",
       "\n",
       "   ChronicCond_Depression  ChronicCond_Diabetes  ChronicCond_IschemicHeart  \\\n",
       "0                       1                     1                          1   \n",
       "1                       2                     2                          2   \n",
       "2                       2                     2                          1   \n",
       "3                       2                     1                          1   \n",
       "4                       2                     1                          2   \n",
       "\n",
       "   ChronicCond_Osteoporasis  ChronicCond_rheumatoidarthritis  \\\n",
       "0                         2                                1   \n",
       "1                         2                                2   \n",
       "2                         2                                2   \n",
       "3                         1                                1   \n",
       "4                         2                                2   \n",
       "\n",
       "   ChronicCond_stroke  IPAnnualReimbursementAmt  IPAnnualDeductibleAmt  \\\n",
       "0                   1                     36000                   3204   \n",
       "1                   2                         0                      0   \n",
       "2                   2                         0                      0   \n",
       "3                   2                         0                      0   \n",
       "4                   2                         0                      0   \n",
       "\n",
       "   OPAnnualReimbursementAmt  OPAnnualDeductibleAmt  \n",
       "0                        60                     70  \n",
       "1                        30                     50  \n",
       "2                        90                     40  \n",
       "3                      1810                    760  \n",
       "4                      1790                   1200  \n",
       "\n",
       "[5 rows x 25 columns]"
      ]
     },
     "execution_count": 5,
     "metadata": {},
     "output_type": "execute_result"
    }
   ],
   "source": [
    "df.head()"
   ]
  },
  {
   "cell_type": "markdown",
   "id": "36d90d0f",
   "metadata": {},
   "source": [
    "## Beneficiary nodes\n"
   ]
  },
  {
   "cell_type": "code",
   "execution_count": 99,
   "id": "c37a69ea",
   "metadata": {},
   "outputs": [
    {
     "data": {
      "text/plain": [
       "['BENE11001', 'BENE11002', 'BENE11003']"
      ]
     },
     "execution_count": 99,
     "metadata": {},
     "output_type": "execute_result"
    }
   ],
   "source": [
    "beneficiaries = list(df.BeneID.unique())\n",
    "beneficiaries[:3]"
   ]
  },
  {
   "cell_type": "code",
   "execution_count": 100,
   "id": "64c9084c",
   "metadata": {},
   "outputs": [
    {
     "data": {
      "text/plain": [
       "138556"
      ]
     },
     "execution_count": 100,
     "metadata": {},
     "output_type": "execute_result"
    }
   ],
   "source": [
    "len(beneficiaries)"
   ]
  },
  {
   "cell_type": "code",
   "execution_count": 101,
   "id": "6bf9207a",
   "metadata": {},
   "outputs": [],
   "source": [
    "bens = [{'idx': x} for x in beneficiaries]"
   ]
  },
  {
   "cell_type": "code",
   "execution_count": 102,
   "id": "870081f7",
   "metadata": {},
   "outputs": [
    {
     "data": {
      "text/plain": [
       "[{'idx': 'BENE11001'}, {'idx': 'BENE11002'}, {'idx': 'BENE11003'}]"
      ]
     },
     "execution_count": 102,
     "metadata": {},
     "output_type": "execute_result"
    }
   ],
   "source": [
    "bens[:3]"
   ]
  },
  {
   "cell_type": "code",
   "execution_count": 103,
   "id": "da278045",
   "metadata": {},
   "outputs": [],
   "source": [
    "# set constraint on beneficiary node that idx is unique\n",
    "query=\"\"\"CREATE CONSTRAINT ON (n:Beneficiary) ASSERT n.idx IS UNIQUE\"\"\""
   ]
  },
  {
   "cell_type": "code",
   "execution_count": null,
   "id": "285280b3",
   "metadata": {},
   "outputs": [],
   "source": [
    "db.run(query)"
   ]
  },
  {
   "cell_type": "code",
   "execution_count": 104,
   "id": "4500c46f",
   "metadata": {},
   "outputs": [
    {
     "data": {
      "text/plain": [
       "<py2neo.database.Cursor at 0x7f0486988250>"
      ]
     },
     "execution_count": 104,
     "metadata": {},
     "output_type": "execute_result"
    }
   ],
   "source": [
    "query = \"\"\"\n",
    "    UNWIND $bens AS ben\n",
    "    MERGE (b:Beneficiary {idx: ben.idx})\n",
    "        \"\"\"\n",
    "db.run(query, {\"bens\":bens})"
   ]
  },
  {
   "cell_type": "markdown",
   "id": "3cc24116",
   "metadata": {},
   "source": [
    "## Provider nodes"
   ]
  },
  {
   "cell_type": "code",
   "execution_count": 105,
   "id": "80699e48",
   "metadata": {},
   "outputs": [],
   "source": [
    "df_in = pd.read_csv(\"data/Train_Inpatientdata-1542865627584.csv\")"
   ]
  },
  {
   "cell_type": "code",
   "execution_count": 106,
   "id": "75bb5940",
   "metadata": {},
   "outputs": [
    {
     "data": {
      "text/plain": [
       "Index(['BeneID', 'ClaimID', 'ClaimStartDt', 'ClaimEndDt', 'Provider',\n",
       "       'InscClaimAmtReimbursed', 'AttendingPhysician', 'OperatingPhysician',\n",
       "       'OtherPhysician', 'AdmissionDt', 'ClmAdmitDiagnosisCode',\n",
       "       'DeductibleAmtPaid', 'DischargeDt', 'DiagnosisGroupCode',\n",
       "       'ClmDiagnosisCode_1', 'ClmDiagnosisCode_2', 'ClmDiagnosisCode_3',\n",
       "       'ClmDiagnosisCode_4', 'ClmDiagnosisCode_5', 'ClmDiagnosisCode_6',\n",
       "       'ClmDiagnosisCode_7', 'ClmDiagnosisCode_8', 'ClmDiagnosisCode_9',\n",
       "       'ClmDiagnosisCode_10', 'ClmProcedureCode_1', 'ClmProcedureCode_2',\n",
       "       'ClmProcedureCode_3', 'ClmProcedureCode_4', 'ClmProcedureCode_5',\n",
       "       'ClmProcedureCode_6'],\n",
       "      dtype='object')"
      ]
     },
     "execution_count": 106,
     "metadata": {},
     "output_type": "execute_result"
    }
   ],
   "source": [
    "df_in.columns"
   ]
  },
  {
   "cell_type": "code",
   "execution_count": 107,
   "id": "f7edf6f8",
   "metadata": {},
   "outputs": [],
   "source": [
    "df_out = pd.read_csv(\"data/Train_Outpatientdata-1542865627584.csv\")"
   ]
  },
  {
   "cell_type": "code",
   "execution_count": 108,
   "id": "2474c63a",
   "metadata": {},
   "outputs": [
    {
     "data": {
      "text/plain": [
       "Index(['BeneID', 'ClaimID', 'ClaimStartDt', 'ClaimEndDt', 'Provider',\n",
       "       'InscClaimAmtReimbursed', 'AttendingPhysician', 'OperatingPhysician',\n",
       "       'OtherPhysician', 'ClmDiagnosisCode_1', 'ClmDiagnosisCode_2',\n",
       "       'ClmDiagnosisCode_3', 'ClmDiagnosisCode_4', 'ClmDiagnosisCode_5',\n",
       "       'ClmDiagnosisCode_6', 'ClmDiagnosisCode_7', 'ClmDiagnosisCode_8',\n",
       "       'ClmDiagnosisCode_9', 'ClmDiagnosisCode_10', 'ClmProcedureCode_1',\n",
       "       'ClmProcedureCode_2', 'ClmProcedureCode_3', 'ClmProcedureCode_4',\n",
       "       'ClmProcedureCode_5', 'ClmProcedureCode_6', 'DeductibleAmtPaid',\n",
       "       'ClmAdmitDiagnosisCode'],\n",
       "      dtype='object')"
      ]
     },
     "execution_count": 108,
     "metadata": {},
     "output_type": "execute_result"
    }
   ],
   "source": [
    "df_out.columns"
   ]
  },
  {
   "cell_type": "code",
   "execution_count": 109,
   "id": "5b5e1565",
   "metadata": {},
   "outputs": [],
   "source": [
    "providers = list(set(list(df_in.Provider.unique()) + list(df_out.Provider.unique())))"
   ]
  },
  {
   "cell_type": "code",
   "execution_count": 110,
   "id": "c9e346b3",
   "metadata": {},
   "outputs": [
    {
     "data": {
      "text/plain": [
       "5410"
      ]
     },
     "execution_count": 110,
     "metadata": {},
     "output_type": "execute_result"
    }
   ],
   "source": [
    "len(providers)"
   ]
  },
  {
   "cell_type": "code",
   "execution_count": 111,
   "id": "e2401410",
   "metadata": {},
   "outputs": [
    {
     "data": {
      "text/plain": [
       "['PRV53860', 'PRV56777', 'PRV54817', 'PRV51346']"
      ]
     },
     "execution_count": 111,
     "metadata": {},
     "output_type": "execute_result"
    }
   ],
   "source": [
    "providers[:4]"
   ]
  },
  {
   "cell_type": "code",
   "execution_count": 112,
   "id": "9a6c4de5",
   "metadata": {},
   "outputs": [],
   "source": [
    "provs=[{\"idx\": x} for x in providers]"
   ]
  },
  {
   "cell_type": "code",
   "execution_count": 85,
   "id": "9f2769de",
   "metadata": {},
   "outputs": [],
   "source": [
    "# set constraint on beneficiary node that idx is unique\n",
    "query=\"\"\"CREATE CONSTRAINT ON (n:Provider) ASSERT n.idx IS UNIQUE\"\"\""
   ]
  },
  {
   "cell_type": "code",
   "execution_count": null,
   "id": "8194d189",
   "metadata": {},
   "outputs": [],
   "source": [
    "db.run(query)"
   ]
  },
  {
   "cell_type": "code",
   "execution_count": 113,
   "id": "c28c0e5d",
   "metadata": {},
   "outputs": [
    {
     "data": {
      "text/plain": [
       "<py2neo.database.Cursor at 0x7f048c8d9b90>"
      ]
     },
     "execution_count": 113,
     "metadata": {},
     "output_type": "execute_result"
    }
   ],
   "source": [
    "query = \"\"\"\n",
    "    UNWIND $provs AS prov\n",
    "    MERGE (b:Provider {idx: prov.idx})\n",
    "        \"\"\"\n",
    "db.run(query, {\"provs\":provs})"
   ]
  },
  {
   "cell_type": "markdown",
   "id": "32db80bd",
   "metadata": {},
   "source": [
    "## (Provider)-[:HAS_BENEFICIARY]->(Beneficiary)"
   ]
  },
  {
   "cell_type": "code",
   "execution_count": 114,
   "id": "a388cd8b",
   "metadata": {},
   "outputs": [],
   "source": [
    "df_in[\"type\"]=\"Inpatient\""
   ]
  },
  {
   "cell_type": "code",
   "execution_count": 115,
   "id": "e4b0f944",
   "metadata": {},
   "outputs": [],
   "source": [
    "df_out['type']=\"Outpatient\""
   ]
  },
  {
   "cell_type": "code",
   "execution_count": 120,
   "id": "e894e4ca",
   "metadata": {},
   "outputs": [],
   "source": [
    "df_all=df_in.append(df_out)"
   ]
  },
  {
   "cell_type": "code",
   "execution_count": 121,
   "id": "58c2b443",
   "metadata": {},
   "outputs": [
    {
     "data": {
      "text/plain": [
       "558211"
      ]
     },
     "execution_count": 121,
     "metadata": {},
     "output_type": "execute_result"
    }
   ],
   "source": [
    "len(df_all)"
   ]
  },
  {
   "cell_type": "code",
   "execution_count": 122,
   "id": "82117903",
   "metadata": {},
   "outputs": [
    {
     "data": {
      "text/plain": [
       "Outpatient    517737\n",
       "Inpatient      40474\n",
       "Name: type, dtype: int64"
      ]
     },
     "execution_count": 122,
     "metadata": {},
     "output_type": "execute_result"
    }
   ],
   "source": [
    "df_all.type.value_counts()"
   ]
  },
  {
   "cell_type": "code",
   "execution_count": 123,
   "id": "975545f4",
   "metadata": {},
   "outputs": [
    {
     "data": {
      "text/plain": [
       "40474"
      ]
     },
     "execution_count": 123,
     "metadata": {},
     "output_type": "execute_result"
    }
   ],
   "source": [
    "len(df_in)"
   ]
  },
  {
   "cell_type": "code",
   "execution_count": 124,
   "id": "4c47b83f",
   "metadata": {},
   "outputs": [
    {
     "data": {
      "text/plain": [
       "517737"
      ]
     },
     "execution_count": 124,
     "metadata": {},
     "output_type": "execute_result"
    }
   ],
   "source": [
    "len(df_out)"
   ]
  },
  {
   "cell_type": "code",
   "execution_count": 127,
   "id": "c23948f3",
   "metadata": {},
   "outputs": [],
   "source": [
    "grp=df_all.groupby(['Provider','BeneID'])['ClaimID'].count()"
   ]
  },
  {
   "cell_type": "code",
   "execution_count": 129,
   "id": "ec8cfcbd",
   "metadata": {},
   "outputs": [],
   "source": [
    "grp=grp.reset_index()\n"
   ]
  },
  {
   "cell_type": "code",
   "execution_count": 130,
   "id": "76b86ea5",
   "metadata": {},
   "outputs": [
    {
     "data": {
      "text/html": [
       "<div>\n",
       "<style scoped>\n",
       "    .dataframe tbody tr th:only-of-type {\n",
       "        vertical-align: middle;\n",
       "    }\n",
       "\n",
       "    .dataframe tbody tr th {\n",
       "        vertical-align: top;\n",
       "    }\n",
       "\n",
       "    .dataframe thead th {\n",
       "        text-align: right;\n",
       "    }\n",
       "</style>\n",
       "<table border=\"1\" class=\"dataframe\">\n",
       "  <thead>\n",
       "    <tr style=\"text-align: right;\">\n",
       "      <th></th>\n",
       "      <th>Provider</th>\n",
       "      <th>BeneID</th>\n",
       "      <th>ClaimID</th>\n",
       "    </tr>\n",
       "  </thead>\n",
       "  <tbody>\n",
       "    <tr>\n",
       "      <th>0</th>\n",
       "      <td>PRV51001</td>\n",
       "      <td>BENE102690</td>\n",
       "      <td>1</td>\n",
       "    </tr>\n",
       "    <tr>\n",
       "      <th>1</th>\n",
       "      <td>PRV51001</td>\n",
       "      <td>BENE106078</td>\n",
       "      <td>1</td>\n",
       "    </tr>\n",
       "    <tr>\n",
       "      <th>2</th>\n",
       "      <td>PRV51001</td>\n",
       "      <td>BENE11727</td>\n",
       "      <td>1</td>\n",
       "    </tr>\n",
       "    <tr>\n",
       "      <th>3</th>\n",
       "      <td>PRV51001</td>\n",
       "      <td>BENE123416</td>\n",
       "      <td>1</td>\n",
       "    </tr>\n",
       "    <tr>\n",
       "      <th>4</th>\n",
       "      <td>PRV51001</td>\n",
       "      <td>BENE126477</td>\n",
       "      <td>1</td>\n",
       "    </tr>\n",
       "  </tbody>\n",
       "</table>\n",
       "</div>"
      ],
      "text/plain": [
       "   Provider      BeneID  ClaimID\n",
       "0  PRV51001  BENE102690        1\n",
       "1  PRV51001  BENE106078        1\n",
       "2  PRV51001   BENE11727        1\n",
       "3  PRV51001  BENE123416        1\n",
       "4  PRV51001  BENE126477        1"
      ]
     },
     "execution_count": 130,
     "metadata": {},
     "output_type": "execute_result"
    }
   ],
   "source": [
    "grp.head()"
   ]
  },
  {
   "cell_type": "code",
   "execution_count": 132,
   "id": "9ff6438f",
   "metadata": {},
   "outputs": [
    {
     "data": {
      "text/plain": [
       "1     274312\n",
       "2      46849\n",
       "3      18330\n",
       "4       9347\n",
       "5       5303\n",
       "6       3255\n",
       "7       2105\n",
       "8       1350\n",
       "9        888\n",
       "10       566\n",
       "11       379\n",
       "12       222\n",
       "13       143\n",
       "14        92\n",
       "15        61\n",
       "16        41\n",
       "17        26\n",
       "18        15\n",
       "19         8\n",
       "20         3\n",
       "23         2\n",
       "21         2\n",
       "28         1\n",
       "Name: ClaimID, dtype: int64"
      ]
     },
     "execution_count": 132,
     "metadata": {},
     "output_type": "execute_result"
    }
   ],
   "source": [
    "grp['ClaimID'].value_counts()"
   ]
  },
  {
   "cell_type": "code",
   "execution_count": 135,
   "id": "e2c2c737",
   "metadata": {},
   "outputs": [],
   "source": [
    "rels = [{'origin':x[1]['Provider'],\n",
    "       'target': x[1]['BeneID']} for x in grp.iterrows()]"
   ]
  },
  {
   "cell_type": "code",
   "execution_count": 136,
   "id": "37a6cc33",
   "metadata": {},
   "outputs": [
    {
     "data": {
      "text/plain": [
       "363300"
      ]
     },
     "execution_count": 136,
     "metadata": {},
     "output_type": "execute_result"
    }
   ],
   "source": [
    "len(rels)"
   ]
  },
  {
   "cell_type": "code",
   "execution_count": 138,
   "id": "8ff4d627",
   "metadata": {},
   "outputs": [
    {
     "data": {
      "text/plain": [
       "<py2neo.database.Cursor at 0x7f048d61a6d0>"
      ]
     },
     "execution_count": 138,
     "metadata": {},
     "output_type": "execute_result"
    }
   ],
   "source": [
    "query = \"\"\"\n",
    "    UNWIND $rels AS rel\n",
    "    MATCH (e1:Provider {idx: rel.origin})\n",
    "    MATCH (e2:Beneficiary {idx: rel.target}) \n",
    "    MERGE (e1)-[m:HAS_BENEFICIARY]->(e2)\"\"\"\n",
    "\n",
    "db.run(query, {\"rels\":rels})"
   ]
  },
  {
   "cell_type": "markdown",
   "id": "f44e54a9",
   "metadata": {},
   "source": [
    "## Race nodes"
   ]
  },
  {
   "cell_type": "code",
   "execution_count": 44,
   "id": "f12b1f7b",
   "metadata": {},
   "outputs": [],
   "source": [
    "races= list(df.Race.unique())"
   ]
  },
  {
   "cell_type": "code",
   "execution_count": 45,
   "id": "3e8a1713",
   "metadata": {},
   "outputs": [
    {
     "data": {
      "text/plain": [
       "[1, 2, 3, 5]"
      ]
     },
     "execution_count": 45,
     "metadata": {},
     "output_type": "execute_result"
    }
   ],
   "source": [
    "races"
   ]
  },
  {
   "cell_type": "code",
   "execution_count": 46,
   "id": "7ab10e84",
   "metadata": {},
   "outputs": [],
   "source": [
    "rs = [{\"race\": int(x),\n",
    "     \"idx\": i}  for (i,x) in enumerate(races)]"
   ]
  },
  {
   "cell_type": "code",
   "execution_count": 48,
   "id": "586fd9ad",
   "metadata": {},
   "outputs": [
    {
     "data": {
      "text/plain": [
       "[{'race': 1, 'idx': 0},\n",
       " {'race': 2, 'idx': 1},\n",
       " {'race': 3, 'idx': 2},\n",
       " {'race': 5, 'idx': 3}]"
      ]
     },
     "execution_count": 48,
     "metadata": {},
     "output_type": "execute_result"
    }
   ],
   "source": [
    "rs"
   ]
  },
  {
   "cell_type": "code",
   "execution_count": 24,
   "id": "6cccfa96",
   "metadata": {},
   "outputs": [],
   "source": [
    "query=\"\"\" CREATE CONSTRAINT ON (r:Race) ASSERT r.idx is UNIQUE \"\"\""
   ]
  },
  {
   "cell_type": "code",
   "execution_count": 25,
   "id": "e72513e3",
   "metadata": {},
   "outputs": [
    {
     "data": {
      "text/plain": [
       "<py2neo.database.Cursor at 0x7f96a14c5f90>"
      ]
     },
     "execution_count": 25,
     "metadata": {},
     "output_type": "execute_result"
    }
   ],
   "source": [
    "db.run(query)"
   ]
  },
  {
   "cell_type": "code",
   "execution_count": 49,
   "id": "e45ba5b5",
   "metadata": {},
   "outputs": [
    {
     "data": {
      "text/plain": [
       "<py2neo.database.Cursor at 0x7f96a3c62a10>"
      ]
     },
     "execution_count": 49,
     "metadata": {},
     "output_type": "execute_result"
    }
   ],
   "source": [
    "query = \"\"\"\n",
    "    UNWIND $rs AS r\n",
    "    MERGE (b:Race {idx: r.idx, race: r.race})\n",
    "        \"\"\"\n",
    "db.run(query, {\"rs\":rs})"
   ]
  },
  {
   "cell_type": "code",
   "execution_count": 54,
   "id": "26ef4d77",
   "metadata": {},
   "outputs": [
    {
     "data": {
      "text/html": [
       "<table><tr><th>r</th></tr><tr><td style=\"text-align:left\">(_10:Race {idx: 0, race: 1})</td></tr><tr><td style=\"text-align:left\">(_11:Race {idx: 1, race: 2})</td></tr><tr><td style=\"text-align:left\">(_12:Race {idx: 2, race: 3})</td></tr><tr><td style=\"text-align:left\">(_13:Race {idx: 3, race: 5})</td></tr></table>"
      ],
      "text/plain": [
       " r                            \n",
       "------------------------------\n",
       " (_10:Race {idx: 0, race: 1}) \n",
       " (_11:Race {idx: 1, race: 2}) \n",
       " (_12:Race {idx: 2, race: 3}) \n",
       " (_13:Race {idx: 3, race: 5}) "
      ]
     },
     "execution_count": 54,
     "metadata": {},
     "output_type": "execute_result"
    }
   ],
   "source": [
    "query = \"\"\"\n",
    "    MATCH (r:Race)\n",
    "    RETURN * \"\"\"\n",
    "db.run(query).to_table()"
   ]
  },
  {
   "cell_type": "markdown",
   "id": "fc306470",
   "metadata": {},
   "source": [
    "## Gender"
   ]
  },
  {
   "cell_type": "code",
   "execution_count": 35,
   "id": "f95e354e",
   "metadata": {},
   "outputs": [],
   "source": [
    "genders=list(df.Gender.unique())"
   ]
  },
  {
   "cell_type": "code",
   "execution_count": 36,
   "id": "4f83c002",
   "metadata": {},
   "outputs": [
    {
     "data": {
      "text/plain": [
       "[1, 2]"
      ]
     },
     "execution_count": 36,
     "metadata": {},
     "output_type": "execute_result"
    }
   ],
   "source": [
    "genders"
   ]
  },
  {
   "cell_type": "code",
   "execution_count": 37,
   "id": "cfa46860",
   "metadata": {},
   "outputs": [],
   "source": [
    "gs = [{\"gender\": int(x),\n",
    "     \"idx\" : i} for (i,x) in enumerate(genders)]"
   ]
  },
  {
   "cell_type": "code",
   "execution_count": 38,
   "id": "cb8982bf",
   "metadata": {},
   "outputs": [
    {
     "data": {
      "text/plain": [
       "[{'gender': 1, 'idx': 0}, {'gender': 2, 'idx': 1}]"
      ]
     },
     "execution_count": 38,
     "metadata": {},
     "output_type": "execute_result"
    }
   ],
   "source": [
    "gs"
   ]
  },
  {
   "cell_type": "code",
   "execution_count": 40,
   "id": "5f9bb64d",
   "metadata": {},
   "outputs": [],
   "source": [
    "query=\"\"\"CREATE CONSTRAINT ON (n:Gender) ASSERT n.idx IS UNIQUE\"\"\""
   ]
  },
  {
   "cell_type": "code",
   "execution_count": 41,
   "id": "11508859",
   "metadata": {},
   "outputs": [
    {
     "data": {
      "text/plain": [
       "<py2neo.database.Cursor at 0x7f96a14ecb90>"
      ]
     },
     "execution_count": 41,
     "metadata": {},
     "output_type": "execute_result"
    }
   ],
   "source": [
    "db.run(query)"
   ]
  },
  {
   "cell_type": "code",
   "execution_count": 42,
   "id": "b5a2a9c9",
   "metadata": {},
   "outputs": [
    {
     "data": {
      "text/plain": [
       "<py2neo.database.Cursor at 0x7f96a14e9d50>"
      ]
     },
     "execution_count": 42,
     "metadata": {},
     "output_type": "execute_result"
    }
   ],
   "source": [
    "query = \"\"\"\n",
    "    UNWIND $gs AS g\n",
    "    MERGE (b:Gender {idx: g.idx, gender: g.gender})\n",
    "        \"\"\"\n",
    "db.run(query, {\"gs\":gs})"
   ]
  },
  {
   "cell_type": "code",
   "execution_count": 43,
   "id": "d7bfe88c",
   "metadata": {},
   "outputs": [],
   "source": [
    "## Race"
   ]
  },
  {
   "cell_type": "code",
   "execution_count": null,
   "id": "5c094271",
   "metadata": {},
   "outputs": [],
   "source": []
  }
 ],
 "metadata": {
  "kernelspec": {
   "display_name": "Python [conda env:neo4j]",
   "language": "python",
   "name": "conda-env-neo4j-py"
  },
  "language_info": {
   "codemirror_mode": {
    "name": "ipython",
    "version": 3
   },
   "file_extension": ".py",
   "mimetype": "text/x-python",
   "name": "python",
   "nbconvert_exporter": "python",
   "pygments_lexer": "ipython3",
   "version": "3.7.10"
  }
 },
 "nbformat": 4,
 "nbformat_minor": 5
}
