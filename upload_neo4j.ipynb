{
 "cells": [
  {
   "cell_type": "markdown",
   "id": "53219ae3",
   "metadata": {},
   "source": [
    "## Health Insurance Fraud"
   ]
  },
  {
   "cell_type": "markdown",
   "id": "43d4aff9",
   "metadata": {},
   "source": [
    "![](schema_draft_3.png)"
   ]
  },
  {
   "cell_type": "code",
   "execution_count": 92,
   "id": "2a1de4d8",
   "metadata": {},
   "outputs": [],
   "source": [
    "from py2neo import Graph, Node\n",
    "db = Graph(scheme=\"bolt\", host=\"localhost\", port=7687, secure=False, \n",
    "                auth=('neo4j', 'test'))\n",
    "db.delete_all()"
   ]
  },
  {
   "cell_type": "code",
   "execution_count": 93,
   "id": "bad17d51",
   "metadata": {},
   "outputs": [],
   "source": [
    "import pandas as pd\n"
   ]
  },
  {
   "cell_type": "code",
   "execution_count": 94,
   "id": "5757fea2",
   "metadata": {},
   "outputs": [
    {
     "name": "stdout",
     "output_type": "stream",
     "text": [
      "\u001b[0m\u001b[01;31marchive.zip\u001b[0m                             Train-1542865627584.csv\n",
      "Test-1542969243754.csv                  Train_Beneficiarydata-1542865627584.csv\n",
      "Test_Beneficiarydata-1542969243754.csv  Train_Inpatientdata-1542865627584.csv\n",
      "Test_Inpatientdata-1542969243754.csv    Train_Outpatientdata-1542865627584.csv\n",
      "Test_Outpatientdata-1542969243754.csv\n"
     ]
    }
   ],
   "source": [
    "%ls data"
   ]
  },
  {
   "cell_type": "code",
   "execution_count": 95,
   "id": "626a4451",
   "metadata": {},
   "outputs": [],
   "source": [
    "df=pd.read_csv(\"data/Train_Beneficiarydata-1542865627584.csv\")"
   ]
  },
  {
   "cell_type": "code",
   "execution_count": 96,
   "id": "7286a756",
   "metadata": {},
   "outputs": [
    {
     "data": {
      "text/plain": [
       "Index(['BeneID', 'DOB', 'DOD', 'Gender', 'Race', 'RenalDiseaseIndicator',\n",
       "       'State', 'County', 'NoOfMonths_PartACov', 'NoOfMonths_PartBCov',\n",
       "       'ChronicCond_Alzheimer', 'ChronicCond_Heartfailure',\n",
       "       'ChronicCond_KidneyDisease', 'ChronicCond_Cancer',\n",
       "       'ChronicCond_ObstrPulmonary', 'ChronicCond_Depression',\n",
       "       'ChronicCond_Diabetes', 'ChronicCond_IschemicHeart',\n",
       "       'ChronicCond_Osteoporasis', 'ChronicCond_rheumatoidarthritis',\n",
       "       'ChronicCond_stroke', 'IPAnnualReimbursementAmt',\n",
       "       'IPAnnualDeductibleAmt', 'OPAnnualReimbursementAmt',\n",
       "       'OPAnnualDeductibleAmt'],\n",
       "      dtype='object')"
      ]
     },
     "execution_count": 96,
     "metadata": {},
     "output_type": "execute_result"
    }
   ],
   "source": [
    "df.columns"
   ]
  },
  {
   "cell_type": "code",
   "execution_count": 97,
   "id": "178768ae",
   "metadata": {},
   "outputs": [
    {
     "data": {
      "text/html": [
       "<div>\n",
       "<style scoped>\n",
       "    .dataframe tbody tr th:only-of-type {\n",
       "        vertical-align: middle;\n",
       "    }\n",
       "\n",
       "    .dataframe tbody tr th {\n",
       "        vertical-align: top;\n",
       "    }\n",
       "\n",
       "    .dataframe thead th {\n",
       "        text-align: right;\n",
       "    }\n",
       "</style>\n",
       "<table border=\"1\" class=\"dataframe\">\n",
       "  <thead>\n",
       "    <tr style=\"text-align: right;\">\n",
       "      <th></th>\n",
       "      <th>BeneID</th>\n",
       "      <th>DOB</th>\n",
       "      <th>DOD</th>\n",
       "      <th>Gender</th>\n",
       "      <th>Race</th>\n",
       "      <th>RenalDiseaseIndicator</th>\n",
       "      <th>State</th>\n",
       "      <th>County</th>\n",
       "      <th>NoOfMonths_PartACov</th>\n",
       "      <th>NoOfMonths_PartBCov</th>\n",
       "      <th>...</th>\n",
       "      <th>ChronicCond_Depression</th>\n",
       "      <th>ChronicCond_Diabetes</th>\n",
       "      <th>ChronicCond_IschemicHeart</th>\n",
       "      <th>ChronicCond_Osteoporasis</th>\n",
       "      <th>ChronicCond_rheumatoidarthritis</th>\n",
       "      <th>ChronicCond_stroke</th>\n",
       "      <th>IPAnnualReimbursementAmt</th>\n",
       "      <th>IPAnnualDeductibleAmt</th>\n",
       "      <th>OPAnnualReimbursementAmt</th>\n",
       "      <th>OPAnnualDeductibleAmt</th>\n",
       "    </tr>\n",
       "  </thead>\n",
       "  <tbody>\n",
       "    <tr>\n",
       "      <th>0</th>\n",
       "      <td>BENE11001</td>\n",
       "      <td>1943-01-01</td>\n",
       "      <td>NaN</td>\n",
       "      <td>1</td>\n",
       "      <td>1</td>\n",
       "      <td>0</td>\n",
       "      <td>39</td>\n",
       "      <td>230</td>\n",
       "      <td>12</td>\n",
       "      <td>12</td>\n",
       "      <td>...</td>\n",
       "      <td>1</td>\n",
       "      <td>1</td>\n",
       "      <td>1</td>\n",
       "      <td>2</td>\n",
       "      <td>1</td>\n",
       "      <td>1</td>\n",
       "      <td>36000</td>\n",
       "      <td>3204</td>\n",
       "      <td>60</td>\n",
       "      <td>70</td>\n",
       "    </tr>\n",
       "    <tr>\n",
       "      <th>1</th>\n",
       "      <td>BENE11002</td>\n",
       "      <td>1936-09-01</td>\n",
       "      <td>NaN</td>\n",
       "      <td>2</td>\n",
       "      <td>1</td>\n",
       "      <td>0</td>\n",
       "      <td>39</td>\n",
       "      <td>280</td>\n",
       "      <td>12</td>\n",
       "      <td>12</td>\n",
       "      <td>...</td>\n",
       "      <td>2</td>\n",
       "      <td>2</td>\n",
       "      <td>2</td>\n",
       "      <td>2</td>\n",
       "      <td>2</td>\n",
       "      <td>2</td>\n",
       "      <td>0</td>\n",
       "      <td>0</td>\n",
       "      <td>30</td>\n",
       "      <td>50</td>\n",
       "    </tr>\n",
       "    <tr>\n",
       "      <th>2</th>\n",
       "      <td>BENE11003</td>\n",
       "      <td>1936-08-01</td>\n",
       "      <td>NaN</td>\n",
       "      <td>1</td>\n",
       "      <td>1</td>\n",
       "      <td>0</td>\n",
       "      <td>52</td>\n",
       "      <td>590</td>\n",
       "      <td>12</td>\n",
       "      <td>12</td>\n",
       "      <td>...</td>\n",
       "      <td>2</td>\n",
       "      <td>2</td>\n",
       "      <td>1</td>\n",
       "      <td>2</td>\n",
       "      <td>2</td>\n",
       "      <td>2</td>\n",
       "      <td>0</td>\n",
       "      <td>0</td>\n",
       "      <td>90</td>\n",
       "      <td>40</td>\n",
       "    </tr>\n",
       "    <tr>\n",
       "      <th>3</th>\n",
       "      <td>BENE11004</td>\n",
       "      <td>1922-07-01</td>\n",
       "      <td>NaN</td>\n",
       "      <td>1</td>\n",
       "      <td>1</td>\n",
       "      <td>0</td>\n",
       "      <td>39</td>\n",
       "      <td>270</td>\n",
       "      <td>12</td>\n",
       "      <td>12</td>\n",
       "      <td>...</td>\n",
       "      <td>2</td>\n",
       "      <td>1</td>\n",
       "      <td>1</td>\n",
       "      <td>1</td>\n",
       "      <td>1</td>\n",
       "      <td>2</td>\n",
       "      <td>0</td>\n",
       "      <td>0</td>\n",
       "      <td>1810</td>\n",
       "      <td>760</td>\n",
       "    </tr>\n",
       "    <tr>\n",
       "      <th>4</th>\n",
       "      <td>BENE11005</td>\n",
       "      <td>1935-09-01</td>\n",
       "      <td>NaN</td>\n",
       "      <td>1</td>\n",
       "      <td>1</td>\n",
       "      <td>0</td>\n",
       "      <td>24</td>\n",
       "      <td>680</td>\n",
       "      <td>12</td>\n",
       "      <td>12</td>\n",
       "      <td>...</td>\n",
       "      <td>2</td>\n",
       "      <td>1</td>\n",
       "      <td>2</td>\n",
       "      <td>2</td>\n",
       "      <td>2</td>\n",
       "      <td>2</td>\n",
       "      <td>0</td>\n",
       "      <td>0</td>\n",
       "      <td>1790</td>\n",
       "      <td>1200</td>\n",
       "    </tr>\n",
       "  </tbody>\n",
       "</table>\n",
       "<p>5 rows × 25 columns</p>\n",
       "</div>"
      ],
      "text/plain": [
       "      BeneID         DOB  DOD  Gender  Race RenalDiseaseIndicator  State  \\\n",
       "0  BENE11001  1943-01-01  NaN       1     1                     0     39   \n",
       "1  BENE11002  1936-09-01  NaN       2     1                     0     39   \n",
       "2  BENE11003  1936-08-01  NaN       1     1                     0     52   \n",
       "3  BENE11004  1922-07-01  NaN       1     1                     0     39   \n",
       "4  BENE11005  1935-09-01  NaN       1     1                     0     24   \n",
       "\n",
       "   County  NoOfMonths_PartACov  NoOfMonths_PartBCov  ...  \\\n",
       "0     230                   12                   12  ...   \n",
       "1     280                   12                   12  ...   \n",
       "2     590                   12                   12  ...   \n",
       "3     270                   12                   12  ...   \n",
       "4     680                   12                   12  ...   \n",
       "\n",
       "   ChronicCond_Depression  ChronicCond_Diabetes  ChronicCond_IschemicHeart  \\\n",
       "0                       1                     1                          1   \n",
       "1                       2                     2                          2   \n",
       "2                       2                     2                          1   \n",
       "3                       2                     1                          1   \n",
       "4                       2                     1                          2   \n",
       "\n",
       "   ChronicCond_Osteoporasis  ChronicCond_rheumatoidarthritis  \\\n",
       "0                         2                                1   \n",
       "1                         2                                2   \n",
       "2                         2                                2   \n",
       "3                         1                                1   \n",
       "4                         2                                2   \n",
       "\n",
       "   ChronicCond_stroke  IPAnnualReimbursementAmt  IPAnnualDeductibleAmt  \\\n",
       "0                   1                     36000                   3204   \n",
       "1                   2                         0                      0   \n",
       "2                   2                         0                      0   \n",
       "3                   2                         0                      0   \n",
       "4                   2                         0                      0   \n",
       "\n",
       "   OPAnnualReimbursementAmt  OPAnnualDeductibleAmt  \n",
       "0                        60                     70  \n",
       "1                        30                     50  \n",
       "2                        90                     40  \n",
       "3                      1810                    760  \n",
       "4                      1790                   1200  \n",
       "\n",
       "[5 rows x 25 columns]"
      ]
     },
     "execution_count": 97,
     "metadata": {},
     "output_type": "execute_result"
    }
   ],
   "source": [
    "df.head()"
   ]
  },
  {
   "cell_type": "markdown",
   "id": "65be2a57",
   "metadata": {},
   "source": [
    "## Beneficiary nodes\n"
   ]
  },
  {
   "cell_type": "code",
   "execution_count": 99,
   "id": "d8b1af73",
   "metadata": {},
   "outputs": [
    {
     "data": {
      "text/plain": [
       "['BENE11001', 'BENE11002', 'BENE11003']"
      ]
     },
     "execution_count": 99,
     "metadata": {},
     "output_type": "execute_result"
    }
   ],
   "source": [
    "beneficiaries = list(df.BeneID.unique())\n",
    "beneficiaries[:3]"
   ]
  },
  {
   "cell_type": "code",
   "execution_count": 100,
   "id": "8e275f3b",
   "metadata": {},
   "outputs": [
    {
     "data": {
      "text/plain": [
       "138556"
      ]
     },
     "execution_count": 100,
     "metadata": {},
     "output_type": "execute_result"
    }
   ],
   "source": [
    "len(beneficiaries)"
   ]
  },
  {
   "cell_type": "code",
   "execution_count": 101,
   "id": "ed8b1017",
   "metadata": {},
   "outputs": [],
   "source": [
    "bens = [{'idx': x} for x in beneficiaries]"
   ]
  },
  {
   "cell_type": "code",
   "execution_count": 102,
   "id": "23c18959",
   "metadata": {},
   "outputs": [
    {
     "data": {
      "text/plain": [
       "[{'idx': 'BENE11001'}, {'idx': 'BENE11002'}, {'idx': 'BENE11003'}]"
      ]
     },
     "execution_count": 102,
     "metadata": {},
     "output_type": "execute_result"
    }
   ],
   "source": [
    "bens[:3]"
   ]
  },
  {
   "cell_type": "code",
   "execution_count": 103,
   "id": "3b7d7c64",
   "metadata": {},
   "outputs": [],
   "source": [
    "# set constraint on beneficiary node that idx is unique\n",
    "query=\"\"\"CREATE CONSTRAINT ON (n:Beneficiary) ASSERT n.idx IS UNIQUE\"\"\""
   ]
  },
  {
   "cell_type": "code",
   "execution_count": null,
   "id": "855d8839",
   "metadata": {},
   "outputs": [],
   "source": [
    "db.run(query)"
   ]
  },
  {
   "cell_type": "code",
   "execution_count": 104,
   "id": "4e797ad4",
   "metadata": {},
   "outputs": [
    {
     "data": {
      "text/plain": [
       "<py2neo.database.Cursor at 0x7f0486988250>"
      ]
     },
     "execution_count": 104,
     "metadata": {},
     "output_type": "execute_result"
    }
   ],
   "source": [
    "query = \"\"\"\n",
    "    UNWIND $bens AS ben\n",
    "    MERGE (b:Beneficiary {idx: ben.idx})\n",
    "        \"\"\"\n",
    "db.run(query, {\"bens\":bens})"
   ]
  },
  {
   "cell_type": "markdown",
   "id": "9704cba7",
   "metadata": {},
   "source": [
    "## Provider nodes"
   ]
  },
  {
   "cell_type": "code",
   "execution_count": 105,
   "id": "ea542df1",
   "metadata": {},
   "outputs": [],
   "source": [
    "df_in = pd.read_csv(\"data/Train_Inpatientdata-1542865627584.csv\")"
   ]
  },
  {
   "cell_type": "code",
   "execution_count": 106,
   "id": "e140bdbd",
   "metadata": {},
   "outputs": [
    {
     "data": {
      "text/plain": [
       "Index(['BeneID', 'ClaimID', 'ClaimStartDt', 'ClaimEndDt', 'Provider',\n",
       "       'InscClaimAmtReimbursed', 'AttendingPhysician', 'OperatingPhysician',\n",
       "       'OtherPhysician', 'AdmissionDt', 'ClmAdmitDiagnosisCode',\n",
       "       'DeductibleAmtPaid', 'DischargeDt', 'DiagnosisGroupCode',\n",
       "       'ClmDiagnosisCode_1', 'ClmDiagnosisCode_2', 'ClmDiagnosisCode_3',\n",
       "       'ClmDiagnosisCode_4', 'ClmDiagnosisCode_5', 'ClmDiagnosisCode_6',\n",
       "       'ClmDiagnosisCode_7', 'ClmDiagnosisCode_8', 'ClmDiagnosisCode_9',\n",
       "       'ClmDiagnosisCode_10', 'ClmProcedureCode_1', 'ClmProcedureCode_2',\n",
       "       'ClmProcedureCode_3', 'ClmProcedureCode_4', 'ClmProcedureCode_5',\n",
       "       'ClmProcedureCode_6'],\n",
       "      dtype='object')"
      ]
     },
     "execution_count": 106,
     "metadata": {},
     "output_type": "execute_result"
    }
   ],
   "source": [
    "df_in.columns"
   ]
  },
  {
   "cell_type": "code",
   "execution_count": 107,
   "id": "bea70558",
   "metadata": {},
   "outputs": [],
   "source": [
    "df_out = pd.read_csv(\"data/Train_Outpatientdata-1542865627584.csv\")"
   ]
  },
  {
   "cell_type": "code",
   "execution_count": 108,
   "id": "e6549663",
   "metadata": {},
   "outputs": [
    {
     "data": {
      "text/plain": [
       "Index(['BeneID', 'ClaimID', 'ClaimStartDt', 'ClaimEndDt', 'Provider',\n",
       "       'InscClaimAmtReimbursed', 'AttendingPhysician', 'OperatingPhysician',\n",
       "       'OtherPhysician', 'ClmDiagnosisCode_1', 'ClmDiagnosisCode_2',\n",
       "       'ClmDiagnosisCode_3', 'ClmDiagnosisCode_4', 'ClmDiagnosisCode_5',\n",
       "       'ClmDiagnosisCode_6', 'ClmDiagnosisCode_7', 'ClmDiagnosisCode_8',\n",
       "       'ClmDiagnosisCode_9', 'ClmDiagnosisCode_10', 'ClmProcedureCode_1',\n",
       "       'ClmProcedureCode_2', 'ClmProcedureCode_3', 'ClmProcedureCode_4',\n",
       "       'ClmProcedureCode_5', 'ClmProcedureCode_6', 'DeductibleAmtPaid',\n",
       "       'ClmAdmitDiagnosisCode'],\n",
       "      dtype='object')"
      ]
     },
     "execution_count": 108,
     "metadata": {},
     "output_type": "execute_result"
    }
   ],
   "source": [
    "df_out.columns"
   ]
  },
  {
   "cell_type": "code",
   "execution_count": 109,
   "id": "d1182314",
   "metadata": {},
   "outputs": [],
   "source": [
    "providers = list(set(list(df_in.Provider.unique()) + list(df_out.Provider.unique())))"
   ]
  },
  {
   "cell_type": "code",
   "execution_count": 110,
   "id": "59b3ea43",
   "metadata": {},
   "outputs": [
    {
     "data": {
      "text/plain": [
       "5410"
      ]
     },
     "execution_count": 110,
     "metadata": {},
     "output_type": "execute_result"
    }
   ],
   "source": [
    "len(providers)"
   ]
  },
  {
   "cell_type": "code",
   "execution_count": 111,
   "id": "4d52b26c",
   "metadata": {},
   "outputs": [
    {
     "data": {
      "text/plain": [
       "['PRV53860', 'PRV56777', 'PRV54817', 'PRV51346']"
      ]
     },
     "execution_count": 111,
     "metadata": {},
     "output_type": "execute_result"
    }
   ],
   "source": [
    "providers[:4]"
   ]
  },
  {
   "cell_type": "code",
   "execution_count": 112,
   "id": "03d20782",
   "metadata": {},
   "outputs": [],
   "source": [
    "provs=[{\"idx\": x} for x in providers]"
   ]
  },
  {
   "cell_type": "code",
   "execution_count": 85,
   "id": "a686fdc4",
   "metadata": {},
   "outputs": [],
   "source": [
    "# set constraint on beneficiary node that idx is unique\n",
    "query=\"\"\"CREATE CONSTRAINT ON (n:Provider) ASSERT n.idx IS UNIQUE\"\"\""
   ]
  },
  {
   "cell_type": "code",
   "execution_count": null,
   "id": "80d4b8f1",
   "metadata": {},
   "outputs": [],
   "source": [
    "db.run(query)"
   ]
  },
  {
   "cell_type": "code",
   "execution_count": 113,
   "id": "00c1a193",
   "metadata": {},
   "outputs": [
    {
     "data": {
      "text/plain": [
       "<py2neo.database.Cursor at 0x7f048c8d9b90>"
      ]
     },
     "execution_count": 113,
     "metadata": {},
     "output_type": "execute_result"
    }
   ],
   "source": [
    "query = \"\"\"\n",
    "    UNWIND $provs AS prov\n",
    "    MERGE (b:Provider {idx: prov.idx})\n",
    "        \"\"\"\n",
    "db.run(query, {\"provs\":provs})"
   ]
  },
  {
   "cell_type": "markdown",
   "id": "7a2c6581",
   "metadata": {},
   "source": [
    "## (Provider)-[:HAS_BENEFICIARY]->(Beneficiary)"
   ]
  },
  {
   "cell_type": "code",
   "execution_count": 114,
   "id": "99604e7e",
   "metadata": {},
   "outputs": [],
   "source": [
    "df_in[\"type\"]=\"Inpatient\""
   ]
  },
  {
   "cell_type": "code",
   "execution_count": 115,
   "id": "07e4d64c",
   "metadata": {},
   "outputs": [],
   "source": [
    "df_out['type']=\"Outpatient\""
   ]
  },
  {
   "cell_type": "code",
   "execution_count": 120,
   "id": "e9cccba5",
   "metadata": {},
   "outputs": [],
   "source": [
    "df_all=df_in.append(df_out)"
   ]
  },
  {
   "cell_type": "code",
   "execution_count": 121,
   "id": "15900560",
   "metadata": {},
   "outputs": [
    {
     "data": {
      "text/plain": [
       "558211"
      ]
     },
     "execution_count": 121,
     "metadata": {},
     "output_type": "execute_result"
    }
   ],
   "source": [
    "len(df_all)"
   ]
  },
  {
   "cell_type": "code",
   "execution_count": 122,
   "id": "ab62408e",
   "metadata": {},
   "outputs": [
    {
     "data": {
      "text/plain": [
       "Outpatient    517737\n",
       "Inpatient      40474\n",
       "Name: type, dtype: int64"
      ]
     },
     "execution_count": 122,
     "metadata": {},
     "output_type": "execute_result"
    }
   ],
   "source": [
    "df_all.type.value_counts()"
   ]
  },
  {
   "cell_type": "code",
   "execution_count": 123,
   "id": "658a4125",
   "metadata": {},
   "outputs": [
    {
     "data": {
      "text/plain": [
       "40474"
      ]
     },
     "execution_count": 123,
     "metadata": {},
     "output_type": "execute_result"
    }
   ],
   "source": [
    "len(df_in)"
   ]
  },
  {
   "cell_type": "code",
   "execution_count": 124,
   "id": "af3c8295",
   "metadata": {},
   "outputs": [
    {
     "data": {
      "text/plain": [
       "517737"
      ]
     },
     "execution_count": 124,
     "metadata": {},
     "output_type": "execute_result"
    }
   ],
   "source": [
    "len(df_out)"
   ]
  },
  {
   "cell_type": "code",
   "execution_count": 127,
   "id": "34ab981d",
   "metadata": {},
   "outputs": [],
   "source": [
    "grp=df_all.groupby(['Provider','BeneID'])['ClaimID'].count()"
   ]
  },
  {
   "cell_type": "code",
   "execution_count": 129,
   "id": "498bb82e",
   "metadata": {},
   "outputs": [],
   "source": [
    "grp=grp.reset_index()\n"
   ]
  },
  {
   "cell_type": "code",
   "execution_count": 130,
   "id": "455c6257",
   "metadata": {},
   "outputs": [
    {
     "data": {
      "text/html": [
       "<div>\n",
       "<style scoped>\n",
       "    .dataframe tbody tr th:only-of-type {\n",
       "        vertical-align: middle;\n",
       "    }\n",
       "\n",
       "    .dataframe tbody tr th {\n",
       "        vertical-align: top;\n",
       "    }\n",
       "\n",
       "    .dataframe thead th {\n",
       "        text-align: right;\n",
       "    }\n",
       "</style>\n",
       "<table border=\"1\" class=\"dataframe\">\n",
       "  <thead>\n",
       "    <tr style=\"text-align: right;\">\n",
       "      <th></th>\n",
       "      <th>Provider</th>\n",
       "      <th>BeneID</th>\n",
       "      <th>ClaimID</th>\n",
       "    </tr>\n",
       "  </thead>\n",
       "  <tbody>\n",
       "    <tr>\n",
       "      <th>0</th>\n",
       "      <td>PRV51001</td>\n",
       "      <td>BENE102690</td>\n",
       "      <td>1</td>\n",
       "    </tr>\n",
       "    <tr>\n",
       "      <th>1</th>\n",
       "      <td>PRV51001</td>\n",
       "      <td>BENE106078</td>\n",
       "      <td>1</td>\n",
       "    </tr>\n",
       "    <tr>\n",
       "      <th>2</th>\n",
       "      <td>PRV51001</td>\n",
       "      <td>BENE11727</td>\n",
       "      <td>1</td>\n",
       "    </tr>\n",
       "    <tr>\n",
       "      <th>3</th>\n",
       "      <td>PRV51001</td>\n",
       "      <td>BENE123416</td>\n",
       "      <td>1</td>\n",
       "    </tr>\n",
       "    <tr>\n",
       "      <th>4</th>\n",
       "      <td>PRV51001</td>\n",
       "      <td>BENE126477</td>\n",
       "      <td>1</td>\n",
       "    </tr>\n",
       "  </tbody>\n",
       "</table>\n",
       "</div>"
      ],
      "text/plain": [
       "   Provider      BeneID  ClaimID\n",
       "0  PRV51001  BENE102690        1\n",
       "1  PRV51001  BENE106078        1\n",
       "2  PRV51001   BENE11727        1\n",
       "3  PRV51001  BENE123416        1\n",
       "4  PRV51001  BENE126477        1"
      ]
     },
     "execution_count": 130,
     "metadata": {},
     "output_type": "execute_result"
    }
   ],
   "source": [
    "grp.head()"
   ]
  },
  {
   "cell_type": "code",
   "execution_count": 132,
   "id": "9fbe7d22",
   "metadata": {},
   "outputs": [
    {
     "data": {
      "text/plain": [
       "1     274312\n",
       "2      46849\n",
       "3      18330\n",
       "4       9347\n",
       "5       5303\n",
       "6       3255\n",
       "7       2105\n",
       "8       1350\n",
       "9        888\n",
       "10       566\n",
       "11       379\n",
       "12       222\n",
       "13       143\n",
       "14        92\n",
       "15        61\n",
       "16        41\n",
       "17        26\n",
       "18        15\n",
       "19         8\n",
       "20         3\n",
       "23         2\n",
       "21         2\n",
       "28         1\n",
       "Name: ClaimID, dtype: int64"
      ]
     },
     "execution_count": 132,
     "metadata": {},
     "output_type": "execute_result"
    }
   ],
   "source": [
    "grp['ClaimID'].value_counts()"
   ]
  },
  {
   "cell_type": "code",
   "execution_count": 135,
   "id": "9f9860cb",
   "metadata": {},
   "outputs": [],
   "source": [
    "rels = [{'origin':x[1]['Provider'],\n",
    "       'target': x[1]['BeneID']} for x in grp.iterrows()]"
   ]
  },
  {
   "cell_type": "code",
   "execution_count": 136,
   "id": "2ea17c92",
   "metadata": {},
   "outputs": [
    {
     "data": {
      "text/plain": [
       "363300"
      ]
     },
     "execution_count": 136,
     "metadata": {},
     "output_type": "execute_result"
    }
   ],
   "source": [
    "len(rels)"
   ]
  },
  {
   "cell_type": "code",
   "execution_count": 138,
   "id": "9933d53b",
   "metadata": {},
   "outputs": [
    {
     "data": {
      "text/plain": [
       "<py2neo.database.Cursor at 0x7f048d61a6d0>"
      ]
     },
     "execution_count": 138,
     "metadata": {},
     "output_type": "execute_result"
    }
   ],
   "source": [
    "query = \"\"\"\n",
    "    UNWIND $rels AS rel\n",
    "    MATCH (e1:Provider {idx: rel.origin})\n",
    "    MATCH (e2:Beneficiary {idx: rel.target}) \n",
    "    MERGE (e1)-[m:HAS_BENEFICIARY]->(e2)\"\"\"\n",
    "\n",
    "db.run(query, {\"rels\":rels})"
   ]
  },
  {
   "cell_type": "code",
   "execution_count": null,
   "id": "b9d49a45",
   "metadata": {},
   "outputs": [],
   "source": []
  }
 ],
 "metadata": {
  "kernelspec": {
   "display_name": "Python [conda env:neo4j]",
   "language": "python",
   "name": "conda-env-neo4j-py"
  },
  "language_info": {
   "codemirror_mode": {
    "name": "ipython",
    "version": 3
   },
   "file_extension": ".py",
   "mimetype": "text/x-python",
   "name": "python",
   "nbconvert_exporter": "python",
   "pygments_lexer": "ipython3",
   "version": "3.7.10"
  }
 },
 "nbformat": 4,
 "nbformat_minor": 5
}
