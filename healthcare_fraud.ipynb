{
  "nbformat": 4,
  "nbformat_minor": 0,
  "metadata": {
    "colab": {
      "name": "healthcare_fraud.ipynb",
      "provenance": [],
      "authorship_tag": "ABX9TyPI8Uiu0tbIx+pK+J7JtHPp",
      "include_colab_link": true
    },
    "kernelspec": {
      "name": "python3",
      "display_name": "Python 3"
    },
    "language_info": {
      "name": "python"
    }
  },
  "cells": [
    {
      "cell_type": "markdown",
      "metadata": {
        "id": "view-in-github",
        "colab_type": "text"
      },
      "source": [
        "<a href=\"https://colab.research.google.com/github/areias/healthcare_fraud/blob/main/healthcare_fraud.ipynb\" target=\"_parent\"><img src=\"https://colab.research.google.com/assets/colab-badge.svg\" alt=\"Open In Colab\"/></a>"
      ]
    },
    {
      "cell_type": "markdown",
      "metadata": {
        "id": "Oy4uEqaDTemV"
      },
      "source": [
        "## Healthcare Fraud Detection\n",
        "\n",
        "https://www.kaggle.com/rohitrox/healthcare-provider-fraud-detection-analysis\n",
        "\n",
        "first steps, data exploration and summary stats of data\n",
        "\n",
        "i think its a binary classification problem, let's maybe try a logistic regression on it as a baseline \n",
        "\n",
        "create a schema to upload to neo4j as a graph database\n",
        "\n",
        "try graph machine learning models on it \n",
        "\n",
        "experiment tracking https://wandb.ai/\n",
        "\n",
        "imbalanced data\n"
      ]
    },
    {
      "cell_type": "code",
      "metadata": {
        "id": "OB1nnV9_TpWL"
      },
      "source": [
        ""
      ],
      "execution_count": null,
      "outputs": []
    },
    {
      "cell_type": "code",
      "metadata": {
        "id": "U7FgrGIzTdaP"
      },
      "source": [
        ""
      ],
      "execution_count": null,
      "outputs": []
    }
  ]
}