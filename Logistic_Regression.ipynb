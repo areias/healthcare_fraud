{
  "nbformat": 4,
  "nbformat_minor": 0,
  "metadata": {
    "colab": {
      "name": "Logistic Regression",
      "provenance": [],
      "authorship_tag": "ABX9TyNKnfZyBtqYjNwUvu1VK3DV",
      "include_colab_link": true
    },
    "kernelspec": {
      "name": "python3",
      "display_name": "Python 3"
    },
    "language_info": {
      "name": "python"
    }
  },
  "cells": [
    {
      "cell_type": "markdown",
      "metadata": {
        "id": "view-in-github",
        "colab_type": "text"
      },
      "source": [
        "<a href=\"https://colab.research.google.com/github/areias/healthcare_fraud/blob/main/Logistic_Regression.ipynb\" target=\"_parent\"><img src=\"https://colab.research.google.com/assets/colab-badge.svg\" alt=\"Open In Colab\"/></a>"
      ]
    },
    {
      "cell_type": "code",
      "metadata": {
        "id": "tQa5gzcrM19R"
      },
      "source": [
        "import pandas as pd\n",
        "import matplotlib.pyplot as plt\n",
        "import numpy as np\n",
        "from sklearn.linear_model import LogisticRegression\n",
        "from sklearn.metrics import classification_report, confusion_matrix"
      ],
      "execution_count": 3,
      "outputs": []
    },
    {
      "cell_type": "code",
      "metadata": {
        "id": "9dYjaN71NaiS"
      },
      "source": [
        "train_ben=pd.read_csv('Train_Beneficiarydata-1542865627584.csv')\n",
        "train_in=pd.read_csv('Train_Inpatientdata-1542865627584.csv')\n",
        "train_out=pd.read_csv('Train_Outpatientdata-1542865627584.csv')\n",
        "train=pd.read_csv('Train-1542865627584.csv')\n",
        "test_ben=pd.read_csv('Test_Beneficiarydata-1542969243754.csv')\n",
        "test_in=pd.read_csv('Test_Inpatientdata-1542969243754.csv')\n",
        "test_out=pd.read_csv('Test_Outpatientdata-1542969243754.csv')\n",
        "test=pd.read_csv('Test-1542969243754.csv')"
      ],
      "execution_count": 6,
      "outputs": []
    },
    {
      "cell_type": "markdown",
      "metadata": {
        "id": "-RY1m31gN9RA"
      },
      "source": [
        "**Merging the data**"
      ]
    },
    {
      "cell_type": "markdown",
      "metadata": {
        "id": "6jE8Ij7wS09x"
      },
      "source": [
        "**Train**"
      ]
    },
    {
      "cell_type": "code",
      "metadata": {
        "id": "yfz7YoGbN762"
      },
      "source": [
        "train_in['Claim_type']='Inpatient'\n",
        "train_out['Claim_type']='Outpatient'"
      ],
      "execution_count": 7,
      "outputs": []
    },
    {
      "cell_type": "code",
      "metadata": {
        "id": "58tRXJ_sN8FF"
      },
      "source": [
        "final_train=pd.concat([train_in, train_out])\n",
        "final_train=pd.merge(train_ben, final_train, on='BeneID')\n",
        "final_train=pd.merge(final_train, train, on='Provider')"
      ],
      "execution_count": 8,
      "outputs": []
    },
    {
      "cell_type": "markdown",
      "metadata": {
        "id": "aNSwLi7gS7yK"
      },
      "source": [
        "**Test**"
      ]
    },
    {
      "cell_type": "code",
      "metadata": {
        "id": "AkwdUE6PS61_"
      },
      "source": [
        "test_in['Claim_type']='Inpatient'\n",
        "test_out['Claim_type']='Outpatient'"
      ],
      "execution_count": 14,
      "outputs": []
    },
    {
      "cell_type": "code",
      "metadata": {
        "id": "SXYGwmtUTA8J"
      },
      "source": [
        "final_test=pd.concat([test_in, test_out])\n",
        "final_test=pd.merge(test_ben, final_test, on='BeneID')\n",
        "final_test=pd.merge(final_test, test, on='Provider')"
      ],
      "execution_count": 15,
      "outputs": []
    },
    {
      "cell_type": "code",
      "metadata": {
        "colab": {
          "base_uri": "https://localhost:8080/",
          "height": 313
        },
        "id": "jRJ2Gf9-SFZU",
        "outputId": "2ee8e14d-7a3c-4730-b137-c074fae995f6"
      },
      "source": [
        "final_train.head()"
      ],
      "execution_count": 12,
      "outputs": [
        {
          "output_type": "execute_result",
          "data": {
            "text/html": [
              "<div>\n",
              "<style scoped>\n",
              "    .dataframe tbody tr th:only-of-type {\n",
              "        vertical-align: middle;\n",
              "    }\n",
              "\n",
              "    .dataframe tbody tr th {\n",
              "        vertical-align: top;\n",
              "    }\n",
              "\n",
              "    .dataframe thead th {\n",
              "        text-align: right;\n",
              "    }\n",
              "</style>\n",
              "<table border=\"1\" class=\"dataframe\">\n",
              "  <thead>\n",
              "    <tr style=\"text-align: right;\">\n",
              "      <th></th>\n",
              "      <th>BeneID</th>\n",
              "      <th>DOB</th>\n",
              "      <th>DOD</th>\n",
              "      <th>Gender</th>\n",
              "      <th>Race</th>\n",
              "      <th>RenalDiseaseIndicator</th>\n",
              "      <th>State</th>\n",
              "      <th>County</th>\n",
              "      <th>NoOfMonths_PartACov</th>\n",
              "      <th>NoOfMonths_PartBCov</th>\n",
              "      <th>ChronicCond_Alzheimer</th>\n",
              "      <th>ChronicCond_Heartfailure</th>\n",
              "      <th>ChronicCond_KidneyDisease</th>\n",
              "      <th>ChronicCond_Cancer</th>\n",
              "      <th>ChronicCond_ObstrPulmonary</th>\n",
              "      <th>ChronicCond_Depression</th>\n",
              "      <th>ChronicCond_Diabetes</th>\n",
              "      <th>ChronicCond_IschemicHeart</th>\n",
              "      <th>ChronicCond_Osteoporasis</th>\n",
              "      <th>ChronicCond_rheumatoidarthritis</th>\n",
              "      <th>ChronicCond_stroke</th>\n",
              "      <th>IPAnnualReimbursementAmt</th>\n",
              "      <th>IPAnnualDeductibleAmt</th>\n",
              "      <th>OPAnnualReimbursementAmt</th>\n",
              "      <th>OPAnnualDeductibleAmt</th>\n",
              "      <th>ClaimID</th>\n",
              "      <th>ClaimStartDt</th>\n",
              "      <th>ClaimEndDt</th>\n",
              "      <th>Provider</th>\n",
              "      <th>InscClaimAmtReimbursed</th>\n",
              "      <th>AttendingPhysician</th>\n",
              "      <th>OperatingPhysician</th>\n",
              "      <th>OtherPhysician</th>\n",
              "      <th>AdmissionDt</th>\n",
              "      <th>ClmAdmitDiagnosisCode</th>\n",
              "      <th>DeductibleAmtPaid</th>\n",
              "      <th>DischargeDt</th>\n",
              "      <th>DiagnosisGroupCode</th>\n",
              "      <th>ClmDiagnosisCode_1</th>\n",
              "      <th>ClmDiagnosisCode_2</th>\n",
              "      <th>ClmDiagnosisCode_3</th>\n",
              "      <th>ClmDiagnosisCode_4</th>\n",
              "      <th>ClmDiagnosisCode_5</th>\n",
              "      <th>ClmDiagnosisCode_6</th>\n",
              "      <th>ClmDiagnosisCode_7</th>\n",
              "      <th>ClmDiagnosisCode_8</th>\n",
              "      <th>ClmDiagnosisCode_9</th>\n",
              "      <th>ClmDiagnosisCode_10</th>\n",
              "      <th>ClmProcedureCode_1</th>\n",
              "      <th>ClmProcedureCode_2</th>\n",
              "      <th>ClmProcedureCode_3</th>\n",
              "      <th>ClmProcedureCode_4</th>\n",
              "      <th>ClmProcedureCode_5</th>\n",
              "      <th>ClmProcedureCode_6</th>\n",
              "      <th>Claim_type</th>\n",
              "      <th>PotentialFraud</th>\n",
              "    </tr>\n",
              "  </thead>\n",
              "  <tbody>\n",
              "    <tr>\n",
              "      <th>0</th>\n",
              "      <td>BENE11001</td>\n",
              "      <td>1943-01-01</td>\n",
              "      <td>NaN</td>\n",
              "      <td>1</td>\n",
              "      <td>1</td>\n",
              "      <td>0</td>\n",
              "      <td>39</td>\n",
              "      <td>230</td>\n",
              "      <td>12</td>\n",
              "      <td>12</td>\n",
              "      <td>1</td>\n",
              "      <td>2</td>\n",
              "      <td>1</td>\n",
              "      <td>2</td>\n",
              "      <td>2</td>\n",
              "      <td>1</td>\n",
              "      <td>1</td>\n",
              "      <td>1</td>\n",
              "      <td>2</td>\n",
              "      <td>1</td>\n",
              "      <td>1</td>\n",
              "      <td>36000</td>\n",
              "      <td>3204</td>\n",
              "      <td>60</td>\n",
              "      <td>70</td>\n",
              "      <td>CLM46614</td>\n",
              "      <td>2009-04-12</td>\n",
              "      <td>2009-04-18</td>\n",
              "      <td>PRV55912</td>\n",
              "      <td>26000</td>\n",
              "      <td>PHY390922</td>\n",
              "      <td>NaN</td>\n",
              "      <td>NaN</td>\n",
              "      <td>2009-04-12</td>\n",
              "      <td>7866</td>\n",
              "      <td>1068.0</td>\n",
              "      <td>2009-04-18</td>\n",
              "      <td>201</td>\n",
              "      <td>1970</td>\n",
              "      <td>4019</td>\n",
              "      <td>5853</td>\n",
              "      <td>7843</td>\n",
              "      <td>2768</td>\n",
              "      <td>71590</td>\n",
              "      <td>2724</td>\n",
              "      <td>19889</td>\n",
              "      <td>5849</td>\n",
              "      <td>NaN</td>\n",
              "      <td>NaN</td>\n",
              "      <td>NaN</td>\n",
              "      <td>NaN</td>\n",
              "      <td>NaN</td>\n",
              "      <td>NaN</td>\n",
              "      <td>NaN</td>\n",
              "      <td>Inpatient</td>\n",
              "      <td>Yes</td>\n",
              "    </tr>\n",
              "    <tr>\n",
              "      <th>1</th>\n",
              "      <td>BENE12511</td>\n",
              "      <td>1944-09-01</td>\n",
              "      <td>NaN</td>\n",
              "      <td>1</td>\n",
              "      <td>1</td>\n",
              "      <td>0</td>\n",
              "      <td>39</td>\n",
              "      <td>510</td>\n",
              "      <td>12</td>\n",
              "      <td>12</td>\n",
              "      <td>2</td>\n",
              "      <td>2</td>\n",
              "      <td>2</td>\n",
              "      <td>2</td>\n",
              "      <td>2</td>\n",
              "      <td>2</td>\n",
              "      <td>1</td>\n",
              "      <td>1</td>\n",
              "      <td>1</td>\n",
              "      <td>2</td>\n",
              "      <td>2</td>\n",
              "      <td>0</td>\n",
              "      <td>0</td>\n",
              "      <td>1250</td>\n",
              "      <td>90</td>\n",
              "      <td>CLM724430</td>\n",
              "      <td>2009-12-11</td>\n",
              "      <td>2009-12-11</td>\n",
              "      <td>PRV55912</td>\n",
              "      <td>600</td>\n",
              "      <td>PHY420794</td>\n",
              "      <td>NaN</td>\n",
              "      <td>NaN</td>\n",
              "      <td>NaN</td>\n",
              "      <td>NaN</td>\n",
              "      <td>0.0</td>\n",
              "      <td>NaN</td>\n",
              "      <td>NaN</td>\n",
              "      <td>V560</td>\n",
              "      <td>V4283</td>\n",
              "      <td>NaN</td>\n",
              "      <td>NaN</td>\n",
              "      <td>NaN</td>\n",
              "      <td>NaN</td>\n",
              "      <td>NaN</td>\n",
              "      <td>NaN</td>\n",
              "      <td>NaN</td>\n",
              "      <td>NaN</td>\n",
              "      <td>NaN</td>\n",
              "      <td>NaN</td>\n",
              "      <td>NaN</td>\n",
              "      <td>NaN</td>\n",
              "      <td>NaN</td>\n",
              "      <td>NaN</td>\n",
              "      <td>Outpatient</td>\n",
              "      <td>Yes</td>\n",
              "    </tr>\n",
              "    <tr>\n",
              "      <th>2</th>\n",
              "      <td>BENE14577</td>\n",
              "      <td>1935-10-01</td>\n",
              "      <td>NaN</td>\n",
              "      <td>2</td>\n",
              "      <td>1</td>\n",
              "      <td>Y</td>\n",
              "      <td>33</td>\n",
              "      <td>70</td>\n",
              "      <td>12</td>\n",
              "      <td>12</td>\n",
              "      <td>2</td>\n",
              "      <td>1</td>\n",
              "      <td>1</td>\n",
              "      <td>2</td>\n",
              "      <td>2</td>\n",
              "      <td>2</td>\n",
              "      <td>2</td>\n",
              "      <td>1</td>\n",
              "      <td>2</td>\n",
              "      <td>2</td>\n",
              "      <td>1</td>\n",
              "      <td>0</td>\n",
              "      <td>0</td>\n",
              "      <td>2390</td>\n",
              "      <td>440</td>\n",
              "      <td>CLM567180</td>\n",
              "      <td>2009-09-07</td>\n",
              "      <td>2009-09-07</td>\n",
              "      <td>PRV55912</td>\n",
              "      <td>20</td>\n",
              "      <td>PHY381733</td>\n",
              "      <td>NaN</td>\n",
              "      <td>NaN</td>\n",
              "      <td>NaN</td>\n",
              "      <td>NaN</td>\n",
              "      <td>0.0</td>\n",
              "      <td>NaN</td>\n",
              "      <td>NaN</td>\n",
              "      <td>0401</td>\n",
              "      <td>NaN</td>\n",
              "      <td>NaN</td>\n",
              "      <td>NaN</td>\n",
              "      <td>NaN</td>\n",
              "      <td>NaN</td>\n",
              "      <td>NaN</td>\n",
              "      <td>NaN</td>\n",
              "      <td>NaN</td>\n",
              "      <td>NaN</td>\n",
              "      <td>NaN</td>\n",
              "      <td>NaN</td>\n",
              "      <td>NaN</td>\n",
              "      <td>NaN</td>\n",
              "      <td>NaN</td>\n",
              "      <td>NaN</td>\n",
              "      <td>Outpatient</td>\n",
              "      <td>Yes</td>\n",
              "    </tr>\n",
              "    <tr>\n",
              "      <th>3</th>\n",
              "      <td>BENE15074</td>\n",
              "      <td>1932-06-01</td>\n",
              "      <td>NaN</td>\n",
              "      <td>2</td>\n",
              "      <td>1</td>\n",
              "      <td>0</td>\n",
              "      <td>39</td>\n",
              "      <td>470</td>\n",
              "      <td>12</td>\n",
              "      <td>12</td>\n",
              "      <td>1</td>\n",
              "      <td>2</td>\n",
              "      <td>1</td>\n",
              "      <td>2</td>\n",
              "      <td>2</td>\n",
              "      <td>2</td>\n",
              "      <td>1</td>\n",
              "      <td>1</td>\n",
              "      <td>2</td>\n",
              "      <td>2</td>\n",
              "      <td>2</td>\n",
              "      <td>0</td>\n",
              "      <td>0</td>\n",
              "      <td>870</td>\n",
              "      <td>210</td>\n",
              "      <td>CLM259984</td>\n",
              "      <td>2009-03-22</td>\n",
              "      <td>2009-03-22</td>\n",
              "      <td>PRV55912</td>\n",
              "      <td>30</td>\n",
              "      <td>PHY371570</td>\n",
              "      <td>NaN</td>\n",
              "      <td>PHY393406</td>\n",
              "      <td>NaN</td>\n",
              "      <td>NaN</td>\n",
              "      <td>0.0</td>\n",
              "      <td>NaN</td>\n",
              "      <td>NaN</td>\n",
              "      <td>V812</td>\n",
              "      <td>40390</td>\n",
              "      <td>NaN</td>\n",
              "      <td>NaN</td>\n",
              "      <td>NaN</td>\n",
              "      <td>NaN</td>\n",
              "      <td>NaN</td>\n",
              "      <td>NaN</td>\n",
              "      <td>NaN</td>\n",
              "      <td>NaN</td>\n",
              "      <td>NaN</td>\n",
              "      <td>NaN</td>\n",
              "      <td>NaN</td>\n",
              "      <td>NaN</td>\n",
              "      <td>NaN</td>\n",
              "      <td>NaN</td>\n",
              "      <td>Outpatient</td>\n",
              "      <td>Yes</td>\n",
              "    </tr>\n",
              "    <tr>\n",
              "      <th>4</th>\n",
              "      <td>BENE16973</td>\n",
              "      <td>1932-05-01</td>\n",
              "      <td>NaN</td>\n",
              "      <td>1</td>\n",
              "      <td>1</td>\n",
              "      <td>0</td>\n",
              "      <td>39</td>\n",
              "      <td>310</td>\n",
              "      <td>12</td>\n",
              "      <td>12</td>\n",
              "      <td>1</td>\n",
              "      <td>1</td>\n",
              "      <td>1</td>\n",
              "      <td>2</td>\n",
              "      <td>2</td>\n",
              "      <td>2</td>\n",
              "      <td>2</td>\n",
              "      <td>1</td>\n",
              "      <td>2</td>\n",
              "      <td>2</td>\n",
              "      <td>2</td>\n",
              "      <td>24000</td>\n",
              "      <td>2136</td>\n",
              "      <td>450</td>\n",
              "      <td>200</td>\n",
              "      <td>CLM565430</td>\n",
              "      <td>2009-09-06</td>\n",
              "      <td>2009-09-06</td>\n",
              "      <td>PRV55912</td>\n",
              "      <td>50</td>\n",
              "      <td>PHY365867</td>\n",
              "      <td>PHY327147</td>\n",
              "      <td>NaN</td>\n",
              "      <td>NaN</td>\n",
              "      <td>NaN</td>\n",
              "      <td>0.0</td>\n",
              "      <td>NaN</td>\n",
              "      <td>NaN</td>\n",
              "      <td>V7183</td>\n",
              "      <td>53081</td>\n",
              "      <td>78959</td>\n",
              "      <td>4280</td>\n",
              "      <td>E8788</td>\n",
              "      <td>78079</td>\n",
              "      <td>79902</td>\n",
              "      <td>25002</td>\n",
              "      <td>71848</td>\n",
              "      <td>NaN</td>\n",
              "      <td>NaN</td>\n",
              "      <td>NaN</td>\n",
              "      <td>NaN</td>\n",
              "      <td>NaN</td>\n",
              "      <td>NaN</td>\n",
              "      <td>NaN</td>\n",
              "      <td>Outpatient</td>\n",
              "      <td>Yes</td>\n",
              "    </tr>\n",
              "  </tbody>\n",
              "</table>\n",
              "</div>"
            ],
            "text/plain": [
              "      BeneID         DOB  DOD  ...  ClmProcedureCode_6  Claim_type PotentialFraud\n",
              "0  BENE11001  1943-01-01  NaN  ...                 NaN   Inpatient            Yes\n",
              "1  BENE12511  1944-09-01  NaN  ...                 NaN  Outpatient            Yes\n",
              "2  BENE14577  1935-10-01  NaN  ...                 NaN  Outpatient            Yes\n",
              "3  BENE15074  1932-06-01  NaN  ...                 NaN  Outpatient            Yes\n",
              "4  BENE16973  1932-05-01  NaN  ...                 NaN  Outpatient            Yes\n",
              "\n",
              "[5 rows x 56 columns]"
            ]
          },
          "metadata": {},
          "execution_count": 12
        }
      ]
    },
    {
      "cell_type": "markdown",
      "metadata": {
        "id": "tG6FCaT0Vraj"
      },
      "source": [
        ""
      ]
    },
    {
      "cell_type": "code",
      "metadata": {
        "colab": {
          "base_uri": "https://localhost:8080/"
        },
        "id": "oo9of8FgPXJX",
        "outputId": "a4636e39-1153-4864-cd04-1ad0767becd3"
      },
      "source": [
        "final_train.shape"
      ],
      "execution_count": 11,
      "outputs": [
        {
          "output_type": "execute_result",
          "data": {
            "text/plain": [
              "(558211, 56)"
            ]
          },
          "metadata": {},
          "execution_count": 11
        }
      ]
    },
    {
      "cell_type": "code",
      "metadata": {
        "colab": {
          "base_uri": "https://localhost:8080/"
        },
        "id": "VZkLAYgnN8KT",
        "outputId": "8b825727-c271-42ca-b7ad-cf8c8c18727e"
      },
      "source": [
        "final_train.info()"
      ],
      "execution_count": 9,
      "outputs": [
        {
          "output_type": "stream",
          "name": "stdout",
          "text": [
            "<class 'pandas.core.frame.DataFrame'>\n",
            "Int64Index: 558211 entries, 0 to 558210\n",
            "Data columns (total 56 columns):\n",
            " #   Column                           Non-Null Count   Dtype  \n",
            "---  ------                           --------------   -----  \n",
            " 0   BeneID                           558211 non-null  object \n",
            " 1   DOB                              558211 non-null  object \n",
            " 2   DOD                              4131 non-null    object \n",
            " 3   Gender                           558211 non-null  int64  \n",
            " 4   Race                             558211 non-null  int64  \n",
            " 5   RenalDiseaseIndicator            558211 non-null  object \n",
            " 6   State                            558211 non-null  int64  \n",
            " 7   County                           558211 non-null  int64  \n",
            " 8   NoOfMonths_PartACov              558211 non-null  int64  \n",
            " 9   NoOfMonths_PartBCov              558211 non-null  int64  \n",
            " 10  ChronicCond_Alzheimer            558211 non-null  int64  \n",
            " 11  ChronicCond_Heartfailure         558211 non-null  int64  \n",
            " 12  ChronicCond_KidneyDisease        558211 non-null  int64  \n",
            " 13  ChronicCond_Cancer               558211 non-null  int64  \n",
            " 14  ChronicCond_ObstrPulmonary       558211 non-null  int64  \n",
            " 15  ChronicCond_Depression           558211 non-null  int64  \n",
            " 16  ChronicCond_Diabetes             558211 non-null  int64  \n",
            " 17  ChronicCond_IschemicHeart        558211 non-null  int64  \n",
            " 18  ChronicCond_Osteoporasis         558211 non-null  int64  \n",
            " 19  ChronicCond_rheumatoidarthritis  558211 non-null  int64  \n",
            " 20  ChronicCond_stroke               558211 non-null  int64  \n",
            " 21  IPAnnualReimbursementAmt         558211 non-null  int64  \n",
            " 22  IPAnnualDeductibleAmt            558211 non-null  int64  \n",
            " 23  OPAnnualReimbursementAmt         558211 non-null  int64  \n",
            " 24  OPAnnualDeductibleAmt            558211 non-null  int64  \n",
            " 25  ClaimID                          558211 non-null  object \n",
            " 26  ClaimStartDt                     558211 non-null  object \n",
            " 27  ClaimEndDt                       558211 non-null  object \n",
            " 28  Provider                         558211 non-null  object \n",
            " 29  InscClaimAmtReimbursed           558211 non-null  int64  \n",
            " 30  AttendingPhysician               556703 non-null  object \n",
            " 31  OperatingPhysician               114447 non-null  object \n",
            " 32  OtherPhysician                   199736 non-null  object \n",
            " 33  AdmissionDt                      40474 non-null   object \n",
            " 34  ClmAdmitDiagnosisCode            145899 non-null  object \n",
            " 35  DeductibleAmtPaid                557312 non-null  float64\n",
            " 36  DischargeDt                      40474 non-null   object \n",
            " 37  DiagnosisGroupCode               40474 non-null   object \n",
            " 38  ClmDiagnosisCode_1               547758 non-null  object \n",
            " 39  ClmDiagnosisCode_2               362605 non-null  object \n",
            " 40  ClmDiagnosisCode_3               243055 non-null  object \n",
            " 41  ClmDiagnosisCode_4               164536 non-null  object \n",
            " 42  ClmDiagnosisCode_5               111924 non-null  object \n",
            " 43  ClmDiagnosisCode_6               84392 non-null   object \n",
            " 44  ClmDiagnosisCode_7               66177 non-null   object \n",
            " 45  ClmDiagnosisCode_8               53444 non-null   object \n",
            " 46  ClmDiagnosisCode_9               41815 non-null   object \n",
            " 47  ClmDiagnosisCode_10              5010 non-null    object \n",
            " 48  ClmProcedureCode_1               23310 non-null   float64\n",
            " 49  ClmProcedureCode_2               5490 non-null    float64\n",
            " 50  ClmProcedureCode_3               969 non-null     float64\n",
            " 51  ClmProcedureCode_4               118 non-null     float64\n",
            " 52  ClmProcedureCode_5               9 non-null       float64\n",
            " 53  ClmProcedureCode_6               0 non-null       float64\n",
            " 54  Claim_type                       558211 non-null  object \n",
            " 55  PotentialFraud                   558211 non-null  object \n",
            "dtypes: float64(7), int64(22), object(27)\n",
            "memory usage: 242.8+ MB\n"
          ]
        }
      ]
    },
    {
      "cell_type": "code",
      "metadata": {
        "colab": {
          "base_uri": "https://localhost:8080/"
        },
        "id": "X01ndGtbTSWt",
        "outputId": "136ea010-d1a7-46e1-c008-dff35e5109d5"
      },
      "source": [
        "final_test.info()"
      ],
      "execution_count": 17,
      "outputs": [
        {
          "output_type": "stream",
          "name": "stdout",
          "text": [
            "<class 'pandas.core.frame.DataFrame'>\n",
            "Int64Index: 135392 entries, 0 to 135391\n",
            "Data columns (total 55 columns):\n",
            " #   Column                           Non-Null Count   Dtype  \n",
            "---  ------                           --------------   -----  \n",
            " 0   BeneID                           135392 non-null  object \n",
            " 1   DOB                              135392 non-null  object \n",
            " 2   DOD                              1040 non-null    object \n",
            " 3   Gender                           135392 non-null  int64  \n",
            " 4   Race                             135392 non-null  int64  \n",
            " 5   RenalDiseaseIndicator            135392 non-null  object \n",
            " 6   State                            135392 non-null  int64  \n",
            " 7   County                           135392 non-null  int64  \n",
            " 8   NoOfMonths_PartACov              135392 non-null  int64  \n",
            " 9   NoOfMonths_PartBCov              135392 non-null  int64  \n",
            " 10  ChronicCond_Alzheimer            135392 non-null  int64  \n",
            " 11  ChronicCond_Heartfailure         135392 non-null  int64  \n",
            " 12  ChronicCond_KidneyDisease        135392 non-null  int64  \n",
            " 13  ChronicCond_Cancer               135392 non-null  int64  \n",
            " 14  ChronicCond_ObstrPulmonary       135392 non-null  int64  \n",
            " 15  ChronicCond_Depression           135392 non-null  int64  \n",
            " 16  ChronicCond_Diabetes             135392 non-null  int64  \n",
            " 17  ChronicCond_IschemicHeart        135392 non-null  int64  \n",
            " 18  ChronicCond_Osteoporasis         135392 non-null  int64  \n",
            " 19  ChronicCond_rheumatoidarthritis  135392 non-null  int64  \n",
            " 20  ChronicCond_stroke               135392 non-null  int64  \n",
            " 21  IPAnnualReimbursementAmt         135392 non-null  int64  \n",
            " 22  IPAnnualDeductibleAmt            135392 non-null  int64  \n",
            " 23  OPAnnualReimbursementAmt         135392 non-null  int64  \n",
            " 24  OPAnnualDeductibleAmt            135392 non-null  int64  \n",
            " 25  ClaimID                          135392 non-null  object \n",
            " 26  ClaimStartDt                     135392 non-null  object \n",
            " 27  ClaimEndDt                       135392 non-null  object \n",
            " 28  Provider                         135392 non-null  object \n",
            " 29  InscClaimAmtReimbursed           135392 non-null  int64  \n",
            " 30  AttendingPhysician               135045 non-null  object \n",
            " 31  OperatingPhysician               27193 non-null   object \n",
            " 32  OtherPhysician                   48632 non-null   object \n",
            " 33  AdmissionDt                      9551 non-null    object \n",
            " 34  ClmAdmitDiagnosisCode            35356 non-null   object \n",
            " 35  DeductibleAmtPaid                135196 non-null  float64\n",
            " 36  DischargeDt                      9551 non-null    object \n",
            " 37  DiagnosisGroupCode               9551 non-null    object \n",
            " 38  ClmDiagnosisCode_1               132814 non-null  object \n",
            " 39  ClmDiagnosisCode_2               87607 non-null   object \n",
            " 40  ClmDiagnosisCode_3               58648 non-null   object \n",
            " 41  ClmDiagnosisCode_4               39617 non-null   object \n",
            " 42  ClmDiagnosisCode_5               26798 non-null   object \n",
            " 43  ClmDiagnosisCode_6               20160 non-null   object \n",
            " 44  ClmDiagnosisCode_7               15785 non-null   object \n",
            " 45  ClmDiagnosisCode_8               12722 non-null   object \n",
            " 46  ClmDiagnosisCode_9               9876 non-null    object \n",
            " 47  ClmDiagnosisCode_10              1150 non-null    object \n",
            " 48  ClmProcedureCode_1               5467 non-null    float64\n",
            " 49  ClmProcedureCode_2               1263 non-null    float64\n",
            " 50  ClmProcedureCode_3               225 non-null     float64\n",
            " 51  ClmProcedureCode_4               29 non-null      float64\n",
            " 52  ClmProcedureCode_5               2 non-null       float64\n",
            " 53  ClmProcedureCode_6               0 non-null       float64\n",
            " 54  Claim_type                       135392 non-null  object \n",
            "dtypes: float64(7), int64(22), object(26)\n",
            "memory usage: 57.8+ MB\n"
          ]
        }
      ]
    },
    {
      "cell_type": "markdown",
      "metadata": {
        "id": "TjK4ZaZ6SYMX"
      },
      "source": [
        "**Usage of the date variables: **"
      ]
    },
    {
      "cell_type": "code",
      "metadata": {
        "id": "BFEtIv_TN8Mc"
      },
      "source": [
        "# Convert the column Date into Datetime64 datatype\n",
        "final_train['ClaimStartDt'] = pd.to_datetime(final_train['ClaimStartDt'], format = '%Y-%m-%d')\n",
        "final_train['ClaimEndDt'] = pd.to_datetime(final_train['ClaimEndDt'], format = '%Y-%m-%d')\n",
        "final_test['ClaimStartDt'] = pd.to_datetime(final_test['ClaimStartDt'], format = '%Y-%m-%d')\n",
        "final_test['ClaimEndDt'] = pd.to_datetime(final_test['ClaimEndDt'], format = '%Y-%m-%d')"
      ],
      "execution_count": 18,
      "outputs": []
    },
    {
      "cell_type": "code",
      "metadata": {
        "id": "qOqNaFrCWRa-"
      },
      "source": [
        ""
      ],
      "execution_count": null,
      "outputs": []
    }
  ]
}