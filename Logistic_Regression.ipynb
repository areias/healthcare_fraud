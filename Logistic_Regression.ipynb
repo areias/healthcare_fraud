{
  "nbformat": 4,
  "nbformat_minor": 0,
  "metadata": {
    "colab": {
      "name": "Logistic Regression",
      "provenance": [],
      "authorship_tag": "ABX9TyPsLJ5D8yM+jTPTpH1iwsGL",
      "include_colab_link": true
    },
    "kernelspec": {
      "name": "python3",
      "display_name": "Python 3"
    },
    "language_info": {
      "name": "python"
    }
  },
  "cells": [
    {
      "cell_type": "markdown",
      "metadata": {
        "id": "view-in-github",
        "colab_type": "text"
      },
      "source": [
        "<a href=\"https://colab.research.google.com/github/areias/healthcare_fraud/blob/main/Logistic_Regression.ipynb\" target=\"_parent\"><img src=\"https://colab.research.google.com/assets/colab-badge.svg\" alt=\"Open In Colab\"/></a>"
      ]
    },
    {
      "cell_type": "code",
      "metadata": {
        "colab": {
          "base_uri": "https://localhost:8080/"
        },
        "id": "yRMhH0GrSBE1",
        "outputId": "39b01805-4ec5-448c-82d9-b17b8cfb5e11"
      },
      "source": [
        "!pip install wandb -qqq\n"
      ],
      "execution_count": 28,
      "outputs": [
        {
          "output_type": "stream",
          "name": "stdout",
          "text": [
            "\u001b[K     |████████████████████████████████| 1.7 MB 5.2 MB/s \n",
            "\u001b[K     |████████████████████████████████| 180 kB 57.7 MB/s \n",
            "\u001b[K     |████████████████████████████████| 97 kB 5.2 MB/s \n",
            "\u001b[K     |████████████████████████████████| 140 kB 57.3 MB/s \n",
            "\u001b[K     |████████████████████████████████| 63 kB 1.6 MB/s \n",
            "\u001b[?25h  Building wheel for subprocess32 (setup.py) ... \u001b[?25l\u001b[?25hdone\n",
            "  Building wheel for pathtools (setup.py) ... \u001b[?25l\u001b[?25hdone\n"
          ]
        }
      ]
    },
    {
      "cell_type": "code",
      "metadata": {
        "id": "tQa5gzcrM19R"
      },
      "source": [
        "import pandas as pd\n",
        "import matplotlib.pyplot as plt\n",
        "import numpy as np\n",
        "import seaborn as sns\n",
        "from sklearn.linear_model import LogisticRegression\n",
        "from sklearn.metrics import classification_report, confusion_matrix\n",
        "import wandb"
      ],
      "execution_count": 29,
      "outputs": []
    },
    {
      "cell_type": "code",
      "metadata": {
        "colab": {
          "base_uri": "https://localhost:8080/",
          "height": 104
        },
        "id": "-VPvtOJmS7yj",
        "outputId": "ea6a63ea-a6f5-47ad-e5e3-58fb55e4a673"
      },
      "source": [
        "wandb.login()"
      ],
      "execution_count": 30,
      "outputs": [
        {
          "output_type": "display_data",
          "data": {
            "application/javascript": [
              "\n",
              "        window._wandbApiKey = new Promise((resolve, reject) => {\n",
              "            function loadScript(url) {\n",
              "            return new Promise(function(resolve, reject) {\n",
              "                let newScript = document.createElement(\"script\");\n",
              "                newScript.onerror = reject;\n",
              "                newScript.onload = resolve;\n",
              "                document.body.appendChild(newScript);\n",
              "                newScript.src = url;\n",
              "            });\n",
              "            }\n",
              "            loadScript(\"https://cdn.jsdelivr.net/npm/postmate/build/postmate.min.js\").then(() => {\n",
              "            const iframe = document.createElement('iframe')\n",
              "            iframe.style.cssText = \"width:0;height:0;border:none\"\n",
              "            document.body.appendChild(iframe)\n",
              "            const handshake = new Postmate({\n",
              "                container: iframe,\n",
              "                url: 'https://wandb.ai/authorize'\n",
              "            });\n",
              "            const timeout = setTimeout(() => reject(\"Couldn't auto authenticate\"), 5000)\n",
              "            handshake.then(function(child) {\n",
              "                child.on('authorize', data => {\n",
              "                    clearTimeout(timeout)\n",
              "                    resolve(data)\n",
              "                });\n",
              "            });\n",
              "            })\n",
              "        });\n",
              "    "
            ],
            "text/plain": [
              "<IPython.core.display.Javascript object>"
            ]
          },
          "metadata": {}
        },
        {
          "output_type": "stream",
          "name": "stderr",
          "text": [
            "\u001b[34m\u001b[1mwandb\u001b[0m: You can find your API key in your browser here: https://wandb.ai/authorize\n"
          ]
        },
        {
          "name": "stdout",
          "output_type": "stream",
          "text": [
            "wandb: Paste an API key from your profile and hit enter, or press ctrl+c to quit: ··········\n"
          ]
        },
        {
          "output_type": "stream",
          "name": "stderr",
          "text": [
            "\u001b[34m\u001b[1mwandb\u001b[0m: Appending key for api.wandb.ai to your netrc file: /root/.netrc\n"
          ]
        },
        {
          "output_type": "execute_result",
          "data": {
            "text/plain": [
              "True"
            ]
          },
          "metadata": {},
          "execution_count": 30
        }
      ]
    },
    {
      "cell_type": "code",
      "metadata": {
        "id": "9dYjaN71NaiS"
      },
      "source": [
        "train_ben=pd.read_csv('Train_Beneficiarydata-1542865627584.csv')\n",
        "train_in=pd.read_csv('Train_Inpatientdata-1542865627584.csv')\n",
        "train_out=pd.read_csv('Train_Outpatientdata-1542865627584.csv')\n",
        "train=pd.read_csv('Train-1542865627584.csv')\n",
        "test_ben=pd.read_csv('Test_Beneficiarydata-1542969243754.csv')\n",
        "test_in=pd.read_csv('Test_Inpatientdata-1542969243754.csv')\n",
        "test_out=pd.read_csv('Test_Outpatientdata-1542969243754.csv')\n",
        "test=pd.read_csv('Test-1542969243754.csv')"
      ],
      "execution_count": null,
      "outputs": []
    },
    {
      "cell_type": "code",
      "metadata": {
        "id": "xNWVgYWLMAcR",
        "colab": {
          "base_uri": "https://localhost:8080/",
          "height": 423
        },
        "outputId": "547a8008-50ee-4203-f7fe-cdd03d0ff358"
      },
      "source": [
        "test"
      ],
      "execution_count": null,
      "outputs": [
        {
          "output_type": "execute_result",
          "data": {
            "text/html": [
              "<div>\n",
              "<style scoped>\n",
              "    .dataframe tbody tr th:only-of-type {\n",
              "        vertical-align: middle;\n",
              "    }\n",
              "\n",
              "    .dataframe tbody tr th {\n",
              "        vertical-align: top;\n",
              "    }\n",
              "\n",
              "    .dataframe thead th {\n",
              "        text-align: right;\n",
              "    }\n",
              "</style>\n",
              "<table border=\"1\" class=\"dataframe\">\n",
              "  <thead>\n",
              "    <tr style=\"text-align: right;\">\n",
              "      <th></th>\n",
              "      <th>Provider</th>\n",
              "    </tr>\n",
              "  </thead>\n",
              "  <tbody>\n",
              "    <tr>\n",
              "      <th>0</th>\n",
              "      <td>PRV51002</td>\n",
              "    </tr>\n",
              "    <tr>\n",
              "      <th>1</th>\n",
              "      <td>PRV51006</td>\n",
              "    </tr>\n",
              "    <tr>\n",
              "      <th>2</th>\n",
              "      <td>PRV51009</td>\n",
              "    </tr>\n",
              "    <tr>\n",
              "      <th>3</th>\n",
              "      <td>PRV51010</td>\n",
              "    </tr>\n",
              "    <tr>\n",
              "      <th>4</th>\n",
              "      <td>PRV51018</td>\n",
              "    </tr>\n",
              "    <tr>\n",
              "      <th>...</th>\n",
              "      <td>...</td>\n",
              "    </tr>\n",
              "    <tr>\n",
              "      <th>1348</th>\n",
              "      <td>PRV57713</td>\n",
              "    </tr>\n",
              "    <tr>\n",
              "      <th>1349</th>\n",
              "      <td>PRV57726</td>\n",
              "    </tr>\n",
              "    <tr>\n",
              "      <th>1350</th>\n",
              "      <td>PRV57745</td>\n",
              "    </tr>\n",
              "    <tr>\n",
              "      <th>1351</th>\n",
              "      <td>PRV57749</td>\n",
              "    </tr>\n",
              "    <tr>\n",
              "      <th>1352</th>\n",
              "      <td>PRV57750</td>\n",
              "    </tr>\n",
              "  </tbody>\n",
              "</table>\n",
              "<p>1353 rows × 1 columns</p>\n",
              "</div>"
            ],
            "text/plain": [
              "      Provider\n",
              "0     PRV51002\n",
              "1     PRV51006\n",
              "2     PRV51009\n",
              "3     PRV51010\n",
              "4     PRV51018\n",
              "...        ...\n",
              "1348  PRV57713\n",
              "1349  PRV57726\n",
              "1350  PRV57745\n",
              "1351  PRV57749\n",
              "1352  PRV57750\n",
              "\n",
              "[1353 rows x 1 columns]"
            ]
          },
          "metadata": {},
          "execution_count": 13
        }
      ]
    },
    {
      "cell_type": "code",
      "metadata": {
        "colab": {
          "base_uri": "https://localhost:8080/",
          "height": 423
        },
        "id": "QtfOl1ehODoG",
        "outputId": "be6fdf02-e50f-4853-bb63-2451cd71472e"
      },
      "source": [
        "train"
      ],
      "execution_count": 26,
      "outputs": [
        {
          "output_type": "execute_result",
          "data": {
            "text/html": [
              "<div>\n",
              "<style scoped>\n",
              "    .dataframe tbody tr th:only-of-type {\n",
              "        vertical-align: middle;\n",
              "    }\n",
              "\n",
              "    .dataframe tbody tr th {\n",
              "        vertical-align: top;\n",
              "    }\n",
              "\n",
              "    .dataframe thead th {\n",
              "        text-align: right;\n",
              "    }\n",
              "</style>\n",
              "<table border=\"1\" class=\"dataframe\">\n",
              "  <thead>\n",
              "    <tr style=\"text-align: right;\">\n",
              "      <th></th>\n",
              "      <th>Provider</th>\n",
              "      <th>PotentialFraud</th>\n",
              "    </tr>\n",
              "  </thead>\n",
              "  <tbody>\n",
              "    <tr>\n",
              "      <th>0</th>\n",
              "      <td>PRV51001</td>\n",
              "      <td>No</td>\n",
              "    </tr>\n",
              "    <tr>\n",
              "      <th>1</th>\n",
              "      <td>PRV51003</td>\n",
              "      <td>Yes</td>\n",
              "    </tr>\n",
              "    <tr>\n",
              "      <th>2</th>\n",
              "      <td>PRV51004</td>\n",
              "      <td>No</td>\n",
              "    </tr>\n",
              "    <tr>\n",
              "      <th>3</th>\n",
              "      <td>PRV51005</td>\n",
              "      <td>Yes</td>\n",
              "    </tr>\n",
              "    <tr>\n",
              "      <th>4</th>\n",
              "      <td>PRV51007</td>\n",
              "      <td>No</td>\n",
              "    </tr>\n",
              "    <tr>\n",
              "      <th>...</th>\n",
              "      <td>...</td>\n",
              "      <td>...</td>\n",
              "    </tr>\n",
              "    <tr>\n",
              "      <th>5405</th>\n",
              "      <td>PRV57759</td>\n",
              "      <td>No</td>\n",
              "    </tr>\n",
              "    <tr>\n",
              "      <th>5406</th>\n",
              "      <td>PRV57760</td>\n",
              "      <td>No</td>\n",
              "    </tr>\n",
              "    <tr>\n",
              "      <th>5407</th>\n",
              "      <td>PRV57761</td>\n",
              "      <td>No</td>\n",
              "    </tr>\n",
              "    <tr>\n",
              "      <th>5408</th>\n",
              "      <td>PRV57762</td>\n",
              "      <td>No</td>\n",
              "    </tr>\n",
              "    <tr>\n",
              "      <th>5409</th>\n",
              "      <td>PRV57763</td>\n",
              "      <td>No</td>\n",
              "    </tr>\n",
              "  </tbody>\n",
              "</table>\n",
              "<p>5410 rows × 2 columns</p>\n",
              "</div>"
            ],
            "text/plain": [
              "      Provider PotentialFraud\n",
              "0     PRV51001             No\n",
              "1     PRV51003            Yes\n",
              "2     PRV51004             No\n",
              "3     PRV51005            Yes\n",
              "4     PRV51007             No\n",
              "...        ...            ...\n",
              "5405  PRV57759             No\n",
              "5406  PRV57760             No\n",
              "5407  PRV57761             No\n",
              "5408  PRV57762             No\n",
              "5409  PRV57763             No\n",
              "\n",
              "[5410 rows x 2 columns]"
            ]
          },
          "metadata": {},
          "execution_count": 26
        }
      ]
    },
    {
      "cell_type": "code",
      "metadata": {
        "id": "3BR8wzwTMd3u",
        "colab": {
          "base_uri": "https://localhost:8080/",
          "height": 423
        },
        "outputId": "1c86bace-61dc-449c-eebf-fee4ff407df9"
      },
      "source": [
        "train"
      ],
      "execution_count": null,
      "outputs": [
        {
          "output_type": "execute_result",
          "data": {
            "text/html": [
              "<div>\n",
              "<style scoped>\n",
              "    .dataframe tbody tr th:only-of-type {\n",
              "        vertical-align: middle;\n",
              "    }\n",
              "\n",
              "    .dataframe tbody tr th {\n",
              "        vertical-align: top;\n",
              "    }\n",
              "\n",
              "    .dataframe thead th {\n",
              "        text-align: right;\n",
              "    }\n",
              "</style>\n",
              "<table border=\"1\" class=\"dataframe\">\n",
              "  <thead>\n",
              "    <tr style=\"text-align: right;\">\n",
              "      <th></th>\n",
              "      <th>Provider</th>\n",
              "      <th>PotentialFraud</th>\n",
              "    </tr>\n",
              "  </thead>\n",
              "  <tbody>\n",
              "    <tr>\n",
              "      <th>0</th>\n",
              "      <td>PRV51001</td>\n",
              "      <td>No</td>\n",
              "    </tr>\n",
              "    <tr>\n",
              "      <th>1</th>\n",
              "      <td>PRV51003</td>\n",
              "      <td>Yes</td>\n",
              "    </tr>\n",
              "    <tr>\n",
              "      <th>2</th>\n",
              "      <td>PRV51004</td>\n",
              "      <td>No</td>\n",
              "    </tr>\n",
              "    <tr>\n",
              "      <th>3</th>\n",
              "      <td>PRV51005</td>\n",
              "      <td>Yes</td>\n",
              "    </tr>\n",
              "    <tr>\n",
              "      <th>4</th>\n",
              "      <td>PRV51007</td>\n",
              "      <td>No</td>\n",
              "    </tr>\n",
              "    <tr>\n",
              "      <th>...</th>\n",
              "      <td>...</td>\n",
              "      <td>...</td>\n",
              "    </tr>\n",
              "    <tr>\n",
              "      <th>5405</th>\n",
              "      <td>PRV57759</td>\n",
              "      <td>No</td>\n",
              "    </tr>\n",
              "    <tr>\n",
              "      <th>5406</th>\n",
              "      <td>PRV57760</td>\n",
              "      <td>No</td>\n",
              "    </tr>\n",
              "    <tr>\n",
              "      <th>5407</th>\n",
              "      <td>PRV57761</td>\n",
              "      <td>No</td>\n",
              "    </tr>\n",
              "    <tr>\n",
              "      <th>5408</th>\n",
              "      <td>PRV57762</td>\n",
              "      <td>No</td>\n",
              "    </tr>\n",
              "    <tr>\n",
              "      <th>5409</th>\n",
              "      <td>PRV57763</td>\n",
              "      <td>No</td>\n",
              "    </tr>\n",
              "  </tbody>\n",
              "</table>\n",
              "<p>5410 rows × 2 columns</p>\n",
              "</div>"
            ],
            "text/plain": [
              "      Provider PotentialFraud\n",
              "0     PRV51001             No\n",
              "1     PRV51003            Yes\n",
              "2     PRV51004             No\n",
              "3     PRV51005            Yes\n",
              "4     PRV51007             No\n",
              "...        ...            ...\n",
              "5405  PRV57759             No\n",
              "5406  PRV57760             No\n",
              "5407  PRV57761             No\n",
              "5408  PRV57762             No\n",
              "5409  PRV57763             No\n",
              "\n",
              "[5410 rows x 2 columns]"
            ]
          },
          "metadata": {},
          "execution_count": 14
        }
      ]
    },
    {
      "cell_type": "markdown",
      "metadata": {
        "id": "-RY1m31gN9RA"
      },
      "source": [
        "**Merging the data**"
      ]
    },
    {
      "cell_type": "markdown",
      "metadata": {
        "id": "6jE8Ij7wS09x"
      },
      "source": [
        "**Train**"
      ]
    },
    {
      "cell_type": "code",
      "metadata": {
        "id": "yfz7YoGbN762"
      },
      "source": [
        "train_in['Claim_type']='Inpatient'\n",
        "train_out['Claim_type']='Outpatient'"
      ],
      "execution_count": null,
      "outputs": []
    },
    {
      "cell_type": "code",
      "metadata": {
        "id": "58tRXJ_sN8FF"
      },
      "source": [
        "final_train=pd.concat([train_in, train_out])\n",
        "final_train=pd.merge(train_ben, final_train, on='BeneID')\n",
        "final_train=pd.merge(final_train, train, on='Provider')"
      ],
      "execution_count": null,
      "outputs": []
    },
    {
      "cell_type": "markdown",
      "metadata": {
        "id": "aNSwLi7gS7yK"
      },
      "source": [
        "**Test**"
      ]
    },
    {
      "cell_type": "code",
      "metadata": {
        "id": "AkwdUE6PS61_"
      },
      "source": [
        "test_in['Claim_type']='Inpatient'\n",
        "test_out['Claim_type']='Outpatient'"
      ],
      "execution_count": null,
      "outputs": []
    },
    {
      "cell_type": "code",
      "metadata": {
        "id": "SXYGwmtUTA8J"
      },
      "source": [
        "final_test=pd.concat([test_in, test_out])\n",
        "final_test=pd.merge(test_ben, final_test, on='BeneID')\n",
        "final_test=pd.merge(final_test, test, on='Provider')"
      ],
      "execution_count": null,
      "outputs": []
    },
    {
      "cell_type": "code",
      "metadata": {
        "colab": {
          "base_uri": "https://localhost:8080/",
          "height": 313
        },
        "id": "jRJ2Gf9-SFZU",
        "outputId": "e5d63f0d-9aad-45dc-bfd5-243557fd94f9"
      },
      "source": [
        "final_train.head()"
      ],
      "execution_count": null,
      "outputs": [
        {
          "output_type": "execute_result",
          "data": {
            "text/html": [
              "<div>\n",
              "<style scoped>\n",
              "    .dataframe tbody tr th:only-of-type {\n",
              "        vertical-align: middle;\n",
              "    }\n",
              "\n",
              "    .dataframe tbody tr th {\n",
              "        vertical-align: top;\n",
              "    }\n",
              "\n",
              "    .dataframe thead th {\n",
              "        text-align: right;\n",
              "    }\n",
              "</style>\n",
              "<table border=\"1\" class=\"dataframe\">\n",
              "  <thead>\n",
              "    <tr style=\"text-align: right;\">\n",
              "      <th></th>\n",
              "      <th>BeneID</th>\n",
              "      <th>DOB</th>\n",
              "      <th>DOD</th>\n",
              "      <th>Gender</th>\n",
              "      <th>Race</th>\n",
              "      <th>RenalDiseaseIndicator</th>\n",
              "      <th>State</th>\n",
              "      <th>County</th>\n",
              "      <th>NoOfMonths_PartACov</th>\n",
              "      <th>NoOfMonths_PartBCov</th>\n",
              "      <th>ChronicCond_Alzheimer</th>\n",
              "      <th>ChronicCond_Heartfailure</th>\n",
              "      <th>ChronicCond_KidneyDisease</th>\n",
              "      <th>ChronicCond_Cancer</th>\n",
              "      <th>ChronicCond_ObstrPulmonary</th>\n",
              "      <th>ChronicCond_Depression</th>\n",
              "      <th>ChronicCond_Diabetes</th>\n",
              "      <th>ChronicCond_IschemicHeart</th>\n",
              "      <th>ChronicCond_Osteoporasis</th>\n",
              "      <th>ChronicCond_rheumatoidarthritis</th>\n",
              "      <th>ChronicCond_stroke</th>\n",
              "      <th>IPAnnualReimbursementAmt</th>\n",
              "      <th>IPAnnualDeductibleAmt</th>\n",
              "      <th>OPAnnualReimbursementAmt</th>\n",
              "      <th>OPAnnualDeductibleAmt</th>\n",
              "      <th>ClaimID</th>\n",
              "      <th>ClaimStartDt</th>\n",
              "      <th>ClaimEndDt</th>\n",
              "      <th>Provider</th>\n",
              "      <th>InscClaimAmtReimbursed</th>\n",
              "      <th>AttendingPhysician</th>\n",
              "      <th>OperatingPhysician</th>\n",
              "      <th>OtherPhysician</th>\n",
              "      <th>AdmissionDt</th>\n",
              "      <th>ClmAdmitDiagnosisCode</th>\n",
              "      <th>DeductibleAmtPaid</th>\n",
              "      <th>DischargeDt</th>\n",
              "      <th>DiagnosisGroupCode</th>\n",
              "      <th>ClmDiagnosisCode_1</th>\n",
              "      <th>ClmDiagnosisCode_2</th>\n",
              "      <th>ClmDiagnosisCode_3</th>\n",
              "      <th>ClmDiagnosisCode_4</th>\n",
              "      <th>ClmDiagnosisCode_5</th>\n",
              "      <th>ClmDiagnosisCode_6</th>\n",
              "      <th>ClmDiagnosisCode_7</th>\n",
              "      <th>ClmDiagnosisCode_8</th>\n",
              "      <th>ClmDiagnosisCode_9</th>\n",
              "      <th>ClmDiagnosisCode_10</th>\n",
              "      <th>ClmProcedureCode_1</th>\n",
              "      <th>ClmProcedureCode_2</th>\n",
              "      <th>ClmProcedureCode_3</th>\n",
              "      <th>ClmProcedureCode_4</th>\n",
              "      <th>ClmProcedureCode_5</th>\n",
              "      <th>ClmProcedureCode_6</th>\n",
              "      <th>Claim_type</th>\n",
              "      <th>PotentialFraud</th>\n",
              "    </tr>\n",
              "  </thead>\n",
              "  <tbody>\n",
              "    <tr>\n",
              "      <th>0</th>\n",
              "      <td>BENE11001</td>\n",
              "      <td>1943-01-01</td>\n",
              "      <td>NaN</td>\n",
              "      <td>1</td>\n",
              "      <td>1</td>\n",
              "      <td>0</td>\n",
              "      <td>39</td>\n",
              "      <td>230</td>\n",
              "      <td>12</td>\n",
              "      <td>12</td>\n",
              "      <td>1</td>\n",
              "      <td>2</td>\n",
              "      <td>1</td>\n",
              "      <td>2</td>\n",
              "      <td>2</td>\n",
              "      <td>1</td>\n",
              "      <td>1</td>\n",
              "      <td>1</td>\n",
              "      <td>2</td>\n",
              "      <td>1</td>\n",
              "      <td>1</td>\n",
              "      <td>36000</td>\n",
              "      <td>3204</td>\n",
              "      <td>60</td>\n",
              "      <td>70</td>\n",
              "      <td>CLM46614</td>\n",
              "      <td>2009-04-12</td>\n",
              "      <td>2009-04-18</td>\n",
              "      <td>PRV55912</td>\n",
              "      <td>26000</td>\n",
              "      <td>PHY390922</td>\n",
              "      <td>NaN</td>\n",
              "      <td>NaN</td>\n",
              "      <td>2009-04-12</td>\n",
              "      <td>7866</td>\n",
              "      <td>1068.0</td>\n",
              "      <td>2009-04-18</td>\n",
              "      <td>201</td>\n",
              "      <td>1970</td>\n",
              "      <td>4019</td>\n",
              "      <td>5853</td>\n",
              "      <td>7843</td>\n",
              "      <td>2768</td>\n",
              "      <td>71590</td>\n",
              "      <td>2724</td>\n",
              "      <td>19889</td>\n",
              "      <td>5849</td>\n",
              "      <td>NaN</td>\n",
              "      <td>NaN</td>\n",
              "      <td>NaN</td>\n",
              "      <td>NaN</td>\n",
              "      <td>NaN</td>\n",
              "      <td>NaN</td>\n",
              "      <td>NaN</td>\n",
              "      <td>Inpatient</td>\n",
              "      <td>Yes</td>\n",
              "    </tr>\n",
              "    <tr>\n",
              "      <th>1</th>\n",
              "      <td>BENE12511</td>\n",
              "      <td>1944-09-01</td>\n",
              "      <td>NaN</td>\n",
              "      <td>1</td>\n",
              "      <td>1</td>\n",
              "      <td>0</td>\n",
              "      <td>39</td>\n",
              "      <td>510</td>\n",
              "      <td>12</td>\n",
              "      <td>12</td>\n",
              "      <td>2</td>\n",
              "      <td>2</td>\n",
              "      <td>2</td>\n",
              "      <td>2</td>\n",
              "      <td>2</td>\n",
              "      <td>2</td>\n",
              "      <td>1</td>\n",
              "      <td>1</td>\n",
              "      <td>1</td>\n",
              "      <td>2</td>\n",
              "      <td>2</td>\n",
              "      <td>0</td>\n",
              "      <td>0</td>\n",
              "      <td>1250</td>\n",
              "      <td>90</td>\n",
              "      <td>CLM724430</td>\n",
              "      <td>2009-12-11</td>\n",
              "      <td>2009-12-11</td>\n",
              "      <td>PRV55912</td>\n",
              "      <td>600</td>\n",
              "      <td>PHY420794</td>\n",
              "      <td>NaN</td>\n",
              "      <td>NaN</td>\n",
              "      <td>NaN</td>\n",
              "      <td>NaN</td>\n",
              "      <td>0.0</td>\n",
              "      <td>NaN</td>\n",
              "      <td>NaN</td>\n",
              "      <td>V560</td>\n",
              "      <td>V4283</td>\n",
              "      <td>NaN</td>\n",
              "      <td>NaN</td>\n",
              "      <td>NaN</td>\n",
              "      <td>NaN</td>\n",
              "      <td>NaN</td>\n",
              "      <td>NaN</td>\n",
              "      <td>NaN</td>\n",
              "      <td>NaN</td>\n",
              "      <td>NaN</td>\n",
              "      <td>NaN</td>\n",
              "      <td>NaN</td>\n",
              "      <td>NaN</td>\n",
              "      <td>NaN</td>\n",
              "      <td>NaN</td>\n",
              "      <td>Outpatient</td>\n",
              "      <td>Yes</td>\n",
              "    </tr>\n",
              "    <tr>\n",
              "      <th>2</th>\n",
              "      <td>BENE14577</td>\n",
              "      <td>1935-10-01</td>\n",
              "      <td>NaN</td>\n",
              "      <td>2</td>\n",
              "      <td>1</td>\n",
              "      <td>Y</td>\n",
              "      <td>33</td>\n",
              "      <td>70</td>\n",
              "      <td>12</td>\n",
              "      <td>12</td>\n",
              "      <td>2</td>\n",
              "      <td>1</td>\n",
              "      <td>1</td>\n",
              "      <td>2</td>\n",
              "      <td>2</td>\n",
              "      <td>2</td>\n",
              "      <td>2</td>\n",
              "      <td>1</td>\n",
              "      <td>2</td>\n",
              "      <td>2</td>\n",
              "      <td>1</td>\n",
              "      <td>0</td>\n",
              "      <td>0</td>\n",
              "      <td>2390</td>\n",
              "      <td>440</td>\n",
              "      <td>CLM567180</td>\n",
              "      <td>2009-09-07</td>\n",
              "      <td>2009-09-07</td>\n",
              "      <td>PRV55912</td>\n",
              "      <td>20</td>\n",
              "      <td>PHY381733</td>\n",
              "      <td>NaN</td>\n",
              "      <td>NaN</td>\n",
              "      <td>NaN</td>\n",
              "      <td>NaN</td>\n",
              "      <td>0.0</td>\n",
              "      <td>NaN</td>\n",
              "      <td>NaN</td>\n",
              "      <td>0401</td>\n",
              "      <td>NaN</td>\n",
              "      <td>NaN</td>\n",
              "      <td>NaN</td>\n",
              "      <td>NaN</td>\n",
              "      <td>NaN</td>\n",
              "      <td>NaN</td>\n",
              "      <td>NaN</td>\n",
              "      <td>NaN</td>\n",
              "      <td>NaN</td>\n",
              "      <td>NaN</td>\n",
              "      <td>NaN</td>\n",
              "      <td>NaN</td>\n",
              "      <td>NaN</td>\n",
              "      <td>NaN</td>\n",
              "      <td>NaN</td>\n",
              "      <td>Outpatient</td>\n",
              "      <td>Yes</td>\n",
              "    </tr>\n",
              "    <tr>\n",
              "      <th>3</th>\n",
              "      <td>BENE15074</td>\n",
              "      <td>1932-06-01</td>\n",
              "      <td>NaN</td>\n",
              "      <td>2</td>\n",
              "      <td>1</td>\n",
              "      <td>0</td>\n",
              "      <td>39</td>\n",
              "      <td>470</td>\n",
              "      <td>12</td>\n",
              "      <td>12</td>\n",
              "      <td>1</td>\n",
              "      <td>2</td>\n",
              "      <td>1</td>\n",
              "      <td>2</td>\n",
              "      <td>2</td>\n",
              "      <td>2</td>\n",
              "      <td>1</td>\n",
              "      <td>1</td>\n",
              "      <td>2</td>\n",
              "      <td>2</td>\n",
              "      <td>2</td>\n",
              "      <td>0</td>\n",
              "      <td>0</td>\n",
              "      <td>870</td>\n",
              "      <td>210</td>\n",
              "      <td>CLM259984</td>\n",
              "      <td>2009-03-22</td>\n",
              "      <td>2009-03-22</td>\n",
              "      <td>PRV55912</td>\n",
              "      <td>30</td>\n",
              "      <td>PHY371570</td>\n",
              "      <td>NaN</td>\n",
              "      <td>PHY393406</td>\n",
              "      <td>NaN</td>\n",
              "      <td>NaN</td>\n",
              "      <td>0.0</td>\n",
              "      <td>NaN</td>\n",
              "      <td>NaN</td>\n",
              "      <td>V812</td>\n",
              "      <td>40390</td>\n",
              "      <td>NaN</td>\n",
              "      <td>NaN</td>\n",
              "      <td>NaN</td>\n",
              "      <td>NaN</td>\n",
              "      <td>NaN</td>\n",
              "      <td>NaN</td>\n",
              "      <td>NaN</td>\n",
              "      <td>NaN</td>\n",
              "      <td>NaN</td>\n",
              "      <td>NaN</td>\n",
              "      <td>NaN</td>\n",
              "      <td>NaN</td>\n",
              "      <td>NaN</td>\n",
              "      <td>NaN</td>\n",
              "      <td>Outpatient</td>\n",
              "      <td>Yes</td>\n",
              "    </tr>\n",
              "    <tr>\n",
              "      <th>4</th>\n",
              "      <td>BENE16973</td>\n",
              "      <td>1932-05-01</td>\n",
              "      <td>NaN</td>\n",
              "      <td>1</td>\n",
              "      <td>1</td>\n",
              "      <td>0</td>\n",
              "      <td>39</td>\n",
              "      <td>310</td>\n",
              "      <td>12</td>\n",
              "      <td>12</td>\n",
              "      <td>1</td>\n",
              "      <td>1</td>\n",
              "      <td>1</td>\n",
              "      <td>2</td>\n",
              "      <td>2</td>\n",
              "      <td>2</td>\n",
              "      <td>2</td>\n",
              "      <td>1</td>\n",
              "      <td>2</td>\n",
              "      <td>2</td>\n",
              "      <td>2</td>\n",
              "      <td>24000</td>\n",
              "      <td>2136</td>\n",
              "      <td>450</td>\n",
              "      <td>200</td>\n",
              "      <td>CLM565430</td>\n",
              "      <td>2009-09-06</td>\n",
              "      <td>2009-09-06</td>\n",
              "      <td>PRV55912</td>\n",
              "      <td>50</td>\n",
              "      <td>PHY365867</td>\n",
              "      <td>PHY327147</td>\n",
              "      <td>NaN</td>\n",
              "      <td>NaN</td>\n",
              "      <td>NaN</td>\n",
              "      <td>0.0</td>\n",
              "      <td>NaN</td>\n",
              "      <td>NaN</td>\n",
              "      <td>V7183</td>\n",
              "      <td>53081</td>\n",
              "      <td>78959</td>\n",
              "      <td>4280</td>\n",
              "      <td>E8788</td>\n",
              "      <td>78079</td>\n",
              "      <td>79902</td>\n",
              "      <td>25002</td>\n",
              "      <td>71848</td>\n",
              "      <td>NaN</td>\n",
              "      <td>NaN</td>\n",
              "      <td>NaN</td>\n",
              "      <td>NaN</td>\n",
              "      <td>NaN</td>\n",
              "      <td>NaN</td>\n",
              "      <td>NaN</td>\n",
              "      <td>Outpatient</td>\n",
              "      <td>Yes</td>\n",
              "    </tr>\n",
              "  </tbody>\n",
              "</table>\n",
              "</div>"
            ],
            "text/plain": [
              "      BeneID         DOB  DOD  ...  ClmProcedureCode_6  Claim_type PotentialFraud\n",
              "0  BENE11001  1943-01-01  NaN  ...                 NaN   Inpatient            Yes\n",
              "1  BENE12511  1944-09-01  NaN  ...                 NaN  Outpatient            Yes\n",
              "2  BENE14577  1935-10-01  NaN  ...                 NaN  Outpatient            Yes\n",
              "3  BENE15074  1932-06-01  NaN  ...                 NaN  Outpatient            Yes\n",
              "4  BENE16973  1932-05-01  NaN  ...                 NaN  Outpatient            Yes\n",
              "\n",
              "[5 rows x 56 columns]"
            ]
          },
          "metadata": {},
          "execution_count": 7
        }
      ]
    },
    {
      "cell_type": "markdown",
      "metadata": {
        "id": "tG6FCaT0Vraj"
      },
      "source": [
        ""
      ]
    },
    {
      "cell_type": "code",
      "metadata": {
        "colab": {
          "base_uri": "https://localhost:8080/"
        },
        "id": "oo9of8FgPXJX",
        "outputId": "273f4fc4-79b1-4d6f-cb1e-68dc38b7638e"
      },
      "source": [
        "final_train.shape"
      ],
      "execution_count": null,
      "outputs": [
        {
          "output_type": "execute_result",
          "data": {
            "text/plain": [
              "(558211, 56)"
            ]
          },
          "metadata": {},
          "execution_count": 8
        }
      ]
    },
    {
      "cell_type": "code",
      "metadata": {
        "colab": {
          "base_uri": "https://localhost:8080/"
        },
        "id": "VZkLAYgnN8KT",
        "outputId": "9c6e6349-dca1-4617-90dd-96ec4b2e3e4b"
      },
      "source": [
        "final_train.info()"
      ],
      "execution_count": null,
      "outputs": [
        {
          "output_type": "stream",
          "name": "stdout",
          "text": [
            "<class 'pandas.core.frame.DataFrame'>\n",
            "Int64Index: 558211 entries, 0 to 558210\n",
            "Data columns (total 56 columns):\n",
            " #   Column                           Non-Null Count   Dtype  \n",
            "---  ------                           --------------   -----  \n",
            " 0   BeneID                           558211 non-null  object \n",
            " 1   DOB                              558211 non-null  object \n",
            " 2   DOD                              4131 non-null    object \n",
            " 3   Gender                           558211 non-null  int64  \n",
            " 4   Race                             558211 non-null  int64  \n",
            " 5   RenalDiseaseIndicator            558211 non-null  object \n",
            " 6   State                            558211 non-null  int64  \n",
            " 7   County                           558211 non-null  int64  \n",
            " 8   NoOfMonths_PartACov              558211 non-null  int64  \n",
            " 9   NoOfMonths_PartBCov              558211 non-null  int64  \n",
            " 10  ChronicCond_Alzheimer            558211 non-null  int64  \n",
            " 11  ChronicCond_Heartfailure         558211 non-null  int64  \n",
            " 12  ChronicCond_KidneyDisease        558211 non-null  int64  \n",
            " 13  ChronicCond_Cancer               558211 non-null  int64  \n",
            " 14  ChronicCond_ObstrPulmonary       558211 non-null  int64  \n",
            " 15  ChronicCond_Depression           558211 non-null  int64  \n",
            " 16  ChronicCond_Diabetes             558211 non-null  int64  \n",
            " 17  ChronicCond_IschemicHeart        558211 non-null  int64  \n",
            " 18  ChronicCond_Osteoporasis         558211 non-null  int64  \n",
            " 19  ChronicCond_rheumatoidarthritis  558211 non-null  int64  \n",
            " 20  ChronicCond_stroke               558211 non-null  int64  \n",
            " 21  IPAnnualReimbursementAmt         558211 non-null  int64  \n",
            " 22  IPAnnualDeductibleAmt            558211 non-null  int64  \n",
            " 23  OPAnnualReimbursementAmt         558211 non-null  int64  \n",
            " 24  OPAnnualDeductibleAmt            558211 non-null  int64  \n",
            " 25  ClaimID                          558211 non-null  object \n",
            " 26  ClaimStartDt                     558211 non-null  object \n",
            " 27  ClaimEndDt                       558211 non-null  object \n",
            " 28  Provider                         558211 non-null  object \n",
            " 29  InscClaimAmtReimbursed           558211 non-null  int64  \n",
            " 30  AttendingPhysician               556703 non-null  object \n",
            " 31  OperatingPhysician               114447 non-null  object \n",
            " 32  OtherPhysician                   199736 non-null  object \n",
            " 33  AdmissionDt                      40474 non-null   object \n",
            " 34  ClmAdmitDiagnosisCode            145899 non-null  object \n",
            " 35  DeductibleAmtPaid                557312 non-null  float64\n",
            " 36  DischargeDt                      40474 non-null   object \n",
            " 37  DiagnosisGroupCode               40474 non-null   object \n",
            " 38  ClmDiagnosisCode_1               547758 non-null  object \n",
            " 39  ClmDiagnosisCode_2               362605 non-null  object \n",
            " 40  ClmDiagnosisCode_3               243055 non-null  object \n",
            " 41  ClmDiagnosisCode_4               164536 non-null  object \n",
            " 42  ClmDiagnosisCode_5               111924 non-null  object \n",
            " 43  ClmDiagnosisCode_6               84392 non-null   object \n",
            " 44  ClmDiagnosisCode_7               66177 non-null   object \n",
            " 45  ClmDiagnosisCode_8               53444 non-null   object \n",
            " 46  ClmDiagnosisCode_9               41815 non-null   object \n",
            " 47  ClmDiagnosisCode_10              5010 non-null    object \n",
            " 48  ClmProcedureCode_1               23310 non-null   float64\n",
            " 49  ClmProcedureCode_2               5490 non-null    float64\n",
            " 50  ClmProcedureCode_3               969 non-null     float64\n",
            " 51  ClmProcedureCode_4               118 non-null     float64\n",
            " 52  ClmProcedureCode_5               9 non-null       float64\n",
            " 53  ClmProcedureCode_6               0 non-null       float64\n",
            " 54  Claim_type                       558211 non-null  object \n",
            " 55  PotentialFraud                   558211 non-null  object \n",
            "dtypes: float64(7), int64(22), object(27)\n",
            "memory usage: 242.8+ MB\n"
          ]
        }
      ]
    },
    {
      "cell_type": "code",
      "metadata": {
        "colab": {
          "base_uri": "https://localhost:8080/"
        },
        "id": "X01ndGtbTSWt",
        "outputId": "ffe6b643-41f6-4918-86b9-6539a9644869"
      },
      "source": [
        "final_test.info()"
      ],
      "execution_count": null,
      "outputs": [
        {
          "output_type": "stream",
          "name": "stdout",
          "text": [
            "<class 'pandas.core.frame.DataFrame'>\n",
            "Int64Index: 135392 entries, 0 to 135391\n",
            "Data columns (total 55 columns):\n",
            " #   Column                           Non-Null Count   Dtype  \n",
            "---  ------                           --------------   -----  \n",
            " 0   BeneID                           135392 non-null  object \n",
            " 1   DOB                              135392 non-null  object \n",
            " 2   DOD                              1040 non-null    object \n",
            " 3   Gender                           135392 non-null  int64  \n",
            " 4   Race                             135392 non-null  int64  \n",
            " 5   RenalDiseaseIndicator            135392 non-null  object \n",
            " 6   State                            135392 non-null  int64  \n",
            " 7   County                           135392 non-null  int64  \n",
            " 8   NoOfMonths_PartACov              135392 non-null  int64  \n",
            " 9   NoOfMonths_PartBCov              135392 non-null  int64  \n",
            " 10  ChronicCond_Alzheimer            135392 non-null  int64  \n",
            " 11  ChronicCond_Heartfailure         135392 non-null  int64  \n",
            " 12  ChronicCond_KidneyDisease        135392 non-null  int64  \n",
            " 13  ChronicCond_Cancer               135392 non-null  int64  \n",
            " 14  ChronicCond_ObstrPulmonary       135392 non-null  int64  \n",
            " 15  ChronicCond_Depression           135392 non-null  int64  \n",
            " 16  ChronicCond_Diabetes             135392 non-null  int64  \n",
            " 17  ChronicCond_IschemicHeart        135392 non-null  int64  \n",
            " 18  ChronicCond_Osteoporasis         135392 non-null  int64  \n",
            " 19  ChronicCond_rheumatoidarthritis  135392 non-null  int64  \n",
            " 20  ChronicCond_stroke               135392 non-null  int64  \n",
            " 21  IPAnnualReimbursementAmt         135392 non-null  int64  \n",
            " 22  IPAnnualDeductibleAmt            135392 non-null  int64  \n",
            " 23  OPAnnualReimbursementAmt         135392 non-null  int64  \n",
            " 24  OPAnnualDeductibleAmt            135392 non-null  int64  \n",
            " 25  ClaimID                          135392 non-null  object \n",
            " 26  ClaimStartDt                     135392 non-null  object \n",
            " 27  ClaimEndDt                       135392 non-null  object \n",
            " 28  Provider                         135392 non-null  object \n",
            " 29  InscClaimAmtReimbursed           135392 non-null  int64  \n",
            " 30  AttendingPhysician               135045 non-null  object \n",
            " 31  OperatingPhysician               27193 non-null   object \n",
            " 32  OtherPhysician                   48632 non-null   object \n",
            " 33  AdmissionDt                      9551 non-null    object \n",
            " 34  ClmAdmitDiagnosisCode            35356 non-null   object \n",
            " 35  DeductibleAmtPaid                135196 non-null  float64\n",
            " 36  DischargeDt                      9551 non-null    object \n",
            " 37  DiagnosisGroupCode               9551 non-null    object \n",
            " 38  ClmDiagnosisCode_1               132814 non-null  object \n",
            " 39  ClmDiagnosisCode_2               87607 non-null   object \n",
            " 40  ClmDiagnosisCode_3               58648 non-null   object \n",
            " 41  ClmDiagnosisCode_4               39617 non-null   object \n",
            " 42  ClmDiagnosisCode_5               26798 non-null   object \n",
            " 43  ClmDiagnosisCode_6               20160 non-null   object \n",
            " 44  ClmDiagnosisCode_7               15785 non-null   object \n",
            " 45  ClmDiagnosisCode_8               12722 non-null   object \n",
            " 46  ClmDiagnosisCode_9               9876 non-null    object \n",
            " 47  ClmDiagnosisCode_10              1150 non-null    object \n",
            " 48  ClmProcedureCode_1               5467 non-null    float64\n",
            " 49  ClmProcedureCode_2               1263 non-null    float64\n",
            " 50  ClmProcedureCode_3               225 non-null     float64\n",
            " 51  ClmProcedureCode_4               29 non-null      float64\n",
            " 52  ClmProcedureCode_5               2 non-null       float64\n",
            " 53  ClmProcedureCode_6               0 non-null       float64\n",
            " 54  Claim_type                       135392 non-null  object \n",
            "dtypes: float64(7), int64(22), object(26)\n",
            "memory usage: 57.8+ MB\n"
          ]
        }
      ]
    },
    {
      "cell_type": "markdown",
      "metadata": {
        "id": "TjK4ZaZ6SYMX"
      },
      "source": [
        "**Usage of the date variables:**"
      ]
    },
    {
      "cell_type": "code",
      "metadata": {
        "id": "BFEtIv_TN8Mc"
      },
      "source": [
        "# Convert the column Date into Datetime64 datatype\n",
        "final_train['ClaimStartDt'] = pd.to_datetime(final_train['ClaimStartDt'], format = '%Y-%m-%d')\n",
        "final_train['ClaimEndDt'] = pd.to_datetime(final_train['ClaimEndDt'], format = '%Y-%m-%d')\n",
        "final_test['ClaimStartDt'] = pd.to_datetime(final_test['ClaimStartDt'], format = '%Y-%m-%d')\n",
        "final_test['ClaimEndDt'] = pd.to_datetime(final_test['ClaimEndDt'], format = '%Y-%m-%d')"
      ],
      "execution_count": null,
      "outputs": []
    },
    {
      "cell_type": "code",
      "metadata": {
        "id": "qOqNaFrCWRa-"
      },
      "source": [
        "#train\n",
        "final_train['ClaimStartDay']=final_train.ClaimStartDt.dt.day\n",
        "final_train['ClaimStartMonth']=final_train.ClaimStartDt.dt.month\n",
        "final_train['ClaimStartYear']=final_train.ClaimStartDt.dt.year\n",
        "final_train['ClaimEndDay']=final_train.ClaimEndDt.dt.day\n",
        "final_train['ClaimEndMonth']=final_train.ClaimEndDt.dt.month\n",
        "final_train['ClaimEndYear']=final_train.ClaimEndDt.dt.year\n",
        "#test\n",
        "final_test['ClaimStartDay']=final_test.ClaimStartDt.dt.day\n",
        "final_test['ClaimStartMonth']=final_test.ClaimStartDt.dt.month\n",
        "final_test['ClaimStartYear']=final_test.ClaimStartDt.dt.year\n",
        "final_test['ClaimEndDay']=final_test.ClaimEndDt.dt.day\n",
        "final_test['ClaimEndMonth']=final_test.ClaimEndDt.dt.month\n",
        "final_test['ClaimEndYear']=final_test.ClaimEndDt.dt.year\n"
      ],
      "execution_count": null,
      "outputs": []
    },
    {
      "cell_type": "code",
      "metadata": {
        "id": "zmAQ6BqqRi5A",
        "colab": {
          "base_uri": "https://localhost:8080/"
        },
        "outputId": "aab99d65-c971-496b-8f3d-5a0f58396bb5"
      },
      "source": [
        "final_train['ClaimDuration']= final_train['ClaimEndDt']-final_train['ClaimStartDt']\n",
        "final_test['ClaimDuration']= final_test['ClaimEndDt']-final_test['ClaimStartDt']"
      ],
      "execution_count": null,
      "outputs": [
        {
          "output_type": "execute_result",
          "data": {
            "text/plain": [
              "0         6 days\n",
              "1         0 days\n",
              "2         0 days\n",
              "3         0 days\n",
              "4         0 days\n",
              "           ...  \n",
              "558206    0 days\n",
              "558207   20 days\n",
              "558208    0 days\n",
              "558209    0 days\n",
              "558210    7 days\n",
              "Name: ClaimDuration, Length: 558211, dtype: timedelta64[ns]"
            ]
          },
          "metadata": {},
          "execution_count": 24
        }
      ]
    },
    {
      "cell_type": "code",
      "metadata": {
        "id": "O754ZE3OQBNZ"
      },
      "source": [
        "model_train=final_train[['IPAnnualReimbursementAmt', 'IPAnnualDeductibleAmt', 'OPAnnualReimbursementAmt', 'OPAnnualDeductibleAmt', 'ClaimDuration', 'Claim_type', 'InscClaimAmtReimbursed', 'PotentialFraud']]\n",
        "model_test=final_test[['IPAnnualReimbursementAmt', 'IPAnnualDeductibleAmt', 'OPAnnualReimbursementAmt', 'OPAnnualDeductibleAmt', 'ClaimDuration', 'Claim_type', 'InscClaimAmtReimbursed']]"
      ],
      "execution_count": null,
      "outputs": []
    },
    {
      "cell_type": "code",
      "metadata": {
        "id": "4o94yxQyWa0u",
        "colab": {
          "base_uri": "https://localhost:8080/"
        },
        "outputId": "0dd39fa5-ed02-408f-bdc2-166d2149ee4d"
      },
      "source": [
        "model_train.info()"
      ],
      "execution_count": null,
      "outputs": [
        {
          "output_type": "stream",
          "name": "stdout",
          "text": [
            "<class 'pandas.core.frame.DataFrame'>\n",
            "Int64Index: 558211 entries, 0 to 558210\n",
            "Data columns (total 8 columns):\n",
            " #   Column                    Non-Null Count   Dtype          \n",
            "---  ------                    --------------   -----          \n",
            " 0   IPAnnualReimbursementAmt  558211 non-null  int64          \n",
            " 1   IPAnnualDeductibleAmt     558211 non-null  int64          \n",
            " 2   OPAnnualReimbursementAmt  558211 non-null  int64          \n",
            " 3   OPAnnualDeductibleAmt     558211 non-null  int64          \n",
            " 4   ClaimDuration             558211 non-null  timedelta64[ns]\n",
            " 5   Claim_type                558211 non-null  object         \n",
            " 6   InscClaimAmtReimbursed    558211 non-null  int64          \n",
            " 7   PotentialFraud            558211 non-null  object         \n",
            "dtypes: int64(5), object(2), timedelta64[ns](1)\n",
            "memory usage: 38.3+ MB\n"
          ]
        }
      ]
    },
    {
      "cell_type": "code",
      "metadata": {
        "id": "gbEhMlsurqVd",
        "colab": {
          "base_uri": "https://localhost:8080/"
        },
        "outputId": "52e5ad36-61f9-469e-ee47-f258f10c4a17"
      },
      "source": [
        "model_train['Claim_type']=model_train['Claim_type'].replace({'Inpatient' : 0, 'Outpatient' : 1 })\n",
        "model_test['Claim_type']=model_test['Claim_type'].replace({'Inpatient' : 0, 'Outpatient' : 1 })\n",
        "model_train['PotentialFraud']=pd.get_dummies(model_train['PotentialFraud'])"
      ],
      "execution_count": null,
      "outputs": [
        {
          "output_type": "stream",
          "name": "stderr",
          "text": [
            "/usr/local/lib/python3.7/dist-packages/ipykernel_launcher.py:1: SettingWithCopyWarning: \n",
            "A value is trying to be set on a copy of a slice from a DataFrame.\n",
            "Try using .loc[row_indexer,col_indexer] = value instead\n",
            "\n",
            "See the caveats in the documentation: https://pandas.pydata.org/pandas-docs/stable/user_guide/indexing.html#returning-a-view-versus-a-copy\n",
            "  \"\"\"Entry point for launching an IPython kernel.\n",
            "/usr/local/lib/python3.7/dist-packages/ipykernel_launcher.py:2: SettingWithCopyWarning: \n",
            "A value is trying to be set on a copy of a slice from a DataFrame.\n",
            "Try using .loc[row_indexer,col_indexer] = value instead\n",
            "\n",
            "See the caveats in the documentation: https://pandas.pydata.org/pandas-docs/stable/user_guide/indexing.html#returning-a-view-versus-a-copy\n",
            "  \n",
            "/usr/local/lib/python3.7/dist-packages/ipykernel_launcher.py:3: SettingWithCopyWarning: \n",
            "A value is trying to be set on a copy of a slice from a DataFrame.\n",
            "Try using .loc[row_indexer,col_indexer] = value instead\n",
            "\n",
            "See the caveats in the documentation: https://pandas.pydata.org/pandas-docs/stable/user_guide/indexing.html#returning-a-view-versus-a-copy\n",
            "  This is separate from the ipykernel package so we can avoid doing imports until\n"
          ]
        }
      ]
    },
    {
      "cell_type": "code",
      "metadata": {
        "id": "bnT52_Uid_El",
        "colab": {
          "base_uri": "https://localhost:8080/"
        },
        "outputId": "f518f04f-dc62-4f39-ede3-80395f37fbf1"
      },
      "source": [
        "model_train['Claim_type']=pd.get_dummies(model_train['Claim_type'])\n",
        "model_test['Claim_type']=pd.get_dummies(model_test['Claim_type'])\n",
        "model_train['PotentialFraud']=pd.get_dummies(model_train['PotentialFraud'])"
      ],
      "execution_count": null,
      "outputs": [
        {
          "output_type": "stream",
          "name": "stderr",
          "text": [
            "/usr/local/lib/python3.7/dist-packages/ipykernel_launcher.py:1: SettingWithCopyWarning: \n",
            "A value is trying to be set on a copy of a slice from a DataFrame.\n",
            "Try using .loc[row_indexer,col_indexer] = value instead\n",
            "\n",
            "See the caveats in the documentation: https://pandas.pydata.org/pandas-docs/stable/user_guide/indexing.html#returning-a-view-versus-a-copy\n",
            "  \"\"\"Entry point for launching an IPython kernel.\n",
            "/usr/local/lib/python3.7/dist-packages/ipykernel_launcher.py:2: SettingWithCopyWarning: \n",
            "A value is trying to be set on a copy of a slice from a DataFrame.\n",
            "Try using .loc[row_indexer,col_indexer] = value instead\n",
            "\n",
            "See the caveats in the documentation: https://pandas.pydata.org/pandas-docs/stable/user_guide/indexing.html#returning-a-view-versus-a-copy\n",
            "  \n"
          ]
        }
      ]
    },
    {
      "cell_type": "code",
      "metadata": {
        "id": "dhBgdcawkYiB",
        "colab": {
          "base_uri": "https://localhost:8080/"
        },
        "outputId": "97519b50-52e7-4b7c-e3b9-b201402e9e2f"
      },
      "source": [
        "model_train['ClaimDuration'] = model_train['ClaimDuration'].dt.days\n",
        "model_test['ClaimDuration'] = model_test['ClaimDuration'].dt.days"
      ],
      "execution_count": null,
      "outputs": [
        {
          "output_type": "stream",
          "name": "stderr",
          "text": [
            "/usr/local/lib/python3.7/dist-packages/ipykernel_launcher.py:1: SettingWithCopyWarning: \n",
            "A value is trying to be set on a copy of a slice from a DataFrame.\n",
            "Try using .loc[row_indexer,col_indexer] = value instead\n",
            "\n",
            "See the caveats in the documentation: https://pandas.pydata.org/pandas-docs/stable/user_guide/indexing.html#returning-a-view-versus-a-copy\n",
            "  \"\"\"Entry point for launching an IPython kernel.\n",
            "/usr/local/lib/python3.7/dist-packages/ipykernel_launcher.py:2: SettingWithCopyWarning: \n",
            "A value is trying to be set on a copy of a slice from a DataFrame.\n",
            "Try using .loc[row_indexer,col_indexer] = value instead\n",
            "\n",
            "See the caveats in the documentation: https://pandas.pydata.org/pandas-docs/stable/user_guide/indexing.html#returning-a-view-versus-a-copy\n",
            "  \n"
          ]
        }
      ]
    },
    {
      "cell_type": "code",
      "metadata": {
        "id": "BnmfTit7V5Lf"
      },
      "source": [
        "target = model_train['PotentialFraud']\n",
        "model_train = model_train.drop(['PotentialFraud'], axis=1)"
      ],
      "execution_count": null,
      "outputs": []
    },
    {
      "cell_type": "code",
      "metadata": {
        "id": "CPEVUPCTW-kL"
      },
      "source": [
        "model = LogisticRegression(solver='liblinear', random_state=0)"
      ],
      "execution_count": null,
      "outputs": []
    },
    {
      "cell_type": "code",
      "metadata": {
        "id": "xHE-OKMfXBsD",
        "colab": {
          "base_uri": "https://localhost:8080/"
        },
        "outputId": "20a028e5-7f07-4fc6-c90e-2ecf65b61f2b"
      },
      "source": [
        "model.fit(model_train, target)\n"
      ],
      "execution_count": null,
      "outputs": [
        {
          "output_type": "execute_result",
          "data": {
            "text/plain": [
              "LogisticRegression(random_state=0, solver='liblinear')"
            ]
          },
          "metadata": {},
          "execution_count": 58
        }
      ]
    },
    {
      "cell_type": "code",
      "metadata": {
        "id": "baf5lHtHlhre"
      },
      "source": [
        "x_pred=model.predict(model_train)\n",
        "y_pred=model.predict(model_test)"
      ],
      "execution_count": null,
      "outputs": []
    },
    {
      "cell_type": "code",
      "metadata": {
        "id": "E7pOryZoYA73",
        "colab": {
          "base_uri": "https://localhost:8080/"
        },
        "outputId": "8f634662-521a-4d3b-8a6f-d580d176aa7a"
      },
      "source": [
        "from sklearn.metrics import accuracy_score\n",
        "accuracy_score(target, x_pred)"
      ],
      "execution_count": null,
      "outputs": [
        {
          "output_type": "execute_result",
          "data": {
            "text/plain": [
              "0.6249357321872911"
            ]
          },
          "metadata": {},
          "execution_count": 62
        }
      ]
    },
    {
      "cell_type": "code",
      "metadata": {
        "colab": {
          "base_uri": "https://localhost:8080/",
          "height": 74
        },
        "id": "9voehcCsTziC",
        "outputId": "e6fc66c9-fdfe-4161-b213-84deaeb9e1bf"
      },
      "source": [
        "wandb.init(project=\"visualize-sklearn\")"
      ],
      "execution_count": 31,
      "outputs": [
        {
          "output_type": "stream",
          "name": "stderr",
          "text": [
            "\u001b[34m\u001b[1mwandb\u001b[0m: Currently logged in as: \u001b[33mds_duo\u001b[0m (use `wandb login --relogin` to force relogin)\n"
          ]
        },
        {
          "output_type": "display_data",
          "data": {
            "text/html": [
              "\n",
              "                    Syncing run <strong><a href=\"https://wandb.ai/ds_duo/visualize-sklearn/runs/18oznjni\" target=\"_blank\">logical-serenity-1</a></strong> to <a href=\"https://wandb.ai/ds_duo/visualize-sklearn\" target=\"_blank\">Weights & Biases</a> (<a href=\"https://docs.wandb.com/integrations/jupyter.html\" target=\"_blank\">docs</a>).<br/>\n",
              "\n",
              "                "
            ],
            "text/plain": [
              "<IPython.core.display.HTML object>"
            ]
          },
          "metadata": {}
        },
        {
          "output_type": "execute_result",
          "data": {
            "text/plain": [
              "<wandb.sdk.wandb_run.Run at 0x7fae75a12fd0>"
            ],
            "text/html": [
              "<button onClick=\"this.nextSibling.style.display='block';this.style.display='none';\">Display W&B run</button><iframe src=\"https://wandb.ai/ds_duo/visualize-sklearn/runs/18oznjni?jupyter=true\" style=\"border:none;width:100%;height:420px;display:none;\"></iframe>"
            ]
          },
          "metadata": {},
          "execution_count": 31
        }
      ]
    },
    {
      "cell_type": "code",
      "metadata": {
        "id": "W7KS0wz4T2Ft"
      },
      "source": [
        "wandb.sklearn.plot_confusion_matrix(target, x_pred)"
      ],
      "execution_count": 32,
      "outputs": []
    },
    {
      "cell_type": "code",
      "metadata": {
        "id": "pxa_j_w3UtCd"
      },
      "source": [
        "wandb.sklearn.plot_classifier(clf, X_train, X_test, y_train, y_test, y_pred, y_probas, labels,\n",
        "                                                         model_name='SVC', feature_names=None)"
      ],
      "execution_count": null,
      "outputs": []
    },
    {
      "cell_type": "code",
      "metadata": {
        "id": "uFbvfNRoU8PF"
      },
      "source": [
        "wandb.sklearn.plot_learning_curve(model, model_train, target)"
      ],
      "execution_count": 34,
      "outputs": []
    },
    {
      "cell_type": "code",
      "metadata": {
        "id": "7UA6WhATWI3t",
        "outputId": "aec3ed2b-c054-4ef5-b322-de1b16c83a9f",
        "colab": {
          "base_uri": "https://localhost:8080/"
        }
      },
      "source": [
        "y_proba=model.predict_proba(model_train)\n",
        "y_proba"
      ],
      "execution_count": 36,
      "outputs": [
        {
          "output_type": "execute_result",
          "data": {
            "text/plain": [
              "array([[0.40576962, 0.59423038],\n",
              "       [0.63311377, 0.36688623],\n",
              "       [0.63304212, 0.36695788],\n",
              "       ...,\n",
              "       [0.41931585, 0.58068415],\n",
              "       [0.42402954, 0.57597046],\n",
              "       [0.42727237, 0.57272763]])"
            ]
          },
          "metadata": {},
          "execution_count": 36
        }
      ]
    },
    {
      "cell_type": "code",
      "metadata": {
        "id": "URjy7P1rWI6G",
        "outputId": "9da3b2ca-cacf-4603-d0b4-6f95714d520d",
        "colab": {
          "base_uri": "https://localhost:8080/"
        }
      },
      "source": [
        "wandb.sklearn.plot_roc(target, y_proba, target)"
      ],
      "execution_count": 38,
      "outputs": [
        {
          "output_type": "stream",
          "name": "stderr",
          "text": [
            "\u001b[34m\u001b[1mwandb\u001b[0m: \u001b[33mWARNING\u001b[0m wandb uses only the first 10000 datapoints to create the plots.\n",
            "\u001b[34m\u001b[1mwandb\u001b[0m: \u001b[33mWARNING\u001b[0m wandb uses only the first 10000 datapoints to create the plots.\n"
          ]
        }
      ]
    }
  ]
}